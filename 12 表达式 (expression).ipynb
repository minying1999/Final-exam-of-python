{
 "cells": [
  {
   "cell_type": "markdown",
   "metadata": {},
   "source": [
    "# 第 12 课 表达式 (expression)"
   ]
  },
  {
   "cell_type": "code",
   "execution_count": null,
   "metadata": {},
   "outputs": [],
   "source": [
    "from IPython.core.interactiveshell import InteractiveShell\n",
    "InteractiveShell.ast_node_interactivity = 'all'"
   ]
  },
  {
   "cell_type": "markdown",
   "metadata": {},
   "source": [
    "## 学习任务\n",
    "本周是第 14 周。请⼀边阅读以下讲义，⼀边输⼊代码练习。本讲义特意将 Python 输出全部隐去，就\n",
    "是希望同学们亲⼿输⼊代码，亲眼观看程序输出，这样才能收获经验。本讲义中的练习题将构成期末闭\n",
    "卷考试 (占期末总评 60%) 的题库，所以请务必认真对待学习任务，不能按时完成任务者后果⾃负。\n",
    "\n",
    "\n",
    "这⼀周我们开始全⾯学习 Python 的表达式和运算符。`表达式 (expression)` 由字⾯值 (literal)、变量名\n",
    "(variable name, or identifier) 和运算符 (operator) 依据 `语法 (syntax)`排列组合⽽成，可以 完成某个\n",
    "`操作 (operation)`，必然 `计算 (evaluate)` 为某个值 (object) (可以为 None)。\n",
    "\n",
    "在 Python 交互\n",
    "(interactive) 模式下，每键⼊⼀个表达式 (expression)，解释器 (interpreter) 就会进⾏相应的操作\n",
    "(operation)，并返回计算 (evaluate) 出的值 (object)，最后将其所 `表现 `(representation) 的字符串 (str)\n",
    "显示在终端 (terminal) 上。这种循环性的交互过程 (interaction) 被称为` REPL (read-eval-print-loop)。`\n",
    "例如："
   ]
  },
  {
   "cell_type": "markdown",
   "metadata": {},
   "source": [
    "# 目录"
   ]
  },
  {
   "cell_type": "markdown",
   "metadata": {},
   "source": [
    "[1.原⼦级 (atoms) 表达式](#1.原⼦级(atoms)表达式)    \n",
    "\n",
    "[2.基础级(primaries)表达式](#2.基础级(primaries)表达式)\n",
    "\n",
    "[3.运算符(operators)表达式](#3.运算符(operators)表达式)\n",
    "\n",
    "[4.三元条件表达式](#4.三元条件表达式)\n",
    "\n",
    "[5.Lambda表达式](#5.Lambda表达式)\n",
    "\n",
    "## [6.自测题](6.⾃测题)"
   ]
  },
  {
   "cell_type": "markdown",
   "metadata": {},
   "source": [
    "[高级函数](#高阶函数)\n",
    "\n",
    "[逻辑⽐较运算符](#逻辑⽐较运算符)\n",
    "\n",
    "[图：几个常用内置数据类型所属的抽象基类](#几个常用内置数据类型所属的抽象基类)"
   ]
  },
  {
   "cell_type": "markdown",
   "metadata": {},
   "source": [
    "#### 总结\n",
    "\n",
    "[python 并集union, 交集intersection, 差集difference](https://blog.csdn.net/lanyang123456/article/details/77596349)\n",
    "\n",
    "\n",
    "[nb内python并集交集差集](#python并集交集差集)\n",
    "\n",
    "[python中chr()函数和ord()函数的用法](https://www.cnblogs.com/chaojiyingxiong/p/9169458.html)\n",
    "\n",
    "[Python_isinstance()函数](#Python_isinstance()函数)\n",
    "\n",
    "[整数，实数，复数](#整数，实数，复数)\n",
    "\n",
    "[Python字典:pop()方法](#Python字典:pop()方法)\n",
    "\n",
    "[python3排序,sorted,key=lambda](#python3排序,sorted,key=lambda)"
   ]
  },
  {
   "cell_type": "markdown",
   "metadata": {},
   "source": [
    "[List基本用法](https://www.cnblogs.com/testxiang/p/9537158.html)"
   ]
  },
  {
   "cell_type": "markdown",
   "metadata": {},
   "source": [
    "`由⼀个字符串字⾯值构成的简单的表达式，注意输出的计算结果"
   ]
  },
  {
   "cell_type": "code",
   "execution_count": null,
   "metadata": {
    "scrolled": true
   },
   "outputs": [],
   "source": [
    "'hello'"
   ]
  },
  {
   "cell_type": "markdown",
   "metadata": {},
   "source": [
    " 'hello' 是字⾯值，. 是运算符，upper 是字符串对象的属性名，() 是运算符，注意输出的计算结果"
   ]
  },
  {
   "cell_type": "code",
   "execution_count": null,
   "metadata": {},
   "outputs": [],
   "source": [
    "'hello'.upper()"
   ]
  },
  {
   "cell_type": "markdown",
   "metadata": {},
   "source": [
    " 以上两例都只有计算，没有操作"
   ]
  },
  {
   "cell_type": "markdown",
   "metadata": {},
   "source": [
    "s = 'hello'.upper()键⼊的是⼀条赋值语句，不是表达式，所以没有任何输出，尽管\n",
    "= 右边是表达式"
   ]
  },
  {
   "cell_type": "markdown",
   "metadata": {},
   "source": [
    "s.title()只有计算，没有操作,并没有改变s的值"
   ]
  },
  {
   "cell_type": "code",
   "execution_count": null,
   "metadata": {
    "scrolled": true
   },
   "outputs": [],
   "source": [
    "s = 'hello'.upper() \n",
    "#s.upper()\n",
    "s\n",
    "s2=s+'world'\n",
    "s2\n",
    "type(s2)\n",
    "s.title()\n",
    "s2=s.capitalize()\n",
    "s2"
   ]
  },
  {
   "cell_type": "code",
   "execution_count": null,
   "metadata": {},
   "outputs": [],
   "source": [
    "def str_add(a,b):\n",
    "    return str(a)+str(b)\n",
    "s = 'hello'.upper() \n",
    "s\n",
    "s2=add(s,'\\n world')\n",
    "\"s\"+\"\\n\"+\"d\"\n",
    "s2\n",
    "print(s2)"
   ]
  },
  {
   "cell_type": "code",
   "execution_count": null,
   "metadata": {
    "scrolled": true
   },
   "outputs": [],
   "source": [
    "f = open('file1.txt', 'w+') # 赋值语句，= 右边是表达式\n",
    "f # 这样也可以查看到上⼀句中表达式所计算出的结果 (⽂件对象)\n",
    "f.write('hello world') # 这个表达式既有操作，⼜有返回值\n",
    "#f.flush() # 这个表达式有操作，但返回值是 None 对象，所以没有在终端上输出"
   ]
  },
  {
   "cell_type": "markdown",
   "metadata": {},
   "source": [
    "f.write返回的是变量或者字符串的长度"
   ]
  },
  {
   "cell_type": "code",
   "execution_count": null,
   "metadata": {},
   "outputs": [],
   "source": [
    "r = f.close() # 等号右边的表达式有操作，返回值是 None\n",
    "r # None 对象不被 REPL 显示\n",
    "print(r) # 调⽤ print 函数可以看到 r 是 None\n",
    "r is None # is 是⼀个运算符，⽤来⽐较两对象 id 是否相等；可以看到 r 确实是 None"
   ]
  },
  {
   "cell_type": "markdown",
   "metadata": {},
   "source": [
    "f.close() 有返回值，但是返回值是None，但是REPL过程不显示None"
   ]
  },
  {
   "cell_type": "markdown",
   "metadata": {},
   "source": [
    "`表达式 (expression) `是本课程 ⾄关重要 的⼀部分内容，接下来我们将较为全⾯地介绍⼀遍 最基本的 各\n",
    "种表达式 (expression) `语法 (syntax)`，按计算 (evaluate) 的` 优先级 (priority)` 依次展开。"
   ]
  },
  {
   "cell_type": "markdown",
   "metadata": {},
   "source": [
    "## 1.原⼦级(atoms)表达式\n"
   ]
  },
  {
   "cell_type": "markdown",
   "metadata": {},
   "source": [
    "###### 原⼦级(atoms)表达式"
   ]
  },
  {
   "cell_type": "markdown",
   "metadata": {},
   "source": [
    "原⼦级 (atoms) 的表达式包括三种：1. 字⾯值 (literals)，2. 变量名 (variable name, or identifier)，3.\n",
    "围场 (enclosure)。由于字⾯值 (literals) 和变量 (variable) 我们已经⽐较了解，接下来只介绍各种重要\n",
    "的围场 (enclosure) 语法 (syntax)。"
   ]
  },
  {
   "cell_type": "markdown",
   "metadata": {},
   "source": [
    "#### 1.1 ⽅括号 (brackets) 围场\n",
    "⽅括号 (brackets) 围场 (enclosure) 就是⽤⽅括号符号 [] 包围起来的原⼦级 (atomic) 表达式\n",
    "(expression)\n",
    "\n",
    "⽤来创建⼀个 列表 (list) 对象。列表 (list) 对象 (object) 的类型 (type) 是内置类型 (built-in type) list ，是 四个 最基本的内置 (built-in) 容器 (container) 类型——列表 (list)、字典 (dict)、集\n",
    "合 (set)、元组 (tuple) 其中之⼀。列表 (list) 是⼀种 序列 (sequence)，可以容纳多个 计算出的\n",
    "(evaluated) 对象 (object)，可以` 解包 (unpack)、提取 (subscription)、切⽚ (slicing) 或 迭代 (iterate)。\n",
    "列表是 可变的 (mutable)，可以插⼊ (insert) 和删除 (remove) 元素，`尤其可以⾼效地 (efficiently) 在`尾部追加 (append) 或弹出 (pop) 元素`"
   ]
  },
  {
   "cell_type": "markdown",
   "metadata": {},
   "source": [
    "<font size = 3, color = red>\n",
    "因此其`主要⽤途`是被⽤作`可变的 (mutable) 序列 (sequence)`，尤\n",
    "其是作为 `堆栈 (stack)`，即⼀种 `后进先出 (last in first out, LIFO)` 的数据结构\n",
    "<font>"
   ]
  },
  {
   "cell_type": "markdown",
   "metadata": {},
   "source": [
    "⽅括号 (brackets) 围场 (enclosure) 允许两种不同语法 (syntax)，\n",
    "\n",
    "`1. 列表陈列式 (list display`)，\n",
    "\n",
    "`2. 列表推导式 (list comprehension)`，下⾯分别讲述。"
   ]
  },
  {
   "cell_type": "code",
   "execution_count": null,
   "metadata": {},
   "outputs": [],
   "source": [
    "import collections.abc as coll"
   ]
  },
  {
   "cell_type": "markdown",
   "metadata": {},
   "source": [
    "#### 列表陈列式"
   ]
  },
  {
   "cell_type": "markdown",
   "metadata": {},
   "source": [
    "列表陈列式 (list display) 语法 (syntax) 是把构成列表 (list) 的表达式 (expression) 明确地按顺序陈列在\n",
    "⽅括号 (brackets) 内，⽤逗号 (comma) 分隔。"
   ]
  },
  {
   "cell_type": "code",
   "execution_count": null,
   "metadata": {},
   "outputs": [],
   "source": [
    "l = ['a', 'b', 'c']\n",
    "type(l)\n",
    "type(l) is list"
   ]
  },
  {
   "cell_type": "code",
   "execution_count": null,
   "metadata": {},
   "outputs": [],
   "source": [
    "isinstance(l, coll.Container) # 是容器\n",
    "isinstance(l, coll.Sequence) # 是序列\n",
    "isinstance(l, coll.Iterable) # 可迭代"
   ]
  },
  {
   "cell_type": "markdown",
   "metadata": {},
   "source": [
    "#### 解包"
   ]
  },
  {
   "cell_type": "code",
   "execution_count": null,
   "metadata": {
    "scrolled": true
   },
   "outputs": [],
   "source": [
    "x, y, z = l\n",
    "x\n",
    "x,y,z"
   ]
  },
  {
   "cell_type": "markdown",
   "metadata": {},
   "source": [
    "#### 提取和切片"
   ]
  },
  {
   "cell_type": "code",
   "execution_count": null,
   "metadata": {
    "scrolled": true
   },
   "outputs": [],
   "source": [
    "l[-1]\n",
    "l[:2]"
   ]
  },
  {
   "cell_type": "markdown",
   "metadata": {},
   "source": [
    "迭代"
   ]
  },
  {
   "cell_type": "code",
   "execution_count": null,
   "metadata": {
    "scrolled": true
   },
   "outputs": [],
   "source": [
    "for c in l: # 迭代\n",
    "    print(c*5)"
   ]
  },
  {
   "cell_type": "markdown",
   "metadata": {},
   "source": [
    "#### 插⼊和删除"
   ]
  },
  {
   "cell_type": "code",
   "execution_count": null,
   "metadata": {},
   "outputs": [],
   "source": [
    "l=['a','b','c']\n",
    "l.insert(1, 'x') # 插⼊，有操作，返回 None\n",
    "l"
   ]
  },
  {
   "cell_type": "code",
   "execution_count": null,
   "metadata": {},
   "outputs": [],
   "source": [
    "l=['a','b','c']\n",
    "l.remove('b') # 删除，有操作，返回 None\n",
    "l"
   ]
  },
  {
   "cell_type": "code",
   "execution_count": null,
   "metadata": {
    "scrolled": true
   },
   "outputs": [],
   "source": [
    "l=['a','b','c']\n",
    "l\n",
    "l.append(9) # 追加，有操作，返回 None\n",
    "l2=l.append(9)\n",
    "l2\n",
    "print(l2)\n",
    "l2 is None\n",
    "l.pop() # 弹出，有操作，返回被弹出的尾部元素"
   ]
  },
  {
   "cell_type": "markdown",
   "metadata": {},
   "source": [
    "#### 列表推导式"
   ]
  },
  {
   "cell_type": "markdown",
   "metadata": {},
   "source": [
    "`列表推导式 (list comprehension) `的语法 (syntax) 是在⽅括号 (brackets) 围场 (enclosure) 内写推导式\n",
    "(comprehension)，解释器 (interpreter) 会迭代地 (iteratively) 计算 (evaluate) 出每⼀个元素，由此创\n",
    "建出列表 (list) 对象。例如："
   ]
  },
  {
   "cell_type": "code",
   "execution_count": null,
   "metadata": {},
   "outputs": [],
   "source": [
    "l = [i**2 for i in range(5)] # 列表推导式\n",
    "l # 查看 l 的计算结果"
   ]
  },
  {
   "cell_type": "code",
   "execution_count": null,
   "metadata": {},
   "outputs": [],
   "source": [
    "g = (i**2 for i in range(5)) # 作为对⽐，⽣成器表达式语法\n",
    "g # 看不到 g 的计算结果，因为⽣成器并不⽴即计算\n",
    "type(g)\n",
    "for i in g:\n",
    "    print(i)"
   ]
  },
  {
   "cell_type": "code",
   "execution_count": null,
   "metadata": {},
   "outputs": [],
   "source": [
    "ng = {print(c) for c in 'hello'}\n",
    "type(ng)"
   ]
  },
  {
   "cell_type": "code",
   "execution_count": null,
   "metadata": {},
   "outputs": [],
   "source": [
    "ng = [print(c) for c in 'hello'] # 作为对⽐，注意⽴即 print\n",
    "type(ng)\n",
    "ng\n",
    "ng is None # 计算结果被保存进列表"
   ]
  },
  {
   "cell_type": "markdown",
   "metadata": {},
   "source": [
    "#### 推导式的语法\n",
    "推导式 (comprehension) 语法 (syntax) 可⽤于`⽅括号 (brackets)、花括号 (braces)、圆括号\n",
    "(parenthesis)` 等各种围场 (enclosure)。现仅以列表推导式 (list comprehension) 为例，介绍推导式\n",
    "(comprehension) 的具体语法 (syntax)。在花括号 (braces) 和圆括号 (parenthesis) 围场 (enclosure)\n",
    "中，推导式 (comprehension) 的⽤法`完全相同`。"
   ]
  },
  {
   "cell_type": "code",
   "execution_count": null,
   "metadata": {},
   "outputs": [],
   "source": [
    "l = [i**2 for i in range(5)]"
   ]
  },
  {
   "cell_type": "markdown",
   "metadata": {},
   "source": [
    "在上例中，⽅括号 (brackets) 内部的代码就是 `推导式` (comprehension)。\n",
    "\n",
    "在推导式 (comprehension)\n",
    "内：关键词 in 后⾯的 range(5) 部分是 `迭代表达式 (iterable expression)`，必须可计算 (evaluate)\n",
    "为⼀个可迭代的 (iterable) 对象 (object)；\n",
    "\n",
    "关键词 for 和 in 中间的 i 部分是 可以任意选取 的 迭代\n",
    "`变量名 (iteration variable name)`，在每⼀步迭代 (iterate) 中，该变量 (variable) 都引⽤ (reference) 着\n",
    "当前被取出的元素 (element)；\n",
    "\n",
    "关键词 for 之前的 i^2 部分是 可以任意表达 的 `元素表达式`\n",
    "(element expression)，通常会使⽤到后⾯的 旧的 迭代变量 (iteration variable) (这⾥的 i )，⽤来计算\n",
    "新的 元素 (element) (这⾥的 i^2 )；\n",
    "\n",
    "列表推导式 (list comprehension) 计算 (evaluate) 得出的列表\n",
    "(list) 就是由这些新元素所组成的。推导式 (comprehension) 中的 for...in... 结构被称为 `迭代⼦句(for-clause)`。"
   ]
  },
  {
   "cell_type": "code",
   "execution_count": null,
   "metadata": {},
   "outputs": [],
   "source": [
    "[i for i in 5] # 整数不可迭代"
   ]
  },
  {
   "cell_type": "code",
   "execution_count": null,
   "metadata": {},
   "outputs": [],
   "source": [
    "[i for i in 'hello'] # 字符串可迭代\n",
    "[i for i in range(-3, 7, 2)]\n",
    "type([i for i in range(-3, 7, 2)]) # range 类型可以迭代\n",
    "type(range(-3,7,4))"
   ]
  },
  {
   "cell_type": "code",
   "execution_count": null,
   "metadata": {
    "scrolled": true
   },
   "outputs": [],
   "source": [
    "[i for i in [5, 9, 2, 6]] # 列表可迭代\n",
    "[i for i in ('a', 'b', 'c')] # 元组可迭代\n",
    "[c for c in ('a', 'b', 'c')] # 可任意选取迭代变量名，结果完全相同\n",
    "[1.03**i for i in range(5)] # 可任意表达元素表达式\n",
    "[(c, c) for c in 'hello'] # 可任意表达元素表达式\n",
    "type({})"
   ]
  },
  {
   "cell_type": "markdown",
   "metadata": {},
   "source": [
    "##### 元素表达式可以不使⽤迭代变量名"
   ]
  },
  {
   "cell_type": "code",
   "execution_count": null,
   "metadata": {},
   "outputs": [],
   "source": [
    "import random\n",
    "[random.uniform(0, 1) for c in 'hello'] # 元素表达式可以不使⽤迭代变量名"
   ]
  },
  {
   "cell_type": "markdown",
   "metadata": {},
   "source": [
    "#### `迭代⼦句 (for-clause)` 之后还可以跟 `条件⼦句 (if-clause)`\n",
    "\n",
    "⽤来对每⼀次迭代进⾏过滤 (filter)：若条件\n",
    "判断为真 (True)，则保留该次迭代；若条件判断为假 (False)，则忽略该次迭代。例如："
   ]
  },
  {
   "cell_type": "code",
   "execution_count": null,
   "metadata": {},
   "outputs": [],
   "source": [
    "[i**2 for i in range(10)] # 没有条件⼦句\n",
    "[i**2 for i in range(10) if i > 5] # 有条件⼦句"
   ]
  },
  {
   "cell_type": "markdown",
   "metadata": {},
   "source": [
    "###### 关键词 if 之后的 i > 5 部分是 可以任意表达 的 条件表达式 (conditional expression)。"
   ]
  },
  {
   "cell_type": "markdown",
   "metadata": {},
   "source": [
    "迭代⼦句 (for-clause) 之后也可以跟另⼀个迭代⼦句 (for-clause)，达到双重 (double) 迭代 (iteration)\n",
    "的效果。例如："
   ]
  },
  {
   "cell_type": "markdown",
   "metadata": {},
   "source": [
    "#### 双重迭代"
   ]
  },
  {
   "cell_type": "code",
   "execution_count": null,
   "metadata": {},
   "outputs": [],
   "source": [
    "#[i + j for i in 'abcdef' for j in '0123']\n",
    "\n",
    "[i+j for i in ['cat','dog','cat','cat','dog'] for j in 's']"
   ]
  },
  {
   "cell_type": "markdown",
   "metadata": {},
   "source": [
    "总之，推导式 (comprehension) 的 `语法 (syntax) 要求`是：\n",
    "\n",
    "1.只能写 ⼀个 元素表达式 (element\n",
    "expression)；\n",
    "\n",
    "2.元素表达式 (element expression) 后⾯ 必须 跟着 `for...in... `迭代⼦句 (for-clause)；\n",
    "\n",
    "3.`for...in... `迭代⼦句 (for-clause) 之后可以继续跟 `for...in... `迭代⼦句 (for-clause)，也可以跟` if... `条件字句 (if-clause)。例如："
   ]
  },
  {
   "cell_type": "code",
   "execution_count": null,
   "metadata": {
    "scrolled": true
   },
   "outputs": [],
   "source": [
    "[i for i in range(10) if i > 2 if i < 8] # 迭代⼦句后⾯可跟多个条件⼦句\n",
    "[i for i in range(10) if 8 > i > 2 ]\n",
    "[x + y for x in 'abc' if x > 'a' for y in 'def'] # 迭代⼦句后⾯跟条件⼦句和迭代⼦句"
   ]
  },
  {
   "cell_type": "markdown",
   "metadata": {},
   "source": [
    "#### 元素表达式后⾯必须跟迭代⼦句，不可以是条件字句"
   ]
  },
  {
   "cell_type": "code",
   "execution_count": null,
   "metadata": {},
   "outputs": [],
   "source": [
    "[i if i > 2 for i in range(5)] # 元素表达式后⾯必须跟迭代⼦句，不可以是条件字句"
   ]
  },
  {
   "cell_type": "markdown",
   "metadata": {},
   "source": [
    "#### 两个元素表达式是语法错误"
   ]
  },
  {
   "cell_type": "code",
   "execution_count": null,
   "metadata": {
    "scrolled": true
   },
   "outputs": [],
   "source": [
    "[i**2* i for i in range(5)] # 两个元素表达式是语法错误\n",
    "[i**2, i for i in range(5)] # ⽤逗号隔开也不⾏，因为有歧义"
   ]
  },
  {
   "cell_type": "markdown",
   "metadata": {},
   "source": [
    "#### 把多个表达式打包成⼀个元组表达式就可以"
   ]
  },
  {
   "cell_type": "code",
   "execution_count": null,
   "metadata": {},
   "outputs": [],
   "source": [
    "[(i**2, i) for i in range(5)] # 把多个表达式打包成⼀个元组表达式就可以"
   ]
  },
  {
   "cell_type": "code",
   "execution_count": null,
   "metadata": {},
   "outputs": [],
   "source": [
    "[z + y + x for x in 'abc' if x > 'a' for y in 'def'if y > 'e' for z in '01'] # 迭代⼦句后可跟多个迭代⼦句\n",
    "# 注意观察以上多重迭代的先后顺序"
   ]
  },
  {
   "cell_type": "markdown",
   "metadata": {},
   "source": [
    "可⻅，`推导式 (comprehension)` 的 根本作⽤ 就是从⼀个或多个现有的 `可迭代 `(iterable) 对象 有选择地\n",
    "推导衍⽣出⼀个与之有联系但可以完全不同的新的 `可迭代` (iterable) 对象。\n",
    "另需注意，推导式 (comprehension) 在计算 (evaluate) 时会建⽴⾃⼰的` 命名空间 `(namespace)，并不\n",
    "影响所处表达式 (expression) 所在的命名空间 (namespace)，所以不⽤担⼼所选择的` 迭代变量名`\n",
    "(iteration variable name) 会覆盖掉当前命名空间 (namespace) 中已有的变量。例如："
   ]
  },
  {
   "cell_type": "code",
   "execution_count": null,
   "metadata": {},
   "outputs": [],
   "source": [
    "i = 100\n",
    "l = [i for i in range(5)] # 迭代过程使⽤了迭代变量 i\n",
    "l\n",
    "i # i 的值仍然是 100，并没有被覆盖指向别处"
   ]
  },
  {
   "cell_type": "markdown",
   "metadata": {},
   "source": [
    "### 1.2 花括号 (braces) 围场\n",
    "花括号 (braces) 围场 (enclosure) 就是⽤花括号符号 {} 包围起来的原⼦级 (atomic) 表达式\n",
    "(expression)，可以⽤来创建 `字典 (dict)` 对象，或者⽤来创建 `集合 (set)` 对象。字典 (dict) 和集合 (set)\n",
    "都属于 四个 最基本的内置 (built-in) 容器 (container) 类型。与列表 (list) 和元组 (tuple) 不同，字典\n",
    "(dict) 和集合 (set) 都不是序列 (sequence)。\n"
   ]
  },
  {
   "cell_type": "markdown",
   "metadata": {},
   "source": [
    "`字典 (dict)` 是⼀种 `映射 (mapping)`，可以容纳多个` 键值对 (key-value pair)`。提供 键 (key)，就可以⾮常\n",
    "⾼效地 (efficiently) 从字典 (dict) 中 `提取 `(subscription) 出相应的值，同时，键值对 (key-value pair) 的\n",
    "增加、删除和修改等操作 (operation) 也都⾮常⾼效 (efficient)。变量 (variable) 作为⼀种从名称\n",
    "(name) 到对象 (object) 的映射 (mapping)，其所处的 `命名空间 (namespace)`，其实就是字典 (dict)。"
   ]
  },
  {
   "cell_type": "markdown",
   "metadata": {},
   "source": [
    "#### 字典 (dict) 在 Python 的内部⼏乎⽆处不在，花括号 (braces) 围场 (enclosure) 只是创建字典 (dict) 的⼀种⽅式。"
   ]
  },
  {
   "cell_type": "markdown",
   "metadata": {},
   "source": [
    "`集合 (set)` 本质上是只有`键 (key)` 但没有 `值 (value)` 的特殊的字典 (dict)。集合⾥的键 (key) 被称为` 元素`\n",
    "(element)。`集合` (set) 对象 (object) 就像数学中的集合的概念那样：\n",
    "\n",
    "1. 某元素 (element) 要么在集合\n",
    "内，要么不在；\n",
    "\n",
    "2. 元素 (element) 在集合 (set) 内没有位置，集合 (set) 不是序列；3. 集合 (set) 对象内\n",
    "置了求并 (union)、求交 (intersection)、求差 (difference)、求对称差 (symmetric difference) 等常⽤\n",
    "操作。"
   ]
  },
  {
   "cell_type": "markdown",
   "metadata": {},
   "source": [
    "花括号 (braces) 围场 (enclosure) 可以创建字典 (dict) 或集合 (set) 两种重要的内置 (built-in) 容器\n",
    "    (container)，各有` 陈列式 (display) `和 `推导式 (comprehension)` 两种语法 (syntax)。"
   ]
  },
  {
   "cell_type": "markdown",
   "metadata": {},
   "source": [
    "### 字典陈列式"
   ]
  },
  {
   "cell_type": "markdown",
   "metadata": {},
   "source": [
    "字典陈列式 (dict display) 的语法 (syntax) 是把构成字典 (dict) 的键值对 (key-value pair) 明确地陈列在\n",
    "花括号 (braces) 内，⽤逗号 (comma) 分隔；⽤冒号 (colon) : 分隔键 (key) 和值 (value)，键 (key) 在\n",
    "前，值 (value) 在后；只有` 可散列 (hashable)` 的对象才可以作为键 (key)，`值 (value) 则可以是任何对象`。\n",
    "\n",
    "字典 (dict) 本身 `不可散列 (unhashable)`。例如"
   ]
  },
  {
   "cell_type": "markdown",
   "metadata": {},
   "source": [
    "#### 根据键提取值不改变字典内容"
   ]
  },
  {
   "cell_type": "code",
   "execution_count": null,
   "metadata": {},
   "outputs": [],
   "source": [
    "d = {'a': 1, 'b': 2, 'c': 3} # 字典陈列式\n",
    "d # 查看字典的表现 (representation)\n",
    "import collections.abc as coll\n",
    "isinstance(d, collections.abc.Container) # 字典是容器\n",
    "isinstance(d, collections.abc.Sequence) # 字典不是序列`\n",
    "d['a'] # 提供键 'a'，就可以提取对应的值 1\n",
    "d # 根据键提取值不改变字典内容"
   ]
  },
  {
   "cell_type": "code",
   "execution_count": null,
   "metadata": {},
   "outputs": [],
   "source": [
    "d['x'] = 100 # 增加键值对 'x' -> 100\n",
    "d\n",
    "del d['b'] # 提供键 'b'，删除相应的键值对 'b' -> 2\n",
    "d\n",
    "d['c'] = 42 # 修改键 'c' 让其改指向 42\n",
    "d"
   ]
  },
  {
   "cell_type": "code",
   "execution_count": null,
   "metadata": {},
   "outputs": [],
   "source": [
    "isinstance(d,coll.Hashable)"
   ]
  },
  {
   "cell_type": "markdown",
   "metadata": {},
   "source": [
    "#### 字符串和元组是可散列的"
   ]
  },
  {
   "cell_type": "code",
   "execution_count": null,
   "metadata": {},
   "outputs": [],
   "source": [
    "isinstance('x', collections.abc.Hashable) # 字符串是可散列的\n",
    "isinstance(('a', 5), collections.abc.Hashable) # 元组是可散列的\n",
    "d[('a', 5)] = 200 # 元组 ('a', 5) 可以作为键\n",
    "#d[('a', 5)]\n",
    "d"
   ]
  },
  {
   "cell_type": "markdown",
   "metadata": {},
   "source": [
    "#### 在没有歧义的情况下，元组的圆括号可以省略"
   ]
  },
  {
   "cell_type": "code",
   "execution_count": null,
   "metadata": {},
   "outputs": [],
   "source": [
    "d['a', 5] = 300 # 在没有歧义的情况下，元组的圆括号可以省略\n",
    "d # 键 ('a', 5) 所对应的值被修改为 300"
   ]
  },
  {
   "cell_type": "markdown",
   "metadata": {},
   "source": [
    "#### 列表是不可散列的,字典的键必须可散列"
   ]
  },
  {
   "cell_type": "code",
   "execution_count": null,
   "metadata": {},
   "outputs": [],
   "source": [
    "isinstance([5, 1, 2], collections.abc.Hashable) # 列表是不可散列的\n",
    "d[[5, 1, 2]] = 400 # 类型错误，字典的键必须可散列\n",
    "l = [3, 9]\n",
    "d[l] = 500 # 同样错误\n",
    "{'a': 20, l: 30} # 同样错误"
   ]
  },
  {
   "cell_type": "code",
   "execution_count": null,
   "metadata": {},
   "outputs": [],
   "source": [
    "isinstance(d, collections.abc.Hashable) # 字典本身不可散列"
   ]
  },
  {
   "cell_type": "markdown",
   "metadata": {},
   "source": [
    "### 集合陈列式\n",
    "集合陈列式 (set display) 的语法 (syntax) 是把构成集合 (dict) 的元素 (element) 明确地陈列在花括号\n",
    "(braces) 内，⽤逗号 (comma) 分隔；像字典 (dict) 的键 (key) 那样，只有 可散列 (hashable) 的对象才\n",
    "可以作为元素 (element)。集合 (set) 本身 不可散列 (unhashable)。例如："
   ]
  },
  {
   "cell_type": "code",
   "execution_count": null,
   "metadata": {},
   "outputs": [],
   "source": [
    "s = {'a', 'b', 42} # 集合陈列式\n",
    "s # 表现为 {'b', 'a', 42} (有可能是其他)，因为集合是⽆所谓顺序的\n",
    "type(s)"
   ]
  },
  {
   "cell_type": "code",
   "execution_count": null,
   "metadata": {},
   "outputs": [],
   "source": [
    "import collections.abc\n",
    "isinstance(s, collections.abc.Container) # 集合是容器\n",
    "isinstance(s, collections.abc.Sequence) # 集合不是序列\n",
    "isinstance(42, collections.abc.Hashable) # 整数可散列"
   ]
  },
  {
   "cell_type": "code",
   "execution_count": null,
   "metadata": {},
   "outputs": [],
   "source": [
    "42 in s # 判断某可散列的对象是否属于集合\n",
    "'c' in s"
   ]
  },
  {
   "cell_type": "code",
   "execution_count": null,
   "metadata": {},
   "outputs": [],
   "source": [
    "['a', 'b'] in s # 列表不可散列\n",
    "('a', 'b') in s # 虽然 'a' 和 'b' 都是集合 s 的元素，但元组 ('a', 'b') 不是"
   ]
  },
  {
   "cell_type": "markdown",
   "metadata": {},
   "source": [
    "#### 集合不⽀持提取操作"
   ]
  },
  {
   "cell_type": "code",
   "execution_count": null,
   "metadata": {
    "scrolled": true
   },
   "outputs": [],
   "source": [
    "s[0] # 集合不⽀持提取操作"
   ]
  },
  {
   "cell_type": "code",
   "execution_count": null,
   "metadata": {},
   "outputs": [],
   "source": [
    "s = {'a','b',42}\n",
    "s.add('x') # 增加⼀个元素\n",
    "s\n",
    "s.remove('b') # 删除⼀个元素\n",
    "s\n",
    "#s.remove(999) # 999 不是集合中的元素，删除失败"
   ]
  },
  {
   "cell_type": "markdown",
   "metadata": {},
   "source": [
    "#### python并集交集差集"
   ]
  },
  {
   "cell_type": "code",
   "execution_count": null,
   "metadata": {},
   "outputs": [],
   "source": [
    "print('求并，计算出⼀个新的集合')\n",
    "s.union(['x', 'y', 42]) # 求并，计算出⼀个新的集合\n",
    "print('原 s 集合并没有被改变')\n",
    "s # 原 s 集合并没有被改变\n",
    "print('\\n\\n求交，计算出⼀个新的集合')\n",
    "s.intersection(['x', 'y', 42]) # 求交，计算出⼀个新的集合\n",
    "#s # 原 s 集合并没有被改变\n",
    "print('求差，计算出⼀个新的集合，减去交集')\n",
    "s.difference(['x', 'y', 42]) # 求差，计算出⼀个新的集合\n",
    "#s # 原 s 集合并没有被改变\n",
    "print('求对称差，计算出⼀个新的集合')\n",
    "s.symmetric_difference(['x', 'y', 42]) # 求对称差，计算出⼀个新的集合\n",
    "#s # 原 s 集合并没有被改变"
   ]
  },
  {
   "cell_type": "code",
   "execution_count": null,
   "metadata": {},
   "outputs": [],
   "source": [
    "s.add((3,9,10))\n",
    "#s.add([3, 9]) # 列表不可散列\n",
    "s"
   ]
  },
  {
   "cell_type": "markdown",
   "metadata": {},
   "source": [
    "#### 字典推导式\n",
    "字典推导式 (dict comprehension) 的语法 (syntax) 就是在花括号 (braces) 内写推导式\n",
    "(comprehension)，但`元素表达式 (element expression) `的位置要写成⽤`冒号 (colon) 分隔`的`键值对`\n",
    "(key-value pair) 两个表达式 (expression)。例如："
   ]
  },
  {
   "cell_type": "code",
   "execution_count": 3,
   "metadata": {},
   "outputs": [
    {
     "data": {
      "text/plain": [
       "{97: 'a', 98: 'b', 99: 'c', 100: 'd', 101: 'e', 102: 'f', 103: 'g'}"
      ]
     },
     "execution_count": 3,
     "metadata": {},
     "output_type": "execute_result"
    },
    {
     "data": {
      "text/plain": [
       "{'a': 97, 'b': 98, 'c': 99, 'd': 100, 'e': 101, 'f': 102, 'g': 103}"
      ]
     },
     "execution_count": 3,
     "metadata": {},
     "output_type": "execute_result"
    },
    {
     "name": "stdout",
     "output_type": "stream",
     "text": [
      "Help on built-in function chr in module builtins:\n",
      "\n",
      "chr(i, /)\n",
      "    Return a Unicode string of one character with ordinal i; 0 <= i <= 0x10ffff.\n",
      "\n",
      "Help on built-in function ord in module builtins:\n",
      "\n",
      "ord(c, /)\n",
      "    Return the Unicode code point for a one-character string.\n",
      "\n"
     ]
    }
   ],
   "source": [
    "{i: chr(i) for i in range(97, 104)} # 字典推导式，请 help ⾃学内置函数 chr\n",
    "{c: ord(c) for c in 'abcdefg'} # 字典推导式，请 help ⾃学内置函数 ord\n",
    "help(chr)\n",
    "help(ord)\n",
    "#help(range)"
   ]
  },
  {
   "cell_type": "markdown",
   "metadata": {},
   "source": [
    "#### 在处理ASCII码时,需要用到的两个函数方法.\n",
    "Ⅰ.chr()方法:将十进制数转化为基础字符(0,256)\n",
    "\n",
    "Ⅱ.ord():将字符转化为十进制数"
   ]
  },
  {
   "cell_type": "markdown",
   "metadata": {},
   "source": [
    "#### 集合推导式\n",
    "集合推导式 (set comprehension) 的语法 (syntax) 就是在花括号 (braces) 内写推导式\n",
    "(comprehension)。例如："
   ]
  },
  {
   "cell_type": "markdown",
   "metadata": {},
   "source": [
    "注意 26 个英⽂字⺟如何被散列"
   ]
  },
  {
   "cell_type": "code",
   "execution_count": null,
   "metadata": {},
   "outputs": [],
   "source": [
    "{i for i in range(10, 3, -1)} # 集合推导式，请 help ⾃学内置函数 range\n",
    "{chr(i) for i in range(97, 123) if  98< i <100}\n",
    "{str(chr(i))+'\\d' for i in range(65,98) if i > 96} # 集合推导式，注意 26 个英⽂字⺟如何被散列"
   ]
  },
  {
   "cell_type": "markdown",
   "metadata": {},
   "source": [
    "#### 键的唯⼀性"
   ]
  },
  {
   "cell_type": "markdown",
   "metadata": {},
   "source": [
    "需要特别强调，在字典 (dict) 或集合 (set) 中，键 (key) 必须是唯⼀的，换句话说，不可能有两个键值对\n",
    "(key-value pair) 或者元素 (element)，具有相同的键 (key)；在使⽤圆括号 (braces) 围场 (enclosure) 语\n",
    "法 (syntax) 创建字典 (dict) 或集合 (set) 时，如果提供了重复的键 (key)，那么后出现的键 (key) 将`替换`\n",
    "先出现的键 (key)。例如："
   ]
  },
  {
   "cell_type": "code",
   "execution_count": null,
   "metadata": {},
   "outputs": [],
   "source": [
    "d = {'a': 1, 'b': 2, 'a': 3} # 字典陈列式，没有语法错误\n",
    "d # 查看 d 的表现\n",
    "d['a'] # 提供键 'a' 提取出的值是 3，⽽不是 1\n",
    "h = {c:ord(c) for c in 'hello'}\n",
    "h\n",
    "h = {c: format(ord(c), 'x') for c in 'hello p'} # 字典推导式，没有语法错误(format 根据格式 'x' 把⼗进制整数转换为⼗六进制整数字符串)\n",
    "h\n",
    "len(h) # 注意 h 的⻓度是 4 ⽽不是 5"
   ]
  },
  {
   "cell_type": "code",
   "execution_count": null,
   "metadata": {},
   "outputs": [],
   "source": [
    "s = {'a', 'b', 'a'} # 集合陈列式，没有语法错误\n",
    "s # 查看 s 的表现\n",
    "len(s) # 注意 s 的⻓度是 2 ⽽不是 3\n",
    "t = 'abaa bbbc caca cbba'\n",
    "len(t)\n",
    "print('\\n\\n字符串值不唯一，{}围场内值唯一，所以长度会改变')\n",
    "s = {c for c in t} # 集合推导式，没有语法错误\n",
    "len(s) # 注意 s 的⻓度是 4 ⽽不是 19"
   ]
  },
  {
   "cell_type": "markdown",
   "metadata": {},
   "source": [
    "利⽤键 (key) 的这种唯⼀性特点，集合 (set) 的⼀个重要⽤途就是从可迭代 (iterable) 对象中`过滤出唯⼀值`，也就是过滤掉重复值，当然，要在不要求保持顺序的前提下，因为集合 (set) 内的元素 (element)\n",
    "会被散列 (hashed)。"
   ]
  },
  {
   "cell_type": "markdown",
   "metadata": {},
   "source": [
    "#### 1.3 圆括号 (parenthesis) 围场\n",
    "圆括号 (parenthesis) 围场 (enclosure) 是⽤圆括号符号 () 包围起来的原⼦级 (atomic) 表达式\n",
    "(expression)。这种语法依括号内的语法不同，可以表示三种不同概念：\n",
    "\n",
    "`1. 计算优先级 (priority)，`\n",
    "\n",
    "`2. 元组 (tuple)`，\n",
    "\n",
    "`3. ⽣成器 (generator)`，下⾯分别进⾏介绍。"
   ]
  },
  {
   "cell_type": "markdown",
   "metadata": {},
   "source": [
    "#### 表示计算优先级 (priority)\n",
    "圆括号 (parenthesis) 的此种⽤法是⽤来⾃定义 (customize) 表达式计算 (evaluate) 的优先级\n",
    "(priority)，其计算结果就是圆括号内的表达式 (expression)。例如："
   ]
  },
  {
   "cell_type": "code",
   "execution_count": null,
   "metadata": {},
   "outputs": [],
   "source": [
    "1 + 2 * 3 # 默认的优先级是先计算 * ，再计算 + ，计算结果为 7\n",
    "(1 + 2) * 3 # ⽤圆括号改变优先级，先计算 1 + 2，再计算 * ，计算结果为 9\n",
    "1 + (2 * 3) # 圆括号围场⾥的内容被当作⼀个整体的原⼦级表达式\n",
    "(1 + 2 * 3) # 圆括号在这⾥除了把表达式归组计算以外，没有任何额外语义"
   ]
  },
  {
   "cell_type": "markdown",
   "metadata": {},
   "source": [
    "#### 创建元组 (tuple) 对象\n",
    "⽤逗号 (comma) 把多个表达式 (expression) 隔开，并⽤圆括号 (parenthesis) 包围起来 (在没有歧义的\n",
    "情况下圆括号可以省略)，将得到由各个内部表达式 (expression) 计算得出的对象 (object) 的引⽤\n",
    "(reference) 所构成的` 元组 (tuple)`。`元组 (tuple) 对象 (object)` 的类型 (type) 是内置类型 (built-in type)\n",
    "`tuple` ，是四个最基本的内置 (built-in)` 容器 `(container) 类型之⼀。\n",
    "\n",
    "元组 (tuple) 对象的主要⽤途是将\n",
    "若⼲ 计算出的 (evaluated) 对象 (object)` 打包 (pack)` 为 ⼀个 `不可变的 (immutable)` `序列` (sequence)，\n",
    "⽅便将来的 `解包 (unpack)`、`提取 (subscription)`、`切⽚ (slicing)` 或` 迭代 (iterate)`。例如："
   ]
  },
  {
   "cell_type": "code",
   "execution_count": null,
   "metadata": {},
   "outputs": [],
   "source": [
    "t = ('a', 'b', 'c') # 创建元组并命名为 t"
   ]
  },
  {
   "cell_type": "code",
   "execution_count": null,
   "metadata": {},
   "outputs": [],
   "source": [
    "type(t)\n",
    "type(t) is tuple # 类型是元组"
   ]
  },
  {
   "cell_type": "code",
   "execution_count": null,
   "metadata": {
    "scrolled": true
   },
   "outputs": [],
   "source": [
    "t2 = 'a', 'b', 'c' # 创建元组并命名为 t2，省略圆括号不引起歧义\n",
    "type(t2)"
   ]
  },
  {
   "cell_type": "markdown",
   "metadata": {},
   "source": [
    "#### 对元组之间的判断"
   ]
  },
  {
   "cell_type": "code",
   "execution_count": null,
   "metadata": {},
   "outputs": [],
   "source": [
    "t is t2 # 不同的对象\n",
    "t == t2 # 两元组的值相等\n",
    "t\n",
    "isinstance(t, tuple) # 元组是元组类型的实例\n",
    "isinstance(t, list)"
   ]
  },
  {
   "cell_type": "code",
   "execution_count": null,
   "metadata": {
    "scrolled": false
   },
   "outputs": [],
   "source": [
    "import collections.abc as coll# 导⼊抽象基类 (abstract base class) 模块\n",
    "isinstance(t, collections.abc.Container) # 元组也是⼀种容器\n",
    "isinstance(t, collections.abc.Sequence) # 元组也是⼀种序列\n",
    "isinstance(t, collections.abc.MutableSequence) # 但元组不是可变序列\n",
    "isinstance(t, collections.abc.Iterable) # 元组可迭代"
   ]
  },
  {
   "cell_type": "markdown",
   "metadata": {},
   "source": [
    "<font size = 3 color = red>\n",
    "    ## QUESTION"
   ]
  },
  {
   "cell_type": "code",
   "execution_count": null,
   "metadata": {},
   "outputs": [],
   "source": [
    "list =['a','b'] \n",
    "t3 = (list,1,2)\n",
    "t3\n",
    "list.append('c')\n",
    "t3\n",
    "t[0]"
   ]
  },
  {
   "cell_type": "code",
   "execution_count": null,
   "metadata": {},
   "outputs": [],
   "source": [
    "x, y, z = t # 解包 unpack\n",
    "t\n",
    "t[0] # 提取 subscription\n",
    "t[-2:] # 切⽚ slicing\n",
    "for c in t: # 迭代 iterate\n",
    "    print(c) # print 前必须有四个空格"
   ]
  },
  {
   "cell_type": "markdown",
   "metadata": {},
   "source": [
    "需要注意，因为圆括号 (parenthesis) 也被⽤来表示计算优先级 (priority)，在⽆歧义的情况下可以省\n",
    "略，所以元组 (tuple) 的语法 (syntax) 主要取决于`逗号 (comma)`，⽽`不是圆括号 `(parenthesis)。只有在\n",
    "创建空⽩元组的时候，才只使⽤⼀对紧连的圆括号 (parenthesis)，⽽不使⽤逗号 (comma)。例如："
   ]
  },
  {
   "cell_type": "code",
   "execution_count": null,
   "metadata": {},
   "outputs": [],
   "source": [
    "t = (1) # 等价于 t = 1\n",
    "t # 查看 t 的表现 (representation)\n",
    "type(t) # 整数类型\n",
    "t = (1, ) # 只有⼀个元素的元组\n",
    "t # 查看 t 的表现 (representation)\n",
    "type(t) # 元组类型\n",
    "len(t) # ⻓度为 1"
   ]
  },
  {
   "cell_type": "code",
   "execution_count": null,
   "metadata": {},
   "outputs": [],
   "source": [
    "t2 = 1, # 省略圆括号\n",
    "print('t2和t都是一样的值，但是对象不同')\n",
    "t\n",
    "t2 # 查看 t2 的表现 (representation)\n",
    "type(t2) # 元组类型\n",
    "t2 is t # 对象不同\n",
    "t2 == t # 值相等"
   ]
  },
  {
   "cell_type": "code",
   "execution_count": null,
   "metadata": {},
   "outputs": [],
   "source": [
    "t3 = tuple() # 创建空⽩元组\n",
    "len(t3) # ⻓度为 0\n",
    "t4 = () # 创建空⽩元组\n",
    "t3 == t4 # 值相等\n",
    "t3 is t4 # 对象相同，因为常⻅的不可变对象会被解释器缓存"
   ]
  },
  {
   "cell_type": "markdown",
   "metadata": {},
   "source": [
    "    t5 = (,) # 语法错误"
   ]
  },
  {
   "cell_type": "markdown",
   "metadata": {},
   "source": [
    "#### 创建⽣成器 (generator) 对象\n",
    "圆括号 (parenthesis) 围场 (enclosure) 内也⽀持 `推导式 (comprehension)` 语法 (syntax)，将创建出⼀\n",
    "个 `⽣成器 (generator) `对象，⽽不是元组 (tuple) 对象。\n",
    "\n",
    "⽣成器 (generator) 对象并不是 `容器`\n",
    "(container)，更不是` 序列` (sequence)，⽽是⼀种轻便 (light-weight) ⾼效 (efficient) 的 `可迭代`\n",
    "(iterable) 对象。⽣成器 (generator) 的最⼤特点是在创建时并不计算 (evaluate) 内部表达式\n",
    "(expression) 的值，只有在被 `迭代 `(iterate) 时才逐个计算，计算出的结果并不保留在⽣成器(generator) 中，能极⼤地减少内存浪费和⽆谓计算。"
   ]
  },
  {
   "cell_type": "code",
   "execution_count": null,
   "metadata": {
    "scrolled": true
   },
   "outputs": [],
   "source": [
    "g = (c for c in 'hello') # ⼀个最简单的推导式例⼦\n",
    "g # 是⽣成器对象，⽽不是元组\n",
    "type(g) # 获取类型\n",
    "for i in g:\n",
    "    print(i)"
   ]
  },
  {
   "cell_type": "markdown",
   "metadata": {},
   "source": [
    "#### 生成器的每一个值（表达值）都可以是操作，取决于表达式操作，值为None"
   ]
  },
  {
   "cell_type": "code",
   "execution_count": null,
   "metadata": {
    "scrolled": true
   },
   "outputs": [],
   "source": [
    "import collections.abc as coll# 导⼊抽象基类 (abstract base class) 模块\n",
    "isinstance(g, tuple) # 不是元组\n",
    "isinstance(g, collections.abc.Generator) # 是⽣成器\n",
    "isinstance(g, collections.abc.Container) # 不是容器\n",
    "isinstance(g, collections.abc.Sequence) # 不是序列\n",
    "isinstance(g, collections.abc.Iterable) # 可迭代"
   ]
  },
  {
   "cell_type": "markdown",
   "metadata": {},
   "source": [
    "#### 迭代器不可进行的操作"
   ]
  },
  {
   "cell_type": "code",
   "execution_count": null,
   "metadata": {},
   "outputs": [],
   "source": [
    "g = (c for c in 'hello')\n",
    "len(g) # 不能获取⻓度\n",
    "g[-1] # 不能提取\n",
    "g[:3] # 不能切⽚"
   ]
  },
  {
   "cell_type": "markdown",
   "metadata": {},
   "source": [
    "#### 取出所有剩下的值，创建元组"
   ]
  },
  {
   "cell_type": "code",
   "execution_count": null,
   "metadata": {},
   "outputs": [],
   "source": [
    "g = (c for c in 'hello')\n",
    "next(g) # 取出下⼀个值，'h'\n",
    "next(g) # 取出下⼀个值，'e'\n",
    "t=tuple(g) # 取出所有剩下的值，创建元组\n",
    "len(t)\n",
    "print(t)\n",
    "tuple(g) # 已没有剩下的值，得到空⽩元组"
   ]
  },
  {
   "cell_type": "code",
   "execution_count": null,
   "metadata": {},
   "outputs": [],
   "source": [
    "g = (print(c) for c in 'hello') # 注意并不⽴即 print\n",
    "s = next(g) # 取出下⼀个值，开始计算⼀个 print\n",
    "type(s)#type(next(g))\n",
    "s is None # 取出的为空值，因为 print 函数返回空值\n",
    "t = tuple(g) # 取出所有剩下的值，计算剩余的 print，将结果打包为元组\n",
    "tuple(g)\n",
    "len(t) # ⻓度是 4 ⽽不是 5\n",
    "t # 被打包的四个值都是 None ps:四个print操作"
   ]
  },
  {
   "cell_type": "markdown",
   "metadata": {},
   "source": [
    "#### 1.4 表达式换⾏\n",
    "通常⽽⾔，表达式 (expression) 只能写在⼀⾏，表达式 (expression) 的中间不能换⾏；但围场\n",
    "(enclosure) 形式的表达式 (expression)，在括号 (包括圆括号、⽅括号、花括号) 的内部允许换⾏。利\n",
    "⽤围场 (enclosure) 内允许换⾏的特点，可以避免复杂的表达式过⻓，超出⼀⾏代码不多于 79 个字符的\n",
    "格式规范  。例如："
   ]
  },
  {
   "cell_type": "markdown",
   "metadata": {},
   "source": [
    "#### 最后⼀个逗号在语法上是允许的"
   ]
  },
  {
   "cell_type": "code",
   "execution_count": null,
   "metadata": {},
   "outputs": [],
   "source": [
    "s = (\n",
    "'a...'\n",
    "'b...'\n",
    ") # 利⽤圆括号围场，让⻓字符串字⾯值可以跨⾏进⾏字⾯连接\n",
    "s # 查看 s 的表现\n",
    "t = (\n",
    "'abc','\\n',\n",
    "'def', # 注意最后⼀个逗号在语法上是允许的\n",
    ") # 利⽤圆括号围场，⽤多⾏表达式建⽴元组，每⾏⼀个元素\n",
    "t # 查看 t 的表现\n",
    "print(t)"
   ]
  },
  {
   "cell_type": "code",
   "execution_count": null,
   "metadata": {},
   "outputs": [],
   "source": [
    "l = [\n",
    "'abc',\n",
    "'def',\n",
    "] # 利⽤⽅括号围场，⽤多⾏表达式建⽴列表，每⾏⼀个元素\n",
    "l\n",
    "h = {\n",
    "c: format(ord(c), 'x')}#99\n",
    "h"
   ]
  },
  {
   "cell_type": "code",
   "execution_count": null,
   "metadata": {
    "scrolled": true
   },
   "outputs": [],
   "source": [
    "h = {\n",
    "c: format(ord(c), 'x')#99\n",
    "for c in 'hello'\n",
    "} # 利⽤围场的保护，在多⾏书写推导式，代码会更加美观⼤⽅\n",
    "h"
   ]
  },
  {
   "cell_type": "markdown",
   "metadata": {},
   "source": [
    "与上面的式子（搬到了下面）对比"
   ]
  },
  {
   "cell_type": "code",
   "execution_count": null,
   "metadata": {},
   "outputs": [],
   "source": [
    "h = {c: format(ord(c), 'x') for c in 'hello p'} # 字典推导式，没有语法错误(format 根据格式 'x' 把⼗进制整数转换为⼗六进制整数字符串)\n",
    "h"
   ]
  },
  {
   "cell_type": "markdown",
   "metadata": {},
   "source": [
    "说实话暂时还没能get到美观大方的点"
   ]
  },
  {
   "cell_type": "markdown",
   "metadata": {},
   "source": [
    "#### 1.5 解包运算符\n",
    "在围场 (enclosure) 的内部，在书写⽤逗号 (comma) 分隔的陈列 (display) 的时候，还有两种` 解包运算\n",
    "符 `(unpacking operator) 可以使⽤，分别是：\n",
    "\n",
    "1. 迭代 (iterable) 解包运算符` *` ，\n",
    "\n",
    "2. 映射 (mapping) 解\n",
    "包运算符` **` 。\n",
    "\n",
    "他们的作⽤是分别可以把可迭代的 (iterable) 对象和映射 (mapping) 暗含地 (implicitly)\n",
    "解包 (unpack) 为陈列 (display)，拼接到所在的陈列 (display) 中。解包运算符语法从 Python 2 起就得\n",
    "到⽀持，但从 Python 3.5 开始，解包运算符的适⽤场合得到了极⼤的增强。"
   ]
  },
  {
   "cell_type": "markdown",
   "metadata": {},
   "source": [
    "#### 元组可迭代\n",
    "#### 列表可迭代\n",
    "#### 字典可迭代，但迭代取出的只是键\n",
    "#### 只有新字典取字典（映射）时才能用`**`"
   ]
  },
  {
   "cell_type": "code",
   "execution_count": null,
   "metadata": {},
   "outputs": [],
   "source": [
    "a = ('x', 'y', 'z') # 元组可迭代\n",
    "b = ['a', 'b', 'c'] # 列表可迭代\n",
    "c = {'cat': 'sleep', 'dog': 'run'} # 字典可迭代，但迭代取出的只是键"
   ]
  },
  {
   "cell_type": "code",
   "execution_count": null,
   "metadata": {},
   "outputs": [],
   "source": [
    "(1, 2, 3, *a, *b, *c) # 迭代解包出的值被添加进元组陈列中\n",
    "[*c, 0, *b, 1, *c] # 迭代解包出的值被添加进列表陈列中\n",
    "{*a, 'x', 'y', 'c'} # 迭代解包出的值被添加进集合陈列中"
   ]
  },
  {
   "cell_type": "markdown",
   "metadata": {},
   "source": [
    "#### 后⾯的值覆盖前⾯的值，产⽣更新字典的效果"
   ]
  },
  {
   "cell_type": "code",
   "execution_count": null,
   "metadata": {},
   "outputs": [],
   "source": [
    "{'a': 97, **c, 'd': 100} # 迭代解包出的键值对被添加进字典陈列中\n",
    "d = {'cat': 'meow', 'cow': 'moo'}\n",
    "{**c, **d} # 后⾯的值覆盖前⾯的值，产⽣更新字典的效果"
   ]
  },
  {
   "cell_type": "markdown",
   "metadata": {},
   "source": [
    "## 2.基础级(primaries)表达式\n",
    "基础级 (primaries) 表达式 (expression) 的计算 (evaluation) 优先级 (priority) 低于 原⼦级 (atoms)，⾼\n",
    "于 运算符 (operators)。基础级 (primary) 表达式 (expression) 包含四种不同语法 (syntax)：\n",
    "\n",
    "`1. 属性访问 (attribute reference)，`\n",
    "\n",
    "`2. 提取 (subscription)，`\n",
    "\n",
    "`3. 切⽚ (slicing)`，\n",
    "\n",
    "`4. 调⽤ (call)。下⾯分别介绍。`"
   ]
  },
  {
   "cell_type": "markdown",
   "metadata": {},
   "source": [
    "### 2.1 属性访问\n",
    "任何对象 (object) 都具有若⼲属性 (attribute)，代表着对象 (object) 的特性或功能。⽤内置函数 (built-in function) dir 可以获得由属性 (attribute) 名称 (name) 所组成的列表 (list)。\n",
    "\n",
    "`属性访问 `(attribute\n",
    "references) 语法 (syntax) 就是在可计算 (evaluate) 出该对象 (object) 的表达式 (expression) 后⾯，紧\n",
    "接着写点 (dot) 符 . ，再紧接着写要访问的属性名 (attribute name)。这样的表达式 (expression) 计算\n",
    "(evaluate) 出的就是所要访问的对象 (object) 的属性 (attribute)。例如："
   ]
  },
  {
   "cell_type": "code",
   "execution_count": null,
   "metadata": {},
   "outputs": [],
   "source": [
    "'hello'.upper # 字符串对象的 upper ⽅法\n",
    "s = 'hello' # 建⽴⼀个变量 s ⽤于引⽤字符串对象 'hello'\n",
    "s.upper # 字符串对象的 upper ⽅法"
   ]
  },
  {
   "cell_type": "code",
   "execution_count": null,
   "metadata": {},
   "outputs": [],
   "source": [
    "import os # 导⼊模块，建⽴变量 os ⽤于引⽤该模块\n",
    "os.path # os 模块的 path ⼦模块\n",
    "os.path.splitext # os 模块下的 path ⼦模块下的 splitext 函数\n",
    "print(os.path)"
   ]
  },
  {
   "cell_type": "markdown",
   "metadata": {},
   "source": [
    "[Python中关于split和splitext的差别和运用](https://www.cnblogs.com/jielongAI/p/9323257.html)"
   ]
  },
  {
   "cell_type": "markdown",
   "metadata": {},
   "source": [
    "等价地，可以通过内置函数 (built-in function) getattr 访问对象 (object) 属性 (attribute)。例如："
   ]
  },
  {
   "cell_type": "code",
   "execution_count": null,
   "metadata": {},
   "outputs": [],
   "source": [
    "s = 'hello'\n",
    "s.upper # 使⽤属性访问符\n",
    "#s.upper()\n",
    "getattr(s, 'upper') # 调⽤内置函数"
   ]
  },
  {
   "cell_type": "markdown",
   "metadata": {},
   "source": [
    "[Python getattr() 函数](https://www.runoob.com/python/python-func-getattr.html)"
   ]
  },
  {
   "cell_type": "markdown",
   "metadata": {},
   "source": [
    "    getattr(object, name[, default])\n",
    "    object -- 对象。\n",
    "    name -- 字符串，对象属性。\n",
    "    default -- 默认返回值，如果不提供该参数，在没有对应属性时，将触发 AttributeError。"
   ]
  },
  {
   "cell_type": "markdown",
   "metadata": {},
   "source": [
    "语法上不同的是， s.upper 是 `硬编码 (hard-coded)`，即把名称 upper 直接写在了代码⾥，⽽\n",
    "getattr(s, 'upper') 则是` 软编码 `(soft-coded)，因为实参 'upper' 处可以改写成其他任意表达\n",
    "式。例如："
   ]
  },
  {
   "cell_type": "code",
   "execution_count": null,
   "metadata": {},
   "outputs": [],
   "source": [
    "s = 'hello'\n",
    "attr = 'upper'"
   ]
  },
  {
   "cell_type": "code",
   "execution_count": null,
   "metadata": {},
   "outputs": [],
   "source": [
    "s.attr # 报错，s 对象没有名为 attr 的属性\n",
    "s.'upper' # 语法错误"
   ]
  },
  {
   "cell_type": "code",
   "execution_count": null,
   "metadata": {},
   "outputs": [],
   "source": [
    "getattr(s, attr) # 根据 attr 变量所指的名称从 s 对象取得相应属性"
   ]
  },
  {
   "cell_type": "markdown",
   "metadata": {},
   "source": [
    "#### 2.2 提取\n",
    "对于 `序列 (sequence)` 或者` 映射 (mapping)` 对象 (object)，可以使⽤ `提取 `(subscription) 语法 (syntax)\n",
    "提取出指定的元素。\n",
    "\n",
    "既`⾮序列 (sequence) `⼜`⾮映射 (mapping)` 的对象 (object)，除⾮在其类 (class) 中\n",
    "另有定义，否则不可以进⾏提取 (subscription)。\n",
    "\n",
    "对于我们⽬前学习过的各种基本内置类型 (built-in\n",
    "types)，他们是否序列 (sequence) 或者映射 (mapping)，可⻅表 1。"
   ]
  },
  {
   "cell_type": "markdown",
   "metadata": {},
   "source": [
    "![image.png](attachment:image.png)"
   ]
  },
  {
   "cell_type": "markdown",
   "metadata": {},
   "source": [
    "`提取 (subscription)` 语法 (syntax) 就是在能够计算 (evaluate) 出被提取的对象 (object) 的表达式\n",
    "(expression) 后⾯紧跟着写⽅括号 (brackets) [] ，在⽅括号内写提取⽤的表达式 (subscripting\n",
    "expression)。"
   ]
  },
  {
   "cell_type": "code",
   "execution_count": null,
   "metadata": {},
   "outputs": [],
   "source": [
    "'789'[0] # 字符串可提取\n",
    "b'789'[0] # 字节串可提取，但要注意，提取出的不是字符，⽽是字节，即⼀个 0～255 之间的整数；字符 7 的 ASCII 码⼗进制为 55\n",
    "('aaa', 123)[0] # 元组可提取\n",
    "[c.upper() for c in 'qabc'][0] # 列表可提取\n",
    "{'a': 97, 'b': 98}['a'] # 字典可提取"
   ]
  },
  {
   "cell_type": "code",
   "execution_count": null,
   "metadata": {},
   "outputs": [],
   "source": [
    "789[0] # 整数不可提取\n",
    "1e5[0] # 浮点数不可提取\n",
    "(c.upper() for c in 'abc')[0] # ⽣成器不可提取\n",
    "{'a', 'b', 'c'}[0] # 集合不可提取"
   ]
  },
  {
   "cell_type": "code",
   "execution_count": null,
   "metadata": {},
   "outputs": [],
   "source": [
    "(c.upper() for c in 'abc')"
   ]
  },
  {
   "cell_type": "markdown",
   "metadata": {},
   "source": [
    "取决于被提取的对象 (object) 是序列 (sequence) 还是映射 (mapping)，提取表达式 (expression) 的要\n",
    "求不尽相同。下⾯进⾏分别讨论。"
   ]
  },
  {
   "cell_type": "markdown",
   "metadata": {},
   "source": [
    "#### 序列提取\n",
    "对序列 (sequence) 对象 (object) 进⾏提取 (subscription) 时，提取表达式 (subscripting expression)\n",
    "必须计算 (evaluate) 为 整数。\n",
    "\n",
    "序列内的每⼀个元素 (element) 都有⼀个从 0 开始的 `索引值 (index)`，⻓\n",
    "度 (length) 为`n` 的序列 (sequence) 的最后⼀个元素 (element) 的索引值 (index) 为`n-1` 。\n",
    "\n",
    "提取表达式\n",
    "(subscripting expression) 也可以计算 (evaluate) 为负整数。Python 的内置 (built-in) 序列 (sequence)\n",
    "对象 (object) 在处理负的提取表达式 (subscripting expression) 的时候，会⾃动加上`n` 来计算索引号\n",
    "(index)。\n",
    "\n",
    "因此，提取表达式 (subscripting expression) 也可以提取出序列 (sequence) 的最后⼀个\n",
    "元素 (element)，⽽且对程序员更直观易懂。"
   ]
  },
  {
   "cell_type": "code",
   "execution_count": null,
   "metadata": {},
   "outputs": [],
   "source": [
    "l = ['b', 'l', 'a', 'h'] # 列表是典型的序列，以列表为例\n",
    "l[0]\n",
    "l[1]\n",
    "#l[4] # 索引号超出范围"
   ]
  },
  {
   "cell_type": "code",
   "execution_count": null,
   "metadata": {},
   "outputs": [],
   "source": [
    "l[-1] # 更直观易懂\n",
    "l[-2]\n",
    "l[-4]"
   ]
  },
  {
   "cell_type": "code",
   "execution_count": null,
   "metadata": {},
   "outputs": [],
   "source": [
    "#l['b'] # 提取表达式必须计算为整数"
   ]
  },
  {
   "cell_type": "code",
   "execution_count": null,
   "metadata": {},
   "outputs": [],
   "source": [
    "l[1 + 1] # 1 + 1 计算为整数 2，是有效的提取表达式\n",
    "n = len(l) # 计算列表的⻓度并命名为 n\n",
    "l[n - 1]\n",
    "l[len(l) - 1]\n",
    "matrix = [[3, 6, 9], [2, 8, 4], [5, 1, 0]] # 列表内的元素仍是列表\n",
    "matrix\n",
    "matrix[1][2] # 提取之后继续提取，matrix[1] 计算出了⼀个可提取的对象"
   ]
  },
  {
   "cell_type": "markdown",
   "metadata": {},
   "source": [
    "#### 映射提取\n",
    "对映射 (mapping) 对象 (object) 进⾏提取 (subscription) 时，提取表达式 (subscripting expression) 必\n",
    "须计算 (evaluate) 为 可散列 (hashable) 对象。这其实就是前⾯讲过的对键 (key) 的要求。通常⽽⾔，`不可变` (immutable) 内置类型 (built-in types) 都` 可散列` (hashable)，可变 (mutable) 内置类型 (built-in\n",
    "types) 都 `不可散列 `(unhashable)，程序员定义的类 (class) 的实例 (instance) 以 id() 为基础` 可散列`\n",
    "(hashable)。⼏个常⽤的内置数据类型 (built-in data types) 是否可变 (mutable) 或可散列 (hashable)\n",
    "参⻅表 1。"
   ]
  },
  {
   "cell_type": "markdown",
   "metadata": {},
   "source": [
    "### 几个常用内置数据类型所属的抽象基类"
   ]
  },
  {
   "cell_type": "markdown",
   "metadata": {},
   "source": [
    "![image.png](attachment:image.png)"
   ]
  },
  {
   "cell_type": "code",
   "execution_count": 4,
   "metadata": {},
   "outputs": [],
   "source": [
    "from PIL import Image\n",
    "img = Image.open(r\"E:\\1学习文件\\文件资料作业准考证\\大三下\\金融计算机\\第12次练习 12-表达式\\图表.jpg\")\n",
    "img.show()"
   ]
  },
  {
   "cell_type": "markdown",
   "metadata": {},
   "source": [
    "#### 没有歧义元组的圆括号可以省略,⽽且建议省略"
   ]
  },
  {
   "cell_type": "code",
   "execution_count": null,
   "metadata": {},
   "outputs": [],
   "source": [
    "d = {'a': 123, 98: 'a', (3, 4): 5., (0, 'a'): {3, 1, 4}} # 字典的 key 并不必须是相同类型\n",
    "d['a']\n",
    "d[98]\n",
    "d[(3, 4)]\n",
    "d[3, 4] # 因为没有歧义，所以这⾥元组的圆括号可以省略，⽽且建议省略\n",
    "d[0, 'a'] # 键所对应的值可以可变或不可散列"
   ]
  },
  {
   "cell_type": "markdown",
   "metadata": {},
   "source": [
    "特别注意，虽然 浮点数 (float) 是可散列 (hashable) 的，但由于其在内存中使⽤`有限`的若⼲⼆进制`字节`\n",
    "(bytes) 进⾏保存，其计算有时不能完全精确，被称为 `舍⼊误差 (round-off error)`，所以 ⾮常不建议 使\n",
    "⽤浮点数 (float) 作为字典 (dict) 中的键 (key)，否则很容易在提取 (subscription) 时出现意外错误。例\n",
    "如："
   ]
  },
  {
   "cell_type": "code",
   "execution_count": null,
   "metadata": {},
   "outputs": [],
   "source": [
    "d = {3.3: 'not recommended'} # 不建议⽤浮点数作为 key\n",
    "d[3.3] # 可以正常提取\n",
    "#d[1.1 + 2.2] # 不能正常提取"
   ]
  },
  {
   "cell_type": "markdown",
   "metadata": {},
   "source": [
    "#### 2.3 切⽚\n",
    "`序列` (sequence) 对象 (object) 还⽀持 切⽚ (slicing) 语法 (syntax)，⽤于 有规律地 从现有`序列`\n",
    "(sequence) 切取得到⼀个 新的 序列 (sequence) 对象 (object)。下⾯先给出⼀些例⼦"
   ]
  },
  {
   "cell_type": "markdown",
   "metadata": {},
   "source": [
    "#### 不包括方括号右侧"
   ]
  },
  {
   "cell_type": "code",
   "execution_count": null,
   "metadata": {
    "scrolled": true
   },
   "outputs": [],
   "source": [
    "l = ['a', 'b', 'c', 'd', 'e'] # 列表是个典型的序列\n",
    "l[1:] # 从索引值 1 开始 (包括 1) 切到最末尾\n",
    "l[:3] # 从最开始切到索引值 3 (不包括 3)\n",
    "l[-3:] # 从索引值 -3 (也就是索引值 5-3=2) 开始 (包括 -3)，切到最末尾\n",
    "l[:-1] # 从最开始切到索引值 -1 (也就是索引值 5-1=4) (不包括 -1)"
   ]
  },
  {
   "cell_type": "markdown",
   "metadata": {},
   "source": [
    "#### 切出的列表与原列表  值 相等,id 不同"
   ]
  },
  {
   "cell_type": "code",
   "execution_count": null,
   "metadata": {},
   "outputs": [],
   "source": [
    "l[1:-1] # 从索引值 1 开始 (包括 1) 切到索引值 -1 (不包括 -1)\n",
    "l[:] # 从最开始切到最末尾\n",
    "l[:] == l # 切出的列表与原列表 值 相等\n",
    "l[:] is l # 切出的列表与原列表 id 不同"
   ]
  },
  {
   "cell_type": "code",
   "execution_count": null,
   "metadata": {
    "scrolled": true
   },
   "outputs": [],
   "source": [
    "# 使⽤ [:] 切⽚是⼀个⽐较⽅便的复制序列对象的办法\n",
    "l.copy() # 列表对象的 copy ⽅法也可以⽤于复制列表，视觉上可能更直观\n",
    "l[::2] # 切⽚步⻓为 2\n",
    "l[::] # 与 l[:] 效果完全相同\n",
    "l[::1] # 切⽚步⻓为 1，与 l[:] 效果完全相同\n",
    "l[1::2] # 从索引值 1 开始 (包括 1) 切到最末尾，步⻓为 2\n",
    "l[:-1:2] # 从最开始切到索引值 -1 (不包括 -1)，步⻓为 2\n",
    "l[1:-1:2] # 从索引值 1 开始 (包括 1)，到索引值 -1 结束 (不包括 -1)，步⻓为 2"
   ]
  },
  {
   "cell_type": "markdown",
   "metadata": {},
   "source": [
    "#### 切出空列表和反转"
   ]
  },
  {
   "cell_type": "code",
   "execution_count": null,
   "metadata": {},
   "outputs": [],
   "source": [
    "l\n",
    "l[-1:1] # 切出空列表，因为起始的索引值 -1 (也就是索引值 5-1=4) ⼤于等于终⽌的索引值 1\n",
    "l[-1:1:-1] # 步⻓为 -1，就不再切出空列表，注意起始的索引值 -1 是包括的，终⽌的索引值 1 是不包括的\n",
    "l[::-1] # 步⻓为 -1，从最末尾切到最开始\n",
    "# 使⽤ [::-1] 切⽚是⼀个⽐较⽅便的得到反转的序列对象的办法\n",
    "l # 注意 l 列表并没有被反转，因为切⽚是⽣成⼀个新序列\n",
    "l.reverse() # 返回值为 None，发⽣的操作是反转 l 序列本身\n",
    "l # 注意 l 列表被反转"
   ]
  },
  {
   "cell_type": "markdown",
   "metadata": {},
   "source": [
    "可以看出，`切⽚` (slicing) 语法 (syntax) 就是在提取符 [] 内使⽤⼀个或两个冒号 (colon)，⽤来分隔三\n",
    "个可省略的表达式 (expression)，分别为切⽚的` 起始 (start)`、`终⽌ (stop)` 和 `步⻓ `(step)。⼀个冒号\n",
    "(colon) ⽤来分隔起始 (start) 和终⽌ (stop)，第⼆个冒号 (colon) 后⾯写步⻓ (step)。省略起始 (start) 或\n",
    "终⽌ (stop) 意味着从最开始切⽚或切⽚⾄最末尾。省略步⻓ (step) 意味着步⻓为 `1`。切⽚时尤其要注意\n",
    "的是：若指定起始 (start) 索引值 (index)，则其必然要被包含 (inclusive)；若指定终⽌ (stop) 索引值\n",
    "(index)，则其必然不被包含 (exclusive)"
   ]
  },
  {
   "cell_type": "markdown",
   "metadata": {},
   "source": [
    "#### 2.4 调⽤\n",
    "对于 可调⽤ (callable) 的对象 (object)，可以使⽤ 调⽤ (call) 语法 (syntax) 对其进⾏调⽤ (call)。例如："
   ]
  },
  {
   "cell_type": "markdown",
   "metadata": {},
   "source": [
    "#### 函数"
   ]
  },
  {
   "cell_type": "code",
   "execution_count": null,
   "metadata": {},
   "outputs": [],
   "source": [
    "print('hello') # print 是函数\n",
    "f=open('file1.txt', mode='w+',encoding = 'utf-8') # open 是函数\n",
    "f.write('hello')"
   ]
  },
  {
   "cell_type": "markdown",
   "metadata": {},
   "source": [
    "#### ⽅法"
   ]
  },
  {
   "cell_type": "code",
   "execution_count": null,
   "metadata": {
    "scrolled": true
   },
   "outputs": [],
   "source": [
    "'hi'.upper() # upper 是⽅法\n",
    "l = []\n",
    "l.append('a') # append 是⽅法"
   ]
  },
  {
   "cell_type": "markdown",
   "metadata": {},
   "source": [
    "#### 类型"
   ]
  },
  {
   "cell_type": "code",
   "execution_count": null,
   "metadata": {
    "scrolled": true
   },
   "outputs": [],
   "source": [
    "int('123') # int 是类型\n",
    "str(42) # str 是类型\n",
    "abc = {4:'bc',5:'ad',6:'99',6:90}\n",
    "tuple(abc) # tuple 是类型"
   ]
  },
  {
   "cell_type": "markdown",
   "metadata": {},
   "source": [
    "提取字典的键"
   ]
  },
  {
   "cell_type": "code",
   "execution_count": null,
   "metadata": {},
   "outputs": [],
   "source": [
    "abc = {4:'bc',5:'ad',6:'99',6:90}\n",
    "tuple(abc)\n",
    "index = []\n",
    "for i in range(len(abc)):\n",
    "    print(tuple(abc)[i])\n",
    "    index.append(tuple(abc)[i])\n",
    "index\n",
    "str(abc)"
   ]
  },
  {
   "cell_type": "markdown",
   "metadata": {},
   "source": [
    "`调⽤ `(call) 就是把若⼲`实参 `(arguments) 传递给可调⽤ (callable) 的`对象`，由其根据实参 (arguments)\n",
    "执⾏若⼲语句 (statements)，完成⼀些操作 (operation)，最后返回⼀个计算 (evaluate) 出的值 (或\n",
    "None)。\n",
    "\n",
    "常⻅的可调⽤ (callable) 对象 (object) 包括：函数 (function)、⽅法 (method)、类型 (type or\n",
    "class)。\n",
    "\n",
    "内置函数 (built-in function) callable 和抽象基类 (abstract base class) Callable 都可以⽤\n",
    "来检查某对象是否可调⽤ (callable)，但显然前者要简洁得多。"
   ]
  },
  {
   "cell_type": "code",
   "execution_count": null,
   "metadata": {},
   "outputs": [],
   "source": [
    "callable(open)\n",
    "import collections as coll\n",
    "isinstance(open, collections.abc.Callable)\n",
    "callable('open')\n",
    "isinstance('open', collections.abc.Callable)"
   ]
  },
  {
   "cell_type": "markdown",
   "metadata": {},
   "source": [
    "`调⽤ `(call) 语法 (syntax) 就是在能够计算 (evaluate) 出可调⽤ (callable) 对象 (object) 的表达式\n",
    "(expression) 的后⾯紧跟着写圆括号 (parenthesis) () ，在圆括号 (parenthesis) 内写要传递的 `实参`\n",
    "(arguments)，多个实参 (arguments) 之间⽤逗号 (comma) 分隔。调⽤ (call) 所传递的实参\n",
    "(arguments)，要遵循可调⽤ (callable) 对象 (object) 所定义的 `签名` (signature)。签名 (signature) 可以\n",
    "从源代码 (source code) 或者⽂档 (documentation) 静态地 (statically) 查看，也可以⽤ `inspect `内置\n",
    "模块 (built-in module) 的 `signature` 函数动态地 (dynamically) 获取。"
   ]
  },
  {
   "cell_type": "markdown",
   "metadata": {},
   "source": [
    "### [sort和sorted函数](https://www.runoob.com/python3/python3-func-sorted.html)"
   ]
  },
  {
   "cell_type": "code",
   "execution_count": null,
   "metadata": {
    "scrolled": true
   },
   "outputs": [],
   "source": [
    "import inspect\n",
    "inspect.signature(open)\n",
    "inspect.signature(sorted)\n",
    "a = [1,2,3,4,5,6]\n",
    "\n",
    "a.sort(reverse=True)\n",
    "a"
   ]
  },
  {
   "cell_type": "code",
   "execution_count": null,
   "metadata": {
    "scrolled": true
   },
   "outputs": [],
   "source": [
    "a = [1,2,3,4,5,6]\n",
    "sorted(a,reverse = True)\n",
    "a"
   ]
  },
  {
   "cell_type": "code",
   "execution_count": null,
   "metadata": {},
   "outputs": [],
   "source": [
    "inspect.signature(sorted)\n",
    "# iterable 是定位形参 (positional parameter)， key 和 reverse则是命名形参 (named parameter)。等号 = 后⾯是命名形参 (named parameter) 的 `默认值`(defaultvalue)。"
   ]
  },
  {
   "cell_type": "markdown",
   "metadata": {},
   "source": [
    "`签名` (signature) 由 `形参` (parameters) 组成，⽽形参 (parameters) ⼜分为 `定位形参 `(positional\n",
    "parameters) 和 `命名形参 `(named parameters) 两种。以内置函数 sorted 的签名 (signature) 所包含\n",
    "的三个形参 (parameters) 为例， iterable 是定位形参 (positional parameter)， key 和 reverse\n",
    "则是命名形参 (named parameter)。等号 = 后⾯是命名形参 (named parameter) 的 `默认值`(default\n",
    "value)。"
   ]
  },
  {
   "cell_type": "markdown",
   "metadata": {},
   "source": [
    "在调⽤ (call) 时，必须 给定位形参 (positional parameter) 传递实参 (argument)，可以 给命名形参\n",
    "(named parameter) 传递实参 (argument)。未接受实参 (argument) 的命名形参 (named parameter)\n",
    "将取其默认值 (default value)。实参 (argument) 可以按定位 (positional) ⽅式传递，也可以按命名\n",
    "(named) ⽅式传递，但 `定位实参` (positional argument) ⼀定要排在 `命名实参 `(named argument) 之\n",
    "前。签名 (signature) 中的 / 符号之前的形参 (parameters) 只 接受定位实参 (positional\n",
    "argument)， * 符号之后的形参 (parameters) 只 接受命名实参 (named argument)。"
   ]
  },
  {
   "cell_type": "code",
   "execution_count": null,
   "metadata": {},
   "outputs": [],
   "source": [
    "with open('file1.txt','w+') as f:\n",
    "    f.write('Hello ! \\t The world')\n",
    "    r = f.read()\n",
    "    print(r)"
   ]
  },
  {
   "cell_type": "code",
   "execution_count": null,
   "metadata": {
    "scrolled": true
   },
   "outputs": [],
   "source": [
    "import inspect\n",
    "inspect.signature(sum) # 注意观察 sum 的签名\n",
    "sum([2, 1, 3, 4]) # start 参数取默认值\n",
    "#sum([2, 1, 3, 4], start=20) # start 是命名形参，但只接受定位实参\n",
    "sum([2, 1, 3, 4], 200)"
   ]
  },
  {
   "cell_type": "markdown",
   "metadata": {},
   "source": [
    "### Open的几个参数不分定位和命名，可以自己命名或者默认，但是命名后为命名参数，不可以在默认参数之前"
   ]
  },
  {
   "cell_type": "code",
   "execution_count": null,
   "metadata": {
    "scrolled": true
   },
   "outputs": [],
   "source": [
    "inspect.signature(open) # 注意观察 open 的签名"
   ]
  },
  {
   "cell_type": "code",
   "execution_count": null,
   "metadata": {},
   "outputs": [],
   "source": [
    "open('file1.txt', 'w+') # 定位实参 'w' 传给了命名形参 mode\n",
    "open(mode='w+', file='file2.txt') # 两个命名实参颠倒了顺序传给定位形参 file和命名形参 mode"
   ]
  },
  {
   "cell_type": "code",
   "execution_count": null,
   "metadata": {},
   "outputs": [],
   "source": [
    "open(mode='w+', 'file3.txt') # 定位实参必须在命名实参之前"
   ]
  },
  {
   "cell_type": "code",
   "execution_count": null,
   "metadata": {},
   "outputs": [],
   "source": [
    "inspect.signature(sorted) # 注意观察 sorted 的签名\n",
    "l = ['dd', 'aaaa', 'ccc', 'b']\n",
    "sorted(l,reverse = True) # 按字符串的默认⽐较规则排序\n",
    "sorted(l) \n",
    "sorted(l, key=len)# 把字符串传递给 len 函数，计算出字符串的⻓度，按⻓度排序\n",
    "sorted(l, key=len,reverse = True)"
   ]
  },
  {
   "cell_type": "code",
   "execution_count": null,
   "metadata": {
    "scrolled": true
   },
   "outputs": [],
   "source": [
    "sorted(iterable=l) # iterable 形参只接受定位实参，不接受命名实参\n",
    "sorted(l, len) # 命名形参 key 只接受命名实参"
   ]
  },
  {
   "cell_type": "markdown",
   "metadata": {},
   "source": [
    "### 高阶函数"
   ]
  },
  {
   "cell_type": "markdown",
   "metadata": {},
   "source": [
    "像` sorted` 这样的接受可调⽤ (callable) 对象 (object) 作为实参 (argument) 的函数 (function)，被称为\n",
    "`⾼阶函数` (higher-order function)"
   ]
  },
  {
   "cell_type": "markdown",
   "metadata": {},
   "source": [
    "## 3.运算符(operators)表达式\n",
    "运算符 (operators) 作⽤于⼀个或两个表达式 (expression)，计算 (evaluate) 出⼀个 新的 对象\n",
    "(object)。例如 1 + 2 这个表达式 (expression) 中， + 就是运算符 (operator)， 1 和 2 是表达式\n",
    "(expression)，这个表达式 (expression) 将计算 (evaluate) 出 3 。下⾯按照优先级 (priority) 由⾼到低\n",
    "的顺序依次介绍 Python 所⽀持的各种运算符 (operators)"
   ]
  },
  {
   "cell_type": "markdown",
   "metadata": {},
   "source": [
    "#### 指数运算符(**)\n"
   ]
  },
  {
   "cell_type": "markdown",
   "metadata": {},
   "source": [
    "- 当 `x` 、 `y` 为整数 (int) 或浮点数 (float) 时， `x**y` 计算数学上的 `幂` (exponentiation) 。例如"
   ]
  },
  {
   "cell_type": "code",
   "execution_count": null,
   "metadata": {},
   "outputs": [],
   "source": [
    "2**8\n",
    "2**0.5\n",
    "0.5**2\n",
    "0.09**0.5"
   ]
  },
  {
   "cell_type": "markdown",
   "metadata": {},
   "source": [
    "当` x` 为其他对象 (object) 时， `x**y` 将调⽤ (call)` x.__pow__(y)`"
   ]
  },
  {
   "cell_type": "code",
   "execution_count": null,
   "metadata": {},
   "outputs": [],
   "source": [
    "import math\n",
    "math.pow(2,2)"
   ]
  },
  {
   "cell_type": "code",
   "execution_count": null,
   "metadata": {},
   "outputs": [],
   "source": [
    "2**2"
   ]
  },
  {
   "cell_type": "markdown",
   "metadata": {},
   "source": [
    "#### 正、负、⽐特⾮运算符 ( + , - , ~ )\n",
    "- 当 `x `为整数 (int) 或浮点数 (float) 时，` +x `计算数学上的 正 (positive) ； `-x `计算数学上的 负\n",
    "(negative) ；当` x `为整数 (int) 时，`~x` 计算该整数的⼆进制表示 (binary representation)\n",
    "的 `⽐特⾮ (bitwise NOT)`  。例如："
   ]
  },
  {
   "cell_type": "code",
   "execution_count": null,
   "metadata": {},
   "outputs": [],
   "source": [
    "x = -3\n",
    "+x\n",
    "-x\n",
    "-x**2 # 注意优先级\n",
    "bin(x)\n",
    "bin(~x)\n",
    "~x # 从整数的⻆度来看，⽐特⾮等于 -(x+1)"
   ]
  },
  {
   "cell_type": "markdown",
   "metadata": {},
   "source": [
    "- 当 x 为其他对象 (object) 时，` +x` 、` -x` 、` ~x` 将分别调⽤ (call)\n",
    "`x.__pos__() `、` x.__neg__()` 、 `x.__invert__() `"
   ]
  },
  {
   "cell_type": "markdown",
   "metadata": {},
   "source": [
    "### 乘、除、取余运算符 ( * , / , @ , // , % )"
   ]
  },
  {
   "cell_type": "markdown",
   "metadata": {},
   "source": [
    "- 当`x` 、` y` 为整数 (int) 或浮点数 (float) 时，`x*y` 、`x/y` 分别计算数学上的 乘 (multiplication) \n",
    "和 除 (division)\n",
    "\n",
    "$$x/y  :$$ \n",
    "\n",
    "即使 `x `和` y `都是整数 (int)，` x/y` 计算出的也是浮点数 (float)；` x//y `计算\n",
    "数学上的 整除 (floor division)，即相除的结果向下 (floor) 取整；` x%y `计算数学上的 余数\n",
    "(remainder)；使⽤内置函数` divmod(x, y) `可以同时计算整除 (floor division) 和余数\n",
    "(remainder)。例如："
   ]
  },
  {
   "cell_type": "code",
   "execution_count": null,
   "metadata": {},
   "outputs": [],
   "source": [
    "2*5\n",
    "3.14*8\n",
    "10/2 # 注意结果是浮点数\n",
    "10/3 # 注意最后⼀位并不精确，round-off error\n",
    "11//4 # 结果是整数\n",
    "-5//2 # 向下取整\n",
    "11//4\n",
    "11%4\n",
    "divmod(11, 4) # ⽐分别计算 11//4 和 11%4 更⾼效些"
   ]
  },
  {
   "cell_type": "markdown",
   "metadata": {},
   "source": [
    "- 当 `x` 为序列 (sequence) 时，` x*y `将把` x `重复 (repeat)` y `次，` y `必须为整数 (int)。例如："
   ]
  },
  {
   "cell_type": "code",
   "execution_count": null,
   "metadata": {},
   "outputs": [],
   "source": [
    "'*'*78\n",
    "b'\\x00'*8\n",
    "('a', )*3 # 必须写逗号, 否则得到的不是元组\n",
    "[1, 2, 3]*5"
   ]
  },
  {
   "cell_type": "markdown",
   "metadata": {},
   "source": [
    "- 当` x` 为字符串 (str) 或字节串 (bytes) 时，` x % y` 将把 x 根据 y 进⾏ `格式化 `(format)。字符串\n",
    "格式化 (string formatting) 的概念后⾯会专⻔介绍。例如："
   ]
  },
  {
   "cell_type": "code",
   "execution_count": null,
   "metadata": {},
   "outputs": [],
   "source": [
    "'Calculating... 42^2 = %s.' % 42**2\n",
    "'%s and %s are neighbors' % ('Jack', 'Jones') # 注意要加括号，不会优先计算元组\n",
    "b'bytes of \\'hello\\' is %s' % '你好'.encode('utf-8')"
   ]
  },
  {
   "cell_type": "markdown",
   "metadata": {},
   "source": [
    "当`x `为矩阵 (matrix) 时，` x@y` 将计算数学上的 矩阵乘法 (matrix multiplication)。Python 并没\n",
    "有内置矩阵类型，著名的第三⽅软件包 Numpy 提供了数组 (ndarray) 对象，⽀持` @`运算符。例\n",
    "如："
   ]
  },
  {
   "cell_type": "code",
   "execution_count": null,
   "metadata": {},
   "outputs": [],
   "source": [
    "import numpy as np\n",
    "A = np.array([[1,2],[-3, 0]])\n",
    "b = np.array([1,1])#一组[]即可\n",
    "A,b\n",
    "type(A)\n",
    "type(b)\n",
    "A@b"
   ]
  },
  {
   "cell_type": "markdown",
   "metadata": {},
   "source": [
    "- 当 `x `为其他对象 (object) 时，` x*y` 、` x/y` 、`x@y` 、` x//y` 、` x%y` 将分别调⽤ (call)\n",
    "`x.__mul__(y)` 、` x.__truediv__(y)` 、` x.__matmul__(y)` 、` x.__floordiv__(y)` 、 `x.__mo`\n",
    "`d__(y)` 。"
   ]
  },
  {
   "cell_type": "markdown",
   "metadata": {},
   "source": [
    "#### 加减运算符 ( + , - )\n",
    "当 `x `、` y `为整数 (int) 或浮点数 (float) 时， `x + y` 和 `x - y `将计算数学上的 加法(addition)`x+y` \n",
    "和 减法 (subtraction)`x-y` 。例如："
   ]
  },
  {
   "cell_type": "code",
   "execution_count": null,
   "metadata": {},
   "outputs": [],
   "source": [
    "2+8\n",
    "3-3"
   ]
  },
  {
   "cell_type": "markdown",
   "metadata": {},
   "source": [
    "- 当 `x `和` y` 为相同类型的序列 (sequence) 时，` x + y `将计算序列的 拼接 (concatenation)。例\n",
    "如："
   ]
  },
  {
   "cell_type": "code",
   "execution_count": null,
   "metadata": {},
   "outputs": [],
   "source": [
    "'abc' + 'def'\n",
    "b'a' + b'z'\n",
    "('a', ) + (1, 2)\n",
    "type('a')\n",
    "type(('a'))\n",
    "type(('a',))\n",
    "['x'] + ['y']"
   ]
  },
  {
   "cell_type": "markdown",
   "metadata": {},
   "source": [
    "- 当 x 和 y 均为集合 (set) 时， x - y 将计算两集合 (set) 的 差集 (difference set)。即减去交集。\n",
    "\n",
    "例如：\n"
   ]
  },
  {
   "cell_type": "code",
   "execution_count": null,
   "metadata": {},
   "outputs": [],
   "source": [
    "x = {1, 2, 3}\n",
    "y = {2, 3, 4}\n",
    "x - y # 从集合 x 中剔除所有也属于集合 y 的元素\n",
    "y - x # 从集合 y 中剔除所有也属于集合 x 的元素"
   ]
  },
  {
   "cell_type": "markdown",
   "metadata": {},
   "source": [
    "- 当 x 为其他对象 (object) 时， x + y 和 x - y 将分别调⽤ (call)` x.__add__(y) `和\n",
    "`x.__sub__(y)` 。"
   ]
  },
  {
   "cell_type": "code",
   "execution_count": null,
   "metadata": {},
   "outputs": [],
   "source": [
    "\"a\".__add__('2')\n",
    "'a'+'2'"
   ]
  },
  {
   "cell_type": "markdown",
   "metadata": {},
   "source": [
    "#### ⽐特移位运算符 ( << , >> )\n",
    "- 当 `x` 、`y `为整数 (int) 时， `x << y` 和 `x >> y `将分别计算 `左右⽐特移位 `(left or right bitwise\n",
    "shift)。对于⼗进制整数来说其效果相当于连乘 y 个 2 或连除 y 个 2 (向下取整)。例如："
   ]
  },
  {
   "cell_type": "markdown",
   "metadata": {},
   "source": [
    "#### 二进制连乘（连除）相当于将二进制字面值左移（右移）两个位置"
   ]
  },
  {
   "cell_type": "code",
   "execution_count": null,
   "metadata": {},
   "outputs": [],
   "source": [
    "x = 3\n",
    "x << 2\n",
    "format(x<<2)\n",
    "format(x << 2, '08b')"
   ]
  },
  {
   "cell_type": "code",
   "execution_count": null,
   "metadata": {},
   "outputs": [],
   "source": [
    "x = 0b101011\n",
    "x\n",
    "x >> 2\n",
    "format(x, '08b')\n",
    "format(x >> 2, '08b')\n",
    "format(x >> 3, '08b')"
   ]
  },
  {
   "cell_type": "markdown",
   "metadata": {},
   "source": [
    "- 当 `x` 为其他对象 (object) 时，` x << y `和 `x >> y` 将分别调⽤ (call) `x.__lshift__(y) `和\n",
    "`x.__rshift__(y)` 。"
   ]
  },
  {
   "cell_type": "markdown",
   "metadata": {},
   "source": [
    "#### ⽐特与运算符(&)"
   ]
  },
  {
   "cell_type": "markdown",
   "metadata": {},
   "source": [
    "\n",
    "- 当 x 、 y 为整数 (int) 时， x & y 将计算 x 与 y 的 ⽐特与 (bitwise AND)。例如："
   ]
  },
  {
   "cell_type": "code",
   "execution_count": null,
   "metadata": {},
   "outputs": [],
   "source": [
    "x = 0b1001\n",
    "y = 0b1100\n",
    "format(x, '08b')\n",
    "format(y, '08b')\n",
    "format(x & y, '08b')\n",
    "format(y & x, '08b')\n",
    "x,y,y&x"
   ]
  },
  {
   "cell_type": "code",
   "execution_count": null,
   "metadata": {},
   "outputs": [],
   "source": [
    "0x16\n",
    "0b0001\n",
    "0o123"
   ]
  },
  {
   "cell_type": "markdown",
   "metadata": {},
   "source": [
    "- 当 x 和 y 均为集合 (set) 时， x & y 将计算 x 与 y 的 交集 (intersection)。例如："
   ]
  },
  {
   "cell_type": "code",
   "execution_count": null,
   "metadata": {},
   "outputs": [],
   "source": [
    "s1 = {'a', 'b'}\n",
    "s2 = {'b', 'c'}\n",
    "s1 & s2\n",
    "s1.intersection(s2)"
   ]
  },
  {
   "cell_type": "markdown",
   "metadata": {},
   "source": [
    "- 当 x 为其他对象 (object) 时， x & y 将调⽤ (call) x.__and__(y) 。"
   ]
  },
  {
   "cell_type": "markdown",
   "metadata": {},
   "source": [
    "#### python并集交集差集"
   ]
  },
  {
   "cell_type": "markdown",
   "metadata": {},
   "source": [
    "[python 并集union, 交集intersection, 差集difference](https://blog.csdn.net/lanyang123456/article/details/77596349)"
   ]
  },
  {
   "cell_type": "markdown",
   "metadata": {},
   "source": [
    "#### ⽐特异或运算符 ( ^ )\n",
    "- 当 x 、 y 为整数 (int) 时， x ^ y 将计算 x 与 y 的 ⽐特异或 (bitwise XOR)。例如："
   ]
  },
  {
   "cell_type": "code",
   "execution_count": null,
   "metadata": {},
   "outputs": [],
   "source": [
    "x = 0b1001\n",
    "y = 0b1100\n",
    "format(x, '08b')\n",
    "format(y, '08b')\n",
    "format(x ^ y, '08b')\n",
    "format(y ^ x, '08b')\n",
    "0b00000101\n",
    "x,y,x^y"
   ]
  },
  {
   "cell_type": "markdown",
   "metadata": {},
   "source": [
    "- 当 x 和 y 均为集合 (set) 时， x ^ y 将计算 x 与 y 的 对称差 (symmetric difference)。例\n",
    "如："
   ]
  },
  {
   "cell_type": "code",
   "execution_count": null,
   "metadata": {},
   "outputs": [],
   "source": [
    "s1 = {'a', 'b'}\n",
    "s2 = {'b', 'c'}\n",
    "s1.symmetric_difference(s2)\n",
    "s1 ^ s2"
   ]
  },
  {
   "cell_type": "markdown",
   "metadata": {},
   "source": [
    "- 当 x 为其他对象 (object) 时， x ^ y 将调⽤ (call) x.__xor__(y) 。\n"
   ]
  },
  {
   "cell_type": "markdown",
   "metadata": {},
   "source": [
    "⽐特或运算符 ( | )\n",
    "- 当 x 、 y 为整数 (int) 时， x | y 将计算 x 与 y 的 ⽐特或 (bitwise OR)。例如"
   ]
  },
  {
   "cell_type": "code",
   "execution_count": null,
   "metadata": {},
   "outputs": [],
   "source": [
    "x = 0b1001\n",
    "y = 0b1100\n",
    "format(x, '08b')\n",
    "format(y, '08b')\n",
    "format(x | y, '08b')\n",
    "format(y | x, '08b')\n",
    "x,y,x|y"
   ]
  },
  {
   "cell_type": "markdown",
   "metadata": {},
   "source": [
    "- 当 x 和 y 均为集合 (set) 时， x & y 将计算 x 与 y 的 并集 (union)。例如："
   ]
  },
  {
   "cell_type": "code",
   "execution_count": null,
   "metadata": {},
   "outputs": [],
   "source": [
    "s1 = {'a', 'b'}\n",
    "s2 = {'b', 'c'}\n",
    "s1 | s2"
   ]
  },
  {
   "cell_type": "markdown",
   "metadata": {},
   "source": [
    "- 当 x 为其他对象 (object) 时， x | y 将调⽤ (call) x.__or__(y) 。"
   ]
  },
  {
   "cell_type": "markdown",
   "metadata": {},
   "source": [
    "#### 逻辑⽐较运算符\n"
   ]
  },
  {
   "cell_type": "markdown",
   "metadata": {},
   "source": [
    "逻辑⽐较运算符 ( in , not in , is , is not , < , <= , > , >= , != , == )\n",
    "\n",
    "逻辑⽐较运算符 (logical comparison operators) 的返回值 (return value) 都是 True 或 False。"
   ]
  },
  {
   "cell_type": "markdown",
   "metadata": {},
   "source": [
    "-` x in y `或`x not in y`要求` y `是⼀个 容器 (container)，⽤来判断 `x `是否 属于 (in) 容器 `y `，\n",
    "实际上调⽤ (call) 的是 `y.__contains__(x) `。例如："
   ]
  },
  {
   "cell_type": "code",
   "execution_count": null,
   "metadata": {},
   "outputs": [],
   "source": [
    "'a' in 'abc' # 字符是否在字符串中\n",
    "'ok' in 'Is this ok or not?' # 字符串是否在字符串中\n",
    "'ac' in 'abc' # 注意返回值\n",
    "#'a' in b'abc' # 注意报错信息\n",
    "#>>> a bytes-like object is required, not 'str'"
   ]
  },
  {
   "cell_type": "code",
   "execution_count": null,
   "metadata": {},
   "outputs": [],
   "source": [
    "b'ab' in b'abc' # 字节流是否在在字节流中\n",
    "97 in b'abc' # 注意为什么成功\n",
    "\n",
    "97 in 'abc' # 注意报错信息\n",
    "#>>>  'in <string>' requires string as left operand, not int"
   ]
  },
  {
   "cell_type": "code",
   "execution_count": null,
   "metadata": {},
   "outputs": [],
   "source": [
    "'b' in ('a', 'b', 'c')\n",
    "('a', 'b') in ('a', 'b', 'c') # 注意返回值\n",
    "('a', 'b') in (('a', 'b'), 'c')\n",
    "'a' in (c for c in 'abc') # 注意可以成功"
   ]
  },
  {
   "cell_type": "markdown",
   "metadata": {},
   "source": [
    "#### 例外：⽣成器\n",
    "生成器没有__contains__属性\n",
    "\n",
    "⼩⼼⽣成器计算过后不保\n",
    "留的特性"
   ]
  },
  {
   "cell_type": "code",
   "execution_count": 3,
   "metadata": {},
   "outputs": [],
   "source": [
    "from IPython.core.interactiveshell import InteractiveShell\n",
    "InteractiveShell.ast_node_interactivity = 'all'"
   ]
  },
  {
   "cell_type": "code",
   "execution_count": 4,
   "metadata": {
    "scrolled": true
   },
   "outputs": [
    {
     "data": {
      "text/plain": [
       "True"
      ]
     },
     "execution_count": 4,
     "metadata": {},
     "output_type": "execute_result"
    },
    {
     "data": {
      "text/plain": [
       "['c']"
      ]
     },
     "execution_count": 4,
     "metadata": {},
     "output_type": "execute_result"
    },
    {
     "data": {
      "text/plain": [
       "False"
      ]
     },
     "execution_count": 4,
     "metadata": {},
     "output_type": "execute_result"
    },
    {
     "data": {
      "text/plain": [
       "True"
      ]
     },
     "execution_count": 4,
     "metadata": {},
     "output_type": "execute_result"
    }
   ],
   "source": [
    "g = (c for c in 'abc')\n",
    "#next(g)\n",
    "#tuple(g)\n",
    "'b' in g\n",
    "list(g) # 因为前⾯判断 'b' in g 中取出过 'a' 和 'b'\n",
    "'__contains__' in dir(g) # ⽣成器没有 __contains__ 属性，不是容器，所以 in 在⽣成器上是个例外：⽣成器可以使⽤ in 运算符，但要特别⼩⼼⽣成器计算过后不保留的特性\n",
    "'a' in ['a', 'b', 'c']"
   ]
  },
  {
   "cell_type": "markdown",
   "metadata": {},
   "source": [
    "#### 对字典使⽤"
   ]
  },
  {
   "cell_type": "code",
   "execution_count": null,
   "metadata": {},
   "outputs": [],
   "source": [
    "['a', 'b'] in ['a', 'b', 'c'] # 注意返回值\n",
    "['a', 'b'] in [['a', 'b'], 'c']\n",
    "'b' in {'a': 1, 'b': 2, 'c': 3}\n",
    "2 in {'a': 1, 'b': 2, 'c': 3} # 注意返回值，对字典使⽤ in 运算符的时候，考虑的只是键"
   ]
  },
  {
   "cell_type": "code",
   "execution_count": null,
   "metadata": {},
   "outputs": [],
   "source": [
    "#{'b': 2} in {'a': 1, 'b': 2, 'c': 3} # 注意报错信息\n",
    "#>>> unhashable type: 'dict'\n",
    "('a', 'b') in {'a': 1, 'b': 2, 'c': 3}\n",
    "'c' in {'a', 'b', 'c'}\n",
    "{'a'} in {'a', 'b', 'c'} # 注意返回值"
   ]
  },
  {
   "cell_type": "markdown",
   "metadata": {},
   "source": [
    "- ` x` is` y` 或 `x `is not` y `可以应⽤于`任何`两个对象 (object) `x `、 `y` ，⽤来判断他们是否 相同\n",
    "(same)，实际上计算的是 `id(x) == id(y)` 。例如："
   ]
  },
  {
   "cell_type": "code",
   "execution_count": null,
   "metadata": {},
   "outputs": [],
   "source": [
    "x = [1, 2, 3]\n",
    "l = ['a', 'b', x]\n",
    "l\n",
    "x in l\n",
    "x.append(4)\n",
    "l # 注意 l 现在的变化\n",
    "x is l[2]\n",
    "l[2] is [1, 2, 3, 4]\n",
    "id(x)\n",
    "id([1,2,3,4])\n",
    "id([1,2,3,4])"
   ]
  },
  {
   "cell_type": "markdown",
   "metadata": {},
   "source": [
    "- 当` x `与` y `是整数 (int) 或浮点数 (float) 时， x < y 、 x <= y 、 x > y 、 x >= y 、 x !=\n",
    "y 、 x == y 分别计算数学上的` ⼩于 `(less than)、`⼩于等于` (less than or equal to)、`⼤于 `(bigger\n",
    "than)、`⼤于等于` (bigger than or equal to)、`不等于` (not equal to)、`等于 `(equal to)."
   ]
  },
  {
   "cell_type": "markdown",
   "metadata": {},
   "source": [
    "- 当 x 与 y 是 单个字符 构成的字符串 (str) 时，⽐较的是字符的 Unicode 编码。例如："
   ]
  },
  {
   "cell_type": "code",
   "execution_count": null,
   "metadata": {},
   "outputs": [],
   "source": [
    "'a' < 'z'\n",
    "ord('编')\n",
    "ord('码')\n",
    "'编' > '码' # 注意不是按拼⾳排序\n",
    "ord('⼈')\n",
    "ord('三')\n",
    "'⼈' > '三' # 注意不是按笔画数排序\n",
    "chr(97)"
   ]
  },
  {
   "cell_type": "markdown",
   "metadata": {},
   "source": [
    "- 当 `x `与 `y` 是字符串 (str)、字节串 (bytes)、元组 (tuple)、列表 (list) 等序列 (sequence) 时，⽐较\n",
    "按 `字典序` (lexicographical order) 规则进⾏，即先只⽐较第⼀个元素，若相等才再⽐较第⼆个元\n",
    "素，若再相等才⽐较第三个元素……依此类推。例如："
   ]
  },
  {
   "cell_type": "markdown",
   "metadata": {},
   "source": [
    "#### 序列 (sequence) ：同类型，可不同长度"
   ]
  },
  {
   "cell_type": "code",
   "execution_count": null,
   "metadata": {},
   "outputs": [],
   "source": [
    "'azzz' < 'baaa'\n",
    "'hat' < 'hot'\n",
    "'~abc' > 'Z' # 元素数量可以不同\n",
    "'aaaa' > 'aaa'\n",
    "b'azzz' < b'baaa'"
   ]
  },
  {
   "cell_type": "code",
   "execution_count": null,
   "metadata": {},
   "outputs": [],
   "source": [
    "('a', 5) > ('a', 3)\n",
    "[1, 2, 'a'] < [1, 2, 'b']"
   ]
  },
  {
   "cell_type": "code",
   "execution_count": null,
   "metadata": {
    "scrolled": true
   },
   "outputs": [],
   "source": [
    "b'azzz' < 'baaa' # 字节流与字符串不可⽐较\n",
    "{'a': 1} < {'a': 1, 'b': 2} # 字典不是序列，不能⽐较⼤⼩\n",
    "('a', 5) > ('a', 'b') # 注意⽐较到第⼆个元素时报错"
   ]
  },
  {
   "cell_type": "markdown",
   "metadata": {},
   "source": [
    "集合的逻辑运算"
   ]
  },
  {
   "cell_type": "markdown",
   "metadata": {},
   "source": [
    "- 当 `x `与`y `是集合 (set) 时， `x < y` 定义为` x` 是`y `的 `真⼦集` (proper subset)。例如"
   ]
  },
  {
   "cell_type": "code",
   "execution_count": null,
   "metadata": {
    "scrolled": false
   },
   "outputs": [],
   "source": [
    "{1, 2} < {3, 4} # 集合不是序列，不按字典序\n",
    "{1, 2} < {1, 2, 3}"
   ]
  },
  {
   "cell_type": "markdown",
   "metadata": {},
   "source": [
    "#### 不同类型 (type) 的对象 (object) 通常不能⽐较⼤⼩ (整数 (int) 与浮点数 (float) 是例外，可以相互\n",
    "\n",
    "#### 从字节流提取出的元素是整数"
   ]
  },
  {
   "cell_type": "markdown",
   "metadata": {},
   "source": [
    "- 不同类型 (type) 的对象 (object) 通常不能⽐较⼤⼩ (整数 (int) 与浮点数 (float) 是例外，可以相互\n",
    "⽐较)，但可以⽐较是否相等。两对象相等⼀般都要求类型 (type) 相同。例如："
   ]
  },
  {
   "cell_type": "code",
   "execution_count": null,
   "metadata": {},
   "outputs": [],
   "source": [
    "#(1, 2) < [1, 2] # 不同类型的对象⼀般不可⽐较⼤⼩\n",
    "10 > 2.2 # 整数与浮点数是例外，可以相互⽐较\n",
    "(1, 2) == [1, 2] # 不同类型的对象可以⽐较相等不相等，但相等的前提是类型相同\n",
    "97 != 'a'\n",
    "97 != b'a'\n",
    "97 == b'a'[0] # 从字节流提取出的元素是整数"
   ]
  },
  {
   "cell_type": "markdown",
   "metadata": {},
   "source": [
    "- True 和 False 的类型 布尔 (bool) 是整数 (int) 类型的⼦类 (subclass)。True 等于 1，False 等于\n",
    "0，True 和 False 可以与其他任何整数 (int)、浮点数 (float) 相⽐较。例如："
   ]
  },
  {
   "cell_type": "markdown",
   "metadata": {},
   "source": [
    "#### Python_isinstance()函数"
   ]
  },
  {
   "cell_type": "markdown",
   "metadata": {},
   "source": [
    "[Python isinstance() 函数](https://www.runoob.com/python/python-func-isinstance.html)"
   ]
  },
  {
   "cell_type": "code",
   "execution_count": null,
   "metadata": {},
   "outputs": [],
   "source": [
    "type(True)\n",
    "issubclass(bool, int)\n",
    "isinstance(False, bool)\n",
    "isinstance(False, int)\n",
    "True == 1\n",
    "False == 0\n",
    "\n",
    "True is 1\n",
    "False is 0\n",
    "\n",
    "5 > True\n",
    "False > -10\n",
    "3.14 > True\n",
    "0.0 == False"
   ]
  },
  {
   "cell_type": "code",
   "execution_count": null,
   "metadata": {
    "scrolled": true
   },
   "outputs": [],
   "source": [
    "'a' > True # 字符串不能和布尔值⽐较⼤⼩"
   ]
  },
  {
   "cell_type": "markdown",
   "metadata": {},
   "source": [
    "#### None只能比较是否相等"
   ]
  },
  {
   "cell_type": "markdown",
   "metadata": {},
   "source": [
    "- None 不可以和任何对象 (object) ⽐较⼤⼩，但可以和任何对象⽐较是否相等。None 只等于\n",
    "None，不等于其他任何对象。例如"
   ]
  },
  {
   "cell_type": "code",
   "execution_count": null,
   "metadata": {},
   "outputs": [],
   "source": [
    "1 > None # 不能⽐较\n",
    "'a' > None # 不能⽐较\n",
    "True > None # 不能⽐较"
   ]
  },
  {
   "cell_type": "code",
   "execution_count": null,
   "metadata": {},
   "outputs": [],
   "source": [
    "1 == None # 可以⽐较\n",
    "'a' == None # 可以⽐较\n",
    "True == None # 可以⽐较\n",
    "None == None"
   ]
  },
  {
   "cell_type": "markdown",
   "metadata": {},
   "source": [
    "- 当` x` 与 `y `是其他对象 (objects) 时，` x < y `、 `x <= y` 、 `x > y` 、 `x >= y `、 `x != y `、` x ==\n",
    "y `将分别调⽤ (call)\n",
    "\n",
    "`x.__lt__(y)` 、 `x.__le__(y) `、 `x.__gt__(y)` 、 `x.__ge__(y) `、` x.__ne__(y)` 、 `x.__eq__(\n",
    "y)` 。"
   ]
  },
  {
   "cell_type": "markdown",
   "metadata": {},
   "source": [
    "#### 逻辑⾮运算符 ( not )\n",
    "`not x` 计算表达式 (expression)` x `的 逻辑⾮ (logical NOT)。 `x` 可以是任何对象 (object)，并⾮必须要\n",
    "计算 (evaluate) 为 True 或 False。换句话说，Python 对 任意 ⼀个对象 (object) 都可以进⾏ `逻辑判断`\n",
    "(truth value testing)。判断为逻辑否 (False) 的对象 (object) 包括："
   ]
  },
  {
   "cell_type": "markdown",
   "metadata": {},
   "source": [
    "    1. None 和 False\n",
    "    2. 任意数值 (numeric) 类型的 零值，如 0 、 0.0 、 0j\n",
    "    3. ⻓度为零 的容器 (container)，如空字符串 (empty str) '' 、空元组 (empty tuple) () 、空列    表 [] 、空字典 {} 、空集合 set() ，即 len(x) == 0\n",
    "    4. 满⾜` x.__bool__()` == False 的任何对象\n",
    "    \n",
    "- 不满⾜以上条件的任何对象 (object) 都将被判断为逻辑真 (True)。例如："
   ]
  },
  {
   "cell_type": "code",
   "execution_count": null,
   "metadata": {
    "scrolled": true
   },
   "outputs": [],
   "source": [
    "not print('hello') # None\n",
    "9//10,9%10,divmod(9,10)\n",
    "not 9//10 # 0\n",
    "not 3.0 - 2.0 - 1.0 # 0.0\n",
    "not 3.3 - 2.2 - 1.1 # 注意 round-off error 的可能性"
   ]
  },
  {
   "cell_type": "markdown",
   "metadata": {},
   "source": [
    "#### 整数，实数，复数"
   ]
  },
  {
   "cell_type": "code",
   "execution_count": null,
   "metadata": {},
   "outputs": [],
   "source": [
    "c = 3-2j\n",
    "(c + c.conjugate()).imag#求共轭函数+求虚数部分b\n",
    "not (c + c.conjugate()).imag # 0j\n",
    "not 'hello'[5:] # ''\n",
    "not ('a', 'b', 'c')[-1:0] # ()"
   ]
  },
  {
   "cell_type": "markdown",
   "metadata": {},
   "source": [
    "#### Python字典:pop()方法"
   ]
  },
  {
   "cell_type": "markdown",
   "metadata": {},
   "source": [
    "#### Python 字典 pop() 方法删除字典给定键 key 及对应的值，返回值为被删除的值。key 值必须给出。 否则，返回 default 值"
   ]
  },
  {
   "cell_type": "code",
   "execution_count": null,
   "metadata": {},
   "outputs": [],
   "source": [
    "not [c.upper() for c in 'abc' if ord(c) > 96] \n",
    "not [c.upper() for c in 'abc' if ord(c) > 99] # []\n",
    "d = {'a': 1,'b':2}\n",
    "d.pop('a')\n",
    "d.pop('b')#删除键'a'并返回其值\n",
    "d#d==0==false\n",
    "not d # {}\n",
    "not {4, 2} - {1, 2, 3, 4} # set()\n",
    "not '0'\n",
    "not ''\n",
    "not 0"
   ]
  },
  {
   "cell_type": "markdown",
   "metadata": {},
   "source": [
    "#### 逻辑与运算符 ( and )\n",
    "需要注意，` x and y` 逻辑与 (logical AND) 运算并⾮计算出 True 或 False，⽽是根据` x `的逻辑判断\n",
    "(truth value testing) 返回` x` 或` y` ：只有当表达式 (expression) x 判断为逻辑真 (True) 时， x and y\n",
    "才进⼀步计算 (evaluate) 并返回 `y` ；否则，只要 `x `为逻辑假 (False)，就直接返回` x` ，根本不计算\n",
    "`y` ，这种有可能不计算表达式 y 的规则被称为` 短路规则` (short-circuit rule)。例如："
   ]
  },
  {
   "cell_type": "markdown",
   "metadata": {},
   "source": [
    "#### 有返回值，不是布尔值\n",
    "\n",
    "x为真返回y，否则返回x"
   ]
  },
  {
   "cell_type": "code",
   "execution_count": null,
   "metadata": {},
   "outputs": [],
   "source": [
    "'a' and 'b'\n",
    "len([1, 2, 3] and [])\n",
    "[5] and print('ok') # 注意返回的是 None ⽽不是 ok，ok 是被 print 的\n",
    "{} and print('ok') # 注意 print('ok') 不被运⾏\n",
    "d = {}\n",
    "d.update({'a': 1})\n",
    "d\n",
    "d.pop('a')\n",
    "d\n",
    "d and d.update({'a': 2})\n",
    "d\n",
    "print('--------------------------')\n",
    "d and d.update({'a':2})\n",
    "d"
   ]
  },
  {
   "cell_type": "code",
   "execution_count": null,
   "metadata": {},
   "outputs": [],
   "source": [
    "d = {}\n",
    "d\n",
    "d[\"b\"]=3\n",
    "#d and d['b']=3 >>>  can't assign to operator\n",
    "d"
   ]
  },
  {
   "cell_type": "markdown",
   "metadata": {},
   "source": [
    "#### 如此规定，既不违反逻辑判断 (truth value testing) 的本意，⼜可以使 Python 代码更精炼"
   ]
  },
  {
   "cell_type": "markdown",
   "metadata": {},
   "source": [
    "#### 逻辑或运算符 ( or )\n",
    "- 同样需注意， x or y 逻辑或 (logical OR) 运算也并⾮计算出 True 或 False，⽽是根据 `x `的逻辑判断\n",
    "(truth value testing) 返回 `x 或 y `：只有当表达式 (expression) x 判断为逻辑假 (False) 时，` x or y`\n",
    "才进⼀步计算 (evaluate) 并返回` y` ；否则，只要 `x `为逻辑真，就直接返回 `x` ，根本不计算` y` 。这\n",
    "也是` 短路规则 `(short-circuit rule)。例如："
   ]
  },
  {
   "cell_type": "code",
   "execution_count": null,
   "metadata": {},
   "outputs": [],
   "source": [
    "'a' or 'b'\n",
    "len([1, 2, 3] or [])\n",
    "[5] or print('ok') # 注意 print('ok') 不被运⾏\n",
    "{} or print('ok') # 注意返回的是 None ⽽不是 ok，ok 是被 print 的\n",
    "d = {}\n",
    "d.update({'a': 1})\n",
    "d\n",
    "d.pop('a')\n",
    "d\n",
    "d or d.update({'a': 2})\n",
    "d"
   ]
  },
  {
   "cell_type": "markdown",
   "metadata": {},
   "source": [
    "#### 如此规定，既不违反逻辑判断 (truth value testing) 的本意，⼜可以使 Python 代码更⾼效、更精炼。"
   ]
  },
  {
   "cell_type": "markdown",
   "metadata": {},
   "source": [
    "### 4.三元条件表达式\n",
    "`三元条件表达式` (ternary conditional expression)` x if b else y `会先对表达式 `b `进⾏逻辑判断\n",
    "(truth value testing)，为逻辑真 (True) 则计算 (evaluate) 并返回 `x` ，根本不计算 (evaluate)` y`; 为逻\n",
    "辑假 (False) 则计算 (evaluate) 并返回` y `，根本不计算 (evaluate)` x` 。也就是说，在三元条件表达式\n",
    "(ternary conditonal expression) ⾥，表达式 (expression)` x `和 `y `中只有⼀个会被计算 (evaluate)，\n",
    "也遵循` 短路规则` (short-circuit rule)。例如："
   ]
  },
  {
   "cell_type": "code",
   "execution_count": null,
   "metadata": {},
   "outputs": [],
   "source": [
    "'ok' if [1, 2, 3].pop() else print('miss') # 注意列表的 pop ⽅法有返回值\n",
    "print('miss') if [1, 2, 3].append(4) else 'ok' # 注意列表的 append ⽅法返回 None"
   ]
  },
  {
   "cell_type": "code",
   "execution_count": null,
   "metadata": {},
   "outputs": [],
   "source": [
    "[1, 2, 3].pop()\n",
    "print([1, 2, 3].append(4))"
   ]
  },
  {
   "cell_type": "markdown",
   "metadata": {},
   "source": [
    "#### 需要注意，三元条件表达式 (ternary conditional expression) 只是表达式 (expression)，⽽不是条件判 (if) 语句 (statement)。"
   ]
  },
  {
   "cell_type": "markdown",
   "metadata": {},
   "source": [
    "### 5.Lambda表达式"
   ]
  },
  {
   "cell_type": "markdown",
   "metadata": {},
   "source": [
    "Lambda 表达式 (lambda expression) 是运算优先级 (priority)`最低`的⼀种表达式 (expression) 语法(syntax)，⽤于定义 匿名函数 (anonymous function)。下⾯举例说明："
   ]
  },
  {
   "cell_type": "markdown",
   "metadata": {},
   "source": [
    "#### 想使某个函数为常数，只能是以下的形式，不能是lambda x : x =10"
   ]
  },
  {
   "cell_type": "markdown",
   "metadata": {},
   "source": [
    "$$ \\frac{(x + y)_{{ij}^2}^n}{\\alpha^2}$$"
   ]
  },
  {
   "cell_type": "code",
   "execution_count": null,
   "metadata": {},
   "outputs": [],
   "source": [
    "ten = lambda: 10 # 匿名函数命名为 ten\n",
    "ten\n",
    "callable(ten)\n",
    "ten() # 调⽤ ten"
   ]
  },
  {
   "cell_type": "code",
   "execution_count": null,
   "metadata": {},
   "outputs": [],
   "source": [
    "square = lambda x: x**2 # 匿名函数命名为 square\n",
    "import inspect\n",
    "inspect.signature(square) # 签名是只有⼀个定位形参\n",
    "square(x=10)#不可以换y之类的\n",
    "square(5) # 调⽤ square\n",
    "minus = lambda x, y: x - y # 匿名函数命名为 minus\n",
    "inspect.signature(minus) # 签名是两个定位形参\n",
    "minus(10, 3)\n",
    "minus(y=10, x=3) # 把命名实参传递给定位形参"
   ]
  },
  {
   "cell_type": "code",
   "execution_count": null,
   "metadata": {},
   "outputs": [],
   "source": [
    "divide = lambda x, y ,*, remainder=True: divmod(x, y) if remainder else x/y # 匿名函数命名为 divide\n",
    "inspect.signature(divide) # 签名是两个定位形参和⼀个只接受命名实参的命名形参\n",
    "#divide(11, 4)\n",
    "#divide(11, 4, False) # 实参错误\n",
    "divide(11,y= 4, remainder=False) # 调⽤成功\n",
    "divide(x=11,y= 4, remainder=False) # 调⽤成功"
   ]
  },
  {
   "cell_type": "markdown",
   "metadata": {},
   "source": [
    "从上述例⼦可以看出，lambda 表达式 (lambda expression) 的语法 (syntax) 是在关键词 (keyword)\n",
    "lambda 后⾯不加圆括号 (parenthesis) 地写形参 (parameters) 陈列 (display)，在冒号 (colon) : 后⾯\n",
    "写被调⽤ (call) 时将要计算 (evaluate) 并返回的表达式 (expression)。\n",
    "\n",
    "\n",
    "需要注意，lambda 表达式\n",
    "(lambda expression) 只是表达式 (expression)，所以不能含有任何语句 (statement)。\n",
    "\n",
    "\n",
    "Lambda 表达式 (lambda expression) 的主要⽤途是在调⽤ (call) 像 sorted 这样的⾼阶函数 (higher-order function) 时临时定义⼀个匿名函数 (anonymous function) 作为实参 (argument) 传递。例如："
   ]
  },
  {
   "cell_type": "markdown",
   "metadata": {},
   "source": [
    "#### python3排序,sorted,key=lambda"
   ]
  },
  {
   "cell_type": "markdown",
   "metadata": {},
   "source": [
    "[python3排序,sorted,key=lambda](https://www.cnblogs.com/zle1992/p/6271105.html)"
   ]
  },
  {
   "cell_type": "markdown",
   "metadata": {},
   "source": [
    "参数key，也就是关键词\n",
    "\n",
    "这句命令，lambda是一个隐函数，是固定写法;\n",
    "\n",
    "k,s表示列表中的一个元素，在这里，表示一个元组，k,s只是临时起的一个名字，可以使用任意的名字；"
   ]
  },
  {
   "cell_type": "code",
   "execution_count": null,
   "metadata": {},
   "outputs": [],
   "source": [
    "l = ['bin', 'User', 'etc', 'local', 'Drivers']\n",
    "sorted(l) # 排序区分⼤⼩写\n",
    "\n",
    "sorted(l, key=lambda k: k.lower()) # 排序不区分⼤⼩写\n",
    "sorted(l, key=lambda s: s[::-1]) # 从字符串末尾字符开始⽐较排序\n",
    "\n",
    "sorted(l, key=lambda s: s[::-1],reverse = True)"
   ]
  },
  {
   "cell_type": "markdown",
   "metadata": {},
   "source": [
    "## 6.⾃测题\n",
    "### 6.1 简答题"
   ]
  },
  {
   "cell_type": "markdown",
   "metadata": {},
   "source": [
    "#### 请写代码演示：\n",
    "\n",
    "1. ⼀个没有操作，但有⾮空返回值的表达式；\n",
    "\n",
    "2. ⼀个有操作，但返回空值的表达式；\n",
    "\n",
    "3. ⼀个既有操作，⼜返回⾮空值的表达式。"
   ]
  },
  {
   "cell_type": "code",
   "execution_count": null,
   "metadata": {},
   "outputs": [],
   "source": [
    "'hello'.title()\n",
    "\n",
    "open('file.txt', 'w+').flush()\n",
    "#print(open('file.txt', 'w+').flush()) >>> 会返回None\n",
    "\n",
    "open('file.txt', 'w+').write('Hello World!')"
   ]
  },
  {
   "cell_type": "markdown",
   "metadata": {},
   "source": [
    "### 6.2 简答题\n",
    "请解释列表 (list) 对象的概念、特点和⽤法，并写出相应的代码举例。"
   ]
  },
  {
   "cell_type": "markdown",
   "metadata": {},
   "source": [
    "⽅括号 (brackets) 围场 (enclosure) 就是⽤⽅括号符号 [] 包围起来的原⼦级 (atomic) 表达式(expression)，⽤来创建⼀个 列表 (list) 对象。\n",
    "\n",
    "概念：\n",
    "\n",
    "列表 (list) 对象 (object) 的类型 (type) 是内置类型 (built-in type) list ，是 四个 最基本的内置 (built-in) 容器 (container) 类型——列表 (list)、字典 (dict)、集\n",
    "合 (set)、元组 (tuple) 其中之⼀。\n",
    "\n",
    "特点：\n",
    "\n",
    "列表 (list) 是⼀种 序列 (sequence)，可以容纳多个 计算出的(evaluated) 对象 (object)，可以 解包 (unpack)、提取 (subscription)、切⽚ (slicing) 或 迭代 (iterate)。列表是 可变的 (mutable)，可以插⼊ (insert) 和删除 (remove) 元素，尤其可以⾼效地 (efficiently) 在尾部追加 (append) 或弹出 (pop) 元素。\n",
    "\n",
    "\n",
    "\n",
    "用法：\n",
    "\n",
    "其主要⽤途是被⽤作可变的 (mutable) 序列 (sequence)，也是一种可迭代容器，尤其是作为 堆栈 (stack)，即⼀种 后进先出 (last in first out, LIFO) 的数据结构。利用增删插弹查等操作满足所要求的序列变化性，以及保存多个互相独立对象的数据集合。还可以用来转换、切片等操作。"
   ]
  },
  {
   "cell_type": "markdown",
   "metadata": {},
   "source": [
    "[List基本用法](https://www.cnblogs.com/testxiang/p/9537158.html)"
   ]
  },
  {
   "cell_type": "code",
   "execution_count": null,
   "metadata": {},
   "outputs": [],
   "source": [
    "l = ['a', 'b', 'c'] # 列表陈列式\n",
    "x, y, z = l # 解包\n",
    "l[-1] # 提取\n",
    "l[:2] # 切⽚\n",
    "for c in l: # 迭代\n",
    "    print(c*5)\n",
    "l.insert(1, 'x') # 插⼊，有操作，返回 None\n",
    "l # 查看在指定位置插⼊指定元素之后的列表对象\n",
    "l.remove('b') # 删除，有操作，返回 None\n",
    "l # 查看删除指定元素之后的列表对象\n",
    "l.append(9) # 追加，有操作，返回 None\n",
    "l.pop() # 弹出，有操作，返回被弹出的尾部元素\n",
    "l.count('a')\n",
    "l.index('c')"
   ]
  },
  {
   "cell_type": "markdown",
   "metadata": {},
   "source": [
    "### 6.3 简答题\n",
    "列表 (list) 与元组 (tuple) 的相同点与不同点有那些？请写相应的代码举例"
   ]
  },
  {
   "cell_type": "markdown",
   "metadata": {},
   "source": [
    "#### 一、列表和元组的相同点\n",
    "- 都是序列\n",
    "- 都可以存储任何数据类型\n",
    "- 可以通过索引访问\n",
    "\n",
    "#### 二、列表和元组的区别\n",
    "- 列表是动态数组，可以重设长度（改变其内部元素的个数）。\n",
    "- 元组是静态数组，且其内部数据一旦创建便无法改变。\n",
    "- 即元组可散列，列表不可散列\n",
    "- 元组缓存于Python运行时环境，这意味着我们每次使用元组时无须访问内核去分配内存。\n",
    "    (于长度为1~20的元组)\n",
    "\n",
    "\n",
    "列表可被用于保存多个互相独立对象的数据集合\n",
    "\n",
    "元组用于描述一个不会改变的事务的多个属性\n",
    "\n"
   ]
  },
  {
   "cell_type": "markdown",
   "metadata": {},
   "source": [
    "##### 举例"
   ]
  },
  {
   "cell_type": "code",
   "execution_count": null,
   "metadata": {},
   "outputs": [],
   "source": [
    "from IPython.core.interactiveshell import InteractiveShell\n",
    "InteractiveShell.ast_node_interactivity = 'all'"
   ]
  },
  {
   "cell_type": "code",
   "execution_count": null,
   "metadata": {},
   "outputs": [],
   "source": [
    "l = ['a', 'b', 'c','{}','()']\n",
    "t = ('a', 'b', 'c','{}','()')"
   ]
  },
  {
   "cell_type": "markdown",
   "metadata": {},
   "source": [
    "#### 都是序列"
   ]
  },
  {
   "cell_type": "code",
   "execution_count": null,
   "metadata": {
    "scrolled": true
   },
   "outputs": [],
   "source": [
    "import collections.abc as coll\n",
    "isinstance(l,coll.Sequence)\n",
    "isinstance(t,coll.Sequence)"
   ]
  },
  {
   "cell_type": "markdown",
   "metadata": {},
   "source": [
    "#### 都可以通过索引访问"
   ]
  },
  {
   "cell_type": "code",
   "execution_count": null,
   "metadata": {},
   "outputs": [],
   "source": [
    "l[0]\n",
    "t[1]"
   ]
  },
  {
   "cell_type": "markdown",
   "metadata": {},
   "source": [
    "#### 不同点：List可以再不改变内存地址的情况下变化长度"
   ]
  },
  {
   "cell_type": "code",
   "execution_count": null,
   "metadata": {
    "scrolled": true
   },
   "outputs": [],
   "source": [
    "l\n",
    "id(l)\n",
    "l.append('a')\n",
    "l\n",
    "id(l)\n",
    "l[0] = 'A'\n",
    "l"
   ]
  },
  {
   "cell_type": "markdown",
   "metadata": {},
   "source": [
    "#### tuple可以通过连接而非索引改变值"
   ]
  },
  {
   "cell_type": "code",
   "execution_count": null,
   "metadata": {},
   "outputs": [],
   "source": [
    "#t[0]=\"A\" >>>报错\n",
    "t + (\"D\",)"
   ]
  },
  {
   "cell_type": "markdown",
   "metadata": {},
   "source": [
    "#### 初始化时间差距很大"
   ]
  },
  {
   "cell_type": "code",
   "execution_count": null,
   "metadata": {},
   "outputs": [],
   "source": [
    "t1 = %timeit l = [0, 1, 2, 3, 4, 5, 6, 7, 8, 9]\n",
    "\n",
    "t2 = %timeit t = (0, 1, 2, 3, 4, 5, 6, 7, 8, 9)"
   ]
  },
  {
   "cell_type": "markdown",
   "metadata": {},
   "source": [
    "### 6.4 简答题\n",
    "请介绍推导式 (comprehension) 语法中各组成部分的概念，可以举若⼲列表推导式为例进⾏说明。"
   ]
  },
  {
   "cell_type": "code",
   "execution_count": null,
   "metadata": {},
   "outputs": [],
   "source": [
    "l = [i**2 for i in range(5)]"
   ]
  },
  {
   "cell_type": "markdown",
   "metadata": {},
   "source": [
    "#### 在推导式 (comprehension)内：\n",
    "\n",
    "\n",
    "\n",
    "关键词 for 之前的 i * * 2 部分是 可以任意表达 的 元素表达式(element expression)，通常会使⽤到后⾯的 旧的 迭代变量 (iteration variable) (这⾥的 i )，⽤来计算新的 元素 (element) (这⾥的 i * * 2 )；\n",
    "\n",
    "\n",
    "关键词 for 和 in 中间的 i 部分是 可以任意选取 的 迭代变量名 (iteration variable name)，在每⼀步迭代 (iterate) 中，该变量 (variable) 都引⽤ (reference) 着当前被取出的元素 (element)；\n",
    "\n",
    "关键词 in 后⾯的 range() 部分是 迭代表达式 (iterable expression)，必须可计算 (evaluate)为⼀个可迭代的 (iterable) 对象 (object)；\n",
    "\n",
    "for...in... 结构被称为 迭代⼦句\n",
    "\n",
    "迭代⼦句 (for-clause) 之后还可以跟 条件⼦句 (if-clause)，⽤来对每⼀次迭代进⾏过滤 (filter)：若条件判断为真 (True)，则保留该次迭代；若条件判断为假 (False)，则忽略该次迭代。\n",
    "\n",
    "关键词 if 之后 部分是 的 条件表达式 (conditional expression)可以任意表达\n",
    "\n",
    "##### 列表推导式 (list comprehension) 计算 (evaluate) 得出的列表(list) 就是由这些新元素所组成的。\n",
    "\n"
   ]
  },
  {
   "cell_type": "code",
   "execution_count": null,
   "metadata": {
    "scrolled": true
   },
   "outputs": [],
   "source": [
    "import random\n",
    "#[i for i in 5] # 整数不可迭代\n",
    "[i for i in 'hello'] # 字符串可迭代\n",
    "[i for i in range(-3, 7, 2)] # range 类型可以迭代\n",
    "[i for i in [5, 9, 2, 6]] # 列表可迭代\n",
    "[i for i in ('a', 'b', 'c')] # 元组可迭代\n",
    "[c for c in ('a', 'b', 'c')] # 可任意选取迭代变量名，结果完全相同\n",
    "[1.03**i for i in range(5)] # 可任意表达元素表达式\n",
    "[(c, c) for c in 'hello' if c>'h'] # 可任意表达元素表达式\n",
    "[random.uniform(0, 1) for c in 'hello' if c >'l'] # 元素表达式可以不使⽤迭代变量名"
   ]
  },
  {
   "cell_type": "code",
   "execution_count": null,
   "metadata": {},
   "outputs": [],
   "source": [
    "[i + j+ k for i in 'abcdef' for j in '0123' if j >'2' for k in \"$#%\" if k in \"$!@\" if i > 'e' ] # 双重迭代"
   ]
  },
  {
   "cell_type": "markdown",
   "metadata": {},
   "source": [
    "### 6.5 简答题\n",
    "请总结推导式 (comprehension) 的⼀般语法要求，并对每⼀条语法要求举例说明。"
   ]
  },
  {
   "cell_type": "markdown",
   "metadata": {},
   "source": [
    "推导式 (comprehension) 的 语法 (syntax) 要求：\n",
    "\n",
    "- 1.只能写 ⼀个 元素表达式 (elementexpression)；\n",
    "\n",
    "- 2.元素表达式 (element expression) 后⾯ 必须 跟着 for...in... 迭代⼦句for-clause)；\n",
    "\n",
    "- 3.for...in... 迭代⼦句 (for-clause) 之后可以继续跟 for...in... 迭代⼦句 (for-clause)，也可以跟 if... 条件字句 (if-clause)。例如："
   ]
  },
  {
   "cell_type": "markdown",
   "metadata": {},
   "source": [
    "#### 第一条："
   ]
  },
  {
   "cell_type": "code",
   "execution_count": null,
   "metadata": {},
   "outputs": [],
   "source": [
    "[i**2 i for i in range(5)] # 两个元素表达式是语法错误\n",
    "[i**2, i for i in range(5)] # ⽤逗号隔开也不⾏，因为有歧义\n",
    "[(i**2, i) for i in range(5)] # 把多个表达式打包成⼀个元组表达式就可以"
   ]
  },
  {
   "cell_type": "markdown",
   "metadata": {},
   "source": [
    "#### 第二条"
   ]
  },
  {
   "cell_type": "code",
   "execution_count": null,
   "metadata": {},
   "outputs": [],
   "source": [
    "## [i if i > 2 for i in range(5)] # 元素表达式后⾯必须跟迭代⼦句，不可以是条件字句\n",
    "[i  for i in range(5) if i > 2]"
   ]
  },
  {
   "cell_type": "code",
   "execution_count": null,
   "metadata": {},
   "outputs": [],
   "source": [
    "# 注意观察以上多重迭代的先后顺序\n",
    "[i for i in range(10) if i > 2 if i < 8] # 迭代⼦句后⾯可跟多个条件⼦句\n",
    "\n",
    "[z + y + x for x in 'c' for y in 'df'  if x > 'a'] # 迭代⼦句后⾯跟条件⼦句和迭代⼦句"
   ]
  },
  {
   "cell_type": "markdown",
   "metadata": {},
   "source": [
    "可⻅，推导式 (comprehension) 的 根本作⽤ 就是从⼀个或多个现有的 可迭代 (iterable) 对象 有选择地\n",
    "推导衍⽣出⼀个与之有联系但可以完全不同的新的 可迭代 (iterable) 对象。"
   ]
  },
  {
   "cell_type": "markdown",
   "metadata": {},
   "source": [
    "#### 6.6 简答题\n",
    "推导式 (comprehension) 中所使⽤的迭代变量 (iteration variable) 会不会覆盖掉现有的变量？为什\n",
    "么？请举例说明"
   ]
  },
  {
   "cell_type": "markdown",
   "metadata": {},
   "source": [
    "#### 推导式 (comprehension) 在计算 (evaluate) 时会建⽴⾃⼰的 命名空间 (namespace)\n",
    "并不\n",
    "影响所处表达式 (expression) 所在的命名空间 (namespace)，所以不⽤担⼼所选择的 迭代变量名\n",
    "(iteration variable name) 会覆盖掉当前命名空间 (namespace) 中已有的变量。例如"
   ]
  },
  {
   "cell_type": "markdown",
   "metadata": {},
   "source": [
    "该推导式中i是独立在[]围场内的，不影响全局变量"
   ]
  },
  {
   "cell_type": "code",
   "execution_count": null,
   "metadata": {},
   "outputs": [],
   "source": [
    "i = 100\n",
    "l = [i for i in range(5)] # 迭代过程使⽤了迭代变量 i\n",
    "l\n",
    "i # i 的值仍然是 100，并没有被覆盖指向别处"
   ]
  },
  {
   "cell_type": "markdown",
   "metadata": {},
   "source": [
    "### 6.7 简答题\n",
    "请解释字典 (dict) 对象的概念、特点和⽤法，并写出相应的代码举例。"
   ]
  },
  {
   "cell_type": "markdown",
   "metadata": {},
   "source": [
    "字典是另一种可变容器模型\n",
    "\n",
    "字典的每个键值(key=>value)对用冒号(:)分割，每个对之间用逗号(,)分割，整个字典包括在花括号({})中\n",
    "\n",
    "键必须是唯一的，但值则不必"
   ]
  },
  {
   "cell_type": "markdown",
   "metadata": {},
   "source": [
    "字典 (dict) 是⼀种 映射 (mapping)，可以容纳多个 键值对 (key-value pair)。提供 键 (key)，就可以⾮常\n",
    "⾼效地 (efficiently) 从字典 (dict) 中 提取 (subscription) 出相应的值\n",
    "\n",
    "键值对 (key-value pair) 的\n",
    "增加、删除和修改等操作 (operation) 也都⾮常⾼效 (efficient)。\n",
    "\n",
    "变量 (variable) 作为⼀种从名称\n",
    "(name) 到对象 (object) 的映射 (mapping)，其所处的 命名空间 (namespace)，其实就是字典 (dict)。\n",
    "\n",
    "\n",
    "字典 (dict) 在 Python 的内部⼏乎⽆处不在，花括号 (braces) 围场 (enclosure) 只是创建字典 (dict) 的⼀\n",
    "种⽅式。"
   ]
  },
  {
   "cell_type": "markdown",
   "metadata": {},
   "source": [
    "- 有陈列式和推导式\n",
    "\n",
    "\n",
    "- 字典是容器\n",
    "\n",
    "- 字典不是序列\n",
    "\n",
    "- 提供键，就可以提取对应的值\n",
    "\n",
    "- 根据键提取值不改变字典内容\n",
    "\n",
    "- 增加键值对 'x' -> 100\n",
    "\n",
    "- 提供键 'b'，删除相应的键值对 'b' -> 2\n",
    "\n",
    "- 修改键 'c' 让其改指向\n",
    "\n",
    "- 元组等可散列对象可以作为键（不建议浮点数），不可以是不可散列的对象\n",
    "\n",
    "- 字典本身不可散列\n",
    "\n",
    "- 字典也可以用推导式"
   ]
  },
  {
   "cell_type": "code",
   "execution_count": null,
   "metadata": {},
   "outputs": [],
   "source": [
    "d = {'a': 1, 'b': 2, 'c': 3} # 字典陈列式\n",
    "d # 查看字典的表现 (representation)\n",
    "import collections.abc\n",
    "isinstance(d, collections.abc.Container) # 字典是容器\n",
    "isinstance(d, collections.abc.Sequence) # 字典不是序列\n",
    "d['a'] # 提供键 'a'，就可以提取对应的值 1\n",
    "\n",
    "d # 根据键提取值不改变字典内容\n",
    "d['x'] = 100 # 增加键值对 'x' -> 100\n",
    "d\n",
    "del d['b'] # 提供键 'b'，删除相应的键值对 'b' -> 2\n",
    "d\n",
    "d['c'] = 42 # 修改键 'c' 让其改指向 42\n",
    "d\n",
    "\n",
    "isinstance(d, collections.abc.Hashable) # 字典本身不可散列"
   ]
  },
  {
   "cell_type": "markdown",
   "metadata": {},
   "source": [
    "#### 字典也可以用推导式"
   ]
  },
  {
   "cell_type": "code",
   "execution_count": null,
   "metadata": {},
   "outputs": [],
   "source": [
    "{i: chr(i) for i in range(97, 104)} # 字典推导式，请 help ⾃学内置函数 chr\n",
    "{c: ord(c) for c in 'abcdefg'} # 字典推导式，请 help ⾃学内置函数 ord"
   ]
  },
  {
   "cell_type": "markdown",
   "metadata": {},
   "source": [
    "### 6.8 简答题\n",
    "请解释集合 (set) 对象的概念、特点和⽤法，并写出相应的代码举例。"
   ]
  },
  {
   "cell_type": "markdown",
   "metadata": {},
   "source": [
    "#### 概念"
   ]
  },
  {
   "cell_type": "markdown",
   "metadata": {},
   "source": [
    "`集合 (set)` 本质上是只有`键 (key)` 但没有 `值 (value)` 的特殊的字典 (dict)。集合⾥的键 (key) 被称为` 元素`\n",
    "(element)。`集合` (set) 对象 (object) 就像数学中的集合的概念那样：\n",
    "\n",
    "\n"
   ]
  },
  {
   "cell_type": "markdown",
   "metadata": {},
   "source": [
    "#### 特点和用法："
   ]
  },
  {
   "cell_type": "markdown",
   "metadata": {},
   "source": [
    "- 有陈列式和推导式\n",
    "\n",
    "- 某元素 (element) 要么在集合内，要么不在；\n",
    "\n",
    "- ##### 只有 可散列 (hashable) 的对象才可以作为元素 (element)。\n",
    "\n",
    "\n",
    "- 集合 (set) 本身 不可散列 (unhashable)\n",
    "\n",
    "- 集合是容器\n",
    "\n",
    "- 集合不是序列，元素 (element) 在集合 (set) 内没有位置\n",
    "\n",
    "- 整数可散列\n",
    "\n",
    "- 集合不⽀持提取操作(无序)\n",
    "\n",
    "- 可以自由增加/删除(内部)元素\n",
    "\n",
    "- 有求并、求交、求差、求对称差等操作。"
   ]
  },
  {
   "cell_type": "code",
   "execution_count": null,
   "metadata": {},
   "outputs": [],
   "source": [
    "s = {'a', 'b', 42} # 集合陈列式\n",
    "s # 表现为 {'b', 'a', 42} (有可能是其他)，因为集合是⽆所谓顺序的\n",
    "import collections.abc as coll\n",
    "isinstance(s, coll.Container) # 集合是容器\n",
    "isinstance(s, coll.Sequence) # 集合不是序列"
   ]
  },
  {
   "cell_type": "code",
   "execution_count": null,
   "metadata": {},
   "outputs": [],
   "source": [
    "42 in s # 判断某可散列的对象是否属于集合\n",
    "#s[0] # 集合不⽀持提取操作\n",
    "s.add('x') # 增加⼀个元素\n",
    "s.remove('b') # 删除⼀个元素\n",
    "s.union(['x', 'y', 42]) # 求并，计算出⼀个新的集合\n",
    "s # 原 s 集合并没有被改变\n",
    "s.intersection(['x', 'y', 42]) # 求交，计算出⼀个新的集合\n",
    "s # 原 s 集合并没有被改变\n",
    "s.difference(['x', 'y', 42]) # 求差，计算出⼀个新的集合\n",
    "s # 原 s 集合并没有被改变\n",
    "s.symmetric_difference(['x', 'y', 42]) # 求对称差，计算出⼀个新的集合\n",
    "s # 原 s 集合并没有被改变\n",
    "#s.add([3, 9]) # 列表不可散列"
   ]
  },
  {
   "cell_type": "markdown",
   "metadata": {},
   "source": [
    "#### 集合推导式\n",
    "集合推导式 (set comprehension) 的语法 (syntax) 就是在花括号 (braces) 内写推导式\n",
    "(comprehension)。例如："
   ]
  },
  {
   "cell_type": "code",
   "execution_count": null,
   "metadata": {},
   "outputs": [],
   "source": [
    "{i for i in range(10, 3, -1)} # 集合推导式，请 help ⾃学内置函数 range\n",
    "{chr(i) for i in range(97, 123) if i > 120} # 集合推导式，注意 26 个英⽂字⺟如何被散列"
   ]
  },
  {
   "cell_type": "markdown",
   "metadata": {},
   "source": [
    "### 6.9 简答题\n",
    "请⽤字典推导式 (dict comprehension) 计算 A、B、C 三个字⺟的 ASCII 编码的⼋进制和⼗六进制表\n",
    "示，要求字典的键 (key) 为字⺟，值 (tuple) 为⼋进制和⼗六进制 ASCII 编码所组成的元组"
   ]
  },
  {
   "cell_type": "code",
   "execution_count": null,
   "metadata": {},
   "outputs": [],
   "source": [
    "{c:('八进制：'+ oct(ord(c))[2:],\"十六进制:\"+hex(ord(c))[2:]) for c in 'ABC'}\n",
    "\n",
    "{c:( '八进制：'+format(ord(c), 'o'),'十六进制：'+format(ord(c), ' x')) for c in 'ABC'}"
   ]
  },
  {
   "cell_type": "markdown",
   "metadata": {},
   "source": [
    "### 6.10 简答题\n",
    "请写代码举例说明，对于字典 (dict) 的键 (key)，有哪些特点或者要求？"
   ]
  },
  {
   "cell_type": "markdown",
   "metadata": {},
   "source": [
    "- 在字典 (dict) 或集合 (set) 中，`要求`键 (key) 必须是唯⼀的\n",
    "\n",
    " 即不可能有两个键值对\n",
    "(key-value pair) 或者元素 (element)，具有相同的键 (key)；在使⽤圆括号 (braces) 围场 (enclosure) 语\n",
    "法 (syntax) 创建字典 (dict) 或集合 (set) 时\n",
    "\n",
    "\n",
    "- 如果提供了重复的键 (key)，那么后出现的键 (key) 将替换\n",
    "先出现的键 (key)。例如："
   ]
  },
  {
   "cell_type": "code",
   "execution_count": null,
   "metadata": {
    "scrolled": true
   },
   "outputs": [],
   "source": [
    "d = {'a': 1, 'b': 2, 'a': 3} # 字典陈列式\n",
    "d # 查看 d 的表现\n",
    "d['a'] # 提供键 'a' 提取出的值是 3，⽽不是 1\n",
    "h = {c: format(ord(c), 'x') for c in 'hello'} # 字典推导式，没有语法错误(format 根据格式 'x' 把⼗进制整数转换为⼗六进制整数字符串)\n",
    "h\n",
    "print('h的长度是'+str(len(h))) # 注意 h 的⻓度是 4 ⽽不是 5\n",
    "s = {'a', 'b', 'a'} # 集合陈列式，没有语法错误\n",
    "s # 查看 s 的表现\n",
    "len(s) # 注意 s 的⻓度是 2 ⽽不是 3\n",
    "t = 'abaa bbbc caca cbba'\n",
    "len(t)\n",
    "s = {c for c in t} # 集合推导式，没有语法错误\n",
    "len(s) # 注意 s 的⻓度是 4 ⽽不是 19"
   ]
  },
  {
   "cell_type": "markdown",
   "metadata": {},
   "source": [
    "<font size  = 1 >\n",
    "利⽤键 (key) 的这种唯⼀性特点，集合 (set) 的⼀个重要⽤途就是从可迭代 (iterable) 对象中过滤出唯⼀\n",
    "值，也就是过滤掉重复值，当然，要在不要求保持顺序的前提下，因为集合 (set) 内的元素 (element)\n",
    "会被散列 (hashed)。"
   ]
  },
  {
   "cell_type": "markdown",
   "metadata": {},
   "source": [
    "#### 6.11 简答题\n",
    "请写代码介绍两个解包运算符 (unpacking operator) 的概念和⽤法，并以字典为例，介绍如何利⽤解包\n",
    "运算符 (unpacking operator) 对现有的字典 (dict) 进⾏更新"
   ]
  },
  {
   "cell_type": "markdown",
   "metadata": {},
   "source": [
    "#### 概念和用法"
   ]
  },
  {
   "cell_type": "markdown",
   "metadata": {},
   "source": [
    "在围场 (enclosure) 的内部，在书写⽤逗号 (comma) 分隔的陈列 (display) 的时候，还有两种 解包运算\n",
    "符 (unpacking operator) 可以使⽤，分别是：\n",
    "\n",
    "- 1. 迭代 (iterable) 解包运算符 * ，\n",
    "- 2. 映射 (mapping) 解\n",
    "包运算符 ** 。\n",
    "\n",
    "他们的作⽤是分别可以把可迭代的 (iterable) 对象和映射 (mapping) 暗含地 (implicitly)\n",
    "解包 (unpack) 为陈列 (display)，拼接到所在的陈列 (display) 中。\n",
    "\n",
    "- 陈列好像只能放在容器内显示，否则会报错can't use starred expression here"
   ]
  },
  {
   "cell_type": "code",
   "execution_count": null,
   "metadata": {
    "scrolled": true
   },
   "outputs": [],
   "source": [
    "a = ('x', 'y', 'z') # 元组可迭代\n",
    "b = ['a', 'b', 'c'] # 列表可迭代\n",
    "c = {'cat': 'sleep', 'dog': 'run'} # 字典可迭代，但迭代取出的只是键\n",
    "(1, 2, 3, *a, *b, *c) # 迭代解包出的值被添加进元组陈列中\n",
    "[*c, 0, *b, 1, *c] # 迭代解包出的值被添加进列表陈列中\n",
    "{*a, 'x', 'y', 'c'} # 迭代解包出的值被添加进集合陈列中\n",
    "{'a': 97, **c, 'd': 100} # 迭代解包出的键值对被添加进字典陈列中\n",
    "d = {'cat': 'meow', 'cow': 'moo'}\n",
    "{**c, **d} # 后⾯的值覆盖前⾯的值，产⽣更新字典的效果"
   ]
  },
  {
   "cell_type": "markdown",
   "metadata": {},
   "source": [
    "##### 字典可解包迭代，但迭代取出的只是键"
   ]
  },
  {
   "cell_type": "code",
   "execution_count": null,
   "metadata": {},
   "outputs": [],
   "source": [
    "c = {'cat': 'sleep', 'dog': 'run'}\n",
    "(*c,)\n",
    "[*c]"
   ]
  },
  {
   "cell_type": "markdown",
   "metadata": {},
   "source": [
    "#### 对现有的字典 (dict) 进⾏更新"
   ]
  },
  {
   "cell_type": "markdown",
   "metadata": {},
   "source": [
    "只要将想要的新的键值对放在新的字典里（d），并且和想更新的字典一起放在容器内（要注意新字典在后），就可以更新字典了"
   ]
  },
  {
   "cell_type": "code",
   "execution_count": null,
   "metadata": {},
   "outputs": [],
   "source": [
    "c = {'cat': 'sleep', 'dog': 'run'}\n",
    "d = {'cat': 'meow', 'cow': 'moo'}\n",
    "{**c, **d} # 后⾯的值覆盖前⾯的值，产⽣更新字典的效果"
   ]
  },
  {
   "cell_type": "markdown",
   "metadata": {},
   "source": [
    "### 6.12 简答题\n",
    "圆括号 (parenthesis) 围场 (enclosure) 可以表示哪三种不同的概念？请分别写代码举例并作出解释。"
   ]
  },
  {
   "cell_type": "markdown",
   "metadata": {},
   "source": [
    "#### 圆括号 (parenthesis) 围场\n",
    "圆括号 (parenthesis) 围场 (enclosure) 是⽤圆括号符号 () 包围起来的原⼦级 (atomic) 表达式\n",
    "(expression)。这种语法依括号内的语法不同，可以表示三种不同概念：\n",
    "\n",
    "- 1. 计算优先级 (priority)，\n",
    "- 2. 元\n",
    "组 (tuple)，\n",
    "- 3. ⽣成器 (generator)\n",
    "\n",
    "下⾯分别进⾏介绍·"
   ]
  },
  {
   "cell_type": "markdown",
   "metadata": {},
   "source": [
    "1. 表示计算优先级 (priority)\n",
    "圆括号 (parenthesis) 的此种⽤法是⽤来⾃定义 (customize) 表达式计算 (evaluate) 的优先级\n",
    "(priority)，其计算结果就是圆括号内的表达式 (expression)。例如"
   ]
  },
  {
   "cell_type": "code",
   "execution_count": null,
   "metadata": {},
   "outputs": [],
   "source": [
    "(1 + 2) * 3 # ⽤圆括号改变优先级，先计算 1 + 2，再计算 * ，计算结果为 9"
   ]
  },
  {
   "cell_type": "code",
   "execution_count": null,
   "metadata": {},
   "outputs": [],
   "source": [
    "1 + (2 * 3) # 圆括号围场⾥的内容被当作⼀个整体的原⼦级表达式"
   ]
  },
  {
   "cell_type": "markdown",
   "metadata": {},
   "source": [
    "2. 创建元组 (tuple) 对象\n",
    "\n",
    "<font size = 2>\n",
    "⽤逗号 (comma) 把多个表达式 (expression) 隔开，并⽤圆括号 (parenthesis) 包围起来 (在没有歧义的\n",
    "情况下圆括号可以省略)，将得到由各个内部表达式 (expression) 计算得出的对象 (object) 的引⽤\n",
    "(reference) 所构成的 元组 (tuple)。元组 (tuple) 对象 (object) 的类型 (type) 是内置类型 (built-in type)\n",
    "tuple ，是四个最基本的内置 (built-in) 容器 (container) 类型之⼀。元组 (tuple) 对象的主要⽤途是将\n",
    "计算出的 (evaluated) 对象 (object) 打包 (pack) 为 不可变的 (immutable) 序列 (sequence)，\n",
    "⽅便将来的 解包 (unpack)、提取 (subscription)、切⽚ (slicing) 或 迭代 (iterate)。例如：\n",
    "若⼲ ⼀个"
   ]
  },
  {
   "cell_type": "code",
   "execution_count": null,
   "metadata": {},
   "outputs": [],
   "source": [
    "t = ('a', 'b', 'c') # 创建元组并命名为 t\n",
    "type(t) is tuple # 类型是元组\n",
    "t2 = 'a', 'b', 'c' # 创建元组并命名为 t2，省略圆括号不引起歧义\n",
    "type(t2)\n",
    "t is t2 # 不同的对象\n",
    "t == t2 # 两元组的值相等\n",
    "isinstance(t, tuple) # 元组是元组类型的实例"
   ]
  },
  {
   "cell_type": "code",
   "execution_count": null,
   "metadata": {},
   "outputs": [],
   "source": [
    "import collections.abc as coll # 导⼊抽象基类 (abstract base class) 模块\n",
    "isinstance(t, coll.Container) # 元组也是⼀种容器\n",
    "isinstance(t, coll.Sequence) # 元组也是⼀种序列\n",
    "isinstance(t, coll.MutableSequence) # 但元组不是可变序列\n",
    "isinstance(t, coll.Iterable) # 元组可迭代"
   ]
  },
  {
   "cell_type": "code",
   "execution_count": null,
   "metadata": {},
   "outputs": [],
   "source": [
    "x, y, z = t # 解包 unpack\n",
    "t[0] # 提取 subscription\n",
    "t[-2:] # 切⽚ slicing\n",
    "for c in t: # 迭代 iterate\n",
    "    print(c) # print 前必须有四个空格c"
   ]
  },
  {
   "cell_type": "markdown",
   "metadata": {},
   "source": [
    "需要注意，因为圆括号 (parenthesis) 也被⽤来表示计算优先级 (priority)，在⽆歧义的情况下可以省\n",
    "略，所以元组 (tuple) 的语法 (syntax) 主要取决于逗号 (comma)，⽽不是圆括号 (parenthesis)。只有在\n",
    "创建空⽩元组的时候，才只使⽤⼀对紧连的圆括号 (parenthesis)，⽽不使⽤逗号 (comma)。例如："
   ]
  },
  {
   "cell_type": "code",
   "execution_count": null,
   "metadata": {},
   "outputs": [],
   "source": [
    "t = (1, ) # 只有⼀个元素的元组\n",
    "t2 = 1, # 省略圆括号\n",
    "t2 == t # 值相等"
   ]
  },
  {
   "cell_type": "markdown",
   "metadata": {},
   "source": [
    "#### 创建⽣成器 (generator) 对象\n",
    "圆括号 (parenthesis) 围场 (enclosure) 内也⽀持 `推导式` (comprehension) 语法 (syntax)，将创建出⼀\n",
    "个 `⽣成器 `(generator) 对象，⽽不是`元组` (tuple) 对象。\n",
    "\n",
    "⽣成器 (generator) 对象并不是 容器\n",
    "(container)，更不是 序列 (sequence)，⽽是⼀种轻便 (light-weight) ⾼效 (efficient) 的 可迭代\n",
    "(iterable) 对象。⽣成器 (generator) 的最⼤特点是在创建时并不计算 (evaluate) 内部表达式\n",
    "(expression) 的值，只有在被 迭代 (iterate) 时才逐个计算，计算出的结果并不保留在⽣成器(generator) 中，能极⼤地减少内存浪费和⽆谓计算。"
   ]
  },
  {
   "cell_type": "code",
   "execution_count": null,
   "metadata": {},
   "outputs": [],
   "source": [
    "g = (c for c in 'hello') # ⼀个最简单的推导式例⼦\n",
    "g # 是⽣成器对象，⽽不是元组\n",
    "type(g) # 获取类型\n",
    "import collections.abc  as coll# 导⼊抽象基类 (abstract base class) 模块\n",
    "isinstance(g, tuple) # 不是元组\n",
    "isinstance(g, coll.Generator) # 是⽣成器\n",
    "isinstance(g, coll.Container) # 不是容器\n",
    "isinstance(g, coll.Sequence) # 不是序列\n",
    "isinstance(g, coll.Iterable) # 可迭代\n",
    "next(g) # 取出下⼀个值，'h'\n",
    "next(g) # 取出下⼀个值，'e'\n",
    "tuple(g) # 取出所有剩下的值，创建元组\n",
    "tuple(g) # 已没有剩下的值，得到空⽩元组\n",
    "g = (print(c) for c in 'hello') # 注意并不⽴即 print\n",
    "s = next(g) # 取出下⼀个值，开始计算⼀个 print\n",
    "s is None # 取出的为空值，因为 print 函数返回空值\n",
    "t = tuple(g) # 取出所有剩下的值，计算剩余的 print，将结果打包为元组\n",
    "len(t) # ⻓度是 4 ⽽不是 5\n",
    "t # 被打包的四个值都是 None(print是操作)"
   ]
  },
  {
   "cell_type": "code",
   "execution_count": null,
   "metadata": {},
   "outputs": [],
   "source": [
    "len(g) # 不能获取⻓度\n",
    "g[-1] # 不能提取\n",
    "g[:3] # 不能切⽚"
   ]
  },
  {
   "cell_type": "markdown",
   "metadata": {},
   "source": [
    "### 6.13 简答题\n",
    "请解释元组 (tuple) 对象的概念、特点和⽤法，并写出相应的代码举例。"
   ]
  },
  {
   "cell_type": "markdown",
   "metadata": {},
   "source": [
    "2. 创建元组 (tuple) 对象\n",
    "\n",
    "<font size = 2>\n",
    "⽤逗号 (comma) 把多个表达式 (expression) 隔开，并⽤圆括号 (parenthesis) 包围起来 (在没有歧义的\n",
    "情况下圆括号可以省略)，将得到由各个内部表达式 (expression) 计算得出的对象 (object) 的引⽤\n",
    "(reference) 所构成的 元组 (tuple)。元组 (tuple) 对象 (object) 的类型 (type) 是内置类型 (built-in type)\n",
    "tuple ，是四个最基本的内置 (built-in) 容器 (container) 类型之⼀。元组 (tuple) 对象的主要⽤途是将\n",
    "计算出的 (evaluated) 对象 (object) 打包 (pack) 为 不可变的 (immutable) 序列 (sequence)，\n",
    "⽅便将来的 解包 (unpack)、提取 (subscription)、切⽚ (slicing) 或 迭代 (iterate)。"
   ]
  },
  {
   "cell_type": "code",
   "execution_count": null,
   "metadata": {},
   "outputs": [],
   "source": [
    "t = ('a', 'b', 'c') # 创建元组并命名为 t\n",
    "type(t) is tuple # 类型是元组\n",
    "t2 = 'a', 'b', 'c' # 创建元组并命名为 t2，省略圆括号不引起歧义\n",
    "type(t2)\n",
    "t is t2 # 不同的对象\n",
    "t == t2 # 两元组的值相等\n",
    "isinstance(t, tuple) # 元组是元组类型的实例"
   ]
  },
  {
   "cell_type": "code",
   "execution_count": null,
   "metadata": {},
   "outputs": [],
   "source": [
    "import collections.abc as coll # 导⼊抽象基类 (abstract base class) 模块\n",
    "isinstance(t, coll.Container) # 元组也是⼀种容器\n",
    "isinstance(t, coll.Sequence) # 元组也是⼀种序列\n",
    "isinstance(t, coll.MutableSequence) # 但元组不是可变序列\n",
    "isinstance(t, coll.Iterable) # 元组可迭代"
   ]
  },
  {
   "cell_type": "code",
   "execution_count": null,
   "metadata": {},
   "outputs": [],
   "source": [
    "x, y, z = t # 解包 unpack\n",
    "t[0] # 提取 subscription\n",
    "t[-2:] # 切⽚ slicing\n",
    "for c in t: # 迭代 iterate\n",
    "    print(c) # print 前必须有四个空格c"
   ]
  },
  {
   "cell_type": "markdown",
   "metadata": {},
   "source": [
    "需要注意，因为圆括号 (parenthesis) 也被⽤来表示计算优先级 (priority)，在⽆歧义的情况下可以省\n",
    "略，所以元组 (tuple) 的语法 (syntax) 主要取决于逗号 (comma)，⽽不是圆括号 (parenthesis)。只有在\n",
    "创建空⽩元组的时候，才只使⽤⼀对紧连的圆括号 (parenthesis)，⽽不使⽤逗号 (comma)。例如："
   ]
  },
  {
   "cell_type": "code",
   "execution_count": null,
   "metadata": {},
   "outputs": [],
   "source": [
    "t = (1, ) # 只有⼀个元素的元组\n",
    "t2 = 1, # 省略圆括号\n",
    "t2 == t # 值相等"
   ]
  },
  {
   "cell_type": "markdown",
   "metadata": {},
   "source": [
    "### 6.14 简答题\n",
    "请解释⽣成器 (generator) 对象的概念、特点和⽤法，并写出相应的代码举例。"
   ]
  },
  {
   "cell_type": "markdown",
   "metadata": {},
   "source": [
    "#### 创建⽣成器 (generator) 对象\n",
    "圆括号 (parenthesis) 围场 (enclosure) 内也⽀持 `推导式` (comprehension) 语法 (syntax)，将创建出⼀\n",
    "个 `⽣成器 `(generator) 对象，⽽不是`元组` (tuple) 对象。\n",
    "\n",
    "⽣成器 (generator) 对象并不是 容器\n",
    "(container)，更不是 序列 (sequence)，⽽是⼀种轻便 (light-weight) ⾼效 (efficient) 的 `可迭代(iterable) 对象`。\n",
    "\n",
    "\n",
    "⽣成器 (generator) 的`最⼤特点`是在创建时并不计算 (evaluate) 内部表达式\n",
    "(expression) 的值，只有在被 迭代 (iterate) 时才逐个计算，计算出的结果并不保留在⽣成器(generator) 中，能极⼤地减少内存浪费和⽆谓计算。"
   ]
  },
  {
   "cell_type": "code",
   "execution_count": null,
   "metadata": {},
   "outputs": [],
   "source": [
    "g = (c for c in 'hello') # ⼀个最简单的推导式例⼦\n",
    "g # 是⽣成器对象，⽽不是元组\n",
    "type(g) # 获取类型\n",
    "import collections.abc  as coll# 导⼊抽象基类 (abstract base class) 模块\n",
    "isinstance(g, tuple) # 不是元组\n",
    "isinstance(g, coll.Generator) # 是⽣成器\n",
    "isinstance(g, coll.Container) # 不是容器\n",
    "isinstance(g, coll.Sequence) # 不是序列\n",
    "isinstance(g, coll.Iterable) # 可迭代\n",
    "next(g) # 取出下⼀个值，'h'\n",
    "next(g) # 取出下⼀个值，'e'\n",
    "tuple(g) # 取出所有剩下的值，创建元组\n",
    "tuple(g) # 已没有剩下的值，得到空⽩元组\n",
    "g = (print(c) for c in 'hello') # 注意并不⽴即 print\n",
    "s = next(g) # 取出下⼀个值，开始计算⼀个 print\n",
    "s is None # 取出的为空值，因为 print 函数返回空值\n",
    "t = tuple(g) # 取出所有剩下的值，计算剩余的 print，将结果打包为元组\n",
    "len(t) # ⻓度是 4 ⽽不是 5\n",
    "t # 被打包的四个值都是 None(print是操作)"
   ]
  },
  {
   "cell_type": "markdown",
   "metadata": {},
   "source": [
    "### 6.15 简答题\n",
    "属性访问的硬编码 (hard-coded) ⽅式和软编码 (soft-coded) ⽅式分别是什么？请写代码举例说明。"
   ]
  },
  {
   "cell_type": "markdown",
   "metadata": {},
   "source": [
    "硬编码 (hard-coded)把属性名称直接写在了代码⾥，⽽软编码 (soft-coded)一般以函数型数存在，函数包含“属性”实参，且实参处可以改写成其他任意表达\n",
    "式。"
   ]
  },
  {
   "cell_type": "markdown",
   "metadata": {},
   "source": [
    "#### 例如："
   ]
  },
  {
   "cell_type": "code",
   "execution_count": null,
   "metadata": {},
   "outputs": [],
   "source": [
    "s = 'hello'\n",
    "s.upper # 使⽤属性访问符\n",
    "getattr(s, 'upper') # 调⽤内置函数"
   ]
  },
  {
   "cell_type": "markdown",
   "metadata": {},
   "source": [
    "s.upper 是 硬编码 (hard-coded)，即把名称 upper 直接写在了代码⾥，⽽\n",
    "getattr(s, 'upper') 则是 软编码 (soft-coded)，因为实参 'upper' 处可以改写成其他任意表达\n",
    "式。例如："
   ]
  },
  {
   "cell_type": "code",
   "execution_count": null,
   "metadata": {},
   "outputs": [],
   "source": [
    "s = 'hello'\n",
    "attr = 'upper'\n",
    "s.attr # 报错，s 对象没有名为 attr 的属性\n",
    "s.'upper' # 语法错误\n",
    "getattr(s, attr) # 根据 attr 变量所指的名称从 s 对象取得相应属性"
   ]
  },
  {
   "cell_type": "markdown",
   "metadata": {},
   "source": [
    "#### 个人总结：\n",
    "硬编码代码简洁明快，但是相对条件要求较高，可变化性较差（譬如本例中不能将属性访问名赋值后使用）\n",
    "而软编码虽然代码可能不够直接，但是胜在灵活和稳定"
   ]
  },
  {
   "cell_type": "markdown",
   "metadata": {},
   "source": [
    "### 6.16 简答题\n",
    "请总结有哪些类型的对象可以进⾏提取 (subscription)，以及不同类型对象的提取表达式 (subscripting\n",
    "expression) 的要求是什么，并写相应的代码举例"
   ]
  },
  {
   "cell_type": "markdown",
   "metadata": {},
   "source": [
    "- 对于 序列 (sequence) 或者 映射 (mapping) 对象 (object)，可以使⽤ 提取 (subscription) 语法 (syntax)\n",
    "提取出指定的元素。既⾮序列 (sequence) ⼜⾮映射 (mapping) 的对象 (object)，除⾮在其类 (class) 中\n",
    "另有定义，否则不可以进⾏提取 (subscription)。"
   ]
  },
  {
   "cell_type": "markdown",
   "metadata": {},
   "source": [
    "取决于被提取的对象 (object) 是序列 (sequence) 还是映射 (mapping)，提取表达式 (expression) 的要\n",
    "求不尽相同。"
   ]
  },
  {
   "cell_type": "markdown",
   "metadata": {},
   "source": [
    "- 序列提取\n",
    "\n",
    "\n",
    "对序列 (sequence) 对象 (object) 进⾏提取 (subscription) 时，提取表达式 (subscripting expression)\n",
    "必须计算 (evaluate) 为 `整数`。序列内的每⼀个元素 (element) 都有⼀个从 0 开始的 索引值 (index)，⻓\n",
    "度 (length) 为 的序列 (sequence) 的最后⼀个元素 (element) 的索引值 (index) 为 。提取表达式\n",
    "(subscripting expression) 也可以计算 (evaluate) 为负整数。\n",
    "\n",
    "Python 的内置 (built-in) 序列 (sequence)\n",
    "对象 (object) 在处理负的提取表达式 (subscripting expression) 的时候，会⾃动加上 来计算索引号\n",
    "(index)。因此，提取表达式 (subscripting expression) 也可以提取出序列 (sequence) 的最后⼀个\n",
    "元素 (element)，⽽且更直观易懂。"
   ]
  },
  {
   "cell_type": "code",
   "execution_count": null,
   "metadata": {},
   "outputs": [],
   "source": [
    "l = ['b', 'l', 'a', 'h'] # 列表是典型的序列，以列表为例\n",
    "l[0]\n",
    "l[-1] # 更直观易懂\n",
    "#l['b'] # 提取表达式必须计算为整数\n",
    "l[1 + 1] # 1 + 1 计算为整数 2，是有效的提取表达式\n",
    "n = len(l) # 计算列表的⻓度并命名为 n\n",
    "l[n - 1]\n",
    "l[len(l) - 1]\n",
    "matrix = [[3, 6, 9], [2, 8, 4], [5, 1, 0]] # 列表内的元素仍是列表\n",
    "matrix[1][2] # 提取之后继续提取，matrix[1] 计算出了⼀个可提取的对象"
   ]
  },
  {
   "cell_type": "markdown",
   "metadata": {},
   "source": [
    "- 映射提取\n",
    "\n",
    "\n",
    "对映射 (mapping) 对象 (object) 进⾏提取 (subscription) 时，`提取表达式 `(subscripting expression) 必\n",
    "须计算 (evaluate) 为 `可散列 (hashable) 对象。`\n",
    "\n",
    "这其实就是前⾯讲过的对键 (key) 的要求。\n",
    "\n",
    "通常⽽⾔，不\n",
    "可变 (immutable) 内置类型 (built-in types) 都 可散列 (hashable)，可变 (mutable) 内置类型 (built-in\n",
    "types) 都 不可散列 (unhashable)，程序员定义的类 (class) 的实例 (instance) 以 id() 为基础 可散列\n",
    "(hashable)。⼏个常⽤的内置数据类型 (built-in data types) 是否可变 (mutable) 或可散列 (hashable)\n",
    "参⻅表 "
   ]
  },
  {
   "cell_type": "markdown",
   "metadata": {},
   "source": [
    "![image.png](attachment:image.png)"
   ]
  },
  {
   "cell_type": "code",
   "execution_count": null,
   "metadata": {},
   "outputs": [],
   "source": [
    "d = {'a': 123, 98: 'a', (3, 4): 5., (0, 'a'): {3, 1, 4}} # 字典的 key 并不必须是相同类型\n",
    "d['a']\n",
    "d[98]\n",
    "d[(3, 4)]\n",
    "d[3, 4] # 因为没有歧义，所以这⾥元组的圆括号可以省略，⽽且建议省略\n",
    "d[0, 'a'] # 键所对应的值可以可变或不可散列"
   ]
  },
  {
   "cell_type": "markdown",
   "metadata": {},
   "source": [
    "- 虽然 浮点数 (float) 是可散列 (hashable) 的，但由于其在内存中使⽤有限的若⼲⼆进制字节\n",
    "(bytes) 进⾏保存，其计算有时不能完全精确，被称为 舍⼊误差 (round-off error)，所以 ⾮常不建议 使\n",
    "⽤浮点数 (float) 作为字典 (dict) 中的键 (key)，否则很容易在提取 (subscription) 时出现意外错误。例\n",
    "如："
   ]
  },
  {
   "cell_type": "code",
   "execution_count": null,
   "metadata": {},
   "outputs": [],
   "source": [
    "d = {3.3: 'not recommended'} # 不建议⽤浮点数作为 key\n",
    "d[3.3] # 可以正常提取\n",
    "#d[1.1 + 2.2] # 不能正常提取"
   ]
  },
  {
   "cell_type": "markdown",
   "metadata": {},
   "source": [
    "### 6.17 简答题\n",
    "请总结有哪些类型的对象可以作为字典的键 (key)？哪些不可以？为什么不推荐⽤浮点数 (float) 作为字\n",
    "典的键？请写相应的代码举例"
   ]
  },
  {
   "cell_type": "markdown",
   "metadata": {},
   "source": [
    "- 只有 可散列 (hashable) 的对象才可以作为键 (key)，值 (value) 则可以是任何对\n",
    "象。字典 (dict) 本身 不可散列 (unhashable)。\n",
    "\n",
    "根据图例等总结\n",
    "\n",
    "- 字符串\n",
    "\n",
    "- 整数和浮点数（不推荐）\n",
    "\n",
    "- 生成器\n",
    "\n",
    "- 元组\n",
    "\n",
    "- 比特（字节）"
   ]
  },
  {
   "cell_type": "code",
   "execution_count": null,
   "metadata": {},
   "outputs": [],
   "source": [
    "d = {b'a': 1, 'b': 2, 'c': 3}\n",
    "d[b'a']"
   ]
  },
  {
   "cell_type": "markdown",
   "metadata": {},
   "source": [
    "- 虽然` 浮点数 (float)` 是`可散列` (hashable) 的，但由于其在内存中使⽤有限的若⼲⼆进制字节\n",
    "(bytes) 进⾏保存，其计算有时`不能完全精确`，被称为 `舍⼊误差` (round-off error)，所以 ⾮常不建议 使\n",
    "⽤浮点数 (float) 作为字典 (dict) 中的键 (key)，否则很容易在提取 (subscription) 时出现意外错误。例\n",
    "如："
   ]
  },
  {
   "cell_type": "code",
   "execution_count": null,
   "metadata": {},
   "outputs": [],
   "source": [
    "d = {3.3: 'not recommended'} # 不建议⽤浮点数作为 key\n",
    "d[3.3] # 可以正常提取\n",
    "#d[1.1 + 2.2] # 不能正常提取"
   ]
  },
  {
   "cell_type": "markdown",
   "metadata": {},
   "source": [
    "### 6.18 简答题\n",
    "对于以下对象"
   ]
  },
  {
   "cell_type": "code",
   "execution_count": null,
   "metadata": {},
   "outputs": [],
   "source": [
    ">>> person = {\n",
    "... 'name': ('Adam', 'Smith'),\n",
    "... 'birth': (1723, 6, 5),\n",
    "... 'publications': [\n",
    "... {'year': 1759, 'title': 'The Theory of Moral Sentiments'},\n",
    "... {'year': 1776, 'title': 'The Wealth of Nations'},\n",
    "... ],\n",
    "... }"
   ]
  },
  {
   "cell_type": "markdown",
   "metadata": {},
   "source": [
    "#### 请写代码从中提取出 'The Wealth of Nations' 。"
   ]
  },
  {
   "cell_type": "code",
   "execution_count": null,
   "metadata": {},
   "outputs": [],
   "source": [
    "person['publications'][1]['title']"
   ]
  },
  {
   "cell_type": "markdown",
   "metadata": {},
   "source": [
    "### 6.19 简答题\n",
    "请简述切⽚ (slicing) 语法的规则，并对你所列举的每⼀个规则，相应地举例进⾏说明。"
   ]
  },
  {
   "cell_type": "markdown",
   "metadata": {},
   "source": [
    "#### 切⽚\n",
    "序列 (sequence) 对象 (object) 还⽀持 切⽚ (slicing) 语法 (syntax)，⽤于 有规律地 从现有序列\n",
    "(sequence) 切取得到⼀个 新的 序列 (sequence) 对象 (object)。下⾯先给出⼀些例⼦："
   ]
  },
  {
   "cell_type": "markdown",
   "metadata": {},
   "source": [
    "- 切⽚ (slicing) 语法 (syntax) \n",
    "\n",
    "在提取符 [] 内使⽤⼀个或两个冒号 (colon)，⽤来分隔三\n",
    "个可省略的表达式 (expression)，分别为切⽚的 起始 (start)、终⽌ (stop) 和 步⻓ (step)。\n",
    "\n",
    "⼀个冒号\n",
    "(colon) ⽤来分隔起始 (start) 和终⽌ (stop)，第⼆个冒号 (colon) 后⾯写步⻓ (step)。省略起始 (start) 或\n",
    "终⽌ (stop) 意味着从最开始切⽚或切⽚⾄最末尾。\n",
    "\n",
    "省略步⻓ (step) 意味着步⻓为 1。\n",
    "\n",
    "- 切⽚要注意:（前闭后开）\n",
    "\n",
    "若指定起始 (start) 索引值 (index)，则其必然要被包含 (inclusive)；若指定终⽌ (stop) 索引值\n",
    "(index)，则其必然不被包含 (exclusive)。\n",
    "\n"
   ]
  },
  {
   "cell_type": "code",
   "execution_count": null,
   "metadata": {},
   "outputs": [],
   "source": [
    "l = ['a', 'b', 'c', 'd', 'e'] # 列表是个典型的序列\n",
    "l[1:] # 从索引值 1 开始 (包括 1) 切到最末尾\n",
    "l[:3] # 从最开始切到索引值 3 (不包括 3)\n",
    "l[-3:] # 从索引值 -3 (也就是索引值 5-3=2) 开始 (包括 -3)，切到最末尾\n",
    "l[:-1] # 从最开始切到索引值 -1 (也就是索引值 5-1=4) (不包括 -1)\n",
    "l[1:-1] # 从索引值 1 开始 (包括 1) 切到索引值 -1 (不包括 -1)\n",
    "l[:] # 从最开始切到最末尾\n",
    "#使⽤ [:] 切⽚是⼀个⽐较⽅便的复制序列对象的办法"
   ]
  },
  {
   "cell_type": "code",
   "execution_count": null,
   "metadata": {},
   "outputs": [],
   "source": [
    "l.copy() # 列表对象的 copy ⽅法也可以⽤于复制列表，视觉上可能更直观\n",
    "l[::2] # 切⽚步⻓为 2\n",
    "l[::] # 与 l[:] 效果完全相同\n",
    "l[::1] # 切⽚步⻓为 1，与 l[:] 效果完全相同\n",
    "l[1:-1:2] # 从索引值1 开始 (包括 1)，到索引值 -1 结束 (不包括 -1)，步⻓为 2\n",
    "l[-1:1] # 切出空列表，因为起始的索引值 -1 (也就是索引值 5-1=4) ⼤于等于终⽌的索引值 1\n",
    "l[-1:1:-1] # 步⻓为 -1，就不再切出空列表，注意起始的索引值 -1 是包括的，终⽌的索引值 1 是不包括的\n",
    "l[::-1] # 步⻓为 -1，从最末尾切到最开始\n",
    "# 使⽤ [::-1] 切⽚是⼀个⽐较⽅便的得到反转的序列对象的办法\n",
    "l # 注意 l 列表并没有被反转，因为切⽚是⽣成⼀个新序列\n",
    "l.reverse() # 返回值为 None，发⽣的操作是反转 l 序列本身\n",
    "l # 注意 l 列表被反转"
   ]
  },
  {
   "cell_type": "markdown",
   "metadata": {},
   "source": [
    "### 6.20 简答题\n",
    "请简述调⽤ (call) 函数时传递实参 (argument) 的规则，并对你所列举的每⼀个规则，相应地举例进⾏说\n",
    "明。"
   ]
  },
  {
   "cell_type": "markdown",
   "metadata": {},
   "source": [
    "#### 符合下面几个规则\n",
    "- 在调⽤ (call) 时，`必须 `给`定位形参`(positional parameter) `传递实参` (argument)，`可以` 给`命名形参`\n",
    "(named parameter)` 传递实参` (argument)。\n",
    "\n",
    "\n",
    "- 未接受实参 (argument) 的命名形参 (named parameter)\n",
    "将取其默认值 (default value)。\n",
    "\n",
    "- 实参 (argument) 可以按定位 (positional) ⽅式传递，也可以按命名\n",
    "(named) ⽅式传递，但 定位实参 (positional argument) ⼀定要排在 命名实参 (named argument) 之\n",
    "前。\n",
    "\n",
    "- 签名 (signature) 中的 / 符号之前的形参 (parameters) 只 接受定位实参 (positional\n",
    "argument)， * 符号之后的形参 (parameters) 只 接受命名实参 (named argument)。"
   ]
  },
  {
   "cell_type": "code",
   "execution_count": null,
   "metadata": {},
   "outputs": [],
   "source": [
    "import inspect\n",
    "inspect.signature(sum) # 注意观察 sum 的签名"
   ]
  },
  {
   "cell_type": "markdown",
   "metadata": {},
   "source": [
    "#### 有命名形参只接受定位实参（/之前）\n",
    "\n",
    "- #### 在调⽤ (call) 时，必须给定位形参(positional parameter) 传递实参 (argument)，可以 给命名形参 (named parameter)传递实参 (argument)。\n",
    "\n",
    "- #### 未接受实参 (argument) 的命名形参 (named parameter) 将取其默认值 (default value)。"
   ]
  },
  {
   "cell_type": "markdown",
   "metadata": {},
   "source": [
    "- sum([2, 1, 3, 4]) # start 参数取默认值,也就是可以不给命名形参传递实参\n",
    "- sum(,20)    定位形参必须传递实参"
   ]
  },
  {
   "cell_type": "code",
   "execution_count": null,
   "metadata": {
    "scrolled": true
   },
   "outputs": [],
   "source": [
    "sum([2, 1, 3, 4]) # start 参数取默认值,也就是可以不给命名形参传递实参\n",
    "\n",
    "#sum(iterable = [2, 1, 3, 4]) # 定位形参只接受定位实参\n",
    "#sum([2, 1, 3, 4], start=20) # start在/之前    start 是命名形参，但只接受定位实参\n",
    "sum([2, 1, 3, 4], 20)\n",
    "\n",
    "#sum([2, 1, 3, 4]) # start 参数取默认值,也就是可以不给命名形参传递实参\n",
    "#sum(,20)    定位形参必须传递实参"
   ]
  },
  {
   "cell_type": "markdown",
   "metadata": {},
   "source": [
    "- #### 实参 (positional argument) ⼀定要排在 命名实参 (named argument) 之 前"
   ]
  },
  {
   "cell_type": "markdown",
   "metadata": {},
   "source": [
    "- open(mode='w', 'file3.txt') # 定位实参必须在命名实参之前"
   ]
  },
  {
   "cell_type": "code",
   "execution_count": null,
   "metadata": {},
   "outputs": [],
   "source": [
    "#open定位和命名形参不固定，没有/*\n",
    "inspect.signature(open) # 注意观察 open 的签名\n",
    "open('file1.txt', 'w') # 定位实参 'w' 传给了命名形参 mode\n",
    "open(mode='w', file='file2.txt') # 两个命名实参颠倒了顺序传给定位形参 file和命名形参 mode\n",
    "\n",
    "\n",
    "#open(mode='w', 'file3.txt') # 定位实参必须在命名实参之前"
   ]
  },
  {
   "cell_type": "markdown",
   "metadata": {},
   "source": [
    "- #### 签名 (signature) 中的 / 符号之前的形参 (parameters) 只 接受定位实参 (positional argument)， * 符号之后的形参 (parameters) 只 接受命名实参 (named argument)。"
   ]
  },
  {
   "cell_type": "markdown",
   "metadata": {},
   "source": [
    "- sorted(iterable=l，len)\n",
    "\n",
    "- sorted(iterable=l) # iterable 形参只接受定位实参，不接受命名实参\n",
    "\n",
    "- sorted(l, len) # 命名形参 key 只接受命名实参"
   ]
  },
  {
   "cell_type": "code",
   "execution_count": null,
   "metadata": {},
   "outputs": [],
   "source": [
    "inspect.signature(sorted) # 注意观察 sorted 的签名\n",
    "l = ['dd', 'aaaa', 'ccc', 'b']\n",
    "sorted(l) # 按字符串的默认⽐较规则排序\n",
    "#sorted(iterable=l) # iterable 形参只接受定位实参，不接受命名实参\n",
    "sorted(l, key=len) # 把字符串传递给 len 函数，计算出字符串的⻓度，按⻓度排序\n",
    "#sorted(l, len) # 命名形参 key 只接受命名实参\n",
    "\n",
    "#sorted(iterable=l，len)"
   ]
  },
  {
   "cell_type": "markdown",
   "metadata": {},
   "source": [
    "### 6.21 简答题\n",
    "请按优先级 (priority) 由⾼到低的顺序列举你所知道的各种 Python 运算符，并简述每个运算符的名称或\n",
    "作⽤。"
   ]
  },
  {
   "cell_type": "markdown",
   "metadata": {},
   "source": [
    "#### 1.指数运算符(**)\n",
    "[指数运算符 (**)](#指数运算符(**))\n",
    "- 当 x 、 y 为整数 (int) 或浮点数 (float) 时， x**y 计算数学上的 幂 (exponentiation) 。\n",
    "- 当 x 为其他对象 (object) 时， x**y 将调⽤ (call) x.__pow__(y) 。"
   ]
  },
  {
   "cell_type": "markdown",
   "metadata": {},
   "source": [
    "#### 2.正、负、⽐特⾮运算符 ( + , - , ~ )\n",
    "-  当 x 为整数 (int) 或浮点数 (float) 时， +x 计算数学上的 正 (positive) ； -x 计算数学上的 负(negative) ；当 x 为整数 (int) 时， ~x 计算该整数的⼆进制表示 (binary representation)的 ⽐特⾮ (bitwise NOT)\n",
    "- 当 x 为其他对象 (object) 时， +x 、 -x 、 ~x 将分别调⽤ (call)    `x.__pos__() `、`x.__neg__() `、 `x.__invert__() `。"
   ]
  },
  {
   "cell_type": "markdown",
   "metadata": {},
   "source": [
    "#### 3.乘、除、取余运算符 ( * , / , @ , // , % )\n",
    "- 当 x 、 y 为整数 (int) 或浮点数 (float) 时， x*y 、 x/y 分别计算数学上的 乘 (multiplication) \n",
    "和 除 (division) ；即使 x 和 y 都是整数 (int)， x/y 计算出的也是浮点数 (float)； x//y 计算\n",
    "数学上的 整除 (floor division)，即相除的结果向下 (floor) 取整； x%y 计算数学上的 余数\n",
    "(remainder)；使⽤内置函数 divmod(x, y) 可以同时计算整除 (floor division) 和余数\n",
    "(remainder)。例如：\n",
    "\n",
    "\n",
    "- 当 x 为序列 (sequence) 时， x*y 将把 x 重复 (repeat) y 次， y 必须为整数 (int)。例如：\n",
    "\n",
    "- 当 x 为字符串 (str) 或字节串 (bytes) 时， x % y 将把 x 根据 y 进⾏ 格式化 (format)。字符串格式化 (string formatting) 的概念后⾯会专⻔介绍。例如：\n",
    "\n",
    "- 当 x 为矩阵 (matrix) 时， x@y 将计算数学上的 矩阵乘法 (matrix multiplication)。Python 并没\n",
    "有内置矩阵类型，著名的第三⽅软件包 Numpy 提供了数组 (ndarray) 对象，⽀持 @ 运算符。例\n",
    "如：\n",
    "\n",
    "- 当 x 为其他对象 (object) 时， x*y 、 x/y 、 x@y 、 x//y 、 x%y 将分别调⽤ (call)\n",
    "`x.__mul__(y)` 、` x.__truediv__(y)` 、` x.__matmul__(y)` 、` x.__floordiv__(y) `、 `x.__mo\n",
    "d__(y)` 。"
   ]
  },
  {
   "cell_type": "markdown",
   "metadata": {},
   "source": [
    "#### 4.加减运算符 ( + , - )\n",
    "- $$当 x 、 y 为整数 (int) 或浮点数 (float) 时， x + y 和 x - y 将计算数学上的 $$\n",
    "$$加法 (addition) x + y 和 减法 (subtraction) x - y 。例如：$$\n",
    "\n",
    "- 当 x 和 y 为相同类型的序列 (sequence) 时， x + y 将计算序列的 拼接 (concatenation)。\n",
    "\n",
    "- 当 x 和 y 均为集合 (set) 时， x - y 将计算两集合 (set) 的 差集 (difference set)\n",
    "\n",
    "- 当 x 为其他对象 (object) 时， x + y 和 x - y 将分别调⽤ (call) x.__add__(y) 和\n",
    "x.__sub__(y) 。"
   ]
  },
  {
   "cell_type": "markdown",
   "metadata": {},
   "source": [
    "#### 5.⽐特移位运算符 ( << , >> )\n",
    "\n",
    "- 当` x` 、 `y `为整数 (int) 时，` x << y` 和 `x >> y` 将分别计算 左右⽐特移位 (left or right bitwise\n",
    "shift)。对于⼗进制整数来说其效果相当于连乘 `y `个 2 或连除 `y `个 2 (向下取整)。例如：\n",
    "\n",
    "- 当 x 为其他对象 (object) 时，` x << y `和` x >> y` 将分别调⽤ (call) `x.__lshift__(y)` 和\n",
    "`x.__rshift__(y)`"
   ]
  },
  {
   "cell_type": "markdown",
   "metadata": {},
   "source": [
    "#### 6.⽐特与运算符 (&)\n",
    "[⽐特与运算符 (&)](#⽐特与运算符(&))\n",
    "- x 、 y 为整数 (int) 时， x & y 将计算 x 与 y 的 ⽐特与 (bitwise AND)。\n",
    "- 当 x 和 y 均为集合 (set) 时， x & y 将计算 x 与 y 的 交集 (intersection)。例如：\n",
    "- 当 x 为其他对象 (object) 时， x & y 将调⽤ (call) x.__and__(y) 。"
   ]
  },
  {
   "cell_type": "markdown",
   "metadata": {},
   "source": [
    "#### 7.⽐特异或运算符 ( ^ )\n",
    "- 当 x 、 y 为整数 (int) 时，`x ^ y `将计算 x 与 y 的` ⽐特异或` (bitwise XOR)。\n",
    "\n",
    "- 当 x 和 y 均为集合 (set) 时，` x ^ y `将计算 x 与 y 的 `对称差` (symmetric difference)\n",
    "\n",
    "- 当` x` 为其他对象 (object) 时，` x ^ y `将调⽤` (call) x.__xor__(y)`。"
   ]
  },
  {
   "cell_type": "markdown",
   "metadata": {},
   "source": [
    "#### 8.⽐特或运算符 ( | )\n",
    "- 当 x 、 y 为整数 (int) 时， `x | y` 将计算 `x` 与` y` 的 ⽐特或 (bitwise OR)。\n",
    "- 当 x 和 y 均为集合 (set) 时，` x & y `将计算 `x` 与` y `的 并集 (union)\n",
    "\n",
    "- 当 x 为其他对象 (object) 时，` x | y` 将调⽤ `(call) x.__or__(y)` 。\n"
   ]
  },
  {
   "cell_type": "markdown",
   "metadata": {},
   "source": [
    "#### 9.逻辑⽐较运算符 ( in , not in , is , is not , < , <= , > , >= , != , == )"
   ]
  },
  {
   "cell_type": "markdown",
   "metadata": {},
   "source": [
    "[逻辑⽐较运算符](#逻辑⽐较运算符)"
   ]
  },
  {
   "cell_type": "markdown",
   "metadata": {},
   "source": [
    "#### 10.逻辑⾮运算符 ( not )"
   ]
  },
  {
   "cell_type": "markdown",
   "metadata": {},
   "source": [
    "#### 11.逻辑与运算符 ( and )"
   ]
  },
  {
   "cell_type": "markdown",
   "metadata": {},
   "source": [
    "#### 12.逻辑或运算符 ( or )"
   ]
  },
  {
   "cell_type": "markdown",
   "metadata": {},
   "source": [
    "- 11.12 有短路规则"
   ]
  },
  {
   "cell_type": "markdown",
   "metadata": {},
   "source": [
    "### 6.22 简答题\n",
    "请写代码举例说明整数 (int) 或浮点数 (float) 所⽀持的各种运算符 (逻辑运算除外) 及其作⽤。"
   ]
  },
  {
   "cell_type": "markdown",
   "metadata": {},
   "source": [
    "#### 1.指数运算符 ( ** )\n",
    "- 当 x 、 y 为整数 (int) 或浮点数 (float) 时， x**y 计算数学上的 幂 (exponentiation) 。"
   ]
  },
  {
   "cell_type": "code",
   "execution_count": null,
   "metadata": {},
   "outputs": [],
   "source": [
    "0.09**0.5"
   ]
  },
  {
   "cell_type": "markdown",
   "metadata": {},
   "source": [
    "#### 2.正、负、⽐特⾮运算符 ( + , - , ~ )\n",
    "-  当 x 为整数 (int) 或浮点数 (float) 时， +x 计算数学上的 正 (positive) ； -x 计算数学上的 负(negative) ；当 x 为整数 (int) 时， ~x 计算该整数的⼆进制表示 (binary representation)的 ⽐特⾮ (bitwise NOT)"
   ]
  },
  {
   "cell_type": "code",
   "execution_count": null,
   "metadata": {},
   "outputs": [],
   "source": [
    "x  =  -2\n",
    "-x**2\n",
    "bin(x)\n",
    "oct(x)\n",
    "2**-8"
   ]
  },
  {
   "cell_type": "markdown",
   "metadata": {},
   "source": [
    "#### 3.乘、除、取余运算符 ( * , / , @ , // , % )\n",
    "- 当 x 、 y 为整数 (int) 或浮点数 (float) 时， x*y 、 x/y 分别计算数学上的 乘 (multiplication) \n",
    "和 除 (division) ；即使 x 和 y 都是整数 (int)， x/y 计算出的也是浮点数 (float)； x//y 计算\n",
    "数学上的 整除 (floor division)，即相除的结果向下 (floor) 取整； x%y 计算数学上的 余数\n",
    "(remainder)；使⽤内置函数 divmod(x, y) 可以同时计算整除 (floor division) 和余数\n",
    "(remainder)。例如："
   ]
  },
  {
   "cell_type": "code",
   "execution_count": null,
   "metadata": {},
   "outputs": [],
   "source": [
    "3.14*8\n",
    "10/3 # 注意最后⼀位并不精确，round-off error\n",
    "-5//2 # 向下取整\n",
    "-11%4\n",
    "divmod(11, 4) # ⽐分别计算 11//4 和 11%4 更⾼效些"
   ]
  },
  {
   "cell_type": "markdown",
   "metadata": {},
   "source": [
    "#### 4.加减运算符 ( + , - )\n",
    "- $$当 x 、 y 为整数 (int) 或浮点数 (float) 时， x + y 和 x - y 将计算数学上的 $$\n",
    "$$加法 (addition) x + y 和 减法 (subtraction) x - y 。$$\n",
    "\n"
   ]
  },
  {
   "cell_type": "code",
   "execution_count": null,
   "metadata": {},
   "outputs": [],
   "source": [
    "2+8\n",
    "2+8-3"
   ]
  },
  {
   "cell_type": "markdown",
   "metadata": {},
   "source": [
    "#### 5.⽐特移位运算符 ( << , >> )\n",
    "- 当 x 、 y 为`整数` (int) 时， x << y 和 x >> y 将分别计算 左右⽐特移位 (left or right bitwise\n",
    "shift)。对于⼗进制整数来说其效果相当于连乘 y 个 2 或连除 y 个 2 (向下取整)。例如"
   ]
  },
  {
   "cell_type": "code",
   "execution_count": null,
   "metadata": {},
   "outputs": [],
   "source": [
    "x = 3\n",
    "x << 2\n",
    "bin(x)[:]\n",
    "format(x, '08b')\n",
    "format(x << 2, '08b')"
   ]
  },
  {
   "cell_type": "code",
   "execution_count": null,
   "metadata": {},
   "outputs": [],
   "source": [
    "x = 0b101011\n",
    "x\n",
    "x >> 2\n",
    "format(x, '08b')\n",
    "format(x, '02x')\n",
    "format(x, '03o')\n",
    "format(x >> 2, '08b')"
   ]
  },
  {
   "cell_type": "markdown",
   "metadata": {},
   "source": [
    "#### 6.⽐特与运算符 ( & )\n",
    "- 当 x 、 y 为`整数` (int) 时， x & y 将计算 x 与 y 的 ⽐特与 (bitwise AND)。"
   ]
  },
  {
   "cell_type": "code",
   "execution_count": null,
   "metadata": {},
   "outputs": [],
   "source": [
    "x = 0b1001\n",
    "y = 0b1100\n",
    "format(x, '08b')\n",
    "format(y, '08b')\n",
    "format(x & y, '08b')\n",
    "format(y & x, '08b')\n",
    "#只有共同部分"
   ]
  },
  {
   "cell_type": "markdown",
   "metadata": {},
   "source": [
    "#### 7.⽐特异或运算符 ( ^ )\n",
    "- 当 x 、 y 为`整数` (int) 时， x ^ y 将计算 x 与 y 的 ⽐特异或 (bitwise XOR)。"
   ]
  },
  {
   "cell_type": "code",
   "execution_count": null,
   "metadata": {},
   "outputs": [],
   "source": [
    "x = 0b1001\n",
    "y = 0b1100\n",
    "format(x, '08b')\n",
    "format(y, '08b')\n",
    "format(x ^ y, '08b')\n",
    "format(y ^ x, '08b')\n",
    "x , y , x ^ y"
   ]
  },
  {
   "cell_type": "markdown",
   "metadata": {},
   "source": [
    "#### 8.⽐特或运算符 ( | )\n",
    "- 当 x 、 y 为`整数` (int) 时， x | y 将计算 x 与 y 的 ⽐特或 (bitwise OR)。"
   ]
  },
  {
   "cell_type": "code",
   "execution_count": null,
   "metadata": {},
   "outputs": [],
   "source": [
    "x = 0b1001\n",
    "y = 0b1100\n",
    "format(x, '08b')\n",
    "format(y, '08b')\n",
    "format(x | y, '08b')\n",
    "format(y | x, '08b')\n",
    "format(y&x^y | x, '08b')"
   ]
  },
  {
   "cell_type": "markdown",
   "metadata": {},
   "source": [
    "#### 除逻辑运算符之外：\n",
    "- 整数 (int) ⽀持的各种运算符是1-8\n",
    "- 浮点数 (float)支持的运算符是1-4 "
   ]
  },
  {
   "cell_type": "markdown",
   "metadata": {},
   "source": [
    "### 6.23 简答题"
   ]
  },
  {
   "cell_type": "markdown",
   "metadata": {},
   "source": [
    "请写代码举例说明字符串 (str) 或字节流 (bytes) 所⽀持的各种运算符 (逻辑运算除外) 及其作⽤。"
   ]
  },
  {
   "cell_type": "markdown",
   "metadata": {},
   "source": [
    "#### 1 .乘、除运算符 ( * , % )"
   ]
  },
  {
   "cell_type": "markdown",
   "metadata": {},
   "source": [
    "字符串和字节串都是序列，所以x * y 时只要y是整数，就可以将x重复y次（负数不报错）"
   ]
  },
  {
   "cell_type": "code",
   "execution_count": null,
   "metadata": {},
   "outputs": [],
   "source": [
    "2 *'abc' * 2\n",
    "'abc' * -1\n",
    "b'abc' * -1"
   ]
  },
  {
   "cell_type": "markdown",
   "metadata": {},
   "source": [
    "当 x 为字符串 (str) 或字节串 (bytes) 时， x % y 将把 x 根据 y 进⾏ 格式化 (format)。字符串\n"
   ]
  },
  {
   "cell_type": "code",
   "execution_count": null,
   "metadata": {},
   "outputs": [],
   "source": [
    "'%s and %s are neighbors' % ('Jack'+'son', b'Jones') # 注意要加括号，不会优先计算元组"
   ]
  },
  {
   "cell_type": "markdown",
   "metadata": {},
   "source": [
    "%和.format有关系,用法相似"
   ]
  },
  {
   "cell_type": "code",
   "execution_count": null,
   "metadata": {},
   "outputs": [],
   "source": [
    "'{1} and {0} are neighbors' .format('Jack', 'Jones')"
   ]
  },
  {
   "cell_type": "markdown",
   "metadata": {},
   "source": [
    "#### 2.加运算符 ( +  )"
   ]
  },
  {
   "cell_type": "markdown",
   "metadata": {},
   "source": [
    "当 x 和 y 为相同类型的序列 (sequence) 时， x + y 将计算序列的 拼接 (concatenation)。例\n"
   ]
  },
  {
   "cell_type": "code",
   "execution_count": null,
   "metadata": {},
   "outputs": [],
   "source": [
    "a = ' abc '\n",
    "b = b' efg '\n",
    "a+a\n",
    "b+b\n",
    "2*a+str(b)"
   ]
  },
  {
   "cell_type": "markdown",
   "metadata": {},
   "source": [
    "当且仅当加减运算符两边是同类型序列式才可以拼接"
   ]
  },
  {
   "cell_type": "markdown",
   "metadata": {},
   "source": [
    "### 6.24 简答题\n",
    "请写代码举例说明列表 (list) 或元组 (tuple) 所⽀持的各种运算符 (逻辑运算除外) 及其作⽤。"
   ]
  },
  {
   "cell_type": "markdown",
   "metadata": {},
   "source": [
    "#### 乘运算符 ( *)"
   ]
  },
  {
   "cell_type": "markdown",
   "metadata": {},
   "source": [
    "列表和元组都是序列，所以接受x * y 格式的运算符，y是整数，x是序列，将x重复y 次"
   ]
  },
  {
   "cell_type": "code",
   "execution_count": null,
   "metadata": {},
   "outputs": [],
   "source": [
    "a = ('a',)\n",
    "b = [b'b']\n",
    "a*2\n",
    "b*3"
   ]
  },
  {
   "cell_type": "markdown",
   "metadata": {},
   "source": [
    "#### 加运算符 ( + )"
   ]
  },
  {
   "cell_type": "markdown",
   "metadata": {},
   "source": [
    "- 当 x 和 y 为相同类型的序列 (sequence) 时， x + y 将计算序列的 拼接 (concatenation)。例\n",
    "如"
   ]
  },
  {
   "cell_type": "code",
   "execution_count": null,
   "metadata": {},
   "outputs": [],
   "source": [
    "'abc' + 'def'\n",
    "b'a' + b'z'\n",
    "('a', ) + (1, 2)\n",
    "['x'] + ['y']"
   ]
  },
  {
   "cell_type": "code",
   "execution_count": null,
   "metadata": {},
   "outputs": [],
   "source": [
    "print(b.append('a'))\n",
    "b.append('a')\n",
    "b"
   ]
  },
  {
   "cell_type": "markdown",
   "metadata": {},
   "source": [
    "### 6.25 简答题\n",
    "请写代码举例说明集合 (set) 所⽀持的各种运算符 (逻辑运算除外) 及其作⽤。"
   ]
  },
  {
   "cell_type": "markdown",
   "metadata": {},
   "source": [
    "#### 减运算符 (  - )"
   ]
  },
  {
   "cell_type": "markdown",
   "metadata": {},
   "source": [
    "- 当 x 和 y 均为集合 (set) 时， x - y 将计算两集合 (set) 的 差集 (difference set)。例如："
   ]
  },
  {
   "cell_type": "code",
   "execution_count": null,
   "metadata": {},
   "outputs": [],
   "source": [
    "a = {('a',),(\"b\",),'c'}\n",
    "b = {(\"b\",),\"a\"}\n",
    "a,b\n",
    "#a+b\n",
    "#a\n",
    "a-b\n",
    "a^b#对称差"
   ]
  },
  {
   "cell_type": "markdown",
   "metadata": {},
   "source": [
    "#### ⽐特与运算符 ( & )"
   ]
  },
  {
   "cell_type": "markdown",
   "metadata": {},
   "source": [
    "-  x 和 y 均为集合 (set) 时， x & y 将计算 x 与 y 的 交集 (intersection)。例如："
   ]
  },
  {
   "cell_type": "code",
   "execution_count": null,
   "metadata": {},
   "outputs": [],
   "source": [
    "a&b"
   ]
  },
  {
   "cell_type": "markdown",
   "metadata": {},
   "source": [
    "#### ⽐特或运算符 ( | )"
   ]
  },
  {
   "cell_type": "markdown",
   "metadata": {},
   "source": [
    "- 当 x 和 y 均为集合 (set) 时， x & y 将计算 x 与 y 的 并集 (union)。例如："
   ]
  },
  {
   "cell_type": "code",
   "execution_count": null,
   "metadata": {
    "scrolled": true
   },
   "outputs": [],
   "source": [
    "a|b"
   ]
  },
  {
   "cell_type": "markdown",
   "metadata": {},
   "source": [
    "#### ⽐特异或运算符 ( ^ )"
   ]
  },
  {
   "cell_type": "markdown",
   "metadata": {},
   "source": [
    "- 当 x 和 y 均为集合 (set) 时， x ^ y 将计算 x 与 y 的 对称差 (symmetric difference)\n",
    "- 本质是取并集后删除交集部分"
   ]
  },
  {
   "cell_type": "code",
   "execution_count": null,
   "metadata": {},
   "outputs": [],
   "source": [
    "a^b ==  (a|b)-(a&b) \n",
    "a^b is  (a|b)-(a&b)"
   ]
  },
  {
   "cell_type": "markdown",
   "metadata": {},
   "source": [
    "### 6.26 简答题\n",
    "有哪些类型 (type) 的对象⽀持通过运算符 < ⽐较出他们的序关系？进⾏⽐较的规则分别是什么？请分\n",
    "别举例。"
   ]
  },
  {
   "cell_type": "markdown",
   "metadata": {},
   "source": [
    "- 当 x 与 y 是整数 (int) 或浮点数 (float) 时， x < y 计算数学上的 ⼩于 (less than)、⼩于等于 (less than or equal to),返回布尔值True 或者False"
   ]
  },
  {
   "cell_type": "code",
   "execution_count": null,
   "metadata": {},
   "outputs": [],
   "source": [
    "1<2\n",
    "1 < 0"
   ]
  },
  {
   "cell_type": "markdown",
   "metadata": {},
   "source": [
    "- 当 x 与 y 是 单个字符 构成的字符串 (str) 时，<⽐较的是字符的 Unicode 编码。例如："
   ]
  },
  {
   "cell_type": "code",
   "execution_count": null,
   "metadata": {},
   "outputs": [],
   "source": [
    "'a' < 'z'\n",
    "format(ord('编'),\"x\")\n",
    "format(ord('码'),\"x\")\n",
    "'编'< '码' # 注意不是按拼⾳排序\n",
    "\n",
    "chr(97)\n",
    "ord('⼈')\n",
    "ord('热')\n",
    "'⼈' < '三' # 注意不是按笔画数排序"
   ]
  },
  {
   "cell_type": "markdown",
   "metadata": {},
   "source": [
    "- 当 x 与 y 是字符串 (str)、字节串 (bytes)、元组 (tuple)、列表 (list) 等序列 (sequence) 时，<⽐较\n",
    "按 字典序 (lexicographical order) 规则进⾏，即先只⽐较第⼀个元素，若相等才再⽐较第⼆个元\n",
    "素，若再相等才⽐较第三个元素……依此类推。例如："
   ]
  },
  {
   "cell_type": "code",
   "execution_count": null,
   "metadata": {},
   "outputs": [],
   "source": [
    "'azzz' < 'baaa'\n",
    "'hat' < 'hot'\n",
    "'~abc' < 'Z' # 元素数量可以不同\n",
    "'aaaa' < 'aaa'\n",
    "b'azzz' < b'baaa'\n",
    "#b'azzz' < 'baaa' # 字节流与字符串不可⽐较\n",
    "('a', 5) < ('a', 3)\n",
    "#('a', 5) < ('a', 'b') # 注意⽐较到第⼆个元素时报错\n",
    "[1, 2, 'a'] < [1, 2, 'b']\n",
    "#{'a': 1} < {'a': 1, 'b': 2} # 字典不是序列，不能⽐较⼤⼩"
   ]
  },
  {
   "cell_type": "code",
   "execution_count": null,
   "metadata": {},
   "outputs": [],
   "source": [
    "\"人们\"<\"人类\"\n",
    "ord('人')+ord('们')<ord('人')+ord('类')"
   ]
  },
  {
   "cell_type": "markdown",
   "metadata": {},
   "source": [
    "- 当 x 与 y 是集合 (set) 时， x < y 定义为 x 是 y 的 真⼦集 (proper subset)。例如"
   ]
  },
  {
   "cell_type": "code",
   "execution_count": null,
   "metadata": {
    "scrolled": true
   },
   "outputs": [],
   "source": [
    "{1, 2} < {3, 4} # 集合不是序列，不按字典序\n",
    "{1, 2} < {1, 2, 3}"
   ]
  },
  {
   "cell_type": "markdown",
   "metadata": {},
   "source": [
    "### 6.27 简答题\n",
    "任意对象都可以进⾏逻辑判断 (truth value testing)，那么被判断为逻辑否 (False) 的对象有哪些？请举\n",
    "例。"
   ]
  },
  {
   "cell_type": "markdown",
   "metadata": {},
   "source": [
    "#### 判断为逻辑否 (False) 的对象 (object) 包括：\n",
    "- 1. None 和 False\n",
    "- 2. 任意数值 (numeric) 类型的 零值，如 0 、 0.0 、 0j\n",
    "- 3. ⻓度为零 的容器 (container)，如空字符串 (empty str) '' 、空元组 (empty tuple) () 、空列\n",
    "表 [] 、空字典 {} 、空集合 set() ，即 len(x) == 0\n",
    "- 4. 满⾜ `x.__bool__()` == False 的任何对象\n",
    "\n",
    "\n",
    "不满⾜以上条件的任何对象 (object) 都将被判断为逻辑真 (True)。例如："
   ]
  },
  {
   "cell_type": "code",
   "execution_count": null,
   "metadata": {},
   "outputs": [],
   "source": [
    "not print('hello') # None\n",
    "not 9//10 # 0\n",
    "not 3.0 - 2.0 - 1.0 # 0.0\n",
    "not 3.3 - 2.2 - 1.1 # 注意 round-off error 的可能性\n",
    "c = 3-2j\n",
    "not (c + c.conjugate()).imag # 0j\n",
    "not 'hello'[5:] # ''"
   ]
  },
  {
   "cell_type": "code",
   "execution_count": null,
   "metadata": {},
   "outputs": [],
   "source": [
    "not ('a', 'b', 'c')[-1:0] # ()\n",
    "not [c.upper() for c in 'abc' if ord(c) > 99] # []\n",
    "d = {'a': 1}\n",
    "d.pop('a')\n",
    "not d # {}\n",
    "not {4, 2} - {1, 2, 3, 4} # set()\n",
    "not '0'"
   ]
  },
  {
   "cell_type": "markdown",
   "metadata": {},
   "source": [
    "### 6.28 简答题\n",
    "逻辑与 and 和逻辑或 or 运算符并不必然计算 (evaluate) 所涉及的每⼀个表达式，他们不计算\n",
    "(evaluate) 某表达式的情况分别是什么？他们的返回值并不必然是 True 或 False，⽽是什么？请举例。"
   ]
  },
  {
   "cell_type": "markdown",
   "metadata": {},
   "source": [
    "- 1.逻辑与的短路规则（and前为假则不计算and后的表达式）"
   ]
  },
  {
   "cell_type": "markdown",
   "metadata": {},
   "source": [
    "需要注意， `x`and `y `逻辑与 (logical AND) 运算并⾮计算出 True 或 False，⽽是根据 x 的逻辑判断\n",
    "(truth value testing) 返回` x` 或` y `：只有当表达式 (expression) x 判断为逻辑真 (True) 时，` x` and`y`\n",
    "才进⼀步计算 (evaluate) 并返回`y` ；否则，只要` x` 为`逻辑假` (False)，就`直接`返回 `x` ，根本不计算\n",
    "`y `，这种有可能不计算表达式` y` 的规则被称为 `短路规则` (short-circuit rule)。例如："
   ]
  },
  {
   "cell_type": "code",
   "execution_count": null,
   "metadata": {},
   "outputs": [],
   "source": [
    "A = \"\"\n",
    "B = \"False\"\n",
    "A and B\n",
    "A or B\n",
    "B or A"
   ]
  },
  {
   "cell_type": "markdown",
   "metadata": {},
   "source": [
    "- 2.逻辑或的短路规则（若and前为真则不计算and后的表达式）"
   ]
  },
  {
   "cell_type": "code",
   "execution_count": null,
   "metadata": {},
   "outputs": [],
   "source": [
    "'a' or 'b'\n",
    "len([1, 2, 3] or [])\n",
    "[5] or print('ok') # 注意 print('ok') 不被运⾏\n",
    "{} or print('ok') # 注意返回的是 None ⽽不是 ok，ok 是被 print 的\n",
    "d = {}\n",
    "d.update({'a': 1})\n",
    "d\n",
    "d.pop('a')\n",
    "d\n",
    "d or d.update({'a': 2})\n",
    "d"
   ]
  },
  {
   "cell_type": "markdown",
   "metadata": {},
   "source": [
    "#### 小结：and要假or要真"
   ]
  },
  {
   "cell_type": "markdown",
   "metadata": {},
   "source": [
    "- 3.三元表达式的短路规则（判断短路））（暂不说明）"
   ]
  },
  {
   "cell_type": "markdown",
   "metadata": {},
   "source": [
    "### 6.29 简答题\n",
    "请简述你对三元条件表达式 (ternary conditional expression) 的理解并举例说明。"
   ]
  },
  {
   "cell_type": "markdown",
   "metadata": {},
   "source": [
    "- 三元条件表达式 (ternary conditional expression) x if b else y 会先对表达式 b 进⾏逻辑判断\n",
    "(truth value testing)，为逻辑真 (True) 则计算 (evaluate) 并返回 x ，根本不计算 (evaluate) y ，为逻\n",
    "辑假 (False) 则计算 (evaluate) 并返回 y ，根本不计算 (evaluate) x 。也就是说，在三元条件表达式\n",
    "(ternary conditonal expression) ⾥，表达式 (expression) x 和 y 中只有⼀个会被计算 (evaluate)，\n",
    "也遵循` 短路规则` (short-circuit rule)。例如："
   ]
  },
  {
   "cell_type": "code",
   "execution_count": null,
   "metadata": {},
   "outputs": [],
   "source": [
    "'ok' if [1, 2, 3].pop() else print('miss') # 注意列表的 pop ⽅法有返回值\n",
    "print('miss')  if [1, 2, 3].append(4) else 'ok' # 注意列表的 append ⽅法返回 None"
   ]
  },
  {
   "cell_type": "markdown",
   "metadata": {},
   "source": [
    "#### 个人简述"
   ]
  },
  {
   "cell_type": "markdown",
   "metadata": {},
   "source": [
    "三元表达式有点类似将if...else...判断语句以推导式的形式表示（推导式其实也类似for循环和if判断语句的综合），也即将if...else..y语句的判断执行这个过程直接写在一行，能简化界面、高效写作"
   ]
  },
  {
   "cell_type": "markdown",
   "metadata": {},
   "source": [
    "要注意的是，三元表达式判断的语句一般是if后面紧跟的表达式的逻辑真假“ True or False ”,也即如果该表达式是True，则计算并输出if前的基础语句，否则会计算并输出else后的补充语句\n",
    "\n",
    "和容器推导式相似但有明显区别"
   ]
  },
  {
   "cell_type": "code",
   "execution_count": null,
   "metadata": {
    "scrolled": true
   },
   "outputs": [],
   "source": [
    "[print(\"a\") for i in range(5) if i>3]\n",
    "print('Hello World') if \"\" else  print(\"我是字符串，代表True,if后面紧跟的\\\"\\\"是空字符串，代表False\")\n",
    "import numpy as np\n",
    "k = 0\n",
    "for i in range(100):\n",
    "    k =k+ (1   if np.random.randn() > 0 else  0)\n",
    "print(k)"
   ]
  },
  {
   "cell_type": "markdown",
   "metadata": {},
   "source": [
    "### 6.30 简答题\n",
    "请简述 lambda 表达式 (lambda expression) 的签名 (signature) 的设定⽅式，并举例说明。"
   ]
  },
  {
   "cell_type": "markdown",
   "metadata": {},
   "source": [
    "####  Lambda 表达式\n",
    "Lambda 表达式 (lambda expression) 是运算优先级 (priority) 最低的⼀种表达式 (expression) 语法\n",
    "(syntax)，⽤于定义 匿名函数 (anonymous function)。"
   ]
  },
  {
   "cell_type": "markdown",
   "metadata": {},
   "source": [
    "- 某些程度上来说他已经不是表达式了，而是函数以表达式形式的匿名展现"
   ]
  },
  {
   "cell_type": "code",
   "execution_count": null,
   "metadata": {},
   "outputs": [],
   "source": [
    "import inspect\n",
    "##inspect.signature(open)"
   ]
  },
  {
   "cell_type": "markdown",
   "metadata": {},
   "source": [
    "#### Lamdba表达式签名的设定方式："
   ]
  },
  {
   "cell_type": "code",
   "execution_count": null,
   "metadata": {},
   "outputs": [],
   "source": [
    "f = lambda x, y, *, remainder=True: divmod(x, y) if remainder else x/y # 匿名函数命名为 divide\n",
    "inspect.signature(f)"
   ]
  },
  {
   "cell_type": "markdown",
   "metadata": {},
   "source": [
    "以上面这个函数为例:\n",
    "想要设定表达式f的签名的话，在lambda之后冒号之前就要设定\n",
    "\n",
    "具体的设定方式是在lambda之后：之前给定所需要的变量名称，`*`之后的变量名需要设定其默认值且只能作为命名形参接收传递的命名实参,`*`之前的变量可以作为命名或者定位形参来接收实参（都可以接受），但是如果只有两个定位形参的话要么全部接收定位实参要么全部接收命名实参"
   ]
  },
  {
   "cell_type": "markdown",
   "metadata": {},
   "source": [
    "*之前的参数为止既可以接受定位实参也可以接受命名实参"
   ]
  },
  {
   "cell_type": "code",
   "execution_count": null,
   "metadata": {
    "scrolled": true
   },
   "outputs": [],
   "source": [
    "f(10,3)\n",
    "f(x=10,y=3)\n",
    "#f(x = 10, 3)"
   ]
  },
  {
   "cell_type": "markdown",
   "metadata": {},
   "source": [
    "*之后的参数位置都是命名形参位，只接受传递的命名实参"
   ]
  },
  {
   "cell_type": "code",
   "execution_count": null,
   "metadata": {},
   "outputs": [],
   "source": [
    "f(x=10,y=3,remainder = False)\n",
    "#f(x=10,y=3, False)"
   ]
  },
  {
   "cell_type": "code",
   "execution_count": null,
   "metadata": {},
   "outputs": [],
   "source": [
    "f1 = lambda x, y,z,*, remainder=True: divmod(x, y)+(z,) if remainder else x/y*z # 匿名函数命名为 divide"
   ]
  },
  {
   "cell_type": "code",
   "execution_count": null,
   "metadata": {},
   "outputs": [],
   "source": [
    "f1(10,3,1)\n",
    "f1(10 ,3, z=1)"
   ]
  },
  {
   "cell_type": "markdown",
   "metadata": {},
   "source": [
    "### 6.31 简答题\n",
    "请简述你对⾼阶函数 (higher order function) 的理解，并对⾼阶函数 (higher order function) 使⽤\n",
    "lambda 表达式 (lambda expression) 进⾏举例说明。"
   ]
  },
  {
   "cell_type": "markdown",
   "metadata": {},
   "source": [
    "- 可以接受可调⽤ (callable) 对象 (object) 作为实参 (argument) 的函数 (function)，被称为 ⾼阶函数 (higher-order function)\n",
    "\n",
    "- 即一个函数就可以接收另一个函数作为参数，就称之为高阶函数"
   ]
  },
  {
   "cell_type": "markdown",
   "metadata": {},
   "source": [
    "#### 教程举例"
   ]
  },
  {
   "cell_type": "code",
   "execution_count": null,
   "metadata": {},
   "outputs": [],
   "source": [
    "l = ['bin', 'User', 'etc', 'local', 'Drivers']\n",
    "sorted(l) # 排序区分⼤⼩写\n",
    "\n",
    "sorted(l, key=lambda k: k.lower()) # 排序不区分⼤⼩写\n",
    "sorted(l, key=lambda s: s[::-1]) # 从字符串末尾字符开始⽐较排序\n",
    "\n",
    "sorted(l, key=lambda s: s[::-1],reverse = True)"
   ]
  },
  {
   "cell_type": "markdown",
   "metadata": {},
   "source": [
    "sorted就是一个高级函数"
   ]
  },
  {
   "cell_type": "markdown",
   "metadata": {},
   "source": [
    "在这之中，内部计算过程中每个s或者k都依次代表l里面的一个元素"
   ]
  },
  {
   "cell_type": "code",
   "execution_count": null,
   "metadata": {},
   "outputs": [],
   "source": [
    "a = [('a',4),('b',5),('e',1),('c',6)]\n",
    "sorted(a, key = lambda x : x[0])"
   ]
  },
  {
   "cell_type": "markdown",
   "metadata": {},
   "source": [
    "[python3排序,sorted,key=lambda](https://www.cnblogs.com/zle1992/p/6271105.html)"
   ]
  },
  {
   "cell_type": "markdown",
   "metadata": {},
   "source": [
    "#### 根据个人理解举例："
   ]
  },
  {
   "cell_type": "code",
   "execution_count": null,
   "metadata": {},
   "outputs": [],
   "source": [
    "def f(k):\n",
    "    return k + 1\n",
    "def add(x, y, f):\n",
    "    return f(x) + f(y);\n",
    "add(1,2,f)"
   ]
  },
  {
   "cell_type": "code",
   "execution_count": null,
   "metadata": {},
   "outputs": [],
   "source": []
  },
  {
   "cell_type": "markdown",
   "metadata": {},
   "source": [
    "例中add函数可以接受f函数作为参数（变量），add函数就是一个高级函数"
   ]
  },
  {
   "cell_type": "code",
   "execution_count": null,
   "metadata": {},
   "outputs": [],
   "source": []
  }
 ],
 "metadata": {
  "kernelspec": {
   "display_name": "Python 3",
   "language": "python",
   "name": "python3"
  },
  "language_info": {
   "codemirror_mode": {
    "name": "ipython",
    "version": 3
   },
   "file_extension": ".py",
   "mimetype": "text/x-python",
   "name": "python",
   "nbconvert_exporter": "python",
   "pygments_lexer": "ipython3",
   "version": "3.7.7"
  }
 },
 "nbformat": 4,
 "nbformat_minor": 1
}
