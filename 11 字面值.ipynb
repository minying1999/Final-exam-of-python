{
 "cells": [
  {
   "cell_type": "markdown",
   "metadata": {},
   "source": [
    "# 金融计算机语言讲义\n",
    "\n",
    "高强（mutecamel@gmail.com）首都经济贸易大学金融学院\n",
    "\n",
    "@2020-05-18"
   ]
  },
  {
   "cell_type": "markdown",
   "metadata": {},
   "source": [
    "# 第11课字面值（literals）\n",
    "\n",
    "学习任务\n",
    "\n",
    "本周是第13周。请一边阅读以下讲义，一边输入代码练习。\n",
    "\n",
    "本讲义特意将Python输出全部隐去，就是希望同学们亲手输入代码，亲眼观看程序输出，这样才能收获经验。\n",
    "\n",
    "本讲义中的练习题将构成期末闭卷考试（占期末总评60%）的题库，所以请务必认真对待学习任务，不能按时完成任务者后果自负。\n",
    "\n",
    "我们已经完成了对教材Python Programming for Economics and Finance的学习，对Python有了大概的印象。本周开始，我们将更进一步较全面地学习\n",
    "\n",
    "Python的基础语法。让我们从介绍几种最基本的字面值（literal）开始。"
   ]
  },
  {
   "cell_type": "code",
   "execution_count": 273,
   "metadata": {},
   "outputs": [],
   "source": [
    "from IPython.core.interactiveshell import InteractiveShell\n",
    "InteractiveShell.ast_node_interactivity = \"all\""
   ]
  },
  {
   "cell_type": "markdown",
   "metadata": {},
   "source": [
    "字符串 (str) 是最重要的内置 (builtin) 数据类型 (data type)，可以容纳任何 Unicode 字符  。其字⾯\n",
    "值 (literals) 有许多种不同写法，可以根据具体情况选⽤。"
   ]
  },
  {
   "cell_type": "markdown",
   "metadata": {},
   "source": [
    "## 1.字符串字面值（string literals）\n",
    "\n",
    "字符串（str）是最重要的内置（builtin）数据类型（data type），可以容纳任何Unicode字符。\n",
    "\n",
    "其字面值（literals）有许多种不同写法，可以根据具体情况选用"
   ]
  },
  {
   "cell_type": "markdown",
   "metadata": {},
   "source": [
    "### 1.1短字符串（short string）\n",
    "短字符串只能写一行（in-line），用单引号 `' `或双引号 `\" `围起来\n",
    "\n",
    "引号要配对，内部可以写任意字符，引号`' `本身或双引号 `\" `本身与换行符除外。"
   ]
  },
  {
   "cell_type": "markdown",
   "metadata": {},
   "source": [
    "#### 1. 单引号⾥可以包含双引号："
   ]
  },
  {
   "cell_type": "code",
   "execution_count": 1,
   "metadata": {},
   "outputs": [
    {
     "name": "stdout",
     "output_type": "stream",
     "text": [
      "I said \"Hi\"\n"
     ]
    }
   ],
   "source": [
    "s = 'I said \"Hi\"'\n",
    "print(s)\n"
   ]
  },
  {
   "cell_type": "markdown",
   "metadata": {},
   "source": [
    "#### 2. 双引号⾥可以包含单引号："
   ]
  },
  {
   "cell_type": "code",
   "execution_count": 4,
   "metadata": {},
   "outputs": [
    {
     "name": "stdout",
     "output_type": "stream",
     "text": [
      "Let's go!\n"
     ]
    }
   ],
   "source": [
    "s = \"Let's go!\"\n",
    "print(s)"
   ]
  },
  {
   "cell_type": "markdown",
   "metadata": {},
   "source": [
    "#### 3. 单引号 (双引号) ⾥不能包含单引号 (双引号)"
   ]
  },
  {
   "cell_type": "code",
   "execution_count": 13,
   "metadata": {},
   "outputs": [
    {
     "ename": "SyntaxError",
     "evalue": "invalid syntax (<ipython-input-13-cdd90ca0bb23>, line 1)",
     "output_type": "error",
     "traceback": [
      "\u001b[1;36m  File \u001b[1;32m\"<ipython-input-13-cdd90ca0bb23>\"\u001b[1;36m, line \u001b[1;32m1\u001b[0m\n\u001b[1;33m    s = 'let's go'\u001b[0m\n\u001b[1;37m             ^\u001b[0m\n\u001b[1;31mSyntaxError\u001b[0m\u001b[1;31m:\u001b[0m invalid syntax\n"
     ]
    }
   ],
   "source": [
    "s = 'let's go'\n",
    "print(s)\n"
   ]
  },
  {
   "cell_type": "markdown",
   "metadata": {},
   "source": [
    "#### 4. 单引号 (双引号) ⾥不能换⾏:"
   ]
  },
  {
   "cell_type": "code",
   "execution_count": 16,
   "metadata": {},
   "outputs": [
    {
     "ename": "SyntaxError",
     "evalue": "EOL while scanning string literal (<ipython-input-16-43fffa95543c>, line 1)",
     "output_type": "error",
     "traceback": [
      "\u001b[1;36m  File \u001b[1;32m\"<ipython-input-16-43fffa95543c>\"\u001b[1;36m, line \u001b[1;32m1\u001b[0m\n\u001b[1;33m    s = 'Dear Jack:\u001b[0m\n\u001b[1;37m                   ^\u001b[0m\n\u001b[1;31mSyntaxError\u001b[0m\u001b[1;31m:\u001b[0m EOL while scanning string literal\n"
     ]
    }
   ],
   "source": [
    "s = 'Dear Jack:\n",
    "Dear'"
   ]
  },
  {
   "cell_type": "code",
   "execution_count": 20,
   "metadata": {},
   "outputs": [
    {
     "name": "stdout",
     "output_type": "stream",
     "text": [
      "Dear Jack\n",
      "Thank you for your answer\n",
      "    Shut up or you will dumb\n"
     ]
    }
   ],
   "source": [
    "s=\"\"\"Dear Jack\n",
    "Thank you for your answer\n",
    "    Shut up or you will dumb\"\"\"\n",
    "print(s)"
   ]
  },
  {
   "cell_type": "markdown",
   "metadata": {},
   "source": [
    "#### 5. 单引号 (双引号) ⾥可以包含任意 unicode 字符 (多国语⾔)："
   ]
  },
  {
   "cell_type": "code",
   "execution_count": 35,
   "metadata": {},
   "outputs": [
    {
     "name": "stdout",
     "output_type": "stream",
     "text": [
      "Help 帮助 ヘルプ L'aide Βοήθεια\n"
     ]
    }
   ],
   "source": [
    "s = \"Help 帮助 ヘルプ L'aide Βοήθεια\"\n",
    "print(s)"
   ]
  },
  {
   "cell_type": "code",
   "execution_count": 40,
   "metadata": {},
   "outputs": [
    {
     "data": {
      "text/plain": [
       "b'\\xe6\\x84\\xbf\\xe4\\xbd\\xa0\\xe6\\x99\\xb4\\xe7\\xa9\\xba\\xe4\\xb8\\x87\\xe9\\x87\\x8c\\xef\\xbc\\x8c\\xe8\\xa7\\x86\\xe9\\x87\\x8e\\xe5\\xb9\\xbf\\xe9\\x98\\x94'"
      ]
     },
     "execution_count": 40,
     "metadata": {},
     "output_type": "execute_result"
    },
    {
     "data": {
      "text/plain": [
       "'愿你晴空万里，视野广阔'"
      ]
     },
     "execution_count": 40,
     "metadata": {},
     "output_type": "execute_result"
    }
   ],
   "source": [
    "s=\"愿你晴空万里，视野广阔\"\n",
    "s=s.encode(\"utf-8\")\n",
    "s\n",
    "s.decode(\"utf-8\")"
   ]
  },
  {
   "cell_type": "markdown",
   "metadata": {},
   "source": [
    "#### 1.2长字符串（long string）\n",
    "长字符串可以写多行（multi-line），⽤三个单引号 `''' `(或者三个双引号 `\"\"\"` ) 围起来，内部可以写任意\n",
    "字符，包括单引号 `'` 和双引号 `\" `以及换⾏符。"
   ]
  },
  {
   "cell_type": "markdown",
   "metadata": {},
   "source": [
    "#### 1. ⽤来写多⾏ SQL 语句："
   ]
  },
  {
   "cell_type": "code",
   "execution_count": 42,
   "metadata": {},
   "outputs": [
    {
     "name": "stdout",
     "output_type": "stream",
     "text": [
      "\n",
      "SELECT *\n",
      "FROM mytable\n",
      "WHERE age > 18;\n",
      "\n"
     ]
    }
   ],
   "source": [
    "s = '''\n",
    "... SELECT *\n",
    "... FROM mytable\n",
    "... WHERE age > 18;\n",
    "... '''\n",
    "print(s)"
   ]
  },
  {
   "cell_type": "markdown",
   "metadata": {},
   "source": [
    "#### 2. 三个引号 (单引号和双引号) ⾥可以包含单引号和双引号："
   ]
  },
  {
   "cell_type": "code",
   "execution_count": 43,
   "metadata": {
    "scrolled": true
   },
   "outputs": [
    {
     "name": "stdout",
     "output_type": "stream",
     "text": [
      "He said: \"Let's go!\" and left.\n"
     ]
    }
   ],
   "source": [
    ">>> s = \"\"\"He said: \"Let's go!\" and left.\"\"\"\n",
    ">>> print(s)"
   ]
  },
  {
   "cell_type": "markdown",
   "metadata": {},
   "source": [
    "#### 3. 引号连续出现要注意避免歧义："
   ]
  },
  {
   "cell_type": "code",
   "execution_count": 51,
   "metadata": {},
   "outputs": [
    {
     "ename": "SyntaxError",
     "evalue": "EOL while scanning string literal (<ipython-input-51-cba0bf9223ef>, line 1)",
     "output_type": "error",
     "traceback": [
      "\u001b[1;36m  File \u001b[1;32m\"<ipython-input-51-cba0bf9223ef>\"\u001b[1;36m, line \u001b[1;32m1\u001b[0m\n\u001b[1;33m    s = \"\"\"He said: \"Let's go!\"\"\"\"\u001b[0m\n\u001b[1;37m                                  ^\u001b[0m\n\u001b[1;31mSyntaxError\u001b[0m\u001b[1;31m:\u001b[0m EOL while scanning string literal\n"
     ]
    }
   ],
   "source": [
    " s = \"\"\"He said: \"Let's go!\"\"\"\"    "
   ]
  },
  {
   "cell_type": "code",
   "execution_count": 6,
   "metadata": {},
   "outputs": [
    {
     "data": {
      "text/plain": [
       "'He said:\"Let\\'s go!\" '"
      ]
     },
     "execution_count": 6,
     "metadata": {},
     "output_type": "execute_result"
    }
   ],
   "source": [
    "s = \"\" \"He said:\\\"Let\\'s go!\\\" \"\"\"\n",
    "s"
   ]
  },
  {
   "cell_type": "markdown",
   "metadata": {},
   "source": [
    "#### 4. 若双引号会产⽣歧义，可以改⽤单引号："
   ]
  },
  {
   "cell_type": "code",
   "execution_count": 53,
   "metadata": {},
   "outputs": [
    {
     "name": "stdout",
     "output_type": "stream",
     "text": [
      "He said: \"Let's go!\"\n"
     ]
    }
   ],
   "source": [
    "s = '''He said: \"Let's go!\"'''\n",
    "print(s)"
   ]
  },
  {
   "cell_type": "code",
   "execution_count": 54,
   "metadata": {},
   "outputs": [
    {
     "name": "stdout",
     "output_type": "stream",
     "text": [
      "He said: \"Let's go!\"\n"
     ]
    },
    {
     "data": {
      "text/plain": [
       "''"
      ]
     },
     "execution_count": 54,
     "metadata": {},
     "output_type": "execute_result"
    },
    {
     "data": {
      "text/plain": [
       "''"
      ]
     },
     "execution_count": 54,
     "metadata": {},
     "output_type": "execute_result"
    }
   ],
   "source": [
    "s = '''He said: \"Let's go!\"'''\n",
    "print(s)\n",
    "''''''\n",
    "\"\"\"\"\"\""
   ]
  },
  {
   "cell_type": "markdown",
   "metadata": {},
   "source": [
    "#### 5. 三引号内保持所有换⾏和空格，所以若换⾏需注意对⻬："
   ]
  },
  {
   "cell_type": "code",
   "execution_count": 55,
   "metadata": {},
   "outputs": [
    {
     "name": "stdout",
     "output_type": "stream",
     "text": [
      "Line 1,\n",
      "Line 2,\n",
      "Line 3.\n"
     ]
    }
   ],
   "source": [
    "s = '''Line 1,\n",
    "... Line 2,\n",
    "... Line 3.'''\n",
    "print(s)"
   ]
  },
  {
   "cell_type": "code",
   "execution_count": 57,
   "metadata": {},
   "outputs": [
    {
     "name": "stdout",
     "output_type": "stream",
     "text": [
      "Line 1,\n",
      "Line 2,\n",
      "Line 3,\n",
      "    这行前面加上一个tab，就会保留tab，所以此行偏右\n"
     ]
    }
   ],
   "source": [
    "s = '''Line 1,\n",
    "Line 2,\n",
    "Line 3,\n",
    "    这行前面加上一个tab，就会保留tab，所以此行偏右'''\n",
    "print(s)"
   ]
  },
  {
   "cell_type": "code",
   "execution_count": 59,
   "metadata": {},
   "outputs": [
    {
     "name": "stdout",
     "output_type": "stream",
     "text": [
      "以上内容等价于将line1放在单独一行\n",
      "Line 1,\n",
      "Line 2,\n",
      "Line 3,\n",
      "    这行前面加上一个tab，就会保留tab，所以此行偏右一个缩进\n"
     ]
    }
   ],
   "source": [
    "s = '''以上内容等价于将line1放在单独一行\n",
    "Line 1,\n",
    "Line 2,\n",
    "Line 3,\n",
    "    这行前面加上一个tab，就会保留tab，所以此行偏右一个缩进'''\n",
    "print(s)"
   ]
  },
  {
   "cell_type": "markdown",
   "metadata": {},
   "source": [
    "#### 1.3 转义序列 (escape sequence)"
   ]
  },
  {
   "cell_type": "markdown",
   "metadata": {},
   "source": [
    "在字符串中虽然可以写` \\` 符号，但它并不再代表字⾯意义的` \\ `符号，⽽是⼀个转义开关，与随后的字\n",
    "符搭配使⽤，⽤来表达不能直接输⼊的字符或控制符。"
   ]
  },
  {
   "cell_type": "markdown",
   "metadata": {},
   "source": [
    "#### 1. `\\t` 将被转义为跳格符` <TAB>` ："
   ]
  },
  {
   "cell_type": "code",
   "execution_count": 65,
   "metadata": {},
   "outputs": [
    {
     "name": "stdout",
     "output_type": "stream",
     "text": [
      "C:\textbook\n",
      "\n",
      "\n",
      "\n",
      "\n",
      "次数textbook中的t被转义了\n",
      "\n"
     ]
    }
   ],
   "source": [
    "s = \"\"\"C:\\textbook\n",
    "\\n\\n\\n\n",
    "次数textbook中的t被转义了\n",
    "\"\"\"\n",
    "print(s)"
   ]
  },
  {
   "cell_type": "markdown",
   "metadata": {},
   "source": [
    "#### 2.` \\n `将被转义为换⾏符 `<LF>` ："
   ]
  },
  {
   "cell_type": "code",
   "execution_count": 66,
   "metadata": {},
   "outputs": [
    {
     "name": "stdout",
     "output_type": "stream",
     "text": [
      "C:\n",
      "otes\n"
     ]
    }
   ],
   "source": [
    "s = 'C:\\notes'\n",
    "print(s)"
   ]
  },
  {
   "cell_type": "markdown",
   "metadata": {},
   "source": [
    "#### `\\r` 将被转义为返回符 `<CR>` ："
   ]
  },
  {
   "cell_type": "code",
   "execution_count": 71,
   "metadata": {},
   "outputs": [
    {
     "name": "stdout",
     "output_type": "stream",
     "text": [
      "C:\r",
      "isks\n",
      "s = 'C:\r",
      "isks'\n",
      "print(s)>>> s = 'C:\r",
      "isks'\n",
      "print(s)\n"
     ]
    }
   ],
   "source": [
    "s = '''C:\\risks\n",
    "s = 'C:\\risks'\n",
    "print(s)>>> s = 'C:\\risks'\n",
    "print(s)'''\n",
    "print(s)\n",
    "#conclusion:换行符会将光标返回到本行开始处，"
   ]
  },
  {
   "cell_type": "markdown",
   "metadata": {},
   "source": [
    "4. `\\f `将被转义为换⻚符 `<FF>` :"
   ]
  },
  {
   "cell_type": "code",
   "execution_count": 77,
   "metadata": {},
   "outputs": [
    {
     "name": "stdout",
     "output_type": "stream",
     "text": [
      "\f",
      "\tC:\f",
      "orm\n",
      "\f",
      "\tC:\f",
      "orm\n",
      "\f",
      "C:\f",
      "orm\n",
      "form\n"
     ]
    }
   ],
   "source": [
    "s = \"\"\"\\f\\tC:\\form\n",
    "\\f\\tC:\\form\n",
    "\\fC:\\form\n",
    "form\"\"\"\n",
    "print(s)"
   ]
  },
  {
   "cell_type": "markdown",
   "metadata": {},
   "source": [
    "#### 5. `\\b` 将被转义为退格符 `<BACKSPACE>` ："
   ]
  },
  {
   "cell_type": "code",
   "execution_count": 78,
   "metadata": {},
   "outputs": [
    {
     "name": "stdout",
     "output_type": "stream",
     "text": [
      "abc\bd\n"
     ]
    }
   ],
   "source": [
    "s = 'abc\\bd'\n",
    "print(s)\n"
   ]
  },
  {
   "cell_type": "markdown",
   "metadata": {},
   "source": [
    "6. `\\\\` 将被转义为 `\\` ："
   ]
  },
  {
   "cell_type": "code",
   "execution_count": 79,
   "metadata": {},
   "outputs": [
    {
     "name": "stdout",
     "output_type": "stream",
     "text": [
      "C:\\notes\n"
     ]
    }
   ],
   "source": [
    "s = 'C:\\\\notes'\n",
    "print(s)\n"
   ]
  },
  {
   "cell_type": "markdown",
   "metadata": {},
   "source": [
    "8. ⼋进制 (oct) ASCII 编码转义 `2` ，格式为 `\\ooo` ，其中 `ooo` 为 三个 [0-7] ⼋进制字符："
   ]
  },
  {
   "cell_type": "code",
   "execution_count": 80,
   "metadata": {},
   "outputs": [
    {
     "name": "stdout",
     "output_type": "stream",
     "text": [
      "ABCD\n"
     ]
    }
   ],
   "source": [
    "s = 'A\\102\\103\\104'\n",
    "print(s)"
   ]
  },
  {
   "cell_type": "markdown",
   "metadata": {},
   "source": [
    "9. ⼗六进制 (hex) ASCII 编码转义 `2` ，格式为 `\\xhh` ，其中 `hh` 为 两个 [0-9A-Fa-f] ⼗六进制字符："
   ]
  },
  {
   "cell_type": "code",
   "execution_count": 2,
   "metadata": {
    "ExecuteTime": {
     "end_time": "2020-07-01T13:14:11.496014Z",
     "start_time": "2020-07-01T13:14:11.487038Z"
    }
   },
   "outputs": [
    {
     "data": {
      "text/plain": [
       "'box'"
      ]
     },
     "execution_count": 2,
     "metadata": {},
     "output_type": "execute_result"
    },
    {
     "name": "stdout",
     "output_type": "stream",
     "text": [
      "boxo\n"
     ]
    }
   ],
   "source": [
    "s = 'b\\x6fx'\n",
    "#6f转1进制是111，再转8进制ASCII是157\n",
    "s\n",
    "s = s + '\\157'\n",
    "print(s)\n",
    "#十六进制（简写为hex或下标16）"
   ]
  },
  {
   "cell_type": "markdown",
   "metadata": {},
   "source": [
    "10. Unicode 编码转义` 3` ，格式为` \\uxxxx`(16 位)，或 `\\Uxxxxxxxx `(32 位) 其中` x` 为 [0-9A-Fa-f]\n",
    "⼗六进制字符："
   ]
  },
  {
   "cell_type": "code",
   "execution_count": 94,
   "metadata": {},
   "outputs": [
    {
     "name": "stdout",
     "output_type": "stream",
     "text": [
      "box\n",
      "你好😉\n"
     ]
    },
    {
     "data": {
      "text/plain": [
       "b'\\xe4\\xbd\\xa0\\xe5\\xa5\\xbd\\xf0\\x9f\\x98\\x89'"
      ]
     },
     "execution_count": 94,
     "metadata": {},
     "output_type": "execute_result"
    }
   ],
   "source": [
    "s = 'b\\u006fx'\n",
    "print(s)\n",
    "s = '\\u4f60\\u597d\\U0001f609'\n",
    "print(s)\n",
    "s.encode('utf-8')"
   ]
  },
  {
   "cell_type": "markdown",
   "metadata": {},
   "source": [
    "### 1.4 原始字符串 (raw strings)"
   ]
  },
  {
   "cell_type": "markdown",
   "metadata": {},
   "source": [
    "当字符串中需要` \\ `作为字⾯值，⽽不希望` \\ `作为转义符时，可以在引号前加 `r` 字符，称为原始字符\n",
    "串 (raw string) 语法。"
   ]
  },
  {
   "cell_type": "code",
   "execution_count": 97,
   "metadata": {},
   "outputs": [
    {
     "name": "stdout",
     "output_type": "stream",
     "text": [
      "Python 字符串中 \\n 代表换⾏符\n",
      "Python 字符串中\\' 和 \\\" 代表 ' 和 \"\n"
     ]
    }
   ],
   "source": [
    " s = '''Python 字符串中 \\\\n 代表换⾏符'''\n",
    "print(s)\n",
    " s = r'''Python 字符串中\\' 和 \\\" 代表 ' 和 \"'''\n",
    "print(s)"
   ]
  },
  {
   "cell_type": "markdown",
   "metadata": {},
   "source": [
    "原始字符串语法在书写 <font size=2 color = red >正则表达式 (regular expression)<font > \n",
    "<font color = black>或 Windows ⽂件路径时会⽐较⽅便。<font>"
   ]
  },
  {
   "cell_type": "markdown",
   "metadata": {},
   "source": [
    "#### 1.5 字符串的字⾯连接 (string literal concatenation)"
   ]
  },
  {
   "cell_type": "markdown",
   "metadata": {},
   "source": [
    "有时需要创建⽐较 ⻓ 的 ⼀⾏ 字符串，可以利⽤ Python 的 字⾯连接 特性，使多⾏字符串代码在解释(interpreting) 阶段就被拼接为⼀⾏字符串。"
   ]
  },
  {
   "cell_type": "code",
   "execution_count": 2,
   "metadata": {},
   "outputs": [
    {
     "name": "stdout",
     "output_type": "stream",
     "text": [
      "Let's go\n",
      "Multiple adjacent string or bytes literals (delimited bywhitespace), possibly using different quoting conventions, are allowed, and their meaning is the same as their concatenation. Thus, \"hello\" 'world' is equivalent to \"helloworld\". This feature can be used to reduce the number of backslashesneeded, to split long strings conveniently across long lines, or even to add comments to parts of strings.\n"
     ]
    }
   ],
   "source": [
    ">>> s = 'Let' \"'s go\"\n",
    ">>> print(s)\n",
    ">>> s = (\n",
    "... 'Multiple adjacent string or bytes literals (delimited bywhitespace), '\n",
    "... 'possibly using different quoting conventions, are allowed, ' #quoting\n",
    "... 'and their meaning is the same as their concatenation. ' #meaning\n",
    "... '''Thus, \"hello\" 'world' is equivalent to \"helloworld\". ''' #example\n",
    "... 'This feature can be used to reduce the number of backslashesneeded, '\n",
    "... 'to split long strings conveniently across long lines, '\n",
    "... 'or even to add comments to parts of strings.' # comments\n",
    "... )\n",
    ">>> print(s)"
   ]
  },
  {
   "cell_type": "markdown",
   "metadata": {},
   "source": [
    "#### 2. 整数字⾯值 (integer literals)"
   ]
  },
  {
   "cell_type": "markdown",
   "metadata": {},
   "source": [
    "#### 整数 (int) 是⾮常常⽤的内置数据类型，其字⾯值最常⻅是按照⼗进制书写，也可以根据需要，按照⼆进制、⼋进制或⼗六进制书写。"
   ]
  },
  {
   "cell_type": "code",
   "execution_count": 4,
   "metadata": {},
   "outputs": [
    {
     "data": {
      "text/plain": [
       "0"
      ]
     },
     "execution_count": 4,
     "metadata": {},
     "output_type": "execute_result"
    },
    {
     "data": {
      "text/plain": [
       "42"
      ]
     },
     "execution_count": 4,
     "metadata": {},
     "output_type": "execute_result"
    },
    {
     "data": {
      "text/plain": [
       "119"
      ]
     },
     "execution_count": 4,
     "metadata": {},
     "output_type": "execute_result"
    },
    {
     "data": {
      "text/plain": [
       "-119"
      ]
     },
     "execution_count": 4,
     "metadata": {},
     "output_type": "execute_result"
    }
   ],
   "source": [
    "0\n",
    "42\n",
    "119\n",
    "-119"
   ]
  },
  {
   "cell_type": "markdown",
   "metadata": {},
   "source": [
    "#### 注意⾮零值不能以零开头："
   ]
  },
  {
   "cell_type": "code",
   "execution_count": 5,
   "metadata": {},
   "outputs": [
    {
     "ename": "SyntaxError",
     "evalue": "invalid token (<ipython-input-5-72abcb1f7e6c>, line 1)",
     "output_type": "error",
     "traceback": [
      "\u001b[1;36m  File \u001b[1;32m\"<ipython-input-5-72abcb1f7e6c>\"\u001b[1;36m, line \u001b[1;32m1\u001b[0m\n\u001b[1;33m    0123\u001b[0m\n\u001b[1;37m       ^\u001b[0m\n\u001b[1;31mSyntaxError\u001b[0m\u001b[1;31m:\u001b[0m invalid token\n"
     ]
    }
   ],
   "source": [
    "0123"
   ]
  },
  {
   "cell_type": "markdown",
   "metadata": {},
   "source": [
    "#### 不像 C 语⾔，Python 整数的⼤⼩不被限制在 [-32768, 32767] 之内："
   ]
  },
  {
   "cell_type": "code",
   "execution_count": 6,
   "metadata": {},
   "outputs": [
    {
     "data": {
      "text/plain": [
       "263130836933693530167218012160000000"
      ]
     },
     "execution_count": 6,
     "metadata": {},
     "output_type": "execute_result"
    }
   ],
   "source": [
    "263130836933693530167218012160000000"
   ]
  },
  {
   "cell_type": "markdown",
   "metadata": {},
   "source": [
    "#### 单下划线 _ 可以插⼊在整数字⾯值中间，以提⾼代码可读性："
   ]
  },
  {
   "cell_type": "code",
   "execution_count": 7,
   "metadata": {},
   "outputs": [
    {
     "data": {
      "text/plain": [
       "1567000000"
      ]
     },
     "execution_count": 7,
     "metadata": {},
     "output_type": "execute_result"
    }
   ],
   "source": [
    "1_567_000_000"
   ]
  },
  {
   "cell_type": "markdown",
   "metadata": {},
   "source": [
    "#### 2.2 ⼆进制 (bin)( binary system )\n",
    "⼆进制整数以 `0b` 开头，其后只允许` [0,1]`，以及单下划线："
   ]
  },
  {
   "cell_type": "code",
   "execution_count": 11,
   "metadata": {},
   "outputs": [
    {
     "data": {
      "text/plain": [
       "42"
      ]
     },
     "execution_count": 11,
     "metadata": {},
     "output_type": "execute_result"
    },
    {
     "data": {
      "text/plain": [
       "240"
      ]
     },
     "execution_count": 11,
     "metadata": {},
     "output_type": "execute_result"
    },
    {
     "data": {
      "text/plain": [
       "240"
      ]
     },
     "execution_count": 11,
     "metadata": {},
     "output_type": "execute_result"
    }
   ],
   "source": [
    "0b101010\n",
    "#0b123 #该行会报错，3>2\n",
    "0b11_110_000\n",
    "0b1111_0000\n"
   ]
  },
  {
   "cell_type": "markdown",
   "metadata": {},
   "source": [
    "#### ⽆论以哪种进制书写，Python 解释器总是以⼗进制 (dec) 来呈现整数。"
   ]
  },
  {
   "cell_type": "markdown",
   "metadata": {},
   "source": [
    "#### 2.3 ⼋进制 (oct)( octonary number system)"
   ]
  },
  {
   "cell_type": "markdown",
   "metadata": {},
   "source": [
    "#### ⼋进制整数以` 0o` 开头，其后只允许` [0-7]`，以及单下划线："
   ]
  },
  {
   "cell_type": "code",
   "execution_count": 13,
   "metadata": {},
   "outputs": [
    {
     "data": {
      "text/plain": [
       "42"
      ]
     },
     "execution_count": 13,
     "metadata": {},
     "output_type": "execute_result"
    },
    {
     "data": {
      "text/plain": [
       "342391"
      ]
     },
     "execution_count": 13,
     "metadata": {},
     "output_type": "execute_result"
    },
    {
     "data": {
      "text/plain": [
       "240"
      ]
     },
     "execution_count": 13,
     "metadata": {},
     "output_type": "execute_result"
    }
   ],
   "source": [
    "0o52\n",
    "0o1234567#8\n",
    "0o3_6_0\n"
   ]
  },
  {
   "cell_type": "markdown",
   "metadata": {},
   "source": [
    "#### 2.4 ⼗六进制 (hex)(hexadecimal)"
   ]
  },
  {
   "cell_type": "markdown",
   "metadata": {},
   "source": [
    "#### ⼗六进制整数以 `0x` 开头，其后只允许` [0-9A-Fa-f] `(不区分⼤⼩写)，以及单下划线`_`："
   ]
  },
  {
   "cell_type": "code",
   "execution_count": 16,
   "metadata": {},
   "outputs": [
    {
     "data": {
      "text/plain": [
       "26"
      ]
     },
     "execution_count": 16,
     "metadata": {},
     "output_type": "execute_result"
    },
    {
     "data": {
      "text/plain": [
       "26"
      ]
     },
     "execution_count": 16,
     "metadata": {},
     "output_type": "execute_result"
    }
   ],
   "source": [
    "0x1A\n",
    "0x1a"
   ]
  },
  {
   "cell_type": "code",
   "execution_count": 18,
   "metadata": {},
   "outputs": [
    {
     "data": {
      "text/plain": [
       "42"
      ]
     },
     "execution_count": 18,
     "metadata": {},
     "output_type": "execute_result"
    },
    {
     "data": {
      "text/plain": [
       "42"
      ]
     },
     "execution_count": 18,
     "metadata": {},
     "output_type": "execute_result"
    },
    {
     "data": {
      "text/plain": [
       "2"
      ]
     },
     "execution_count": 18,
     "metadata": {},
     "output_type": "execute_result"
    },
    {
     "data": {
      "text/plain": [
       "240"
      ]
     },
     "execution_count": 18,
     "metadata": {},
     "output_type": "execute_result"
    }
   ],
   "source": [
    "0x2a\n",
    "0x2A\n",
    "0x2#H\n",
    "0xF_0"
   ]
  },
  {
   "cell_type": "markdown",
   "metadata": {},
   "source": [
    "#### 3. 浮点数字⾯值 (floating point literals)"
   ]
  },
  {
   "cell_type": "markdown",
   "metadata": {},
   "source": [
    "#### 浮点数 (float) 通常⽤来进⾏简单的数值计算，其字⾯值有 浮点法 和 科学记数法 两种表示⽅法。"
   ]
  },
  {
   "cell_type": "markdown",
   "metadata": {},
   "source": [
    "数字中有` .` 就可以⽤浮点法表示浮点数，否则就不是浮点数⽽是整数："
   ]
  },
  {
   "cell_type": "code",
   "execution_count": 20,
   "metadata": {},
   "outputs": [
    {
     "data": {
      "text/plain": [
       "3.14"
      ]
     },
     "execution_count": 20,
     "metadata": {},
     "output_type": "execute_result"
    },
    {
     "data": {
      "text/plain": [
       "10.0"
      ]
     },
     "execution_count": 20,
     "metadata": {},
     "output_type": "execute_result"
    },
    {
     "data": {
      "text/plain": [
       "0.9"
      ]
     },
     "execution_count": 20,
     "metadata": {},
     "output_type": "execute_result"
    },
    {
     "data": {
      "text/plain": [
       "5.5"
      ]
     },
     "execution_count": 20,
     "metadata": {},
     "output_type": "execute_result"
    }
   ],
   "source": [
    "3.14\n",
    "10.\n",
    ".9\n",
    "005.500"
   ]
  },
  {
   "cell_type": "code",
   "execution_count": 21,
   "metadata": {},
   "outputs": [
    {
     "data": {
      "text/plain": [
       "5000.0001"
      ]
     },
     "execution_count": 21,
     "metadata": {},
     "output_type": "execute_result"
    },
    {
     "data": {
      "text/plain": [
       "3.141593"
      ]
     },
     "execution_count": 21,
     "metadata": {},
     "output_type": "execute_result"
    }
   ],
   "source": [
    "5_000.000_1\n",
    "3.14_15_93\n"
   ]
  },
  {
   "cell_type": "markdown",
   "metadata": {},
   "source": [
    "#### 3.2 科学记数法 (exponent)"
   ]
  },
  {
   "cell_type": "markdown",
   "metadata": {},
   "source": [
    "科学记数法⽤ `e` 或 `E` (不区分⼤⼩写) 表示乘以 10 的多少次幂，` e` 前⾯的数被理解为浮点数，` e` 后⾯的数必须为整数。"
   ]
  },
  {
   "cell_type": "code",
   "execution_count": 22,
   "metadata": {},
   "outputs": [
    {
     "data": {
      "text/plain": [
       "1000000000.0"
      ]
     },
     "execution_count": 22,
     "metadata": {},
     "output_type": "execute_result"
    },
    {
     "data": {
      "text/plain": [
       "0.001"
      ]
     },
     "execution_count": 22,
     "metadata": {},
     "output_type": "execute_result"
    },
    {
     "data": {
      "text/plain": [
       "1230000.0"
      ]
     },
     "execution_count": 22,
     "metadata": {},
     "output_type": "execute_result"
    },
    {
     "data": {
      "text/plain": [
       "3.14e+20"
      ]
     },
     "execution_count": 22,
     "metadata": {},
     "output_type": "execute_result"
    },
    {
     "data": {
      "text/plain": [
       "3.14e-34"
      ]
     },
     "execution_count": 22,
     "metadata": {},
     "output_type": "execute_result"
    },
    {
     "data": {
      "text/plain": [
       "0.0"
      ]
     },
     "execution_count": 22,
     "metadata": {},
     "output_type": "execute_result"
    }
   ],
   "source": [
    "1e9\n",
    "1e-3\n",
    "12.3e5\n",
    "3.14e20\n",
    "0.000314e-30\n",
    "0e0"
   ]
  },
  {
   "cell_type": "markdown",
   "metadata": {},
   "source": [
    "#### 4. 虚数字⾯值 (imaginary literals)"
   ]
  },
  {
   "cell_type": "code",
   "execution_count": 23,
   "metadata": {},
   "outputs": [
    {
     "ename": "ModuleNotFoundError",
     "evalue": "No module named 'Tkinter'",
     "output_type": "error",
     "traceback": [
      "\u001b[1;31m---------------------------------------------------------------------------\u001b[0m",
      "\u001b[1;31mModuleNotFoundError\u001b[0m                       Traceback (most recent call last)",
      "\u001b[1;32m<ipython-input-23-6bfe803ead09>\u001b[0m in \u001b[0;36m<module>\u001b[1;34m\u001b[0m\n\u001b[1;32m----> 1\u001b[1;33m \u001b[1;32mfrom\u001b[0m \u001b[0mTkinter\u001b[0m \u001b[1;32mimport\u001b[0m \u001b[1;33m*\u001b[0m\u001b[1;33m\u001b[0m\u001b[1;33m\u001b[0m\u001b[0m\n\u001b[0m\u001b[0;32m      2\u001b[0m \u001b[1;33m\u001b[0m\u001b[0m\n\u001b[0;32m      3\u001b[0m \u001b[0mroot\u001b[0m \u001b[1;33m=\u001b[0m \u001b[0mTk\u001b[0m\u001b[1;33m(\u001b[0m\u001b[1;33m)\u001b[0m\u001b[1;33m\u001b[0m\u001b[1;33m\u001b[0m\u001b[0m\n\u001b[0;32m      4\u001b[0m \u001b[1;33m\u001b[0m\u001b[0m\n\u001b[0;32m      5\u001b[0m \u001b[0mroot\u001b[0m\u001b[1;33m.\u001b[0m\u001b[0mtitle\u001b[0m\u001b[1;33m(\u001b[0m\u001b[1;34m\"Calculator\"\u001b[0m\u001b[1;33m)\u001b[0m\u001b[1;33m\u001b[0m\u001b[1;33m\u001b[0m\u001b[0m\n",
      "\u001b[1;31mModuleNotFoundError\u001b[0m: No module named 'Tkinter'"
     ]
    }
   ],
   "source": [
    "from Tkinter import *\n",
    "\n",
    "root = Tk()\n",
    "\n",
    "root.title(\"Calculator\")\n",
    "\n",
    "root.geometry(\"170x170\")\n",
    "\n",
    "root.resizable(width = False, height = False) #建议加版这句权\n",
    "\n",
    "Entry(root, width = 20).place(x=10, y=10)\n",
    "\n",
    "Button(root, text=(\"√\"),width=2).place(x=130,y=98)\n",
    "\n",
    "root.mainloop()"
   ]
  },
  {
   "cell_type": "markdown",
   "metadata": {},
   "source": [
    "虚数 (imaginary number) 是定义了`i=sqrt(-1）` 。复数 (complex number) `a+bi`由实部 (real part) 和虚部 (imaginary part) 构成。经济学⾦融学中⼏乎完全不使⽤复数。Python ⽤ `j` 或`J `(不区分⼤⼩写) 表示虚数，⽤于构造复数的字⾯值："
   ]
  },
  {
   "cell_type": "code",
   "execution_count": 24,
   "metadata": {},
   "outputs": [
    {
     "data": {
      "text/plain": [
       "(3+4j)"
      ]
     },
     "execution_count": 24,
     "metadata": {},
     "output_type": "execute_result"
    }
   ],
   "source": [
    "3+4j"
   ]
  },
  {
   "cell_type": "markdown",
   "metadata": {},
   "source": [
    "### 5. 字节串字⾯值 (bytes literals)"
   ]
  },
  {
   "cell_type": "markdown",
   "metadata": {},
   "source": [
    "#### 5.1 编码解码概念"
   ]
  },
  {
   "cell_type": "markdown",
   "metadata": {},
   "source": [
    "计算机根本上是⽤⼆进制 (bin) 来表示数据。⼀个 0/1 最基本的信息单元被称为 ⽐特 (bit)。连续的 8 个\n",
    "⽐特可以表示 256 种 (⼗进制) 不同状态 (`2^8=256` )，是最基本的信息单位，被称为 `字节` (Byte)。按照\n",
    "约定，⽤`b `表示⽐特，⽤ `B` 表示字节。"
   ]
  },
  {
   "cell_type": "markdown",
   "metadata": {},
   "source": [
    "⼆进制 (bin) 只使⽤ 0/1，表示起来太不⽅便，所以⼈们偶尔使⽤⼋进制 (oct)，更多地使⽤⼗六进制\n",
    "(hex)。以下代码展示了整数 0~255 的⼗进制、⼆进制、⼋进制、⼗六进制对照表："
   ]
  },
  {
   "cell_type": "code",
   "execution_count": 2,
   "metadata": {},
   "outputs": [
    {
     "name": "stdout",
     "output_type": "stream",
     "text": [
      "  0        0   0  0\n",
      "  1        1   1  1\n",
      "  2       10   2  2\n",
      "  3       11   3  3\n",
      "  4      100   4  4\n",
      "  5      101   5  5\n",
      "  6      110   6  6\n",
      "  7      111   7  7\n",
      "  8     1000  10  8\n",
      "  9     1001  11  9\n",
      " 10     1010  12  a\n",
      " 11     1011  13  b\n",
      " 12     1100  14  c\n",
      " 13     1101  15  d\n",
      " 14     1110  16  e\n",
      " 15     1111  17  f\n",
      " 16    10000  20 10\n",
      " 17    10001  21 11\n",
      " 18    10010  22 12\n",
      " 19    10011  23 13\n",
      " 20    10100  24 14\n",
      " 21    10101  25 15\n",
      " 22    10110  26 16\n",
      " 23    10111  27 17\n",
      " 24    11000  30 18\n",
      " 25    11001  31 19\n",
      " 26    11010  32 1a\n",
      " 27    11011  33 1b\n",
      " 28    11100  34 1c\n",
      " 29    11101  35 1d\n",
      " 30    11110  36 1e\n",
      " 31    11111  37 1f\n",
      " 32   100000  40 20\n",
      " 33   100001  41 21\n",
      " 34   100010  42 22\n",
      " 35   100011  43 23\n",
      " 36   100100  44 24\n",
      " 37   100101  45 25\n",
      " 38   100110  46 26\n",
      " 39   100111  47 27\n",
      " 40   101000  50 28\n",
      " 41   101001  51 29\n",
      " 42   101010  52 2a\n",
      " 43   101011  53 2b\n",
      " 44   101100  54 2c\n",
      " 45   101101  55 2d\n",
      " 46   101110  56 2e\n",
      " 47   101111  57 2f\n",
      " 48   110000  60 30\n",
      " 49   110001  61 31\n",
      " 50   110010  62 32\n",
      " 51   110011  63 33\n",
      " 52   110100  64 34\n",
      " 53   110101  65 35\n",
      " 54   110110  66 36\n",
      " 55   110111  67 37\n",
      " 56   111000  70 38\n",
      " 57   111001  71 39\n",
      " 58   111010  72 3a\n",
      " 59   111011  73 3b\n",
      " 60   111100  74 3c\n",
      " 61   111101  75 3d\n",
      " 62   111110  76 3e\n",
      " 63   111111  77 3f\n",
      " 64  1000000 100 40\n",
      " 65  1000001 101 41\n",
      " 66  1000010 102 42\n",
      " 67  1000011 103 43\n",
      " 68  1000100 104 44\n",
      " 69  1000101 105 45\n",
      " 70  1000110 106 46\n",
      " 71  1000111 107 47\n",
      " 72  1001000 110 48\n",
      " 73  1001001 111 49\n",
      " 74  1001010 112 4a\n",
      " 75  1001011 113 4b\n",
      " 76  1001100 114 4c\n",
      " 77  1001101 115 4d\n",
      " 78  1001110 116 4e\n",
      " 79  1001111 117 4f\n",
      " 80  1010000 120 50\n",
      " 81  1010001 121 51\n",
      " 82  1010010 122 52\n",
      " 83  1010011 123 53\n",
      " 84  1010100 124 54\n",
      " 85  1010101 125 55\n",
      " 86  1010110 126 56\n",
      " 87  1010111 127 57\n",
      " 88  1011000 130 58\n",
      " 89  1011001 131 59\n",
      " 90  1011010 132 5a\n",
      " 91  1011011 133 5b\n",
      " 92  1011100 134 5c\n",
      " 93  1011101 135 5d\n",
      " 94  1011110 136 5e\n",
      " 95  1011111 137 5f\n",
      " 96  1100000 140 60\n",
      " 97  1100001 141 61\n",
      " 98  1100010 142 62\n",
      " 99  1100011 143 63\n",
      "100  1100100 144 64\n",
      "101  1100101 145 65\n",
      "102  1100110 146 66\n",
      "103  1100111 147 67\n",
      "104  1101000 150 68\n",
      "105  1101001 151 69\n",
      "106  1101010 152 6a\n",
      "107  1101011 153 6b\n",
      "108  1101100 154 6c\n",
      "109  1101101 155 6d\n",
      "110  1101110 156 6e\n",
      "111  1101111 157 6f\n",
      "112  1110000 160 70\n",
      "113  1110001 161 71\n",
      "114  1110010 162 72\n",
      "115  1110011 163 73\n",
      "116  1110100 164 74\n",
      "117  1110101 165 75\n",
      "118  1110110 166 76\n",
      "119  1110111 167 77\n",
      "120  1111000 170 78\n",
      "121  1111001 171 79\n",
      "122  1111010 172 7a\n",
      "123  1111011 173 7b\n",
      "124  1111100 174 7c\n",
      "125  1111101 175 7d\n",
      "126  1111110 176 7e\n",
      "127  1111111 177 7f\n",
      "128 10000000 200 80\n",
      "129 10000001 201 81\n",
      "130 10000010 202 82\n",
      "131 10000011 203 83\n",
      "132 10000100 204 84\n",
      "133 10000101 205 85\n",
      "134 10000110 206 86\n",
      "135 10000111 207 87\n",
      "136 10001000 210 88\n",
      "137 10001001 211 89\n",
      "138 10001010 212 8a\n",
      "139 10001011 213 8b\n",
      "140 10001100 214 8c\n",
      "141 10001101 215 8d\n",
      "142 10001110 216 8e\n",
      "143 10001111 217 8f\n",
      "144 10010000 220 90\n",
      "145 10010001 221 91\n",
      "146 10010010 222 92\n",
      "147 10010011 223 93\n",
      "148 10010100 224 94\n",
      "149 10010101 225 95\n",
      "150 10010110 226 96\n",
      "151 10010111 227 97\n",
      "152 10011000 230 98\n",
      "153 10011001 231 99\n",
      "154 10011010 232 9a\n",
      "155 10011011 233 9b\n",
      "156 10011100 234 9c\n",
      "157 10011101 235 9d\n",
      "158 10011110 236 9e\n",
      "159 10011111 237 9f\n",
      "160 10100000 240 a0\n",
      "161 10100001 241 a1\n",
      "162 10100010 242 a2\n",
      "163 10100011 243 a3\n",
      "164 10100100 244 a4\n",
      "165 10100101 245 a5\n",
      "166 10100110 246 a6\n",
      "167 10100111 247 a7\n",
      "168 10101000 250 a8\n",
      "169 10101001 251 a9\n",
      "170 10101010 252 aa\n",
      "171 10101011 253 ab\n",
      "172 10101100 254 ac\n",
      "173 10101101 255 ad\n",
      "174 10101110 256 ae\n",
      "175 10101111 257 af\n",
      "176 10110000 260 b0\n",
      "177 10110001 261 b1\n",
      "178 10110010 262 b2\n",
      "179 10110011 263 b3\n",
      "180 10110100 264 b4\n",
      "181 10110101 265 b5\n",
      "182 10110110 266 b6\n",
      "183 10110111 267 b7\n",
      "184 10111000 270 b8\n",
      "185 10111001 271 b9\n",
      "186 10111010 272 ba\n",
      "187 10111011 273 bb\n",
      "188 10111100 274 bc\n",
      "189 10111101 275 bd\n",
      "190 10111110 276 be\n",
      "191 10111111 277 bf\n",
      "192 11000000 300 c0\n",
      "193 11000001 301 c1\n",
      "194 11000010 302 c2\n",
      "195 11000011 303 c3\n",
      "196 11000100 304 c4\n",
      "197 11000101 305 c5\n",
      "198 11000110 306 c6\n",
      "199 11000111 307 c7\n",
      "200 11001000 310 c8\n",
      "201 11001001 311 c9\n",
      "202 11001010 312 ca\n",
      "203 11001011 313 cb\n",
      "204 11001100 314 cc\n",
      "205 11001101 315 cd\n",
      "206 11001110 316 ce\n",
      "207 11001111 317 cf\n",
      "208 11010000 320 d0\n",
      "209 11010001 321 d1\n",
      "210 11010010 322 d2\n",
      "211 11010011 323 d3\n",
      "212 11010100 324 d4\n",
      "213 11010101 325 d5\n",
      "214 11010110 326 d6\n",
      "215 11010111 327 d7\n",
      "216 11011000 330 d8\n",
      "217 11011001 331 d9\n",
      "218 11011010 332 da\n",
      "219 11011011 333 db\n",
      "220 11011100 334 dc\n",
      "221 11011101 335 dd\n",
      "222 11011110 336 de\n",
      "223 11011111 337 df\n",
      "224 11100000 340 e0\n",
      "225 11100001 341 e1\n",
      "226 11100010 342 e2\n",
      "227 11100011 343 e3\n",
      "228 11100100 344 e4\n",
      "229 11100101 345 e5\n",
      "230 11100110 346 e6\n",
      "231 11100111 347 e7\n",
      "232 11101000 350 e8\n",
      "233 11101001 351 e9\n",
      "234 11101010 352 ea\n",
      "235 11101011 353 eb\n",
      "236 11101100 354 ec\n",
      "237 11101101 355 ed\n",
      "238 11101110 356 ee\n",
      "239 11101111 357 ef\n",
      "240 11110000 360 f0\n",
      "241 11110001 361 f1\n",
      "242 11110010 362 f2\n",
      "243 11110011 363 f3\n",
      "244 11110100 364 f4\n",
      "245 11110101 365 f5\n",
      "246 11110110 366 f6\n",
      "247 11110111 367 f7\n",
      "248 11111000 370 f8\n",
      "249 11111001 371 f9\n",
      "250 11111010 372 fa\n",
      "251 11111011 373 fb\n",
      "252 11111100 374 fc\n",
      "253 11111101 375 fd\n",
      "254 11111110 376 fe\n",
      "255 11111111 377 ff\n"
     ]
    }
   ],
   "source": [
    "for i in range(256):\n",
    "    print(f'{i:3} {i:8b} {i:3o} {i:2x}')\n"
   ]
  },
  {
   "cell_type": "code",
   "execution_count": 48,
   "metadata": {},
   "outputs": [
    {
     "name": "stdout",
     "output_type": "stream",
     "text": [
      "  0        0   0  0\n",
      "  1        1   1  1\n",
      "  2       10   2  2\n",
      "  3       11   3  3\n",
      "  4      100   4  4\n",
      "  5      101   5  5\n",
      "  6      110   6  6\n",
      "  7      111   7  7\n",
      "  8     1000  10  8\n",
      "  9     1001  11  9\n",
      " 10     1010  12  a\n",
      " 11     1011  13  b\n",
      " 12     1100  14  c\n",
      " 13     1101  15  d\n",
      " 14     1110  16  e\n",
      " 15     1111  17  f\n",
      " 16    10000  20 10\n",
      " 17    10001  21 11\n",
      " 18    10010  22 12\n",
      " 19    10011  23 13\n",
      " 20    10100  24 14\n",
      " 21    10101  25 15\n",
      " 22    10110  26 16\n",
      " 23    10111  27 17\n",
      " 24    11000  30 18\n",
      " 25    11001  31 19\n",
      " 26    11010  32 1a\n",
      " 27    11011  33 1b\n",
      " 28    11100  34 1c\n",
      " 29    11101  35 1d\n",
      " 30    11110  36 1e\n",
      " 31    11111  37 1f\n",
      " 32   100000  40 20\n",
      " 33   100001  41 21\n",
      " 34   100010  42 22\n",
      " 35   100011  43 23\n",
      " 36   100100  44 24\n",
      " 37   100101  45 25\n",
      " 38   100110  46 26\n",
      " 39   100111  47 27\n",
      " 40   101000  50 28\n",
      " 41   101001  51 29\n",
      " 42   101010  52 2a\n",
      " 43   101011  53 2b\n",
      " 44   101100  54 2c\n",
      " 45   101101  55 2d\n",
      " 46   101110  56 2e\n",
      " 47   101111  57 2f\n",
      " 48   110000  60 30\n",
      " 49   110001  61 31\n",
      " 50   110010  62 32\n",
      " 51   110011  63 33\n",
      " 52   110100  64 34\n",
      " 53   110101  65 35\n",
      " 54   110110  66 36\n",
      " 55   110111  67 37\n",
      " 56   111000  70 38\n",
      " 57   111001  71 39\n",
      " 58   111010  72 3a\n",
      " 59   111011  73 3b\n",
      " 60   111100  74 3c\n",
      " 61   111101  75 3d\n",
      " 62   111110  76 3e\n",
      " 63   111111  77 3f\n",
      " 64  1000000 100 40\n",
      " 65  1000001 101 41\n",
      " 66  1000010 102 42\n",
      " 67  1000011 103 43\n",
      " 68  1000100 104 44\n",
      " 69  1000101 105 45\n",
      " 70  1000110 106 46\n",
      " 71  1000111 107 47\n",
      " 72  1001000 110 48\n",
      " 73  1001001 111 49\n",
      " 74  1001010 112 4a\n",
      " 75  1001011 113 4b\n",
      " 76  1001100 114 4c\n",
      " 77  1001101 115 4d\n",
      " 78  1001110 116 4e\n",
      " 79  1001111 117 4f\n",
      " 80  1010000 120 50\n",
      " 81  1010001 121 51\n",
      " 82  1010010 122 52\n",
      " 83  1010011 123 53\n",
      " 84  1010100 124 54\n",
      " 85  1010101 125 55\n",
      " 86  1010110 126 56\n",
      " 87  1010111 127 57\n",
      " 88  1011000 130 58\n",
      " 89  1011001 131 59\n",
      " 90  1011010 132 5a\n",
      " 91  1011011 133 5b\n",
      " 92  1011100 134 5c\n",
      " 93  1011101 135 5d\n",
      " 94  1011110 136 5e\n",
      " 95  1011111 137 5f\n",
      " 96  1100000 140 60\n",
      " 97  1100001 141 61\n",
      " 98  1100010 142 62\n",
      " 99  1100011 143 63\n",
      "100  1100100 144 64\n",
      "101  1100101 145 65\n",
      "102  1100110 146 66\n",
      "103  1100111 147 67\n",
      "104  1101000 150 68\n",
      "105  1101001 151 69\n",
      "106  1101010 152 6a\n",
      "107  1101011 153 6b\n",
      "108  1101100 154 6c\n",
      "109  1101101 155 6d\n",
      "110  1101110 156 6e\n",
      "111  1101111 157 6f\n",
      "112  1110000 160 70\n",
      "113  1110001 161 71\n",
      "114  1110010 162 72\n",
      "115  1110011 163 73\n",
      "116  1110100 164 74\n",
      "117  1110101 165 75\n",
      "118  1110110 166 76\n",
      "119  1110111 167 77\n",
      "120  1111000 170 78\n",
      "121  1111001 171 79\n",
      "122  1111010 172 7a\n",
      "123  1111011 173 7b\n",
      "124  1111100 174 7c\n",
      "125  1111101 175 7d\n",
      "126  1111110 176 7e\n",
      "127  1111111 177 7f\n",
      "128 10000000 200 80\n",
      "129 10000001 201 81\n",
      "130 10000010 202 82\n",
      "131 10000011 203 83\n",
      "132 10000100 204 84\n",
      "133 10000101 205 85\n",
      "134 10000110 206 86\n",
      "135 10000111 207 87\n",
      "136 10001000 210 88\n",
      "137 10001001 211 89\n",
      "138 10001010 212 8a\n",
      "139 10001011 213 8b\n",
      "140 10001100 214 8c\n",
      "141 10001101 215 8d\n",
      "142 10001110 216 8e\n",
      "143 10001111 217 8f\n",
      "144 10010000 220 90\n",
      "145 10010001 221 91\n",
      "146 10010010 222 92\n",
      "147 10010011 223 93\n",
      "148 10010100 224 94\n",
      "149 10010101 225 95\n",
      "150 10010110 226 96\n",
      "151 10010111 227 97\n",
      "152 10011000 230 98\n",
      "153 10011001 231 99\n",
      "154 10011010 232 9a\n",
      "155 10011011 233 9b\n",
      "156 10011100 234 9c\n",
      "157 10011101 235 9d\n",
      "158 10011110 236 9e\n",
      "159 10011111 237 9f\n",
      "160 10100000 240 a0\n",
      "161 10100001 241 a1\n",
      "162 10100010 242 a2\n",
      "163 10100011 243 a3\n",
      "164 10100100 244 a4\n",
      "165 10100101 245 a5\n",
      "166 10100110 246 a6\n",
      "167 10100111 247 a7\n",
      "168 10101000 250 a8\n",
      "169 10101001 251 a9\n",
      "170 10101010 252 aa\n",
      "171 10101011 253 ab\n",
      "172 10101100 254 ac\n",
      "173 10101101 255 ad\n",
      "174 10101110 256 ae\n",
      "175 10101111 257 af\n",
      "176 10110000 260 b0\n",
      "177 10110001 261 b1\n",
      "178 10110010 262 b2\n",
      "179 10110011 263 b3\n",
      "180 10110100 264 b4\n",
      "181 10110101 265 b5\n",
      "182 10110110 266 b6\n",
      "183 10110111 267 b7\n",
      "184 10111000 270 b8\n",
      "185 10111001 271 b9\n",
      "186 10111010 272 ba\n",
      "187 10111011 273 bb\n",
      "188 10111100 274 bc\n",
      "189 10111101 275 bd\n",
      "190 10111110 276 be\n",
      "191 10111111 277 bf\n",
      "192 11000000 300 c0\n",
      "193 11000001 301 c1\n",
      "194 11000010 302 c2\n",
      "195 11000011 303 c3\n",
      "196 11000100 304 c4\n",
      "197 11000101 305 c5\n",
      "198 11000110 306 c6\n",
      "199 11000111 307 c7\n",
      "200 11001000 310 c8\n",
      "201 11001001 311 c9\n",
      "202 11001010 312 ca\n",
      "203 11001011 313 cb\n",
      "204 11001100 314 cc\n",
      "205 11001101 315 cd\n",
      "206 11001110 316 ce\n",
      "207 11001111 317 cf\n",
      "208 11010000 320 d0\n",
      "209 11010001 321 d1\n",
      "210 11010010 322 d2\n",
      "211 11010011 323 d3\n",
      "212 11010100 324 d4\n",
      "213 11010101 325 d5\n",
      "214 11010110 326 d6\n",
      "215 11010111 327 d7\n",
      "216 11011000 330 d8\n",
      "217 11011001 331 d9\n",
      "218 11011010 332 da\n",
      "219 11011011 333 db\n",
      "220 11011100 334 dc\n",
      "221 11011101 335 dd\n",
      "222 11011110 336 de\n",
      "223 11011111 337 df\n",
      "224 11100000 340 e0\n",
      "225 11100001 341 e1\n",
      "226 11100010 342 e2\n",
      "227 11100011 343 e3\n",
      "228 11100100 344 e4\n",
      "229 11100101 345 e5\n",
      "230 11100110 346 e6\n",
      "231 11100111 347 e7\n",
      "232 11101000 350 e8\n",
      "233 11101001 351 e9\n",
      "234 11101010 352 ea\n",
      "235 11101011 353 eb\n",
      "236 11101100 354 ec\n",
      "237 11101101 355 ed\n",
      "238 11101110 356 ee\n",
      "239 11101111 357 ef\n",
      "240 11110000 360 f0\n",
      "241 11110001 361 f1\n",
      "242 11110010 362 f2\n",
      "243 11110011 363 f3\n",
      "244 11110100 364 f4\n",
      "245 11110101 365 f5\n",
      "246 11110110 366 f6\n",
      "247 11110111 367 f7\n",
      "248 11111000 370 f8\n",
      "249 11111001 371 f9\n",
      "250 11111010 372 fa\n",
      "251 11111011 373 fb\n",
      "252 11111100 374 fc\n",
      "253 11111101 375 fd\n",
      "254 11111110 376 fe\n",
      "255 11111111 377 ff\n"
     ]
    }
   ],
   "source": [
    "for i in range(256):\n",
    "    print(f'{i:3} {i:8b} {i:3o} {i:2x}')"
   ]
  },
  {
   "cell_type": "markdown",
   "metadata": {},
   "source": [
    "当计算机要把内存中的任何信息 (如视频、⾳频、图⽚，也包括 字符串) 进⾏存储 (⾄磁盘) 或交换 (⾄互联⽹) 时，都要经过 序列化 (serialize) 和 编码 (encode)，将其转化为 字节串 (bytes)。"
   ]
  },
  {
   "cell_type": "markdown",
   "metadata": {},
   "source": [
    "当计算机 (从磁盘) 读取或 (从互联⽹) 收到字节串，都可以经过 解码 (decode) 和 反序列化\n",
    "(deserialize)，将其转化为内存中的相应信息。"
   ]
  },
  {
   "cell_type": "markdown",
   "metadata": {},
   "source": [
    "字符串本身就是序列 (sequence)，不需要经过序列化和反序列化，只需要进⾏编码和解码。中国国标的\n",
    "编码是 `gb2312` (1980 年出版 4 )，其扩展有 `gbk` (1993 年出版 5 ) 和` gb18030` (2000 年出版 6 )。\n",
    "简体中⽂ Windows 系统的默认编码是 `gbk` ，也叫 `cp936` 。港澳台地区使⽤的繁体中⽂ Windows 系\n",
    "统的默认编码是` big5 `(1984 年出版 7 )，也叫` cp950 `。英⽂ Windows 系统的默认编码是 `windows-\n",
    "1252` (1995 年出版 8 )。` utf-8 `是现在最流⾏和最通⽤的⼀种 Unicode 编码` 9` ，其他 Unicode 编码\n",
    "还有` utf-16` 、` utf-16be` 、 `urf-16le `等等。"
   ]
  },
  {
   "cell_type": "code",
   "execution_count": 68,
   "metadata": {},
   "outputs": [
    {
     "data": {
      "text/plain": [
       "b'hello\\xc4\\xe3\\xba\\xc3'"
      ]
     },
     "execution_count": 68,
     "metadata": {},
     "output_type": "execute_result"
    },
    {
     "data": {
      "text/plain": [
       "b'hello\\xc4\\xe3\\xba\\xc3'"
      ]
     },
     "execution_count": 68,
     "metadata": {},
     "output_type": "execute_result"
    },
    {
     "data": {
      "text/plain": [
       "b'hello\\xc4\\xe3\\xba\\xc3'"
      ]
     },
     "execution_count": 68,
     "metadata": {},
     "output_type": "execute_result"
    },
    {
     "data": {
      "text/plain": [
       "b'hello\\xc4\\xe3\\xba\\xc3'"
      ]
     },
     "execution_count": 68,
     "metadata": {},
     "output_type": "execute_result"
    },
    {
     "data": {
      "text/plain": [
       "b'hello\\xa7A\\xa6n'"
      ]
     },
     "execution_count": 68,
     "metadata": {},
     "output_type": "execute_result"
    },
    {
     "data": {
      "text/plain": [
       "b'hello\\xe4\\xbd\\xa0\\xe5\\xa5\\xbd'"
      ]
     },
     "execution_count": 68,
     "metadata": {},
     "output_type": "execute_result"
    },
    {
     "data": {
      "text/plain": [
       "b'\\xff\\xfeh\\x00e\\x00l\\x00l\\x00o\\x00`O}Y'"
      ]
     },
     "execution_count": 68,
     "metadata": {},
     "output_type": "execute_result"
    },
    {
     "data": {
      "text/plain": [
       "b'\\x00h\\x00e\\x00l\\x00l\\x00oO`Y}'"
      ]
     },
     "execution_count": 68,
     "metadata": {},
     "output_type": "execute_result"
    },
    {
     "data": {
      "text/plain": [
       "b'h\\x00e\\x00l\\x00l\\x00o\\x00`O}Y'"
      ]
     },
     "execution_count": 68,
     "metadata": {},
     "output_type": "execute_result"
    },
    {
     "data": {
      "text/plain": [
       "'hello你好'"
      ]
     },
     "execution_count": 68,
     "metadata": {},
     "output_type": "execute_result"
    }
   ],
   "source": [
    "s = 'hello你好'\n",
    "s.encode('gb2312')\n",
    "s.encode('gbk')\n",
    "s.encode('gb18030')\n",
    "s.encode('cp936')\n",
    "s.encode('big5')\n",
    "#s.encode('windows-1252')\n",
    "s.encode('utf-8')\n",
    "s.encode('utf-16')\n",
    "s.encode('utf-16be')\n",
    "s.encode('utf-16le')\n",
    "s.encode('utf-16le').decode('utf-16le')"
   ]
  },
  {
   "cell_type": "markdown",
   "metadata": {},
   "source": [
    "上⾯的字符串 s 经过编码 (encode)，返回的就是对应的 `字节串 (bytes)`。"
   ]
  },
  {
   "cell_type": "markdown",
   "metadata": {},
   "source": [
    "#### 5.2 字节串字⾯值"
   ]
  },
  {
   "cell_type": "markdown",
   "metadata": {},
   "source": [
    "字节串 (bytes) 的字⾯值与字符串 (str) 的字⾯值⼗分相近，书写⽅法⾮常类似，需注意以下⼏点关键不\n",
    "同："
   ]
  },
  {
   "cell_type": "markdown",
   "metadata": {},
   "source": [
    "#### 1. 在引号前加 `b` 前缀是字节串 (bytes)，不加` b` 前缀是字符串 (str)："
   ]
  },
  {
   "cell_type": "code",
   "execution_count": 56,
   "metadata": {},
   "outputs": [
    {
     "data": {
      "text/plain": [
       "b'hello'"
      ]
     },
     "execution_count": 56,
     "metadata": {},
     "output_type": "execute_result"
    },
    {
     "data": {
      "text/plain": [
       "b\"Let's go!\""
      ]
     },
     "execution_count": 56,
     "metadata": {},
     "output_type": "execute_result"
    },
    {
     "data": {
      "text/plain": [
       "b'He said \\t \"Let\\'s go!\"'"
      ]
     },
     "execution_count": 56,
     "metadata": {},
     "output_type": "execute_result"
    },
    {
     "data": {
      "text/plain": [
       "b'He said \"Let\\'s go!\"'"
      ]
     },
     "execution_count": 56,
     "metadata": {},
     "output_type": "execute_result"
    },
    {
     "data": {
      "text/plain": [
       "b'First, come.\\n... Then, go.'"
      ]
     },
     "execution_count": 56,
     "metadata": {},
     "output_type": "execute_result"
    }
   ],
   "source": [
    "b'hello'\n",
    "b\"Let's go!\"\n",
    "b'''He said \\t \"Let's go!\"'''\n",
    "b'''He said \"Let\\'s go!\"'''\n",
    "b\"\"\"First, come.\n",
    "... Then, go.\"\"\""
   ]
  },
  {
   "cell_type": "markdown",
   "metadata": {},
   "source": [
    "2. 字节串引号内不再可以包含任意 Unicode 字符，⽽只能是 ASCII 字符："
   ]
  },
  {
   "cell_type": "code",
   "execution_count": 57,
   "metadata": {},
   "outputs": [
    {
     "ename": "SyntaxError",
     "evalue": "bytes can only contain ASCII literal characters. (<ipython-input-57-234e77bd3686>, line 1)",
     "output_type": "error",
     "traceback": [
      "\u001b[1;36m  File \u001b[1;32m\"<ipython-input-57-234e77bd3686>\"\u001b[1;36m, line \u001b[1;32m1\u001b[0m\n\u001b[1;33m    b'你好'\u001b[0m\n\u001b[1;37m         ^\u001b[0m\n\u001b[1;31mSyntaxError\u001b[0m\u001b[1;31m:\u001b[0m bytes can only contain ASCII literal characters.\n"
     ]
    }
   ],
   "source": [
    "b'你好'"
   ]
  },
  {
   "cell_type": "markdown",
   "metadata": {},
   "source": [
    "#### 3. 转义符 `\\ `可以继续使⽤，但 print 的时候不会被转义："
   ]
  },
  {
   "cell_type": "code",
   "execution_count": 59,
   "metadata": {},
   "outputs": [
    {
     "name": "stdout",
     "output_type": "stream",
     "text": [
      "a\tb\n",
      "c\td\n",
      "b'a\\tb\\nc\\td'\n"
     ]
    }
   ],
   "source": [
    "s = 'a\\tb\\nc\\td'\n",
    "print(s)\n",
    "s = b'a\\tb\\nc\\td'\n",
    "print(s)\n"
   ]
  },
  {
   "cell_type": "markdown",
   "metadata": {},
   "source": [
    "#### 4. ⼆进制、⼋进制、⼗六进制转义都可以继续使⽤，`⼗六进制转义` 是表达字节串的`最推荐`的⽅式："
   ]
  },
  {
   "cell_type": "code",
   "execution_count": 60,
   "metadata": {},
   "outputs": [
    {
     "data": {
      "text/plain": [
       "b'hello'"
      ]
     },
     "execution_count": 60,
     "metadata": {},
     "output_type": "execute_result"
    }
   ],
   "source": [
    " b'\\x68\\x65\\x6c\\x6c\\x6f'"
   ]
  },
  {
   "cell_type": "markdown",
   "metadata": {},
   "source": [
    "#### 5. Unicode 转义 \\u 和 \\U ⽆效："
   ]
  },
  {
   "cell_type": "code",
   "execution_count": 61,
   "metadata": {},
   "outputs": [
    {
     "data": {
      "text/plain": [
       "b'b\\\\u006fx'"
      ]
     },
     "execution_count": 61,
     "metadata": {},
     "output_type": "execute_result"
    }
   ],
   "source": [
    " b'b\\u006fx'"
   ]
  },
  {
   "cell_type": "markdown",
   "metadata": {},
   "source": [
    "`\\u006f`没有被转译成o"
   ]
  },
  {
   "cell_type": "markdown",
   "metadata": {},
   "source": [
    "### 5.3 字节串的两个常⽤⽅法"
   ]
  },
  {
   "cell_type": "markdown",
   "metadata": {},
   "source": [
    "可以调⽤字节串实例的 `hex `⽅法得到⽤⼗六进制表示的字符串，也可以调⽤字节串` bytes `类的\n",
    "`fromhex `类⽅法 (class method)，传⼊⼗六进制表示的字符串参数，得到对应的字节串实例："
   ]
  },
  {
   "cell_type": "code",
   "execution_count": 62,
   "metadata": {},
   "outputs": [
    {
     "data": {
      "text/plain": [
       "'68656c6c6f'"
      ]
     },
     "execution_count": 62,
     "metadata": {},
     "output_type": "execute_result"
    },
    {
     "data": {
      "text/plain": [
       "b'hello'"
      ]
     },
     "execution_count": 62,
     "metadata": {},
     "output_type": "execute_result"
    }
   ],
   "source": [
    "b'hello'.hex()\n",
    "bytes.fromhex('68656c6c6f')"
   ]
  },
  {
   "cell_type": "markdown",
   "metadata": {},
   "source": [
    "#### 可以调⽤字节串实例的 decode ⽅法，传⼊表示编码的字符串参数，得到解码后的字符串实例："
   ]
  },
  {
   "cell_type": "code",
   "execution_count": 63,
   "metadata": {},
   "outputs": [
    {
     "data": {
      "text/plain": [
       "'你好'"
      ]
     },
     "execution_count": 63,
     "metadata": {},
     "output_type": "execute_result"
    },
    {
     "data": {
      "text/plain": [
       "'你好'"
      ]
     },
     "execution_count": 63,
     "metadata": {},
     "output_type": "execute_result"
    },
    {
     "data": {
      "text/plain": [
       "'你好'"
      ]
     },
     "execution_count": 63,
     "metadata": {},
     "output_type": "execute_result"
    }
   ],
   "source": [
    "b = b'\\xe4\\xbd\\xa0\\xe5\\xa5\\xbd'\n",
    "b.decode('utf-8')\n",
    "b = b'\\xc4\\xe3\\xba\\xc3'\n",
    "b.decode('gbk')\n",
    "b = b'\\xa7A\\xa6n'\n",
    "b.decode('big5')\n"
   ]
  },
  {
   "cell_type": "markdown",
   "metadata": {},
   "source": [
    "## 6. ⾃测题"
   ]
  },
  {
   "cell_type": "markdown",
   "metadata": {},
   "source": [
    "#### 6.1 简答题\n",
    "请总结字符串 (str) 的字⾯值 (literal) 有哪些 不同写法，并举例。"
   ]
  },
  {
   "cell_type": "markdown",
   "metadata": {},
   "source": [
    "#### 写法1.短字符串"
   ]
  },
  {
   "cell_type": "markdown",
   "metadata": {},
   "source": [
    "短字符串只能写⼀⾏ (in-line)，⽤单引号` ' `(或双引号` \" `) 围起来，引号要配对，内部可以写任意字符（任意unicode字符“多国语言”），\n",
    "引号` '` (或` \"` ) 本身与换⾏符除外。"
   ]
  },
  {
   "cell_type": "markdown",
   "metadata": {},
   "source": [
    "#### 举例："
   ]
  },
  {
   "cell_type": "code",
   "execution_count": 69,
   "metadata": {},
   "outputs": [
    {
     "data": {
      "text/plain": [
       "\"let's go go _ go'\""
      ]
     },
     "execution_count": 69,
     "metadata": {},
     "output_type": "execute_result"
    }
   ],
   "source": [
    "\"let\\'s go go _ go'\""
   ]
  },
  {
   "cell_type": "markdown",
   "metadata": {},
   "source": [
    "#### 写法2  ⻓字符串 (long string)"
   ]
  },
  {
   "cell_type": "markdown",
   "metadata": {},
   "source": [
    "长字符串可以写多行（multi-line），⽤三个单引号 `''' `(或者三个双引号 `\"\"\"` ) 围起来，内部可以写任意\n",
    "字符，包括单引号 `'` 和双引号 `\" `以及换⾏符。"
   ]
  },
  {
   "cell_type": "code",
   "execution_count": 72,
   "metadata": {},
   "outputs": [
    {
     "name": "stdout",
     "output_type": "stream",
     "text": [
      "以上内容等价于将line1放在单独一行，也就是不换行，因为前面没有相关符号\n",
      "Line 1,\n",
      "Line 2,\n",
      "Line 3,\n",
      "    这行前面加上一个tab，就会保留tab，所以此行偏右一个缩进\n"
     ]
    }
   ],
   "source": [
    "s = '''以上内容等价于将line1放在单独一行，也就是不换行，因为前面没有相关符号\n",
    "Line 1,\n",
    "Line 2,\n",
    "Line 3,\n",
    "    这行前面加上一个tab，就会保留tab，所以此行偏右一个缩进'''\n",
    "print(s)"
   ]
  },
  {
   "cell_type": "markdown",
   "metadata": {},
   "source": [
    "#### 写法3 转义序列写法"
   ]
  },
  {
   "cell_type": "markdown",
   "metadata": {},
   "source": [
    "在字符串中虽然可以写`\\` 符号，但它并不再代表字⾯意义的 `\\ `符号，⽽是⼀个转义开关，与随后的字\n",
    "符搭配使⽤，⽤来表达不能直接输⼊的字符或控制符。"
   ]
  },
  {
   "cell_type": "markdown",
   "metadata": {},
   "source": [
    "举例的话写几个即可~\n",
    "\n",
    "`\\t` 将被转义为跳格符` <TAB>` ：\n",
    "\n",
    "`\\n `将被转义为换⾏符 `<LF>` ：\n",
    "\n",
    "`\\r` 将被转义为返回符 `<CR>` ：\n",
    "\n",
    "`\\f` 将被转义为换⻚符 `<FF> `:\n",
    "\n",
    "`\\b` 将被转义为退格符` <BACKSPACE>` ：\n",
    "\n",
    "`\\\\ `将被转义为 `\\ `：\n",
    "\n",
    " `\\' `和` \\\" `将被转义为` '` 和 `\"` ：\n",
    " \n",
    " "
   ]
  },
  {
   "cell_type": "markdown",
   "metadata": {},
   "source": [
    "##### 进制编码转译和万国码转义\n",
    "\n",
    "⼋进制 (oct) ASCII 编码转义  ，格式为 `\\ooo` ，其中` ooo` 为 三个 [0-7] ⼋进制字符：\n",
    "\n",
    "⼗六进制 (hex) ASCII 编码转义 2 ，格式为 \\xhh ，其中 hh 为 两个 [0-9A-Fa-f] ⼗六进制字符：\n",
    "\n",
    "Unicode 编码转义  ，格式为` \\uxxxx `(16 位)，或 `\\Uxxxxxxxx `(32 位) 其中` x` 为 [0-9A-Fa-f]⼗六进制字符"
   ]
  },
  {
   "cell_type": "markdown",
   "metadata": {},
   "source": [
    "写法3综合写法4：字符串的字面连接：\n",
    "\n",
    "有时需要创建⽐较 ⻓ 的 ⼀⾏ 字符串，可以利⽤ Python 的 `字⾯连接` 特性，使多⾏字符串代码在解释\n",
    "(interpreting) 阶段就被拼接为⼀⾏字符串。"
   ]
  },
  {
   "cell_type": "code",
   "execution_count": 101,
   "metadata": {},
   "outputs": [
    {
     "name": "stdout",
     "output_type": "stream",
     "text": [
      "C:\textbook\n",
      "C:\n",
      "otes\n",
      "C:\r",
      "isks\n",
      "C:\f",
      "orm\n",
      "abc\bd\n",
      "C:\\notes\n",
      "both ' and \" will be accepted if escape\n",
      "ABCD\n",
      "box\n",
      "你好😉\n",
      "\n"
     ]
    }
   ],
   "source": [
    "s=(\"\"\"C:\\textbook\n",
    "C:\\notes\n",
    "C:\\risks\n",
    "C:\\form\n",
    "abc\\bd\n",
    "C:\\\\notes\n",
    "both \\' and \\\" will be accepted if escape\n",
    "A\\102\\103\\104\n",
    "b\\x6fx\"\"\"\n",
    "\"\"\"\n",
    "\\u4f60\\u597d\\U0001f609\n",
    "\"\"\"\n",
    "  )\n",
    "print(s)"
   ]
  },
  {
   "cell_type": "markdown",
   "metadata": {},
   "source": [
    "写法5：原始字符串 (raw strings)"
   ]
  },
  {
   "cell_type": "markdown",
   "metadata": {},
   "source": [
    "当字符串中需要` \\ `作为字⾯值，⽽不希望` \\ `作为转义符时，可以在引号前加 `r `字符，称为原始字符\n",
    "串 (raw string) 语法。"
   ]
  },
  {
   "cell_type": "code",
   "execution_count": 97,
   "metadata": {},
   "outputs": [
    {
     "name": "stdout",
     "output_type": "stream",
     "text": [
      "let\\'s go\\n \n",
      "let's go\n"
     ]
    }
   ],
   "source": [
    "s=r'let\\'s go\\n'#\\n不转义，保留最原始字符串形式，不改变''内内容\n",
    "s1='\\nlet\\'s go'\n",
    "print(s,s1)"
   ]
  },
  {
   "cell_type": "code",
   "execution_count": 99,
   "metadata": {},
   "outputs": [
    {
     "data": {
      "text/plain": [
       "\"let's go\\n\""
      ]
     },
     "execution_count": 99,
     "metadata": {},
     "output_type": "execute_result"
    }
   ],
   "source": [
    "'let\\'s go\\n'"
   ]
  },
  {
   "cell_type": "markdown",
   "metadata": {},
   "source": [
    "#### 1cell总结"
   ]
  },
  {
   "cell_type": "markdown",
   "metadata": {},
   "source": [
    "1/2 长短字符串\n",
    "\n",
    "3/4 转义字符串和字符串的拼接\n",
    "\n",
    "5 原始字符串raw strings的使用"
   ]
  },
  {
   "cell_type": "code",
   "execution_count": 107,
   "metadata": {},
   "outputs": [
    {
     "name": "stdout",
     "output_type": "stream",
     "text": [
      "\n",
      "三引号内可以随意加\"双引号\"和'单引号'\n",
      "在换行时每一新行开始计算有没有缩进字符 \n",
      "\n",
      "加上括号就可以拼接字符串C:\textbook\n",
      "C:\n",
      "otes\n",
      "C:\r",
      "isks\n",
      "C:\f",
      "orm\n",
      "abc\bd\n",
      "C:\\notes\n",
      "both ' and \" will be accepted if escape\n",
      "\n",
      "ABCD\n",
      "box\n",
      "你好😉\n",
      "上面是三个进制和万国码的转义（本质是‘译’）\n",
      "let's golet\\'s go\\n\n",
      "这里是r可以消除字符串内的转义\n"
     ]
    }
   ],
   "source": [
    "s='''三引号内可以随意加\"双引号\"和'单引号'\n",
    "在换行时每一新行开始计算有没有缩进字符'''\n",
    "s2=('\\n\\n''''加上括号就可以拼接字符串'''\n",
    "\n",
    "#\\n不转义，保留最原始字符串形式，不改变''内内容\n",
    "#写法3综合写法4：转义字符和字符串的字面连接：\n",
    "\"\"\"C:\\textbook\n",
    "C:\\notes\n",
    "C:\\risks\n",
    "C:\\form\n",
    "abc\\bd\n",
    "C:\\\\notes\n",
    "both \\' and \\\" will be accepted if escape\n",
    "\n",
    "A\\102\\103\\104\n",
    "b\\x6fx\"\"\"\n",
    "\"\"\"\n",
    "\\u4f60\\u597d\\U0001f609\n",
    "\"\"\"\n",
    "'''上面是三个进制和万国码的转义（本质是‘译’）'''\n",
    "'''\\nlet\\'s go'''\n",
    "r'let\\'s go\\n'\n",
    "\"\\n这里是r可以消除字符串内的转义\")\n",
    "print(s,s2)"
   ]
  },
  {
   "cell_type": "markdown",
   "metadata": {},
   "source": [
    "#### 6.2 简答题\n",
    "请总结你所记忆的各种字符串 转义符 (escape)，指出其转义后代表什么符号。"
   ]
  },
  {
   "cell_type": "markdown",
   "metadata": {},
   "source": [
    "举例的话写几个即可~\n",
    "\n",
    "`\\t` 将被转义为跳格符` <TAB>` ：\n",
    "\n",
    "`\\n `将被转义为换⾏符 `<LF>` ：\n",
    "\n",
    "`\\r` 将被转义为返回符 `<CR>` ：\n",
    "\n",
    "`\\f` 将被转义为换⻚符 `<FF> `:\n",
    "\n",
    "`\\b` 将被转义为退格符` <BACKSPACE>` ：\n",
    "\n",
    "`\\\\ `将被转义为 `\\ `：\n",
    "\n",
    " `\\' `和` \\\" `将被转义为` '` 和 `\"` ：\n",
    " \n",
    " ##### 进制编码转译和万国码转义\n",
    "\n",
    "⼋进制 (oct) ASCII 编码转义  ，格式为 `\\ooo` ，其中` ooo` 为 三个 [0-7] ⼋进制字符：\n",
    "\n",
    "⼗六进制 (hex) ASCII 编码转义 2 ，格式为 \\xhh ，其中 hh 为 两个 [0-9A-Fa-f] ⼗六进制字符：\n",
    "\n",
    "Unicode 编码转义  ，格式为` \\uxxxx `(16 位)，或 `\\Uxxxxxxxx `(32 位) 其中` x` 为 [0-9A-Fa-f]⼗六进制字符"
   ]
  },
  {
   "cell_type": "markdown",
   "metadata": {},
   "source": [
    "#### 6.3 简答题\n",
    "请写以下三个符号的 ⼋进制 (oct) ASCII 编码： a 、 A 、 0 。\n",
    "\n",
    "对应10进制分别为97、65、48"
   ]
  },
  {
   "cell_type": "markdown",
   "metadata": {},
   "source": [
    "[ASCII](https://baike.baidu.com/item/ASCII/309296?fr=aladdin)"
   ]
  },
  {
   "cell_type": "code",
   "execution_count": 139,
   "metadata": {},
   "outputs": [
    {
     "name": "stdout",
     "output_type": "stream",
     "text": [
      "a、A、0\n"
     ]
    }
   ],
   "source": [
    "s='\\141、\\101、\\060'\n",
    "print(s)"
   ]
  },
  {
   "cell_type": "code",
   "execution_count": 145,
   "metadata": {},
   "outputs": [
    {
     "name": "stdout",
     "output_type": "stream",
     "text": [
      "  0,     0,     0,       0,  0\n",
      "  1,     1,     1,       1,  1\n",
      "  2,     2,     2,      10,  2\n",
      "  3,     3,     3,      11,  3\n",
      "  4,     4,     4,     100,  4\n",
      "  5,     5,     5,     101,  5\n",
      "  6,     6,     6,     110,  6\n",
      "  7,     7,     7,     111,  7\n",
      "  8,    10,     8,    1000,  8\n",
      "  9,    11,     9,    1001,  9\n",
      " 10,    12,     a,    1010,  a\n",
      " 11,    13,     b,    1011,  b\n",
      " 12,    14,     c,    1100,  c\n",
      " 13,    15,     d,    1101,  d\n",
      " 14,    16,     e,    1110,  e\n",
      " 15,    17,     f,    1111,  f\n",
      " 16,    20,    10,   10000, 10\n",
      " 17,    21,    11,   10001, 11\n",
      " 18,    22,    12,   10010, 12\n",
      " 19,    23,    13,   10011, 13\n",
      " 20,    24,    14,   10100, 14\n",
      " 21,    25,    15,   10101, 15\n",
      " 22,    26,    16,   10110, 16\n",
      " 23,    27,    17,   10111, 17\n",
      " 24,    30,    18,   11000, 18\n",
      " 25,    31,    19,   11001, 19\n",
      " 26,    32,    1a,   11010, 1a\n",
      " 27,    33,    1b,   11011, 1b\n",
      " 28,    34,    1c,   11100, 1c\n",
      " 29,    35,    1d,   11101, 1d\n",
      " 30,    36,    1e,   11110, 1e\n",
      " 31,    37,    1f,   11111, 1f\n",
      " 32,    40,    20,  100000, 20\n",
      " 33,    41,    21,  100001, 21\n",
      " 34,    42,    22,  100010, 22\n",
      " 35,    43,    23,  100011, 23\n",
      " 36,    44,    24,  100100, 24\n",
      " 37,    45,    25,  100101, 25\n",
      " 38,    46,    26,  100110, 26\n",
      " 39,    47,    27,  100111, 27\n",
      " 40,    50,    28,  101000, 28\n",
      " 41,    51,    29,  101001, 29\n",
      " 42,    52,    2a,  101010, 2a\n",
      " 43,    53,    2b,  101011, 2b\n",
      " 44,    54,    2c,  101100, 2c\n",
      " 45,    55,    2d,  101101, 2d\n",
      " 46,    56,    2e,  101110, 2e\n",
      " 47,    57,    2f,  101111, 2f\n",
      " 48,    60,    30,  110000, 30\n",
      " 49,    61,    31,  110001, 31\n",
      " 50,    62,    32,  110010, 32\n",
      " 51,    63,    33,  110011, 33\n",
      " 52,    64,    34,  110100, 34\n",
      " 53,    65,    35,  110101, 35\n",
      " 54,    66,    36,  110110, 36\n",
      " 55,    67,    37,  110111, 37\n",
      " 56,    70,    38,  111000, 38\n",
      " 57,    71,    39,  111001, 39\n",
      " 58,    72,    3a,  111010, 3a\n",
      " 59,    73,    3b,  111011, 3b\n",
      " 60,    74,    3c,  111100, 3c\n",
      " 61,    75,    3d,  111101, 3d\n",
      " 62,    76,    3e,  111110, 3e\n",
      " 63,    77,    3f,  111111, 3f\n",
      " 64,   100,    40, 1000000, 40\n",
      " 65,   101,    41, 1000001, 41\n",
      " 66,   102,    42, 1000010, 42\n",
      " 67,   103,    43, 1000011, 43\n",
      " 68,   104,    44, 1000100, 44\n",
      " 69,   105,    45, 1000101, 45\n",
      " 70,   106,    46, 1000110, 46\n",
      " 71,   107,    47, 1000111, 47\n",
      " 72,   110,    48, 1001000, 48\n",
      " 73,   111,    49, 1001001, 49\n",
      " 74,   112,    4a, 1001010, 4a\n",
      " 75,   113,    4b, 1001011, 4b\n",
      " 76,   114,    4c, 1001100, 4c\n",
      " 77,   115,    4d, 1001101, 4d\n",
      " 78,   116,    4e, 1001110, 4e\n",
      " 79,   117,    4f, 1001111, 4f\n",
      " 80,   120,    50, 1010000, 50\n",
      " 81,   121,    51, 1010001, 51\n",
      " 82,   122,    52, 1010010, 52\n",
      " 83,   123,    53, 1010011, 53\n",
      " 84,   124,    54, 1010100, 54\n",
      " 85,   125,    55, 1010101, 55\n",
      " 86,   126,    56, 1010110, 56\n",
      " 87,   127,    57, 1010111, 57\n",
      " 88,   130,    58, 1011000, 58\n",
      " 89,   131,    59, 1011001, 59\n",
      " 90,   132,    5a, 1011010, 5a\n",
      " 91,   133,    5b, 1011011, 5b\n",
      " 92,   134,    5c, 1011100, 5c\n",
      " 93,   135,    5d, 1011101, 5d\n",
      " 94,   136,    5e, 1011110, 5e\n",
      " 95,   137,    5f, 1011111, 5f\n",
      " 96,   140,    60, 1100000, 60\n",
      " 97,   141,    61, 1100001, 61\n",
      " 98,   142,    62, 1100010, 62\n",
      " 99,   143,    63, 1100011, 63\n",
      "100,   144,    64, 1100100, 64\n",
      "101,   145,    65, 1100101, 65\n",
      "102,   146,    66, 1100110, 66\n",
      "103,   147,    67, 1100111, 67\n",
      "104,   150,    68, 1101000, 68\n",
      "105,   151,    69, 1101001, 69\n",
      "106,   152,    6a, 1101010, 6a\n",
      "107,   153,    6b, 1101011, 6b\n",
      "108,   154,    6c, 1101100, 6c\n",
      "109,   155,    6d, 1101101, 6d\n",
      "110,   156,    6e, 1101110, 6e\n",
      "111,   157,    6f, 1101111, 6f\n",
      "112,   160,    70, 1110000, 70\n",
      "113,   161,    71, 1110001, 71\n",
      "114,   162,    72, 1110010, 72\n",
      "115,   163,    73, 1110011, 73\n",
      "116,   164,    74, 1110100, 74\n",
      "117,   165,    75, 1110101, 75\n",
      "118,   166,    76, 1110110, 76\n",
      "119,   167,    77, 1110111, 77\n",
      "120,   170,    78, 1111000, 78\n",
      "121,   171,    79, 1111001, 79\n",
      "122,   172,    7a, 1111010, 7a\n",
      "123,   173,    7b, 1111011, 7b\n",
      "124,   174,    7c, 1111100, 7c\n",
      "125,   175,    7d, 1111101, 7d\n",
      "126,   176,    7e, 1111110, 7e\n",
      "127,   177,    7f, 1111111, 7f\n",
      "128,   200,    80,10000000, 80\n",
      "129,   201,    81,10000001, 81\n",
      "130,   202,    82,10000010, 82\n",
      "131,   203,    83,10000011, 83\n",
      "132,   204,    84,10000100, 84\n",
      "133,   205,    85,10000101, 85\n",
      "134,   206,    86,10000110, 86\n",
      "135,   207,    87,10000111, 87\n",
      "136,   210,    88,10001000, 88\n",
      "137,   211,    89,10001001, 89\n",
      "138,   212,    8a,10001010, 8a\n",
      "139,   213,    8b,10001011, 8b\n",
      "140,   214,    8c,10001100, 8c\n",
      "141,   215,    8d,10001101, 8d\n",
      "142,   216,    8e,10001110, 8e\n",
      "143,   217,    8f,10001111, 8f\n",
      "144,   220,    90,10010000, 90\n",
      "145,   221,    91,10010001, 91\n",
      "146,   222,    92,10010010, 92\n",
      "147,   223,    93,10010011, 93\n",
      "148,   224,    94,10010100, 94\n",
      "149,   225,    95,10010101, 95\n",
      "150,   226,    96,10010110, 96\n",
      "151,   227,    97,10010111, 97\n",
      "152,   230,    98,10011000, 98\n",
      "153,   231,    99,10011001, 99\n",
      "154,   232,    9a,10011010, 9a\n",
      "155,   233,    9b,10011011, 9b\n",
      "156,   234,    9c,10011100, 9c\n",
      "157,   235,    9d,10011101, 9d\n",
      "158,   236,    9e,10011110, 9e\n",
      "159,   237,    9f,10011111, 9f\n",
      "160,   240,    a0,10100000, a0\n",
      "161,   241,    a1,10100001, a1\n",
      "162,   242,    a2,10100010, a2\n",
      "163,   243,    a3,10100011, a3\n",
      "164,   244,    a4,10100100, a4\n",
      "165,   245,    a5,10100101, a5\n",
      "166,   246,    a6,10100110, a6\n",
      "167,   247,    a7,10100111, a7\n",
      "168,   250,    a8,10101000, a8\n",
      "169,   251,    a9,10101001, a9\n",
      "170,   252,    aa,10101010, aa\n",
      "171,   253,    ab,10101011, ab\n",
      "172,   254,    ac,10101100, ac\n",
      "173,   255,    ad,10101101, ad\n",
      "174,   256,    ae,10101110, ae\n",
      "175,   257,    af,10101111, af\n",
      "176,   260,    b0,10110000, b0\n",
      "177,   261,    b1,10110001, b1\n",
      "178,   262,    b2,10110010, b2\n",
      "179,   263,    b3,10110011, b3\n",
      "180,   264,    b4,10110100, b4\n",
      "181,   265,    b5,10110101, b5\n",
      "182,   266,    b6,10110110, b6\n",
      "183,   267,    b7,10110111, b7\n",
      "184,   270,    b8,10111000, b8\n",
      "185,   271,    b9,10111001, b9\n",
      "186,   272,    ba,10111010, ba\n",
      "187,   273,    bb,10111011, bb\n",
      "188,   274,    bc,10111100, bc\n",
      "189,   275,    bd,10111101, bd\n",
      "190,   276,    be,10111110, be\n",
      "191,   277,    bf,10111111, bf\n",
      "192,   300,    c0,11000000, c0\n",
      "193,   301,    c1,11000001, c1\n",
      "194,   302,    c2,11000010, c2\n",
      "195,   303,    c3,11000011, c3\n",
      "196,   304,    c4,11000100, c4\n",
      "197,   305,    c5,11000101, c5\n",
      "198,   306,    c6,11000110, c6\n",
      "199,   307,    c7,11000111, c7\n",
      "200,   310,    c8,11001000, c8\n",
      "201,   311,    c9,11001001, c9\n",
      "202,   312,    ca,11001010, ca\n",
      "203,   313,    cb,11001011, cb\n",
      "204,   314,    cc,11001100, cc\n",
      "205,   315,    cd,11001101, cd\n",
      "206,   316,    ce,11001110, ce\n",
      "207,   317,    cf,11001111, cf\n",
      "208,   320,    d0,11010000, d0\n",
      "209,   321,    d1,11010001, d1\n",
      "210,   322,    d2,11010010, d2\n",
      "211,   323,    d3,11010011, d3\n",
      "212,   324,    d4,11010100, d4\n",
      "213,   325,    d5,11010101, d5\n",
      "214,   326,    d6,11010110, d6\n",
      "215,   327,    d7,11010111, d7\n",
      "216,   330,    d8,11011000, d8\n",
      "217,   331,    d9,11011001, d9\n",
      "218,   332,    da,11011010, da\n",
      "219,   333,    db,11011011, db\n",
      "220,   334,    dc,11011100, dc\n",
      "221,   335,    dd,11011101, dd\n",
      "222,   336,    de,11011110, de\n",
      "223,   337,    df,11011111, df\n",
      "224,   340,    e0,11100000, e0\n",
      "225,   341,    e1,11100001, e1\n",
      "226,   342,    e2,11100010, e2\n",
      "227,   343,    e3,11100011, e3\n",
      "228,   344,    e4,11100100, e4\n",
      "229,   345,    e5,11100101, e5\n",
      "230,   346,    e6,11100110, e6\n",
      "231,   347,    e7,11100111, e7\n",
      "232,   350,    e8,11101000, e8\n",
      "233,   351,    e9,11101001, e9\n",
      "234,   352,    ea,11101010, ea\n",
      "235,   353,    eb,11101011, eb\n",
      "236,   354,    ec,11101100, ec\n",
      "237,   355,    ed,11101101, ed\n",
      "238,   356,    ee,11101110, ee\n",
      "239,   357,    ef,11101111, ef\n",
      "240,   360,    f0,11110000, f0\n",
      "241,   361,    f1,11110001, f1\n",
      "242,   362,    f2,11110010, f2\n",
      "243,   363,    f3,11110011, f3\n",
      "244,   364,    f4,11110100, f4\n",
      "245,   365,    f5,11110101, f5\n",
      "246,   366,    f6,11110110, f6\n",
      "247,   367,    f7,11110111, f7\n",
      "248,   370,    f8,11111000, f8\n",
      "249,   371,    f9,11111001, f9\n",
      "250,   372,    fa,11111010, fa\n",
      "251,   373,    fb,11111011, fb\n",
      "252,   374,    fc,11111100, fc\n",
      "253,   375,    fd,11111101, fd\n",
      "254,   376,    fe,11111110, fe\n",
      "255,   377,    ff,11111111, ff\n"
     ]
    }
   ],
   "source": [
    "for i in range(256):\n",
    "    print(f'{i:3},{i:6o},{i:6x},{i:8b},{i:3x}')"
   ]
  },
  {
   "cell_type": "markdown",
   "metadata": {},
   "source": [
    "6.4 简答题\n",
    "请写以下三个符号的 ⼗六进制 (hex) ASCII 编码： a 、 A 、 0 。"
   ]
  },
  {
   "cell_type": "code",
   "execution_count": 21,
   "metadata": {},
   "outputs": [
    {
     "ename": "SyntaxError",
     "evalue": "unexpected character after line continuation character (<ipython-input-21-9bb531d08da5>, line 3)",
     "output_type": "error",
     "traceback": [
      "\u001b[1;36m  File \u001b[1;32m\"<ipython-input-21-9bb531d08da5>\"\u001b[1;36m, line \u001b[1;32m3\u001b[0m\n\u001b[1;33m    \\x61\u001b[0m\n\u001b[1;37m        ^\u001b[0m\n\u001b[1;31mSyntaxError\u001b[0m\u001b[1;31m:\u001b[0m unexpected character after line continuation character\n"
     ]
    }
   ],
   "source": [
    "s='\\x61、\\x41、\\x30'\n",
    "print(s)"
   ]
  },
  {
   "cell_type": "markdown",
   "metadata": {},
   "source": [
    "#### 6.5 简答题\n",
    "\n",
    "请⽤ 短字符串 和 转义符 在终端 print 出 Please type '\\t' or \"<TAB>\" 。"
   ]
  },
  {
   "cell_type": "code",
   "execution_count": 156,
   "metadata": {},
   "outputs": [
    {
     "name": "stdout",
     "output_type": "stream",
     "text": [
      "Please type '\\t' or \"\"\n"
     ]
    }
   ],
   "source": [
    "s='Please type \\'\\\\t\\' or \"\"'\n",
    "print(s)"
   ]
  },
  {
   "cell_type": "markdown",
   "metadata": {},
   "source": [
    "#### 6.6 简答题\n",
    "请⽤ 短字符串 和 字⾯连接 在终端 print 出 He said \"Let's go!\". 。"
   ]
  },
  {
   "cell_type": "code",
   "execution_count": 170,
   "metadata": {},
   "outputs": [
    {
     "name": "stdout",
     "output_type": "stream",
     "text": [
      "He said \"Let's go!\"\n"
     ]
    }
   ],
   "source": [
    "s=('He said '\n",
    "'\\\"Let\\'s go!\\\"')\n",
    "print(s)"
   ]
  },
  {
   "cell_type": "markdown",
   "metadata": {},
   "source": [
    "#### 6.7 简答题\n",
    "⼆进制 (bin)、⼋进制 (oct)、⼗六进制 (hex) 整数 (int) 的字⾯值 (literal) 分别应该怎样书写？请分别举\n",
    "例。"
   ]
  },
  {
   "cell_type": "code",
   "execution_count": 223,
   "metadata": {},
   "outputs": [
    {
     "data": {
      "text/plain": [
       "42"
      ]
     },
     "execution_count": 223,
     "metadata": {},
     "output_type": "execute_result"
    },
    {
     "data": {
      "text/plain": [
       "240"
      ]
     },
     "execution_count": 223,
     "metadata": {},
     "output_type": "execute_result"
    },
    {
     "data": {
      "text/plain": [
       "42"
      ]
     },
     "execution_count": 223,
     "metadata": {},
     "output_type": "execute_result"
    },
    {
     "data": {
      "text/plain": [
       "240"
      ]
     },
     "execution_count": 223,
     "metadata": {},
     "output_type": "execute_result"
    },
    {
     "data": {
      "text/plain": [
       "42"
      ]
     },
     "execution_count": 223,
     "metadata": {},
     "output_type": "execute_result"
    },
    {
     "data": {
      "text/plain": [
       "42"
      ]
     },
     "execution_count": 223,
     "metadata": {},
     "output_type": "execute_result"
    },
    {
     "data": {
      "text/plain": [
       "240"
      ]
     },
     "execution_count": 223,
     "metadata": {},
     "output_type": "execute_result"
    }
   ],
   "source": [
    "#⼆进制整数以 0b 开头，其后只允许 [01]，以及单下划线：\n",
    "0b101010#42\n",
    "0b11_110_000#240\n",
    "#⼋进制整数以 0o 开头，其后只允许 [0-7]，以及单下划线：\n",
    "0o52#42\n",
    "0o3_6_0#240\n",
    "#⼗六进制整数以 0x 开头，其后只允许 [0-9A-Fa-f] (不区分⼤⼩写)，以及单下划线：\n",
    "0x2a#42\n",
    "0x2A#42\n",
    "0xF_0#240"
   ]
  },
  {
   "cell_type": "markdown",
   "metadata": {},
   "source": [
    "#### 6.8 简答题\n",
    "\n",
    "浮点数 (float) 有哪两种字⾯值 (literal) 书写⽅法？请分别举例。"
   ]
  },
  {
   "cell_type": "markdown",
   "metadata": {},
   "source": [
    "#浮点数 (float) 通常⽤来进⾏简单的数值计算\n",
    "\n",
    "<font color = red>其字⾯值有 浮点法 和 科学记数法 两种表示⽅法。"
   ]
  },
  {
   "cell_type": "markdown",
   "metadata": {},
   "source": [
    "##### 浮点法 (point)\n",
    "数字中有` . `就可以⽤浮点法表示浮点数，否则就不是浮点数⽽是整数："
   ]
  },
  {
   "cell_type": "code",
   "execution_count": 227,
   "metadata": {},
   "outputs": [
    {
     "data": {
      "text/plain": [
       "10.0"
      ]
     },
     "execution_count": 227,
     "metadata": {},
     "output_type": "execute_result"
    },
    {
     "data": {
      "text/plain": [
       "0.9"
      ]
     },
     "execution_count": 227,
     "metadata": {},
     "output_type": "execute_result"
    },
    {
     "data": {
      "text/plain": [
       "5.5"
      ]
     },
     "execution_count": 227,
     "metadata": {},
     "output_type": "execute_result"
    },
    {
     "data": {
      "text/plain": [
       "5.5"
      ]
     },
     "execution_count": 227,
     "metadata": {},
     "output_type": "execute_result"
    },
    {
     "data": {
      "text/plain": [
       "3.141593"
      ]
     },
     "execution_count": 227,
     "metadata": {},
     "output_type": "execute_result"
    }
   ],
   "source": [
    "10.\n",
    ".9\n",
    "005.500\n",
    "00_5.5_00\n",
    "3.14_15_93"
   ]
  },
  {
   "cell_type": "markdown",
   "metadata": {},
   "source": [
    "##### 科学记数法 (exponent)\n",
    "科学记数法⽤ `e` 或 `E `(不区分⼤⼩写) 表示乘以 10 的多少次幂，` e `前⾯的数被理解为浮点数， `e` 后⾯\n",
    "的数必须为整数。"
   ]
  },
  {
   "cell_type": "code",
   "execution_count": 232,
   "metadata": {},
   "outputs": [
    {
     "data": {
      "text/plain": [
       "1000000000.0"
      ]
     },
     "execution_count": 232,
     "metadata": {},
     "output_type": "execute_result"
    },
    {
     "data": {
      "text/plain": [
       "0.001"
      ]
     },
     "execution_count": 232,
     "metadata": {},
     "output_type": "execute_result"
    },
    {
     "data": {
      "text/plain": [
       "1230000.0"
      ]
     },
     "execution_count": 232,
     "metadata": {},
     "output_type": "execute_result"
    },
    {
     "data": {
      "text/plain": [
       "0.0"
      ]
     },
     "execution_count": 232,
     "metadata": {},
     "output_type": "execute_result"
    }
   ],
   "source": [
    "#e相当于x10^\n",
    "1e9\n",
    "1e-3\n",
    "12.3e5\n",
    "0e0"
   ]
  },
  {
   "cell_type": "markdown",
   "metadata": {},
   "source": [
    "#### 6.9 简答题\n",
    "什么是 ⽐特 (bit)？什么是 字节 (Byte)？他们之间的关系是什么？"
   ]
  },
  {
   "cell_type": "markdown",
   "metadata": {},
   "source": [
    "计算机根本上是⽤⼆进制 (bin) 来表示数据。\n",
    "⼀个 0/1 `最基本的信息单元`被称为 ⽐特 (bit)。连续的 8 个\n",
    "⽐特可以表示 256 种 (⼗进制) 不同状态 ( )，是最基本的`信息单位`，被称为 字节 (Byte)。\n",
    "\n",
    "按照\n",
    "约定，⽤ b 表示⽐特，⽤ B 表示字节\n",
    "\n",
    "\n",
    "PS:可以理解为bit是笔画，byte是汉字,且最少8笔一个字"
   ]
  },
  {
   "cell_type": "markdown",
   "metadata": {},
   "source": [
    "#### 6.10 简答题\n",
    "请写 Python 代码，展示整数 0~255 的⼗进制 (dec)、⼆进制 (bin)、⼋进制 (oct)、⼗六进制 (hex) 对照\n",
    "表。"
   ]
  },
  {
   "cell_type": "code",
   "execution_count": 258,
   "metadata": {},
   "outputs": [
    {
     "name": "stdout",
     "output_type": "stream",
     "text": [
      "十进制\t二进制 八进制 十六进制\n",
      "  0          0     0\t  0\n",
      "  1          1     1\t  1\n",
      "  2         10     2\t  2\n",
      "  3         11     3\t  3\n",
      "  4        100     4\t  4\n",
      "  5        101     5\t  5\n",
      "  6        110     6\t  6\n",
      "  7        111     7\t  7\n",
      "  8       1000    10\t  8\n",
      "  9       1001    11\t  9\n",
      " 10       1010    12\t  a\n",
      " 11       1011    13\t  b\n",
      " 12       1100    14\t  c\n",
      " 13       1101    15\t  d\n",
      " 14       1110    16\t  e\n",
      " 15       1111    17\t  f\n",
      " 16      10000    20\t 10\n",
      " 17      10001    21\t 11\n",
      " 18      10010    22\t 12\n",
      " 19      10011    23\t 13\n",
      " 20      10100    24\t 14\n",
      " 21      10101    25\t 15\n",
      " 22      10110    26\t 16\n",
      " 23      10111    27\t 17\n",
      " 24      11000    30\t 18\n",
      " 25      11001    31\t 19\n",
      " 26      11010    32\t 1a\n",
      " 27      11011    33\t 1b\n",
      " 28      11100    34\t 1c\n",
      " 29      11101    35\t 1d\n",
      " 30      11110    36\t 1e\n",
      " 31      11111    37\t 1f\n",
      " 32     100000    40\t 20\n",
      " 33     100001    41\t 21\n",
      " 34     100010    42\t 22\n",
      " 35     100011    43\t 23\n",
      " 36     100100    44\t 24\n",
      " 37     100101    45\t 25\n",
      " 38     100110    46\t 26\n",
      " 39     100111    47\t 27\n",
      " 40     101000    50\t 28\n",
      " 41     101001    51\t 29\n",
      " 42     101010    52\t 2a\n",
      " 43     101011    53\t 2b\n",
      " 44     101100    54\t 2c\n",
      " 45     101101    55\t 2d\n",
      " 46     101110    56\t 2e\n",
      " 47     101111    57\t 2f\n",
      " 48     110000    60\t 30\n",
      " 49     110001    61\t 31\n",
      " 50     110010    62\t 32\n",
      " 51     110011    63\t 33\n",
      " 52     110100    64\t 34\n",
      " 53     110101    65\t 35\n",
      " 54     110110    66\t 36\n",
      " 55     110111    67\t 37\n",
      " 56     111000    70\t 38\n",
      " 57     111001    71\t 39\n",
      " 58     111010    72\t 3a\n",
      " 59     111011    73\t 3b\n",
      " 60     111100    74\t 3c\n",
      " 61     111101    75\t 3d\n",
      " 62     111110    76\t 3e\n",
      " 63     111111    77\t 3f\n",
      " 64    1000000   100\t 40\n",
      " 65    1000001   101\t 41\n",
      " 66    1000010   102\t 42\n",
      " 67    1000011   103\t 43\n",
      " 68    1000100   104\t 44\n",
      " 69    1000101   105\t 45\n",
      " 70    1000110   106\t 46\n",
      " 71    1000111   107\t 47\n",
      " 72    1001000   110\t 48\n",
      " 73    1001001   111\t 49\n",
      " 74    1001010   112\t 4a\n",
      " 75    1001011   113\t 4b\n",
      " 76    1001100   114\t 4c\n",
      " 77    1001101   115\t 4d\n",
      " 78    1001110   116\t 4e\n",
      " 79    1001111   117\t 4f\n",
      " 80    1010000   120\t 50\n",
      " 81    1010001   121\t 51\n",
      " 82    1010010   122\t 52\n",
      " 83    1010011   123\t 53\n",
      " 84    1010100   124\t 54\n",
      " 85    1010101   125\t 55\n",
      " 86    1010110   126\t 56\n",
      " 87    1010111   127\t 57\n",
      " 88    1011000   130\t 58\n",
      " 89    1011001   131\t 59\n",
      " 90    1011010   132\t 5a\n",
      " 91    1011011   133\t 5b\n",
      " 92    1011100   134\t 5c\n",
      " 93    1011101   135\t 5d\n",
      " 94    1011110   136\t 5e\n",
      " 95    1011111   137\t 5f\n",
      " 96    1100000   140\t 60\n",
      " 97    1100001   141\t 61\n",
      " 98    1100010   142\t 62\n",
      " 99    1100011   143\t 63\n",
      "100    1100100   144\t 64\n",
      "101    1100101   145\t 65\n",
      "102    1100110   146\t 66\n",
      "103    1100111   147\t 67\n",
      "104    1101000   150\t 68\n",
      "105    1101001   151\t 69\n",
      "106    1101010   152\t 6a\n",
      "107    1101011   153\t 6b\n",
      "108    1101100   154\t 6c\n",
      "109    1101101   155\t 6d\n",
      "110    1101110   156\t 6e\n",
      "111    1101111   157\t 6f\n",
      "112    1110000   160\t 70\n",
      "113    1110001   161\t 71\n",
      "114    1110010   162\t 72\n",
      "115    1110011   163\t 73\n",
      "116    1110100   164\t 74\n",
      "117    1110101   165\t 75\n",
      "118    1110110   166\t 76\n",
      "119    1110111   167\t 77\n",
      "120    1111000   170\t 78\n",
      "121    1111001   171\t 79\n",
      "122    1111010   172\t 7a\n",
      "123    1111011   173\t 7b\n",
      "124    1111100   174\t 7c\n",
      "125    1111101   175\t 7d\n",
      "126    1111110   176\t 7e\n",
      "127    1111111   177\t 7f\n",
      "128   10000000   200\t 80\n",
      "129   10000001   201\t 81\n",
      "130   10000010   202\t 82\n",
      "131   10000011   203\t 83\n",
      "132   10000100   204\t 84\n",
      "133   10000101   205\t 85\n",
      "134   10000110   206\t 86\n",
      "135   10000111   207\t 87\n",
      "136   10001000   210\t 88\n",
      "137   10001001   211\t 89\n",
      "138   10001010   212\t 8a\n",
      "139   10001011   213\t 8b\n",
      "140   10001100   214\t 8c\n",
      "141   10001101   215\t 8d\n",
      "142   10001110   216\t 8e\n",
      "143   10001111   217\t 8f\n",
      "144   10010000   220\t 90\n",
      "145   10010001   221\t 91\n",
      "146   10010010   222\t 92\n",
      "147   10010011   223\t 93\n",
      "148   10010100   224\t 94\n",
      "149   10010101   225\t 95\n",
      "150   10010110   226\t 96\n",
      "151   10010111   227\t 97\n",
      "152   10011000   230\t 98\n",
      "153   10011001   231\t 99\n",
      "154   10011010   232\t 9a\n",
      "155   10011011   233\t 9b\n",
      "156   10011100   234\t 9c\n",
      "157   10011101   235\t 9d\n",
      "158   10011110   236\t 9e\n",
      "159   10011111   237\t 9f\n",
      "160   10100000   240\t a0\n",
      "161   10100001   241\t a1\n",
      "162   10100010   242\t a2\n",
      "163   10100011   243\t a3\n",
      "164   10100100   244\t a4\n",
      "165   10100101   245\t a5\n",
      "166   10100110   246\t a6\n",
      "167   10100111   247\t a7\n",
      "168   10101000   250\t a8\n",
      "169   10101001   251\t a9\n",
      "170   10101010   252\t aa\n",
      "171   10101011   253\t ab\n",
      "172   10101100   254\t ac\n",
      "173   10101101   255\t ad\n",
      "174   10101110   256\t ae\n",
      "175   10101111   257\t af\n",
      "176   10110000   260\t b0\n",
      "177   10110001   261\t b1\n",
      "178   10110010   262\t b2\n",
      "179   10110011   263\t b3\n",
      "180   10110100   264\t b4\n",
      "181   10110101   265\t b5\n",
      "182   10110110   266\t b6\n",
      "183   10110111   267\t b7\n",
      "184   10111000   270\t b8\n",
      "185   10111001   271\t b9\n",
      "186   10111010   272\t ba\n",
      "187   10111011   273\t bb\n",
      "188   10111100   274\t bc\n",
      "189   10111101   275\t bd\n",
      "190   10111110   276\t be\n",
      "191   10111111   277\t bf\n",
      "192   11000000   300\t c0\n",
      "193   11000001   301\t c1\n",
      "194   11000010   302\t c2\n",
      "195   11000011   303\t c3\n",
      "196   11000100   304\t c4\n",
      "197   11000101   305\t c5\n",
      "198   11000110   306\t c6\n",
      "199   11000111   307\t c7\n",
      "200   11001000   310\t c8\n",
      "201   11001001   311\t c9\n",
      "202   11001010   312\t ca\n",
      "203   11001011   313\t cb\n",
      "204   11001100   314\t cc\n",
      "205   11001101   315\t cd\n",
      "206   11001110   316\t ce\n",
      "207   11001111   317\t cf\n",
      "208   11010000   320\t d0\n",
      "209   11010001   321\t d1\n",
      "210   11010010   322\t d2\n",
      "211   11010011   323\t d3\n",
      "212   11010100   324\t d4\n",
      "213   11010101   325\t d5\n",
      "214   11010110   326\t d6\n",
      "215   11010111   327\t d7\n",
      "216   11011000   330\t d8\n",
      "217   11011001   331\t d9\n",
      "218   11011010   332\t da\n",
      "219   11011011   333\t db\n",
      "220   11011100   334\t dc\n",
      "221   11011101   335\t dd\n",
      "222   11011110   336\t de\n",
      "223   11011111   337\t df\n",
      "224   11100000   340\t e0\n",
      "225   11100001   341\t e1\n",
      "226   11100010   342\t e2\n",
      "227   11100011   343\t e3\n",
      "228   11100100   344\t e4\n",
      "229   11100101   345\t e5\n",
      "230   11100110   346\t e6\n",
      "231   11100111   347\t e7\n",
      "232   11101000   350\t e8\n",
      "233   11101001   351\t e9\n",
      "234   11101010   352\t ea\n",
      "235   11101011   353\t eb\n",
      "236   11101100   354\t ec\n",
      "237   11101101   355\t ed\n",
      "238   11101110   356\t ee\n",
      "239   11101111   357\t ef\n",
      "240   11110000   360\t f0\n",
      "241   11110001   361\t f1\n",
      "242   11110010   362\t f2\n",
      "243   11110011   363\t f3\n",
      "244   11110100   364\t f4\n",
      "245   11110101   365\t f5\n",
      "246   11110110   366\t f6\n",
      "247   11110111   367\t f7\n",
      "248   11111000   370\t f8\n",
      "249   11111001   371\t f9\n",
      "250   11111010   372\t fa\n",
      "251   11111011   373\t fb\n",
      "252   11111100   374\t fc\n",
      "253   11111101   375\t fd\n",
      "254   11111110   376\t fe\n",
      "255   11111111   377\t ff\n"
     ]
    }
   ],
   "source": [
    "print(\"十进制\\t二进制 八进制 十六进制\")\n",
    "for i in range(256):\n",
    "    print(f'{i:3}   {i:8b}   {i:3o}\\t{i:3x}')\n"
   ]
  },
  {
   "cell_type": "markdown",
   "metadata": {},
   "source": [
    "#### 6.11 简答题\n",
    "请简述你对 `序列化 (serialize)`、`反序列化 (deserialize)` 和`编码 (encode)`、`解码 (decode)` 的理解。\n",
    "6.12"
   ]
  },
  {
   "cell_type": "markdown",
   "metadata": {},
   "source": [
    "当计算机要把内存中的任何信息 (如视频、⾳频、图⽚，也包括 字符串) 进⾏存储 (⾄磁盘) 或交换 (⾄互联⽹) 时，都要经过 `序列化 (serialize)` 和 `编码 (encode)`，将其转化为 `字节串 (bytes)`。\n",
    "当计算机 (从磁盘) 读取或 (从互联⽹) 收到字节串，都可以经过` 解码 (decode)` 和 `反序列化`\n",
    "(deserialize)，将其转化为内存中的相应`信息`。"
   ]
  },
  {
   "cell_type": "markdown",
   "metadata": {},
   "source": [
    "<font size= 3 color=red>理解："
   ]
  },
  {
   "cell_type": "markdown",
   "metadata": {},
   "source": [
    "视频之类的内存中的我们人类可以直接看到的信息并不能在计算机之间很好的传输。\n",
    "\n",
    "传输过程中计算机会先通过序列化将任何信息先转化成标准类型序列消息，然后通过编码将其转化为计算机之间可以很好传输的字节序列进行传输。传输接收方接受后可以解码成相应的信息，再呈现给接收方观看。\n",
    "\n",
    "可以理解英译中过程为先将英文信息（word之类的）转化成标准的英文论文格式，然后将论文变成二进制编码的形式，通过计算机之间传输，在客机接收到并解码之后再反序列化转换成中文格式的论文，供我们阅读。"
   ]
  },
  {
   "cell_type": "markdown",
   "metadata": {},
   "source": [
    "#### 6.12 简答题\n",
    "请简述 字符串 (str) 与 字节串 (bytes) 的区别和联系。"
   ]
  },
  {
   "cell_type": "markdown",
   "metadata": {},
   "source": [
    "当计算机要把内存中的任何信息 (如视频、⾳频、图⽚，也包括 字符串) 进⾏存储 (⾄磁盘) 或交换 (⾄互\n",
    "联⽹) 时，都要经过 `序列化 (serialize)` 和 `编码 (encode)`，将其转化为` 字节串`(bytes)。\n",
    "当计算机 (从磁盘) 读取或 (从互联⽹) 收到字节串，都可以经过` 解码 (decode)` 和 `反序列化`\n",
    "(deserialize)，将其转化为内存中的相应信息。\n",
    "\n",
    "字符串可以通过encode变成字节串，字节串可以通过decode变成字符串\n",
    "\n",
    "字符串本身就是序列，不需要序列化"
   ]
  },
  {
   "cell_type": "code",
   "execution_count": 309,
   "metadata": {},
   "outputs": [
    {
     "data": {
      "text/plain": [
       "'b\\\\u006fx'"
      ]
     },
     "execution_count": 309,
     "metadata": {},
     "output_type": "execute_result"
    },
    {
     "data": {
      "text/plain": [
       "b'box'"
      ]
     },
     "execution_count": 309,
     "metadata": {},
     "output_type": "execute_result"
    }
   ],
   "source": [
    "b'b\\u006fx'.decode('utf-8')\n",
    "'b\\u006fx'.encode('utf-8')"
   ]
  },
  {
   "cell_type": "markdown",
   "metadata": {},
   "source": [
    "#### 6.13 简答题\n",
    "请列举并简述你所了解的⼀些传统 字符编码 (encoding) 以及现在最流⾏最通⽤的字符编码。"
   ]
  },
  {
   "cell_type": "markdown",
   "metadata": {},
   "source": [
    "是美国首先出台了ASCII编码（读音：/ˈæski/），统一规定了常用符号用哪些二进制数来表示\n",
    "\n",
    "再后来呢，这套编码表传入欧洲，发现这128位不够用(比如说法语字母上面还有注音符),因此欧洲普遍使用一个全字节（8个比特位）进行编码，最多可表示256位，至此，一个字节用满了\n",
    "\n",
    "但是前面的状态0-127位可以共用，但从状态128到255这一段的解释就完全乱套了(比如135在法语，希伯来语，俄语编码中完全是不同的符号。)\n",
    "\n",
    "当计算机漂洋过海来到中国后，问题又来了，计算机完全不认识博大精深的中文，当然也没法显示中文；而且一个字节的256位都被占满了，但中国有10万多个汉字\n",
    "\n",
    "中国科学家自力更生，重写了一张编码表，也就是GB2312，它用2个字节，也就是16个比特位，来表示绝大部分（65535个）常用汉字。后来，为了能显示更多的中文，又出台了GBK标准。\n",
    "\n",
    "为了沟通的便利，Unicode（万国码）应运而生，这套编码表将世界上所有的符号都纳入其中。每个符号都有一个独一无二的编码，现在Unicode可以容纳100多万个符号，所有语言都可以互通，一个网页上也可以显示多国语言。"
   ]
  },
  {
   "cell_type": "markdown",
   "metadata": {},
   "source": [
    "中国国标的\n",
    "编码是 gb2312，其扩展有 gbk  和 gb18030\n",
    "简体中⽂ Windows 系统的默认编码是 gbk ，也叫 cp936 。港澳台地区使⽤的繁体中⽂ Windows 系\n",
    "统的默认编码是 big5，也叫 cp950 。英⽂ Windows 系统的默认编码是 windows-\n",
    "1252 。 utf-8 是现在最流⾏和最通⽤的⼀种 Unicode 编码 9 ，其他 Unicode 编码\n",
    "还有 utf-16 、 utf-16be 、 urf-16le 等等。"
   ]
  },
  {
   "cell_type": "markdown",
   "metadata": {},
   "source": [
    "#### 6.14 简答题\n",
    "如何把给定的 字符串 (str) 转换成某 编码 (encoding) 所对应的 字节串 (bytes)？"
   ]
  },
  {
   "cell_type": "markdown",
   "metadata": {},
   "source": [
    "#### 用.encode属性，括号内选择编码方式"
   ]
  },
  {
   "cell_type": "code",
   "execution_count": 346,
   "metadata": {
    "scrolled": true
   },
   "outputs": [
    {
     "data": {
      "text/plain": [
       "'68656c6c6f'"
      ]
     },
     "execution_count": 346,
     "metadata": {},
     "output_type": "execute_result"
    },
    {
     "data": {
      "text/plain": [
       "b'hello'"
      ]
     },
     "execution_count": 346,
     "metadata": {},
     "output_type": "execute_result"
    },
    {
     "data": {
      "text/plain": [
       "b'68656c6c6f'"
      ]
     },
     "execution_count": 346,
     "metadata": {},
     "output_type": "execute_result"
    },
    {
     "data": {
      "text/plain": [
       "b'68656c6c6f'"
      ]
     },
     "execution_count": 346,
     "metadata": {},
     "output_type": "execute_result"
    },
    {
     "data": {
      "text/plain": [
       "'68656c6c6f'"
      ]
     },
     "execution_count": 346,
     "metadata": {},
     "output_type": "execute_result"
    }
   ],
   "source": [
    "b'hello'.hex()\n",
    "bytes.fromhex('68656c6c6f')\n",
    "'68656c6c6f'.encode('utf-8')\n",
    "'68656c6c6f'.encode('gbk')\n",
    "b'68656c6c6f'.decode('utf-8')"
   ]
  },
  {
   "cell_type": "code",
   "execution_count": 358,
   "metadata": {},
   "outputs": [
    {
     "data": {
      "text/plain": [
       "b'hello\\xc4\\xe3\\xba\\xc3'"
      ]
     },
     "execution_count": 358,
     "metadata": {},
     "output_type": "execute_result"
    },
    {
     "data": {
      "text/plain": [
       "b'hello\\xc4\\xe3\\xba\\xc3'"
      ]
     },
     "execution_count": 358,
     "metadata": {},
     "output_type": "execute_result"
    },
    {
     "data": {
      "text/plain": [
       "b'hello\\xc4\\xe3\\xba\\xc3'"
      ]
     },
     "execution_count": 358,
     "metadata": {},
     "output_type": "execute_result"
    },
    {
     "data": {
      "text/plain": [
       "b'hello\\xc4\\xe3\\xba\\xc3'"
      ]
     },
     "execution_count": 358,
     "metadata": {},
     "output_type": "execute_result"
    },
    {
     "data": {
      "text/plain": [
       "b'hello\\xa7A\\xa6n'"
      ]
     },
     "execution_count": 358,
     "metadata": {},
     "output_type": "execute_result"
    },
    {
     "data": {
      "text/plain": [
       "b'hello\\xe4\\xbd\\xa0\\xe5\\xa5\\xbd'"
      ]
     },
     "execution_count": 358,
     "metadata": {},
     "output_type": "execute_result"
    },
    {
     "data": {
      "text/plain": [
       "b'\\xff\\xfeh\\x00e\\x00l\\x00l\\x00o\\x00`O}Y'"
      ]
     },
     "execution_count": 358,
     "metadata": {},
     "output_type": "execute_result"
    },
    {
     "data": {
      "text/plain": [
       "b'\\x00h\\x00e\\x00l\\x00l\\x00oO`Y}'"
      ]
     },
     "execution_count": 358,
     "metadata": {},
     "output_type": "execute_result"
    },
    {
     "data": {
      "text/plain": [
       "b'h\\x00e\\x00l\\x00l\\x00o\\x00`O}Y'"
      ]
     },
     "execution_count": 358,
     "metadata": {},
     "output_type": "execute_result"
    }
   ],
   "source": [
    ">>> s = 'hello你好'\n",
    ">>> s.encode('gb2312')\n",
    ">>> s.encode('gbk')\n",
    ">>> s.encode('gb18030')\n",
    ">>> s.encode('cp936')\n",
    ">>> s.encode('big5')\n",
    "#>>> s.encode('windows-1252')\n",
    ">>> s.encode('utf-8')\n",
    ">>> s.encode('utf-16')\n",
    ">>> s.encode('utf-16be')\n",
    ">>> s.encode('utf-16le')\n"
   ]
  },
  {
   "cell_type": "markdown",
   "metadata": {},
   "source": [
    "#### 6.15 简答题\n",
    "简述 字节串 (bytes) 字⾯值 (literal) 与 字符串 (str) 字⾯值 (literal) 在书写时的⼏点关键不同。"
   ]
  },
  {
   "cell_type": "markdown",
   "metadata": {},
   "source": [
    "字节串 (bytes) 的字⾯值与字符串 (str) 的字⾯值⼗分相近，（他们都可以直接展现成我们可以直接观看的形式），书写⽅法⾮常类似，有以下⼏点关键不同："
   ]
  },
  {
   "cell_type": "markdown",
   "metadata": {},
   "source": [
    "1. 在引号前加 b 前缀是字节串 (bytes)，不加 b 前缀是字符串 (str)："
   ]
  },
  {
   "cell_type": "code",
   "execution_count": 347,
   "metadata": {},
   "outputs": [
    {
     "data": {
      "text/plain": [
       "b'First, come.\\nThen, go.'"
      ]
     },
     "execution_count": 347,
     "metadata": {},
     "output_type": "execute_result"
    },
    {
     "data": {
      "text/plain": [
       "'First, come.\\nThen, go.'"
      ]
     },
     "execution_count": 347,
     "metadata": {},
     "output_type": "execute_result"
    }
   ],
   "source": [
    "b\"\"\"First, come.\n",
    "... Then, go.\"\"\"\n",
    "\"\"\"First, come.\n",
    "... Then, go.\"\"\""
   ]
  },
  {
   "cell_type": "markdown",
   "metadata": {},
   "source": [
    "2. 字节串引号内不再可以包含任意 Unicode 字符（多国文字），⽽只能是 ASCII 字符："
   ]
  },
  {
   "cell_type": "code",
   "execution_count": 348,
   "metadata": {},
   "outputs": [
    {
     "data": {
      "text/plain": [
       "'你好'"
      ]
     },
     "execution_count": 348,
     "metadata": {},
     "output_type": "execute_result"
    }
   ],
   "source": [
    "#b'你好'\n",
    "s='你好'\n",
    "s"
   ]
  },
  {
   "cell_type": "markdown",
   "metadata": {},
   "source": [
    "3. 转义符 `\\` 可以继续使⽤，但 print 的时候不会被转义：(普通转义不可用，进制转义可用)"
   ]
  },
  {
   "cell_type": "code",
   "execution_count": 350,
   "metadata": {},
   "outputs": [
    {
     "name": "stdout",
     "output_type": "stream",
     "text": [
      "a\tb\n",
      "c\td\n",
      "b'a\\tb\\nc\\td'\n"
     ]
    }
   ],
   "source": [
    "s = 'a\\tb\\nc\\td'\n",
    "print(s)\n",
    "s = b'a\\tb\\nc\\td'\n",
    "print(s)"
   ]
  },
  {
   "cell_type": "markdown",
   "metadata": {},
   "source": [
    "4. ⼆进制、⼋进制、⼗六进制转义都可以继续使⽤，⼗六进制转义 是表达字节串的最推荐的⽅式："
   ]
  },
  {
   "cell_type": "code",
   "execution_count": 357,
   "metadata": {},
   "outputs": [
    {
     "data": {
      "text/plain": [
       "b'hello'"
      ]
     },
     "execution_count": 357,
     "metadata": {},
     "output_type": "execute_result"
    },
    {
     "data": {
      "text/plain": [
       "'hello'"
      ]
     },
     "execution_count": 357,
     "metadata": {},
     "output_type": "execute_result"
    },
    {
     "data": {
      "text/plain": [
       "'hello，hello'"
      ]
     },
     "execution_count": 357,
     "metadata": {},
     "output_type": "execute_result"
    }
   ],
   "source": [
    "b'\\x68\\x65\\x6c\\x6c\\x6f'\n",
    "b'\\x68\\x65\\x6c\\x6c\\x6f'.decode('utf-8')\n",
    "s='\\x68\\x65\\x6c\\x6c\\x6f，hello'\n",
    "s"
   ]
  },
  {
   "cell_type": "code",
   "execution_count": 352,
   "metadata": {},
   "outputs": [
    {
     "data": {
      "text/plain": [
       "'a\\tb'"
      ]
     },
     "execution_count": 352,
     "metadata": {},
     "output_type": "execute_result"
    }
   ],
   "source": [
    "s='\\x61\\x09\\x62'\n",
    "s"
   ]
  },
  {
   "cell_type": "markdown",
   "metadata": {},
   "source": [
    "5. Unicode 转义 \\u 和 \\U ⽆效："
   ]
  },
  {
   "cell_type": "code",
   "execution_count": 353,
   "metadata": {},
   "outputs": [
    {
     "data": {
      "text/plain": [
       "'b\\\\u006fx'"
      ]
     },
     "execution_count": 353,
     "metadata": {},
     "output_type": "execute_result"
    },
    {
     "data": {
      "text/plain": [
       "b'box'"
      ]
     },
     "execution_count": 353,
     "metadata": {},
     "output_type": "execute_result"
    }
   ],
   "source": [
    "b'b\\u006fx'.decode('utf-8')\n",
    "'b\\u006fx'.encode('utf-8')"
   ]
  },
  {
   "cell_type": "markdown",
   "metadata": {},
   "source": [
    "#### 6.16 简答题\n",
    "如何得到 字节串 (bytes) 实例所对应的⽤ ⼗六进制 (hex) 所表示的 字符串 (str)？请举例。"
   ]
  },
  {
   "cell_type": "markdown",
   "metadata": {},
   "source": [
    "#### 使用.hex()属性"
   ]
  },
  {
   "cell_type": "code",
   "execution_count": 3,
   "metadata": {},
   "outputs": [
    {
     "data": {
      "text/plain": [
       "str"
      ]
     },
     "execution_count": 3,
     "metadata": {},
     "output_type": "execute_result"
    }
   ],
   "source": [
    "b = 'hello'\n",
    "#b.encode('utf-8')#.decode('utf-8')\n",
    "b = b'hello'\n",
    "b.hex()\n",
    "#b.decode('utf-8')\n",
    "\n",
    "type(b.hex())"
   ]
  },
  {
   "cell_type": "markdown",
   "metadata": {},
   "source": [
    "调⽤字节串 bytes 类的\n",
    "fromhex 类⽅法 (class method)，传⼊⼗六进制表示的字符串参数，得到对应的字节串实例：`"
   ]
  },
  {
   "cell_type": "code",
   "execution_count": 385,
   "metadata": {},
   "outputs": [
    {
     "data": {
      "text/plain": [
       "b'hello'"
      ]
     },
     "execution_count": 385,
     "metadata": {},
     "output_type": "execute_result"
    }
   ],
   "source": [
    "bytes.fromhex('68656c6c6f')#.decode('utf-8')"
   ]
  },
  {
   "cell_type": "markdown",
   "metadata": {},
   "source": [
    "#### 6.17 简答题\n",
    "如何⽤给定 编码 (encoding) 对 字节串 (bytes) 进⾏解码 (decode) 从⽽得到其所代表的 字符串 (str)？\n",
    "请举例。"
   ]
  },
  {
   "cell_type": "code",
   "execution_count": 386,
   "metadata": {},
   "outputs": [
    {
     "data": {
      "text/plain": [
       "'hello'"
      ]
     },
     "execution_count": 386,
     "metadata": {},
     "output_type": "execute_result"
    }
   ],
   "source": [
    "b = b'hello'\n",
    "b.decode('utf-8')"
   ]
  },
  {
   "cell_type": "code",
   "execution_count": null,
   "metadata": {},
   "outputs": [],
   "source": []
  }
 ],
 "metadata": {
  "kernelspec": {
   "display_name": "Python 3",
   "language": "python",
   "name": "python3"
  },
  "language_info": {
   "codemirror_mode": {
    "name": "ipython",
    "version": 3
   },
   "file_extension": ".py",
   "mimetype": "text/x-python",
   "name": "python",
   "nbconvert_exporter": "python",
   "pygments_lexer": "ipython3",
   "version": "3.7.7"
  },
  "toc": {
   "base_numbering": 1,
   "nav_menu": {},
   "number_sections": true,
   "sideBar": true,
   "skip_h1_title": false,
   "title_cell": "Table of Contents",
   "title_sidebar": "Contents",
   "toc_cell": false,
   "toc_position": {},
   "toc_section_display": true,
   "toc_window_display": false
  },
  "varInspector": {
   "cols": {
    "lenName": 16,
    "lenType": 16,
    "lenVar": 40
   },
   "kernels_config": {
    "python": {
     "delete_cmd_postfix": "",
     "delete_cmd_prefix": "del ",
     "library": "var_list.py",
     "varRefreshCmd": "print(var_dic_list())"
    },
    "r": {
     "delete_cmd_postfix": ") ",
     "delete_cmd_prefix": "rm(",
     "library": "var_list.r",
     "varRefreshCmd": "cat(var_dic_list()) "
    }
   },
   "types_to_exclude": [
    "module",
    "function",
    "builtin_function_or_method",
    "instance",
    "_Feature"
   ],
   "window_display": false
  }
 },
 "nbformat": 4,
 "nbformat_minor": 4
}
