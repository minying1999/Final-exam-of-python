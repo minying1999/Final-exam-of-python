{
 "cells": [
  {
   "cell_type": "markdown",
   "metadata": {},
   "source": [
    "# 第 3 课 An Introductory Examp"
   ]
  },
  {
   "cell_type": "markdown",
   "metadata": {},
   "source": [
    "### <font color = red>2 简答题\n",
    "[在 Jupyter Notebook 中运⾏代码 `%matplotlib inline` 会有什么⽤？](https://www.baidu.com/s?ie=utf-8&f=8&rsv_bp=1&rsv_idx=1&tn=baidu&wd=%25matplotlib%20inline%20%E6%9C%89%E4%BB%80%E4%B9%88%E2%BD%A4&fenlei=256&oq=%25E8%25BF%2590%25E2%25BE%258F%25E4%25BB%25A3%25E7%25A0%2581%2520%2526lt%253Bmatplotlib%2520inline%2520%25E4%25BC%259A%25E6%259C%2589%25E4%25BB%2580%25E4%25B9%2588%25E2%25BD%25A4%253F&rsv_pq=986b7ee0001eb2bb&rsv_t=28a5Xdp%2BAiEB%2FbS2Ji1uskwceohzSSfgzxsjcx9%2Fikhwv137LIquPorxMG8&rqlang=cn&rsv_enter=0&rsv_dl=tb&rsv_btype=t&inputT=3230&rsv_sug3=9&rsv_sug4=4495)"
   ]
  },
  {
   "cell_type": "markdown",
   "metadata": {},
   "source": [
    "#### 答案1"
   ]
  },
  {
   "cell_type": "markdown",
   "metadata": {},
   "source": [
    "%matplotlib inline是一个单元导向(cell-oriented)魔法函数（Magic Functions）：%\n",
    "\n",
    "- 作用就是当我们调用plot()进行画图或者直接输入Figure的实例对象的时候，会自动的显示并把figure嵌入到控制台中。\n",
    "- 由于 %matplotlib inline 的存在，当输入plt.plot()后，不必再输入 plt.show()，图像将自动显示出来如果不加上%maplotlib inline 的话，每次figure的显示都需要plt.show();"
   ]
  },
  {
   "cell_type": "markdown",
   "metadata": {},
   "source": [
    "#### 答案2："
   ]
  },
  {
   "cell_type": "markdown",
   "metadata": {},
   "source": [
    "使用%matplotlib命令可以将matplotlib的图表直接嵌入到Notebook之中，或者使用指定的界面库显示图表，它有一个参数指定matplotlib图表的显示方式。inline表示将图表嵌入到Notebook中。"
   ]
  },
  {
   "cell_type": "markdown",
   "metadata": {},
   "source": [
    "### 3 简答题\n",
    "使⽤ numpy 程序包 (package) ⾥的函数计算根号二的数值为多少应该键⼊什么代码？\n"
   ]
  },
  {
   "cell_type": "code",
   "execution_count": 1,
   "metadata": {},
   "outputs": [
    {
     "data": {
      "text/plain": [
       "1.4142135623730951"
      ]
     },
     "execution_count": 1,
     "metadata": {},
     "output_type": "execute_result"
    }
   ],
   "source": [
    "import numpy as np\n",
    "np.sqrt(2)"
   ]
  },
  {
   "cell_type": "markdown",
   "metadata": {},
   "source": [
    "### <font color = red>4 简答题\n",
    "为什么 Python 程序中通常都要写许多 import 语句？\n"
   ]
  },
  {
   "cell_type": "markdown",
   "metadata": {},
   "source": [
    "答：\n",
    "\n",
    "原因是为了方便学习和维护，Python的自身的核心语言被刻意保持的很小，因而像用Python做一些追求特定功能的操作时，需要导入库来获取额外的功能。\n",
    "\n",
    "而且为了不让运行环境和空间被浪费，我们通常import库时值import那些我们需要的，这也是为了方便我们的使用。虽然频繁import很麻烦，但是相对于一次导入全部库而言，python会更加的精巧、优雅而快速\n"
   ]
  },
  {
   "cell_type": "markdown",
   "metadata": {},
   "source": [
    "###  <font color = red>5 简答题\n",
    "请解释你对 Python 程序包 (packages)、⼦程序包 (sub packages) 和模块 (modules) 的理解。\n"
   ]
  },
  {
   "cell_type": "markdown",
   "metadata": {},
   "source": [
    "- 程序包：开发人员使用包来组织他们希望共享的代码，包是一个目录，包含带有Python代码的文件——在Python中成为模块、一些可由python访问的已编译代码、和一个名为_init_.py的文件\n",
    "- 子程序包：子程序包是某一个程序包的子目录的程序包\n",
    "- 模块：带有python代码的文件，在python中成为模块"
   ]
  },
  {
   "cell_type": "markdown",
   "metadata": {},
   "source": [
    "### <font color = red>6 简答题\n",
    "对于 numpy 软件包 (package) 内的函数，例如 sqrt ，有两种不同的 import ⽅式和相应的两种不同的调⽤ (call) ⽅式。请以 sqrt 为例写出两种 import 和调⽤ (call) 的代码，并介绍两种⽅式各⾃的优缺点。\n"
   ]
  },
  {
   "cell_type": "markdown",
   "metadata": {},
   "source": [
    "### 答：\n",
    "1."
   ]
  },
  {
   "cell_type": "code",
   "execution_count": 3,
   "metadata": {},
   "outputs": [
    {
     "data": {
      "text/plain": [
       "1.4142135623730951"
      ]
     },
     "execution_count": 3,
     "metadata": {},
     "output_type": "execute_result"
    }
   ],
   "source": [
    "import numpy as np\n",
    "np.sqrt(2)"
   ]
  },
  {
   "cell_type": "markdown",
   "metadata": {},
   "source": [
    "2."
   ]
  },
  {
   "cell_type": "code",
   "execution_count": 5,
   "metadata": {},
   "outputs": [
    {
     "data": {
      "text/plain": [
       "1.4142135623730951"
      ]
     },
     "execution_count": 5,
     "metadata": {},
     "output_type": "execute_result"
    }
   ],
   "source": [
    "from numpy import sqrt\n",
    "sqrt(2)"
   ]
  },
  {
   "cell_type": "markdown",
   "metadata": {},
   "source": [
    "如果经常在代码中使用 sqrt，那么这样做的好处是减少了类型输入。\n",
    "\n",
    "缺点是，在长程序中，这两行可能被许多其他行分开，读者就很难知道 sqrt 是从哪里来的（其实不止numpy有sqrt,math.sqrt）\n",
    "\n",
    "#### 总结：\n",
    "频繁使用某一个特定的模块时直接import模块比较好，这样就不用每次都带上库的名字了；如果模块名可能产生歧义（同名不同功能）的话，（尤其在需要方便检查的长程序中）就不要使用了，带上库的名字方便认领[滑稽]。当然，短程序中其实区别不大，导入numpy的话还方便使用np的其他库"
   ]
  },
  {
   "cell_type": "markdown",
   "metadata": {},
   "source": [
    "### 7 简答题\n",
    "请解释以下代码有什么作⽤。"
   ]
  },
  {
   "cell_type": "code",
   "execution_count": 7,
   "metadata": {},
   "outputs": [],
   "source": [
    "import numpy as np \n",
    "ϵ_values = np.random.randn(100)\n"
   ]
  },
  {
   "cell_type": "markdown",
   "metadata": {},
   "source": [
    "#### 答："
   ]
  },
  {
   "cell_type": "markdown",
   "metadata": {},
   "source": [
    "生成100个(准)独立的标准法线并将它们存储在 ϵ_values中"
   ]
  },
  {
   "cell_type": "markdown",
   "metadata": {},
   "source": [
    "答·："
   ]
  },
  {
   "cell_type": "markdown",
   "metadata": {},
   "source": [
    "这不就随机产生100个服从正态分布的随机数吗~~~"
   ]
  },
  {
   "cell_type": "code",
   "execution_count": 10,
   "metadata": {},
   "outputs": [
    {
     "data": {
      "text/plain": [
       "array([-0.61974661, -1.8020772 , -0.20067397,  1.45166244,  0.49963685,\n",
       "        0.58666456, -1.58034038, -0.75854226, -0.80905947,  0.54600647])"
      ]
     },
     "execution_count": 10,
     "metadata": {},
     "output_type": "execute_result"
    }
   ],
   "source": [
    "np.random.randn(10)"
   ]
  },
  {
   "cell_type": "markdown",
   "metadata": {},
   "source": [
    "### 简答题\n",
    "对于代码 `x = [10, 'foo', False] `，变量` x` 将是什么类型？ `10` 是什么类型？ `'foo'` 是什么类\n",
    "型？ `False `是什么类型？"
   ]
  },
  {
   "cell_type": "markdown",
   "metadata": {},
   "source": [
    "#### 答："
   ]
  },
  {
   "cell_type": "markdown",
   "metadata": {},
   "source": [
    "x是列表，10是整数型，’foo’是字符串，False是布尔值"
   ]
  },
  {
   "cell_type": "markdown",
   "metadata": {},
   "source": [
    "### 9 简答题\n",
    "对于以下代码"
   ]
  },
  {
   "cell_type": "code",
   "execution_count": 12,
   "metadata": {},
   "outputs": [
    {
     "data": {
      "text/plain": [
       "10"
      ]
     },
     "execution_count": 12,
     "metadata": {},
     "output_type": "execute_result"
    }
   ],
   "source": [
    "x = [10, 'foo', False] \n",
    "x.pop(0)"
   ]
  },
  {
   "cell_type": "markdown",
   "metadata": {},
   "source": [
    "其中` pop `是什么？ `x.pop(0) `的返回值是什么？运⾏完后 `x `的值会是什么？"
   ]
  },
  {
   "cell_type": "markdown",
   "metadata": {},
   "source": [
    "\n",
    "- pop是弹出（现在列表x中已经没有索引0位置上的10了）\n",
    "\n",
    "- x.pop(0) 的返回值是10\n",
    "\n",
    "- 运行完后x是['foo', False]"
   ]
  },
  {
   "cell_type": "code",
   "execution_count": 14,
   "metadata": {},
   "outputs": [
    {
     "data": {
      "text/plain": [
       "['foo', False]"
      ]
     },
     "execution_count": 14,
     "metadata": {},
     "output_type": "execute_result"
    }
   ],
   "source": [
    "x"
   ]
  },
  {
   "cell_type": "markdown",
   "metadata": {},
   "source": [
    "### 10 简答题\n",
    "运⾏过代码` x = [10, 'foo', False] `之后，要访问列表` x `内的第 2 个元素 (item) `'foo'` ，应该键⼊什么代码？"
   ]
  },
  {
   "cell_type": "code",
   "execution_count": 15,
   "metadata": {},
   "outputs": [],
   "source": [
    "x = [10, 'foo', False]"
   ]
  },
  {
   "cell_type": "code",
   "execution_count": 16,
   "metadata": {},
   "outputs": [
    {
     "data": {
      "text/plain": [
       "'foo'"
      ]
     },
     "execution_count": 16,
     "metadata": {},
     "output_type": "execute_result"
    }
   ],
   "source": [
    "x[1]"
   ]
  },
  {
   "cell_type": "markdown",
   "metadata": {},
   "source": [
    "### <font color = red>11 简答题\n",
    "缩进 (indentation) 是 Python 语法的⼀个重要特点，请举例解释缩进 (indentation) 的概念、执⾏顺序、以及缩进 (indentation) 语法的好处。"
   ]
  },
  {
   "cell_type": "markdown",
   "metadata": {},
   "source": [
    "答：\n",
    "1. 缩进 (indentation) 的概念\n",
    "    - 1.缩进在Python中一般是有四个空格或者一个`<TaB>`表示,是python最具特色的特性之一\n",
    "\n",
    "    - 2.循环执行的代码段/块由缩进定界。\n",
    "\n",
    "    - 3.实际上，在Python中，所有代码块（即，发生在循环中的代码块，if子句，函数定义等code block）都由缩进分隔。因此，与大多数其他语言不同，Python 只通过缩进知道代码块的范围，而Python代码中的空格会影响程序的输出。\n",
    "            -或者说语句前面四个空格的缩进来表示隶属关系，python中不能随便缩进\n",
    "        \n",
    "        \n",
    "        \n"
   ]
  },
  {
   "cell_type": "markdown",
   "metadata": {},
   "source": [
    "2.执行顺序：\n",
    "- Python一般是顺序执行，遇到缩进会优先完成缩进界定得循环代码段，因而缩进很重要"
   ]
  },
  {
   "cell_type": "markdown",
   "metadata": {},
   "source": [
    "3. 好处是：\n",
    "    - 1、强制清洁，一致的压痕，提高可读性\n",
    "    - 2、消除混乱，例如其他语言中使用的方括号或结尾语句。代码块中的所有行都必须具有相同的缩进量。"
   ]
  },
  {
   "cell_type": "markdown",
   "metadata": {},
   "source": [
    "#### 12是一个很好的案例"
   ]
  },
  {
   "cell_type": "markdown",
   "metadata": {},
   "source": [
    "### <font color = red>12 简答题\n",
    "请说明以下代码"
   ]
  },
  {
   "cell_type": "code",
   "execution_count": 24,
   "metadata": {},
   "outputs": [
    {
     "name": "stdout",
     "output_type": "stream",
     "text": [
      "0\n",
      "1\n",
      "3\n",
      "6\n",
      "10\n"
     ]
    }
   ],
   "source": [
    "x = 0\n",
    "for i in range(5):\n",
    "    x = x + i\n",
    "    print(x)"
   ]
  },
  {
   "cell_type": "markdown",
   "metadata": {},
   "source": [
    "和以下代码"
   ]
  },
  {
   "cell_type": "code",
   "execution_count": 25,
   "metadata": {},
   "outputs": [
    {
     "name": "stdout",
     "output_type": "stream",
     "text": [
      "10\n"
     ]
    }
   ],
   "source": [
    "x = 0\n",
    "for i in range(5):\n",
    "    x = x + i\n",
    "print(x)"
   ]
  },
  {
   "cell_type": "markdown",
   "metadata": {},
   "source": [
    "的输出分别会是什么，为什么。"
   ]
  },
  {
   "cell_type": "markdown",
   "metadata": {},
   "source": [
    "### 答\n",
    "\n",
    "    分别是：\n",
    "    0\n",
    "    1\n",
    "    3\n",
    "    6\n",
    "    10\n",
    "\n",
    "    和\n",
    "\n",
    "    10"
   ]
  },
  {
   "cell_type": "markdown",
   "metadata": {},
   "source": [
    "因为一个程序中print有缩进，所以每次执行循环（执行块）都会执行一次print；第二个程序中print在循环外，按顺序来看已经执行完循环了，所以只print一个循环的最后结果"
   ]
  },
  {
   "cell_type": "markdown",
   "metadata": {},
   "source": [
    "### <font color = red>13 简答题\n",
    "根据 Python 标准，代码中的⼀级缩进 (indentation) 怎么表示？"
   ]
  },
  {
   "cell_type": "markdown",
   "metadata": {},
   "source": [
    "Python标准是4个空格，可以按\n",
    "- Tab键或Shift+Tab键；\n",
    "- 直接四个空格"
   ]
  },
  {
   "cell_type": "markdown",
   "metadata": {},
   "source": [
    "### <font color = red>14 简答题\n",
    "请将以下 for 循环改写成 while 循环。"
   ]
  },
  {
   "cell_type": "code",
   "execution_count": 26,
   "metadata": {},
   "outputs": [
    {
     "name": "stdout",
     "output_type": "stream",
     "text": [
      "5\n",
      "4\n",
      "3\n",
      "2\n",
      "1\n"
     ]
    }
   ],
   "source": [
    "for i in range(5, 0, -1):\n",
    "    print(i)"
   ]
  },
  {
   "cell_type": "code",
   "execution_count": 27,
   "metadata": {},
   "outputs": [
    {
     "name": "stdout",
     "output_type": "stream",
     "text": [
      "5\n",
      "4\n",
      "3\n",
      "2\n",
      "1\n"
     ]
    }
   ],
   "source": [
    "i = 5\n",
    "while i > 0:\n",
    "    print(i)\n",
    "    i-=1"
   ]
  },
  {
   "cell_type": "markdown",
   "metadata": {},
   "source": [
    "### 15 简答题\n",
    "如果 `T = 50 `， `import numpy as np` ，要构造⼀个⻓度为`T + 1` 的空⽩的` numpy `数组 (array)，应\n",
    "该键⼊什么代码？"
   ]
  },
  {
   "cell_type": "code",
   "execution_count": 32,
   "metadata": {},
   "outputs": [],
   "source": [
    "import numpy as np\n",
    "T = 50"
   ]
  },
  {
   "cell_type": "markdown",
   "metadata": {},
   "source": [
    "### 答：\n",
    "应该键入"
   ]
  },
  {
   "cell_type": "code",
   "execution_count": 33,
   "metadata": {},
   "outputs": [
    {
     "data": {
      "text/plain": [
       "array([             nan,  6.89903272e-310,  5.39519685e-321,\n",
       "        4.94065646e-324,  3.83394941e-321, -1.54232085e+244,\n",
       "        4.24896455e-321,  6.95271921e-310,  2.78653024e-321,\n",
       "        1.16921968e-311,  4.64421707e-321, -2.56986248e+160,\n",
       "        3.91299992e-321,  6.95271921e-310,  5.33590898e-321,\n",
       "        1.16921968e-311,  5.43472210e-321,  1.87660480e+038,\n",
       "        5.39519685e-321,  6.95271921e-310,  5.53353523e-321,\n",
       "        1.16921968e-311,  5.55329786e-321,  4.77462860e-031,\n",
       "        5.49400998e-321,  6.95271921e-310, -2.23552733e-166,\n",
       "        1.17113449e-311,  6.95291505e-310,  1.90659231e-176,\n",
       "        1.17113449e-311,  6.95291505e-310,  2.47641970e+273,\n",
       "        1.17113449e-311,  6.95291505e-310, -3.32886522e+254,\n",
       "        1.17113449e-311,  6.95291505e-310,  3.38272316e-028,\n",
       "        1.17113449e-311,  6.95291505e-310, -1.24189035e-056,\n",
       "        1.17113449e-311,  6.95291505e-310, -3.20946880e-106,\n",
       "        1.17113449e-311,  6.95291505e-310,  2.33906307e+268,\n",
       "        1.17113449e-311,  6.95291505e-310, -1.67623096e-173])"
      ]
     },
     "execution_count": 33,
     "metadata": {},
     "output_type": "execute_result"
    }
   ],
   "source": [
    "np.empty(T+1)"
   ]
  },
  {
   "cell_type": "markdown",
   "metadata": {},
   "source": [
    "### 16 简答题\n",
    "如果` import matplotlib.pyplot as plt `，⽤` plt` 的什么函数可以画出数组 `x` 的连线图？⽤\n",
    "`plt` 的什么函数可以画出图例？⽤ `plt` 的什么函数可以确认输出图形？"
   ]
  },
  {
   "cell_type": "markdown",
   "metadata": {},
   "source": [
    "答："
   ]
  },
  {
   "cell_type": "markdown",
   "metadata": {},
   "source": [
    "1. plt.plot()可以画出数组的连线图\n",
    "2. plt.legend() 可以画出图例\n",
    "3. plt.show()可以确认输出图形"
   ]
  },
  {
   "cell_type": "code",
   "execution_count": 35,
   "metadata": {},
   "outputs": [],
   "source": [
    "import  matplotlib.pyplot as plt"
   ]
  },
  {
   "cell_type": "code",
   "execution_count": 43,
   "metadata": {},
   "outputs": [
    {
     "data": {
      "image/png": "[encoded data removed]",
      "text/plain": [
       "<Figure size 432x288 with 1 Axes>"
      ]
     },
     "metadata": {
      "needs_background": "light"
     },
     "output_type": "display_data"
    }
   ],
   "source": [
    "r = 0.025         # interest rate\n",
    "T = 50            # end date\n",
    "b = np.empty(T+1) # an empty NumPy array, to store all b_t\n",
    "b[0] = 10         # initial balance\n",
    "\n",
    "for t in range(T):\n",
    "    b[t+1] = (1 + r) * b[t]\n",
    "\n",
    "plt.plot(b, label='bank balance')\n",
    "plt.legend(loc = 4)\n",
    "plt.show()"
   ]
  },
  {
   "cell_type": "markdown",
   "metadata": {},
   "source": [
    "### <font color = red>17 简答题(自己理解自己凑)\n",
    "使⽤` numpy `数组 (array) ⽽不是 Python 列表 (list) 来保存⼤量数值有什么好处？为什么？"
   ]
  },
  {
   "cell_type": "markdown",
   "metadata": {},
   "source": [
    "#### 回答1"
   ]
  },
  {
   "cell_type": "markdown",
   "metadata": {},
   "source": [
    "array是⼀个具有⽮量算术运算和复杂⼴播能⼒的快速且节省空间的多维数组。\n",
    "\n",
    "⽤于对整组数据进⾏快速运算的标准数学函数（⽆需编写循环）。\n",
    "\n",
    "⽤于读写磁盘数据的⼯具以及⽤于操作内存映射⽂件的⼯具。\n",
    "\n",
    "线性代数、随机数⽣成以及傅⾥叶变换功能。\n",
    "\n",
    "numpy的数组比python列表更紧凑，numpy不仅效率更高，而且更方便，可以低成本得到很多向量和矩阵运算，这有时可以帮助避免不必要的工作"
   ]
  },
  {
   "cell_type": "markdown",
   "metadata": {},
   "source": [
    "#### 回答2：\n",
    "\n",
    "1. NumPy可以⾼效处理⼤数组的数据。这是因为：NumPy是在⼀个连续的内存块中存储数据（array），独⽴于其他Python内置对象。\n",
    "\n",
    "2. numpy的数组比python列表更紧凑\n",
    "\n",
    "3. python列表是堆内存需求极高（引用等过程需要内存）\n",
    "    numpy数组是一个统一值的数组——单精度数字每4个字节，双精度数字每8个字节\n",
    "    没有列表灵活，但是成本极低，在需求大量数值时效率更高\n",
    "4. 接3：列表是不可哈希对象，消耗大量资源带来的灵活性在我们对大量数据但目的只是保存的时候性价比很低"
   ]
  },
  {
   "cell_type": "markdown",
   "metadata": {},
   "source": [
    "### <font color = red>18 简答题\n",
    "请简述你对蒙特卡洛模拟 (Monte Carlo simulations) 概念的理解。"
   ]
  },
  {
   "cell_type": "markdown",
   "metadata": {},
   "source": [
    "#### 答："
   ]
  },
  {
   "cell_type": "markdown",
   "metadata": {},
   "source": [
    "当所要求解的问题是某种事件出现的概率，或者是某个随机变量的期望值时，它们可以通过某种“试验”的方法，得到这种事件出现的频率，或者这个随机变数的平均值，并用它们作为问题的解。这就是蒙特卡罗方法的基本思想。蒙特卡罗方法通过抓住事物运动的几何数量和几何特征，利用数学方法来加以模拟，即进行一种数字模拟实验。它是以一个概率模型为基础，按照这个模型所描绘的过程，通过模拟实验的结果，作为问题的近似解。可以把蒙特卡罗解题归结为三个主要步骤：构造或描述概率过程；实现从已知概率分布抽样；建立各种估计量。"
   ]
  },
  {
   "cell_type": "markdown",
   "metadata": {},
   "source": [
    "#### 答："
   ]
  },
  {
   "cell_type": "markdown",
   "metadata": {},
   "source": [
    "通常蒙特卡罗方法可以粗略地分成两类：\n",
    "\n",
    "一类是所求解的问题本身具有内在的随机性，借助计算机的运算能力可以直接模拟这种随机的过程。例如在核物理研究中，分析中子在反应堆中的传输过程。中子与原子核作用受到量子力学规律的制约，人们只能知道它们相互作用发生的概率，却无法准确获得中子与原子核作用时的位置以及裂变产生的新中子的行进速率和方向。科学家依据其概率进行随机抽样得到裂变位置、速度和方向，这样模拟大量中子的行为后，经过统计就能获得中子传输的范围，作为反应堆设计的依据。\n",
    "\n",
    "\n",
    "另一种类型是所求解问题可以转化为某种随机分布的特征数，比如随机事件出现的概率，或者随机变量的期望值。通过随机抽样的方法，以随机事件出现的频率估计其概率，或者以抽样的数字特征估算随机变量的数字特征，并将其作为问题的解。这种方法多用于求解复杂的多维积分问题。\n",
    "假设我们要计算一个不规则图形的面积，那么图形的不规则程度和分析性计算（比如，积分）的复杂程度是成正比的。蒙特卡罗方法基于这样的想法：假设你有一袋豆子，把豆子均匀地朝这个图形上撒，然后数这个图形之中有多少颗豆子，这个豆子的数目就是图形的面积。当你的豆子越小，撒的越多的时候，结果就越精确。借助计算机程序可以生成大量均匀分布坐标点，然后统计出图形内的点数，通过它们占总点数的比例和坐标点生成范围的面积就可以求出图形面积。"
   ]
  },
  {
   "cell_type": "markdown",
   "metadata": {},
   "source": [
    "答："
   ]
  },
  {
   "cell_type": "markdown",
   "metadata": {},
   "source": [
    "蒙特卡洛模拟的对象通常粗略分为以下两类：\n",
    "1. 所求解的问题本身具有内在的随机性\n",
    "2. 所求解问题可以转化为某种随机分布的特征数，比如随机事件出现的概率，或者随机变量的期望值\n",
    "由于未知问题的结果是不可知的，而每一次实验模拟的结果是可知的，因而可以通过大量的、反复的实验模拟，推断出所研究的问题（等位置属性如概率、作用范围）的数理化估计值或是内在特性的估计结果\n",
    "\n",
    "理论上只要试验次数越多的，可以得到的估计结果就越精确\n",
    "\n"
   ]
  }
 ],
 "metadata": {
  "kernelspec": {
   "display_name": "Python 3",
   "language": "python",
   "name": "python3"
  },
  "language_info": {
   "codemirror_mode": {
    "name": "ipython",
    "version": 3
   },
   "file_extension": ".py",
   "mimetype": "text/x-python",
   "name": "python",
   "nbconvert_exporter": "python",
   "pygments_lexer": "ipython3",
   "version": "3.7.7"
  }
 },
 "nbformat": 4,
 "nbformat_minor": 4
}
