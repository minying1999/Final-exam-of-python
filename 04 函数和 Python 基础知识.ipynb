{
 "cells": [
  {
   "cell_type": "markdown",
   "metadata": {},
   "source": [
    "# 第 4 课 函数和 Python 基础知识"
   ]
  },
  {
   "cell_type": "code",
   "execution_count": 1,
   "metadata": {},
   "outputs": [],
   "source": [
    "from IPython.core.interactiveshell import InteractiveShell\n",
    "InteractiveShell.ast_node_interactivity = 'all'"
   ]
  },
  {
   "cell_type": "markdown",
   "metadata": {},
   "source": [
    "### 学习任务\n",
    "本周是第 5 周，请⼀边阅读教材⼀边完成课程测验任务；同时⼀边阅读⼀边完成以下⾮上机题任务。课\n",
    "程测验得分将构成平时成绩 (占期末总评 40%)；所有⾮上机题将构成期末闭卷考试 (占期末总评 60%)\n",
    "的题库。所以请务必认真对待学习任务，不能按时完成任务后果⾃负"
   ]
  },
  {
   "cell_type": "markdown",
   "metadata": {},
   "source": [
    "### 1 阅读\n",
    "阅读教材 [“Introduction to Python / Functions”](https://python-programming.quantecon.org/functions.html) ⼀节，学习有关 Python 函数 (function) 的基础知识。"
   ]
  },
  {
   "cell_type": "markdown",
   "metadata": {},
   "source": [
    "#### 2 简答题\n",
    "什么是函数 (function)？什么是内置函数 (built-in function)？内置函数 (built-in function) 与⾮内置函\n",
    "数的主要区别在什么地⽅？"
   ]
  },
  {
   "cell_type": "markdown",
   "metadata": {},
   "source": [
    " 1. 什么是函数"
   ]
  },
  {
   "cell_type": "markdown",
   "metadata": {},
   "source": [
    "函数是实现特定任务的程序的代码段，是组织好的，可重复使用的，用来实现单一，或相关联功能的一段代码。\n",
    "它能提高应用的模块性，和代码的重复利用率。"
   ]
  },
  {
   "cell_type": "markdown",
   "metadata": {},
   "source": [
    "2. 什么是内置函数\n",
    "\n",
    "不需要导入即可使用的函数是Python的内置函数\n",
    "\n",
    "譬如"
   ]
  },
  {
   "cell_type": "code",
   "execution_count": 2,
   "metadata": {},
   "outputs": [
    {
     "name": "stdout",
     "output_type": "stream",
     "text": [
      "Hello world!\n"
     ]
    }
   ],
   "source": [
    "print('Hello world!')"
   ]
  },
  {
   "cell_type": "markdown",
   "metadata": {},
   "source": [
    "3. 主要区别：\n",
    "\n",
    "内置函数不需要导入即可直接使用，实现函数相应的处理功能；而非内置函数需要提前import或者定义一个，在当前工作空间中为它开辟一个独立的空间以解释、调用其功能。"
   ]
  },
  {
   "cell_type": "markdown",
   "metadata": {},
   "source": [
    "#### 4 多选题\n",
    "以下哪些是 Python 的内置函数 (built-in function)？\n",
    "\n",
    "A. print B. read C. write D. range E. open F. close G. dir H. help I. show J. sqrt K.\n",
    "sorted L. aligned M. zipped N. type O. class P. map"
   ]
  },
  {
   "cell_type": "markdown",
   "metadata": {},
   "source": [
    "[Python 内置函数](https://www.runoob.com/python/python-built-in-functions.html)"
   ]
  },
  {
   "cell_type": "markdown",
   "metadata": {},
   "source": [
    "    s = ('print' ,' read' , 'write', 'range' ,' open ', 'close' , 'dir' , 'help', 'show', 'sqrt',    'sorted', 'aligned', 'zipped', 'type' , 'class', 'map')\n"
   ]
  },
  {
   "cell_type": "markdown",
   "metadata": {},
   "source": [
    " - #### 内置函数有:A,D,E,G,H,K,N,P"
   ]
  },
  {
   "cell_type": "markdown",
   "metadata": {},
   "source": [
    "其中M和O存疑，zipped只存在zip是内置函数，而class本身不属于（应该是定义类对象时使用），classmethod 和 issubclass（看对象之间的继承关系的）是内置函数"
   ]
  },
  {
   "cell_type": "markdown",
   "metadata": {},
   "source": [
    "#### 5 简答题\n",
    "要判断 2019 年是否是闰年 (leap year) 可以键⼊什么 Python 代码？"
   ]
  },
  {
   "cell_type": "code",
   "execution_count": 3,
   "metadata": {},
   "outputs": [
    {
     "data": {
      "text/plain": [
       "False"
      ]
     },
     "execution_count": 3,
     "metadata": {},
     "output_type": "execute_result"
    }
   ],
   "source": [
    "import calendar\n",
    "calendar . isleap(2019)"
   ]
  },
  {
   "cell_type": "code",
   "execution_count": 4,
   "metadata": {},
   "outputs": [
    {
     "name": "stdout",
     "output_type": "stream",
     "text": [
      "2000\n",
      "2004\n",
      "2008\n",
      "2012\n",
      "2016\n"
     ]
    }
   ],
   "source": [
    "for i in range(2000,2020):\n",
    "    if calendar.isleap(i):\n",
    "        print(i)\n",
    "    else:\n",
    "        continue"
   ]
  },
  {
   "cell_type": "markdown",
   "metadata": {},
   "source": [
    "#### 6 简答题\n",
    "对于以下 Python 代码定义的函数，请按要求对其语法逐⼀进⾏解读："
   ]
  },
  {
   "cell_type": "code",
   "execution_count": 5,
   "metadata": {},
   "outputs": [],
   "source": [
    "def new_abs_function(x):\n",
    "    if x < 0:\n",
    "        abs_value = -x\n",
    "    else:\n",
    "        abs_value = x\n",
    "    return abs_value"
   ]
  },
  {
   "cell_type": "markdown",
   "metadata": {},
   "source": [
    "- 其中 def 是什么？其作⽤是什么？\n",
    "- 其中 new_abs_function 是什么？括号⾥的 x ⼜是什么？\n",
    "- 从第⼆⾏开始缩进的部分那代码被称为什么？\n",
    "- return 这⼀⾏的作⽤是什么？"
   ]
  },
  {
   "cell_type": "markdown",
   "metadata": {},
   "source": [
    "1. def是用于启动函数定义的 Python 关键字，使用了def之后系统就知道def之后的内容将是我们定义的函数的内容了，相当于告诉系统（声明）我要创建函数了"
   ]
  },
  {
   "cell_type": "markdown",
   "metadata": {},
   "source": [
    "2. 表示该函数的的名称，即调用该函数是使用的函数名，括号里的x代表参数，本例子中的意思是这个新函数需要传入一个参数x才能成功调用"
   ]
  },
  {
   "cell_type": "markdown",
   "metadata": {},
   "source": [
    "3. 是我们创建的函数的函数体（function body）"
   ]
  },
  {
   "cell_type": "markdown",
   "metadata": {},
   "source": [
    "4. return这一行中的return表明调用我们的这个函数之后改函数返还的结果是return后面的变量（abs_value）"
   ]
  },
  {
   "cell_type": "markdown",
   "metadata": {},
   "source": [
    "#### 7 简答题\n",
    "请举例说明什么是函数的定义 (definition)，什么是函数的调⽤ (call)。"
   ]
  },
  {
   "cell_type": "markdown",
   "metadata": {},
   "source": [
    "#### 举例：函数的定义"
   ]
  },
  {
   "cell_type": "code",
   "execution_count": 6,
   "metadata": {},
   "outputs": [],
   "source": [
    "def add_ten(x):\n",
    "    x = x+10\n",
    "    return x\n",
    "    "
   ]
  },
  {
   "cell_type": "markdown",
   "metadata": {},
   "source": [
    "举例：函数的调用"
   ]
  },
  {
   "cell_type": "code",
   "execution_count": 7,
   "metadata": {},
   "outputs": [
    {
     "data": {
      "text/plain": [
       "12"
      ]
     },
     "execution_count": 7,
     "metadata": {},
     "output_type": "execute_result"
    },
    {
     "data": {
      "text/plain": [
       "22"
      ]
     },
     "execution_count": 7,
     "metadata": {},
     "output_type": "execute_result"
    }
   ],
   "source": [
    "add_ten(2)\n",
    "add_ten(add_ten(2))"
   ]
  },
  {
   "cell_type": "markdown",
   "metadata": {},
   "source": [
    "#### 8 简答题\n",
    "为什么我们在写 Python 程序的时候需要⾃⾏定义函数 (function)？"
   ]
  },
  {
   "cell_type": "markdown",
   "metadata": {},
   "source": [
    "1. 用户定义函数可以有效提高代码的清晰度\n",
    " - 分离不同的逻辑链（将很驳杂的逻辑链剥离出来，是明面上的代码简明清晰）\n",
    " - 需要循环使用的特定功能（内置函数不提供）时，自定义函数可以大大减少重复的工作量，促进代码的使用"
   ]
  },
  {
   "cell_type": "markdown",
   "metadata": {},
   "source": [
    "#### 9 简答题\n",
    "请将以下 Python 代码重构 (refactor)，定义⼀个` generate_data` 函数，不再需要 ts_length 变\n",
    "量，⽽是将该变量的值作为参数` n `传递给` generate_data` 函数，返回` ϵ_values `的值。请使重构后\n",
    "的新程序保持有原程序的功能。"
   ]
  },
  {
   "cell_type": "code",
   "execution_count": 8,
   "metadata": {},
   "outputs": [],
   "source": [
    "import numpy as np\n",
    "import  matplotlib.pyplot as plt"
   ]
  },
  {
   "cell_type": "code",
   "execution_count": 9,
   "metadata": {},
   "outputs": [
    {
     "name": "stdout",
     "output_type": "stream",
     "text": [
      "你想输入的n:10\n"
     ]
    },
    {
     "data": {
      "image/png": "[encoded data removed]",
      "text/plain": [
       "<Figure size 432x288 with 1 Axes>"
      ]
     },
     "metadata": {
      "needs_background": "light"
     },
     "output_type": "display_data"
    }
   ],
   "source": [
    "def generate_data(n):\n",
    "    ϵ_values = [] # empty list\n",
    "    for i in range(n):\n",
    "        e = np.random.randn()\n",
    "        ϵ_values.append(e)\n",
    "    plt.plot(ϵ_values)\n",
    "    plt.show()\n",
    "n =int( input('你想输入的n:'))\n",
    "generate_data(n)"
   ]
  },
  {
   "cell_type": "markdown",
   "metadata": {},
   "source": [
    "#### 10 简答题\n",
    "请解释以下程序中函数 generate_data 的参数 generator_type 的作⽤是什么。"
   ]
  },
  {
   "cell_type": "code",
   "execution_count": 10,
   "metadata": {},
   "outputs": [
    {
     "data": {
      "text/plain": [
       "[<matplotlib.lines.Line2D at 0x160a0a39b88>]"
      ]
     },
     "execution_count": 10,
     "metadata": {},
     "output_type": "execute_result"
    },
    {
     "data": {
      "image/png": "[encoded data removed]",
      "text/plain": [
       "<Figure size 432x288 with 1 Axes>"
      ]
     },
     "metadata": {
      "needs_background": "light"
     },
     "output_type": "display_data"
    }
   ],
   "source": [
    "def generate_data(n, generator_type):\n",
    "    ϵ_values = []\n",
    "    for i in range(n):\n",
    "        if generator_type == 'U':\n",
    "            e = np.random.uniform(0, 1)\n",
    "        else:\n",
    "            e = np.random.randn()\n",
    "        ϵ_values.append(e)\n",
    "    return ϵ_values\n",
    "\n",
    "data = generate_data(100, 'U')\n",
    "plt.plot(data)\n",
    "plt.show()"
   ]
  },
  {
   "cell_type": "markdown",
   "metadata": {},
   "source": [
    "答：generate_type参数的作用是帮助定义的函数进行调用随机数类型的选择，如果if判断为True（传递generate_type参数为'U'），则使用（0，1）均匀分布，否则使用正态分布产生随机数"
   ]
  },
  {
   "cell_type": "markdown",
   "metadata": {},
   "source": [
    "#### 11 简答题\n",
    "Python 代码中 = 和 == 的概念分别是什么？"
   ]
  },
  {
   "cell_type": "markdown",
   "metadata": {},
   "source": [
    "- =用来赋值\n",
    "\n",
    "- ==用来判断两个对象是否相等"
   ]
  },
  {
   "cell_type": "code",
   "execution_count": 11,
   "metadata": {},
   "outputs": [
    {
     "data": {
      "text/plain": [
       "True"
      ]
     },
     "execution_count": 11,
     "metadata": {},
     "output_type": "execute_result"
    },
    {
     "data": {
      "text/plain": [
       "True"
      ]
     },
     "execution_count": 11,
     "metadata": {},
     "output_type": "execute_result"
    }
   ],
   "source": [
    "a = 'a'\n",
    "\"a\" == 'a'\n",
    "\"a\" == a"
   ]
  },
  {
   "cell_type": "markdown",
   "metadata": {},
   "source": [
    "#### 12 简答题\n",
    "请解释以下程序中函数 generate_data 的参数 generator_type 的作⽤是什么。如果要⽣成标准正\n",
    "态分布 (standard normal) ⽽不是均匀分布 (uniform) 的扰动项 e ，以下代码需要做什么样的改动？"
   ]
  },
  {
   "cell_type": "code",
   "execution_count": 12,
   "metadata": {},
   "outputs": [
    {
     "data": {
      "text/plain": [
       "[<matplotlib.lines.Line2D at 0x160a0aaaec8>]"
      ]
     },
     "execution_count": 12,
     "metadata": {},
     "output_type": "execute_result"
    },
    {
     "data": {
      "image/png": "[encoded data removed]",
      "text/plain": [
       "<Figure size 432x288 with 1 Axes>"
      ]
     },
     "metadata": {
      "needs_background": "light"
     },
     "output_type": "display_data"
    }
   ],
   "source": [
    "def generate_data(n, generator_type):\n",
    "    ϵ_values = []\n",
    "    for i in range(n):\n",
    "        e = generator_type()\n",
    "        ϵ_values.append(e)\n",
    "    return ϵ_values\n",
    "data = generate_data(100, np.random.uniform)\n",
    "plt.plot(data)\n",
    "plt.show()"
   ]
  },
  {
   "cell_type": "markdown",
   "metadata": {},
   "source": [
    "1. 该函数中的generator_type的作用是传递给定义的generate_data一个定义函数中要用到的产生随机数的函数（np.random.uniform 均匀分布）"
   ]
  },
  {
   "cell_type": "markdown",
   "metadata": {},
   "source": [
    "2. 修改：将data = generate_data(100, np.random.uniform)改为data = generate_data(100, np.random.randn)即可"
   ]
  },
  {
   "cell_type": "code",
   "execution_count": 13,
   "metadata": {},
   "outputs": [
    {
     "data": {
      "text/plain": [
       "[<matplotlib.lines.Line2D at 0x160a0b18b48>]"
      ]
     },
     "execution_count": 13,
     "metadata": {},
     "output_type": "execute_result"
    },
    {
     "data": {
      "image/png": "[encoded data removed]",
      "text/plain": [
       "<Figure size 432x288 with 1 Axes>"
      ]
     },
     "metadata": {
      "needs_background": "light"
     },
     "output_type": "display_data"
    }
   ],
   "source": [
    "def generate_data(n, generator_type):\n",
    "    ϵ_values = []\n",
    "    for i in range(n):\n",
    "        e = generator_type()\n",
    "        ϵ_values.append(e)\n",
    "    return ϵ_values\n",
    "data = generate_data(100, np.random.randn)\n",
    "plt.plot(data)\n",
    "plt.show()"
   ]
  },
  {
   "cell_type": "markdown",
   "metadata": {},
   "source": [
    "####  <font color = red>13 简答题（和上面一样，自己编个差不多的）\n",
    "请任举⼀例代码，说明在 Python 中，可以很容易地把函数作为参数传递给另⼀个函数。"
   ]
  },
  {
   "cell_type": "code",
   "execution_count": 14,
   "metadata": {},
   "outputs": [
    {
     "data": {
      "text/plain": [
       "12"
      ]
     },
     "execution_count": 14,
     "metadata": {},
     "output_type": "execute_result"
    },
    {
     "data": {
      "text/plain": [
       "22"
      ]
     },
     "execution_count": 14,
     "metadata": {},
     "output_type": "execute_result"
    }
   ],
   "source": [
    "def add_ten(x):\n",
    "    x = x+10\n",
    "    return x\n",
    "    \n",
    "add_ten(2)\n",
    "add_ten(add_ten(2))"
   ]
  },
  {
   "cell_type": "markdown",
   "metadata": {},
   "source": [
    "14 简答题\n",
    "请⼿写程序定义函数 factorial(n) ，该函数将计算并返回 n 的阶乘\n",
    "$$ n! =  n * (n-1)*...*2*1$$"
   ]
  },
  {
   "cell_type": "code",
   "execution_count": 15,
   "metadata": {},
   "outputs": [],
   "source": [
    "def factorial(n):\n",
    "    k = 1\n",
    "    for i in range(1,n+1):\n",
    "        k = i * k\n",
    "    return k\n",
    "        "
   ]
  },
  {
   "cell_type": "code",
   "execution_count": 16,
   "metadata": {},
   "outputs": [
    {
     "data": {
      "text/plain": [
       "24"
      ]
     },
     "execution_count": 16,
     "metadata": {},
     "output_type": "execute_result"
    },
    {
     "data": {
      "text/plain": [
       "120"
      ]
     },
     "execution_count": 16,
     "metadata": {},
     "output_type": "execute_result"
    }
   ],
   "source": [
    "factorial(4)\n",
    "factorial(5)"
   ]
  },
  {
   "cell_type": "markdown",
   "metadata": {},
   "source": [
    "#### 15 简答题\n",
    "请⼿写程序定义函数 binomial_rv(n, p) ，该函数返回⼀个⼆项分布 (binomial) 的随机变量\n",
    "(random variable) 的实现值 (realization)。⼆项分布的定义是：进⾏ n 次独⽴的 (independent) 伯努\n",
    "利实验 (Bernoulli trial)，每次实验成功 (记为 1 ) 的概率都为 p ，得到的成功的次数 (取值⼀定在 0 到\n",
    "n 之间) 即为⼆项分布的实现值。编写该程序只能借助 from numpy.random import uniform 获得均匀分布 (uniform) 的随机数，不能 import 其他函数。"
   ]
  },
  {
   "cell_type": "markdown",
   "metadata": {},
   "source": [
    "[各种随机数的定义](https://www.jianshu.com/p/6c6830deeabb)"
   ]
  },
  {
   "cell_type": "code",
   "execution_count": 17,
   "metadata": {},
   "outputs": [
    {
     "data": {
      "text/plain": [
       "5"
      ]
     },
     "execution_count": 17,
     "metadata": {},
     "output_type": "execute_result"
    }
   ],
   "source": [
    "import numpy as np\n",
    "def binomial_rv(n, p):\n",
    "    count = 0\n",
    "    for i in range(n):       \n",
    "        if np.random.uniform() < p:\n",
    "            count +=1   # Or count += 1\n",
    "    return count\n",
    "\n",
    "binomial_rv(10, 0.5)"
   ]
  },
  {
   "cell_type": "markdown",
   "metadata": {},
   "source": [
    "####  <font color = red>16 简答题（我有稍作修改，但基本和教程一直，可以把三元表达式换成if判断）\n",
    "请⼿写程序定义函数 draw(k) ，该函数返回以下随机模型 (random device) 的实现值 (realization)：\n",
    "1. 将⼀枚两⾯公平的硬币抛掷10次。\n",
    "2. 如果硬币正⾯向上 (head) 连续 出现 k 次或 k 次以上，⽀付 (payoff) 为 1 美元。\n",
    "3. 否则，⽀付 (payoff) 为 0 美元。\n",
    "美元⽀付 (payoff) 值是该随机变量的取值，所以函数的返回值 (return value) 只可能是 0 或者 1 。"
   ]
  },
  {
   "cell_type": "code",
   "execution_count": 18,
   "metadata": {},
   "outputs": [
    {
     "name": "stdout",
     "output_type": "stream",
     "text": [
      "0\n",
      "0\n",
      "1\n",
      "0\n",
      "1\n",
      "2\n",
      "3\n",
      "4\n",
      "5\n",
      "6\n"
     ]
    },
    {
     "data": {
      "text/plain": [
       "1"
      ]
     },
     "execution_count": 18,
     "metadata": {},
     "output_type": "execute_result"
    }
   ],
   "source": [
    "from numpy.random import uniform\n",
    "\n",
    "def draw(k):  # pays if k consecutive successes in a sequence\n",
    "\n",
    "    payoff = 0\n",
    "    count = 0\n",
    "\n",
    "    for i in range(10):\n",
    "        U = uniform()\n",
    "        count = ((count + 1) if U < 0.5 else 0)\n",
    "        print(count)    # print counts for clarity\n",
    "        if count == k:\n",
    "            payoff = 1\n",
    "\n",
    "    return payoff\n",
    "\n",
    "draw(3)"
   ]
  },
  {
   "cell_type": "markdown",
   "metadata": {},
   "source": [
    "#### 17 简答题\n",
    "请⼿写程序定义函数 draw(k) ，该函数返回以下随机模型 (random device) 的实现值 (realization)：\n",
    "1. 将⼀枚两⾯公平的硬币抛掷10次。\n",
    "2. 如果硬币正⾯向上 (head) 共计 出现 k 次或 k 次以上，⽀付 (payoff) 为 1 美元。\n",
    "3. 否则，⽀付 (payoff) 为 0 美元。\n",
    "美元⽀付 (payoff) 值是该随机变量的取值，所以函数的返回值 (return value) 只可能是 0 或者 1 。"
   ]
  },
  {
   "cell_type": "code",
   "execution_count": 19,
   "metadata": {},
   "outputs": [
    {
     "name": "stdout",
     "output_type": "stream",
     "text": [
      "0\n",
      "1\n",
      "2\n",
      "2\n",
      "2\n",
      "3\n",
      "3\n",
      "3\n",
      "4\n",
      "4\n"
     ]
    },
    {
     "data": {
      "text/plain": [
       "0"
      ]
     },
     "execution_count": 19,
     "metadata": {},
     "output_type": "execute_result"
    }
   ],
   "source": [
    "from numpy.random import uniform\n",
    "def draw(k):  # pays if k consecutive successes in a sequence\n",
    "\n",
    "    payoff = 0\n",
    "    count = 0\n",
    "\n",
    "    for i in range(10):\n",
    "        U = uniform()\n",
    "        count = count + (1 if U < 0.5 else 0)\n",
    "        print(count)    # print counts for clarity\n",
    "        if count == k:\n",
    "            payoff = 1\n",
    "            break\n",
    "\n",
    "    return payoff\n",
    "draw(5)"
   ]
  },
  {
   "cell_type": "markdown",
   "metadata": {},
   "source": [
    "#### 中奖概率（与题库无关，纯属自娱自乐）"
   ]
  },
  {
   "cell_type": "code",
   "execution_count": 22,
   "metadata": {},
   "outputs": [
    {
     "name": "stdout",
     "output_type": "stream",
     "text": [
      "15676\n"
     ]
    },
    {
     "data": {
      "text/plain": [
       "0.15676"
      ]
     },
     "execution_count": 22,
     "metadata": {},
     "output_type": "execute_result"
    }
   ],
   "source": [
    "from numpy.random import uniform\n",
    "\n",
    "def draw(k):  # pays if k consecutive successes in a sequence\n",
    "    n=100000\n",
    "    payoff = 0\n",
    "    count = 0\n",
    "    time = 0\n",
    "    for t in range(n):\n",
    "        for i in range(10):\n",
    "            U = uniform()\n",
    "            count = ((count + 1) if U < 0.5 else 0)\n",
    "            #print(count)    # print counts for clarity\n",
    "            if count == k:\n",
    "                payoff = 1\n",
    "                time = time+1\n",
    "    \n",
    "    print(time)\n",
    "    return(time/n)\n",
    "draw(5)"
   ]
  },
  {
   "cell_type": "markdown",
   "metadata": {},
   "source": [
    "#### <font color = red>19 简答题\n",
    "Python 程序为什么需要识别不同的数据类型 (data types)？"
   ]
  },
  {
   "cell_type": "markdown",
   "metadata": {},
   "source": [
    "- #### 1.两类型数据（浮点、整数）以不同的方式存储在记忆中。\n",
    "\n",
    "- 2.它们的算术运算是不同的\n",
    "    - 2.1. 在大多数机器上，浮点运算是通过一个专门的浮点单元(FPU)来实现的\n",
    "    - 2.2  浮点数的信息量更大,整数的算术运算更快、更准确。\n",
    "    \n",
    " 识别不同的数据类型有助于计算机按需处理数据，提高运行效率"
   ]
  },
  {
   "cell_type": "markdown",
   "metadata": {},
   "source": [
    "### 20 阅读\n",
    "阅读 “Real Python / Basic Data Types in Python” ⼀⽂，学习有关 Python 内置 (built-in) 基本数据类型\n",
    "(primitive data types) 的知识并了解各种内置函数 (built-in functions) 的⽤途。"
   ]
  },
  {
   "cell_type": "markdown",
   "metadata": {},
   "source": [
    "###  <font color = red>21 简答题\n",
    "请全⾯列举 Python ⽀持哪⼏个内置 (built-in) 基本数据类型 (primitive data types)"
   ]
  },
  {
   "cell_type": "markdown",
   "metadata": {},
   "source": [
    "python基本内置数据类型        \n",
    "\n",
    "\n",
    "              \n",
    " \n",
    "    int                整型\n",
    "        bool                 布尔型\n",
    "    \n",
    "    float                浮点型\n",
    "    complex              复数   \n",
    "    str                字符串\n"
   ]
  },
  {
   "cell_type": "markdown",
   "metadata": {},
   "source": [
    "#### 整型（integer），浮点型（floating point number）和复数（complex number），并且，布尔型（boolean）是整型的子类"
   ]
  },
  {
   "cell_type": "markdown",
   "metadata": {},
   "source": [
    "[primitive data types](https://able.bio/ZoranPandovski/understanding-python-3-data-types-string-int-float-and-boolean--57tqcfp)"
   ]
  },
  {
   "cell_type": "markdown",
   "metadata": {},
   "source": [
    "####  <font color = red>全面列举的话应该还包括容器,但是参考30题又是分开的"
   ]
  },
  {
   "cell_type": "markdown",
   "metadata": {},
   "source": [
    "python基本内置数据类型        \n",
    "\n",
    "\n",
    "不可变                \n",
    " \n",
    "    int                整型\n",
    "        int                  整数    \n",
    "        bool                 布尔型\n",
    "    float                浮点型\n",
    "    complex              复数   \n",
    "    str                字符串\n",
    "    \n",
    "    tuple\n",
    "\n",
    "可变         \n",
    "     \n",
    "     list               列表\n",
    "     \n",
    "     dict               字典"
   ]
  },
  {
   "cell_type": "markdown",
   "metadata": {},
   "source": [
    "### 22 阅读\n",
    "阅读 “Real Python / Lists and Tuples in Python” ⼀⽂，学习有关 Python 列表 (list) 和元组 (tuple) 两\n",
    "种容器 (container) 类型的基础知识。"
   ]
  },
  {
   "cell_type": "markdown",
   "metadata": {},
   "source": [
    "### <font color = red>23 简答题（写了两种解答方式，互相截取一下）\n",
    "请举例辨析 Python 列表 (list) 与元组 (tuple) 两种容器 (container) 类型 (type) 在语法和功能上的异\n",
    "同"
   ]
  },
  {
   "cell_type": "markdown",
   "metadata": {},
   "source": [
    "#### 不同点："
   ]
  },
  {
   "cell_type": "markdown",
   "metadata": {},
   "source": [
    "#### 1、2两点一般认为是一致的"
   ]
  },
  {
   "cell_type": "markdown",
   "metadata": {},
   "source": [
    "- 1.列表元素可变（动态的），而元组是“不可变”的列表，因而元组适合作为字典的key而列表不适合"
   ]
  },
  {
   "cell_type": "code",
   "execution_count": 23,
   "metadata": {},
   "outputs": [],
   "source": [
    "a = ('abc',)\n",
    "b = ['abc']\n",
    "b.append('d')"
   ]
  },
  {
   "cell_type": "markdown",
   "metadata": {},
   "source": [
    "- 2.元组可散列（hashable，即可哈希），列表不可散列"
   ]
  },
  {
   "cell_type": "code",
   "execution_count": 24,
   "metadata": {},
   "outputs": [
    {
     "data": {
      "text/plain": [
       "-4735662498064732866"
      ]
     },
     "execution_count": 24,
     "metadata": {},
     "output_type": "execute_result"
    },
    {
     "data": {
      "text/plain": [
       "[(['abc', 'd'],), 'ef']"
      ]
     },
     "execution_count": 24,
     "metadata": {},
     "output_type": "execute_result"
    }
   ],
   "source": [
    "hash(a)\n",
    "#hash(b)\n",
    "c = (b,)\n",
    "d=[c,'ef']\n",
    "d"
   ]
  },
  {
   "cell_type": "markdown",
   "metadata": {},
   "source": [
    "- 3 元组是通过将元素括在圆括号中来定义的,列表式[]方括号定义的"
   ]
  },
  {
   "cell_type": "markdown",
   "metadata": {},
   "source": [
    "#### 相同点"
   ]
  },
  {
   "cell_type": "markdown",
   "metadata": {},
   "source": [
    "- 列表和元组都是是有序的\n",
    "- 列表和元组都可以包含任意的对象\n",
    "- 列表和元组的元素都可以通过索引访问\n",
    "- 列表和元组都可以嵌套到任意深度\n",
    "\n"
   ]
  },
  {
   "cell_type": "markdown",
   "metadata": {},
   "source": [
    "#### 解法2"
   ]
  },
  {
   "cell_type": "markdown",
   "metadata": {},
   "source": [
    "    一、列表和元组的相同点\n",
    "        都是序列\n",
    "        都可以存储任何数据类型\n",
    "        可以通过索引访问\n",
    "\n",
    "\n",
    "    二、列表和元组的区别\n",
    "        列表是动态数组，可以重设长度（改变其内部元素的个数）。\n",
    "        元组是静态数组，且其内部数据一旦创建便无法改变。\n",
    "        即元组可散列，列表不可散列\n",
    "        元组缓存于Python运行时环境，这意味着我们每次使用元组时无须访问内核去分  配内存。 (于长度为1~20的元组)"
   ]
  },
  {
   "cell_type": "markdown",
   "metadata": {},
   "source": [
    "###  <font color = red>24 简答题\n",
    "请分别以列表 (list) 和字符串 (string) 为例，举例说明切⽚ (slice) 语法的使⽤⽅法及其效果。"
   ]
  },
  {
   "cell_type": "code",
   "execution_count": 25,
   "metadata": {},
   "outputs": [],
   "source": [
    "l = ['我',\"是\",\"一个\",'测试','的','列表']\n",
    "s = \"我是一个测试的字符串\""
   ]
  },
  {
   "cell_type": "code",
   "execution_count": 26,
   "metadata": {},
   "outputs": [
    {
     "data": {
      "text/plain": [
       "'串符字的试测个一是我'"
      ]
     },
     "execution_count": 26,
     "metadata": {},
     "output_type": "execute_result"
    },
    {
     "data": {
      "text/plain": [
       "'一测的符'"
      ]
     },
     "execution_count": 26,
     "metadata": {},
     "output_type": "execute_result"
    },
    {
     "data": {
      "text/plain": [
       "'试的字符'"
      ]
     },
     "execution_count": 26,
     "metadata": {},
     "output_type": "execute_result"
    }
   ],
   "source": [
    "s[::-1]#所有元素，步长为-1的提取出来\n",
    "s[2:-1:2]#第一个冒号左右是索引范围，可以为正或负（表示倒数多少个），但是如果：左边索引在右边索引的位置右方，则步长需要为负，否则无法切片\n",
    "#第二个：后面是步长，默认为1\n",
    "s[5:-1:1]#索引范围前闭后开（包含：前面不包含：后面）\n"
   ]
  },
  {
   "cell_type": "code",
   "execution_count": 27,
   "metadata": {},
   "outputs": [
    {
     "data": {
      "text/plain": [
       "['列表', '的', '测试', '一个', '是', '我']"
      ]
     },
     "execution_count": 27,
     "metadata": {},
     "output_type": "execute_result"
    },
    {
     "data": {
      "text/plain": [
       "['一个', '的']"
      ]
     },
     "execution_count": 27,
     "metadata": {},
     "output_type": "execute_result"
    },
    {
     "data": {
      "text/plain": [
       "['一个', '是']"
      ]
     },
     "execution_count": 27,
     "metadata": {},
     "output_type": "execute_result"
    }
   ],
   "source": [
    "l[::-1]#所有元素，步长为-1的提取出来\n",
    "l[2:-1:2]#第一个冒号左右是索引范围，可以为正或负（表示倒数多少个），但是如果：左边索引在右边索引的位置右方，则步长需要为负，否则无法切片\n",
    "#第二个：后面是步长，默认为1\n",
    "l[2:-6:-1]#索引范围前闭后开（包含：前面不包含：后面）"
   ]
  },
  {
   "cell_type": "markdown",
   "metadata": {},
   "source": [
    "### 25 阅读\n",
    "阅读 “Real Python / Dictionaries in Python” 和 “Real Python / Sets in Python”，学习有关 Python 字\n",
    "典 (dict) 和集合 (set) 两种容器 (container) 类型的基础知识。"
   ]
  },
  {
   "cell_type": "markdown",
   "metadata": {},
   "source": [
    "### 26 简答题\n",
    "Python 字典 (dict) ⾥的键 (key) 与 Python 集合 (set) ⾥的元素 (element) 有什么相同之处？"
   ]
  },
  {
   "cell_type": "markdown",
   "metadata": {},
   "source": [
    "集合 (set) 本质上是只有 键 (key) 但没有 值 (value) 的特殊的字典 (dict)。\n",
    "\n",
    "#### 相同之处"
   ]
  },
  {
   "cell_type": "markdown",
   "metadata": {},
   "source": [
    "- 1.都只能是可散列对象\n",
    "\n",
    "- 2.唯一性：每一个元素（键key）是唯一的，旧值会被新赋值取代\n",
    "\n",
    "- 3.无序（每个键/元素没有固定的位置），不是序列，无法使用切片等通过索引进行的操作"
   ]
  },
  {
   "cell_type": "markdown",
   "metadata": {},
   "source": [
    "###  <font color = red>27简答题\n",
    "能否对 Python 集合 (set) 进⾏切⽚ (slice)？为什么？"
   ]
  },
  {
   "cell_type": "markdown",
   "metadata": {},
   "source": [
    "答：不可以！集合不是序列，它里面的所有元素都是无序排列的，而只有序列对象可以切片"
   ]
  },
  {
   "cell_type": "markdown",
   "metadata": {},
   "source": [
    "### 28 阅读\n",
    "阅读 “Real Python / Reading and Writing Files in Python” ⼀⽂，学习有关 Python 在⽂件读写⽅⾯的\n",
    "基础知识。"
   ]
  },
  {
   "cell_type": "markdown",
   "metadata": {},
   "source": [
    "### 29 简答题\n",
    "当前⼯作⽬录 (present working directory) 是个什么概念？在 Jupyter 或者 IPython 下，⽤什么命令可\n",
    "以查看内核 (kernel) 所处的当前⼯作⽬录 (present working directory"
   ]
  },
  {
   "cell_type": "code",
   "execution_count": 28,
   "metadata": {},
   "outputs": [
    {
     "data": {
      "text/plain": [
       "'C:\\\\Users\\\\MY\\\\python题库整理'"
      ]
     },
     "execution_count": 28,
     "metadata": {},
     "output_type": "execute_result"
    }
   ],
   "source": [
    "%pwd"
   ]
  },
  {
   "cell_type": "markdown",
   "metadata": {},
   "source": [
    "- 当前工作目录(present working directory)是文件系统当前所在的目录，是我们的Python操作在没有特意指定/切换路径的情况下，默认写入的位置"
   ]
  },
  {
   "cell_type": "markdown",
   "metadata": {},
   "source": [
    "###  <font color = red>30 简答题\n",
    "可迭代 (iterable) 是⼀个⾮常重要的 Python 概念。除⽂件对象 (file object) 可迭代 (iterable) 以外，请\n",
    "列举在 Python 内置 (built-in) 的基本数据类型 (primitive data types) 和基本容器 (container) 类型中，\n",
    "有哪些是可迭代的？迭代出来分别是什么？"
   ]
  },
  {
   "cell_type": "markdown",
   "metadata": {},
   "source": [
    "- 字符串可迭代\n",
    "会将每一个字符挨个迭代出来"
   ]
  },
  {
   "cell_type": "code",
   "execution_count": 29,
   "metadata": {},
   "outputs": [
    {
     "name": "stdout",
     "output_type": "stream",
     "text": [
      "'\n",
      "a\n",
      "b\n",
      "c\n",
      "d\n",
      "e\n",
      "f\n",
      "'\n",
      ",\n",
      "'\n",
      "k\n",
      "'\n",
      ",\n",
      "'\n",
      "你\n",
      "好\n",
      "'\n"
     ]
    }
   ],
   "source": [
    "s = \"'abcdef','k','你好'\"\n",
    "for i in s:\n",
    "    print(i)"
   ]
  },
  {
   "cell_type": "markdown",
   "metadata": {},
   "source": [
    "- 容器可迭代：元组，列表：字典，集合（只考虑基础容器，还有生成器、迭代器等，暂不考虑）"
   ]
  },
  {
   "cell_type": "code",
   "execution_count": 30,
   "metadata": {},
   "outputs": [
    {
     "data": {
      "text/plain": [
       "{'e': 'A', 'f': 'B', ('a', 'b'): ['c', 'd']}"
      ]
     },
     "execution_count": 30,
     "metadata": {},
     "output_type": "execute_result"
    },
    {
     "data": {
      "text/plain": [
       "{'g', 'h', 'j', 't'}"
      ]
     },
     "execution_count": 30,
     "metadata": {},
     "output_type": "execute_result"
    }
   ],
   "source": [
    "t = ('a','b')\n",
    "l = ['c','d']\n",
    "d = {'e':'A','f':'B',t:l}\n",
    "se = {'g','h','t','j'}\n",
    "d\n",
    "se"
   ]
  },
  {
   "cell_type": "code",
   "execution_count": 31,
   "metadata": {},
   "outputs": [
    {
     "name": "stdout",
     "output_type": "stream",
     "text": [
      "a\n",
      "b\n",
      "-----------\n",
      "c\n",
      "d\n",
      "-----------\n",
      "e\n",
      "f\n",
      "('a', 'b')\n",
      "-----------\n",
      "h\n",
      "g\n",
      "t\n",
      "j\n",
      "-----------\n"
     ]
    }
   ],
   "source": [
    "for k in [t,l,d,se]:\n",
    "    for i in k:\n",
    "        print(i)\n",
    "    print('-----------')"
   ]
  },
  {
   "cell_type": "markdown",
   "metadata": {},
   "source": [
    "#### 列表、元组会挨个元素的迭代出来，而字典只会迭代出键（key）不会迭代出值；集合最为奇葩，它虽然可以迭代出所包含的每一个"
   ]
  },
  {
   "cell_type": "markdown",
   "metadata": {},
   "source": [
    "### 31 阅读\n",
    "阅读 “Real Python / Python String Formatting Best Practices” ⼀⽂，学习 Python 在格式化字符串⽅\n",
    "⾯的基础知识"
   ]
  },
  {
   "cell_type": "markdown",
   "metadata": {},
   "source": [
    "### 32 简答题\n",
    "在迭代过程中如果同时需要每次迭代的序号，可以借助于哪个 Python 内置函数 (built-in function)？请\n",
    "举代码例⼦说明其应⽤。"
   ]
  },
  {
   "cell_type": "markdown",
   "metadata": {},
   "source": [
    "可以借助enumerate函数"
   ]
  },
  {
   "cell_type": "code",
   "execution_count": 32,
   "metadata": {},
   "outputs": [
    {
     "name": "stdout",
     "output_type": "stream",
     "text": [
      "第一次迭代的序号是0;得出来的元素是 'a'\n",
      "第一次迭代的序号是1;得出来的元素是 'b'\n",
      "第一次迭代的序号是2;得出来的元素是 'c'\n"
     ]
    }
   ],
   "source": [
    "l = ['a', 'b', 'c']\n",
    "for index, letter in enumerate(l):\n",
    "    print(f\"第一次迭代的序号是{index};得出来的元素是 '{letter}'\")"
   ]
  },
  {
   "cell_type": "markdown",
   "metadata": {},
   "source": [
    "### 33 阅读\n",
    "阅读 “DataCamp / Python List Comprehension Tutorial” ⼀⽂，学习 Python 列表推导式 (list\n",
    "comprehension) 的基础知识"
   ]
  },
  {
   "cell_type": "markdown",
   "metadata": {},
   "source": [
    "### 34 阅读\n",
    "阅读 “DataCamp / Python Dictionary Comprehension Tutorial” ⼀⽂，学习 Python 字典推导式 (dict\n",
    "comprehension) 的基础知识。"
   ]
  },
  {
   "cell_type": "markdown",
   "metadata": {},
   "source": [
    "上面几个内容12讲里面有"
   ]
  },
  {
   "cell_type": "markdown",
   "metadata": {},
   "source": [
    "### 35 简答题\n",
    "请将以下 Python 代码中的 for 循环改⽤列表推导式 (list comprehension) 完成，以达到相同的效\n",
    "果。"
   ]
  },
  {
   "cell_type": "code",
   "execution_count": 33,
   "metadata": {},
   "outputs": [
    {
     "name": "stdout",
     "output_type": "stream",
     "text": [
      "['There are cats', 'There are birds']\n"
     ]
    }
   ],
   "source": [
    "animals = ['dog', 'cats', 'birds']\n",
    "plurals = []\n",
    "for animal in animals:\n",
    "    if animal.endswith('s'):\n",
    "        plural = f'There are {animal}'\n",
    "        plurals.append(plural)\n",
    "print(plurals)"
   ]
  },
  {
   "cell_type": "code",
   "execution_count": 34,
   "metadata": {},
   "outputs": [
    {
     "name": "stdout",
     "output_type": "stream",
     "text": [
      "['There are cats', 'There are birds']\n"
     ]
    }
   ],
   "source": [
    "plurals =print( [f'There are {i}'  for i in animals if i.endswith('s')])"
   ]
  },
  {
   "cell_type": "markdown",
   "metadata": {},
   "source": [
    "### 36 简答题\n",
    "Python 会把哪些类型的表达式判断为逻辑假 (False)，其他则判断为逻辑真 (True)？"
   ]
  },
  {
   "cell_type": "markdown",
   "metadata": {},
   "source": [
    "#### 以下对象会被判断为逻辑假"
   ]
  },
  {
   "cell_type": "markdown",
   "metadata": {},
   "source": [
    "1. None 和 False\n",
    "2. 任意数值 (numeric) 类型的 零值，如 0 、 0.0 、 0j\n",
    "3. ⻓度为零 的容器 (container)，如空字符串 (empty str) '' 、空元组 (empty tuple) () 、空列\n",
    "表 [] 、空字典 {} 、空集合 set() ，即 len(x) == 0\n",
    "4. 满⾜` x.__bool__() == False `的任何对象\n",
    "\n",
    "#### 其他的都被判定为逻辑真"
   ]
  },
  {
   "cell_type": "markdown",
   "metadata": {},
   "source": [
    "### <font color = red>37 简答题\n",
    "Python 允许⾮常灵活 (flexible) 的函数 (function) 定义。请列举⾄少 4 个要点，说明 Python 函数定义\n",
    "为什么灵活 (flexible)。"
   ]
  },
  {
   "cell_type": "markdown",
   "metadata": {},
   "source": [
    "- 1. 可以在给定的文件中定义任意数量的函数\n",
    "- 2. 函数可以在其他函数内部定义(通常也是这样)\n",
    "- 3. 任何对象都可以作为参数传递给函数，包括其他函数\n",
    "- 4. 函数可以返回任何类型的对象，包括函数\n"
   ]
  },
  {
   "cell_type": "code",
   "execution_count": 35,
   "metadata": {},
   "outputs": [
    {
     "data": {
      "text/plain": [
       "12.0"
      ]
     },
     "execution_count": 35,
     "metadata": {},
     "output_type": "execute_result"
    },
    {
     "data": {
      "text/plain": [
       "22.0"
      ]
     },
     "execution_count": 35,
     "metadata": {},
     "output_type": "execute_result"
    },
    {
     "ename": "NameError",
     "evalue": "name 'add_one' is not defined",
     "output_type": "error",
     "traceback": [
      "\u001b[1;31m---------------------------------------------------------------------------\u001b[0m",
      "\u001b[1;31mNameError\u001b[0m                                 Traceback (most recent call last)",
      "\u001b[1;32m<ipython-input-35-cdf046e6c90f>\u001b[0m in \u001b[0;36m<module>\u001b[1;34m\u001b[0m\n\u001b[0;32m      7\u001b[0m \u001b[0madd_ten\u001b[0m\u001b[1;33m(\u001b[0m\u001b[1;36m2.\u001b[0m\u001b[1;33m)\u001b[0m\u001b[1;33m\u001b[0m\u001b[1;33m\u001b[0m\u001b[0m\n\u001b[0;32m      8\u001b[0m \u001b[0madd_ten\u001b[0m\u001b[1;33m(\u001b[0m\u001b[0madd_ten\u001b[0m\u001b[1;33m(\u001b[0m\u001b[1;36m2.\u001b[0m\u001b[1;33m)\u001b[0m\u001b[1;33m)\u001b[0m\u001b[1;33m\u001b[0m\u001b[1;33m\u001b[0m\u001b[0m\n\u001b[1;32m----> 9\u001b[1;33m \u001b[0madd_one\u001b[0m\u001b[1;33m(\u001b[0m\u001b[0madd_ten\u001b[0m\u001b[1;33m(\u001b[0m\u001b[1;36m2\u001b[0m\u001b[1;33m)\u001b[0m\u001b[1;33m)\u001b[0m\u001b[1;33m\u001b[0m\u001b[1;33m\u001b[0m\u001b[0m\n\u001b[0m",
      "\u001b[1;31mNameError\u001b[0m: name 'add_one' is not defined"
     ]
    }
   ],
   "source": [
    "def add_ten(x):\n",
    "    x = x+10\n",
    "    def add_one(x):\n",
    "        x +=1\n",
    "    return x\n",
    "    \n",
    "add_ten(2.)\n",
    "add_ten(add_ten(2.))\n",
    "add_one(add_ten(2))"
   ]
  },
  {
   "cell_type": "markdown",
   "metadata": {},
   "source": [
    "### <font color = red>38 简答题\n",
    "如何在定义 Python 函数的时候给函数添加⽂档 (documentation)？请举⼀个简单的例⼦说明 Python\n",
    "的⽂档字符串 (docstring) 语法。"
   ]
  },
  {
   "cell_type": "markdown",
   "metadata": {},
   "source": [
    "在def语句后函数体之前用\"\"\"\"\"\"添加解释文档"
   ]
  },
  {
   "cell_type": "code",
   "execution_count": 36,
   "metadata": {},
   "outputs": [],
   "source": [
    "def add_ten(x):\n",
    "    \"\"\"\n",
    "        传入一个数值，+10返回\n",
    "    \"\"\"\n",
    "    x = x+10\n",
    "    return x\n",
    "add_ten?\n",
    "add_ten??"
   ]
  },
  {
   "cell_type": "markdown",
   "metadata": {},
   "source": [
    "### 39 阅读\n",
    "阅读 [“w3schools.com / Python Lambda” ](https://www.w3schools.com/python/python_lambda.asp)简短教程，学习 Python lambda expression 的基础知识。"
   ]
  },
  {
   "cell_type": "markdown",
   "metadata": {},
   "source": [
    "#### <font color = red>40 简答题\n",
    "Python lambda expression 通常在什么情境下使⽤？请举例说明。"
   ]
  },
  {
   "cell_type": "markdown",
   "metadata": {},
   "source": [
    "Lambda 单行函数用于在一行上创建简单的函数，它创建的函数是匿名函数，不需要背被赋予一个名称，通常在临时需要一个函数而且不需要为其赋名的时候使用\n",
    "\n",
    "当然有时候也是为了配合其他函数"
   ]
  },
  {
   "cell_type": "code",
   "execution_count": 37,
   "metadata": {},
   "outputs": [
    {
     "data": {
      "text/plain": [
       "(6.0, 6.661338147750939e-14)"
      ]
     },
     "execution_count": 37,
     "metadata": {},
     "output_type": "execute_result"
    }
   ],
   "source": [
    "from scipy.integrate import quad\n",
    "\n",
    "quad(lambda x: 2*x+1, 0, 2)"
   ]
  },
  {
   "cell_type": "code",
   "execution_count": 38,
   "metadata": {},
   "outputs": [
    {
     "data": {
      "text/plain": [
       "['B', 'a', 'c', 'd']"
      ]
     },
     "execution_count": 38,
     "metadata": {},
     "output_type": "execute_result"
    },
    {
     "data": {
      "text/plain": [
       "['a', 'B', 'c', 'd']"
      ]
     },
     "execution_count": 38,
     "metadata": {},
     "output_type": "execute_result"
    },
    {
     "data": {
      "text/plain": [
       "['B', 'a', 'c', 'd']"
      ]
     },
     "execution_count": 38,
     "metadata": {},
     "output_type": "execute_result"
    }
   ],
   "source": [
    "l = ['c','d','a','B']\n",
    "sorted(l) \n",
    "sorted(l, key=lambda s: s.lower()) \n",
    "sorted(l, key=lambda s: s[::-1]) "
   ]
  },
  {
   "cell_type": "markdown",
   "metadata": {},
   "source": [
    "### <font color =red >41 简答题\n",
    "在 定义 Python 函数的时候，什么是位置形参 (positonal parameters)？什么是关键词参数 (keyword\n",
    "parameters)？请举例说明⼆者。"
   ]
  },
  {
   "cell_type": "markdown",
   "metadata": {},
   "source": [
    "- 位置形参（定位形参）\n",
    "\n",
    "在函数签名中在'/'前的只能传递位置实参，强制使用者用位置参数来传参。因而使用者需要按默认的位置形参的顺序依次填写传递参数，它们的意义是按顺序确定的\n",
    "\n",
    "此时使用`\"参数名=参数\"`的语法形式传递实参会报错\n",
    "\n",
    "#### 定位形参必须在命名实参之前\n",
    "\n",
    "- 关键词参数\n",
    "\n",
    "参数是以`\"参数名=参数\"`的语法形式传递的则成为关键词参数，在传递该参数时参数会被传递到函数内部的相应参数名对应的位置,尤其是在参数较多的情况下，如果难以记清位置形参的正确位置，可以使用关键字参数，让参数自动传递给函数内部相应的位置\n",
    "\n"
   ]
  },
  {
   "cell_type": "code",
   "execution_count": 39,
   "metadata": {},
   "outputs": [
    {
     "data": {
      "text/plain": [
       "<Signature (ding1, *, ding2, only_ming)>"
      ]
     },
     "execution_count": 39,
     "metadata": {},
     "output_type": "execute_result"
    },
    {
     "data": {
      "text/plain": [
       "0.8283185307179586"
      ]
     },
     "execution_count": 39,
     "metadata": {},
     "output_type": "execute_result"
    },
    {
     "data": {
      "text/plain": [
       "<Signature (a, axis=None, dtype=None, out=None, keepdims=<no value>)>"
      ]
     },
     "execution_count": 39,
     "metadata": {},
     "output_type": "execute_result"
    },
    {
     "data": {
      "text/plain": [
       "2.5"
      ]
     },
     "execution_count": 39,
     "metadata": {},
     "output_type": "execute_result"
    },
    {
     "data": {
      "text/plain": [
       "30"
      ]
     },
     "execution_count": 39,
     "metadata": {},
     "output_type": "execute_result"
    }
   ],
   "source": [
    "import inspect\n",
    "import numpy as np\n",
    "def name(ding1,*,ding2,only_ming):\n",
    "    value = (ding1 + ding2*np.pi)/only_ming \n",
    "    return value\n",
    "inspect.signature(name)\n",
    "#name(1,1,only_ming = 5)\n",
    "name(1,ding2 = 1,only_ming = 5)\n",
    "inspect.signature(np.mean)\n",
    "np.mean([2, 1, 3, 4]) # start 参数取默认值\n",
    "#sum([2, 1, 3, 4], start=20) # start 是命名形参，但只接受定位实参\n",
    "sum([2, 1, 3, 4], 20)"
   ]
  },
  {
   "cell_type": "markdown",
   "metadata": {},
   "source": [
    "### <font color =red>42 简答题\n",
    "在 调⽤ Python 函数的时候，什么是位置实参 (positional arguments)？什么是关键词实参 (keyword\n",
    "arguments)？请举例说明⼆者。"
   ]
  },
  {
   "cell_type": "markdown",
   "metadata": {},
   "source": [
    "- 位置实参 （位置实参 ）\n",
    "\n",
    "在函数签名中在'/'前的只能传递位置实参，强制使用者用位置参数来传参。因而使用者需要按默认的位置形参的顺序依次填写的参数会被按顺序赋给位置形参，填写的参数成为位置实参，起赋值作用\n",
    "\n",
    "#### 定位形参必须在命名实参之前\n",
    "\n",
    "- 关键词实参\n",
    "由于关键词形参一般都有默认值，所以关键词实参的主要作用与其说是传递实际参数，不如说是替换为所给的参数，实参是以`\"参数名=参数\"`的语法形式传递的，在传递该参数时参数会替换掉原函数的默认关键词形参。\n"
   ]
  },
  {
   "cell_type": "code",
   "execution_count": 40,
   "metadata": {},
   "outputs": [
    {
     "data": {
      "text/plain": [
       "3"
      ]
     },
     "execution_count": 40,
     "metadata": {},
     "output_type": "execute_result"
    },
    {
     "data": {
      "text/plain": [
       "4"
      ]
     },
     "execution_count": 40,
     "metadata": {},
     "output_type": "execute_result"
    }
   ],
   "source": [
    "def f(x, *,a=1, b=1):\n",
    "    return a + b * x\n",
    "f(2)\n",
    "f(2,a=2)"
   ]
  },
  {
   "cell_type": "code",
   "execution_count": 41,
   "metadata": {},
   "outputs": [
    {
     "data": {
      "text/plain": [
       "<Signature (ding1, *, ding2=1, only_ming=2)>"
      ]
     },
     "execution_count": 41,
     "metadata": {},
     "output_type": "execute_result"
    },
    {
     "data": {
      "text/plain": [
       "2.0707963267948966"
      ]
     },
     "execution_count": 41,
     "metadata": {},
     "output_type": "execute_result"
    },
    {
     "data": {
      "text/plain": [
       "2.0707963267948966"
      ]
     },
     "execution_count": 41,
     "metadata": {},
     "output_type": "execute_result"
    },
    {
     "name": "stdout",
     "output_type": "stream",
     "text": [
      "------------------------------\n"
     ]
    },
    {
     "data": {
      "text/plain": [
       "<Signature (a, axis=None, dtype=None, out=None, keepdims=<no value>)>"
      ]
     },
     "execution_count": 41,
     "metadata": {},
     "output_type": "execute_result"
    },
    {
     "data": {
      "text/plain": [
       "2.5"
      ]
     },
     "execution_count": 41,
     "metadata": {},
     "output_type": "execute_result"
    },
    {
     "data": {
      "text/plain": [
       "30"
      ]
     },
     "execution_count": 41,
     "metadata": {},
     "output_type": "execute_result"
    }
   ],
   "source": [
    "import inspect\n",
    "import numpy as np\n",
    "def name(ding1,*,ding2=1,only_ming=2):\n",
    "    value = (ding1 + ding2*np.pi)/only_ming \n",
    "    return value\n",
    "inspect.signature(name)\n",
    "#name(1,1,only_ming = 5)\n",
    "name(1)\n",
    "name(1,ding2 = 1,only_ming = 2)\n",
    "print('------------------------------')\n",
    "inspect.signature(np.mean)\n",
    "np.mean([2, 1, 3, 4]) # start 参数取默认值\n",
    "#sum([2, 1, 3, 4], start=20) # start 是命名形参，但只接受定位实参\n",
    "sum([2, 1, 3, 4], 20)"
   ]
  },
  {
   "cell_type": "markdown",
   "metadata": {},
   "source": [
    "### 43 简答题\n",
    "已知两个⻓度相同的整数列表 `x_vals` 和 `y_vals` ，请写⼀个函数 `inner_product` ，接收这两个位置\n",
    "参数，利⽤内置函数` zip` 和 `sum` ，计算并返回其内积"
   ]
  },
  {
   "cell_type": "code",
   "execution_count": 42,
   "metadata": {},
   "outputs": [
    {
     "data": {
      "text/plain": [
       "70"
      ]
     },
     "execution_count": 42,
     "metadata": {},
     "output_type": "execute_result"
    }
   ],
   "source": [
    "x_vals = [1,2,3,4]\n",
    "y_vals = [5,6,7,8]\n",
    "def inner_product(x_vals,y_vals):\n",
    "    o = zip(x_vals,y_vals)\n",
    "    return sum(x * y for x , y in o)\n",
    "inner_product(x_vals,y_vals)"
   ]
  },
  {
   "cell_type": "markdown",
   "metadata": {},
   "source": [
    "#### 44 简答题\n",
    "只写⼀⾏ Python 代码，计算10,...,99之间有多少个数字是`3`或者`7` 的整数倍 (答案是 39)。"
   ]
  },
  {
   "cell_type": "code",
   "execution_count": 43,
   "metadata": {},
   "outputs": [
    {
     "data": {
      "text/plain": [
       "39"
      ]
     },
     "execution_count": 43,
     "metadata": {},
     "output_type": "execute_result"
    }
   ],
   "source": [
    "sum([x % 7== 0 or x % 3   == 0 for x in range(10,100)])"
   ]
  },
  {
   "cell_type": "markdown",
   "metadata": {},
   "source": [
    "### 45 简答题\n",
    "数学上，`n`次多项式 ( -th polynomial) 的定义为\n",
    "$$p(x) = a_0 + a_1x+a_2x^2+......+a_nx^{n} =\\sum_{i=0}^na_{i}x^{i}$$"
   ]
  },
  {
   "cell_type": "markdown",
   "metadata": {},
   "source": [
    "请写⼀个函数` p(x, coeff) `，其参数` x` 为上式中的`x` ，参数` coeff `为上式中参数 $a_0 , a_1,a_2,......,a_n$所\n",
    "构成的列表，该函数利⽤内置函数` sum` 和` enumerate `计算并返回多项式的值。"
   ]
  },
  {
   "cell_type": "markdown",
   "metadata": {},
   "source": [
    "#### 发现`x`是一个传递之后不变的参数，而`x`的指数随与索引变化一致，所以可以用enumerate"
   ]
  },
  {
   "cell_type": "code",
   "execution_count": 44,
   "metadata": {},
   "outputs": [],
   "source": [
    "def p(x, coeff):\n",
    "    return sum(a * x**i for i, a in enumerate(coeff))"
   ]
  },
  {
   "cell_type": "markdown",
   "metadata": {},
   "source": [
    "### 46 简答题\n",
    "请写⼀个函数 f(string) ，参数 string 可以为任意字符串 (str)，该函数计算并返回 string 中所\n",
    "包含的数字字符 (0, … 9) 的个数。例如， f('The squre root of 64 is 8.') 将能够返回 3 。"
   ]
  },
  {
   "cell_type": "code",
   "execution_count": 45,
   "metadata": {},
   "outputs": [
    {
     "data": {
      "text/plain": [
       "2"
      ]
     },
     "execution_count": 45,
     "metadata": {},
     "output_type": "execute_result"
    }
   ],
   "source": [
    "sum(i in (\"1\",'2','3','4','5','6','7','8','9','0') for i in '世界上只有10种人' )"
   ]
  },
  {
   "cell_type": "code",
   "execution_count": 58,
   "metadata": {
    "scrolled": true
   },
   "outputs": [
    {
     "data": {
      "text/plain": [
       "5"
      ]
     },
     "execution_count": 58,
     "metadata": {},
     "output_type": "execute_result"
    }
   ],
   "source": [
    "s = 'The squre root of 64 is 8.实际上这字符串里面有5个大于1的数字'\n",
    "def num_of_number(s):\n",
    "    return sum(i in (\"1\",'2','3','4','5','6','7','8','9','0') for i in s )\n",
    "num_of_number(s)"
   ]
  },
  {
   "cell_type": "markdown",
   "metadata": {},
   "source": [
    "### 47 简答题\n",
    "请写⼀个函数 f(seq_a, seq_b) ，两个参数 seq_a 和 seq_b 都是序列 (sequence)，如列表 (list)、\n",
    "元组 (tuple)、字符串 (str)。若 seq_a ⾥的每⼀个元素 (element) 都在 seq_b 中，且该元素在 seq_b\n",
    "中仅出现⼀次，则返回 True ，否则返回 False 。例如：\n",
    "f('abc', 'bcde') 返回 False ； f('abc', 'bcdea') 返回 True ； f('abc', 'bcdeab') 返回\n",
    "False 。"
   ]
  },
  {
   "cell_type": "code",
   "execution_count": 47,
   "metadata": {},
   "outputs": [
    {
     "name": "stdout",
     "output_type": "stream",
     "text": [
      "True\n",
      "False\n",
      "False\n",
      "True\n"
     ]
    }
   ],
   "source": [
    "def f(seq_a, seq_b):\n",
    "    count = 0\n",
    "    is_subset = True\n",
    "    for a in seq_a:\n",
    "        if a not in seq_b:\n",
    "                is_subset = False\n",
    "        else:\n",
    "            for b in seq_b:\n",
    "                if a == b:\n",
    "                    count += 1\n",
    "                    if count > int(len(seq_a)):\n",
    "                        is_subset = False\n",
    "                    else:\n",
    "                        continue\n",
    "\n",
    "    return is_subset\n",
    "# == test == #\n",
    "\n",
    "print(f('abc', 'bcdea'))\n",
    "print(f('abc', 'bcdeab') )\n",
    "print(f('abc', 'bcdeaa') )\n",
    "print(f('abc', 'bcdeaf') )"
   ]
  },
  {
   "cell_type": "markdown",
   "metadata": {},
   "source": [
    "### 48 简答题\n",
    "请写⼀个线性插值函数 linear_interpolate(x, y, new_x) 。参数 `x` 和` y` 都是浮点数 (float) 所构\n",
    "成的列表 (list)，⻓度相同，分别代表已知的⼀系列点的` x `坐标和 `y `坐标。`x `⾥的数值必须单调递增。\n",
    "参数 `new_x `也是浮点数 (float) 所构成的列表 (list)，也是单调递增，但 `new_x `⾥的每⼀个数值都介于\n",
    "`x `的最⼤值和最⼩值之间，⻓度可以不同于` x `。linear_interpolate 函数 (function) 将计算并返回\n",
    "`new_y` ，⼀个浮点数 (float) 所构成的列表 (list)，⻓度与` new_x` 相同，每⼀个元素的值都代表 `new_x`\n",
    "⾥相同位置元素所代表的 `x `坐标所对应的` y `坐标。`new_x` 与` new_y` 所对应的每⼀个点，都必须要落在\n",
    "`x` 与 `y `所对应的所有点中 `x `坐标最接近的两个点所连成的直线上。例如："
   ]
  },
  {
   "cell_type": "code",
   "execution_count": 48,
   "metadata": {},
   "outputs": [
    {
     "name": "stdout",
     "output_type": "stream",
     "text": [
      "1.5\n",
      "2.0\n",
      "[1.5, 2.0]\n"
     ]
    }
   ],
   "source": [
    "x = [0, 1, 2]\n",
    "y = [2, 1, 3]\n",
    "new_x=[0.5, 1.5]\n",
    "length = len(x)\n",
    "length2 = len(new_x)\n",
    "y0 = []  \n",
    "for k in range(1,length+1):\n",
    "    for i in range(1,length2+1):\n",
    "        if new_x[i-1] >= x[k-1] and new_x[i-1] <= x[k]:\n",
    "            y1 =y[k-1] + (new_x[i-1]-x[k-1]) * (y[k] - y[k-1]) / (x[i]-x[i-1])\n",
    "            print(y1)\n",
    "            y0.append(y1)\n",
    "print(y0)\n",
    "#length2  \n"
   ]
  },
  {
   "cell_type": "code",
   "execution_count": 49,
   "metadata": {},
   "outputs": [
    {
     "name": "stdout",
     "output_type": "stream",
     "text": [
      "1.5\n",
      "2.0\n",
      "[1.5, 2.0]\n"
     ]
    }
   ],
   "source": [
    "x = [0, 1, 2]\n",
    "y = [2, 1, 3]\n",
    "def linear_interpolate(x,y):\n",
    "    new_x=[0.5, 1.5]\n",
    "    length = len(x)\n",
    "    length2 = len(new_x)\n",
    "    y0 = []  \n",
    "    for k in range(1,length+1):\n",
    "        for i in range(1,length2+1):\n",
    "            if new_x[i-1] >= x[k-1] and new_x[i-1] <= x[k]:\n",
    "                y1 =y[k-1] + (new_x[i-1]-x[k-1]) * (y[k] - y[k-1]) / (x[i]-x[i-1])\n",
    "                print(y1)\n",
    "                y0.append(y1)\n",
    "    print(y0)\n",
    "#length2  \n",
    "linear_interpolate(x,y)"
   ]
  }
 ],
 "metadata": {
  "kernelspec": {
   "display_name": "Python 3",
   "language": "python",
   "name": "python3"
  },
  "language_info": {
   "codemirror_mode": {
    "name": "ipython",
    "version": 3
   },
   "file_extension": ".py",
   "mimetype": "text/x-python",
   "name": "python",
   "nbconvert_exporter": "python",
   "pygments_lexer": "ipython3",
   "version": "3.7.7"
  }
 },
 "nbformat": 4,
 "nbformat_minor": 4
}
