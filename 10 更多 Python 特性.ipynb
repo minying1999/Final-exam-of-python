{
 "cells": [
  {
   "cell_type": "markdown",
   "metadata": {},
   "source": [
    "### 1 阅读\n",
    "阅读教材 [“Advanced Python Programming: More Language Features”](https://python-programming.quantecon.org/python_advanced_features.html) ⼀节，了解并学习更多的\n",
    "Python 中⾼级概念。\n",
    "\n",
    "\n",
    "\n",
    "注意，如果你是第⼀次学习 Python，那么本节课你只能够 了解 这些概念。掌握 这些概念则需要⼤量的\n",
    "练习和消化吸收时间。不要⼼急，也不要⽓馁，千⾥之⾏始于⾜下。"
   ]
  },
  {
   "cell_type": "markdown",
   "metadata": {},
   "source": [
    "### 2 简答题 \n",
    "\n",
    "\n",
    "⼀个 Python 对象 (object) 具有什么⽅法 (method) 就可以被称作为⼀个 “迭代器” (iterator)？这个⽅法(或者说迭代器 (iterator)) 的作⽤应该是什么？"
   ]
  },
  {
   "cell_type": "markdown",
   "metadata": {},
   "source": [
    "迭代器是具有`__next__`方法的对象，它是访问可迭代序列的一种方式，通常其从序列的第一个元素开始访问，直到所有的元素都被访问才结束。迭代器的本质上就是在循环调用可迭代对象的`__next__()`方法，每调用一次都返回下一个元素，知道“举报”出`StopIteration`时自动停止的容器对象"
   ]
  },
  {
   "cell_type": "markdown",
   "metadata": {},
   "source": [
    "### 3 多选题 \n",
    "以下哪⼏个代码运⾏后 (假设能够成功) 得到的变量 (variable) 会是迭代器 (iterator)？\n",
    "\n",
    "A. a = open('somefile.txt', 'r')是\n",
    "\n",
    "B. b = enumerate(['foo', 'bar'])是\n",
    "\n",
    "C. c = ['spam', 'eggs']否\n",
    "\n",
    "D. d = iter(['spam', 'eggs'])是\n",
    "\n",
    "#### 答：ABD：是C：不是"
   ]
  },
  {
   "cell_type": "code",
   "execution_count": 2,
   "metadata": {},
   "outputs": [
    {
     "data": {
      "text/plain": [
       "26"
      ]
     },
     "execution_count": 2,
     "metadata": {},
     "output_type": "execute_result"
    },
    {
     "data": {
      "text/plain": [
       "' hello world!\\n'"
      ]
     },
     "execution_count": 2,
     "metadata": {},
     "output_type": "execute_result"
    },
    {
     "data": {
      "text/plain": [
       "'This is Ming'"
      ]
     },
     "execution_count": 2,
     "metadata": {},
     "output_type": "execute_result"
    }
   ],
   "source": [
    "a = open('somefile.txt', 'w')\n",
    "a.write(' hello world!\\nThis is Ming')    \n",
    "a.close()\n",
    "a = open('somefile.txt', 'r')\n",
    "next(a)\n",
    "next(a)"
   ]
  },
  {
   "cell_type": "markdown",
   "metadata": {},
   "source": [
    "### 4 简答题\n"
   ]
  },
  {
   "cell_type": "code",
   "execution_count": 3,
   "metadata": {},
   "outputs": [
    {
     "name": "stdout",
     "output_type": "stream",
     "text": [
      "spam\n",
      "eggs\n"
     ]
    }
   ],
   "source": [
    "for i in ['spam', 'eggs']:\n",
    "    print(i)"
   ]
  },
  {
   "cell_type": "markdown",
   "metadata": {},
   "source": [
    "请以以上代码为例，简述 Python 解释器 (interpreter) 执⾏ for 语句的内部机制。"
   ]
  },
  {
   "cell_type": "markdown",
   "metadata": {},
   "source": [
    "#### 答：\n",
    "1. 由于列表不是迭代器，属于迭代对象，而循环用于迭代对象时，在循环开始之前迭代对象会被自动转换为迭代器（相当于 ['spam', 'eggs']被自动调用了`.__iter__`方法）\n",
    "\n",
    "然后就和迭代迭代器的过程无异（下面的可以不用写，只是出于自己整理的理解，便于自己复盘）：\n",
    "\n",
    "2. for循环会自动为迭代器对象调用`.__next__()`方法并将结果绑定到i（可替换），直到“举报”StopIteration 错误出现，for循环会自动停止循环迭代，而且不会讲异常错误报告给用户"
   ]
  },
  {
   "cell_type": "markdown",
   "metadata": {},
   "source": [
    "#### 本题相当于一直调用："
   ]
  },
  {
   "cell_type": "markdown",
   "metadata": {},
   "source": [
    "`__iter__().__next__()`\n"
   ]
  },
  {
   "cell_type": "markdown",
   "metadata": {},
   "source": [
    "#### 下面是一个随手的测试"
   ]
  },
  {
   "cell_type": "code",
   "execution_count": 4,
   "metadata": {},
   "outputs": [
    {
     "name": "stdout",
     "output_type": "stream",
     "text": [
      "spam\n"
     ]
    },
    {
     "data": {
      "text/plain": [
       "'eggs'"
      ]
     },
     "execution_count": 4,
     "metadata": {},
     "output_type": "execute_result"
    }
   ],
   "source": [
    "#test\n",
    "#a= iter(['spam', 'eggs'])\n",
    "a= ['spam', 'eggs'].__iter__()\n",
    "for i in a:\n",
    "    print(i)\n",
    "    a.__next__()"
   ]
  },
  {
   "cell_type": "code",
   "execution_count": 5,
   "metadata": {},
   "outputs": [
    {
     "data": {
      "text/plain": [
       "'Who'"
      ]
     },
     "execution_count": 5,
     "metadata": {},
     "output_type": "execute_result"
    }
   ],
   "source": [
    "#['spam', 'eggs'].__next__()\n",
    "iter(['Who', 'eggs']).__next__()"
   ]
  },
  {
   "cell_type": "markdown",
   "metadata": {},
   "source": [
    "### 5 课本补充"
   ]
  },
  {
   "cell_type": "markdown",
   "metadata": {},
   "source": [
    "- ⼀个 Python 对象 (object) 具有 `__next__ `⽅法 (method) 就可以被称作为⼀个 “迭代器”\n",
    "(iterator) 对象 (object)。这个⽅法 (method) 的作⽤是返回 (return) 下⼀个要迭代出的对象\n",
    "(object)，或者通过举报 (raise) StopIteration 异常 (Exception) 来表示迭代结束。\n",
    "- ⼀个 Python 对象 (object) 具有 `__iter__ `⽅法 (method) 就可以被称作为⼀个 “可迭代”\n",
    "(iterable) 对象 (object)。这个⽅法 (method) 的作⽤是返回 (return) ⼀个迭代器 (iterator)。\n",
    "- 如果 x 是迭代器 (iterator)，那么 next(x) 就通过调⽤ `x.__next__() `⽽得到下⼀个要迭代出\n",
    "的对象 (object)，或者举报 (raise) StopIteration 异常 (Exception) 来表示迭代结束。\n",
    "- 由` __next__()` ⽅法 (method) 或者 next() 函数 (function) 所举报 (raise) 的 StopIteration\n",
    "异常 (Exception) ⼀般在⽤于 for 循环时会⾃动得到处理 (循环正常结束)，⽽并不会向⽤户报\n",
    "错。\n",
    "- 如果` x `是可迭代 (iterable)，那么 iter(x) 就通过调⽤` x.__iter__()` ⽽得到 x 的迭代器\n",
    "(iterator)。\n",
    "- 在绝⼤多数情况下，迭代器 (iterator) 都同时是可迭代 (iterable)。迭代器 (iterator) 只要实现⼀个\n",
    "`__iter__ `⽅法 (method)，简单地返回它⾃⼰ (self)，就成为可迭代 (iterable)。\n",
    "- 可迭代 (iterable) 对象 (object) 虽然包括迭代器 (iterator)，但并不⼀定都是迭代器 (iterator)。例\n",
    "如：\n",
    "    - 内置函数 (built-in function) enumerate 、filter 、map 、reversed 、zip 等返回的对\n",
    "象 (object) 都是迭代器 (iterator)，同时也是可迭代 (iterable)。\n",
    "    - 内置类型 (built-in class) bytes 、dict 、frozenset 、list 、set 、str 、tuple 等的\n",
    "实例 (instance) 对象 (object) 都是可迭代 (iterable)，但都不是迭代器 (iterator)。"
   ]
  },
  {
   "cell_type": "markdown",
   "metadata": {},
   "source": [
    "### 6 简答题 \n",
    "以下代码最后⼀步会计算 (evaluate) 出什么结果？为什么？"
   ]
  },
  {
   "cell_type": "code",
   "execution_count": 6,
   "metadata": {},
   "outputs": [
    {
     "data": {
      "text/plain": [
       "4"
      ]
     },
     "execution_count": 6,
     "metadata": {},
     "output_type": "execute_result"
    },
    {
     "data": {
      "text/plain": [
       "6"
      ]
     },
     "execution_count": 6,
     "metadata": {},
     "output_type": "execute_result"
    }
   ],
   "source": [
    "x = [4, 3, 2, 1]\n",
    "y = iter(x)\n",
    "next(y)\n",
    "sum(y)"
   ]
  },
  {
   "cell_type": "markdown",
   "metadata": {},
   "source": [
    "#### 答：\n",
    "iter(x)把列表x转换为列表迭代器y，y在next(y)函数调用之后失去了第一个对象4（被消耗掉了），所以最后的sum(y)结果是讲y中剩余的对象3，2，1进行加和（而并非4，3，2，1），得到6"
   ]
  },
  {
   "cell_type": "markdown",
   "metadata": {},
   "source": [
    "### 7 简答题 \n",
    "以下代码最后⼀步会计算 (evaluate) 出什么结果？为什么？"
   ]
  },
  {
   "cell_type": "code",
   "execution_count": 7,
   "metadata": {},
   "outputs": [
    {
     "data": {
      "text/plain": [
       "10"
      ]
     },
     "execution_count": 7,
     "metadata": {},
     "output_type": "execute_result"
    },
    {
     "data": {
      "text/plain": [
       "[]"
      ]
     },
     "execution_count": 7,
     "metadata": {},
     "output_type": "execute_result"
    }
   ],
   "source": [
    "x = [4, 3, 2, 1]\n",
    "y = iter(x)\n",
    "sum(y)\n",
    "list(y)"
   ]
  },
  {
   "cell_type": "markdown",
   "metadata": {},
   "source": [
    "#### 答：\n",
    "迭代器有一个非常重要的特性就是，它取出来的对象是真正的“取出来”，迭代器内部的元素会因为迭代的`__next__`方法而在被调用的同时被消耗掉（也就是每个被调用对象都不会回到迭代器，是一次性的），因而由于在sum()计算时已经调用了所有的y（列表）迭代器的内部对象，sum()之后的y迭代器内部为空"
   ]
  },
  {
   "cell_type": "markdown",
   "metadata": {},
   "source": [
    "### 8 简答题 \n",
    "以下代码最后⼀步会计算 (evaluate) 出什么结果？为什么？"
   ]
  },
  {
   "cell_type": "code",
   "execution_count": 8,
   "metadata": {
    "scrolled": true
   },
   "outputs": [
    {
     "data": {
      "text/plain": [
       "1"
      ]
     },
     "execution_count": 8,
     "metadata": {},
     "output_type": "execute_result"
    },
    {
     "data": {
      "text/plain": [
       "[4, 3, 2]"
      ]
     },
     "execution_count": 8,
     "metadata": {},
     "output_type": "execute_result"
    }
   ],
   "source": [
    "x = [4, 3, 2, 1]\n",
    "y = x\n",
    "y.pop(-1)\n",
    "x"
   ]
  },
  {
   "cell_type": "markdown",
   "metadata": {},
   "source": [
    "答：结果是[4，3，2]，因为调用的pop方法作用是“弹出”，在获取索引位置为-1的迭代器内部对象时会自动将该对象显示出来并消耗掉（删除掉），所以pop后只剩下了[4,3,2]"
   ]
  },
  {
   "cell_type": "markdown",
   "metadata": {},
   "source": [
    "### 9 简答题 \n",
    "以下代码最后⼀步会计算 (evaluate) 出什么结果？为什么？"
   ]
  },
  {
   "cell_type": "code",
   "execution_count": 9,
   "metadata": {},
   "outputs": [
    {
     "data": {
      "text/plain": [
       "9"
      ]
     },
     "execution_count": 9,
     "metadata": {},
     "output_type": "execute_result"
    }
   ],
   "source": [
    "def f(value):\n",
    "    return value**2\n",
    "g = f\n",
    "g(3)"
   ]
  },
  {
   "cell_type": "code",
   "execution_count": 10,
   "metadata": {
    "scrolled": true
   },
   "outputs": [
    {
     "data": {
      "text/plain": [
       "1"
      ]
     },
     "execution_count": 10,
     "metadata": {},
     "output_type": "execute_result"
    },
    {
     "data": {
      "text/plain": [
       "1"
      ]
     },
     "execution_count": 10,
     "metadata": {},
     "output_type": "execute_result"
    }
   ],
   "source": [
    "def f(value):\n",
    "    return value**2\n",
    "g = f\n",
    "g(value = True)\n",
    "f(value = True)"
   ]
  },
  {
   "cell_type": "markdown",
   "metadata": {},
   "source": [
    "#### 答：\n",
    "先定义一个f()函数，可以传递给它一个实参，该函数会返回实参的平方数（如果不是整型或者浮点型的数会报错），接着将g绑定到f函数对象，此时的g和函数f功能一样（因为相当于同一个函数）；传递给g函数一个整数3，得到函数返回的结果9"
   ]
  },
  {
   "cell_type": "markdown",
   "metadata": {},
   "source": [
    "#### 答：\n",
    "\n",
    "定义了一个f(x)=`x**2`的函数,把这个函数赋值给了g，g(3)=`3**2`"
   ]
  },
  {
   "cell_type": "markdown",
   "metadata": {},
   "source": [
    "#### 10 简答题 \n",
    "请⽤⼀句话介绍 Python 命名空间 (namespace) 是什么概念。"
   ]
  },
  {
   "cell_type": "markdown",
   "metadata": {},
   "source": [
    "#### 定义: \n",
    "命名空间是一个符号表，它将名称映射到内存中的对象，可以展现为一个可以存放对象名称绑定到对象的值的关系的字典\n"
   ]
  },
  {
   "cell_type": "markdown",
   "metadata": {},
   "source": [
    "#### 答2：\n",
    "\n",
    "名称空间是一个符号表，用于将名称映射到内存中的对象。命名空间是对一个名字起作用的范围\n",
    ",命名空间的本质：存放名字与值得绑定关系"
   ]
  },
  {
   "cell_type": "markdown",
   "metadata": {},
   "source": [
    "### 11 简答题"
   ]
  },
  {
   "cell_type": "code",
   "execution_count": 11,
   "metadata": {},
   "outputs": [],
   "source": [
    "import math"
   ]
  },
  {
   "cell_type": "markdown",
   "metadata": {},
   "source": [
    "运⾏以上代码之后，请你列举，有哪⼏种不同⽅式的代码，都可以获得 math 模块 (module) 对象\n",
    "(object) 所附带的命名空间 (namespace)？\n"
   ]
  },
  {
   "cell_type": "code",
   "execution_count": 12,
   "metadata": {},
   "outputs": [
    {
     "data": {
      "text/plain": [
       "dict_items([('__name__', 'math'), ('__doc__', 'This module provides access to the mathematical functions\\ndefined by the C standard.'), ('__package__', ''), ('__loader__', <class '_frozen_importlib.BuiltinImporter'>), ('__spec__', ModuleSpec(name='math', loader=<class '_frozen_importlib.BuiltinImporter'>, origin='built-in')), ('acos', <built-in function acos>), ('acosh', <built-in function acosh>), ('asin', <built-in function asin>), ('asinh', <built-in function asinh>), ('atan', <built-in function atan>), ('atan2', <built-in function atan2>), ('atanh', <built-in function atanh>), ('ceil', <built-in function ceil>), ('copysign', <built-in function copysign>), ('cos', <built-in function cos>), ('cosh', <built-in function cosh>), ('degrees', <built-in function degrees>), ('erf', <built-in function erf>), ('erfc', <built-in function erfc>), ('exp', <built-in function exp>), ('expm1', <built-in function expm1>), ('fabs', <built-in function fabs>), ('factorial', <built-in function factorial>), ('floor', <built-in function floor>), ('fmod', <built-in function fmod>), ('frexp', <built-in function frexp>), ('fsum', <built-in function fsum>), ('gamma', <built-in function gamma>), ('gcd', <built-in function gcd>), ('hypot', <built-in function hypot>), ('isclose', <built-in function isclose>), ('isfinite', <built-in function isfinite>), ('isinf', <built-in function isinf>), ('isnan', <built-in function isnan>), ('ldexp', <built-in function ldexp>), ('lgamma', <built-in function lgamma>), ('log', <built-in function log>), ('log1p', <built-in function log1p>), ('log10', <built-in function log10>), ('log2', <built-in function log2>), ('modf', <built-in function modf>), ('pow', <built-in function pow>), ('radians', <built-in function radians>), ('remainder', <built-in function remainder>), ('sin', <built-in function sin>), ('sinh', <built-in function sinh>), ('sqrt', <built-in function sqrt>), ('tan', <built-in function tan>), ('tanh', <built-in function tanh>), ('trunc', <built-in function trunc>), ('pi', 3.141592653589793), ('e', 2.718281828459045), ('tau', 6.283185307179586), ('inf', inf), ('nan', nan)])"
      ]
     },
     "execution_count": 12,
     "metadata": {},
     "output_type": "execute_result"
    },
    {
     "data": {
      "text/plain": [
       "dict_items([('__name__', 'math'), ('__doc__', 'This module provides access to the mathematical functions\\ndefined by the C standard.'), ('__package__', ''), ('__loader__', <class '_frozen_importlib.BuiltinImporter'>), ('__spec__', ModuleSpec(name='math', loader=<class '_frozen_importlib.BuiltinImporter'>, origin='built-in')), ('acos', <built-in function acos>), ('acosh', <built-in function acosh>), ('asin', <built-in function asin>), ('asinh', <built-in function asinh>), ('atan', <built-in function atan>), ('atan2', <built-in function atan2>), ('atanh', <built-in function atanh>), ('ceil', <built-in function ceil>), ('copysign', <built-in function copysign>), ('cos', <built-in function cos>), ('cosh', <built-in function cosh>), ('degrees', <built-in function degrees>), ('erf', <built-in function erf>), ('erfc', <built-in function erfc>), ('exp', <built-in function exp>), ('expm1', <built-in function expm1>), ('fabs', <built-in function fabs>), ('factorial', <built-in function factorial>), ('floor', <built-in function floor>), ('fmod', <built-in function fmod>), ('frexp', <built-in function frexp>), ('fsum', <built-in function fsum>), ('gamma', <built-in function gamma>), ('gcd', <built-in function gcd>), ('hypot', <built-in function hypot>), ('isclose', <built-in function isclose>), ('isfinite', <built-in function isfinite>), ('isinf', <built-in function isinf>), ('isnan', <built-in function isnan>), ('ldexp', <built-in function ldexp>), ('lgamma', <built-in function lgamma>), ('log', <built-in function log>), ('log1p', <built-in function log1p>), ('log10', <built-in function log10>), ('log2', <built-in function log2>), ('modf', <built-in function modf>), ('pow', <built-in function pow>), ('radians', <built-in function radians>), ('remainder', <built-in function remainder>), ('sin', <built-in function sin>), ('sinh', <built-in function sinh>), ('sqrt', <built-in function sqrt>), ('tan', <built-in function tan>), ('tanh', <built-in function tanh>), ('trunc', <built-in function trunc>), ('pi', 3.141592653589793), ('e', 2.718281828459045), ('tau', 6.283185307179586), ('inf', inf), ('nan', nan)])"
      ]
     },
     "execution_count": 12,
     "metadata": {},
     "output_type": "execute_result"
    },
    {
     "data": {
      "text/plain": [
       "['__doc__',\n",
       " '__loader__',\n",
       " '__name__',\n",
       " '__package__',\n",
       " '__spec__',\n",
       " 'acos',\n",
       " 'acosh',\n",
       " 'asin',\n",
       " 'asinh',\n",
       " 'atan',\n",
       " 'atan2',\n",
       " 'atanh',\n",
       " 'ceil',\n",
       " 'copysign',\n",
       " 'cos',\n",
       " 'cosh',\n",
       " 'degrees',\n",
       " 'e',\n",
       " 'erf',\n",
       " 'erfc',\n",
       " 'exp',\n",
       " 'expm1',\n",
       " 'fabs',\n",
       " 'factorial',\n",
       " 'floor',\n",
       " 'fmod',\n",
       " 'frexp',\n",
       " 'fsum',\n",
       " 'gamma',\n",
       " 'gcd',\n",
       " 'hypot',\n",
       " 'inf',\n",
       " 'isclose',\n",
       " 'isfinite',\n",
       " 'isinf',\n",
       " 'isnan',\n",
       " 'ldexp',\n",
       " 'lgamma',\n",
       " 'log',\n",
       " 'log10',\n",
       " 'log1p',\n",
       " 'log2',\n",
       " 'modf',\n",
       " 'nan',\n",
       " 'pi',\n",
       " 'pow',\n",
       " 'radians',\n",
       " 'remainder',\n",
       " 'sin',\n",
       " 'sinh',\n",
       " 'sqrt',\n",
       " 'tan',\n",
       " 'tanh',\n",
       " 'tau',\n",
       " 'trunc']"
      ]
     },
     "execution_count": 12,
     "metadata": {},
     "output_type": "execute_result"
    },
    {
     "data": {
      "text/plain": [
       "{'__name__': 'math',\n",
       " '__doc__': 'This module provides access to the mathematical functions\\ndefined by the C standard.',\n",
       " '__package__': '',\n",
       " '__loader__': _frozen_importlib.BuiltinImporter,\n",
       " '__spec__': ModuleSpec(name='math', loader=<class '_frozen_importlib.BuiltinImporter'>, origin='built-in'),\n",
       " 'acos': <function math.acos(x, /)>,\n",
       " 'acosh': <function math.acosh(x, /)>,\n",
       " 'asin': <function math.asin(x, /)>,\n",
       " 'asinh': <function math.asinh(x, /)>,\n",
       " 'atan': <function math.atan(x, /)>,\n",
       " 'atan2': <function math.atan2(y, x, /)>,\n",
       " 'atanh': <function math.atanh(x, /)>,\n",
       " 'ceil': <function math.ceil(x, /)>,\n",
       " 'copysign': <function math.copysign(x, y, /)>,\n",
       " 'cos': <function math.cos(x, /)>,\n",
       " 'cosh': <function math.cosh(x, /)>,\n",
       " 'degrees': <function math.degrees(x, /)>,\n",
       " 'erf': <function math.erf(x, /)>,\n",
       " 'erfc': <function math.erfc(x, /)>,\n",
       " 'exp': <function math.exp(x, /)>,\n",
       " 'expm1': <function math.expm1(x, /)>,\n",
       " 'fabs': <function math.fabs(x, /)>,\n",
       " 'factorial': <function math.factorial(x, /)>,\n",
       " 'floor': <function math.floor(x, /)>,\n",
       " 'fmod': <function math.fmod(x, y, /)>,\n",
       " 'frexp': <function math.frexp(x, /)>,\n",
       " 'fsum': <function math.fsum(seq, /)>,\n",
       " 'gamma': <function math.gamma(x, /)>,\n",
       " 'gcd': <function math.gcd(x, y, /)>,\n",
       " 'hypot': <function math.hypot(x, y, /)>,\n",
       " 'isclose': <function math.isclose(a, b, *, rel_tol=1e-09, abs_tol=0.0)>,\n",
       " 'isfinite': <function math.isfinite(x, /)>,\n",
       " 'isinf': <function math.isinf(x, /)>,\n",
       " 'isnan': <function math.isnan(x, /)>,\n",
       " 'ldexp': <function math.ldexp(x, i, /)>,\n",
       " 'lgamma': <function math.lgamma(x, /)>,\n",
       " 'log': <function math.log>,\n",
       " 'log1p': <function math.log1p(x, /)>,\n",
       " 'log10': <function math.log10(x, /)>,\n",
       " 'log2': <function math.log2(x, /)>,\n",
       " 'modf': <function math.modf(x, /)>,\n",
       " 'pow': <function math.pow(x, y, /)>,\n",
       " 'radians': <function math.radians(x, /)>,\n",
       " 'remainder': <function math.remainder(x, y, /)>,\n",
       " 'sin': <function math.sin(x, /)>,\n",
       " 'sinh': <function math.sinh(x, /)>,\n",
       " 'sqrt': <function math.sqrt(x, /)>,\n",
       " 'tan': <function math.tan(x, /)>,\n",
       " 'tanh': <function math.tanh(x, /)>,\n",
       " 'trunc': <function math.trunc(x, /)>,\n",
       " 'pi': 3.141592653589793,\n",
       " 'e': 2.718281828459045,\n",
       " 'tau': 6.283185307179586,\n",
       " 'inf': inf,\n",
       " 'nan': nan}"
      ]
     },
     "execution_count": 12,
     "metadata": {},
     "output_type": "execute_result"
    }
   ],
   "source": [
    "math.__dict__.items()\n",
    "vars(math).items()\n",
    "dir(math)\n",
    "math.__dict__"
   ]
  },
  {
   "cell_type": "markdown",
   "metadata": {},
   "source": [
    "### 12 简答题\n",
    "内置函数 (built-in function) dir 和 vars 都与命名空间 (namespace) 有关，但这两个函数 (function)有什么区别？"
   ]
  },
  {
   "cell_type": "markdown",
   "metadata": {},
   "source": [
    "#### 答：\n",
    "dir()只打印属性，vars()则打印属性与属性的值"
   ]
  },
  {
   "cell_type": "code",
   "execution_count": 13,
   "metadata": {
    "scrolled": true
   },
   "outputs": [
    {
     "name": "stdout",
     "output_type": "stream",
     "text": [
      "{'x': 1, 'MMMMMMM': 2}\n"
     ]
    },
    {
     "data": {
      "text/plain": [
       "2"
      ]
     },
     "execution_count": 13,
     "metadata": {},
     "output_type": "execute_result"
    },
    {
     "data": {
      "text/plain": [
       "{'__name__': '__main__',\n",
       " '__doc__': 'Automatically created module for IPython interactive environment',\n",
       " '__package__': None,\n",
       " '__loader__': None,\n",
       " '__spec__': None,\n",
       " '__builtin__': <module 'builtins' (built-in)>,\n",
       " '__builtins__': <module 'builtins' (built-in)>,\n",
       " '_ih': ['',\n",
       "  't = True\\nwhile t:\\n    try:\\n        score = int(input())\\n        if score >= 0 and score <= 100:\\n            print(\"Your grade is:\")\\n            if score < 60 :\\n                print(\"F\")\\n            elif score <= 70:\\n                print(\"P\")\\n            elif score <= 80:\\n                print(\"M\")\\n            elif score <= 90:\\n                print(\"G\")\\n            else:\\n                print(\"E\")\\n            t = 0\\n        else:\\n            print(\"您的分数不对，请重新输入\")\\n            continue\\n    except BaseException:\\n        print(\"您的输入无法化为整数！\")',\n",
       "  \"a = open('somefile.txt', 'w')\\na.write(' hello world!\\\\nThis is Ming')    \\na.close()\\na = open('somefile.txt', 'r')\\nnext(a)\\nnext(a)\",\n",
       "  \"for i in ['spam', 'eggs']:\\n    print(i)\",\n",
       "  \"#test\\n#a= iter(['spam', 'eggs'])\\na= ['spam', 'eggs'].__iter__()\\nfor i in a:\\n    print(i)\\n    a.__next__()\",\n",
       "  \"#['spam', 'eggs'].__next__()\\niter(['Who', 'eggs']).__next__()\",\n",
       "  'x = [4, 3, 2, 1]\\ny = iter(x)\\nnext(y)\\nsum(y)',\n",
       "  'x = [4, 3, 2, 1]\\ny = iter(x)\\nsum(y)\\nlist(y)',\n",
       "  'x = [4, 3, 2, 1]\\ny = x\\ny.pop(-1)\\nx',\n",
       "  'def f(value):\\n    return value**2\\ng = f\\ng(3)',\n",
       "  'def f(value):\\n    return value**2\\ng = f\\ng(value = True)\\nf(value = True)',\n",
       "  'import math',\n",
       "  'math.__dict__.items()\\nvars(math).items()\\ndir(math)\\nmath.__dict__',\n",
       "  'def f(x):\\n    MMMMMMM = 2\\n    print(locals())\\n    return  MMMMMMM  * x\\nf(1)\\nlocals()'],\n",
       " '_oh': {2: 'This is Ming',\n",
       "  4: 'eggs',\n",
       "  5: 'Who',\n",
       "  6: 6,\n",
       "  7: [],\n",
       "  8: [4, 3, 2],\n",
       "  9: 9,\n",
       "  10: 1,\n",
       "  12: {'__name__': 'math',\n",
       "   '__doc__': 'This module provides access to the mathematical functions\\ndefined by the C standard.',\n",
       "   '__package__': '',\n",
       "   '__loader__': _frozen_importlib.BuiltinImporter,\n",
       "   '__spec__': ModuleSpec(name='math', loader=<class '_frozen_importlib.BuiltinImporter'>, origin='built-in'),\n",
       "   'acos': <function math.acos(x, /)>,\n",
       "   'acosh': <function math.acosh(x, /)>,\n",
       "   'asin': <function math.asin(x, /)>,\n",
       "   'asinh': <function math.asinh(x, /)>,\n",
       "   'atan': <function math.atan(x, /)>,\n",
       "   'atan2': <function math.atan2(y, x, /)>,\n",
       "   'atanh': <function math.atanh(x, /)>,\n",
       "   'ceil': <function math.ceil(x, /)>,\n",
       "   'copysign': <function math.copysign(x, y, /)>,\n",
       "   'cos': <function math.cos(x, /)>,\n",
       "   'cosh': <function math.cosh(x, /)>,\n",
       "   'degrees': <function math.degrees(x, /)>,\n",
       "   'erf': <function math.erf(x, /)>,\n",
       "   'erfc': <function math.erfc(x, /)>,\n",
       "   'exp': <function math.exp(x, /)>,\n",
       "   'expm1': <function math.expm1(x, /)>,\n",
       "   'fabs': <function math.fabs(x, /)>,\n",
       "   'factorial': <function math.factorial(x, /)>,\n",
       "   'floor': <function math.floor(x, /)>,\n",
       "   'fmod': <function math.fmod(x, y, /)>,\n",
       "   'frexp': <function math.frexp(x, /)>,\n",
       "   'fsum': <function math.fsum(seq, /)>,\n",
       "   'gamma': <function math.gamma(x, /)>,\n",
       "   'gcd': <function math.gcd(x, y, /)>,\n",
       "   'hypot': <function math.hypot(x, y, /)>,\n",
       "   'isclose': <function math.isclose(a, b, *, rel_tol=1e-09, abs_tol=0.0)>,\n",
       "   'isfinite': <function math.isfinite(x, /)>,\n",
       "   'isinf': <function math.isinf(x, /)>,\n",
       "   'isnan': <function math.isnan(x, /)>,\n",
       "   'ldexp': <function math.ldexp(x, i, /)>,\n",
       "   'lgamma': <function math.lgamma(x, /)>,\n",
       "   'log': <function math.log>,\n",
       "   'log1p': <function math.log1p(x, /)>,\n",
       "   'log10': <function math.log10(x, /)>,\n",
       "   'log2': <function math.log2(x, /)>,\n",
       "   'modf': <function math.modf(x, /)>,\n",
       "   'pow': <function math.pow(x, y, /)>,\n",
       "   'radians': <function math.radians(x, /)>,\n",
       "   'remainder': <function math.remainder(x, y, /)>,\n",
       "   'sin': <function math.sin(x, /)>,\n",
       "   'sinh': <function math.sinh(x, /)>,\n",
       "   'sqrt': <function math.sqrt(x, /)>,\n",
       "   'tan': <function math.tan(x, /)>,\n",
       "   'tanh': <function math.tanh(x, /)>,\n",
       "   'trunc': <function math.trunc(x, /)>,\n",
       "   'pi': 3.141592653589793,\n",
       "   'e': 2.718281828459045,\n",
       "   'tau': 6.283185307179586,\n",
       "   'inf': inf,\n",
       "   'nan': nan},\n",
       "  13: 2},\n",
       " '_dh': ['C:\\\\Users\\\\MY\\\\python题库Ming整理'],\n",
       " 'In': ['',\n",
       "  't = True\\nwhile t:\\n    try:\\n        score = int(input())\\n        if score >= 0 and score <= 100:\\n            print(\"Your grade is:\")\\n            if score < 60 :\\n                print(\"F\")\\n            elif score <= 70:\\n                print(\"P\")\\n            elif score <= 80:\\n                print(\"M\")\\n            elif score <= 90:\\n                print(\"G\")\\n            else:\\n                print(\"E\")\\n            t = 0\\n        else:\\n            print(\"您的分数不对，请重新输入\")\\n            continue\\n    except BaseException:\\n        print(\"您的输入无法化为整数！\")',\n",
       "  \"a = open('somefile.txt', 'w')\\na.write(' hello world!\\\\nThis is Ming')    \\na.close()\\na = open('somefile.txt', 'r')\\nnext(a)\\nnext(a)\",\n",
       "  \"for i in ['spam', 'eggs']:\\n    print(i)\",\n",
       "  \"#test\\n#a= iter(['spam', 'eggs'])\\na= ['spam', 'eggs'].__iter__()\\nfor i in a:\\n    print(i)\\n    a.__next__()\",\n",
       "  \"#['spam', 'eggs'].__next__()\\niter(['Who', 'eggs']).__next__()\",\n",
       "  'x = [4, 3, 2, 1]\\ny = iter(x)\\nnext(y)\\nsum(y)',\n",
       "  'x = [4, 3, 2, 1]\\ny = iter(x)\\nsum(y)\\nlist(y)',\n",
       "  'x = [4, 3, 2, 1]\\ny = x\\ny.pop(-1)\\nx',\n",
       "  'def f(value):\\n    return value**2\\ng = f\\ng(3)',\n",
       "  'def f(value):\\n    return value**2\\ng = f\\ng(value = True)\\nf(value = True)',\n",
       "  'import math',\n",
       "  'math.__dict__.items()\\nvars(math).items()\\ndir(math)\\nmath.__dict__',\n",
       "  'def f(x):\\n    MMMMMMM = 2\\n    print(locals())\\n    return  MMMMMMM  * x\\nf(1)\\nlocals()'],\n",
       " 'Out': {2: 'This is Ming',\n",
       "  4: 'eggs',\n",
       "  5: 'Who',\n",
       "  6: 6,\n",
       "  7: [],\n",
       "  8: [4, 3, 2],\n",
       "  9: 9,\n",
       "  10: 1,\n",
       "  12: {'__name__': 'math',\n",
       "   '__doc__': 'This module provides access to the mathematical functions\\ndefined by the C standard.',\n",
       "   '__package__': '',\n",
       "   '__loader__': _frozen_importlib.BuiltinImporter,\n",
       "   '__spec__': ModuleSpec(name='math', loader=<class '_frozen_importlib.BuiltinImporter'>, origin='built-in'),\n",
       "   'acos': <function math.acos(x, /)>,\n",
       "   'acosh': <function math.acosh(x, /)>,\n",
       "   'asin': <function math.asin(x, /)>,\n",
       "   'asinh': <function math.asinh(x, /)>,\n",
       "   'atan': <function math.atan(x, /)>,\n",
       "   'atan2': <function math.atan2(y, x, /)>,\n",
       "   'atanh': <function math.atanh(x, /)>,\n",
       "   'ceil': <function math.ceil(x, /)>,\n",
       "   'copysign': <function math.copysign(x, y, /)>,\n",
       "   'cos': <function math.cos(x, /)>,\n",
       "   'cosh': <function math.cosh(x, /)>,\n",
       "   'degrees': <function math.degrees(x, /)>,\n",
       "   'erf': <function math.erf(x, /)>,\n",
       "   'erfc': <function math.erfc(x, /)>,\n",
       "   'exp': <function math.exp(x, /)>,\n",
       "   'expm1': <function math.expm1(x, /)>,\n",
       "   'fabs': <function math.fabs(x, /)>,\n",
       "   'factorial': <function math.factorial(x, /)>,\n",
       "   'floor': <function math.floor(x, /)>,\n",
       "   'fmod': <function math.fmod(x, y, /)>,\n",
       "   'frexp': <function math.frexp(x, /)>,\n",
       "   'fsum': <function math.fsum(seq, /)>,\n",
       "   'gamma': <function math.gamma(x, /)>,\n",
       "   'gcd': <function math.gcd(x, y, /)>,\n",
       "   'hypot': <function math.hypot(x, y, /)>,\n",
       "   'isclose': <function math.isclose(a, b, *, rel_tol=1e-09, abs_tol=0.0)>,\n",
       "   'isfinite': <function math.isfinite(x, /)>,\n",
       "   'isinf': <function math.isinf(x, /)>,\n",
       "   'isnan': <function math.isnan(x, /)>,\n",
       "   'ldexp': <function math.ldexp(x, i, /)>,\n",
       "   'lgamma': <function math.lgamma(x, /)>,\n",
       "   'log': <function math.log>,\n",
       "   'log1p': <function math.log1p(x, /)>,\n",
       "   'log10': <function math.log10(x, /)>,\n",
       "   'log2': <function math.log2(x, /)>,\n",
       "   'modf': <function math.modf(x, /)>,\n",
       "   'pow': <function math.pow(x, y, /)>,\n",
       "   'radians': <function math.radians(x, /)>,\n",
       "   'remainder': <function math.remainder(x, y, /)>,\n",
       "   'sin': <function math.sin(x, /)>,\n",
       "   'sinh': <function math.sinh(x, /)>,\n",
       "   'sqrt': <function math.sqrt(x, /)>,\n",
       "   'tan': <function math.tan(x, /)>,\n",
       "   'tanh': <function math.tanh(x, /)>,\n",
       "   'trunc': <function math.trunc(x, /)>,\n",
       "   'pi': 3.141592653589793,\n",
       "   'e': 2.718281828459045,\n",
       "   'tau': 6.283185307179586,\n",
       "   'inf': inf,\n",
       "   'nan': nan},\n",
       "  13: 2},\n",
       " 'get_ipython': <bound method InteractiveShell.get_ipython of <ipykernel.zmqshell.ZMQInteractiveShell object at 0x0000019D914BAFC8>>,\n",
       " 'exit': <IPython.core.autocall.ZMQExitAutocall at 0x19d91593288>,\n",
       " 'quit': <IPython.core.autocall.ZMQExitAutocall at 0x19d91593288>,\n",
       " '_': 2,\n",
       " '__': {'__name__': 'math',\n",
       "  '__doc__': 'This module provides access to the mathematical functions\\ndefined by the C standard.',\n",
       "  '__package__': '',\n",
       "  '__loader__': _frozen_importlib.BuiltinImporter,\n",
       "  '__spec__': ModuleSpec(name='math', loader=<class '_frozen_importlib.BuiltinImporter'>, origin='built-in'),\n",
       "  'acos': <function math.acos(x, /)>,\n",
       "  'acosh': <function math.acosh(x, /)>,\n",
       "  'asin': <function math.asin(x, /)>,\n",
       "  'asinh': <function math.asinh(x, /)>,\n",
       "  'atan': <function math.atan(x, /)>,\n",
       "  'atan2': <function math.atan2(y, x, /)>,\n",
       "  'atanh': <function math.atanh(x, /)>,\n",
       "  'ceil': <function math.ceil(x, /)>,\n",
       "  'copysign': <function math.copysign(x, y, /)>,\n",
       "  'cos': <function math.cos(x, /)>,\n",
       "  'cosh': <function math.cosh(x, /)>,\n",
       "  'degrees': <function math.degrees(x, /)>,\n",
       "  'erf': <function math.erf(x, /)>,\n",
       "  'erfc': <function math.erfc(x, /)>,\n",
       "  'exp': <function math.exp(x, /)>,\n",
       "  'expm1': <function math.expm1(x, /)>,\n",
       "  'fabs': <function math.fabs(x, /)>,\n",
       "  'factorial': <function math.factorial(x, /)>,\n",
       "  'floor': <function math.floor(x, /)>,\n",
       "  'fmod': <function math.fmod(x, y, /)>,\n",
       "  'frexp': <function math.frexp(x, /)>,\n",
       "  'fsum': <function math.fsum(seq, /)>,\n",
       "  'gamma': <function math.gamma(x, /)>,\n",
       "  'gcd': <function math.gcd(x, y, /)>,\n",
       "  'hypot': <function math.hypot(x, y, /)>,\n",
       "  'isclose': <function math.isclose(a, b, *, rel_tol=1e-09, abs_tol=0.0)>,\n",
       "  'isfinite': <function math.isfinite(x, /)>,\n",
       "  'isinf': <function math.isinf(x, /)>,\n",
       "  'isnan': <function math.isnan(x, /)>,\n",
       "  'ldexp': <function math.ldexp(x, i, /)>,\n",
       "  'lgamma': <function math.lgamma(x, /)>,\n",
       "  'log': <function math.log>,\n",
       "  'log1p': <function math.log1p(x, /)>,\n",
       "  'log10': <function math.log10(x, /)>,\n",
       "  'log2': <function math.log2(x, /)>,\n",
       "  'modf': <function math.modf(x, /)>,\n",
       "  'pow': <function math.pow(x, y, /)>,\n",
       "  'radians': <function math.radians(x, /)>,\n",
       "  'remainder': <function math.remainder(x, y, /)>,\n",
       "  'sin': <function math.sin(x, /)>,\n",
       "  'sinh': <function math.sinh(x, /)>,\n",
       "  'sqrt': <function math.sqrt(x, /)>,\n",
       "  'tan': <function math.tan(x, /)>,\n",
       "  'tanh': <function math.tanh(x, /)>,\n",
       "  'trunc': <function math.trunc(x, /)>,\n",
       "  'pi': 3.141592653589793,\n",
       "  'e': 2.718281828459045,\n",
       "  'tau': 6.283185307179586,\n",
       "  'inf': inf,\n",
       "  'nan': nan},\n",
       " '___': ['__doc__',\n",
       "  '__loader__',\n",
       "  '__name__',\n",
       "  '__package__',\n",
       "  '__spec__',\n",
       "  'acos',\n",
       "  'acosh',\n",
       "  'asin',\n",
       "  'asinh',\n",
       "  'atan',\n",
       "  'atan2',\n",
       "  'atanh',\n",
       "  'ceil',\n",
       "  'copysign',\n",
       "  'cos',\n",
       "  'cosh',\n",
       "  'degrees',\n",
       "  'e',\n",
       "  'erf',\n",
       "  'erfc',\n",
       "  'exp',\n",
       "  'expm1',\n",
       "  'fabs',\n",
       "  'factorial',\n",
       "  'floor',\n",
       "  'fmod',\n",
       "  'frexp',\n",
       "  'fsum',\n",
       "  'gamma',\n",
       "  'gcd',\n",
       "  'hypot',\n",
       "  'inf',\n",
       "  'isclose',\n",
       "  'isfinite',\n",
       "  'isinf',\n",
       "  'isnan',\n",
       "  'ldexp',\n",
       "  'lgamma',\n",
       "  'log',\n",
       "  'log10',\n",
       "  'log1p',\n",
       "  'log2',\n",
       "  'modf',\n",
       "  'nan',\n",
       "  'pi',\n",
       "  'pow',\n",
       "  'radians',\n",
       "  'remainder',\n",
       "  'sin',\n",
       "  'sinh',\n",
       "  'sqrt',\n",
       "  'tan',\n",
       "  'tanh',\n",
       "  'tau',\n",
       "  'trunc'],\n",
       " '_i': 'math.__dict__.items()\\nvars(math).items()\\ndir(math)\\nmath.__dict__',\n",
       " '_ii': 'import math',\n",
       " '_iii': 'def f(value):\\n    return value**2\\ng = f\\ng(value = True)\\nf(value = True)',\n",
       " '_i1': 't = True\\nwhile t:\\n    try:\\n        score = int(input())\\n        if score >= 0 and score <= 100:\\n            print(\"Your grade is:\")\\n            if score < 60 :\\n                print(\"F\")\\n            elif score <= 70:\\n                print(\"P\")\\n            elif score <= 80:\\n                print(\"M\")\\n            elif score <= 90:\\n                print(\"G\")\\n            else:\\n                print(\"E\")\\n            t = 0\\n        else:\\n            print(\"您的分数不对，请重新输入\")\\n            continue\\n    except BaseException:\\n        print(\"您的输入无法化为整数！\")',\n",
       " 't': 0,\n",
       " 'score': 20,\n",
       " '_i2': \"a = open('somefile.txt', 'w')\\na.write(' hello world!\\\\nThis is Ming')    \\na.close()\\na = open('somefile.txt', 'r')\\nnext(a)\\nnext(a)\",\n",
       " 'a': <list_iterator at 0x19d9160d448>,\n",
       " '_2': 'This is Ming',\n",
       " '_i3': \"for i in ['spam', 'eggs']:\\n    print(i)\",\n",
       " 'i': 'spam',\n",
       " '_i4': \"#test\\n#a= iter(['spam', 'eggs'])\\na= ['spam', 'eggs'].__iter__()\\nfor i in a:\\n    print(i)\\n    a.__next__()\",\n",
       " '_4': 'eggs',\n",
       " '_i5': \"#['spam', 'eggs'].__next__()\\niter(['Who', 'eggs']).__next__()\",\n",
       " '_5': 'Who',\n",
       " '_i6': 'x = [4, 3, 2, 1]\\ny = iter(x)\\nnext(y)\\nsum(y)',\n",
       " 'x': [4, 3, 2],\n",
       " 'y': [4, 3, 2],\n",
       " '_6': 6,\n",
       " '_i7': 'x = [4, 3, 2, 1]\\ny = iter(x)\\nsum(y)\\nlist(y)',\n",
       " '_7': [],\n",
       " '_i8': 'x = [4, 3, 2, 1]\\ny = x\\ny.pop(-1)\\nx',\n",
       " '_8': [4, 3, 2],\n",
       " '_i9': 'def f(value):\\n    return value**2\\ng = f\\ng(3)',\n",
       " 'f': <function __main__.f(x)>,\n",
       " 'g': <function __main__.f(value)>,\n",
       " '_9': 9,\n",
       " '_i10': 'def f(value):\\n    return value**2\\ng = f\\ng(value = True)\\nf(value = True)',\n",
       " '_10': 1,\n",
       " '_i11': 'import math',\n",
       " 'math': <module 'math' (built-in)>,\n",
       " '_i12': 'math.__dict__.items()\\nvars(math).items()\\ndir(math)\\nmath.__dict__',\n",
       " '_12': {'__name__': 'math',\n",
       "  '__doc__': 'This module provides access to the mathematical functions\\ndefined by the C standard.',\n",
       "  '__package__': '',\n",
       "  '__loader__': _frozen_importlib.BuiltinImporter,\n",
       "  '__spec__': ModuleSpec(name='math', loader=<class '_frozen_importlib.BuiltinImporter'>, origin='built-in'),\n",
       "  'acos': <function math.acos(x, /)>,\n",
       "  'acosh': <function math.acosh(x, /)>,\n",
       "  'asin': <function math.asin(x, /)>,\n",
       "  'asinh': <function math.asinh(x, /)>,\n",
       "  'atan': <function math.atan(x, /)>,\n",
       "  'atan2': <function math.atan2(y, x, /)>,\n",
       "  'atanh': <function math.atanh(x, /)>,\n",
       "  'ceil': <function math.ceil(x, /)>,\n",
       "  'copysign': <function math.copysign(x, y, /)>,\n",
       "  'cos': <function math.cos(x, /)>,\n",
       "  'cosh': <function math.cosh(x, /)>,\n",
       "  'degrees': <function math.degrees(x, /)>,\n",
       "  'erf': <function math.erf(x, /)>,\n",
       "  'erfc': <function math.erfc(x, /)>,\n",
       "  'exp': <function math.exp(x, /)>,\n",
       "  'expm1': <function math.expm1(x, /)>,\n",
       "  'fabs': <function math.fabs(x, /)>,\n",
       "  'factorial': <function math.factorial(x, /)>,\n",
       "  'floor': <function math.floor(x, /)>,\n",
       "  'fmod': <function math.fmod(x, y, /)>,\n",
       "  'frexp': <function math.frexp(x, /)>,\n",
       "  'fsum': <function math.fsum(seq, /)>,\n",
       "  'gamma': <function math.gamma(x, /)>,\n",
       "  'gcd': <function math.gcd(x, y, /)>,\n",
       "  'hypot': <function math.hypot(x, y, /)>,\n",
       "  'isclose': <function math.isclose(a, b, *, rel_tol=1e-09, abs_tol=0.0)>,\n",
       "  'isfinite': <function math.isfinite(x, /)>,\n",
       "  'isinf': <function math.isinf(x, /)>,\n",
       "  'isnan': <function math.isnan(x, /)>,\n",
       "  'ldexp': <function math.ldexp(x, i, /)>,\n",
       "  'lgamma': <function math.lgamma(x, /)>,\n",
       "  'log': <function math.log>,\n",
       "  'log1p': <function math.log1p(x, /)>,\n",
       "  'log10': <function math.log10(x, /)>,\n",
       "  'log2': <function math.log2(x, /)>,\n",
       "  'modf': <function math.modf(x, /)>,\n",
       "  'pow': <function math.pow(x, y, /)>,\n",
       "  'radians': <function math.radians(x, /)>,\n",
       "  'remainder': <function math.remainder(x, y, /)>,\n",
       "  'sin': <function math.sin(x, /)>,\n",
       "  'sinh': <function math.sinh(x, /)>,\n",
       "  'sqrt': <function math.sqrt(x, /)>,\n",
       "  'tan': <function math.tan(x, /)>,\n",
       "  'tanh': <function math.tanh(x, /)>,\n",
       "  'trunc': <function math.trunc(x, /)>,\n",
       "  'pi': 3.141592653589793,\n",
       "  'e': 2.718281828459045,\n",
       "  'tau': 6.283185307179586,\n",
       "  'inf': inf,\n",
       "  'nan': nan},\n",
       " '_i13': 'def f(x):\\n    MMMMMMM = 2\\n    print(locals())\\n    return  MMMMMMM  * x\\nf(1)\\nlocals()',\n",
       " '_13': 2}"
      ]
     },
     "execution_count": 13,
     "metadata": {},
     "output_type": "execute_result"
    }
   ],
   "source": [
    "def f(x):\n",
    "    MMMMMMM = 2\n",
    "    print(locals())\n",
    "    return  MMMMMMM  * x\n",
    "f(1)\n",
    "locals()"
   ]
  },
  {
   "cell_type": "code",
   "execution_count": 14,
   "metadata": {},
   "outputs": [
    {
     "name": "stdout",
     "output_type": "stream",
     "text": [
      "{'x': 1, 'a': 2}\n"
     ]
    },
    {
     "data": {
      "text/plain": [
       "2"
      ]
     },
     "execution_count": 14,
     "metadata": {},
     "output_type": "execute_result"
    },
    {
     "data": {
      "text/plain": [
       "3"
      ]
     },
     "execution_count": 14,
     "metadata": {},
     "output_type": "execute_result"
    }
   ],
   "source": [
    "a = 3\n",
    "def f(x):\n",
    "    a = 2\n",
    "    print(locals())\n",
    "    return a * x\n",
    "f(1)\n",
    "a"
   ]
  },
  {
   "cell_type": "markdown",
   "metadata": {},
   "source": [
    "### 13 简答题 \n",
    "在 Python 中，解释器 (interpreter) 运⾏时会⾃动⽣成⼀个内部变量` __name__` 。Python 解释器(interpreter) 会按照什么规则对这个变量进⾏赋值？\n"
   ]
  },
  {
   "cell_type": "markdown",
   "metadata": {},
   "source": [
    "#### 答："
   ]
  },
  {
   "cell_type": "markdown",
   "metadata": {},
   "source": [
    "\n",
    "#### 按照的规则是：\n",
    "\n",
    "\n",
    "1. 如果模块是被导入（import），`__name__`的值为模块名字，\n",
    "    - import mod  \n",
    "2. 如果模块是被直接执行在，则代码作为 `main `的一部分执行，因此` name` 等于 `main。`\n",
    "     - %run mod.py"
   ]
  },
  {
   "cell_type": "markdown",
   "metadata": {},
   "source": [
    "### 14 简答题 \n",
    "假设以下代码⽂本被保存在 mod.py ⽂件中。\n"
   ]
  },
  {
   "cell_type": "code",
   "execution_count": 15,
   "metadata": {},
   "outputs": [
    {
     "name": "stdout",
     "output_type": "stream",
     "text": [
      "Overwriting mod.py\n"
     ]
    }
   ],
   "source": [
    "%%file mod.py\n",
    "print(__name__)"
   ]
  },
  {
   "cell_type": "markdown",
   "metadata": {},
   "source": [
    "在 Jupyter Notebook 或者 IPython 中， import mod 和 %run mod.py 两种⽅式都可以运⾏上述代码，但两种⽅式的输出会不同。这两种⽅式的输出分别会是什么？为什么？"
   ]
  },
  {
   "cell_type": "code",
   "execution_count": 16,
   "metadata": {},
   "outputs": [
    {
     "name": "stdout",
     "output_type": "stream",
     "text": [
      "mod\n"
     ]
    }
   ],
   "source": [
    "import mod"
   ]
  },
  {
   "cell_type": "code",
   "execution_count": 17,
   "metadata": {},
   "outputs": [
    {
     "name": "stdout",
     "output_type": "stream",
     "text": [
      "__main__\n"
     ]
    }
   ],
   "source": [
    "%run mod.py"
   ]
  },
  {
   "cell_type": "markdown",
   "metadata": {},
   "source": [
    "解释器执行的所有代码都运行在某些模块中，在提示符下输入的命令也被认为是在一个模块中执行的，在这种情况下，这个模块被称为`__ main__`。\n",
    "\n",
    "\n",
    "当我们使用 IPython 的 run 命令运行脚本时，文件的内容也作为`__ main __`的一部分执行。\n",
    "\n",
    "#### 按照的规则是：\n",
    "\n",
    "\n",
    "1. 如果模块是被导入（import），`__name__`的值为模块名字，因为import的同时模块对象就附带了（分配了）一个命名空间，以模块名命名\n",
    "    - import mod  \n",
    "2. 如果模块是被直接执行(在提示符内），则代码作为 `main `的一部分执行，因此` name` 等于 `main。`\n",
    "     - %run mod.py\n",
    "     \n"
   ]
  },
  {
   "cell_type": "markdown",
   "metadata": {},
   "source": [
    "### 15 简答题 \n",
    "请⽤⼀句话解释什么是全局命名空间 (global namespace)。\n"
   ]
  },
  {
   "cell_type": "markdown",
   "metadata": {},
   "source": [
    "答：\n",
    "全局名称空间是当前正在执行的模块的名称空间。\n",
    "\n",
    "\n",
    "\n",
    "\n",
    "补充理解：\n",
    "如果当前没有模块正在执行，则自动返回到`__main__`，也就是对所有运行出来的变量都有着映射，包含模块内和模块外，区别于matlab等（python的全局变量模块内不互相独立）"
   ]
  },
  {
   "cell_type": "code",
   "execution_count": 18,
   "metadata": {
    "scrolled": true
   },
   "outputs": [
    {
     "name": "stdout",
     "output_type": "stream",
     "text": [
      "{'x': 1, 'MMMMMMM': 2}\n"
     ]
    },
    {
     "data": {
      "text/plain": [
       "2"
      ]
     },
     "execution_count": 18,
     "metadata": {},
     "output_type": "execute_result"
    },
    {
     "name": "stdout",
     "output_type": "stream",
     "text": [
      "{'__name__': '__main__', '__doc__': 'Module created for script run in IPython', '__package__': None, '__loader__': None, '__spec__': None, '__builtin__': <module 'builtins' (built-in)>, '__builtins__': <module 'builtins' (built-in)>, '_ih': ['', 't = True\\nwhile t:\\n    try:\\n        score = int(input())\\n        if score >= 0 and score <= 100:\\n            print(\"Your grade is:\")\\n            if score < 60 :\\n                print(\"F\")\\n            elif score <= 70:\\n                print(\"P\")\\n            elif score <= 80:\\n                print(\"M\")\\n            elif score <= 90:\\n                print(\"G\")\\n            else:\\n                print(\"E\")\\n            t = 0\\n        else:\\n            print(\"您的分数不对，请重新输入\")\\n            continue\\n    except BaseException:\\n        print(\"您的输入无法化为整数！\")', \"a = open('somefile.txt', 'w')\\na.write(' hello world!\\\\nThis is Ming')    \\na.close()\\na = open('somefile.txt', 'r')\\nnext(a)\\nnext(a)\", \"for i in ['spam', 'eggs']:\\n    print(i)\", \"#test\\n#a= iter(['spam', 'eggs'])\\na= ['spam', 'eggs'].__iter__()\\nfor i in a:\\n    print(i)\\n    a.__next__()\", \"#['spam', 'eggs'].__next__()\\niter(['Who', 'eggs']).__next__()\", 'x = [4, 3, 2, 1]\\ny = iter(x)\\nnext(y)\\nsum(y)', 'x = [4, 3, 2, 1]\\ny = iter(x)\\nsum(y)\\nlist(y)', 'x = [4, 3, 2, 1]\\ny = x\\ny.pop(-1)\\nx', 'def f(value):\\n    return value**2\\ng = f\\ng(3)', 'def f(value):\\n    return value**2\\ng = f\\ng(value = True)\\nf(value = True)', 'import math', 'math.__dict__.items()\\nvars(math).items()\\ndir(math)\\nmath.__dict__', 'def f(x):\\n    MMMMMMM = 2\\n    print(locals())\\n    return  MMMMMMM  * x\\nf(1)\\nlocals()', 'a = 3\\ndef f(x):\\n    a = 2\\n    print(locals())\\n    return a * x\\nf(1)\\na', \"get_ipython().run_cell_magic('file', 'mod.py', 'print(__name__)\\\\n')\", 'import mod', \"get_ipython().run_line_magic('run', 'mod.py')\", 'MMMMMMM = 3\\ndef f(x):\\n    MMMMMMM = 2\\n    print(locals())\\n    return  MMMMMMM  * x\\nf(1)\\nprint(locals())\\ndef f(x):\\n    AAAA = 2\\n    print(locals())\\n    return  AAAA  * x\\nf(1)\\nMMMMMMM'], '_oh': {2: 'This is Ming', 4: 'eggs', 5: 'Who', 6: 6, 7: [], 8: [4, 3, 2], 9: 9, 10: 1, 12: {'__name__': 'math', '__doc__': 'This module provides access to the mathematical functions\\ndefined by the C standard.', '__package__': '', '__loader__': <class '_frozen_importlib.BuiltinImporter'>, '__spec__': ModuleSpec(name='math', loader=<class '_frozen_importlib.BuiltinImporter'>, origin='built-in'), 'acos': <built-in function acos>, 'acosh': <built-in function acosh>, 'asin': <built-in function asin>, 'asinh': <built-in function asinh>, 'atan': <built-in function atan>, 'atan2': <built-in function atan2>, 'atanh': <built-in function atanh>, 'ceil': <built-in function ceil>, 'copysign': <built-in function copysign>, 'cos': <built-in function cos>, 'cosh': <built-in function cosh>, 'degrees': <built-in function degrees>, 'erf': <built-in function erf>, 'erfc': <built-in function erfc>, 'exp': <built-in function exp>, 'expm1': <built-in function expm1>, 'fabs': <built-in function fabs>, 'factorial': <built-in function factorial>, 'floor': <built-in function floor>, 'fmod': <built-in function fmod>, 'frexp': <built-in function frexp>, 'fsum': <built-in function fsum>, 'gamma': <built-in function gamma>, 'gcd': <built-in function gcd>, 'hypot': <built-in function hypot>, 'isclose': <built-in function isclose>, 'isfinite': <built-in function isfinite>, 'isinf': <built-in function isinf>, 'isnan': <built-in function isnan>, 'ldexp': <built-in function ldexp>, 'lgamma': <built-in function lgamma>, 'log': <built-in function log>, 'log1p': <built-in function log1p>, 'log10': <built-in function log10>, 'log2': <built-in function log2>, 'modf': <built-in function modf>, 'pow': <built-in function pow>, 'radians': <built-in function radians>, 'remainder': <built-in function remainder>, 'sin': <built-in function sin>, 'sinh': <built-in function sinh>, 'sqrt': <built-in function sqrt>, 'tan': <built-in function tan>, 'tanh': <built-in function tanh>, 'trunc': <built-in function trunc>, 'pi': 3.141592653589793, 'e': 2.718281828459045, 'tau': 6.283185307179586, 'inf': inf, 'nan': nan}, 13: {...}, 14: 3, 18: 2}, '_dh': ['C:\\\\Users\\\\MY\\\\python题库Ming整理'], 'In': ['', 't = True\\nwhile t:\\n    try:\\n        score = int(input())\\n        if score >= 0 and score <= 100:\\n            print(\"Your grade is:\")\\n            if score < 60 :\\n                print(\"F\")\\n            elif score <= 70:\\n                print(\"P\")\\n            elif score <= 80:\\n                print(\"M\")\\n            elif score <= 90:\\n                print(\"G\")\\n            else:\\n                print(\"E\")\\n            t = 0\\n        else:\\n            print(\"您的分数不对，请重新输入\")\\n            continue\\n    except BaseException:\\n        print(\"您的输入无法化为整数！\")', \"a = open('somefile.txt', 'w')\\na.write(' hello world!\\\\nThis is Ming')    \\na.close()\\na = open('somefile.txt', 'r')\\nnext(a)\\nnext(a)\", \"for i in ['spam', 'eggs']:\\n    print(i)\", \"#test\\n#a= iter(['spam', 'eggs'])\\na= ['spam', 'eggs'].__iter__()\\nfor i in a:\\n    print(i)\\n    a.__next__()\", \"#['spam', 'eggs'].__next__()\\niter(['Who', 'eggs']).__next__()\", 'x = [4, 3, 2, 1]\\ny = iter(x)\\nnext(y)\\nsum(y)', 'x = [4, 3, 2, 1]\\ny = iter(x)\\nsum(y)\\nlist(y)', 'x = [4, 3, 2, 1]\\ny = x\\ny.pop(-1)\\nx', 'def f(value):\\n    return value**2\\ng = f\\ng(3)', 'def f(value):\\n    return value**2\\ng = f\\ng(value = True)\\nf(value = True)', 'import math', 'math.__dict__.items()\\nvars(math).items()\\ndir(math)\\nmath.__dict__', 'def f(x):\\n    MMMMMMM = 2\\n    print(locals())\\n    return  MMMMMMM  * x\\nf(1)\\nlocals()', 'a = 3\\ndef f(x):\\n    a = 2\\n    print(locals())\\n    return a * x\\nf(1)\\na', \"get_ipython().run_cell_magic('file', 'mod.py', 'print(__name__)\\\\n')\", 'import mod', \"get_ipython().run_line_magic('run', 'mod.py')\", 'MMMMMMM = 3\\ndef f(x):\\n    MMMMMMM = 2\\n    print(locals())\\n    return  MMMMMMM  * x\\nf(1)\\nprint(locals())\\ndef f(x):\\n    AAAA = 2\\n    print(locals())\\n    return  AAAA  * x\\nf(1)\\nMMMMMMM'], 'Out': {2: 'This is Ming', 4: 'eggs', 5: 'Who', 6: 6, 7: [], 8: [4, 3, 2], 9: 9, 10: 1, 12: {'__name__': 'math', '__doc__': 'This module provides access to the mathematical functions\\ndefined by the C standard.', '__package__': '', '__loader__': <class '_frozen_importlib.BuiltinImporter'>, '__spec__': ModuleSpec(name='math', loader=<class '_frozen_importlib.BuiltinImporter'>, origin='built-in'), 'acos': <built-in function acos>, 'acosh': <built-in function acosh>, 'asin': <built-in function asin>, 'asinh': <built-in function asinh>, 'atan': <built-in function atan>, 'atan2': <built-in function atan2>, 'atanh': <built-in function atanh>, 'ceil': <built-in function ceil>, 'copysign': <built-in function copysign>, 'cos': <built-in function cos>, 'cosh': <built-in function cosh>, 'degrees': <built-in function degrees>, 'erf': <built-in function erf>, 'erfc': <built-in function erfc>, 'exp': <built-in function exp>, 'expm1': <built-in function expm1>, 'fabs': <built-in function fabs>, 'factorial': <built-in function factorial>, 'floor': <built-in function floor>, 'fmod': <built-in function fmod>, 'frexp': <built-in function frexp>, 'fsum': <built-in function fsum>, 'gamma': <built-in function gamma>, 'gcd': <built-in function gcd>, 'hypot': <built-in function hypot>, 'isclose': <built-in function isclose>, 'isfinite': <built-in function isfinite>, 'isinf': <built-in function isinf>, 'isnan': <built-in function isnan>, 'ldexp': <built-in function ldexp>, 'lgamma': <built-in function lgamma>, 'log': <built-in function log>, 'log1p': <built-in function log1p>, 'log10': <built-in function log10>, 'log2': <built-in function log2>, 'modf': <built-in function modf>, 'pow': <built-in function pow>, 'radians': <built-in function radians>, 'remainder': <built-in function remainder>, 'sin': <built-in function sin>, 'sinh': <built-in function sinh>, 'sqrt': <built-in function sqrt>, 'tan': <built-in function tan>, 'tanh': <built-in function tanh>, 'trunc': <built-in function trunc>, 'pi': 3.141592653589793, 'e': 2.718281828459045, 'tau': 6.283185307179586, 'inf': inf, 'nan': nan}, 13: {...}, 14: 3, 18: 2}, 'get_ipython': <bound method InteractiveShell.get_ipython of <ipykernel.zmqshell.ZMQInteractiveShell object at 0x0000019D914BAFC8>>, 'exit': <IPython.core.autocall.ZMQExitAutocall object at 0x0000019D91593288>, 'quit': <IPython.core.autocall.ZMQExitAutocall object at 0x0000019D91593288>, '_': 2, '__': 3, '___': 2, '_i': '%run mod.py', '_ii': 'import mod', '_iii': '%%file mod.py\\nprint(__name__)', '_i1': 't = True\\nwhile t:\\n    try:\\n        score = int(input())\\n        if score >= 0 and score <= 100:\\n            print(\"Your grade is:\")\\n            if score < 60 :\\n                print(\"F\")\\n            elif score <= 70:\\n                print(\"P\")\\n            elif score <= 80:\\n                print(\"M\")\\n            elif score <= 90:\\n                print(\"G\")\\n            else:\\n                print(\"E\")\\n            t = 0\\n        else:\\n            print(\"您的分数不对，请重新输入\")\\n            continue\\n    except BaseException:\\n        print(\"您的输入无法化为整数！\")', 't': 0, 'score': 20, '_i2': \"a = open('somefile.txt', 'w')\\na.write(' hello world!\\\\nThis is Ming')    \\na.close()\\na = open('somefile.txt', 'r')\\nnext(a)\\nnext(a)\", 'a': 3, '_2': 'This is Ming', '_i3': \"for i in ['spam', 'eggs']:\\n    print(i)\", 'i': 'spam', '_i4': \"#test\\n#a= iter(['spam', 'eggs'])\\na= ['spam', 'eggs'].__iter__()\\nfor i in a:\\n    print(i)\\n    a.__next__()\", '_4': 'eggs', '_i5': \"#['spam', 'eggs'].__next__()\\niter(['Who', 'eggs']).__next__()\", '_5': 'Who', '_i6': 'x = [4, 3, 2, 1]\\ny = iter(x)\\nnext(y)\\nsum(y)', 'x': [4, 3, 2], 'y': [4, 3, 2], '_6': 6, '_i7': 'x = [4, 3, 2, 1]\\ny = iter(x)\\nsum(y)\\nlist(y)', '_7': [], '_i8': 'x = [4, 3, 2, 1]\\ny = x\\ny.pop(-1)\\nx', '_8': [4, 3, 2], '_i9': 'def f(value):\\n    return value**2\\ng = f\\ng(3)', 'f': <function f at 0x0000019D91634708>, 'g': <function f at 0x0000019D915F1168>, '_9': 9, '_i10': 'def f(value):\\n    return value**2\\ng = f\\ng(value = True)\\nf(value = True)', '_10': 1, '_i11': 'import math', 'math': <module 'math' (built-in)>, '_i12': 'math.__dict__.items()\\nvars(math).items()\\ndir(math)\\nmath.__dict__', '_12': {'__name__': 'math', '__doc__': 'This module provides access to the mathematical functions\\ndefined by the C standard.', '__package__': '', '__loader__': <class '_frozen_importlib.BuiltinImporter'>, '__spec__': ModuleSpec(name='math', loader=<class '_frozen_importlib.BuiltinImporter'>, origin='built-in'), 'acos': <built-in function acos>, 'acosh': <built-in function acosh>, 'asin': <built-in function asin>, 'asinh': <built-in function asinh>, 'atan': <built-in function atan>, 'atan2': <built-in function atan2>, 'atanh': <built-in function atanh>, 'ceil': <built-in function ceil>, 'copysign': <built-in function copysign>, 'cos': <built-in function cos>, 'cosh': <built-in function cosh>, 'degrees': <built-in function degrees>, 'erf': <built-in function erf>, 'erfc': <built-in function erfc>, 'exp': <built-in function exp>, 'expm1': <built-in function expm1>, 'fabs': <built-in function fabs>, 'factorial': <built-in function factorial>, 'floor': <built-in function floor>, 'fmod': <built-in function fmod>, 'frexp': <built-in function frexp>, 'fsum': <built-in function fsum>, 'gamma': <built-in function gamma>, 'gcd': <built-in function gcd>, 'hypot': <built-in function hypot>, 'isclose': <built-in function isclose>, 'isfinite': <built-in function isfinite>, 'isinf': <built-in function isinf>, 'isnan': <built-in function isnan>, 'ldexp': <built-in function ldexp>, 'lgamma': <built-in function lgamma>, 'log': <built-in function log>, 'log1p': <built-in function log1p>, 'log10': <built-in function log10>, 'log2': <built-in function log2>, 'modf': <built-in function modf>, 'pow': <built-in function pow>, 'radians': <built-in function radians>, 'remainder': <built-in function remainder>, 'sin': <built-in function sin>, 'sinh': <built-in function sinh>, 'sqrt': <built-in function sqrt>, 'tan': <built-in function tan>, 'tanh': <built-in function tanh>, 'trunc': <built-in function trunc>, 'pi': 3.141592653589793, 'e': 2.718281828459045, 'tau': 6.283185307179586, 'inf': inf, 'nan': nan}, '_i13': 'def f(x):\\n    MMMMMMM = 2\\n    print(locals())\\n    return  MMMMMMM  * x\\nf(1)\\nlocals()', '_13': {...}, '_i14': 'a = 3\\ndef f(x):\\n    a = 2\\n    print(locals())\\n    return a * x\\nf(1)\\na', '_14': 3, '_i15': '%%file mod.py\\nprint(__name__)', '_i16': 'import mod', 'mod': <module 'mod' from 'C:\\\\Users\\\\MY\\\\python题库Ming整理\\\\mod.py'>, '_i17': '%run mod.py', '__nonzero__': <function InteractiveShell.new_main_mod.<locals>.<lambda> at 0x0000019D91610828>, '_i18': 'MMMMMMM = 3\\ndef f(x):\\n    MMMMMMM = 2\\n    print(locals())\\n    return  MMMMMMM  * x\\nf(1)\\nprint(locals())\\ndef f(x):\\n    AAAA = 2\\n    print(locals())\\n    return  AAAA  * x\\nf(1)\\nMMMMMMM', 'MMMMMMM': 3, '_18': 2}\n",
      "{'x': 1, 'AAAA': 2}\n"
     ]
    },
    {
     "data": {
      "text/plain": [
       "2"
      ]
     },
     "execution_count": 18,
     "metadata": {},
     "output_type": "execute_result"
    },
    {
     "data": {
      "text/plain": [
       "3"
      ]
     },
     "execution_count": 18,
     "metadata": {},
     "output_type": "execute_result"
    }
   ],
   "source": [
    "MMMMMMM = 3\n",
    "def f(x):\n",
    "    MMMMMMM = 2\n",
    "    print(locals())\n",
    "    return  MMMMMMM  * x\n",
    "f(1)\n",
    "print(locals())\n",
    "def f(x):\n",
    "    AAAA = 2\n",
    "    print(locals())\n",
    "    return  AAAA  * x\n",
    "f(1)\n",
    "MMMMMMM"
   ]
  },
  {
   "cell_type": "markdown",
   "metadata": {},
   "source": [
    "### 16 简答题 \n",
    "假设以下代码⽂本被保存在 moda.py ⽂件中。\n"
   ]
  },
  {
   "cell_type": "code",
   "execution_count": 19,
   "metadata": {},
   "outputs": [
    {
     "name": "stdout",
     "output_type": "stream",
     "text": [
      "Overwriting moda.py\n"
     ]
    }
   ],
   "source": [
    "%%file  moda.py\n",
    "x = 100\n",
    "def f():\n",
    "    print(x+ 10)\n",
    "    locals()\n"
   ]
  },
  {
   "cell_type": "markdown",
   "metadata": {},
   "source": [
    "假设以下代码⽂本被保存在 modb.py ⽂件中。"
   ]
  },
  {
   "cell_type": "code",
   "execution_count": 20,
   "metadata": {},
   "outputs": [
    {
     "name": "stdout",
     "output_type": "stream",
     "text": [
      "Overwriting modb.py\n"
     ]
    }
   ],
   "source": [
    "%%file modb.py\n",
    "x = 200\n",
    "def g():\n",
    "    print(x - 5)\n",
    "    locals()\n"
   ]
  },
  {
   "cell_type": "markdown",
   "metadata": {},
   "source": [
    "在 Jupyter Notebook 或者 IPython 中运⾏以下代码，"
   ]
  },
  {
   "cell_type": "code",
   "execution_count": 21,
   "metadata": {},
   "outputs": [
    {
     "name": "stdout",
     "output_type": "stream",
     "text": [
      "110\n",
      "195\n"
     ]
    }
   ],
   "source": [
    "import moda\n",
    "import modb\n",
    "moda.f()\n",
    "modb.g()\n"
   ]
  },
  {
   "cell_type": "markdown",
   "metadata": {},
   "source": [
    "函数 (function) moda.f 在执⾏过程中遇到名称 (name) `x `，需要在全局命名空间 (global namespace)中查找有没有相应的对象 (object)；函数 (function)` modb.g` 在执⾏过程中遇到名称 (name)` x `，也需要在全局命名空间 (global namespace) 中查找有没有相应的对象 (object)。这两个所谈到的全局命名空间 (global namespace) 分别是什么？"
   ]
  },
  {
   "cell_type": "markdown",
   "metadata": {},
   "source": [
    "#### 答：\n",
    "moda的全局命名空间是在运行moda之后查看模块moda的命名空间内是否有变量x,如果有就调用，然后跳出moda，来到modb的命名空间（此时的全局变量空间就是modb的空间），在modb的空间内寻找变量x，然后计算表达。\n",
    "\n",
    "也就是：\n",
    "\n",
    "- 1. 第一个全局命名空间指的是moda的全局命名空间\n",
    "- 1. 第一个全局命名空间指的是modb的全局命名空间\n",
    "\n",
    "moda和modb的内容可以改变，然后观察变化，如果mod中没有赋值x则会直接报错\n",
    "\n",
    "\n",
    "\n",
    "\n"
   ]
  },
  {
   "cell_type": "markdown",
   "metadata": {},
   "source": [
    "#### 答2：（？？？没看懂）\n",
    "执行moda.f时，命名空间是全局命名空间`moda.__dict__`,模块执行完成后解释器返回到执行import语句的模块，在这种情况下为`__main__`，`__main__`再次成为全局命名空间。"
   ]
  },
  {
   "cell_type": "markdown",
   "metadata": {},
   "source": [
    "下面是一个实例"
   ]
  },
  {
   "cell_type": "code",
   "execution_count": 22,
   "metadata": {},
   "outputs": [
    {
     "name": "stdout",
     "output_type": "stream",
     "text": [
      "{'x': 1, 'MMMMMMM': 2}\n"
     ]
    },
    {
     "data": {
      "text/plain": [
       "2"
      ]
     },
     "execution_count": 22,
     "metadata": {},
     "output_type": "execute_result"
    },
    {
     "name": "stdout",
     "output_type": "stream",
     "text": [
      "{'__name__': '__main__', '__doc__': 'Module created for script run in IPython', '__package__': None, '__loader__': None, '__spec__': None, '__builtin__': <module 'builtins' (built-in)>, '__builtins__': <module 'builtins' (built-in)>, '_ih': ['', 't = True\\nwhile t:\\n    try:\\n        score = int(input())\\n        if score >= 0 and score <= 100:\\n            print(\"Your grade is:\")\\n            if score < 60 :\\n                print(\"F\")\\n            elif score <= 70:\\n                print(\"P\")\\n            elif score <= 80:\\n                print(\"M\")\\n            elif score <= 90:\\n                print(\"G\")\\n            else:\\n                print(\"E\")\\n            t = 0\\n        else:\\n            print(\"您的分数不对，请重新输入\")\\n            continue\\n    except BaseException:\\n        print(\"您的输入无法化为整数！\")', \"a = open('somefile.txt', 'w')\\na.write(' hello world!\\\\nThis is Ming')    \\na.close()\\na = open('somefile.txt', 'r')\\nnext(a)\\nnext(a)\", \"for i in ['spam', 'eggs']:\\n    print(i)\", \"#test\\n#a= iter(['spam', 'eggs'])\\na= ['spam', 'eggs'].__iter__()\\nfor i in a:\\n    print(i)\\n    a.__next__()\", \"#['spam', 'eggs'].__next__()\\niter(['Who', 'eggs']).__next__()\", 'x = [4, 3, 2, 1]\\ny = iter(x)\\nnext(y)\\nsum(y)', 'x = [4, 3, 2, 1]\\ny = iter(x)\\nsum(y)\\nlist(y)', 'x = [4, 3, 2, 1]\\ny = x\\ny.pop(-1)\\nx', 'def f(value):\\n    return value**2\\ng = f\\ng(3)', 'def f(value):\\n    return value**2\\ng = f\\ng(value = True)\\nf(value = True)', 'import math', 'math.__dict__.items()\\nvars(math).items()\\ndir(math)\\nmath.__dict__', 'def f(x):\\n    MMMMMMM = 2\\n    print(locals())\\n    return  MMMMMMM  * x\\nf(1)\\nlocals()', 'a = 3\\ndef f(x):\\n    a = 2\\n    print(locals())\\n    return a * x\\nf(1)\\na', \"get_ipython().run_cell_magic('file', 'mod.py', 'print(__name__)\\\\n')\", 'import mod', \"get_ipython().run_line_magic('run', 'mod.py')\", 'MMMMMMM = 3\\ndef f(x):\\n    MMMMMMM = 2\\n    print(locals())\\n    return  MMMMMMM  * x\\nf(1)\\nprint(locals())\\ndef f(x):\\n    AAAA = 2\\n    print(locals())\\n    return  AAAA  * x\\nf(1)\\nMMMMMMM', \"get_ipython().run_cell_magic('file', ' moda.py', 'x = 100\\\\ndef f():\\\\n    print(x+ 10)\\\\n    locals()\\\\n')\", \"get_ipython().run_cell_magic('file', 'modb.py', 'x = 200\\\\ndef g():\\\\n    print(x - 5)\\\\n    locals()\\\\n')\", 'import moda\\nimport modb\\nmoda.f()\\nmodb.g()', 'MMMMMMM = 3\\ndef f(x):\\n    MMMMMMM = 2\\n    print(locals())\\n    return  MMMMMMM  * x\\nf(1)\\nprint(locals())\\ndef f(x):\\n    AAAA = 2\\n    print(locals())\\n    return  AAAA  * x\\nf(1)\\nMMMMMMM'], '_oh': {2: 'This is Ming', 4: 'eggs', 5: 'Who', 6: 6, 7: [], 8: [4, 3, 2], 9: 9, 10: 1, 12: {'__name__': 'math', '__doc__': 'This module provides access to the mathematical functions\\ndefined by the C standard.', '__package__': '', '__loader__': <class '_frozen_importlib.BuiltinImporter'>, '__spec__': ModuleSpec(name='math', loader=<class '_frozen_importlib.BuiltinImporter'>, origin='built-in'), 'acos': <built-in function acos>, 'acosh': <built-in function acosh>, 'asin': <built-in function asin>, 'asinh': <built-in function asinh>, 'atan': <built-in function atan>, 'atan2': <built-in function atan2>, 'atanh': <built-in function atanh>, 'ceil': <built-in function ceil>, 'copysign': <built-in function copysign>, 'cos': <built-in function cos>, 'cosh': <built-in function cosh>, 'degrees': <built-in function degrees>, 'erf': <built-in function erf>, 'erfc': <built-in function erfc>, 'exp': <built-in function exp>, 'expm1': <built-in function expm1>, 'fabs': <built-in function fabs>, 'factorial': <built-in function factorial>, 'floor': <built-in function floor>, 'fmod': <built-in function fmod>, 'frexp': <built-in function frexp>, 'fsum': <built-in function fsum>, 'gamma': <built-in function gamma>, 'gcd': <built-in function gcd>, 'hypot': <built-in function hypot>, 'isclose': <built-in function isclose>, 'isfinite': <built-in function isfinite>, 'isinf': <built-in function isinf>, 'isnan': <built-in function isnan>, 'ldexp': <built-in function ldexp>, 'lgamma': <built-in function lgamma>, 'log': <built-in function log>, 'log1p': <built-in function log1p>, 'log10': <built-in function log10>, 'log2': <built-in function log2>, 'modf': <built-in function modf>, 'pow': <built-in function pow>, 'radians': <built-in function radians>, 'remainder': <built-in function remainder>, 'sin': <built-in function sin>, 'sinh': <built-in function sinh>, 'sqrt': <built-in function sqrt>, 'tan': <built-in function tan>, 'tanh': <built-in function tanh>, 'trunc': <built-in function trunc>, 'pi': 3.141592653589793, 'e': 2.718281828459045, 'tau': 6.283185307179586, 'inf': inf, 'nan': nan}, 13: {...}, 14: 3, 18: 3, 22: 2}, '_dh': ['C:\\\\Users\\\\MY\\\\python题库Ming整理'], 'In': ['', 't = True\\nwhile t:\\n    try:\\n        score = int(input())\\n        if score >= 0 and score <= 100:\\n            print(\"Your grade is:\")\\n            if score < 60 :\\n                print(\"F\")\\n            elif score <= 70:\\n                print(\"P\")\\n            elif score <= 80:\\n                print(\"M\")\\n            elif score <= 90:\\n                print(\"G\")\\n            else:\\n                print(\"E\")\\n            t = 0\\n        else:\\n            print(\"您的分数不对，请重新输入\")\\n            continue\\n    except BaseException:\\n        print(\"您的输入无法化为整数！\")', \"a = open('somefile.txt', 'w')\\na.write(' hello world!\\\\nThis is Ming')    \\na.close()\\na = open('somefile.txt', 'r')\\nnext(a)\\nnext(a)\", \"for i in ['spam', 'eggs']:\\n    print(i)\", \"#test\\n#a= iter(['spam', 'eggs'])\\na= ['spam', 'eggs'].__iter__()\\nfor i in a:\\n    print(i)\\n    a.__next__()\", \"#['spam', 'eggs'].__next__()\\niter(['Who', 'eggs']).__next__()\", 'x = [4, 3, 2, 1]\\ny = iter(x)\\nnext(y)\\nsum(y)', 'x = [4, 3, 2, 1]\\ny = iter(x)\\nsum(y)\\nlist(y)', 'x = [4, 3, 2, 1]\\ny = x\\ny.pop(-1)\\nx', 'def f(value):\\n    return value**2\\ng = f\\ng(3)', 'def f(value):\\n    return value**2\\ng = f\\ng(value = True)\\nf(value = True)', 'import math', 'math.__dict__.items()\\nvars(math).items()\\ndir(math)\\nmath.__dict__', 'def f(x):\\n    MMMMMMM = 2\\n    print(locals())\\n    return  MMMMMMM  * x\\nf(1)\\nlocals()', 'a = 3\\ndef f(x):\\n    a = 2\\n    print(locals())\\n    return a * x\\nf(1)\\na', \"get_ipython().run_cell_magic('file', 'mod.py', 'print(__name__)\\\\n')\", 'import mod', \"get_ipython().run_line_magic('run', 'mod.py')\", 'MMMMMMM = 3\\ndef f(x):\\n    MMMMMMM = 2\\n    print(locals())\\n    return  MMMMMMM  * x\\nf(1)\\nprint(locals())\\ndef f(x):\\n    AAAA = 2\\n    print(locals())\\n    return  AAAA  * x\\nf(1)\\nMMMMMMM', \"get_ipython().run_cell_magic('file', ' moda.py', 'x = 100\\\\ndef f():\\\\n    print(x+ 10)\\\\n    locals()\\\\n')\", \"get_ipython().run_cell_magic('file', 'modb.py', 'x = 200\\\\ndef g():\\\\n    print(x - 5)\\\\n    locals()\\\\n')\", 'import moda\\nimport modb\\nmoda.f()\\nmodb.g()', 'MMMMMMM = 3\\ndef f(x):\\n    MMMMMMM = 2\\n    print(locals())\\n    return  MMMMMMM  * x\\nf(1)\\nprint(locals())\\ndef f(x):\\n    AAAA = 2\\n    print(locals())\\n    return  AAAA  * x\\nf(1)\\nMMMMMMM'], 'Out': {2: 'This is Ming', 4: 'eggs', 5: 'Who', 6: 6, 7: [], 8: [4, 3, 2], 9: 9, 10: 1, 12: {'__name__': 'math', '__doc__': 'This module provides access to the mathematical functions\\ndefined by the C standard.', '__package__': '', '__loader__': <class '_frozen_importlib.BuiltinImporter'>, '__spec__': ModuleSpec(name='math', loader=<class '_frozen_importlib.BuiltinImporter'>, origin='built-in'), 'acos': <built-in function acos>, 'acosh': <built-in function acosh>, 'asin': <built-in function asin>, 'asinh': <built-in function asinh>, 'atan': <built-in function atan>, 'atan2': <built-in function atan2>, 'atanh': <built-in function atanh>, 'ceil': <built-in function ceil>, 'copysign': <built-in function copysign>, 'cos': <built-in function cos>, 'cosh': <built-in function cosh>, 'degrees': <built-in function degrees>, 'erf': <built-in function erf>, 'erfc': <built-in function erfc>, 'exp': <built-in function exp>, 'expm1': <built-in function expm1>, 'fabs': <built-in function fabs>, 'factorial': <built-in function factorial>, 'floor': <built-in function floor>, 'fmod': <built-in function fmod>, 'frexp': <built-in function frexp>, 'fsum': <built-in function fsum>, 'gamma': <built-in function gamma>, 'gcd': <built-in function gcd>, 'hypot': <built-in function hypot>, 'isclose': <built-in function isclose>, 'isfinite': <built-in function isfinite>, 'isinf': <built-in function isinf>, 'isnan': <built-in function isnan>, 'ldexp': <built-in function ldexp>, 'lgamma': <built-in function lgamma>, 'log': <built-in function log>, 'log1p': <built-in function log1p>, 'log10': <built-in function log10>, 'log2': <built-in function log2>, 'modf': <built-in function modf>, 'pow': <built-in function pow>, 'radians': <built-in function radians>, 'remainder': <built-in function remainder>, 'sin': <built-in function sin>, 'sinh': <built-in function sinh>, 'sqrt': <built-in function sqrt>, 'tan': <built-in function tan>, 'tanh': <built-in function tanh>, 'trunc': <built-in function trunc>, 'pi': 3.141592653589793, 'e': 2.718281828459045, 'tau': 6.283185307179586, 'inf': inf, 'nan': nan}, 13: {...}, 14: 3, 18: 3, 22: 2}, 'get_ipython': <bound method InteractiveShell.get_ipython of <ipykernel.zmqshell.ZMQInteractiveShell object at 0x0000019D914BAFC8>>, 'exit': <IPython.core.autocall.ZMQExitAutocall object at 0x0000019D91593288>, 'quit': <IPython.core.autocall.ZMQExitAutocall object at 0x0000019D91593288>, '_': 2, '__': 3, '___': 2, '_i': 'import moda\\nimport modb\\nmoda.f()\\nmodb.g()', '_ii': '%%file modb.py\\nx = 200\\ndef g():\\n    print(x - 5)\\n    locals()', '_iii': '%%file  moda.py\\nx = 100\\ndef f():\\n    print(x+ 10)\\n    locals()', '_i1': 't = True\\nwhile t:\\n    try:\\n        score = int(input())\\n        if score >= 0 and score <= 100:\\n            print(\"Your grade is:\")\\n            if score < 60 :\\n                print(\"F\")\\n            elif score <= 70:\\n                print(\"P\")\\n            elif score <= 80:\\n                print(\"M\")\\n            elif score <= 90:\\n                print(\"G\")\\n            else:\\n                print(\"E\")\\n            t = 0\\n        else:\\n            print(\"您的分数不对，请重新输入\")\\n            continue\\n    except BaseException:\\n        print(\"您的输入无法化为整数！\")', 't': 0, 'score': 20, '_i2': \"a = open('somefile.txt', 'w')\\na.write(' hello world!\\\\nThis is Ming')    \\na.close()\\na = open('somefile.txt', 'r')\\nnext(a)\\nnext(a)\", 'a': 3, '_2': 'This is Ming', '_i3': \"for i in ['spam', 'eggs']:\\n    print(i)\", 'i': 'spam', '_i4': \"#test\\n#a= iter(['spam', 'eggs'])\\na= ['spam', 'eggs'].__iter__()\\nfor i in a:\\n    print(i)\\n    a.__next__()\", '_4': 'eggs', '_i5': \"#['spam', 'eggs'].__next__()\\niter(['Who', 'eggs']).__next__()\", '_5': 'Who', '_i6': 'x = [4, 3, 2, 1]\\ny = iter(x)\\nnext(y)\\nsum(y)', 'x': [4, 3, 2], 'y': [4, 3, 2], '_6': 6, '_i7': 'x = [4, 3, 2, 1]\\ny = iter(x)\\nsum(y)\\nlist(y)', '_7': [], '_i8': 'x = [4, 3, 2, 1]\\ny = x\\ny.pop(-1)\\nx', '_8': [4, 3, 2], '_i9': 'def f(value):\\n    return value**2\\ng = f\\ng(3)', 'f': <function f at 0x0000019D91648708>, 'g': <function f at 0x0000019D915F1168>, '_9': 9, '_i10': 'def f(value):\\n    return value**2\\ng = f\\ng(value = True)\\nf(value = True)', '_10': 1, '_i11': 'import math', 'math': <module 'math' (built-in)>, '_i12': 'math.__dict__.items()\\nvars(math).items()\\ndir(math)\\nmath.__dict__', '_12': {'__name__': 'math', '__doc__': 'This module provides access to the mathematical functions\\ndefined by the C standard.', '__package__': '', '__loader__': <class '_frozen_importlib.BuiltinImporter'>, '__spec__': ModuleSpec(name='math', loader=<class '_frozen_importlib.BuiltinImporter'>, origin='built-in'), 'acos': <built-in function acos>, 'acosh': <built-in function acosh>, 'asin': <built-in function asin>, 'asinh': <built-in function asinh>, 'atan': <built-in function atan>, 'atan2': <built-in function atan2>, 'atanh': <built-in function atanh>, 'ceil': <built-in function ceil>, 'copysign': <built-in function copysign>, 'cos': <built-in function cos>, 'cosh': <built-in function cosh>, 'degrees': <built-in function degrees>, 'erf': <built-in function erf>, 'erfc': <built-in function erfc>, 'exp': <built-in function exp>, 'expm1': <built-in function expm1>, 'fabs': <built-in function fabs>, 'factorial': <built-in function factorial>, 'floor': <built-in function floor>, 'fmod': <built-in function fmod>, 'frexp': <built-in function frexp>, 'fsum': <built-in function fsum>, 'gamma': <built-in function gamma>, 'gcd': <built-in function gcd>, 'hypot': <built-in function hypot>, 'isclose': <built-in function isclose>, 'isfinite': <built-in function isfinite>, 'isinf': <built-in function isinf>, 'isnan': <built-in function isnan>, 'ldexp': <built-in function ldexp>, 'lgamma': <built-in function lgamma>, 'log': <built-in function log>, 'log1p': <built-in function log1p>, 'log10': <built-in function log10>, 'log2': <built-in function log2>, 'modf': <built-in function modf>, 'pow': <built-in function pow>, 'radians': <built-in function radians>, 'remainder': <built-in function remainder>, 'sin': <built-in function sin>, 'sinh': <built-in function sinh>, 'sqrt': <built-in function sqrt>, 'tan': <built-in function tan>, 'tanh': <built-in function tanh>, 'trunc': <built-in function trunc>, 'pi': 3.141592653589793, 'e': 2.718281828459045, 'tau': 6.283185307179586, 'inf': inf, 'nan': nan}, '_i13': 'def f(x):\\n    MMMMMMM = 2\\n    print(locals())\\n    return  MMMMMMM  * x\\nf(1)\\nlocals()', '_13': {...}, '_i14': 'a = 3\\ndef f(x):\\n    a = 2\\n    print(locals())\\n    return a * x\\nf(1)\\na', '_14': 3, '_i15': '%%file mod.py\\nprint(__name__)', '_i16': 'import mod', 'mod': <module 'mod' from 'C:\\\\Users\\\\MY\\\\python题库Ming整理\\\\mod.py'>, '_i17': '%run mod.py', '__nonzero__': <function InteractiveShell.new_main_mod.<locals>.<lambda> at 0x0000019D91610828>, '_i18': 'MMMMMMM = 3\\ndef f(x):\\n    MMMMMMM = 2\\n    print(locals())\\n    return  MMMMMMM  * x\\nf(1)\\nprint(locals())\\ndef f(x):\\n    AAAA = 2\\n    print(locals())\\n    return  AAAA  * x\\nf(1)\\nMMMMMMM', 'MMMMMMM': 3, '_18': 3, '_i19': '%%file  moda.py\\nx = 100\\ndef f():\\n    print(x+ 10)\\n    locals()', '_i20': '%%file modb.py\\nx = 200\\ndef g():\\n    print(x - 5)\\n    locals()', '_i21': 'import moda\\nimport modb\\nmoda.f()\\nmodb.g()', 'moda': <module 'moda' from 'C:\\\\Users\\\\MY\\\\python题库Ming整理\\\\moda.py'>, 'modb': <module 'modb' from 'C:\\\\Users\\\\MY\\\\python题库Ming整理\\\\modb.py'>, '_i22': 'MMMMMMM = 3\\ndef f(x):\\n    MMMMMMM = 2\\n    print(locals())\\n    return  MMMMMMM  * x\\nf(1)\\nprint(locals())\\ndef f(x):\\n    AAAA = 2\\n    print(locals())\\n    return  AAAA  * x\\nf(1)\\nMMMMMMM', '_22': 2}\n",
      "{'x': 1, 'AAAA': 2}\n"
     ]
    },
    {
     "data": {
      "text/plain": [
       "2"
      ]
     },
     "execution_count": 22,
     "metadata": {},
     "output_type": "execute_result"
    },
    {
     "data": {
      "text/plain": [
       "3"
      ]
     },
     "execution_count": 22,
     "metadata": {},
     "output_type": "execute_result"
    }
   ],
   "source": [
    "MMMMMMM = 3\n",
    "def f(x):\n",
    "    MMMMMMM = 2\n",
    "    print(locals())\n",
    "    return  MMMMMMM  * x\n",
    "f(1)\n",
    "print(locals())\n",
    "def f(x):\n",
    "    AAAA = 2\n",
    "    print(locals())\n",
    "    return  AAAA  * x\n",
    "f(1)\n",
    "MMMMMMM"
   ]
  },
  {
   "cell_type": "markdown",
   "metadata": {},
   "source": [
    "### 17 简答题 \n",
    "请⽤⼀句话解释什么是局部命名空间 (local namespace)。\n"
   ]
  },
  {
   "cell_type": "markdown",
   "metadata": {},
   "source": [
    "#### 答：\n",
    "\n",
    "局部命名空间：位于函数内，就是在函数内部定义的名字，当调用函数的时候，才会产生这个名称空间，随着函数执行的结束 这个命名空间就又消失了"
   ]
  },
  {
   "cell_type": "markdown",
   "metadata": {},
   "source": [
    "### 18 简答题 \n",
    "Python 变量 (variable) 名称 (name) 在运⾏时 (runtime) 具体将绑定 (bind) 到什么值 (即对象(object))，是在哪四类命名空间 (namespace) 中依次寻找并决定 (resolution)的？\n"
   ]
  },
  {
   "cell_type": "markdown",
   "metadata": {},
   "source": [
    "答：两种情况：假如当前模块是主模块（也就是调用其他模块的模块），那么此模块名字就是`__main__`，通过if判断这样就可以执行“`__mian__`:”后面的主函数内容；假如此模块是被import的，则此模块名字为文件名字（不加后面的.py），通过if判断这样就会跳过“`__mian__`:”后面的内容。\n",
    "解释器搜索姓名的顺序为\n",
    "- 1、本地名称空间（如果存在）\n",
    "- 2、封闭名称空间的层次结构（如果存在）\n",
    "- 3、全局名称空间\n",
    "- 4、内置名称空间\n"
   ]
  },
  {
   "cell_type": "code",
   "execution_count": 23,
   "metadata": {},
   "outputs": [
    {
     "name": "stdout",
     "output_type": "stream",
     "text": [
      "12\n"
     ]
    }
   ],
   "source": [
    "a = 3\n",
    "def f():\n",
    "    \n",
    "    def g():\n",
    "        b = 4\n",
    "        print(a * b)\n",
    "    g()\n",
    "f()"
   ]
  },
  {
   "cell_type": "markdown",
   "metadata": {},
   "source": [
    "### 19 简答题 \n",
    "执⾏过以下代码之后，\n"
   ]
  },
  {
   "cell_type": "code",
   "execution_count": 24,
   "metadata": {},
   "outputs": [],
   "source": [
    "a = 3\n",
    "def f():\n",
    "    a = 2\n",
    "    def g():\n",
    "        b = 4\n",
    "        print(a * b)\n",
    "    g()\n"
   ]
  },
  {
   "cell_type": "markdown",
   "metadata": {},
   "source": [
    "\n",
    "\n",
    "如果我们调⽤ (call) 函数 (function) f ，那么在 f 的执⾏过程中，在其局部命名空间 (localnamespace) 中将定义 (define) 名称 (name) a 和 g ，然后将调⽤ (call) 函数 (function) g ，⽽在调⽤(call) 函数 (function) g 的时候，在 g 的执⾏过程中⼜将涉及到名称 (name) a 。请问名称 a 的值将在相对于 g ⽽⾔的哪个命名空间 (namespace) 中被决定 (resolution)？即 LEGB (local, enclosing,global, builtin) 四类命名空间 (namespace) 中的哪⼀个？"
   ]
  },
  {
   "cell_type": "markdown",
   "metadata": {},
   "source": [
    "#### 答：\n",
    "名称 a 的值将在相对于 g ⽽⾔的enclosing命名空间\n",
    "\n"
   ]
  },
  {
   "cell_type": "markdown",
   "metadata": {},
   "source": [
    "### 20 简答题 \n",
    "以下代码运⾏后会在终端 (terminal) 输出什么内容？为什么？\n"
   ]
  },
  {
   "cell_type": "code",
   "execution_count": 25,
   "metadata": {},
   "outputs": [
    {
     "name": "stdout",
     "output_type": "stream",
     "text": [
      "a = 2 y = 12\n"
     ]
    }
   ],
   "source": [
    "a = 0\n",
    "def g(x):\n",
    "    \n",
    "    x = x + a\n",
    "    return x\n",
    "a = 2\n",
    "y = g(10)\n",
    "print(\"a =\", a, \"y =\", y)"
   ]
  },
  {
   "cell_type": "markdown",
   "metadata": {},
   "source": [
    "由于g（）的本地空间内没有a的赋值，应该要回到全局空间来寻找a；a=2在全局对a重新赋值，而y = g(10)在使用变量a时a已经等于新的赋值了，输出的结果就是a=2,y=12（y调用g（）时a的赋值被替换了）"
   ]
  },
  {
   "cell_type": "markdown",
   "metadata": {},
   "source": [
    "### 21 简答题 \n",
    "以下代码运⾏后会在终端 (terminal) 输出什么内容？为什么？\n"
   ]
  },
  {
   "cell_type": "code",
   "execution_count": 26,
   "metadata": {},
   "outputs": [
    {
     "data": {
      "text/plain": [
       "15"
      ]
     },
     "execution_count": 26,
     "metadata": {},
     "output_type": "execute_result"
    },
    {
     "name": "stdout",
     "output_type": "stream",
     "text": [
      "10\n"
     ]
    }
   ],
   "source": [
    "def g(x):\n",
    "    x = x + 5\n",
    "    return x\n",
    "x = 10\n",
    "g(x)\n",
    "print(x)\n"
   ]
  },
  {
   "cell_type": "markdown",
   "metadata": {},
   "source": [
    "#### 答：\n",
    "由于g（）函数的本地空间内没有a的赋值，应该要回到全局空间来寻找x，因而在调用g函数时\n",
    "全局空间的x变量是与10绑定的，所以会将x=10调用进函数内使用；print更是在函数外因而直接打印出当前全局变量中x所绑定的对象，所以是10并不奇怪"
   ]
  },
  {
   "cell_type": "markdown",
   "metadata": {},
   "source": [
    "### 22 课本补充\n",
    "- 不可变 (immutable) 对象 (object) ⼀旦被创建，他们的值 (或内部状态) 就不可能再改变。\n",
    "- 在 Python 中，只有 int 、bool 、float 、str 、bytes 、tuple 、frozenset 、complex\n",
    "这⼏个内置类型 (built-in class) 的实例 (instance) 是不可变的 (immutable)，除此之外，其他类型\n",
    "(class) 的实例 (instance) 都是可变的 (mutable)。"
   ]
  },
  {
   "cell_type": "markdown",
   "metadata": {},
   "source": [
    "- str (字符串) 虽然是由多个字符 (unicode character) 所构成，但却是不可变的 (immutable)，即\n",
    "不能被修改。在 Python 中对 str (字符串) 进⾏任何看似修改的操作，如切⽚ (slice)、拼接\n",
    "(join)、修剪 (strip)、格式化 (format)、⼤⼩写化 (upper/lower) 等等，其实都是返回新的 str 实\n",
    "例 (instance)，并不可能修改原实例 (instance)。bytes (字节串) 同理。\n",
    "- tuple (元组) 可以理解为不可变的 (immutable) list (列表)； frozenset (冻结集合) 可以理解\n",
    "为不可变的 (immutable) set (集合)。\n",
    "- tuple (元组) 和 list (列表) 同样都是序列 (sequence) 容器 (container)，⾥⾯按顺序保存着对\n",
    "⼀系列对象 (objectz) 的引⽤ (reference)。“ tuple (元组) 是不可变的 (immutable)”，仅仅是说这\n",
    "些`引⽤ (reference) 本身`不可能被修改，但并没有说那些被引⽤ (referenced) 的对象 (object) 不能\n",
    "被修改。事实上，不可变的 (immutable) tuple (元组) ⾥所引⽤ (reference) 的可变的 (mutable)\n",
    "对象 (object) 是可以被修改的。这使得 tuple (元组) 看起来 是可以改变的。有鉴于此，为了避免\n",
    "出现意想不到的错误，建议在 tuple (元组) ⾥仅存放不可变的 (immutable) 对象\n",
    "(object)。frozenset (冻结集合) 同理。"
   ]
  },
  {
   "cell_type": "markdown",
   "metadata": {},
   "source": [
    "### 23 简答题 \n",
    "以下代码运⾏后会在终端 (terminal) 输出什么内容？为什么？\n"
   ]
  },
  {
   "cell_type": "code",
   "execution_count": 27,
   "metadata": {},
   "outputs": [
    {
     "data": {
      "text/plain": [
       "'ABCD'"
      ]
     },
     "execution_count": 27,
     "metadata": {},
     "output_type": "execute_result"
    },
    {
     "name": "stdout",
     "output_type": "stream",
     "text": [
      "aBcD\n"
     ]
    }
   ],
   "source": [
    "s = 'aBcD'\n",
    "s.upper()\n",
    "print(s)\n"
   ]
  },
  {
   "cell_type": "markdown",
   "metadata": {},
   "source": [
    "#### 答：\n",
    "'aBcD'，因为在s.upper()中，相当于创建了一个新的实例s.upper()，该实例利用s的upper()方法将s中所有小写字母对象全改为大写。\n",
    "\n",
    "由于s是不可变的字符串，所以s的值依然与'aBcD'绑定。\n",
    "\n",
    "\n",
    "#### 答2：\n",
    "\n",
    "慎重看\n",
    "在块执行结束之后回到全局命名空间，由于str是不可变的，所以s的值依然与'aBcD'绑定。"
   ]
  },
  {
   "cell_type": "markdown",
   "metadata": {},
   "source": [
    "24 简答题 \n",
    "以下代码运⾏后会在终端 (terminal) 输出什么内容？为什么？\n"
   ]
  },
  {
   "cell_type": "code",
   "execution_count": 28,
   "metadata": {},
   "outputs": [
    {
     "name": "stdout",
     "output_type": "stream",
     "text": [
      "2 1\n"
     ]
    }
   ],
   "source": [
    "def f(x):\n",
    "    x = x + 1\n",
    "    return x\n",
    "x = 1\n",
    "print(f(x), x)\n"
   ]
  },
  {
   "cell_type": "markdown",
   "metadata": {},
   "source": [
    "答：\n",
    "2 1\n",
    "\n",
    "\n",
    "调用f（x）时，没能在本地和封闭的层次空间中找到x，而最终在全局中找到x=1，所以f将x=1\n",
    "代入计算，得到f（x）=2；而x是不可变的，x是int型，不可变，并没有重新赋值，生成新的x实例，因而x还是1"
   ]
  },
  {
   "cell_type": "markdown",
   "metadata": {},
   "source": [
    "25 简答题 \n",
    "以下代码运⾏后会在终端 (terminal) 输出什么内容？为什么？\n"
   ]
  },
  {
   "cell_type": "code",
   "execution_count": 29,
   "metadata": {},
   "outputs": [
    {
     "name": "stdout",
     "output_type": "stream",
     "text": [
      "[2] [2]\n"
     ]
    }
   ],
   "source": [
    "def f(x):\n",
    "    x[0] = x[0] + 1\n",
    "    return x\n",
    "x = [1]\n",
    "print(f(x), x)"
   ]
  },
  {
   "cell_type": "markdown",
   "metadata": {},
   "source": [
    "f在全局命名空间中注册，x与[1]绑定在全局命名空间，调用f(x)时创造一个本地命名空间，添加x到本地命名空间，与[1]绑定，列表[1]被调整成[2]，返回列表[2]，本地命名空间被释放，且本地x丢失，全局x被修改。输出[2] [2]"
   ]
  },
  {
   "cell_type": "markdown",
   "metadata": {},
   "source": [
    "### 26 简答题 \n",
    "请举例介绍 assert 语句如何使⽤，在什么情况下使⽤\n"
   ]
  },
  {
   "cell_type": "markdown",
   "metadata": {},
   "source": [
    "#### 答："
   ]
  },
  {
   "cell_type": "markdown",
   "metadata": {},
   "source": [
    "\n",
    "处理检查传递的参数性质用assert语句进行判断和警告，如果不满足asser的判断条件，返回\n",
    "一个指定的警告语句\n"
   ]
  },
  {
   "cell_type": "code",
   "execution_count": 30,
   "metadata": {},
   "outputs": [
    {
     "data": {
      "text/plain": [
       "0.5"
      ]
     },
     "execution_count": 30,
     "metadata": {},
     "output_type": "execute_result"
    }
   ],
   "source": [
    "import numpy as np\n",
    "def var(y):\n",
    "    n = len(y)\n",
    "    assert n > 1, 'Sample size must be greater than one.'\n",
    "    return np.sum((y - np.mean(y))**2) / float(n-1)\n",
    "var((1,2))\n",
    "#var((1,))"
   ]
  },
  {
   "cell_type": "markdown",
   "metadata": {},
   "source": [
    "如果我们使用长度为1的数组运行该程序，则程序将终止并打印错误消息。"
   ]
  },
  {
   "cell_type": "markdown",
   "metadata": {},
   "source": [
    "### 27 选择题"
   ]
  },
  {
   "cell_type": "code",
   "execution_count": 31,
   "metadata": {},
   "outputs": [],
   "source": [
    "#'foo' + 6"
   ]
  },
  {
   "cell_type": "markdown",
   "metadata": {},
   "source": [
    "以上代码在运⾏时 (runtime) 会举报 (raise) 什么异常 (exception)？\n",
    "\n",
    "`A. NameError  `    `B. TypeError `   `C. IndexError`   ` D. ZeroDivisionError`\n",
    "\n",
    "\n",
    "\n",
    "答：`B.TypeError`"
   ]
  },
  {
   "cell_type": "markdown",
   "metadata": {},
   "source": [
    "### 28 编程题 \n",
    "请⼿写⼀个简短程序，实现以下功能：\n",
    "1. 请⽤户从键盘输⼊学⽣成绩 (⽤ input 函数)，介于 0～100 之间；\n",
    "2. 若⽤户的输⼊不符合要求，如不在 0～100 之间 (⽤ if 判断)，或输⼊内容⽆法转换成数字 (⽤try 处理)，则请⽤户再次输⼊ (⽤ while 循环)，直到⽤户的输⼊符合要求为⽌ (⽤ break 跳出循环)；\n",
    "3. 根据⽤户输⼊的百分制成绩 ，在终端 (terminal) 输出 (⽤ print 函数) 五分制成绩：90～100 为优秀，80～90 为良好，70～80 为中等，60～70 为及格，60 以下为不及格。\n"
   ]
  },
  {
   "cell_type": "code",
   "execution_count": 52,
   "metadata": {},
   "outputs": [
    {
     "name": "stdout",
     "output_type": "stream",
     "text": [
      "请输入学生的成绩:90\n",
      "该学生的成绩评级是优秀\n"
     ]
    }
   ],
   "source": [
    "t = True\n",
    "while t:\n",
    "    try:\n",
    "        score = int(input('请输入学生的成绩:'))\n",
    "        if score >= 0 and score <= 100:\n",
    "            if score < 60 :\n",
    "                g=\"不及格\"\n",
    "            elif score < 70:\n",
    "                g=\"及格\"\n",
    "            elif score < 80:\n",
    "                g=\"中等\"\n",
    "            elif score < 90:\n",
    "                g=\"良好\"\n",
    "            else:\n",
    "                g=\"优秀\"\n",
    "            t = 0\n",
    "            print(f'该学生的成绩评级是{g}')\n",
    "        else:\n",
    "            print(\"您输入的分数不对，请重新输入\")\n",
    "            continue\n",
    "    except BaseException:\n",
    "        print(\"错误！您的输入无法化为整数！\")\n"
   ]
  },
  {
   "cell_type": "markdown",
   "metadata": {},
   "source": [
    "### 29 简答题 \n",
    "请⽤⼀句话介绍以下代码所定义的函数 check_nonneg 的作⽤是什么。\n"
   ]
  },
  {
   "cell_type": "code",
   "execution_count": 33,
   "metadata": {},
   "outputs": [],
   "source": [
    "def check_nonneg(func):\n",
    "    def safe_function(x):\n",
    "        assert x >= 0, \"Argument must be nonnegative\"\n",
    "        return func(x)\n",
    "    return safe_function\n"
   ]
  },
  {
   "cell_type": "markdown",
   "metadata": {},
   "source": [
    "如果输入的x>=0，则通过，返回func(x)(func传入参数x得到的结果);\n",
    "\n",
    "如果x<0则显示\"Argument must be nonnegative\"错误，在chek_nonneg(func)的块中返回safe_function"
   ]
  },
  {
   "cell_type": "markdown",
   "metadata": {},
   "source": [
    "### 30 简答题 \n",
    "在以下代码中，` check_nonneg `函数 (function) 的返回值 `safe_function `是个什么类型 (type) 的对象？在运⾏时 (runtime) 将来⾃于 LEGB 中哪⼀类命名空间 (namespace)？\n"
   ]
  },
  {
   "cell_type": "code",
   "execution_count": 58,
   "metadata": {},
   "outputs": [],
   "source": [
    "def check_nonneg(func):\n",
    "    def safe_function(x):\n",
    "        assert x >= 0, \"Argument must be nonnegative\"\n",
    "        return func(x)\n",
    "    return safe_function"
   ]
  },
  {
   "cell_type": "code",
   "execution_count": 64,
   "metadata": {},
   "outputs": [
    {
     "name": "stdout",
     "output_type": "stream",
     "text": [
      "{'func': -5}\n"
     ]
    },
    {
     "data": {
      "text/plain": [
       "<function __main__.check_nonneg.<locals>.safe_function(x)>"
      ]
     },
     "execution_count": 64,
     "metadata": {},
     "output_type": "execute_result"
    }
   ],
   "source": [
    "def check_nonneg(func):\n",
    "    print(locals())\n",
    "    def safe_function(x):\n",
    "        assert x >= 0, \"Argument must be nonnegative\"\n",
    "        print(locals())\n",
    "        return func(x)\n",
    "    return safe_function\n",
    "#type(safe_function)\n",
    "check_nonneg(-5)\n"
   ]
  },
  {
   "cell_type": "markdown",
   "metadata": {},
   "source": [
    "#### 答：\n",
    "\n",
    "它是一个函数，来自局部命名空间L"
   ]
  },
  {
   "cell_type": "markdown",
   "metadata": {},
   "source": [
    "### 31 简答题\n",
    "在以下代码中， `safe_function` 函数 (function) 内部所涉及的名称` func `在运⾏时 (runtime) 将来⾃\n",
    "于 LEGB 中哪⼀类命名空间 (namespace)？"
   ]
  },
  {
   "cell_type": "code",
   "execution_count": 53,
   "metadata": {},
   "outputs": [],
   "source": [
    "def check_nonneg(func):\n",
    "    def safe_function(x):\n",
    "        assert x >= 0, \"Argument must be nonnegative\"\n",
    "        return func(x)\n",
    "    return safe_function"
   ]
  },
  {
   "cell_type": "markdown",
   "metadata": {},
   "source": [
    "#### 答：\n",
    "将来自G\n",
    "因为func由结构外变量传参\n"
   ]
  },
  {
   "cell_type": "markdown",
   "metadata": {},
   "source": [
    "### 32 简答题\n",
    "运⾏过以下代码之后，调⽤ check_nonneg 函数 (function) 时需不需要给形参 (parameter) x 传递实\n",
    "参 (argument)？为什么？"
   ]
  },
  {
   "cell_type": "code",
   "execution_count": 70,
   "metadata": {},
   "outputs": [],
   "source": [
    "def check_nonneg(func):\n",
    "    def safe_function(x):\n",
    "        assert x >= 0, \"Argument must be nonnegative\"\n",
    "        return func(x)\n",
    "    return func(x)"
   ]
  },
  {
   "cell_type": "code",
   "execution_count": 71,
   "metadata": {},
   "outputs": [
    {
     "data": {
      "text/plain": [
       "[2]"
      ]
     },
     "execution_count": 71,
     "metadata": {},
     "output_type": "execute_result"
    }
   ],
   "source": [
    "def f(y):\n",
    "    return y\n",
    "check_nonneg(f)"
   ]
  },
  {
   "cell_type": "markdown",
   "metadata": {},
   "source": [
    "#### 答：\n",
    "调用check_nonneg时不用给形参x传递实参，结果如上\n"
   ]
  },
  {
   "cell_type": "markdown",
   "metadata": {},
   "source": [
    "### 33 简答题\n",
    "运⾏过以下代码之后"
   ]
  },
  {
   "cell_type": "code",
   "execution_count": 72,
   "metadata": {},
   "outputs": [],
   "source": [
    "import math\n",
    "def check_nonneg(func):\n",
    "    def safe_function(x):\n",
    "        assert x >= 0, \"Argument must be nonnegative\"\n",
    "        return func(x)\n",
    "    return safe_function"
   ]
  },
  {
   "cell_type": "markdown",
   "metadata": {},
   "source": [
    "以下哪⼀个 (或⼏个) 调⽤会失败报错？为什么？"
   ]
  },
  {
   "cell_type": "markdown",
   "metadata": {},
   "source": [
    "#### 1.报错"
   ]
  },
  {
   "cell_type": "code",
   "execution_count": 73,
   "metadata": {
    "scrolled": true
   },
   "outputs": [
    {
     "ename": "TypeError",
     "evalue": "safe_function() missing 1 required positional argument: 'x'",
     "output_type": "error",
     "traceback": [
      "\u001b[1;31m---------------------------------------------------------------------------\u001b[0m",
      "\u001b[1;31mTypeError\u001b[0m                                 Traceback (most recent call last)",
      "\u001b[1;32m<ipython-input-73-f991b5321e82>\u001b[0m in \u001b[0;36m<module>\u001b[1;34m\u001b[0m\n\u001b[0;32m      2\u001b[0m     \u001b[1;32mreturn\u001b[0m \u001b[1;36m42\u001b[0m\u001b[1;33m\u001b[0m\u001b[1;33m\u001b[0m\u001b[0m\n\u001b[0;32m      3\u001b[0m \u001b[0mf\u001b[0m \u001b[1;33m=\u001b[0m \u001b[0mcheck_nonneg\u001b[0m\u001b[1;33m(\u001b[0m\u001b[0mf\u001b[0m\u001b[1;33m)\u001b[0m\u001b[1;33m\u001b[0m\u001b[1;33m\u001b[0m\u001b[0m\n\u001b[1;32m----> 4\u001b[1;33m \u001b[0mf\u001b[0m\u001b[1;33m(\u001b[0m\u001b[1;33m)\u001b[0m\u001b[1;33m\u001b[0m\u001b[1;33m\u001b[0m\u001b[0m\n\u001b[0m",
      "\u001b[1;31mTypeError\u001b[0m: safe_function() missing 1 required positional argument: 'x'"
     ]
    }
   ],
   "source": [
    "def f():\n",
    "    return 42\n",
    "f = check_nonneg(f)\n",
    "f()"
   ]
  },
  {
   "cell_type": "markdown",
   "metadata": {},
   "source": [
    "#### 2.不报错"
   ]
  },
  {
   "cell_type": "code",
   "execution_count": 75,
   "metadata": {},
   "outputs": [
    {
     "data": {
      "text/plain": [
       "1.3184623205053285"
      ]
     },
     "execution_count": 75,
     "metadata": {},
     "output_type": "execute_result"
    }
   ],
   "source": [
    "def f(x):\n",
    "    return math.log(math.log(x))\n",
    "f = check_nonneg(f)\n",
    "f(42)"
   ]
  },
  {
   "cell_type": "markdown",
   "metadata": {},
   "source": [
    "#### 3.报错"
   ]
  },
  {
   "cell_type": "code",
   "execution_count": 76,
   "metadata": {
    "scrolled": true
   },
   "outputs": [
    {
     "ename": "TypeError",
     "evalue": "safe_function() takes 1 positional argument but 2 were given",
     "output_type": "error",
     "traceback": [
      "\u001b[1;31m---------------------------------------------------------------------------\u001b[0m",
      "\u001b[1;31mTypeError\u001b[0m                                 Traceback (most recent call last)",
      "\u001b[1;32m<ipython-input-76-1231cdd27687>\u001b[0m in \u001b[0;36m<module>\u001b[1;34m\u001b[0m\n\u001b[0;32m      2\u001b[0m     \u001b[1;32mreturn\u001b[0m \u001b[0mmath\u001b[0m\u001b[1;33m.\u001b[0m\u001b[0mlog\u001b[0m\u001b[1;33m(\u001b[0m\u001b[0mx\u001b[0m\u001b[1;33m)\u001b[0m \u001b[1;33m+\u001b[0m \u001b[0mmath\u001b[0m\u001b[1;33m.\u001b[0m\u001b[0mlog\u001b[0m\u001b[1;33m(\u001b[0m\u001b[0my\u001b[0m\u001b[1;33m)\u001b[0m\u001b[1;33m\u001b[0m\u001b[1;33m\u001b[0m\u001b[0m\n\u001b[0;32m      3\u001b[0m \u001b[0mf\u001b[0m \u001b[1;33m=\u001b[0m \u001b[0mcheck_nonneg\u001b[0m\u001b[1;33m(\u001b[0m\u001b[0mf\u001b[0m\u001b[1;33m)\u001b[0m\u001b[1;33m\u001b[0m\u001b[1;33m\u001b[0m\u001b[0m\n\u001b[1;32m----> 4\u001b[1;33m \u001b[0mf\u001b[0m\u001b[1;33m(\u001b[0m\u001b[1;36m10\u001b[0m\u001b[1;33m,\u001b[0m \u001b[1;36m20\u001b[0m\u001b[1;33m)\u001b[0m\u001b[1;33m\u001b[0m\u001b[1;33m\u001b[0m\u001b[0m\n\u001b[0m",
      "\u001b[1;31mTypeError\u001b[0m: safe_function() takes 1 positional argument but 2 were given"
     ]
    }
   ],
   "source": [
    "def f(x, y):\n",
    "    return math.log(x) + math.log(y)\n",
    "f = check_nonneg(f)\n",
    "f(10, 20)"
   ]
  },
  {
   "cell_type": "markdown",
   "metadata": {},
   "source": [
    "#### 4.不报错"
   ]
  },
  {
   "cell_type": "code",
   "execution_count": 77,
   "metadata": {},
   "outputs": [
    {
     "data": {
      "text/plain": [
       "7.475339236566737"
      ]
     },
     "execution_count": 77,
     "metadata": {},
     "output_type": "execute_result"
    }
   ],
   "source": [
    "def f(x, y=42):\n",
    "    return math.log(x) + math.log(y)\n",
    "f = check_nonneg(f)\n",
    "f(42)"
   ]
  },
  {
   "cell_type": "markdown",
   "metadata": {},
   "source": [
    "### 34 简答题"
   ]
  },
  {
   "cell_type": "code",
   "execution_count": 78,
   "metadata": {},
   "outputs": [],
   "source": [
    "import math\n",
    "\n",
    "def check_nonneg(func):\n",
    "    def safe_function(x):\n",
    "        assert x >= 0, \"Argument must be nonnegative\"\n",
    "        return func(x)\n",
    "    return safe_function\n",
    "\n",
    "@check_nonneg\n",
    "def f(x):\n",
    "    return math.log(x)"
   ]
  },
  {
   "cell_type": "markdown",
   "metadata": {},
   "source": [
    "#### 请⽤⼀句话简要解释以上代码中的第 9 ⾏起什么作⽤"
   ]
  },
  {
   "cell_type": "markdown",
   "metadata": {},
   "source": [
    "### 答：\n",
    "是装饰器，除了表达f = check_nonneg(f)之外，提醒任何查看函数定义看到它的人函数已经被修改。\n"
   ]
  },
  {
   "cell_type": "markdown",
   "metadata": {},
   "source": [
    "### 35 简答题"
   ]
  },
  {
   "cell_type": "code",
   "execution_count": 79,
   "metadata": {},
   "outputs": [],
   "source": [
    "class Car:\n",
    "    def __init__(self, miles=1000):\n",
    "        self._miles = miles\n",
    "    @property\n",
    "    def miles(self):\n",
    "        return self._miles"
   ]
  },
  {
   "cell_type": "markdown",
   "metadata": {},
   "source": [
    "以上代码能够运⾏成功⽽不报错，是因为名称 (name) property 在运⾏时 (runtime) 将来⾃于 LEGB\n",
    "中哪⼀类命名空间 (namespace)？"
   ]
  },
  {
   "cell_type": "markdown",
   "metadata": {},
   "source": [
    "#### 答：\n",
    "来自于密闭结构内，即E（enclosing）"
   ]
  },
  {
   "cell_type": "markdown",
   "metadata": {},
   "source": [
    "### 36 简答题"
   ]
  },
  {
   "cell_type": "code",
   "execution_count": 83,
   "metadata": {},
   "outputs": [
    {
     "data": {
      "text/plain": [
       "1000"
      ]
     },
     "execution_count": 83,
     "metadata": {},
     "output_type": "execute_result"
    }
   ],
   "source": [
    "class Car:\n",
    "    def __init__(self, miles=1000):\n",
    "        self._miles = miles\n",
    "    @property\n",
    "    def miles(self):\n",
    "        return self._miles\n",
    "car = Car()\n",
    "car.miles"
   ]
  },
  {
   "cell_type": "markdown",
   "metadata": {},
   "source": [
    "以上代码运⾏后，如果再运⾏ `car = Car()` 得到实例 (instance)，那么访问这个实例的 `miles `属性\n",
    "(property) 应该使⽤以下哪⼀种代码？为什么？"
   ]
  },
  {
   "cell_type": "markdown",
   "metadata": {},
   "source": [
    "car.miles"
   ]
  },
  {
   "cell_type": "markdown",
   "metadata": {},
   "source": [
    "car.miles()"
   ]
  },
  {
   "cell_type": "markdown",
   "metadata": {},
   "source": [
    "应该用car,miles,因为有装饰器@property"
   ]
  },
  {
   "cell_type": "markdown",
   "metadata": {},
   "source": [
    "### 37 简答题\n",
    "以下代码运⾏过后"
   ]
  },
  {
   "cell_type": "code",
   "execution_count": 85,
   "metadata": {},
   "outputs": [
    {
     "name": "stdout",
     "output_type": "stream",
     "text": [
      "str\n",
      "tuple\n",
      "generator\n"
     ]
    }
   ],
   "source": [
    "a = ('dog')\n",
    "b = ('dog', 'cat', 'bird')\n",
    "c = (i + 's' for i in b)\n",
    "print(type(a).__name__)\n",
    "print(type(b).__name__)\n",
    "print(type(c).__name__)"
   ]
  },
  {
   "cell_type": "markdown",
   "metadata": {},
   "source": [
    "终端 (terminal) 上将会输出 (print) 什么内容？"
   ]
  },
  {
   "cell_type": "markdown",
   "metadata": {},
   "source": [
    "#### 答：\n",
    "str\n",
    "tuple\n",
    "generator"
   ]
  },
  {
   "cell_type": "markdown",
   "metadata": {},
   "source": [
    "### 38 简答题\n",
    "请⽤⼀句话介绍什么是 Python 的⽣成器表达式 (generator expression)，并实际举例。"
   ]
  },
  {
   "cell_type": "markdown",
   "metadata": {},
   "source": [
    "#### 答：详见\n",
    "圆括号围场"
   ]
  },
  {
   "cell_type": "code",
   "execution_count": 90,
   "metadata": {},
   "outputs": [
    {
     "data": {
      "text/plain": [
       "'aaa'"
      ]
     },
     "execution_count": 90,
     "metadata": {},
     "output_type": "execute_result"
    },
    {
     "data": {
      "text/plain": [
       "'bbb'"
      ]
     },
     "execution_count": 90,
     "metadata": {},
     "output_type": "execute_result"
    },
    {
     "data": {
      "text/plain": [
       "'ccc'"
      ]
     },
     "execution_count": 90,
     "metadata": {},
     "output_type": "execute_result"
    }
   ],
   "source": [
    "f= (i * 3 for i in 'abcd')\n",
    "for i in range(3):\n",
    "    next(f)\n"
   ]
  },
  {
   "cell_type": "markdown",
   "metadata": {},
   "source": [
    "### 39 简答题\n",
    "通过 Python 的⽣成器表达式 (generator expression) 获得的⽣成器 (generator) 实例 (instance)，例如"
   ]
  },
  {
   "cell_type": "code",
   "execution_count": 89,
   "metadata": {},
   "outputs": [],
   "source": [
    "g = (c * 3 for c in 'abcd')"
   ]
  },
  {
   "cell_type": "markdown",
   "metadata": {},
   "source": [
    "是可迭代 (iterable) 吗 ( iter(g) )？是迭代器 (iterator) 吗 ( next(g) )？可提取 (subscriptable) 吗\n",
    "( g[0] )？可切⽚ (slice) 吗 ( g[1:3] )？"
   ]
  },
  {
   "cell_type": "code",
   "execution_count": 113,
   "metadata": {},
   "outputs": [
    {
     "data": {
      "text/plain": [
       "'aaa'"
      ]
     },
     "execution_count": 113,
     "metadata": {},
     "output_type": "execute_result"
    }
   ],
   "source": [
    "g.__next__()"
   ]
  },
  {
   "cell_type": "code",
   "execution_count": 95,
   "metadata": {
    "scrolled": true
   },
   "outputs": [
    {
     "ename": "NameError",
     "evalue": "name 'Generator' is not defined",
     "output_type": "error",
     "traceback": [
      "\u001b[1;31m---------------------------------------------------------------------------\u001b[0m",
      "\u001b[1;31mNameError\u001b[0m                                 Traceback (most recent call last)",
      "\u001b[1;32m<ipython-input-95-49196f5643f9>\u001b[0m in \u001b[0;36m<module>\u001b[1;34m\u001b[0m\n\u001b[1;32m----> 1\u001b[1;33m \u001b[0misinstance\u001b[0m\u001b[1;33m(\u001b[0m\u001b[0mg\u001b[0m\u001b[1;33m,\u001b[0m\u001b[0mGenerator\u001b[0m\u001b[1;33m)\u001b[0m\u001b[1;33m\u001b[0m\u001b[1;33m\u001b[0m\u001b[0m\n\u001b[0m\u001b[0;32m      2\u001b[0m \u001b[0mg\u001b[0m\u001b[1;33m[\u001b[0m\u001b[1;36m0\u001b[0m\u001b[1;33m]\u001b[0m\u001b[1;33m\u001b[0m\u001b[1;33m\u001b[0m\u001b[0m\n\u001b[0;32m      3\u001b[0m \u001b[0mg\u001b[0m\u001b[1;33m[\u001b[0m\u001b[1;33m:\u001b[0m\u001b[1;33m]\u001b[0m\u001b[1;33m\u001b[0m\u001b[1;33m\u001b[0m\u001b[0m\n",
      "\u001b[1;31mNameError\u001b[0m: name 'Generator' is not defined"
     ]
    }
   ],
   "source": [
    "\n",
    "g[0]\n",
    "g[:]"
   ]
  },
  {
   "cell_type": "markdown",
   "metadata": {},
   "source": [
    "答：是可迭代,是迭代器；\n",
    "不可提取或者切片"
   ]
  },
  {
   "cell_type": "markdown",
   "metadata": {},
   "source": [
    "### 40 简答题\n",
    "请⽤⼀句话介绍什么是 Python 的⽣成器函数 (generator function)，并实际举例。"
   ]
  },
  {
   "cell_type": "code",
   "execution_count": 106,
   "metadata": {},
   "outputs": [
    {
     "data": {
      "text/plain": [
       "'1'"
      ]
     },
     "execution_count": 106,
     "metadata": {},
     "output_type": "execute_result"
    },
    {
     "data": {
      "text/plain": [
       "'1'"
      ]
     },
     "execution_count": 106,
     "metadata": {},
     "output_type": "execute_result"
    },
    {
     "data": {
      "text/plain": [
       "'1'"
      ]
     },
     "execution_count": 106,
     "metadata": {},
     "output_type": "execute_result"
    }
   ],
   "source": [
    "def f(): \n",
    "    yield '1' \n",
    "    yield '2' \n",
    "    yield '3'\n",
    "    return 'wrong'\n",
    "for i in range(3):\n",
    "    next(f())\n"
   ]
  },
  {
   "cell_type": "markdown",
   "metadata": {},
   "source": [
    "### 41 简答题"
   ]
  },
  {
   "cell_type": "markdown",
   "metadata": {},
   "source": [
    "以下代码运⾏后会在终端 (terminal) 输出 True 还是 False ？为什么？"
   ]
  },
  {
   "cell_type": "code",
   "execution_count": 108,
   "metadata": {},
   "outputs": [
    {
     "name": "stdout",
     "output_type": "stream",
     "text": [
      "True\n"
     ]
    }
   ],
   "source": [
    "def f(s):\n",
    "    for c in s:\n",
    "        yield c * 3\n",
    "g1 = f('abc')\n",
    "g2 = (c * 3 for c in 'xyz')\n",
    "print(type(g1) is type(g2))"
   ]
  },
  {
   "cell_type": "markdown",
   "metadata": {},
   "source": [
    "答：\n",
    "Ture\n",
    "因为都是通过函数或者表达式生成的生成器"
   ]
  },
  {
   "cell_type": "markdown",
   "metadata": {},
   "source": [
    "### 42 简答题\n",
    "⽣成器 (generator) 和列表 (list) 都是可迭代 (iterable) 对象 (object)。请简要说明⽣成器 (generator) 的\n",
    "优势在哪⾥，列表 (list) 的优势在哪⾥。"
   ]
  },
  {
   "cell_type": "markdown",
   "metadata": {},
   "source": [
    "1. 生成器的优势：生成器对象用完就自动弹出，可以节省大量的空间，而列表比数组占据的空间还要大，会占用大量的资源\n",
    "\n",
    "2. 列表的优势：数据可以反复调用，而且灵活性很强"
   ]
  },
  {
   "cell_type": "markdown",
   "metadata": {},
   "source": [
    "### 43 简答题\n",
    "请随意举⼀个函数 (function) 递归 (recursive) 调⽤ (call) 的例⼦。"
   ]
  },
  {
   "cell_type": "code",
   "execution_count": 111,
   "metadata": {},
   "outputs": [
    {
     "data": {
      "text/plain": [
       "4"
      ]
     },
     "execution_count": 111,
     "metadata": {},
     "output_type": "execute_result"
    }
   ],
   "source": [
    "def x(t):\n",
    "    if t == 0:\n",
    "        return 1\n",
    "    else:\n",
    "        return 2 * x(t-1)\n",
    "x(2)"
   ]
  },
  {
   "cell_type": "code",
   "execution_count": null,
   "metadata": {},
   "outputs": [],
   "source": []
  },
  {
   "cell_type": "code",
   "execution_count": null,
   "metadata": {},
   "outputs": [],
   "source": []
  }
 ],
 "metadata": {
  "kernelspec": {
   "display_name": "Python 3",
   "language": "python",
   "name": "python3"
  },
  "language_info": {
   "codemirror_mode": {
    "name": "ipython",
    "version": 3
   },
   "file_extension": ".py",
   "mimetype": "text/x-python",
   "name": "python",
   "nbconvert_exporter": "python",
   "pygments_lexer": "ipython3",
   "version": "3.7.7"
  }
 },
 "nbformat": 4,
 "nbformat_minor": 4
}
