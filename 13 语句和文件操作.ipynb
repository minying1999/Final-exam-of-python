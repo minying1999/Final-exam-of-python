{
 "cells": [
  {
   "cell_type": "markdown",
   "metadata": {},
   "source": [
    "# ⾦融计算机语⾔讲义\n",
    "\n",
    "⾼强 (mutecamel@gmail.com) ⾸都经济贸易⼤学⾦融学院\n",
    "\n",
    "© 2020-06-01"
   ]
  },
  {
   "cell_type": "markdown",
   "metadata": {},
   "source": [
    "# 第 13 课 语句 (statements) 和⽂件 (file) 操作\n",
    "\n",
    "### 学习任务"
   ]
  },
  {
   "cell_type": "markdown",
   "metadata": {},
   "source": [
    "本周是第 15 周。请⼀边阅读以下讲义，⼀边输⼊代码练习。本讲义特意将 Python 输出全部隐去，就\n",
    "是希望同学们亲⼿输⼊代码，亲眼观看程序输出，这样才能收获经验。本讲义中的练习题将构成期末闭\n",
    "卷考试 (占期末总评 60%) 的题库，所以请务必认真对待学习任务，不能按时完成任务者后果⾃负。\n",
    "这⼀周我们学习 Python 的各种语句，以及 Python ⽂件操作的有关概念。"
   ]
  },
  {
   "cell_type": "code",
   "execution_count": 1,
   "metadata": {},
   "outputs": [],
   "source": [
    "from IPython.core.interactiveshell import InteractiveShell\n",
    "InteractiveShell.ast_node_interactivity = 'all'"
   ]
  },
  {
   "cell_type": "markdown",
   "metadata": {},
   "source": [
    "\n",
    "\n",
    "\n",
    "- [文件对象](#18.⽂件对象)\n",
    "\n",
    "- [路径操作](#19.路径操作)\n",
    "\n",
    "- [⾃测题](#21.⾃测题)"
   ]
  },
  {
   "cell_type": "markdown",
   "metadata": {},
   "source": [
    "## 1. 表达式语句 (expression statements)\n",
    "1. 在交互 (interactive) 模式 REPL (read-evaluate-print-loop) 下，⼀个表达式 (expression) 经常作\n",
    "为⼀个语句 (statement)，⽤于查看计算结果。例如："
   ]
  },
  {
   "cell_type": "code",
   "execution_count": 2,
   "metadata": {},
   "outputs": [
    {
     "data": {
      "text/plain": [
       "str"
      ]
     },
     "execution_count": 2,
     "metadata": {},
     "output_type": "execute_result"
    },
    {
     "data": {
      "text/plain": [
       "488.6683880332326"
      ]
     },
     "execution_count": 2,
     "metadata": {},
     "output_type": "execute_result"
    },
    {
     "data": {
      "text/plain": [
       "'a-b-c-d'"
      ]
     },
     "execution_count": 2,
     "metadata": {},
     "output_type": "execute_result"
    },
    {
     "data": {
      "text/plain": [
       "{'l': 108, 'h': 104, 'o': 111, 'e': 101}"
      ]
     },
     "execution_count": 2,
     "metadata": {},
     "output_type": "execute_result"
    }
   ],
   "source": [
    "str # 表达式：变量名\n",
    "300*(1 + 0.05)**10 # 表达式：运算符\n",
    "#locals() # 表达式：函数调⽤\n",
    "'-'.join('abcd') # 表达式：⽅法调⽤\n",
    "{c: ord(c) for c in set('hello')} # 表达式：花括号围场推导式"
   ]
  },
  {
   "cell_type": "markdown",
   "metadata": {},
   "source": [
    "但在脚本 (script) 模式下，⼀个仅进⾏` 计算 `(computation) 的表达式 (expression) 语句\n",
    "(statement) 没有任何实际意义，因为计算出的新对象 (object) 没有被变量 (variable) 引⽤\n",
    "(reference)，转眼就会被 垃圾回收 (garbage collected)，既不发⽣输⼊输出 (IO)，也不改变内存\n",
    "状态。"
   ]
  },
  {
   "cell_type": "markdown",
   "metadata": {},
   "source": [
    "2. 进⾏ `操作 `(operation) 的表达式 (expression) 语句 (statement) 在交互 (interactive) 模式和脚本\n",
    "(script) 模式下都有实际意义，尤其是进⾏输⼊输出 (IO) 时。例如："
   ]
  },
  {
   "cell_type": "code",
   "execution_count": 3,
   "metadata": {},
   "outputs": [
    {
     "name": "stdout",
     "output_type": "stream",
     "text": [
      "hello\n"
     ]
    }
   ],
   "source": [
    "print('hello') # 表达式语句：⽆论在交互模式还是脚本模式下都会在屏幕终端输出\n",
    "l = [] # 赋值语句\n",
    "l.append('a') # 表达式语句：没有输⼊输出，但有操作，在交互模式和脚本模式下都有意义"
   ]
  },
  {
   "cell_type": "markdown",
   "metadata": {},
   "source": [
    "# 2. 赋值语句 (= )\n",
    "给表达式 (expression) 计算出的对象 (object)`取名 `(name)，即`建⽴引⽤` (reference)，使对象 (object)\n",
    "随后不被垃圾回收 (garbage collected)，也允许随后的语句 (statements) `进⼀步使⽤`或操作该对象\n",
    "(object)，就需要`赋值` (assignment)。Python `赋值` (assignment) 语句 (statement) 使⽤⽅法多样，下\n",
    "⾯分` 9` 种不同⽅式进⾏介绍。"
   ]
  },
  {
   "cell_type": "markdown",
   "metadata": {},
   "source": [
    "#### 1. 单变量赋值。\n",
    "这种赋值的⽅式是，在等号 = 左边写变量名称 (variable name)，右边写表达式\n",
    "(expression)，使左边变量名 (variable name) 指向右边表达式 (expression) 计算出的对象\n",
    "(object)。这种⽅式最简单也最常⽤。例如："
   ]
  },
  {
   "cell_type": "code",
   "execution_count": 4,
   "metadata": {
    "scrolled": true
   },
   "outputs": [
    {
     "data": {
      "text/plain": [
       "['__add__',\n",
       " '__class__',\n",
       " '__contains__',\n",
       " '__delattr__',\n",
       " '__dir__',\n",
       " '__doc__',\n",
       " '__eq__',\n",
       " '__format__',\n",
       " '__ge__',\n",
       " '__getattribute__',\n",
       " '__getitem__',\n",
       " '__getnewargs__',\n",
       " '__gt__',\n",
       " '__hash__',\n",
       " '__init__',\n",
       " '__init_subclass__',\n",
       " '__iter__',\n",
       " '__le__',\n",
       " '__len__',\n",
       " '__lt__',\n",
       " '__mod__',\n",
       " '__mul__',\n",
       " '__ne__',\n",
       " '__new__',\n",
       " '__reduce__',\n",
       " '__reduce_ex__',\n",
       " '__repr__',\n",
       " '__rmod__',\n",
       " '__rmul__',\n",
       " '__setattr__',\n",
       " '__sizeof__',\n",
       " '__str__',\n",
       " '__subclasshook__',\n",
       " 'capitalize',\n",
       " 'casefold',\n",
       " 'center',\n",
       " 'count',\n",
       " 'encode',\n",
       " 'endswith',\n",
       " 'expandtabs',\n",
       " 'find',\n",
       " 'format',\n",
       " 'format_map',\n",
       " 'index',\n",
       " 'isalnum',\n",
       " 'isalpha',\n",
       " 'isascii',\n",
       " 'isdecimal',\n",
       " 'isdigit',\n",
       " 'isidentifier',\n",
       " 'islower',\n",
       " 'isnumeric',\n",
       " 'isprintable',\n",
       " 'isspace',\n",
       " 'istitle',\n",
       " 'isupper',\n",
       " 'join',\n",
       " 'ljust',\n",
       " 'lower',\n",
       " 'lstrip',\n",
       " 'maketrans',\n",
       " 'partition',\n",
       " 'replace',\n",
       " 'rfind',\n",
       " 'rindex',\n",
       " 'rjust',\n",
       " 'rpartition',\n",
       " 'rsplit',\n",
       " 'rstrip',\n",
       " 'split',\n",
       " 'splitlines',\n",
       " 'startswith',\n",
       " 'strip',\n",
       " 'swapcase',\n",
       " 'title',\n",
       " 'translate',\n",
       " 'upper',\n",
       " 'zfill']"
      ]
     },
     "execution_count": 4,
     "metadata": {},
     "output_type": "execute_result"
    }
   ],
   "source": [
    "l = dir(str)\n",
    "l.append('fake')\n",
    "dir(str)\n",
    "#l"
   ]
  },
  {
   "cell_type": "markdown",
   "metadata": {},
   "source": [
    "这种赋值的效果，是在当前的 `局部访问范围 `(locals) 字典 (dict) 内更新 (update) ⼀个键值对 (key-value pair)，键 (key) 是变量名称 (variable name) 字符串 (str)，值 (value) 是变量 (variable) 所引\n",
    "⽤ (reference) 的对象 (object)。例如："
   ]
  },
  {
   "cell_type": "markdown",
   "metadata": {},
   "source": [
    "#### locals是一个字典"
   ]
  },
  {
   "cell_type": "code",
   "execution_count": 5,
   "metadata": {},
   "outputs": [
    {
     "name": "stdout",
     "output_type": "stream",
     "text": [
      "-------------------------\n",
      "-------------------------\n"
     ]
    },
    {
     "data": {
      "text/plain": [
       "['p',\n",
       " 'r',\n",
       " 'a',\n",
       " 'c',\n",
       " 't',\n",
       " 'i',\n",
       " 'c',\n",
       " 'e',\n",
       " ' ',\n",
       " 'm',\n",
       " 'a',\n",
       " 'k',\n",
       " 'e',\n",
       " 's',\n",
       " ' ',\n",
       " 'p',\n",
       " 'e',\n",
       " 'r',\n",
       " 'f',\n",
       " 'e',\n",
       " 'c',\n",
       " 't']"
      ]
     },
     "execution_count": 5,
     "metadata": {},
     "output_type": "execute_result"
    },
    {
     "data": {
      "text/plain": [
       "True"
      ]
     },
     "execution_count": 5,
     "metadata": {},
     "output_type": "execute_result"
    },
    {
     "data": {
      "text/plain": [
       "True"
      ]
     },
     "execution_count": 5,
     "metadata": {},
     "output_type": "execute_result"
    },
    {
     "name": "stdout",
     "output_type": "stream",
     "text": [
      "-------------------------\n"
     ]
    },
    {
     "data": {
      "text/plain": [
       "123"
      ]
     },
     "execution_count": 5,
     "metadata": {},
     "output_type": "execute_result"
    }
   ],
   "source": [
    "#locals() # 局部访问范围字典\n",
    "#'blah' in locals() # 局部访问范围内没有 'blah' 这个键\n",
    "print('-------------------------')\n",
    "#blah # 报错 NameError\n",
    "print('-------------------------')\n",
    "blah = list('practice makes perfect') # 赋值语句\n",
    "blah # 查看 blah 的内容\n",
    "'blah' in locals() # 局部访问范围内有了 'blah' 这个键\n",
    "locals()['blah'] is blah # 同⼀个对象\n",
    "print('-------------------------')\n",
    "locals().update([('blah', 123)]) # 以软编码的⽅式赋值\n",
    "blah # 查看 blah 的内容，已变为 123\n",
    "\n"
   ]
  },
  {
   "cell_type": "code",
   "execution_count": 6,
   "metadata": {},
   "outputs": [],
   "source": [
    "# dictionary update sequence element #0 has length 4; 2 is required"
   ]
  },
  {
   "cell_type": "markdown",
   "metadata": {},
   "source": [
    "#### 2. 多变量赋相同值。\n",
    "这种赋值 (assignment) ⽅式就是连写多个等号 = ，把最右边的等号 = 右边的\n",
    "表达式 (expression) 计算结果赋给多个等号 = 左边的变量名 (variable name)。这种⽅式并不很\n",
    "常⽤，因为⼀个对象 (object) 通常只要有⼀个引⽤ (reference) 就够了。这种赋值 (assignment) ⽅\n",
    "式⼀般常⽤于不可变 (immutable) 对象。例如："
   ]
  },
  {
   "cell_type": "markdown",
   "metadata": {},
   "source": [
    "'=','==','is'都可以连用"
   ]
  },
  {
   "cell_type": "code",
   "execution_count": 7,
   "metadata": {},
   "outputs": [
    {
     "data": {
      "text/plain": [
       "True"
      ]
     },
     "execution_count": 7,
     "metadata": {},
     "output_type": "execute_result"
    },
    {
     "data": {
      "text/plain": [
       "True"
      ]
     },
     "execution_count": 7,
     "metadata": {},
     "output_type": "execute_result"
    }
   ],
   "source": [
    "x = y = z = {'a': 1, 'b': 2, 'c': 3} # 语法允许，但没必要\n",
    "x is y is z # is 也可以连⽤\n",
    "x = y = z = 0 # 同时初始化三个变量\n",
    "x == y == z # == 也可以连⽤"
   ]
  },
  {
   "cell_type": "markdown",
   "metadata": {},
   "source": [
    "#### 3. 多变量赋不同值\n",
    "这种赋值⽅式，在等号 = 左边⽤逗号 (comma) 分隔多个变量名 (variable\n",
    "names)，右边写⼀个`可迭代` (iterable) 对象，把迭代 (iterate) 取出的值逐个赋给等号 = 左边的变\n",
    "量 (variables)，变量的个数与迭代出的对象的个数必须相等。例如："
   ]
  },
  {
   "cell_type": "markdown",
   "metadata": {},
   "source": [
    "#### 可迭代对象包括列表、元组、集合（顺序不保证）、字典（只取keys或者只取value）和生成器（会消耗生成器内对象）"
   ]
  },
  {
   "cell_type": "code",
   "execution_count": 8,
   "metadata": {},
   "outputs": [
    {
     "data": {
      "text/plain": [
       "{97: 'a', 98: 'b', 99: 'c'}"
      ]
     },
     "execution_count": 8,
     "metadata": {},
     "output_type": "execute_result"
    },
    {
     "data": {
      "text/plain": [
       "(97, 98, 99)"
      ]
     },
     "execution_count": 8,
     "metadata": {},
     "output_type": "execute_result"
    },
    {
     "data": {
      "text/plain": [
       "('a', 'b', 'c')"
      ]
     },
     "execution_count": 8,
     "metadata": {},
     "output_type": "execute_result"
    },
    {
     "data": {
      "text/plain": [
       "[]"
      ]
     },
     "execution_count": 8,
     "metadata": {},
     "output_type": "execute_result"
    }
   ],
   "source": [
    "i = {ord(c): c for c in 'abc'} # 字典\n",
    "i # 查看字典 i\n",
    "x, y, z = i # 字典解包赋值，不保证顺序\n",
    "x, y, z # 查看 x, y, z，迭代只取出 keys\n",
    "x, y, z = i.values() # 视图解包赋值\n",
    "x, y, z # 查看 x, y, z，迭代只取出 values\n",
    "i = (c*5 for c in 'abc') # ⽣成器\n",
    "x, y, z = i # ⽣成器解包赋值\n",
    "list(i) # ⽣成器被消耗⼲净"
   ]
  },
  {
   "cell_type": "markdown",
   "metadata": {},
   "source": [
    "#### 4. 等号左边 * 打包。\n",
    "在等号 = 左边的某 ⼀个 变量 (variable) 前加` *` ，可以⽤来把等号` = `右边的\n",
    "多个值打包成`列表`(list) 赋值给该变量 (variable)。等号` = `左边,` * `只能使⽤⼀次，否则会有歧义。\n",
    "例如"
   ]
  },
  {
   "cell_type": "markdown",
   "metadata": {},
   "source": [
    "没有`*`的变量只有一个值，有*的变量得到其他值且按顺序来"
   ]
  },
  {
   "cell_type": "code",
   "execution_count": 9,
   "metadata": {},
   "outputs": [
    {
     "data": {
      "text/plain": [
       "['c', 'd', 'e']"
      ]
     },
     "execution_count": 9,
     "metadata": {},
     "output_type": "execute_result"
    },
    {
     "data": {
      "text/plain": [
       "['b', 'c', 'd']"
      ]
     },
     "execution_count": 9,
     "metadata": {},
     "output_type": "execute_result"
    }
   ],
   "source": [
    "s = 'abcde'\n",
    "x, y, *z = s\n",
    "z\n",
    "#*x, y, *z = s # 有歧义，语法错误\n",
    "x, *y, z = s\n",
    "y"
   ]
  },
  {
   "cell_type": "markdown",
   "metadata": {},
   "source": [
    "#### 5. 等号右边 * 解包。\n",
    "在等号 `=` 右边的变量前加` *` ，使⽤的是解包运算符的概念。例如："
   ]
  },
  {
   "cell_type": "markdown",
   "metadata": {},
   "source": [
    "左右两边可以同时有`*`，`==`右边的的`*`会让右边的可迭代对象迭代并解包，然后左边`*`按原规则打包"
   ]
  },
  {
   "cell_type": "code",
   "execution_count": 10,
   "metadata": {},
   "outputs": [
    {
     "data": {
      "text/plain": [
       "[0]"
      ]
     },
     "execution_count": 10,
     "metadata": {},
     "output_type": "execute_result"
    },
    {
     "data": {
      "text/plain": [
       "'123'"
      ]
     },
     "execution_count": 10,
     "metadata": {},
     "output_type": "execute_result"
    },
    {
     "data": {
      "text/plain": [
       "[0, '1', '2']"
      ]
     },
     "execution_count": 10,
     "metadata": {},
     "output_type": "execute_result"
    },
    {
     "data": {
      "text/plain": [
       "'3'"
      ]
     },
     "execution_count": 10,
     "metadata": {},
     "output_type": "execute_result"
    }
   ],
   "source": [
    "s = '123'\n",
    "*x, y = 0, s\n",
    "x # 查看 x 的内容\n",
    "y # 查看 y 的内容\n",
    "*x, y = 0, *s\n",
    "x # 查看 x 的内容\n",
    "y # 查看 y 的内容"
   ]
  },
  {
   "cell_type": "markdown",
   "metadata": {},
   "source": [
    "#### 6. 给对象属性赋值。\n",
    "对 Python 解释器 (interpreter) 内置 (built-in) 的少数基本 (basic) 类型 (class)\n",
    "及其实例 (instance) 的属性 (attribute) 不能赋值，但对⼤多数 Python 定义的类型 (class) 及其实\n",
    "例 (instance) 的属性 (attribute) 可以赋值。赋值的⽅法是在等号` = `左边写对象的属性 (attribute)\n",
    "访问 (reference) 表达式 (expression)。例如："
   ]
  },
  {
   "cell_type": "code",
   "execution_count": 11,
   "metadata": {},
   "outputs": [],
   "source": [
    "s = 'abc'\n",
    "#s.token = 'secret' # 字符串是基本内置类型，不能给字符串的属性赋值\n"
   ]
  },
  {
   "cell_type": "code",
   "execution_count": 12,
   "metadata": {},
   "outputs": [
    {
     "data": {
      "text/plain": [
       "'secret'"
      ]
     },
     "execution_count": 12,
     "metadata": {},
     "output_type": "execute_result"
    }
   ],
   "source": [
    "import os\n",
    "#os.token # os 模块没有 token 属性\n",
    "os.token = 'secret' # 可以给 os 模块的属性赋值\n",
    "os.token # 查看 os 模块的 token 属性\n"
   ]
  },
  {
   "cell_type": "code",
   "execution_count": 13,
   "metadata": {},
   "outputs": [
    {
     "data": {
      "text/plain": [
       "'Max'"
      ]
     },
     "execution_count": 13,
     "metadata": {},
     "output_type": "execute_result"
    }
   ],
   "source": [
    "class Dog: # 定义⼀个 Dog class\n",
    "    pass # 占位语句，什么也不做，以便符合语法要求\n",
    "\n",
    "dog = Dog() # 初始化⼀个 dog 实例\n",
    "dog.name = 'Max' # 给 dog 实例的属性赋值\n",
    "dog.name # 查看 dog 实例的 name 属性"
   ]
  },
  {
   "cell_type": "code",
   "execution_count": 14,
   "metadata": {},
   "outputs": [
    {
     "data": {
      "text/plain": [
       "'Max'"
      ]
     },
     "execution_count": 14,
     "metadata": {},
     "output_type": "execute_result"
    }
   ],
   "source": [
    "class Dog(): # 定义⼀个 Dog class\n",
    "    name = 'Max'\n",
    "    #@classmethod\n",
    "    #def name(cls):\n",
    "      #  print('Min')\n",
    "    #pass # 占位语句，什么也不做，以便符合语法要求\n",
    "\n",
    "dog = Dog() # 初始化⼀个 dog 实例\n",
    "#dog.name = 'Max' # 给 dog 实例的属性赋值\n",
    "dog.name # 查看 dog 实例的 name 属性\n",
    "#dog.name()#以def函数形式存在时使用"
   ]
  },
  {
   "cell_type": "markdown",
   "metadata": {},
   "source": [
    "#### 给属性赋值还有另⼀种 软编码 (soft coded) ⽅法，\n",
    "即使⽤ setattr 内置函数 (built-in\n",
    "function)。例如："
   ]
  },
  {
   "cell_type": "code",
   "execution_count": 15,
   "metadata": {},
   "outputs": [
    {
     "data": {
      "text/plain": [
       "2"
      ]
     },
     "execution_count": 15,
     "metadata": {},
     "output_type": "execute_result"
    }
   ],
   "source": [
    "class Dog: # 定义⼀个 Dog class\n",
    "    pass # 占位语句，什么也不做，以便符合语法要求\n",
    "dog = Dog()\n",
    "setattr(dog, 'age', 2)\n",
    "dog.age # 查看 dog 实例的 age 属性"
   ]
  },
  {
   "cell_type": "markdown",
   "metadata": {},
   "source": [
    "#### 7. 给对象提取赋值。\n",
    "在等号` = `左边写对象 (object) 提取 (subscription) 表达式 (expression)，可以\n",
    "给提取 (subscripting) 的元素 (element) 赋值。当然，前提是该对象 (object) 可变 (mutable)。例\n",
    "如："
   ]
  },
  {
   "cell_type": "code",
   "execution_count": 16,
   "metadata": {},
   "outputs": [],
   "source": [
    "from PIL import Image\n",
    "img = Image.open(r\"E:\\1学习文件\\文件资料作业准考证\\大三下\\金融计算机\\第12次练习 12-表达式\\图表.jpg\")\n",
    "img.show()"
   ]
  },
  {
   "cell_type": "markdown",
   "metadata": {},
   "source": [
    "#### 取值赋值和变量赋值的结合"
   ]
  },
  {
   "cell_type": "markdown",
   "metadata": {},
   "source": [
    "#### 列表、集合和元组是不可哈希（可变）的"
   ]
  },
  {
   "cell_type": "code",
   "execution_count": 17,
   "metadata": {},
   "outputs": [
    {
     "data": {
      "text/plain": [
       "'e'"
      ]
     },
     "execution_count": 17,
     "metadata": {},
     "output_type": "execute_result"
    },
    {
     "data": {
      "text/plain": [
       "['h', 'E', 'l', 'l', 'o']"
      ]
     },
     "execution_count": 17,
     "metadata": {},
     "output_type": "execute_result"
    },
    {
     "data": {
      "text/plain": [
       "'hEllo'"
      ]
     },
     "execution_count": 17,
     "metadata": {},
     "output_type": "execute_result"
    },
    {
     "data": {
      "text/plain": [
       "{'name': 'John'}"
      ]
     },
     "execution_count": 17,
     "metadata": {},
     "output_type": "execute_result"
    }
   ],
   "source": [
    "s = 'hello'\n",
    "s[1]\n",
    "#s[1] = 'E' # 字符串是不可变类型，提取赋值失败\n",
    "q = list(s)\n",
    "q[1] = 'E' # 列表是可变类型，可以提取赋值\n",
    "q\n",
    "s = ''.join(q)\n",
    "s\n",
    "d = {}\n",
    "d['name'] = 'John' # 字典是可变类型，⽤提取赋值给字典增加键值对是⾮常典型的⽤法\n",
    "d # 查看 d 的内容"
   ]
  },
  {
   "cell_type": "markdown",
   "metadata": {},
   "source": [
    "### 8. 给对象切⽚赋值。\n",
    "在等号 `= `左边写对象 (object) 切⽚ (slicing) 表达式 (expression)，右边写⼀个\n",
    "可迭代 (iterable) 对象，可以给切⽚ (slicing) 中的元素 (elements) 逐⼀赋值。当然，前提是该对象\n",
    "(object) 是可变的 (mutable)。例如："
   ]
  },
  {
   "cell_type": "code",
   "execution_count": 18,
   "metadata": {},
   "outputs": [
    {
     "name": "stdout",
     "output_type": "stream",
     "text": [
      "---------------\n"
     ]
    },
    {
     "data": {
      "text/plain": [
       "'HeLlO'"
      ]
     },
     "execution_count": 18,
     "metadata": {},
     "output_type": "execute_result"
    }
   ],
   "source": [
    "s = 'hello'\n",
    "k=s[1:4]\n",
    "\n",
    "#s[1:4] = 'ELL' # 字符串是不可变类型，切⽚赋值失败\n",
    "print('---------------')\n",
    "q = list(s)\n",
    "q[::2] = 'HLO' # 也可以跳跃赋值\n",
    "''.join(q)"
   ]
  },
  {
   "cell_type": "markdown",
   "metadata": {},
   "source": [
    "#### 9. 通过运算符赋值。\n",
    "把运算符 (operator) 和等号` =` 连⽤，例如` += `，效果是先使⽤变量 (variable)\n",
    "进⾏运算，再把运算的结果重新赋值 (assign) 给变量 (variable)。例如："
   ]
  },
  {
   "cell_type": "code",
   "execution_count": 19,
   "metadata": {},
   "outputs": [
    {
     "data": {
      "text/plain": [
       "8"
      ]
     },
     "execution_count": 19,
     "metadata": {},
     "output_type": "execute_result"
    },
    {
     "data": {
      "text/plain": [
       "'--------------------'"
      ]
     },
     "execution_count": 19,
     "metadata": {},
     "output_type": "execute_result"
    }
   ],
   "source": [
    "i = 5\n",
    "i += 3 # 等价于 i = i + 3\n",
    "i\n",
    "s = '-' # s 不可变没有关系，可以重新给 s 赋值\n",
    "s *= 20\n",
    "s"
   ]
  },
  {
   "cell_type": "markdown",
   "metadata": {},
   "source": [
    "解释器 (interpreter) 所⽀持的赋值 (assigning) 运算符 (operators) 共包\n",
    "括： **= 、*= 、/= 、@= 、//= 、%= 、+= 、-= 、<<= 、>>= 、&= 、^= 、|= 等。"
   ]
  },
  {
   "cell_type": "code",
   "execution_count": 20,
   "metadata": {},
   "outputs": [
    {
     "data": {
      "text/plain": [
       "{1, 4}"
      ]
     },
     "execution_count": 20,
     "metadata": {},
     "output_type": "execute_result"
    },
    {
     "data": {
      "text/plain": [
       "{1, 2, 3, 4}"
      ]
     },
     "execution_count": 20,
     "metadata": {},
     "output_type": "execute_result"
    },
    {
     "data": {
      "text/plain": [
       "{2, 3}"
      ]
     },
     "execution_count": 20,
     "metadata": {},
     "output_type": "execute_result"
    }
   ],
   "source": [
    "i = {1 , 2 , 3}\n",
    "i ^= {2,3,4}\n",
    "i\n",
    "i |= {2,3}\n",
    "i\n",
    "i &= {2 ,3}\n",
    "i"
   ]
  },
  {
   "cell_type": "markdown",
   "metadata": {},
   "source": [
    "### 3. 删除引⽤语句 (del )\n",
    "`del` 语句 (statement) 与赋值 (assignment) 语句 (statement) 恰好相反，⽤于删除 (delete) 已经建⽴\n",
    "好的对象 (object) 引⽤ (reference) 关系。相对⽽⾔，` del` 语句更多⽤于从`列表 (list) 或字典 (dict) `中删\n",
    "除元素。"
   ]
  },
  {
   "cell_type": "markdown",
   "metadata": {},
   "source": [
    "#### 1. 删除变量。\n",
    "此⽤法是在 `del` 关键词 (keyword) 后写⼀个或多个变量名 (variable names)，⽤于从\n",
    "当前局部访问范围 (local scope) 内删除这些变量 (variable)。例如："
   ]
  },
  {
   "cell_type": "markdown",
   "metadata": {},
   "source": [
    "#### 变量（名）在locals（）中以字符串(key)的形式出现"
   ]
  },
  {
   "cell_type": "code",
   "execution_count": 21,
   "metadata": {},
   "outputs": [
    {
     "data": {
      "text/plain": [
       "42"
      ]
     },
     "execution_count": 21,
     "metadata": {},
     "output_type": "execute_result"
    },
    {
     "data": {
      "text/plain": [
       "True"
      ]
     },
     "execution_count": 21,
     "metadata": {},
     "output_type": "execute_result"
    },
    {
     "data": {
      "text/plain": [
       "True"
      ]
     },
     "execution_count": 21,
     "metadata": {},
     "output_type": "execute_result"
    },
    {
     "data": {
      "text/plain": [
       "True"
      ]
     },
     "execution_count": 21,
     "metadata": {},
     "output_type": "execute_result"
    },
    {
     "data": {
      "text/plain": [
       "False"
      ]
     },
     "execution_count": 21,
     "metadata": {},
     "output_type": "execute_result"
    },
    {
     "data": {
      "text/plain": [
       "int"
      ]
     },
     "execution_count": 21,
     "metadata": {},
     "output_type": "execute_result"
    },
    {
     "data": {
      "text/plain": [
       "str"
      ]
     },
     "execution_count": 21,
     "metadata": {},
     "output_type": "execute_result"
    },
    {
     "data": {
      "text/plain": [
       "False"
      ]
     },
     "execution_count": 21,
     "metadata": {},
     "output_type": "execute_result"
    },
    {
     "data": {
      "text/plain": [
       "False"
      ]
     },
     "execution_count": 21,
     "metadata": {},
     "output_type": "execute_result"
    },
    {
     "data": {
      "text/plain": [
       "dict"
      ]
     },
     "execution_count": 21,
     "metadata": {},
     "output_type": "execute_result"
    }
   ],
   "source": [
    "x, y, z = 'a', 42, [7, 2, 9]\n",
    "y\n",
    "'x' in locals()\n",
    "del x # 删除⼀个变量\n",
    "'x'  not in locals()\n",
    "#x # 报错 NameError\n",
    "'y' in locals()\n",
    "'z ' in locals()\n",
    "type(y)\n",
    "type('y')\n",
    "del y, z # 同时删除两个变量\n",
    "'y'  in locals()\n",
    "'z' in locals()\n",
    "type(locals())"
   ]
  },
  {
   "cell_type": "markdown",
   "metadata": {},
   "source": [
    "由于 Python 解释器 (interpreter) 具有垃圾回收 (garbage collection) 功能，通常很少有必要明确\n",
    "(explicitly) 删除 (delete) 变量 (variable)，因此 del 语句这样使⽤的频率并不⾼。"
   ]
  },
  {
   "cell_type": "markdown",
   "metadata": {},
   "source": [
    "#### 2. 删除属性。\n",
    "此⽤法是在 `del `关键词 (keyword) 后写属性访问 (attribute access) 表达式\n",
    "(expression)，⽤于从对象上删除某⼀属性。例如："
   ]
  },
  {
   "cell_type": "code",
   "execution_count": 22,
   "metadata": {},
   "outputs": [
    {
     "data": {
      "text/plain": [
       "True"
      ]
     },
     "execution_count": 22,
     "metadata": {},
     "output_type": "execute_result"
    },
    {
     "data": {
      "text/plain": [
       "module"
      ]
     },
     "execution_count": 22,
     "metadata": {},
     "output_type": "execute_result"
    },
    {
     "data": {
      "text/plain": [
       "module"
      ]
     },
     "execution_count": 22,
     "metadata": {},
     "output_type": "execute_result"
    },
    {
     "data": {
      "text/plain": [
       "<module 'ntpath' from 'D:\\\\Anaconda3.7\\\\lib\\\\ntpath.py'>"
      ]
     },
     "execution_count": 22,
     "metadata": {},
     "output_type": "execute_result"
    }
   ],
   "source": [
    "import os\n",
    "'path' in dir(os) # os 模块具有 path 属性\n",
    "type(os)\n",
    "type(os.path) # path 是 os 模块下的⼦模块\n",
    "#del os.path # 从 os 对象上删除 path 属性\n",
    "os.path # 报错 AttributeError/直接重启服务"
   ]
  },
  {
   "cell_type": "markdown",
   "metadata": {},
   "source": [
    "除⾮是在使⽤ Python 进⾏ `元数据编程 `(meta-programming)，否则⼀般没必要从对象 (object) 上\n",
    "删除某个属性 (attribute)，因此 del 语句的这种⽤法很不常⽤。"
   ]
  },
  {
   "cell_type": "markdown",
   "metadata": {},
   "source": [
    "#### 3. 删除提取。\n",
    "此⽤法是在` del` 关键词 (keyword) 后写提取 (subscription) 表达式 (expression)，⽤\n",
    "于从可变 (mutable) 对象 (object) 中删除提取 (subscription) 位置所对应的元素 (element)。例\n",
    "如："
   ]
  },
  {
   "cell_type": "code",
   "execution_count": 23,
   "metadata": {},
   "outputs": [
    {
     "data": {
      "text/plain": [
       "[4, 6]"
      ]
     },
     "execution_count": 23,
     "metadata": {},
     "output_type": "execute_result"
    },
    {
     "data": {
      "text/plain": [
       "{'a': 1, 'c': 3}"
      ]
     },
     "execution_count": 23,
     "metadata": {},
     "output_type": "execute_result"
    }
   ],
   "source": [
    "q = [4, 2, 6]\n",
    "del q[1] # 从列表指定索引处删除元素\n",
    "q\n",
    "d = {'a': 1, 'b': 2, 'c': 3}\n",
    "del d['b'] # 从字典指定键处删除键值对\n",
    "d"
   ]
  },
  {
   "cell_type": "code",
   "execution_count": 24,
   "metadata": {},
   "outputs": [
    {
     "data": {
      "text/html": [
       "<div>\n",
       "<style scoped>\n",
       "    .dataframe tbody tr th:only-of-type {\n",
       "        vertical-align: middle;\n",
       "    }\n",
       "\n",
       "    .dataframe tbody tr th {\n",
       "        vertical-align: top;\n",
       "    }\n",
       "\n",
       "    .dataframe thead th {\n",
       "        text-align: right;\n",
       "    }\n",
       "</style>\n",
       "<table border=\"1\" class=\"dataframe\">\n",
       "  <thead>\n",
       "    <tr style=\"text-align: right;\">\n",
       "      <th></th>\n",
       "      <th>A</th>\n",
       "      <th>B</th>\n",
       "      <th>C</th>\n",
       "      <th>D</th>\n",
       "    </tr>\n",
       "  </thead>\n",
       "  <tbody>\n",
       "    <tr>\n",
       "      <th>2013-01-31</th>\n",
       "      <td>0.406085</td>\n",
       "      <td>0.079766</td>\n",
       "      <td>-0.534317</td>\n",
       "      <td>0.660624</td>\n",
       "    </tr>\n",
       "    <tr>\n",
       "      <th>2013-02-28</th>\n",
       "      <td>-0.886840</td>\n",
       "      <td>1.031174</td>\n",
       "      <td>1.502554</td>\n",
       "      <td>0.978705</td>\n",
       "    </tr>\n",
       "    <tr>\n",
       "      <th>2013-03-31</th>\n",
       "      <td>-0.059085</td>\n",
       "      <td>2.382740</td>\n",
       "      <td>0.772240</td>\n",
       "      <td>0.134497</td>\n",
       "    </tr>\n",
       "    <tr>\n",
       "      <th>2013-04-30</th>\n",
       "      <td>-0.280042</td>\n",
       "      <td>1.269417</td>\n",
       "      <td>1.733125</td>\n",
       "      <td>0.624247</td>\n",
       "    </tr>\n",
       "    <tr>\n",
       "      <th>2013-05-31</th>\n",
       "      <td>0.166466</td>\n",
       "      <td>-0.211035</td>\n",
       "      <td>-0.247447</td>\n",
       "      <td>-1.839330</td>\n",
       "    </tr>\n",
       "    <tr>\n",
       "      <th>2013-06-30</th>\n",
       "      <td>-0.678183</td>\n",
       "      <td>0.428417</td>\n",
       "      <td>-0.526864</td>\n",
       "      <td>-0.490160</td>\n",
       "    </tr>\n",
       "  </tbody>\n",
       "</table>\n",
       "</div>"
      ],
      "text/plain": [
       "                   A         B         C         D\n",
       "2013-01-31  0.406085  0.079766 -0.534317  0.660624\n",
       "2013-02-28 -0.886840  1.031174  1.502554  0.978705\n",
       "2013-03-31 -0.059085  2.382740  0.772240  0.134497\n",
       "2013-04-30 -0.280042  1.269417  1.733125  0.624247\n",
       "2013-05-31  0.166466 -0.211035 -0.247447 -1.839330\n",
       "2013-06-30 -0.678183  0.428417 -0.526864 -0.490160"
      ]
     },
     "execution_count": 24,
     "metadata": {},
     "output_type": "execute_result"
    }
   ],
   "source": [
    "import pandas as pd\n",
    "import numpy as np\n",
    "df = pd.DataFrame(np.random.randn(6,4), index = pd.date_range('20130101',periods = 6,freq = 'M'),columns = list('ABCD'))\n",
    "df\n",
    "#del df.iloc[:,1]#属性错误"
   ]
  },
  {
   "cell_type": "markdown",
   "metadata": {},
   "source": [
    "这种通过 `del `语句对可提取的 (subscriptable) 可变 (mutable) 对象 (object) 进⾏操作，在实际中\n",
    "相对⽽⾔是⽐较常⻅的。可以产⽣类似效果的是调⽤ (call) 列表 (list) 或字典 (dict) 的 pop ⽅法\n",
    "(method)。"
   ]
  },
  {
   "cell_type": "markdown",
   "metadata": {},
   "source": [
    "#### 4. 删除切⽚。\n",
    "此⽤法是在 `del `关键词 (keyword) 后写切⽚ (slice) 表达式 (expression)，⽤于从可变\n",
    "(mutable) 对象 (object) 中删除切⽚ (slice) 位置所对应的元素 (element)。例如："
   ]
  },
  {
   "cell_type": "code",
   "execution_count": 25,
   "metadata": {},
   "outputs": [
    {
     "data": {
      "text/plain": [
       "['a', 's', 'g']"
      ]
     },
     "execution_count": 25,
     "metadata": {},
     "output_type": "execute_result"
    },
    {
     "data": {
      "text/plain": [
       "['a', 'd']"
      ]
     },
     "execution_count": 25,
     "metadata": {},
     "output_type": "execute_result"
    }
   ],
   "source": [
    "q = list('aasdg')\n",
    "q[::2]\n",
    "del q [::2]\n",
    "q"
   ]
  },
  {
   "cell_type": "markdown",
   "metadata": {},
   "source": [
    "### 4. 导⼊语句 (import)"
   ]
  },
  {
   "cell_type": "markdown",
   "metadata": {},
   "source": [
    "导⼊ (import) 语句 (statement) ⽤于从 Python 路径 ( sys.path ) 下寻找软件包 (package) 或者模块\n",
    "(module)，加载 (load) 其代码，并`建⽴`⼀个变量 (variable) ⽤于`引⽤` (reference) 所加载的软件包\n",
    "(package)、`模块 `(module)、`类` (class)、`函数` (function) 或其他`任何对象` (object)。例如"
   ]
  },
  {
   "cell_type": "markdown",
   "metadata": {},
   "source": [
    "写1/2两个即可"
   ]
  },
  {
   "cell_type": "code",
   "execution_count": 26,
   "metadata": {},
   "outputs": [
    {
     "data": {
      "text/plain": [
       "<module 'os' from 'D:\\\\Anaconda3.7\\\\lib\\\\os.py'>"
      ]
     },
     "execution_count": 26,
     "metadata": {},
     "output_type": "execute_result"
    },
    {
     "data": {
      "text/plain": [
       "module"
      ]
     },
     "execution_count": 26,
     "metadata": {},
     "output_type": "execute_result"
    },
    {
     "name": "stdout",
     "output_type": "stream",
     "text": [
      "--------------\n"
     ]
    },
    {
     "data": {
      "text/plain": [
       "<module 'ntpath' from 'D:\\\\Anaconda3.7\\\\lib\\\\ntpath.py'>"
      ]
     },
     "execution_count": 26,
     "metadata": {},
     "output_type": "execute_result"
    },
    {
     "data": {
      "text/plain": [
       "<module 'ntpath' from 'D:\\\\Anaconda3.7\\\\lib\\\\ntpath.py'>"
      ]
     },
     "execution_count": 26,
     "metadata": {},
     "output_type": "execute_result"
    },
    {
     "data": {
      "text/plain": [
       "module"
      ]
     },
     "execution_count": 26,
     "metadata": {},
     "output_type": "execute_result"
    },
    {
     "name": "stdout",
     "output_type": "stream",
     "text": [
      "--------------\n"
     ]
    }
   ],
   "source": [
    "import os\n",
    "os # 模块\n",
    "type(os)\n",
    "print('--------------')\n",
    "import os.path\n",
    "os.path # 模块\n",
    "import os.path as path\n",
    "path # 模块\n",
    "type(path)\n",
    "print('--------------')\n"
   ]
  },
  {
   "cell_type": "code",
   "execution_count": 27,
   "metadata": {},
   "outputs": [
    {
     "data": {
      "text/plain": [
       "<module 'ntpath' from 'D:\\\\Anaconda3.7\\\\lib\\\\ntpath.py'>"
      ]
     },
     "execution_count": 27,
     "metadata": {},
     "output_type": "execute_result"
    }
   ],
   "source": [
    "from os import path\n",
    "path"
   ]
  },
  {
   "cell_type": "code",
   "execution_count": 28,
   "metadata": {},
   "outputs": [
    {
     "data": {
      "text/plain": [
       "<module 'pandas' from 'D:\\\\Anaconda3.7\\\\lib\\\\site-packages\\\\pandas\\\\__init__.py'>"
      ]
     },
     "execution_count": 28,
     "metadata": {},
     "output_type": "execute_result"
    },
    {
     "name": "stdout",
     "output_type": "stream",
     "text": [
      "--------------\n"
     ]
    },
    {
     "data": {
      "text/plain": [
       "collections.deque"
      ]
     },
     "execution_count": 28,
     "metadata": {},
     "output_type": "execute_result"
    },
    {
     "data": {
      "text/plain": [
       "<function copy.deepcopy(x, memo=None, _nil=[])>"
      ]
     },
     "execution_count": 28,
     "metadata": {},
     "output_type": "execute_result"
    },
    {
     "name": "stdout",
     "output_type": "stream",
     "text": [
      "--------------\n"
     ]
    }
   ],
   "source": [
    "import pandas as pd # 导⼊并赋值 (若导⼊失败则需要在终端运⾏ pip installpandas 先进⾏安装)\n",
    "pd # 软件包的模块⽂件名为 __init__.py\n",
    "print('--------------')\n",
    "from collections import deque\n",
    "deque # 类\n",
    "from copy import deepcopy\n",
    "deepcopy # 函数\n",
    "print('--------------')\n"
   ]
  },
  {
   "cell_type": "markdown",
   "metadata": {},
   "source": [
    "导⼊ (import) 语句 (statement) 经常写在 .py ⽂件的最开始，⽤于从` Python 标准库 `(Python\n",
    "standard library) 或 `第三⽅库 `(third-party libraries) 导⼊功能更丰富的各种对象，”避免重新发明轮⼦”\n",
    "(don’t reinvent the wheel)。"
   ]
  },
  {
   "cell_type": "markdown",
   "metadata": {},
   "source": [
    "### 5. 迭代语句 (for )\n",
    "`for `语句 (statement) 是⼀种复合 (compound) 语句 (statement)，对`可迭代 `(iterable) 对象进⾏迭代\n",
    "(iterate)，每迭代 (iterate) 取出下⼀个 (next) 对象 (object)，命名为迭代变量 (iterating variable)，就`执\n",
    "⾏`⼀遍所`复合的` (compound) 语句 (statements)。复合的 (compounded) 语句 (statements) 要求`缩进`\n",
    "(indent)，且要保持相同的缩进量 (indentation) (通常为 4 个空格)，否则为语法错误。例如："
   ]
  },
  {
   "cell_type": "code",
   "execution_count": 29,
   "metadata": {},
   "outputs": [
    {
     "name": "stdout",
     "output_type": "stream",
     "text": [
      "第0次迭代后的结果为0\n",
      "第1次迭代后的结果为2\n",
      "第2次迭代后的结果为4\n",
      "第3次迭代后的结果为6\n",
      "第4次迭代后的结果为6\n",
      "第5次迭代后的结果为8\n",
      "第6次迭代后的结果为10\n",
      "第7次迭代后的结果为10\n",
      "第8次迭代后的结果为12\n",
      "第9次迭代后的结果为13\n",
      "13\n"
     ]
    }
   ],
   "source": [
    "import random\n",
    "x = 0\n",
    "for i in range(10): # 不要忘记冒号\n",
    "    x += random.randint(0, 2)\n",
    "    print(f'第{i}次迭代后的结果为'+str(x))\n",
    "print(x)"
   ]
  },
  {
   "cell_type": "markdown",
   "metadata": {},
   "source": [
    "### 6. 循环语句 (while )\n",
    "`while` 语句 (statements) 也是⼀种复合 (compound) 语句 (statement)，对 while 关键词 (keyword)\n",
    "后的表达式 (expression) 进⾏逻辑判断 (truth-value testing)，若为逻辑真 True 则执⾏复合的\n",
    "(compounded) 语句 (statements)，执⾏完后再次对 while 后的表达式 (expression) 进⾏逻辑判\n",
    "断……直⾄判断出逻辑假 False，才不再执⾏复合的 (compounded) 语句 (statements)，结束循环。例\n",
    "如："
   ]
  },
  {
   "cell_type": "code",
   "execution_count": 30,
   "metadata": {},
   "outputs": [
    {
     "name": "stdout",
     "output_type": "stream",
     "text": [
      "oooooooooo\n",
      "oooooooooooooooo\n"
     ]
    }
   ],
   "source": [
    "import random\n",
    "x = 10\n",
    "while x <20:\n",
    "    print('o'*(79 if x >= 79 else int(x)))\n",
    "    x += random.randint(5, 10)"
   ]
  },
  {
   "cell_type": "markdown",
   "metadata": {},
   "source": [
    "    import random\n",
    "    x = 10\n",
    "    while x > 1:\n",
    "    print('o'*(79 if x >= 79 else int(x)))\n",
    "    x += random.gauss(0, 1)\n",
    "    这个例⼦的作⽤是不断⽣成标准正态分布的随机数，依次累加到变量 x 上，每⼀步都在⼀⾏上 print\n",
    "    出 x 个 'o' (最多 79 个)，直⾄ x <= 1 才结束循环。"
   ]
  },
  {
   "cell_type": "markdown",
   "metadata": {},
   "source": [
    "### 7. 条件语句 (if )\n",
    "if 语句 (statement) 也是⼀种复合 (compound) 语句 (statement)，对 if 关键词 (keyword) 后的表\n",
    "达式 (expression) 进⾏逻辑判断 (truth-value testing)，若为逻辑真 True 则执⾏复合的 (compounded)\n",
    "语句 (statements)，若为逻辑假 False 则不执⾏。例如："
   ]
  },
  {
   "cell_type": "code",
   "execution_count": 31,
   "metadata": {},
   "outputs": [
    {
     "name": "stdout",
     "output_type": "stream",
     "text": [
      "一共有45个普通属性\n"
     ]
    }
   ],
   "source": [
    "count = 0\n",
    "for a in dir(str):\n",
    "    if not a.startswith('_'):\n",
    "        count += 1\n",
    "        #print(str(count).ljust(10), a)\n",
    "print(f\"一共有{count}个普通属性\")"
   ]
  },
  {
   "cell_type": "markdown",
   "metadata": {},
   "source": [
    "这个例⼦的作⽤是⽤ count 计数，并输出 str 类型 (class) 的所有普通属性 (attributes) (不以 '_' 开\n",
    "始) 的名称 (names)。"
   ]
  },
  {
   "cell_type": "code",
   "execution_count": 32,
   "metadata": {},
   "outputs": [
    {
     "name": "stdout",
     "output_type": "stream",
     "text": [
      "一共有45个内置属性\n"
     ]
    }
   ],
   "source": [
    "count = 0\n",
    "for a in dir(str):\n",
    "    if not a.startswith('_'):\n",
    "        count += 1\n",
    "        #print(str(count).ljust(10), a)\n",
    "print(f\"一共有{count}个内置属性\")"
   ]
  },
  {
   "cell_type": "markdown",
   "metadata": {},
   "source": [
    "### 8. 条件从句 (elif )\n",
    "在 if 语句 (statement) 后可以使⽤多个 elif 从句 (clause)，建⽴起多条件分⽀ (branch) 的执⾏流\n",
    "程。例如："
   ]
  },
  {
   "cell_type": "code",
   "execution_count": 33,
   "metadata": {},
   "outputs": [
    {
     "data": {
      "text/plain": [
       "5"
      ]
     },
     "execution_count": 33,
     "metadata": {},
     "output_type": "execute_result"
    },
    {
     "name": "stdout",
     "output_type": "stream",
     "text": [
      "Your ticket price is $5.\n"
     ]
    }
   ],
   "source": [
    "age = 12\n",
    "if age < 4:\n",
    "    price = 0\n",
    "elif age < 18:\n",
    "    price = 5\n",
    "elif age < 65:\n",
    "    price = 10\n",
    "elif age >= 65:\n",
    "    price = 5\n",
    "price\n",
    "print(f'Your ticket price is ${price}.')"
   ]
  },
  {
   "cell_type": "markdown",
   "metadata": {},
   "source": [
    "### 9. 其他从句 (else )\n",
    "在 if 语句的最后还可以使⽤⼀个 else 从句 (clause)，⽤于在前⾯的 if 和/或 elif 判断都不满⾜\n",
    "的情况下执⾏某些复合 (compounded) 语句 (statements)。例如："
   ]
  },
  {
   "cell_type": "code",
   "execution_count": 34,
   "metadata": {},
   "outputs": [
    {
     "name": "stdout",
     "output_type": "stream",
     "text": [
      "How old are you ?20\n",
      "You are old enough to vote!\n"
     ]
    }
   ],
   "source": [
    "age = int(input('How old are you ?'))\n",
    "if age >= 18:\n",
    "    print('You are old enough to vote!')\n",
    "else:\n",
    "    print('Sorry, you are too young to vote.')"
   ]
  },
  {
   "cell_type": "markdown",
   "metadata": {},
   "source": [
    "### 10. 循环跳过语句 (continue)\n",
    "continue 语句 (statement) 只能在 for 语句 (statement) 或 while 语句 (statement) 的复合\n",
    "(compounded) 语句 (statements) ⾥使⽤，作⽤是跳过最近的⼀层循环，进⼊下⼀轮循环重新执⾏复\n",
    "合 (compounded) 语句 (statements)。例如"
   ]
  },
  {
   "cell_type": "code",
   "execution_count": 35,
   "metadata": {},
   "outputs": [
    {
     "name": "stdout",
     "output_type": "stream",
     "text": [
      "32  \t33 !\t34 \"\t35 #\t36 $\t37 %\t38 &\t39 '\t40 (\t41 )\t42 *\t43 +\t44 ,\t45 -\t46 .\t47 /\t48 0\t49 1\t50 2\t51 3\t52 4\t53 5\t54 6\t55 7\t56 8\t57 9\t58 :\t59 ;\t60 <\t61 =\t62 >\t63 ?\t64 @\t65 A\t66 B\t67 C\t68 D\t69 E\t70 F\t71 G\t72 H\t73 I\t74 J\t75 K\t76 L\t77 M\t78 N\t79 O\t80 P\t81 Q\t82 R\t83 S\t84 T\t85 U\t86 V\t87 W\t88 X\t89 Y\t90 Z\t91 [\t92 \\\t93 ]\t94 ^\t95 _\t96 `\t97 a\t98 b\t99 c\t100 d\t101 e\t102 f\t103 g\t104 h\t105 i\t106 j\t107 k\t108 l\t109 m\t110 n\t111 o\t112 p\t113 q\t114 r\t115 s\t116 t\t117 u\t118 v\t119 w\t120 x\t121 y\t122 z\t123 {\t124 |\t125 }\t126 ~\t"
     ]
    }
   ],
   "source": [
    "for i in range(128):\n",
    "    c = chr(i)\n",
    "    if not c.isprintable():\n",
    "        continue#回到for i in range(128)的迭代过程\n",
    "    print(i, c, end='\\t')"
   ]
  },
  {
   "cell_type": "markdown",
   "metadata": {},
   "source": [
    "### 11. 循环跳出语句 (break )\n",
    "break 语句 (statement) 只能在 for 语句 (statement) 或 while 语句 (statement) 的复合\n",
    "(compounded) 语句 (statements) ⾥使⽤，作⽤是跳出最近的⼀层循环，执⾏复合 (compounded) 语\n",
    "句 (statements) 下⾯的语句 (statements)。例如"
   ]
  },
  {
   "cell_type": "code",
   "execution_count": 36,
   "metadata": {},
   "outputs": [
    {
     "name": "stdout",
     "output_type": "stream",
     "text": [
      "Input: \n"
     ]
    }
   ],
   "source": [
    "count = 0\n",
    "while True:\n",
    "    s = input('Input: ')\n",
    "    if s == '':\n",
    "        break#打破while循环\n",
    "    count += 1\n",
    "    print(f'第{count}次Echo,不输入任何值以结束循环: ' + s)"
   ]
  },
  {
   "cell_type": "markdown",
   "metadata": {},
   "source": [
    "### 12. 循环语句的其他从句 (else )\n",
    "在` for` 语句 (statement) 或` while `语句 (statement) 之后还可以跟 `else` 从句 (clause)，该从句\n",
    "(clause) 下的复合 (compounded) 语句 (statements) 只在循环正常完成的情况下才执⾏，若循环是从\n",
    "`break `语句跳出结束的，则不执⾏。这种句式主要⽤于通过循环 (` for `或者`while `) 寻找某个条件\n",
    "( `if `) 跳出 (` break `)，若找不到 (未跳出) 才执⾏` else `从句 (clause) 的内容。例如："
   ]
  },
  {
   "cell_type": "code",
   "execution_count": 37,
   "metadata": {},
   "outputs": [
    {
     "name": "stdout",
     "output_type": "stream",
     "text": [
      "'print' had passed our inspection , it can be identify.\n",
      "'__builtins__' had passed our inspection , it can be identify.\n",
      "'Exception' had passed our inspection , it can be identify.\n",
      "'None' had passed our inspection , it can be identify.\n"
     ]
    }
   ],
   "source": [
    "q = ['print', '__builtins__', 'Exception','None']\n",
    "for n in q:\n",
    "    if not n.isidentifier():#如果该字符串是 Python 中的有效标识符，则 isidentifier ()方法返回 True\n",
    "        print('Not an identifier: ', n)\n",
    "        break\n",
    "    else:\n",
    "        print(f\"\\'{n}\\' had passed our inspection , it can be identify.\")\n",
    "        \n",
    "#好像有isidentifier属性的都可以通过"
   ]
  },
  {
   "cell_type": "code",
   "execution_count": 38,
   "metadata": {},
   "outputs": [
    {
     "name": "stdout",
     "output_type": "stream",
     "text": [
      "'print' had passed our inspection , it can be identify.\n",
      "'__builtins__' had passed our inspection , it can be identify.\n",
      "'Exception' had passed our inspection , it can be identify.\n",
      "Not an identifier:  numpy.random.randn\n"
     ]
    }
   ],
   "source": [
    "q = ['print', '__builtins__', 'Exception','numpy.random.randn']\n",
    "for n in q:\n",
    "    if not n.isidentifier():#如果该字符串是 Python 中的有效标识符，则 isidentifier ()方法返回 True\n",
    "        print('Not an identifier: ', n)\n",
    "        break\n",
    "    else:\n",
    "        print(f\"\\'{n}\\' had passed our inspection , it can be identify.\")\n",
    " "
   ]
  },
  {
   "cell_type": "markdown",
   "metadata": {},
   "source": [
    "### 13. 异常捕捉语句 (try )\n",
    "`try `语句 (statement) 也是⼀种复合 (compound) 语句 (statement)，必须跟⾄少⼀个 `except` 从句\n",
    "(clause)，可以跟⼀个` else `从句 (clause)，也可以跟⼀个` finally` 从句 (clause)。`try `语句的作⽤\n",
    "是捕捉异常 (exception)，如果复合 (compounded) 语句 (statements) 执⾏过程中报错 (raise)，且这个\n",
    "异常 (exception) 在某个`except `从句 (clause) 中已有指定要求捕捉，那么解释器 (interpreter) 将取消\n",
    "(cancel) 这个异常 (exception) 的报错 (raise)，转⽽执⾏ `except` 从句 (clause) ⾥的复合\n",
    "(compounded) 语句 (statements)。如果 `try` 语句中没有报错 (raise exception)，则执⾏ `else` 从句\n",
    "(clause) ⾥的复合 (compounded) 语句 (statements)。⽆论 try 语句有没有报错 (raise exception)，\n",
    "只要指定有` finally `从句 (clause)，都会执⾏⾥⾯的复合 (compounded) 语句 (statements)，这些语\n",
    "句 (statements) 通常被⽤于⼿动释放不能被解释器 (interpreter) 垃圾回收 (garbage collection) 的系统\n",
    "资源，例如关闭⽂件或数据库连接。例如："
   ]
  },
  {
   "cell_type": "markdown",
   "metadata": {},
   "source": [
    "#### 没有写入，因为try有报错，不执行else"
   ]
  },
  {
   "cell_type": "code",
   "execution_count": 39,
   "metadata": {},
   "outputs": [
    {
     "name": "stdout",
     "output_type": "stream",
     "text": [
      "Error in writing to file.\n"
     ]
    },
    {
     "data": {
      "text/plain": [
       "True"
      ]
     },
     "execution_count": 39,
     "metadata": {},
     "output_type": "execute_result"
    }
   ],
   "source": [
    "f = open('file1.txt', mode='w')\n",
    "#f.write(321) # 报错 TypeError\n",
    "try:\n",
    "    f.write(321)\n",
    "except TypeError: #或BaseException ，它是所有异常的基类\n",
    "    print('Error in writing to file.')\n",
    "else:\n",
    "    f.write('Hello world! This is a test')\n",
    "finally:\n",
    "    f.close() # 不论 try 中是否发⽣异常，都会执⾏此语句释放资源\n",
    "issubclass(TypeError, Exception)\n"
   ]
  },
  {
   "cell_type": "markdown",
   "metadata": {},
   "source": [
    "两个语句都可以写入，类似于“尝试try...except除非遇到....不然继续else....然后无论中间如何finnally做...”"
   ]
  },
  {
   "cell_type": "code",
   "execution_count": 40,
   "metadata": {},
   "outputs": [
    {
     "data": {
      "text/plain": [
       "4"
      ]
     },
     "execution_count": 40,
     "metadata": {},
     "output_type": "execute_result"
    },
    {
     "data": {
      "text/plain": [
       "27"
      ]
     },
     "execution_count": 40,
     "metadata": {},
     "output_type": "execute_result"
    },
    {
     "data": {
      "text/plain": [
       "True"
      ]
     },
     "execution_count": 40,
     "metadata": {},
     "output_type": "execute_result"
    }
   ],
   "source": [
    "f = open('file1.txt', mode='w')\n",
    "#f.write(321) # 报错 TypeError\n",
    "try:\n",
    "    f.write('321\\n')\n",
    "except TypeError: #或BaseException ，它是所有异常的基类\n",
    "    print('Error in writing to file.')\n",
    "else:\n",
    "    f.write('Hello world! This is a test')\n",
    "finally:\n",
    "    f.close() # 不论 try 中是否发⽣异常，都会执⾏此语句释放资源\n",
    "issubclass(TypeError, Exception)\n"
   ]
  },
  {
   "cell_type": "markdown",
   "metadata": {},
   "source": [
    "### 14. 情境语句 (with )\n",
    "`with `语句 (statement) 也是⼀种复合 (compound) 语句 (statement)，后⾯必须跟⼀个情境管理器\n",
    "(context management)。所谓情境管理器 (context manager)，是指具有` __enter__ `和 `__exit__`\n",
    "⽅法 (method)，由 `__enter__ `⽅法 (method) 完成资源申请或环境准备⼯作并返回⼀个进⼊ (enter)\n",
    "情境 (context) 内部以后可以使⽤的对象 (object)，由 `__exit__ `⽅法 (method) 负责在情境 (context)\n",
    "退出 (exit) 时进⾏资源释放或环境清理⼯作。不论` with `语句 (statement) 是正常完成还是异常退\n",
    "出，` __exit__ `⽅法 (method) 总会执⾏，从⽽确保情境 (context) 恢复到进⼊前的状态。\n",
    "\n",
    "\n",
    "⽂件对象 (file object) 就是⼀个⾮常典型的情境管理器 (context manager)。在 with 语句 (statement)\n",
    "⾥使⽤⽂件对象 (file object)，可以确保不论正常执⾏还是异常退出，⽂件资源都⼀定会被释放。⽀持情\n",
    "境管理 (context manager) 是⽂件对象 (file object) 本身就定义好的功能。例如"
   ]
  },
  {
   "cell_type": "code",
   "execution_count": 41,
   "metadata": {},
   "outputs": [
    {
     "data": {
      "text/plain": [
       "39"
      ]
     },
     "execution_count": 41,
     "metadata": {},
     "output_type": "execute_result"
    }
   ],
   "source": [
    "import csv\n",
    "f = open('file1.csv','w+',encoding = 'utf-8',newline = '')\n",
    "f.write('Hello world! This is the NO.14 question')\n",
    "f.close()\n",
    "with open('file1.csv', 'w+',newline='',encoding = 'utf-8') as f:#可以继续用f,with是一个情景，有自己的空间\n",
    "    reader = csv.reader(f, delimiter=':', quoting=csv.QUOTE_NONE)\n",
    "    for row in reader:\n",
    "        print(row)"
   ]
  },
  {
   "cell_type": "markdown",
   "metadata": {},
   "source": [
    "⼀般来说，内存 (memory) 资源都可以被垃圾回收 (garbage collected)，但磁盘 (dict)、⽹络 (network)\n",
    "等外部资源都⽆法被垃圾回收 (garbage collected)，所以这些资源经常结合着 with 语句 (statement)\n",
    "使⽤，以达到资源⾃动释放的⽬的。其实通过 try 语句 (statement) 和 finally 从句 (clause) 也可\n",
    "以达到类似的效果，但不如 with 语句简单直观。例如，上⾯的代码基本上等价于："
   ]
  },
  {
   "cell_type": "code",
   "execution_count": 42,
   "metadata": {},
   "outputs": [
    {
     "data": {
      "text/plain": [
       "39"
      ]
     },
     "execution_count": 42,
     "metadata": {},
     "output_type": "execute_result"
    }
   ],
   "source": [
    "f = open('file1.csv','w+',encoding = 'utf-8')\n",
    "try:\n",
    "    f.write('Hello world! This is the NO.14 question')\n",
    "except BaseException:\n",
    "        print('出现了错误了')\n",
    "finally:\n",
    "    f.close()"
   ]
  },
  {
   "cell_type": "markdown",
   "metadata": {},
   "source": [
    "### 15. 断⾔语句 (assert)\n",
    "`assert `语句 (statement) 是编程中的⼀种简单调试 (debug) ⼯具，⽤于确保某条件判断成⽴，若不成\n",
    "⽴，则报错` AssertionError` ，若成⽴，则什么也不发⽣。"
   ]
  },
  {
   "cell_type": "markdown",
   "metadata": {},
   "source": [
    "#### 1. 简单断⾔。\n",
    "在` assert `关键词 (keyword) 之后写任意表达式 (expression)，会对该表达式\n",
    "(expression) 进⾏逻辑判断 (truth-value testing)，若为逻辑假 False 则报错。例如："
   ]
  },
  {
   "cell_type": "code",
   "execution_count": 43,
   "metadata": {},
   "outputs": [
    {
     "data": {
      "text/plain": [
       "False"
      ]
     },
     "execution_count": 43,
     "metadata": {},
     "output_type": "execute_result"
    },
    {
     "name": "stdout",
     "output_type": "stream",
     "text": [
      "assert直接报错并阻断了运行\n"
     ]
    }
   ],
   "source": [
    "s = \"How are you !\"\n",
    "len(s) ==4\n",
    "#assert len(s) == 4 ,print('长度为'+str(len(s)))# 逻辑判断 False，报错 AssertionError\n",
    "print('assert直接报错并阻断了运行')"
   ]
  },
  {
   "cell_type": "code",
   "execution_count": 44,
   "metadata": {},
   "outputs": [],
   "source": [
    "assert s.startswith('H') # 逻辑判断 True，什么也不发⽣"
   ]
  },
  {
   "cell_type": "markdown",
   "metadata": {},
   "source": [
    "2. `附带对象断⾔`。\n",
    "在` assert` 关键词 (keyword) 之后写两个表达式 (expression)，⽤逗号 (comma)\n",
    "隔开，第⼀个表达式进⾏逻辑判断 (truth-value testing)，第⼆个表达式为逻辑假 False 时异常\n",
    "(exception) 对象 (object) 所附带的对象 (object)。例如："
   ]
  },
  {
   "cell_type": "code",
   "execution_count": 45,
   "metadata": {},
   "outputs": [
    {
     "data": {
      "text/plain": [
       "{'a', 'b', 'c'}"
      ]
     },
     "execution_count": 45,
     "metadata": {},
     "output_type": "execute_result"
    },
    {
     "data": {
      "text/plain": [
       "set"
      ]
     },
     "execution_count": 45,
     "metadata": {},
     "output_type": "execute_result"
    }
   ],
   "source": [
    "s = set(['a','b','c'])\n",
    "s\n",
    "import collections.abc as coll\n",
    "#assert isinstance(s, collections.abc.Sequence), type(s) # 报错附带\n",
    "type(s)"
   ]
  },
  {
   "cell_type": "markdown",
   "metadata": {},
   "source": [
    "### 16. 报错语句 (raise )"
   ]
  },
  {
   "cell_type": "markdown",
   "metadata": {},
   "source": [
    "`raise `语句 (statement) 也有助于调试 (debug)，同时与 `try `语句结合使⽤也是控制程序流程的⼀种\n",
    "有⼒⼯具。可以使⽤` if `语句 (statement) 判断某种条件，满⾜条件则⽤ `raise` 语句 (statement) 报\n",
    "错，可以主动地终⽌ Python 程序运⾏，避免继续计算出⽆意义的结果。例如："
   ]
  },
  {
   "cell_type": "code",
   "execution_count": 46,
   "metadata": {},
   "outputs": [
    {
     "name": "stdout",
     "output_type": "stream",
     "text": [
      "Your number: \n"
     ]
    },
    {
     "ename": "ValueError",
     "evalue": "Input number must be a positive integer.(unicode number)",
     "output_type": "error",
     "traceback": [
      "\u001b[1;31m---------------------------------------------------------------------------\u001b[0m",
      "\u001b[1;31mValueError\u001b[0m                                Traceback (most recent call last)",
      "\u001b[1;32m<ipython-input-46-6082c6e7493a>\u001b[0m in \u001b[0;36m<module>\u001b[1;34m\u001b[0m\n\u001b[0;32m      1\u001b[0m \u001b[0mv\u001b[0m \u001b[1;33m=\u001b[0m \u001b[0minput\u001b[0m\u001b[1;33m(\u001b[0m\u001b[1;34m'Your number: '\u001b[0m\u001b[1;33m)\u001b[0m\u001b[1;33m\u001b[0m\u001b[1;33m\u001b[0m\u001b[0m\n\u001b[0;32m      2\u001b[0m \u001b[1;32mif\u001b[0m \u001b[1;32mnot\u001b[0m \u001b[0mv\u001b[0m\u001b[1;33m.\u001b[0m\u001b[0misdecimal\u001b[0m\u001b[1;33m(\u001b[0m\u001b[1;33m)\u001b[0m\u001b[1;33m:\u001b[0m\u001b[1;31m#https://blog.csdn.net/gpf951101/article/details/78688405\u001b[0m\u001b[1;33m\u001b[0m\u001b[1;33m\u001b[0m\u001b[0m\n\u001b[1;32m----> 3\u001b[1;33m     \u001b[1;32mraise\u001b[0m \u001b[0mValueError\u001b[0m\u001b[1;33m(\u001b[0m\u001b[1;34m'Input number must be a positive integer.(unicode number)'\u001b[0m\u001b[1;33m)\u001b[0m\u001b[1;33m\u001b[0m\u001b[1;33m\u001b[0m\u001b[0m\n\u001b[0m\u001b[0;32m      4\u001b[0m \u001b[0mprint\u001b[0m\u001b[1;33m(\u001b[0m\u001b[0mv\u001b[0m\u001b[1;33m)\u001b[0m\u001b[1;33m\u001b[0m\u001b[1;33m\u001b[0m\u001b[0m\n",
      "\u001b[1;31mValueError\u001b[0m: Input number must be a positive integer.(unicode number)"
     ]
    }
   ],
   "source": [
    "v = input('Your number: ')\n",
    "if not v.isdecimal():#https://blog.csdn.net/gpf951101/article/details/78688405\n",
    "    raise ValueError('Input number must be a positive integer.(unicode number)')\n",
    "print(v)"
   ]
  },
  {
   "cell_type": "markdown",
   "metadata": {},
   "source": [
    "### 17. 占位语句 (pass )\n",
    "`pass` 语句 (statement) 在执⾏ (execute) 时什么也不做，它的存在只是为了满⾜ Python 基于缩进\n",
    "(indentation) 的复合 (compounding) 语法 (syntax) 要求。例如："
   ]
  },
  {
   "cell_type": "code",
   "execution_count": null,
   "metadata": {},
   "outputs": [],
   "source": [
    "x1 = x \n",
    "s = 'abc'\n",
    "try:\n",
    "    x = int(s)\n",
    "except ValueError:#BaseException\n",
    "    pass # 语法要求必须写这个语句才能什么也不做\n",
    "\n",
    "x == x1"
   ]
  },
  {
   "cell_type": "markdown",
   "metadata": {},
   "source": [
    "这个例⼦能够捕捉` int(s) `中报错 (raise) 的` ValueError` ，但在` except `从句⾥什么也不做，相当于\n",
    "只是忽略这个异常 (exception)。"
   ]
  },
  {
   "cell_type": "markdown",
   "metadata": {},
   "source": [
    "不写` pass `语句，则会报错 (raise) 缩进错误 ( IndentationError )。"
   ]
  },
  {
   "cell_type": "markdown",
   "metadata": {},
   "source": [
    "### 18.⽂件对象\n",
    "此处讨论的⽂件 (file)，仅限于保存在磁盘 (disk) 上的的⽂件。Python 解释器 (interpreter) 解释\n",
    "Python 代码⽽进⾏的⼀切活动，归根到底只是⼀次进程 (process)；进程运⾏中需要输⼊ (input) 的数\n",
    "据通常要来⾃于⽂件读取 (read)，⽽需要输出 (output) 的数据通常要被写⼊ (write) ⾄⽂件；不进⾏⽂\n",
    "件读写 (I/O) 操作的 Python 进程⼏乎不会有任何 实际 ⽤途。所以，理解清楚⽂件读写的有关概念、熟\n",
    "练掌握⽂件读写的基本操作，⾮常必要。"
   ]
  },
  {
   "cell_type": "markdown",
   "metadata": {},
   "source": [
    "#### 18.1 创建\n",
    "⽂件 (file) 位于 磁盘 (disk)，Python 需要根据⽂件 (file) 处于⽂件系统 (file system) 的路径 (path)，在\n",
    "内存 中创建出⼀个指向该路径 (path) 的对象 (object)，借此对象 (object) 的 `read `和 `write` ⽅法\n",
    "(method) 来完成对磁盘⽂件的读写 (I/O) 操作 (operation)。这样的对象叫做 ⽂件对象 (file object)，通\n",
    "常通过内置函数 (built-in function) open 来创建。"
   ]
  },
  {
   "cell_type": "code",
   "execution_count": null,
   "metadata": {},
   "outputs": [],
   "source": [
    "dir(__builtins__) # 可以看到内置模块 __builtins__ 确实包含有 open 这个属性\n",
    "open # 可以看到 open 确实是⼀个内置变量 (built-in variable)，这⾥没有报告NameError\n",
    "help(open) # 建议强迫⾃⼰读⼀读官⽅⽂档\n",
    "file = 'file1.txt'\n",
    "\n",
    "f = open(file, mode='r', buffering=-1, encoding=None, errors=None,\n",
    "newline=None, closefd=True, opener=None)\n",
    "f.close()"
   ]
  },
  {
   "cell_type": "markdown",
   "metadata": {},
   "source": [
    "⽂档第⼀⾏显示的就是函数 (function) 的 签名 (signature)，其中` open`是函数 (function) 名称\n",
    "(name)，` file` , `mode` ,`buffering` ,` encoding` , `errors `, `newline` , `closefd `, `opener `等是形参\n",
    "(parameter) 名称 (name)。\n",
    "\n",
    "\n",
    "调⽤ (call)` open` 函数 (function) ⾄少 需要给形参 (parameter)` file` 传递⼀个`字符串 `(str) 实例\n",
    "(instance) 作为实参 (argument)，⽤来指定需要打开的⽂件 (file) 的路径 (path)："
   ]
  },
  {
   "cell_type": "markdown",
   "metadata": {},
   "source": [
    "#### 18.2 模式\n",
    "调⽤ (call) open 函数 (function) 创建⽂件对象 (file object) 时，可以 给形参 (parameter) mode 传递\n",
    "⼀个`字符串` (str) 实例 (instance) 作为实参 (argument)，⽤来指定打开⽂件 (file) 的 模式 (mode)。可选\n",
    "择的⽂件模式 (mode) 有以下⼏种"
   ]
  },
  {
   "cell_type": "code",
   "execution_count": null,
   "metadata": {},
   "outputs": [],
   "source": [
    "from PIL import Image\n",
    "img = Image.open(r\"E:\\1学习文件\\文件资料作业准考证\\大三下\\金融计算机\\第13次练习 13-语句和文件操作\\mode图.jpg\")\n",
    "img.show()                "
   ]
  },
  {
   "attachments": {
    "image.png": {
     "image/png": "[encoded data removed]"
    }
   },
   "cell_type": "markdown",
   "metadata": {},
   "source": [
    "![image.png](attachment:image.png)"
   ]
  },
  {
   "cell_type": "markdown",
   "metadata": {},
   "source": [
    "简单来说， 'r' 代表 “只读”， 'w' 代表 “删除只写”， 'x' 代表 “创建只写”， 'a' 代表 “追加只\n",
    "写”\n",
    "\n",
    "'r+' 代表 “可读可写”， 'w+' 代表 “删除读写”， 't' 代表 “⽂本” (默认值，可省略)， 'b' 代表\n",
    "\"⼆进制”。"
   ]
  },
  {
   "cell_type": "markdown",
   "metadata": {},
   "source": [
    "#### 小结"
   ]
  },
  {
   "cell_type": "markdown",
   "metadata": {},
   "source": [
    "r是读取，r+添加了写入功能，r状态下才可以read；w会直接覆盖旧文件，x是w的保险形式，防止无意识的覆盖；w+在覆盖后有新的写入就可以继续读取(seek属性)；a是append追加操作；加上b代表交互二进制数据，图片等内容都可以用b，byte形式才是计算机存储的基本形式，rwa都是为了便于人类观察的"
   ]
  },
  {
   "cell_type": "code",
   "execution_count": null,
   "metadata": {},
   "outputs": [],
   "source": [
    "%echo 'This is my text3.'> file3.txt \n",
    "# 创建⽂件，内容为⽂本 This is mytext.\n",
    "f = open('file3.txt', 'r+')\n",
    "text = f.read()\n",
    "text\n",
    "f.close()\n"
   ]
  },
  {
   "cell_type": "code",
   "execution_count": null,
   "metadata": {},
   "outputs": [],
   "source": [
    "with open('file1.csv','r+') as f:\n",
    "    text  = f.read()\n",
    "    print(text)"
   ]
  },
  {
   "cell_type": "markdown",
   "metadata": {},
   "source": [
    "- ⽂件对象 (file object) 是在 内存 ⽽并不是在 磁盘。调⽤ write ⽅法只是改变⽂件对象 (file\n",
    "object) 所持有的 缓存 (buffer)，并不必然 写⼊到磁盘。只有在缓存 (buffer) 满后，⽂件对象 (file\n",
    "object) 才会 ⾃动 向操作系统申请写⼊磁盘，并清空缓存 (buffer)。"
   ]
  },
  {
   "cell_type": "markdown",
   "metadata": {},
   "source": [
    "- ⼿动 将缓存 (buffer) 写⼊磁盘并清空，可以调⽤⽂件对象 (file object) 的 flush ⽅法 ( close ⽅\n",
    "法在关闭⽂件对象之前，其实会⾃动调⽤ flush ⽅法)。"
   ]
  },
  {
   "cell_type": "markdown",
   "metadata": {},
   "source": [
    "#### 18.3 读写位置\n",
    "构成磁盘⽂件的实际上是⼆进制 (binary) 字节串 (byte stream)。⽂件对象 (file object) 在进⾏读写操作\n",
    "(read/write) 时会保持着读写到的 位置 (position)，即读取 (read) 或写⼊ (write) 到了第⼏个 字节\n",
    "(byte)。位置 (position) 总是从 0 开始，每读取 (read) 或写⼊ (write) ⼀个字符 (character)，位置\n",
    "(position) 就会根据所读写的字节 (bytes) 数增加若⼲，具体增加⼏取决于所使⽤的字符编码\n",
    "(encoding)。⽤⽂件对象 (file object) 的 tell ⽅法可以获取当前位置 (position)，⽤ seek ⽅法可以\n",
    "移动位置 (position) ⾄指定的字节数。"
   ]
  },
  {
   "cell_type": "code",
   "execution_count": null,
   "metadata": {
    "scrolled": true
   },
   "outputs": [],
   "source": [
    "f = open('file4.txt', mode='w+',encoding = 'utf-8') # 创建⽂件对象，只写模式\n",
    "f.write('你好这是我的abcdefg')\n",
    "#help(f.tell)\n",
    "f.tell() # 查看⽂件的当前位置，注意与 write ⽅法返回的字符数并不同，tell ⽅法返回的是字节数\n",
    "f.seek(0) #此时指针在最后，不seek的话无法读取出内容，读取是从指针位置开始的\n",
    "text = f.read()\n",
    "text\n",
    "f.flush() # 将缓存写⼊磁盘\n",
    "\n",
    "%pycat file4.txt"
   ]
  },
  {
   "cell_type": "markdown",
   "metadata": {},
   "source": [
    "seek调回指针后再写入会覆盖原位置的"
   ]
  },
  {
   "cell_type": "code",
   "execution_count": null,
   "metadata": {},
   "outputs": [],
   "source": [
    "f.seek(0) # 移动当前位置⾄⽂件的最起始\n",
    "f.write('Bye') # 再次写⼊，但注意这次是移动过位置之后的写⼊\n",
    "f.close() # 写⼊磁盘，关闭⽂件，释放资源\n",
    "%pycat file4.txt"
   ]
  },
  {
   "cell_type": "code",
   "execution_count": null,
   "metadata": {},
   "outputs": [],
   "source": [
    "len('你'.encode('utf-8') ) == (len('Bye'.encode('utf-8')) )## '你' 编码后占三个字节 B y e 三个字符编码后各占⼀个字节"
   ]
  },
  {
   "cell_type": "code",
   "execution_count": null,
   "metadata": {},
   "outputs": [],
   "source": [
    "f = open('file4.txt',encoding = 'utf-8') # 创建⽂件对象，只读模式\n",
    "f.read(4) # 读取 4 个字符，⽽不是字节\n",
    "#help(f.read) # 查看 f 对象的 read ⽅法的⽂档\n",
    "\n",
    "f.tell() #=6,3*1+1*3\n",
    "# 查看⽂件的当前位置，注意与 read ⽅法传⼊的字符数并不同，tell ⽅法返回的是字节数\n",
    "%pycat file4.txt\n",
    "print('------------')\n",
    "f.read() # 读取剩余全部字符⾄⽂件末尾\n",
    "f.tell()\n",
    "f.read() # 注意再次 read 再读不出任何字符，因为当前位置是⽂件末尾\n",
    "f.seek(0) # 移动当前位置⾄⽂件的最起始\n",
    "f.read(3) # 注意此次 read 出的是 Bye，因为当前位置是⽂件起始\n",
    "f.close()"
   ]
  },
  {
   "cell_type": "markdown",
   "metadata": {},
   "source": [
    "### 18.4 字符编码\n",
    "字符编码 (character encoding) ⽤来将⽂本 (str) 编码 (encode) 成字节串 (bytes)，或者将字节串\n",
    "(bytes) 解码 (decode) 成⽂本 (str)。由于磁盘⽂件 (disk file) 以字节串 (bytes) 形式存储信息，⽂本\n",
    "(text) 模式 (mode) 的⽂件对象 (file object) 在创建时就需要通过形参 (parameter) encoding 指定字符\n",
    "编码 (character encoding)。Python 默认的 (default) 字符编码 (character encoding) 是 utf-8"
   ]
  },
  {
   "cell_type": "code",
   "execution_count": null,
   "metadata": {},
   "outputs": [],
   "source": [
    "# 以⽂本模式写⼊，以⼆进制模式读取\n",
    "f = open('file5.txt', mode='w+', encoding='utf-8') # 只写⽂本模式\n",
    "f.write('指定编码之后，⼆进制对⽤户就是透明的')\n",
    "text= f.read()\n",
    "f.seek(0)\n",
    "text= f.read()\n",
    "text\n",
    "f.close()\n",
    "#quit()\n",
    "%pycat file5.txt"
   ]
  },
  {
   "cell_type": "code",
   "execution_count": null,
   "metadata": {},
   "outputs": [],
   "source": [
    "f = open('file5.txt', mode='rb') # 只读⼆进制模式\n",
    "content = f.read()\n",
    "f.close()\n",
    "type(content) # 可以看到 content 是 bytes 类型\n",
    "content\n",
    "content.decode('utf-8') # 解码成功\n",
    "#content.decode('gbk') # 解码失败报错，使⽤了不匹配的 encoding\n"
   ]
  },
  {
   "cell_type": "code",
   "execution_count": null,
   "metadata": {},
   "outputs": [],
   "source": [
    "f = open('file6.txt','w+',errors='ignore') # 只读⽂本模式，忽略解码错误\n",
    "f.write('Hellp')\n",
    "f.seek(0)\n",
    "text = f.read()\n",
    "text\n",
    "f.read() # 不再报告 UnicodeDecodeError 错误，但读取出来乱码\n",
    "f.close()"
   ]
  },
  {
   "cell_type": "markdown",
   "metadata": {},
   "source": [
    "#### 18.5 换⾏符"
   ]
  },
  {
   "cell_type": "markdown",
   "metadata": {},
   "source": [
    "Unix 操作系统 (如 FreeBSD、Mac OS X、Linux 等等) 约定以 '\\n' ⼀个字符作为⽂本换⾏\n",
    "(newline)，Windows 操作系统约定以 '\\r\\n' 两个字符作为⽂本换⾏ (newline)，Mac OS X 以前的旧\n",
    "Mac 操作系统约定以 '\\r' ⼀个字符作为⽂本换⾏ (newline)。这种不⼀致给跨平台软件带来⼀些问\n",
    "题，⽐如在 Unix 操作系统下创建的⽂本⽂件若在 Windows 操作系统下打开会失去所有的换⾏。\n",
    "\n",
    "\n",
    "Python 应对这⼀跨平台问题采取了 通⽤换⾏符 (universal newline) 的概念。默认情况下，在读取\n",
    "(read) ⽂本时， '\\n' 、'\\r' 、'\\r\\n' 都会被⾃动转换为 \\n ，在写⼊ (write) ⽂本时， \\n 字符会\n",
    "被转换为当前操作系统默认的换⾏符。\n",
    "\n",
    "\n",
    "如果希望 关闭 通⽤换⾏符 (universal newline) 功能，即在读取 (read) 或写⼊ (write) ⽂本时不希望换\n",
    "⾏符被⾃动转换，则应在调⽤ open 函数时给形参 (parameter) newline 传递空字符串 '' 作为实参\n",
    "(argument)。"
   ]
  },
  {
   "cell_type": "markdown",
   "metadata": {},
   "source": [
    "\\r\\n（win） 、\\r(mac)都会被转化为\\n"
   ]
  },
  {
   "cell_type": "code",
   "execution_count": 47,
   "metadata": {},
   "outputs": [
    {
     "data": {
      "text/plain": [
       "8"
      ]
     },
     "execution_count": 47,
     "metadata": {},
     "output_type": "execute_result"
    },
    {
     "name": "stdout",
     "output_type": "stream",
     "text": [
      "-------------\n"
     ]
    },
    {
     "data": {
      "text/plain": [
       "'a\\nb\\nc\\nd'"
      ]
     },
     "execution_count": 47,
     "metadata": {},
     "output_type": "execute_result"
    },
    {
     "name": "stdout",
     "output_type": "stream",
     "text": [
      "------newline=''-------\n"
     ]
    },
    {
     "data": {
      "text/plain": [
       "'a\\r\\n'"
      ]
     },
     "execution_count": 47,
     "metadata": {},
     "output_type": "execute_result"
    },
    {
     "data": {
      "text/plain": [
       "'b\\r'"
      ]
     },
     "execution_count": 47,
     "metadata": {},
     "output_type": "execute_result"
    },
    {
     "data": {
      "text/plain": [
       "'c\\n'"
      ]
     },
     "execution_count": 47,
     "metadata": {},
     "output_type": "execute_result"
    },
    {
     "data": {
      "text/plain": [
       "0"
      ]
     },
     "execution_count": 47,
     "metadata": {},
     "output_type": "execute_result"
    },
    {
     "name": "stdout",
     "output_type": "stream",
     "text": [
      "-----newline='\\r'-------\n"
     ]
    },
    {
     "data": {
      "text/plain": [
       "'a\\r'"
      ]
     },
     "execution_count": 47,
     "metadata": {},
     "output_type": "execute_result"
    },
    {
     "data": {
      "text/plain": [
       "'\\nb\\r'"
      ]
     },
     "execution_count": 47,
     "metadata": {},
     "output_type": "execute_result"
    },
    {
     "data": {
      "text/plain": [
       "'c\\nd'"
      ]
     },
     "execution_count": 47,
     "metadata": {},
     "output_type": "execute_result"
    }
   ],
   "source": [
    "f = open('file7.txt', mode='w', newline='') # 只写模式，关闭通⽤换⾏符功能\n",
    "f.write('a\\r\\nb\\rc\\nd')\n",
    "f.close()\n",
    "print('-------------')\n",
    "f = open('file7.txt', 'r') # 只读模式，默认开启通⽤换⾏符功能\n",
    "f.read() # 注意换⾏符在读取时被⾃动转换\n",
    "f.close()\n",
    "f = open('file7.txt', 'r', newline='') # 只读模式，关闭通⽤换⾏符功能\n",
    "print('------newline=\\'\\'-------')\n",
    "f.readline() \n",
    "f.readline()\n",
    "f.readline() # 注意换⾏符现在不被⾃动转换\n",
    "f.close()\n",
    "f = open('file7.txt', 'r+', newline='\\r') # 只读模式，关闭通⽤换⾏符功能\n",
    "f.seek(0)\n",
    "print(\"\"\"-----newline=\\'\\\\r\\'-------\"\"\")\n",
    "f.readline() \n",
    "f.readline()\n",
    "f.readline()\n",
    "f.close()"
   ]
  },
  {
   "cell_type": "code",
   "execution_count": 48,
   "metadata": {},
   "outputs": [
    {
     "data": {
      "text/plain": [
       "'a\\r'"
      ]
     },
     "execution_count": 48,
     "metadata": {},
     "output_type": "execute_result"
    },
    {
     "data": {
      "text/plain": [
       "'\\nb\\r'"
      ]
     },
     "execution_count": 48,
     "metadata": {},
     "output_type": "execute_result"
    },
    {
     "data": {
      "text/plain": [
       "0"
      ]
     },
     "execution_count": 48,
     "metadata": {},
     "output_type": "execute_result"
    },
    {
     "data": {
      "text/plain": [
       "'a\\r\\nb\\rc\\nd'"
      ]
     },
     "execution_count": 48,
     "metadata": {},
     "output_type": "execute_result"
    },
    {
     "data": {
      "text/plain": [
       "8"
      ]
     },
     "execution_count": 48,
     "metadata": {},
     "output_type": "execute_result"
    },
    {
     "data": {
      "text/plain": [
       "'a\\r\\rb\\rc\\rd'"
      ]
     },
     "execution_count": 48,
     "metadata": {},
     "output_type": "execute_result"
    }
   ],
   "source": [
    "f = open('file7.txt', mode='r', newline='\\r') # 只读模式，以 \\r 为换⾏符\n",
    "f.readline() # 注意以哪个字符换⾏\n",
    "f.readline() # 再次注意以哪个字符换⾏\n",
    "f.seek(0) # 回到⽂件起始重新准备读取\n",
    "f.read() # 注意读取全部⽂本时，任何换⾏符都没有被转换\n",
    "f.close()\n",
    "f = open('file8.txt', mode='w', newline='\\r') # 只写模式，以 \\r 为换⾏符\n",
    "f.write('a\\r\\nb\\rc\\nd')\n",
    "f.close()\n",
    "f = open('file8.txt', newline='') # 只读模式，关闭通⽤换⾏符功能\n",
    "f.read() # 注意现在读取出的是刚才实际写⼊的⽂本\n",
    "f.close()"
   ]
  },
  {
   "cell_type": "markdown",
   "metadata": {},
   "source": [
    "### 19.路径操作\n",
    "与⽂件 (file) 紧密相关的概念是⽂件 (file) 处在⽂件系统 (file system) 中的 路径 (path)。这⾥只简要介绍\n",
    "⼀些常⽤的路径 (path) 操作 (operating) 函数 (function)。"
   ]
  },
  {
   "cell_type": "code",
   "execution_count": 49,
   "metadata": {},
   "outputs": [],
   "source": [
    "import os"
   ]
  },
  {
   "cell_type": "code",
   "execution_count": 50,
   "metadata": {},
   "outputs": [
    {
     "data": {
      "text/plain": [
       "'C:\\\\Users\\\\MY\\\\python题库整理'"
      ]
     },
     "execution_count": 50,
     "metadata": {},
     "output_type": "execute_result"
    },
    {
     "data": {
      "text/plain": [
       "['$Recycle.Bin',\n",
       " 'ado',\n",
       " 'aow_drv.log',\n",
       " 'AppData',\n",
       " 'Config',\n",
       " 'Documents and Settings',\n",
       " 'Fraps',\n",
       " 'hiberfil.sys',\n",
       " 'IDMSetup2.log',\n",
       " 'Intel',\n",
       " 'jupyter',\n",
       " 'kingsoft',\n",
       " 'KSWJJ',\n",
       " 'MPlugin.dll',\n",
       " 'NVIDIA',\n",
       " 'pagefile.sys',\n",
       " 'PerfLogs',\n",
       " 'Program Files',\n",
       " 'Program Files (x86)',\n",
       " 'ProgramData',\n",
       " 'Recovery',\n",
       " 'SPlugin.dll',\n",
       " 'steam pubg',\n",
       " 'swapfile.sys',\n",
       " 'System Volume Information',\n",
       " 'taidbox',\n",
       " 'Temp',\n",
       " 'Users',\n",
       " 'Windows',\n",
       " '题库']"
      ]
     },
     "execution_count": 50,
     "metadata": {},
     "output_type": "execute_result"
    },
    {
     "data": {
      "text/plain": [
       "['All Users', 'Default', 'Default User', 'desktop.ini', 'MY', 'Public']"
      ]
     },
     "execution_count": 50,
     "metadata": {},
     "output_type": "execute_result"
    },
    {
     "data": {
      "text/plain": [
       "'C:\\\\Users'"
      ]
     },
     "execution_count": 50,
     "metadata": {},
     "output_type": "execute_result"
    }
   ],
   "source": [
    "os.getcwd() # 获取当前⼯作⽬录\n",
    "os.listdir('/') # 获取指定路径下的⽬录名和⽂件名\n",
    "os.listdir('/Users')\n",
    "os.chdir('/Users') # 改变当前⼯作⽬录\n",
    "os.getcwd()"
   ]
  },
  {
   "cell_type": "code",
   "execution_count": 51,
   "metadata": {},
   "outputs": [
    {
     "data": {
      "text/plain": [
       "'D:\\\\Anaconda3.7\\\\lib\\\\os.py'"
      ]
     },
     "execution_count": 51,
     "metadata": {},
     "output_type": "execute_result"
    },
    {
     "data": {
      "text/plain": [
       "True"
      ]
     },
     "execution_count": 51,
     "metadata": {},
     "output_type": "execute_result"
    }
   ],
   "source": [
    "p = os.__file__\n",
    "p # os库路径字符串\n",
    "os.path.exists(p) # 计算路径 p 定位的⽂件是否存在\n"
   ]
  },
  {
   "cell_type": "code",
   "execution_count": 52,
   "metadata": {
    "scrolled": true
   },
   "outputs": [
    {
     "data": {
      "text/plain": [
       "False"
      ]
     },
     "execution_count": 52,
     "metadata": {},
     "output_type": "execute_result"
    },
    {
     "data": {
      "text/plain": [
       "'D:\\\\Anaconda3.7\\\\lib'"
      ]
     },
     "execution_count": 52,
     "metadata": {},
     "output_type": "execute_result"
    },
    {
     "data": {
      "text/plain": [
       "'os.py'"
      ]
     },
     "execution_count": 52,
     "metadata": {},
     "output_type": "execute_result"
    }
   ],
   "source": [
    "os.path.exists('/do/not/exist') # 这是个不存在的⽂件路径\n",
    "os.path.dirname(p) # 计算路径 p 的 ⽬录名 部分\n",
    "os.path.basename(p) # 计算路径 p 的 ⽂件名 部分\n"
   ]
  },
  {
   "cell_type": "markdown",
   "metadata": {},
   "source": [
    "在linux下面，一般如果你自己使用系统的时候，是可以用`~`来代表`＂/home/你的名字/＂`这个路径的．但是python是不认识`~`这个符号的，如果你写路径的时候直接写`＂~/balabala＂`，程序是跑不动的．所以如果你要用`~`，你就应该用这个os.path.expanduser把~展开\n",
    "\n",
    "windows系统path为\"C:\\Users\\MY\""
   ]
  },
  {
   "cell_type": "code",
   "execution_count": 53,
   "metadata": {},
   "outputs": [
    {
     "data": {
      "text/plain": [
       "'C:\\\\Users'"
      ]
     },
     "execution_count": 53,
     "metadata": {},
     "output_type": "execute_result"
    },
    {
     "data": {
      "text/plain": [
       "'C:\\\\Users\\\\MY'"
      ]
     },
     "execution_count": 53,
     "metadata": {},
     "output_type": "execute_result"
    },
    {
     "data": {
      "text/plain": [
       "'C:\\\\Users'"
      ]
     },
     "execution_count": 53,
     "metadata": {},
     "output_type": "execute_result"
    },
    {
     "data": {
      "text/plain": [
       "'C:\\\\Users\\\\MY\\\\量化学习'"
      ]
     },
     "execution_count": 53,
     "metadata": {},
     "output_type": "execute_result"
    }
   ],
   "source": [
    "os.getcwd()\n",
    "os.path.expanduser('~') # 把 ~ 符号根据环境变量展开成⽤户⽬录\n",
    "os.getcwd()\n",
    "#os.listdir(r'C:\\\\Users\\\\MY')\n",
    "os.chdir(os.path.expanduser(r'~\\量化学习'))\n",
    "os.getcwd()"
   ]
  },
  {
   "cell_type": "code",
   "execution_count": 54,
   "metadata": {},
   "outputs": [
    {
     "data": {
      "text/plain": [
       "'D:\\\\Anaconda3.7\\\\lib\\\\os.py'"
      ]
     },
     "execution_count": 54,
     "metadata": {},
     "output_type": "execute_result"
    },
    {
     "data": {
      "text/plain": [
       "37756"
      ]
     },
     "execution_count": 54,
     "metadata": {},
     "output_type": "execute_result"
    }
   ],
   "source": [
    "p\n",
    "os.path.getsize(p) # 获取⽂件⼤⼩ (字节数)\n"
   ]
  },
  {
   "cell_type": "code",
   "execution_count": 55,
   "metadata": {},
   "outputs": [
    {
     "data": {
      "text/plain": [
       "True"
      ]
     },
     "execution_count": 55,
     "metadata": {},
     "output_type": "execute_result"
    },
    {
     "data": {
      "text/plain": [
       "False"
      ]
     },
     "execution_count": 55,
     "metadata": {},
     "output_type": "execute_result"
    },
    {
     "data": {
      "text/plain": [
       "True"
      ]
     },
     "execution_count": 55,
     "metadata": {},
     "output_type": "execute_result"
    },
    {
     "data": {
      "text/plain": [
       "True"
      ]
     },
     "execution_count": 55,
     "metadata": {},
     "output_type": "execute_result"
    },
    {
     "data": {
      "text/plain": [
       "False"
      ]
     },
     "execution_count": 55,
     "metadata": {},
     "output_type": "execute_result"
    }
   ],
   "source": [
    "os.path.isabs(p) # 测试路径 p 是否为绝对路径\n",
    "os.path.isdir(p) # 测试路径 p 是否为⽬录\n",
    "os.path.isfile(p) # 测试路径 p 是否为⽂件\n",
    "#os.path.isdir('/users/MY')\n",
    "os.path.isdir('/users/MY')\n",
    "os.path.isdir('/do/not/exist')\n"
   ]
  },
  {
   "cell_type": "code",
   "execution_count": 56,
   "metadata": {},
   "outputs": [
    {
     "data": {
      "text/plain": [
       "'/usr\\\\local\\\\bin/python3.7.2/'"
      ]
     },
     "execution_count": 56,
     "metadata": {},
     "output_type": "execute_result"
    },
    {
     "data": {
      "text/plain": [
       "'/bin/python3.7.2/'"
      ]
     },
     "execution_count": 56,
     "metadata": {},
     "output_type": "execute_result"
    }
   ],
   "source": [
    "os.path.join('/usr', 'local', 'bin/', 'python3.7.2/') # 连接路径\n",
    "os.path.join('/usr', 'local', '/bin/', 'python3.7.2/') # 注意起始的 /表示根⽬录\n"
   ]
  },
  {
   "cell_type": "code",
   "execution_count": 57,
   "metadata": {},
   "outputs": [
    {
     "data": {
      "text/plain": [
       "'D:\\\\Anaconda3.7\\\\lib\\\\os.py'"
      ]
     },
     "execution_count": 57,
     "metadata": {},
     "output_type": "execute_result"
    },
    {
     "data": {
      "text/plain": [
       "('D:\\\\Anaconda3.7\\\\lib', 'os.py')"
      ]
     },
     "execution_count": 57,
     "metadata": {},
     "output_type": "execute_result"
    },
    {
     "data": {
      "text/plain": [
       "('/usr/local', 'bin')"
      ]
     },
     "execution_count": 57,
     "metadata": {},
     "output_type": "execute_result"
    },
    {
     "data": {
      "text/plain": [
       "('/usr/local', 'bin')"
      ]
     },
     "execution_count": 57,
     "metadata": {},
     "output_type": "execute_result"
    },
    {
     "data": {
      "text/plain": [
       "('/usr/local/bin', '')"
      ]
     },
     "execution_count": 57,
     "metadata": {},
     "output_type": "execute_result"
    },
    {
     "name": "stdout",
     "output_type": "stream",
     "text": [
      "--------上面是拆目录，下面是拆路径名（文件名。拓展名）-----------\n"
     ]
    },
    {
     "data": {
      "text/plain": [
       "('D:\\\\Anaconda3.7\\\\lib\\\\os', '.py')"
      ]
     },
     "execution_count": 57,
     "metadata": {},
     "output_type": "execute_result"
    },
    {
     "data": {
      "text/plain": [
       "('os', '.py')"
      ]
     },
     "execution_count": 57,
     "metadata": {},
     "output_type": "execute_result"
    },
    {
     "data": {
      "text/plain": [
       "('os.py.tar', '.gz')"
      ]
     },
     "execution_count": 57,
     "metadata": {},
     "output_type": "execute_result"
    }
   ],
   "source": [
    "p\n",
    "os.path.split(p) # 在最后⼀个 / 处拆分路径\n",
    "os.path.split(r'/usr/local\\\\bin')\n",
    "os.path.split(r'/usr/local/bin')\n",
    "os.path.split('/usr/local/bin/')\n",
    "print('--------上面是拆目录，下面是拆路径名（文件名。拓展名）-----------')\n",
    "os.path.splitext(p) # 将路径 p 拆分为 ⽂件名 和 扩展名\n",
    "os.path.splitext('os.py') # ⽂件名最后⼀个 . 后⾯的字符为其 扩展名\n",
    "os.path.splitext('os.py.tar.gz')\n"
   ]
  },
  {
   "cell_type": "code",
   "execution_count": 58,
   "metadata": {},
   "outputs": [
    {
     "data": {
      "text/plain": [
       "('.bash_profile', '')"
      ]
     },
     "execution_count": 58,
     "metadata": {},
     "output_type": "execute_result"
    },
    {
     "data": {
      "text/plain": [
       "'C:\\\\Users\\\\MY\\\\量化学习\\\\.bash_profile'"
      ]
     },
     "execution_count": 58,
     "metadata": {},
     "output_type": "execute_result"
    },
    {
     "data": {
      "text/plain": [
       "'C:\\\\Users\\\\MY\\\\量化学习'"
      ]
     },
     "execution_count": 58,
     "metadata": {},
     "output_type": "execute_result"
    },
    {
     "data": {
      "text/plain": [
       "('.', '')"
      ]
     },
     "execution_count": 58,
     "metadata": {},
     "output_type": "execute_result"
    },
    {
     "name": "stdout",
     "output_type": "stream",
     "text": [
      "-------------------------------\n"
     ]
    },
    {
     "data": {
      "text/plain": [
       "'C:\\\\Users\\\\MY'"
      ]
     },
     "execution_count": 58,
     "metadata": {},
     "output_type": "execute_result"
    },
    {
     "data": {
      "text/plain": [
       "('..', '')"
      ]
     },
     "execution_count": 58,
     "metadata": {},
     "output_type": "execute_result"
    },
    {
     "data": {
      "text/plain": [
       "('/usr/local/bin', '')"
      ]
     },
     "execution_count": 58,
     "metadata": {},
     "output_type": "execute_result"
    }
   ],
   "source": [
    "os.path.splitext('.bash_profile') # 以 . 开头的⽂件名或⽬录名在 Unix 下代表隐藏⽂件\n",
    "os.path.abspath('.bash_profile') # 基于当前⼯作⽬录计算 相对路径 的 绝对路径\n",
    "os.path.abspath('.') # ⼀个点 . 在路径中代表 当前⽬录\n",
    "os.path.splitext('.')\n",
    "print('-------------------------------')\n",
    "os.path.abspath('..') # 两个点 .. 在路径中代表 上级⽬录\n",
    "os.path.splitext('..')\n",
    "os.path.splitext('/usr/local/bin')\n",
    "\n",
    "#help(os.path) # 浏览⽂档，查看全部路径操作函数\n",
    "#help(os) # 浏览⽂档，查看全部⽂件系统函数，包括创建⽬录、⽂件重命名、修改权限等"
   ]
  },
  {
   "cell_type": "markdown",
   "metadata": {},
   "source": [
    "### 20. 路径对象\n",
    "从 Python 3.4 版本起，Python 增加了⼀个新的标准库 pathlib ，提供了功能强⼤的 路径对象 (path\n",
    "object)，使得以往基于 os 和 os.path 标准库进⾏的以函数 (function) 调⽤ (call) 为主的操作，可以\n",
    "转为更直观的⾯向对象操作。下⾯简单举⼏个例⼦，更多的请⾃⾏⽤ help 查看⽂档。"
   ]
  },
  {
   "cell_type": "code",
   "execution_count": 59,
   "metadata": {},
   "outputs": [
    {
     "data": {
      "text/plain": [
       "'C:\\\\Users\\\\MY'"
      ]
     },
     "execution_count": 59,
     "metadata": {},
     "output_type": "execute_result"
    },
    {
     "data": {
      "text/plain": [
       "WindowsPath('week06')"
      ]
     },
     "execution_count": 59,
     "metadata": {},
     "output_type": "execute_result"
    },
    {
     "data": {
      "text/plain": [
       "False"
      ]
     },
     "execution_count": 59,
     "metadata": {},
     "output_type": "execute_result"
    }
   ],
   "source": [
    "import os\n",
    "import pathlib\n",
    "os.chdir(os.path.expanduser('~'))\n",
    "os.getcwd()\n",
    "p = pathlib.Path('week06') # 基于 相对路径 创建 路径对象 并使⽤名称 p 指向该对象\n",
    "p\n",
    "p.exists() # 判断路径 (⽬录或⽂件) 是否存在\n"
   ]
  },
  {
   "cell_type": "code",
   "execution_count": 60,
   "metadata": {
    "scrolled": true
   },
   "outputs": [
    {
     "data": {
      "text/plain": [
       "['.anaconda',\n",
       " '.android',\n",
       " '.astropy',\n",
       " '.bash_history',\n",
       " '.conda',\n",
       " '.condarc',\n",
       " '.config',\n",
       " '.ipynb_checkpoints',\n",
       " '.ipython',\n",
       " '.jupyter',\n",
       " '.matplotlib',\n",
       " '.oracle_jre_usage',\n",
       " '.Origin',\n",
       " '.PyCharm2017.1',\n",
       " '.QtWebEngineProcess',\n",
       " '.spss',\n",
       " '.spyder-py3',\n",
       " '3D Objects',\n",
       " 'AnacondaProjects',\n",
       " 'ansel',\n",
       " 'AppData',\n",
       " 'Application Data',\n",
       " 'Consolas.reg',\n",
       " 'Contacts',\n",
       " 'Cookies',\n",
       " 'Desktop',\n",
       " 'Documents',\n",
       " 'Downloads',\n",
       " 'Draft.ipynb',\n",
       " 'etc',\n",
       " 'Favorites',\n",
       " 'file.del.txt',\n",
       " 'file.del2.txt',\n",
       " 'Flash Center',\n",
       " 'For change',\n",
       " 'For change crawler',\n",
       " 'Funshion',\n",
       " 'inittk.ini',\n",
       " 'inst.ini',\n",
       " 'IntelGraphicsProfiles',\n",
       " 'license.dat',\n",
       " 'Links',\n",
       " 'Local Settings',\n",
       " 'MicrosoftEdgeBackups',\n",
       " 'Music',\n",
       " 'My Documents',\n",
       " 'NetHood',\n",
       " 'NTUSER.DAT',\n",
       " 'ntuser.dat.LOG1',\n",
       " 'ntuser.dat.LOG2',\n",
       " 'NTUSER.DAT{47690995-c332-11e9-b646-d36205888d4c}.TM.blf',\n",
       " 'NTUSER.DAT{47690995-c332-11e9-b646-d36205888d4c}.TMContainer00000000000000000001.regtrans-ms',\n",
       " 'NTUSER.DAT{47690995-c332-11e9-b646-d36205888d4c}.TMContainer00000000000000000002.regtrans-ms',\n",
       " 'ntuser.ini',\n",
       " 'ntuser.pol',\n",
       " 'nuuid.ini',\n",
       " 'OneDrive',\n",
       " 'Pictures',\n",
       " 'PrintHood',\n",
       " 'pystudy',\n",
       " 'python题库整理',\n",
       " 'QuantEcon.py',\n",
       " 'Recent',\n",
       " 'Roaming',\n",
       " 'Saved Games',\n",
       " 'Searches',\n",
       " 'SendTo',\n",
       " 'shipin7_update_temp',\n",
       " 'skb.kc',\n",
       " 'status_check_temp',\n",
       " 'stock_test',\n",
       " 'Templates',\n",
       " 'UIDowner',\n",
       " 'Videos',\n",
       " 'Wind change',\n",
       " 'Wind change  crawler',\n",
       " '「开始」菜单',\n",
       " '量化学习']"
      ]
     },
     "execution_count": 60,
     "metadata": {},
     "output_type": "execute_result"
    }
   ],
   "source": [
    "#p.rmdir()\n",
    "#p.mkdir() # 创建⽬录\n",
    "os.listdir()\n"
   ]
  },
  {
   "cell_type": "code",
   "execution_count": 61,
   "metadata": {},
   "outputs": [
    {
     "data": {
      "text/plain": [
       "['.Origin',\n",
       " '.PyCharm2017.1',\n",
       " '.QtWebEngineProcess',\n",
       " '.anaconda',\n",
       " '.android',\n",
       " '.astropy',\n",
       " '.bash_history',\n",
       " '.conda',\n",
       " '.condarc',\n",
       " '.config',\n",
       " '.ipynb_checkpoints',\n",
       " '.ipython',\n",
       " '.jupyter',\n",
       " '.matplotlib',\n",
       " '.oracle_jre_usage',\n",
       " '.spss',\n",
       " '.spyder-py3',\n",
       " '3D Objects',\n",
       " 'AnacondaProjects',\n",
       " 'AppData',\n",
       " 'Application Data',\n",
       " 'Consolas.reg',\n",
       " 'Contacts',\n",
       " 'Cookies',\n",
       " 'Desktop',\n",
       " 'Documents',\n",
       " 'Downloads',\n",
       " 'Draft.ipynb',\n",
       " 'Favorites',\n",
       " 'Flash Center',\n",
       " 'For change',\n",
       " 'For change crawler',\n",
       " 'Funshion',\n",
       " 'IntelGraphicsProfiles',\n",
       " 'Links',\n",
       " 'Local Settings',\n",
       " 'MicrosoftEdgeBackups',\n",
       " 'Music',\n",
       " 'My Documents',\n",
       " 'NTUSER.DAT',\n",
       " 'NTUSER.DAT{47690995-c332-11e9-b646-d36205888d4c}.TM.blf',\n",
       " 'NTUSER.DAT{47690995-c332-11e9-b646-d36205888d4c}.TMContainer00000000000000000001.regtrans-ms',\n",
       " 'NTUSER.DAT{47690995-c332-11e9-b646-d36205888d4c}.TMContainer00000000000000000002.regtrans-ms',\n",
       " 'NetHood',\n",
       " 'OneDrive',\n",
       " 'Pictures',\n",
       " 'PrintHood',\n",
       " 'QuantEcon.py',\n",
       " 'Recent',\n",
       " 'Roaming',\n",
       " 'Saved Games',\n",
       " 'Searches',\n",
       " 'SendTo',\n",
       " 'Templates',\n",
       " 'UIDowner',\n",
       " 'Videos',\n",
       " 'Wind change',\n",
       " 'Wind change  crawler',\n",
       " 'ansel',\n",
       " 'etc',\n",
       " 'file.del.txt',\n",
       " 'file.del2.txt',\n",
       " 'inittk.ini',\n",
       " 'inst.ini',\n",
       " 'license.dat',\n",
       " 'ntuser.dat.LOG1',\n",
       " 'ntuser.dat.LOG2',\n",
       " 'ntuser.ini',\n",
       " 'ntuser.pol',\n",
       " 'nuuid.ini',\n",
       " 'pystudy',\n",
       " 'python题库整理',\n",
       " 'shipin7_update_temp',\n",
       " 'skb.kc',\n",
       " 'status_check_temp',\n",
       " 'stock_test',\n",
       " '「开始」菜单',\n",
       " '量化学习']"
      ]
     },
     "execution_count": 61,
     "metadata": {},
     "output_type": "execute_result"
    },
    {
     "data": {
      "text/plain": [
       "WindowsPath('C:/Users/MY/week06')"
      ]
     },
     "execution_count": 61,
     "metadata": {},
     "output_type": "execute_result"
    },
    {
     "data": {
      "text/plain": [
       "WindowsPath('week06')"
      ]
     },
     "execution_count": 61,
     "metadata": {},
     "output_type": "execute_result"
    }
   ],
   "source": [
    "sorted(os.listdir('.')) # 检查 week06 ⽬录确实已被创建\n",
    "p.absolute() # 计算 p 的绝对路径\n",
    "p # p 被指定的是相对路径\n"
   ]
  },
  {
   "cell_type": "code",
   "execution_count": 62,
   "metadata": {},
   "outputs": [
    {
     "data": {
      "text/plain": [
       "WindowsPath('week06')"
      ]
     },
     "execution_count": 62,
     "metadata": {},
     "output_type": "execute_result"
    },
    {
     "data": {
      "text/plain": [
       "WindowsPath('week06/file1.txt')"
      ]
     },
     "execution_count": 62,
     "metadata": {},
     "output_type": "execute_result"
    },
    {
     "data": {
      "text/plain": [
       "6"
      ]
     },
     "execution_count": 62,
     "metadata": {},
     "output_type": "execute_result"
    }
   ],
   "source": [
    "p\n",
    "p.mkdir()\n",
    "fp = p / 'file1.txt' # ⽤ / 运算符可以⽅便地连接路径，⽣成新的路径对象\n",
    "fp # 查看 f 路径对象及其相对路径\n",
    "f = fp.open(mode='w', encoding='gbk', newline='\\r\\n') # 创建⼀个只写模式的⽂件对象\n",
    "f.write('你好\\n欢迎\\n') # 写⼊字符串\n",
    "f.close() # 关闭⽂件，写⼊磁盘，释放资源\n"
   ]
  },
  {
   "cell_type": "code",
   "execution_count": 63,
   "metadata": {
    "scrolled": true
   },
   "outputs": [
    {
     "data": {
      "text/plain": [
       "'C:\\\\Users\\\\MY'"
      ]
     },
     "execution_count": 63,
     "metadata": {},
     "output_type": "execute_result"
    },
    {
     "data": {
      "text/plain": [
       "'你好\\n欢迎\\n'"
      ]
     },
     "execution_count": 63,
     "metadata": {},
     "output_type": "execute_result"
    },
    {
     "ename": "FileExistsError",
     "evalue": "[WinError 183] 当文件已存在时，无法创建该文件。: 'week06\\\\file1.txt' -> 'file.del2.txt'",
     "output_type": "error",
     "traceback": [
      "\u001b[1;31m---------------------------------------------------------------------------\u001b[0m",
      "\u001b[1;31mFileExistsError\u001b[0m                           Traceback (most recent call last)",
      "\u001b[1;32m<ipython-input-63-4a050032bccf>\u001b[0m in \u001b[0;36m<module>\u001b[1;34m\u001b[0m\n\u001b[0;32m      1\u001b[0m \u001b[0mos\u001b[0m\u001b[1;33m.\u001b[0m\u001b[0mgetcwd\u001b[0m\u001b[1;33m(\u001b[0m\u001b[1;33m)\u001b[0m\u001b[1;33m\u001b[0m\u001b[1;33m\u001b[0m\u001b[0m\n\u001b[0;32m      2\u001b[0m \u001b[0mfp\u001b[0m\u001b[1;33m.\u001b[0m\u001b[0mread_text\u001b[0m\u001b[1;33m(\u001b[0m\u001b[0mencoding\u001b[0m\u001b[1;33m=\u001b[0m\u001b[1;34m'gbk'\u001b[0m\u001b[1;33m)\u001b[0m \u001b[1;31m# 调⽤ read_text ⽅法直接以通⽤换⾏符模式读取⽂本，省去打开关闭步骤\u001b[0m\u001b[1;33m\u001b[0m\u001b[1;33m\u001b[0m\u001b[0m\n\u001b[1;32m----> 3\u001b[1;33m \u001b[0mfp\u001b[0m\u001b[1;33m.\u001b[0m\u001b[0mrename\u001b[0m\u001b[1;33m(\u001b[0m\u001b[1;34m'file.del2.txt'\u001b[0m\u001b[1;33m)\u001b[0m \u001b[1;31m# 调⽤ rename ⽅法直接将⽂件重命名\u001b[0m\u001b[1;33m\u001b[0m\u001b[1;33m\u001b[0m\u001b[0m\n\u001b[0m\u001b[0;32m      4\u001b[0m \u001b[0mfp\u001b[0m \u001b[1;31m# 注意 fp 的相对路径并没有跟随改变\u001b[0m\u001b[1;33m\u001b[0m\u001b[1;33m\u001b[0m\u001b[0m\n\u001b[0;32m      5\u001b[0m \u001b[0mfp\u001b[0m\u001b[1;33m.\u001b[0m\u001b[0mexists\u001b[0m\u001b[1;33m(\u001b[0m\u001b[1;33m)\u001b[0m \u001b[1;31m# fp 对象指向的⽂件已不存在\u001b[0m\u001b[1;33m\u001b[0m\u001b[1;33m\u001b[0m\u001b[0m\n",
      "\u001b[1;32mD:\\Anaconda3.7\\lib\\pathlib.py\u001b[0m in \u001b[0;36mrename\u001b[1;34m(self, target)\u001b[0m\n\u001b[0;32m   1327\u001b[0m         \u001b[1;32mif\u001b[0m \u001b[0mself\u001b[0m\u001b[1;33m.\u001b[0m\u001b[0m_closed\u001b[0m\u001b[1;33m:\u001b[0m\u001b[1;33m\u001b[0m\u001b[1;33m\u001b[0m\u001b[0m\n\u001b[0;32m   1328\u001b[0m             \u001b[0mself\u001b[0m\u001b[1;33m.\u001b[0m\u001b[0m_raise_closed\u001b[0m\u001b[1;33m(\u001b[0m\u001b[1;33m)\u001b[0m\u001b[1;33m\u001b[0m\u001b[1;33m\u001b[0m\u001b[0m\n\u001b[1;32m-> 1329\u001b[1;33m         \u001b[0mself\u001b[0m\u001b[1;33m.\u001b[0m\u001b[0m_accessor\u001b[0m\u001b[1;33m.\u001b[0m\u001b[0mrename\u001b[0m\u001b[1;33m(\u001b[0m\u001b[0mself\u001b[0m\u001b[1;33m,\u001b[0m \u001b[0mtarget\u001b[0m\u001b[1;33m)\u001b[0m\u001b[1;33m\u001b[0m\u001b[1;33m\u001b[0m\u001b[0m\n\u001b[0m\u001b[0;32m   1330\u001b[0m \u001b[1;33m\u001b[0m\u001b[0m\n\u001b[0;32m   1331\u001b[0m     \u001b[1;32mdef\u001b[0m \u001b[0mreplace\u001b[0m\u001b[1;33m(\u001b[0m\u001b[0mself\u001b[0m\u001b[1;33m,\u001b[0m \u001b[0mtarget\u001b[0m\u001b[1;33m)\u001b[0m\u001b[1;33m:\u001b[0m\u001b[1;33m\u001b[0m\u001b[1;33m\u001b[0m\u001b[0m\n",
      "\u001b[1;31mFileExistsError\u001b[0m: [WinError 183] 当文件已存在时，无法创建该文件。: 'week06\\\\file1.txt' -> 'file.del2.txt'"
     ]
    }
   ],
   "source": [
    "os.getcwd()\n",
    "fp.read_text(encoding='gbk') # 调⽤ read_text ⽅法直接以通⽤换⾏符模式读取⽂本，省去打开关闭步骤\n",
    "fp.rename('file.del2.txt') # 调⽤ rename ⽅法直接将⽂件重命名\n",
    "fp # 注意 fp 的相对路径并没有跟随改变\n",
    "fp.exists() # fp 对象指向的⽂件已不存在\n",
    "list(p.iterdir()) # p 所指的 week06 ⽬录下并不存在 file.del.txt ⽂件\n"
   ]
  },
  {
   "cell_type": "code",
   "execution_count": null,
   "metadata": {
    "scrolled": true
   },
   "outputs": [],
   "source": [
    "import os\n",
    "os.getcwd()\n",
    "os.listdir() # 注意在当前⼯作⽬录下找到了 file.del.txt ⽂件，这是因为传给rename ⽅法的 相对路径"
   ]
  },
  {
   "cell_type": "markdown",
   "metadata": {},
   "source": [
    "## 21.⾃测题\n",
    "### <font color = red>21.1 简答题\n",
    "请简述 open 函数具有哪些形参 (parameter)，各个形参 (parameter) 什么含义，分别代表什么功能。"
   ]
  },
  {
   "cell_type": "markdown",
   "metadata": {},
   "source": [
    "[open 函数各个形参 (parameter) 什么含义](https://jingyan.baidu.com/article/fec7a1e55304975190b4e799.html)"
   ]
  },
  {
   "cell_type": "code",
   "execution_count": 64,
   "metadata": {},
   "outputs": [
    {
     "data": {
      "text/plain": [
       "<Signature (file, mode='r', buffering=-1, encoding=None, errors=None, newline=None, closefd=True, opener=None)>"
      ]
     },
     "execution_count": 64,
     "metadata": {},
     "output_type": "execute_result"
    }
   ],
   "source": [
    "import inspect\n",
    "inspect.signature(open)"
   ]
  },
  {
   "cell_type": "markdown",
   "metadata": {},
   "source": [
    "有\n",
    "1. file\n",
    "2. mode        #='r'\n",
    "3. buffering        #=-1\n",
    "4. encoding        #=None\n",
    "5. errors        #=None\n",
    "6. newline        #=None\n",
    "7. closefd        #=True\n",
    "8. opener=        #None\n",
    "这几个形参"
   ]
  },
  {
   "cell_type": "markdown",
   "metadata": {},
   "source": [
    "- 1.file\n",
    "\n",
    "调⽤ (call) open 函数 (function) ⾄少 需要给形参 (parameter)` file` 传递⼀个字符串 (str) 实例\n",
    "(instance) 作为实参 (argument)，⽤来指定需要打开的⽂件 (file) 的路径 (path)："
   ]
  },
  {
   "cell_type": "markdown",
   "metadata": {},
   "source": [
    "- 2.mode\n",
    "\n",
    "调⽤ (call) open 函数 (function) 创建⽂件对象 (file object) 时，可以 给形参 (parameter) mode 传递\n",
    "⼀个字符串 (str) 实例 (instance) 作为实参 (argument)，⽤来指定打开⽂件 (file) 的 模式 (mode)。r(t/r+/rb/r+b 是r（读写及其拓展形式）；w(t)/w+/wb/w+b,主要是w（写及其拓展形式）;x/xt以理解是是w/wt的保险模式，不会直接删除覆盖读取的file;a(t)/ab是append追加模式和二进制追加模式\n",
    "\n",
    "其中，以'r'只读模式打开文件的mode可以省略"
   ]
  },
  {
   "cell_type": "markdown",
   "metadata": {},
   "source": [
    "##### 个人理解"
   ]
  },
  {
   "cell_type": "markdown",
   "metadata": {},
   "source": [
    "###### 1. 动作：\n",
    "\n",
    "- 'r'：只读模式（默认）；\n",
    "\n",
    "- 'w'：写模式；\n",
    "\n",
    "- 'a'：追加写入模式;\n",
    "\n",
    "###### 2. 文件模式：\n",
    "\n",
    "- 'b'：二进制模式;\n",
    "\n",
    "- 't'：文本模式（默认）;\n",
    "\n",
    "- '+'：更新磁盘文件（读取并写入）\n",
    "\n",
    "模式=动作+文件模式"
   ]
  },
  {
   "cell_type": "markdown",
   "metadata": {},
   "source": [
    "- 3.buffering: 设置缓冲（不影响结果）"
   ]
  },
  {
   "cell_type": "markdown",
   "metadata": {},
   "source": [
    "- 4 .encoding: 解码或编码文件的编码的名称，仅适用于文本文件"
   ]
  },
  {
   "cell_type": "markdown",
   "metadata": {},
   "source": [
    "字符编码 (character encoding) ⽤来将⽂本 (str) 编码 (encode) 成字节串 (bytes)，或者将字节串\n",
    "(bytes) 解码 (decode) 成⽂本 (str)。由于磁盘⽂件 (disk file) 以字节串 (bytes) 形式存储信息，⽂本\n",
    "(text) 模式 (mode) 的⽂件对象 (file object) 在创建时就需要通过形参 (parameter) encoding 指定字符\n",
    "编码 (character encoding),来将保存在磁盘文件里面的信息转化为我们想看到的形式的信息。\n",
    "\n",
    "Python 默认的 (default) 字符编码 (character encoding) 是 utf-8 。"
   ]
  },
  {
   "cell_type": "markdown",
   "metadata": {},
   "source": [
    "- 5.errors: 指明编码和解码错误时怎么样处理，适用于文本模式"
   ]
  },
  {
   "cell_type": "markdown",
   "metadata": {},
   "source": [
    "如果在读取 (read) 或写⼊ (write) 时希望忽略可能出现的编码 (encode) 解码 (decode) 错误，可以给\n",
    "open 函数的 errors 形参 (parameter) 传递字符串 'ignore' 作为实参 (argument)。"
   ]
  },
  {
   "cell_type": "markdown",
   "metadata": {},
   "source": [
    "f = open('file6.txt', errors='ignore')"
   ]
  },
  {
   "cell_type": "markdown",
   "metadata": {},
   "source": [
    "1）errors=strict，编码出错则抛出异常ValueError。同等于默认errors=None;\n",
    "\n",
    "2）errors=ignore，忽略错误。\n",
    "\n",
    "3）errors=replace，替代模式，比如使用“？’来替换出错的地方。"
   ]
  },
  {
   "cell_type": "markdown",
   "metadata": {},
   "source": [
    "- 6.newline"
   ]
  },
  {
   "cell_type": "markdown",
   "metadata": {},
   "source": [
    "newline: 文本模式之下，设置一行的结束字符"
   ]
  },
  {
   "cell_type": "markdown",
   "metadata": {},
   "source": [
    "Python对Unix 的换行符 `'\\n'` 、Windows 的换行符` '\\r\\n'` 和Mac OS X 以前的旧Mac 操作系统的 换行符`'\\r'` 采取了 通⽤换⾏符 (universal newline) 的替代。默认情况下，在读取(read) ⽂本时，` '\\n' 、'\\r' 、'\\r\\n' `都会被⾃动转换为` \\n `，在写⼊ (write) ⽂本时， `\\n` 字符会被转换为当前操作系统默认的换⾏符。"
   ]
  },
  {
   "cell_type": "markdown",
   "metadata": {},
   "source": [
    "关闭 通⽤换⾏符 (universal newline) 功能，即在读取 (read) 或写⼊ (write) ⽂本时不希望换\n",
    "⾏符被⾃动转换，则应在调⽤ open 函数时给newline 传递空字符串 '' 作为实参\n",
    "(argument)。"
   ]
  },
  {
   "cell_type": "markdown",
   "metadata": {},
   "source": [
    "- 7.closefd: 传入的file参数类型。"
   ]
  },
  {
   "cell_type": "markdown",
   "metadata": {},
   "source": [
    "参数closefd：关闭文件描述符，True表示关闭。默认True，必须时True，否则报错。"
   ]
  },
  {
   "cell_type": "markdown",
   "metadata": {},
   "source": [
    "- 8.opener: 自定义打开文件方式(使用默认None)"
   ]
  },
  {
   "cell_type": "markdown",
   "metadata": {},
   "source": [
    "### <font color = red>21.2 简答题\n",
    "请简述 open 函数⽀持哪些模式 (mode)，并讨论他们之间的区别。"
   ]
  },
  {
   "cell_type": "markdown",
   "metadata": {},
   "source": [
    "简单来说， 'r' 代表 “只读”， 'w' 代表 “删除只写”， 'x' 代表 “创建只写”， 'a' 代表 “追加只\n",
    "写”， 'r+' 代表 “可读可写”， 'w+' 代表 “删除读写”， 't' 代表 “⽂本” (默认值，可省略)， 'b' 代表\n",
    "\"⼆进制"
   ]
  },
  {
   "cell_type": "markdown",
   "metadata": {},
   "source": [
    "#### 个人总结"
   ]
  },
  {
   "cell_type": "markdown",
   "metadata": {},
   "source": [
    "r只能读取open的file，w可以创造和覆盖写入file，但是不可以读取文件（无法read）；\n",
    "\n",
    "r+可以同时读取 (read) 和写⼊ (write) 的情形，即r+模式下可以file.write()而r不可以，但是一般很少见，因为一般修改已有文件是分成读取文字、修改文字和写入文字三步骤，不需要同时读写。\n",
    "r/r+都无法创建文件，所以必须要先有file存在才能操作\n",
    "\n",
    "w模式可以创建文件，并且可以写入write内容，但是会覆盖文件\n",
    "w+是w的拓展，可以write内容的同时写入文件，同样一般很少用\n",
    "\n",
    "x/x+是w/w+的保险模式，不会覆盖已存在文件\n",
    "\n",
    "a模式也无法读取文本，但是可以创建文本，写入上只能追加;a+可以读取文本，但是a/a+都只能从文本末尾开始写入内容，其他的模式都是从文本初始位置开始作用，a/a+是从文本末尾开始作用（添加）\n",
    "\n",
    "经过测试，r+相对于w+少了至少有“创建新文件”这个功能，其他功能应该相似；而a+和r+/w+至少在作用位置上有本质区别\n",
    "\n",
    "r+b/w+b是r+/b+读写二进制内容时候的模式，xb是x的读取二进制内容的模式"
   ]
  },
  {
   "cell_type": "markdown",
   "metadata": {},
   "source": [
    "### 21.3 简答题\n",
    "请写代码，打开并读取 os 模块的源代码，并将其显示在终端上。"
   ]
  },
  {
   "cell_type": "code",
   "execution_count": 65,
   "metadata": {},
   "outputs": [
    {
     "name": "stdout",
     "output_type": "stream",
     "text": [
      "D:\\Anaconda3.7\\lib\\os.py\n",
      "r\"\"\"OS routines for NT or Posix depending on what system we're on.\n",
      "\n",
      "This exports:\n",
      "  - all functions from posix or nt, e.g. unlink, stat, etc.\n",
      "  - os.path is either posixpath or ntpath\n",
      "  - os.name is either 'posix' or 'nt'\n",
      "  - os.curdir is a string representing the current directory (always '.')\n",
      "  - os.pardir is a string representing the parent directory (always '..')\n",
      "  - os.sep is the (or a most common) pathname separator ('/' or '\\\\')\n",
      "  - os.extsep is the extension separator (always '.')\n",
      "  - os.altsep is the alternate pathname separator (None or '/')\n",
      "  - os.pathsep is the component separator used in $PATH etc\n",
      "  - os.linesep is the line separator in text files ('\\r' or '\\n' or '\\r\\n')\n",
      "  - os.defpath is the default search path for executables\n",
      "  - os.devnull is the file path of the null device ('/dev/null', etc.)\n",
      "\n",
      "Programs that import and use 'os' stand a better chance of being\n",
      "portable between different platforms.  Of course, they must then\n",
      "only use functions that are defined by all platforms (e.g., unlink\n",
      "and opendir), and leave all pathname manipulation to os.path\n",
      "(e.g., split and join).\n",
      "\"\"\"\n",
      "\n",
      "#'\n",
      "import abc\n",
      "import sys\n",
      "import stat as st\n",
      "\n",
      "_names = sys.builtin_module_names\n",
      "\n",
      "# Note:  more names are added to __all__ later.\n",
      "__all__ = [\"altsep\", \"curdir\", \"pardir\", \"sep\", \"pathsep\", \"linesep\",\n",
      "           \"defpath\", \"name\", \"path\", \"devnull\", \"SEEK_SET\", \"SEEK_CUR\",\n",
      "           \"SEEK_END\", \"fsencode\", \"fsdecode\", \"get_exec_path\", \"fdopen\",\n",
      "           \"popen\", \"extsep\"]\n",
      "\n",
      "def _exists(name):\n",
      "    return name in globals()\n",
      "\n",
      "def _get_exports_list(module):\n",
      "    try:\n",
      "        return list(module.__all__)\n",
      "    except AttributeError:\n",
      "        return [n for n in dir(module) if n[0] != '_']\n",
      "\n",
      "# Any new dependencies of the os module and/or changes in path separator\n",
      "# requires updating importlib as well.\n",
      "if 'posix' in _names:\n",
      "    name = 'posix'\n",
      "    linesep = '\\n'\n",
      "    from posix import *\n",
      "    try:\n",
      "        from posix import _exit\n",
      "        __all__.append('_exit')\n",
      "    except ImportError:\n",
      "        pass\n",
      "    import posixpath as path\n",
      "\n",
      "    try:\n",
      "        from posix import _have_functions\n",
      "    except ImportError:\n",
      "        pass\n",
      "\n",
      "    import posix\n",
      "    __all__.extend(_get_exports_list(posix))\n",
      "    del posix\n",
      "\n",
      "elif 'nt' in _names:\n",
      "    name = 'nt'\n",
      "    linesep = '\\r\\n'\n",
      "    from nt import *\n",
      "    try:\n",
      "        from nt import _exit\n",
      "        __all__.append('_exit')\n",
      "    except ImportError:\n",
      "        pass\n",
      "    import ntpath as path\n",
      "\n",
      "    import nt\n",
      "    __all__.extend(_get_exports_list(nt))\n",
      "    del nt\n",
      "\n",
      "    try:\n",
      "        from nt import _have_functions\n",
      "    except ImportError:\n",
      "        pass\n",
      "\n",
      "else:\n",
      "    raise ImportError('no os specific module found')\n",
      "\n",
      "sys.modules['os.path'] = path\n",
      "from os.path import (curdir, pardir, sep, pathsep, defpath, extsep, altsep,\n",
      "    devnull)\n",
      "\n",
      "del _names\n",
      "\n",
      "\n",
      "if _exists(\"_have_functions\"):\n",
      "    _globals = globals()\n",
      "    def _add(str, fn):\n",
      "        if (fn in _globals) and (str in _have_functions):\n",
      "            _set.add(_globals[fn])\n",
      "\n",
      "    _set = set()\n",
      "    _add(\"HAVE_FACCESSAT\",  \"access\")\n",
      "    _add(\"HAVE_FCHMODAT\",   \"chmod\")\n",
      "    _add(\"HAVE_FCHOWNAT\",   \"chown\")\n",
      "    _add(\"HAVE_FSTATAT\",    \"stat\")\n",
      "    _add(\"HAVE_FUTIMESAT\",  \"utime\")\n",
      "    _add(\"HAVE_LINKAT\",     \"link\")\n",
      "    _add(\"HAVE_MKDIRAT\",    \"mkdir\")\n",
      "    _add(\"HAVE_MKFIFOAT\",   \"mkfifo\")\n",
      "    _add(\"HAVE_MKNODAT\",    \"mknod\")\n",
      "    _add(\"HAVE_OPENAT\",     \"open\")\n",
      "    _add(\"HAVE_READLINKAT\", \"readlink\")\n",
      "    _add(\"HAVE_RENAMEAT\",   \"rename\")\n",
      "    _add(\"HAVE_SYMLINKAT\",  \"symlink\")\n",
      "    _add(\"HAVE_UNLINKAT\",   \"unlink\")\n",
      "    _add(\"HAVE_UNLINKAT\",   \"rmdir\")\n",
      "    _add(\"HAVE_UTIMENSAT\",  \"utime\")\n",
      "    supports_dir_fd = _set\n",
      "\n",
      "    _set = set()\n",
      "    _add(\"HAVE_FACCESSAT\",  \"access\")\n",
      "    supports_effective_ids = _set\n",
      "\n",
      "    _set = set()\n",
      "    _add(\"HAVE_FCHDIR\",     \"chdir\")\n",
      "    _add(\"HAVE_FCHMOD\",     \"chmod\")\n",
      "    _add(\"HAVE_FCHOWN\",     \"chown\")\n",
      "    _add(\"HAVE_FDOPENDIR\",  \"listdir\")\n",
      "    _add(\"HAVE_FDOPENDIR\",  \"scandir\")\n",
      "    _add(\"HAVE_FEXECVE\",    \"execve\")\n",
      "    _set.add(stat) # fstat always works\n",
      "    _add(\"HAVE_FTRUNCATE\",  \"truncate\")\n",
      "    _add(\"HAVE_FUTIMENS\",   \"utime\")\n",
      "    _add(\"HAVE_FUTIMES\",    \"utime\")\n",
      "    _add(\"HAVE_FPATHCONF\",  \"pathconf\")\n",
      "    if _exists(\"statvfs\") and _exists(\"fstatvfs\"): # mac os x10.3\n",
      "        _add(\"HAVE_FSTATVFS\", \"statvfs\")\n",
      "    supports_fd = _set\n",
      "\n",
      "    _set = set()\n",
      "    _add(\"HAVE_FACCESSAT\",  \"access\")\n",
      "    # Some platforms don't support lchmod().  Often the function exists\n",
      "    # anyway, as a stub that always returns ENOSUP or perhaps EOPNOTSUPP.\n",
      "    # (No, I don't know why that's a good design.)  ./configure will detect\n",
      "    # this and reject it--so HAVE_LCHMOD still won't be defined on such\n",
      "    # platforms.  This is Very Helpful.\n",
      "    #\n",
      "    # However, sometimes platforms without a working lchmod() *do* have\n",
      "    # fchmodat().  (Examples: Linux kernel 3.2 with glibc 2.15,\n",
      "    # OpenIndiana 3.x.)  And fchmodat() has a flag that theoretically makes\n",
      "    # it behave like lchmod().  So in theory it would be a suitable\n",
      "    # replacement for lchmod().  But when lchmod() doesn't work, fchmodat()'s\n",
      "    # flag doesn't work *either*.  Sadly ./configure isn't sophisticated\n",
      "    # enough to detect this condition--it only determines whether or not\n",
      "    # fchmodat() minimally works.\n",
      "    #\n",
      "    # Therefore we simply ignore fchmodat() when deciding whether or not\n",
      "    # os.chmod supports follow_symlinks.  Just checking lchmod() is\n",
      "    # sufficient.  After all--if you have a working fchmodat(), your\n",
      "    # lchmod() almost certainly works too.\n",
      "    #\n",
      "    # _add(\"HAVE_FCHMODAT\",   \"chmod\")\n",
      "    _add(\"HAVE_FCHOWNAT\",   \"chown\")\n",
      "    _add(\"HAVE_FSTATAT\",    \"stat\")\n",
      "    _add(\"HAVE_LCHFLAGS\",   \"chflags\")\n",
      "    _add(\"HAVE_LCHMOD\",     \"chmod\")\n",
      "    if _exists(\"lchown\"): # mac os x10.3\n",
      "        _add(\"HAVE_LCHOWN\", \"chown\")\n",
      "    _add(\"HAVE_LINKAT\",     \"link\")\n",
      "    _add(\"HAVE_LUTIMES\",    \"utime\")\n",
      "    _add(\"HAVE_LSTAT\",      \"stat\")\n",
      "    _add(\"HAVE_FSTATAT\",    \"stat\")\n",
      "    _add(\"HAVE_UTIMENSAT\",  \"utime\")\n",
      "    _add(\"MS_WINDOWS\",      \"stat\")\n",
      "    supports_follow_symlinks = _set\n",
      "\n",
      "    del _set\n",
      "    del _have_functions\n",
      "    del _globals\n",
      "    del _add\n",
      "\n",
      "\n",
      "# Python uses fixed values for the SEEK_ constants; they are mapped\n",
      "# to native constants if necessary in posixmodule.c\n",
      "# Other possible SEEK values are directly imported from posixmodule.c\n",
      "SEEK_SET = 0\n",
      "SEEK_CUR = 1\n",
      "SEEK_END = 2\n",
      "\n",
      "# Super directory utilities.\n",
      "# (Inspired by Eric Raymond; the doc strings are mostly his)\n",
      "\n",
      "def makedirs(name, mode=0o777, exist_ok=False):\n",
      "    \"\"\"makedirs(name [, mode=0o777][, exist_ok=False])\n",
      "\n",
      "    Super-mkdir; create a leaf directory and all intermediate ones.  Works like\n",
      "    mkdir, except that any intermediate path segment (not just the rightmost)\n",
      "    will be created if it does not exist. If the target directory already\n",
      "    exists, raise an OSError if exist_ok is False. Otherwise no exception is\n",
      "    raised.  This is recursive.\n",
      "\n",
      "    \"\"\"\n",
      "    head, tail = path.split(name)\n",
      "    if not tail:\n",
      "        head, tail = path.split(head)\n",
      "    if head and tail and not path.exists(head):\n",
      "        try:\n",
      "            makedirs(head, exist_ok=exist_ok)\n",
      "        except FileExistsError:\n",
      "            # Defeats race condition when another thread created the path\n",
      "            pass\n",
      "        cdir = curdir\n",
      "        if isinstance(tail, bytes):\n",
      "            cdir = bytes(curdir, 'ASCII')\n",
      "        if tail == cdir:           # xxx/newdir/. exists if xxx/newdir exists\n",
      "            return\n",
      "    try:\n",
      "        mkdir(name, mode)\n",
      "    except OSError:\n",
      "        # Cannot rely on checking for EEXIST, since the operating system\n",
      "        # could give priority to other errors like EACCES or EROFS\n",
      "        if not exist_ok or not path.isdir(name):\n",
      "            raise\n",
      "\n",
      "def removedirs(name):\n",
      "    \"\"\"removedirs(name)\n",
      "\n",
      "    Super-rmdir; remove a leaf directory and all empty intermediate\n",
      "    ones.  Works like rmdir except that, if the leaf directory is\n",
      "    successfully removed, directories corresponding to rightmost path\n",
      "    segments will be pruned away until either the whole path is\n",
      "    consumed or an error occurs.  Errors during this latter phase are\n",
      "    ignored -- they generally mean that a directory was not empty.\n",
      "\n",
      "    \"\"\"\n",
      "    rmdir(name)\n",
      "    head, tail = path.split(name)\n",
      "    if not tail:\n",
      "        head, tail = path.split(head)\n",
      "    while head and tail:\n",
      "        try:\n",
      "            rmdir(head)\n",
      "        except OSError:\n",
      "            break\n",
      "        head, tail = path.split(head)\n",
      "\n",
      "def renames(old, new):\n",
      "    \"\"\"renames(old, new)\n",
      "\n",
      "    Super-rename; create directories as necessary and delete any left\n",
      "    empty.  Works like rename, except creation of any intermediate\n",
      "    directories needed to make the new pathname good is attempted\n",
      "    first.  After the rename, directories corresponding to rightmost\n",
      "    path segments of the old name will be pruned until either the\n",
      "    whole path is consumed or a nonempty directory is found.\n",
      "\n",
      "    Note: this function can fail with the new directory structure made\n",
      "    if you lack permissions needed to unlink the leaf directory or\n",
      "    file.\n",
      "\n",
      "    \"\"\"\n",
      "    head, tail = path.split(new)\n",
      "    if head and tail and not path.exists(head):\n",
      "        makedirs(head)\n",
      "    rename(old, new)\n",
      "    head, tail = path.split(old)\n",
      "    if head and tail:\n",
      "        try:\n",
      "            removedirs(head)\n",
      "        except OSError:\n",
      "            pass\n",
      "\n",
      "__all__.extend([\"makedirs\", \"removedirs\", \"renames\"])\n",
      "\n",
      "def walk(top, topdown=True, onerror=None, followlinks=False):\n",
      "    \"\"\"Directory tree generator.\n",
      "\n",
      "    For each directory in the directory tree rooted at top (including top\n",
      "    itself, but excluding '.' and '..'), yields a 3-tuple\n",
      "\n",
      "        dirpath, dirnames, filenames\n",
      "\n",
      "    dirpath is a string, the path to the directory.  dirnames is a list of\n",
      "    the names of the subdirectories in dirpath (excluding '.' and '..').\n",
      "    filenames is a list of the names of the non-directory files in dirpath.\n",
      "    Note that the names in the lists are just names, with no path components.\n",
      "    To get a full path (which begins with top) to a file or directory in\n",
      "    dirpath, do os.path.join(dirpath, name).\n",
      "\n",
      "    If optional arg 'topdown' is true or not specified, the triple for a\n",
      "    directory is generated before the triples for any of its subdirectories\n",
      "    (directories are generated top down).  If topdown is false, the triple\n",
      "    for a directory is generated after the triples for all of its\n",
      "    subdirectories (directories are generated bottom up).\n",
      "\n",
      "    When topdown is true, the caller can modify the dirnames list in-place\n",
      "    (e.g., via del or slice assignment), and walk will only recurse into the\n",
      "    subdirectories whose names remain in dirnames; this can be used to prune the\n",
      "    search, or to impose a specific order of visiting.  Modifying dirnames when\n",
      "    topdown is false is ineffective, since the directories in dirnames have\n",
      "    already been generated by the time dirnames itself is generated. No matter\n",
      "    the value of topdown, the list of subdirectories is retrieved before the\n",
      "    tuples for the directory and its subdirectories are generated.\n",
      "\n",
      "    By default errors from the os.scandir() call are ignored.  If\n",
      "    optional arg 'onerror' is specified, it should be a function; it\n",
      "    will be called with one argument, an OSError instance.  It can\n",
      "    report the error to continue with the walk, or raise the exception\n",
      "    to abort the walk.  Note that the filename is available as the\n",
      "    filename attribute of the exception object.\n",
      "\n",
      "    By default, os.walk does not follow symbolic links to subdirectories on\n",
      "    systems that support them.  In order to get this functionality, set the\n",
      "    optional argument 'followlinks' to true.\n",
      "\n",
      "    Caution:  if you pass a relative pathname for top, don't change the\n",
      "    current working directory between resumptions of walk.  walk never\n",
      "    changes the current directory, and assumes that the client doesn't\n",
      "    either.\n",
      "\n",
      "    Example:\n",
      "\n",
      "    import os\n",
      "    from os.path import join, getsize\n",
      "    for root, dirs, files in os.walk('python/Lib/email'):\n",
      "        print(root, \"consumes\", end=\"\")\n",
      "        print(sum([getsize(join(root, name)) for name in files]), end=\"\")\n",
      "        print(\"bytes in\", len(files), \"non-directory files\")\n",
      "        if 'CVS' in dirs:\n",
      "            dirs.remove('CVS')  # don't visit CVS directories\n",
      "\n",
      "    \"\"\"\n",
      "    top = fspath(top)\n",
      "    dirs = []\n",
      "    nondirs = []\n",
      "    walk_dirs = []\n",
      "\n",
      "    # We may not have read permission for top, in which case we can't\n",
      "    # get a list of the files the directory contains.  os.walk\n",
      "    # always suppressed the exception then, rather than blow up for a\n",
      "    # minor reason when (say) a thousand readable directories are still\n",
      "    # left to visit.  That logic is copied here.\n",
      "    try:\n",
      "        # Note that scandir is global in this module due\n",
      "        # to earlier import-*.\n",
      "        scandir_it = scandir(top)\n",
      "    except OSError as error:\n",
      "        if onerror is not None:\n",
      "            onerror(error)\n",
      "        return\n",
      "\n",
      "    with scandir_it:\n",
      "        while True:\n",
      "            try:\n",
      "                try:\n",
      "                    entry = next(scandir_it)\n",
      "                except StopIteration:\n",
      "                    break\n",
      "            except OSError as error:\n",
      "                if onerror is not None:\n",
      "                    onerror(error)\n",
      "                return\n",
      "\n",
      "            try:\n",
      "                is_dir = entry.is_dir()\n",
      "            except OSError:\n",
      "                # If is_dir() raises an OSError, consider that the entry is not\n",
      "                # a directory, same behaviour than os.path.isdir().\n",
      "                is_dir = False\n",
      "\n",
      "            if is_dir:\n",
      "                dirs.append(entry.name)\n",
      "            else:\n",
      "                nondirs.append(entry.name)\n",
      "\n",
      "            if not topdown and is_dir:\n",
      "                # Bottom-up: recurse into sub-directory, but exclude symlinks to\n",
      "                # directories if followlinks is False\n",
      "                if followlinks:\n",
      "                    walk_into = True\n",
      "                else:\n",
      "                    try:\n",
      "                        is_symlink = entry.is_symlink()\n",
      "                    except OSError:\n",
      "                        # If is_symlink() raises an OSError, consider that the\n",
      "                        # entry is not a symbolic link, same behaviour than\n",
      "                        # os.path.islink().\n",
      "                        is_symlink = False\n",
      "                    walk_into = not is_symlink\n",
      "\n",
      "                if walk_into:\n",
      "                    walk_dirs.append(entry.path)\n",
      "\n",
      "    # Yield before recursion if going top down\n",
      "    if topdown:\n",
      "        yield top, dirs, nondirs\n",
      "\n",
      "        # Recurse into sub-directories\n",
      "        islink, join = path.islink, path.join\n",
      "        for dirname in dirs:\n",
      "            new_path = join(top, dirname)\n",
      "            # Issue #23605: os.path.islink() is used instead of caching\n",
      "            # entry.is_symlink() result during the loop on os.scandir() because\n",
      "            # the caller can replace the directory entry during the \"yield\"\n",
      "            # above.\n",
      "            if followlinks or not islink(new_path):\n",
      "                yield from walk(new_path, topdown, onerror, followlinks)\n",
      "    else:\n",
      "        # Recurse into sub-directories\n",
      "        for new_path in walk_dirs:\n",
      "            yield from walk(new_path, topdown, onerror, followlinks)\n",
      "        # Yield after recursion if going bottom up\n",
      "        yield top, dirs, nondirs\n",
      "\n",
      "__all__.append(\"walk\")\n",
      "\n",
      "if {open, stat} <= supports_dir_fd and {scandir, stat} <= supports_fd:\n",
      "\n",
      "    def fwalk(top=\".\", topdown=True, onerror=None, *, follow_symlinks=False, dir_fd=None):\n",
      "        \"\"\"Directory tree generator.\n",
      "\n",
      "        This behaves exactly like walk(), except that it yields a 4-tuple\n",
      "\n",
      "            dirpath, dirnames, filenames, dirfd\n",
      "\n",
      "        `dirpath`, `dirnames` and `filenames` are identical to walk() output,\n",
      "        and `dirfd` is a file descriptor referring to the directory `dirpath`.\n",
      "\n",
      "        The advantage of fwalk() over walk() is that it's safe against symlink\n",
      "        races (when follow_symlinks is False).\n",
      "\n",
      "        If dir_fd is not None, it should be a file descriptor open to a directory,\n",
      "          and top should be relative; top will then be relative to that directory.\n",
      "          (dir_fd is always supported for fwalk.)\n",
      "\n",
      "        Caution:\n",
      "        Since fwalk() yields file descriptors, those are only valid until the\n",
      "        next iteration step, so you should dup() them if you want to keep them\n",
      "        for a longer period.\n",
      "\n",
      "        Example:\n",
      "\n",
      "        import os\n",
      "        for root, dirs, files, rootfd in os.fwalk('python/Lib/email'):\n",
      "            print(root, \"consumes\", end=\"\")\n",
      "            print(sum([os.stat(name, dir_fd=rootfd).st_size for name in files]),\n",
      "                  end=\"\")\n",
      "            print(\"bytes in\", len(files), \"non-directory files\")\n",
      "            if 'CVS' in dirs:\n",
      "                dirs.remove('CVS')  # don't visit CVS directories\n",
      "        \"\"\"\n",
      "        if not isinstance(top, int) or not hasattr(top, '__index__'):\n",
      "            top = fspath(top)\n",
      "        # Note: To guard against symlink races, we use the standard\n",
      "        # lstat()/open()/fstat() trick.\n",
      "        if not follow_symlinks:\n",
      "            orig_st = stat(top, follow_symlinks=False, dir_fd=dir_fd)\n",
      "        topfd = open(top, O_RDONLY, dir_fd=dir_fd)\n",
      "        try:\n",
      "            if (follow_symlinks or (st.S_ISDIR(orig_st.st_mode) and\n",
      "                                    path.samestat(orig_st, stat(topfd)))):\n",
      "                yield from _fwalk(topfd, top, isinstance(top, bytes),\n",
      "                                  topdown, onerror, follow_symlinks)\n",
      "        finally:\n",
      "            close(topfd)\n",
      "\n",
      "    def _fwalk(topfd, toppath, isbytes, topdown, onerror, follow_symlinks):\n",
      "        # Note: This uses O(depth of the directory tree) file descriptors: if\n",
      "        # necessary, it can be adapted to only require O(1) FDs, see issue\n",
      "        # #13734.\n",
      "\n",
      "        scandir_it = scandir(topfd)\n",
      "        dirs = []\n",
      "        nondirs = []\n",
      "        entries = None if topdown or follow_symlinks else []\n",
      "        for entry in scandir_it:\n",
      "            name = entry.name\n",
      "            if isbytes:\n",
      "                name = fsencode(name)\n",
      "            try:\n",
      "                if entry.is_dir():\n",
      "                    dirs.append(name)\n",
      "                    if entries is not None:\n",
      "                        entries.append(entry)\n",
      "                else:\n",
      "                    nondirs.append(name)\n",
      "            except OSError:\n",
      "                try:\n",
      "                    # Add dangling symlinks, ignore disappeared files\n",
      "                    if entry.is_symlink():\n",
      "                        nondirs.append(name)\n",
      "                except OSError:\n",
      "                    pass\n",
      "\n",
      "        if topdown:\n",
      "            yield toppath, dirs, nondirs, topfd\n",
      "\n",
      "        for name in dirs if entries is None else zip(dirs, entries):\n",
      "            try:\n",
      "                if not follow_symlinks:\n",
      "                    if topdown:\n",
      "                        orig_st = stat(name, dir_fd=topfd, follow_symlinks=False)\n",
      "                    else:\n",
      "                        assert entries is not None\n",
      "                        name, entry = name\n",
      "                        orig_st = entry.stat(follow_symlinks=False)\n",
      "                dirfd = open(name, O_RDONLY, dir_fd=topfd)\n",
      "            except OSError as err:\n",
      "                if onerror is not None:\n",
      "                    onerror(err)\n",
      "                continue\n",
      "            try:\n",
      "                if follow_symlinks or path.samestat(orig_st, stat(dirfd)):\n",
      "                    dirpath = path.join(toppath, name)\n",
      "                    yield from _fwalk(dirfd, dirpath, isbytes,\n",
      "                                      topdown, onerror, follow_symlinks)\n",
      "            finally:\n",
      "                close(dirfd)\n",
      "\n",
      "        if not topdown:\n",
      "            yield toppath, dirs, nondirs, topfd\n",
      "\n",
      "    __all__.append(\"fwalk\")\n",
      "\n",
      "# Make sure os.environ exists, at least\n",
      "try:\n",
      "    environ\n",
      "except NameError:\n",
      "    environ = {}\n",
      "\n",
      "def execl(file, *args):\n",
      "    \"\"\"execl(file, *args)\n",
      "\n",
      "    Execute the executable file with argument list args, replacing the\n",
      "    current process. \"\"\"\n",
      "    execv(file, args)\n",
      "\n",
      "def execle(file, *args):\n",
      "    \"\"\"execle(file, *args, env)\n",
      "\n",
      "    Execute the executable file with argument list args and\n",
      "    environment env, replacing the current process. \"\"\"\n",
      "    env = args[-1]\n",
      "    execve(file, args[:-1], env)\n",
      "\n",
      "def execlp(file, *args):\n",
      "    \"\"\"execlp(file, *args)\n",
      "\n",
      "    Execute the executable file (which is searched for along $PATH)\n",
      "    with argument list args, replacing the current process. \"\"\"\n",
      "    execvp(file, args)\n",
      "\n",
      "def execlpe(file, *args):\n",
      "    \"\"\"execlpe(file, *args, env)\n",
      "\n",
      "    Execute the executable file (which is searched for along $PATH)\n",
      "    with argument list args and environment env, replacing the current\n",
      "    process. \"\"\"\n",
      "    env = args[-1]\n",
      "    execvpe(file, args[:-1], env)\n",
      "\n",
      "def execvp(file, args):\n",
      "    \"\"\"execvp(file, args)\n",
      "\n",
      "    Execute the executable file (which is searched for along $PATH)\n",
      "    with argument list args, replacing the current process.\n",
      "    args may be a list or tuple of strings. \"\"\"\n",
      "    _execvpe(file, args)\n",
      "\n",
      "def execvpe(file, args, env):\n",
      "    \"\"\"execvpe(file, args, env)\n",
      "\n",
      "    Execute the executable file (which is searched for along $PATH)\n",
      "    with argument list args and environment env , replacing the\n",
      "    current process.\n",
      "    args may be a list or tuple of strings. \"\"\"\n",
      "    _execvpe(file, args, env)\n",
      "\n",
      "__all__.extend([\"execl\",\"execle\",\"execlp\",\"execlpe\",\"execvp\",\"execvpe\"])\n",
      "\n",
      "def _execvpe(file, args, env=None):\n",
      "    if env is not None:\n",
      "        exec_func = execve\n",
      "        argrest = (args, env)\n",
      "    else:\n",
      "        exec_func = execv\n",
      "        argrest = (args,)\n",
      "        env = environ\n",
      "\n",
      "    if path.dirname(file):\n",
      "        exec_func(file, *argrest)\n",
      "        return\n",
      "    saved_exc = None\n",
      "    path_list = get_exec_path(env)\n",
      "    if name != 'nt':\n",
      "        file = fsencode(file)\n",
      "        path_list = map(fsencode, path_list)\n",
      "    for dir in path_list:\n",
      "        fullname = path.join(dir, file)\n",
      "        try:\n",
      "            exec_func(fullname, *argrest)\n",
      "        except (FileNotFoundError, NotADirectoryError) as e:\n",
      "            last_exc = e\n",
      "        except OSError as e:\n",
      "            last_exc = e\n",
      "            if saved_exc is None:\n",
      "                saved_exc = e\n",
      "    if saved_exc is not None:\n",
      "        raise saved_exc\n",
      "    raise last_exc\n",
      "\n",
      "\n",
      "def get_exec_path(env=None):\n",
      "    \"\"\"Returns the sequence of directories that will be searched for the\n",
      "    named executable (similar to a shell) when launching a process.\n",
      "\n",
      "    *env* must be an environment variable dict or None.  If *env* is None,\n",
      "    os.environ will be used.\n",
      "    \"\"\"\n",
      "    # Use a local import instead of a global import to limit the number of\n",
      "    # modules loaded at startup: the os module is always loaded at startup by\n",
      "    # Python. It may also avoid a bootstrap issue.\n",
      "    import warnings\n",
      "\n",
      "    if env is None:\n",
      "        env = environ\n",
      "\n",
      "    # {b'PATH': ...}.get('PATH') and {'PATH': ...}.get(b'PATH') emit a\n",
      "    # BytesWarning when using python -b or python -bb: ignore the warning\n",
      "    with warnings.catch_warnings():\n",
      "        warnings.simplefilter(\"ignore\", BytesWarning)\n",
      "\n",
      "        try:\n",
      "            path_list = env.get('PATH')\n",
      "        except TypeError:\n",
      "            path_list = None\n",
      "\n",
      "        if supports_bytes_environ:\n",
      "            try:\n",
      "                path_listb = env[b'PATH']\n",
      "            except (KeyError, TypeError):\n",
      "                pass\n",
      "            else:\n",
      "                if path_list is not None:\n",
      "                    raise ValueError(\n",
      "                        \"env cannot contain 'PATH' and b'PATH' keys\")\n",
      "                path_list = path_listb\n",
      "\n",
      "            if path_list is not None and isinstance(path_list, bytes):\n",
      "                path_list = fsdecode(path_list)\n",
      "\n",
      "    if path_list is None:\n",
      "        path_list = defpath\n",
      "    return path_list.split(pathsep)\n",
      "\n",
      "\n",
      "# Change environ to automatically call putenv(), unsetenv if they exist.\n",
      "from _collections_abc import MutableMapping\n",
      "\n",
      "class _Environ(MutableMapping):\n",
      "    def __init__(self, data, encodekey, decodekey, encodevalue, decodevalue, putenv, unsetenv):\n",
      "        self.encodekey = encodekey\n",
      "        self.decodekey = decodekey\n",
      "        self.encodevalue = encodevalue\n",
      "        self.decodevalue = decodevalue\n",
      "        self.putenv = putenv\n",
      "        self.unsetenv = unsetenv\n",
      "        self._data = data\n",
      "\n",
      "    def __getitem__(self, key):\n",
      "        try:\n",
      "            value = self._data[self.encodekey(key)]\n",
      "        except KeyError:\n",
      "            # raise KeyError with the original key value\n",
      "            raise KeyError(key) from None\n",
      "        return self.decodevalue(value)\n",
      "\n",
      "    def __setitem__(self, key, value):\n",
      "        key = self.encodekey(key)\n",
      "        value = self.encodevalue(value)\n",
      "        self.putenv(key, value)\n",
      "        self._data[key] = value\n",
      "\n",
      "    def __delitem__(self, key):\n",
      "        encodedkey = self.encodekey(key)\n",
      "        self.unsetenv(encodedkey)\n",
      "        try:\n",
      "            del self._data[encodedkey]\n",
      "        except KeyError:\n",
      "            # raise KeyError with the original key value\n",
      "            raise KeyError(key) from None\n",
      "\n",
      "    def __iter__(self):\n",
      "        # list() from dict object is an atomic operation\n",
      "        keys = list(self._data)\n",
      "        for key in keys:\n",
      "            yield self.decodekey(key)\n",
      "\n",
      "    def __len__(self):\n",
      "        return len(self._data)\n",
      "\n",
      "    def __repr__(self):\n",
      "        return 'environ({{{}}})'.format(', '.join(\n",
      "            ('{!r}: {!r}'.format(self.decodekey(key), self.decodevalue(value))\n",
      "            for key, value in self._data.items())))\n",
      "\n",
      "    def copy(self):\n",
      "        return dict(self)\n",
      "\n",
      "    def setdefault(self, key, value):\n",
      "        if key not in self:\n",
      "            self[key] = value\n",
      "        return self[key]\n",
      "\n",
      "try:\n",
      "    _putenv = putenv\n",
      "except NameError:\n",
      "    _putenv = lambda key, value: None\n",
      "else:\n",
      "    if \"putenv\" not in __all__:\n",
      "        __all__.append(\"putenv\")\n",
      "\n",
      "try:\n",
      "    _unsetenv = unsetenv\n",
      "except NameError:\n",
      "    _unsetenv = lambda key: _putenv(key, \"\")\n",
      "else:\n",
      "    if \"unsetenv\" not in __all__:\n",
      "        __all__.append(\"unsetenv\")\n",
      "\n",
      "def _createenviron():\n",
      "    if name == 'nt':\n",
      "        # Where Env Var Names Must Be UPPERCASE\n",
      "        def check_str(value):\n",
      "            if not isinstance(value, str):\n",
      "                raise TypeError(\"str expected, not %s\" % type(value).__name__)\n",
      "            return value\n",
      "        encode = check_str\n",
      "        decode = str\n",
      "        def encodekey(key):\n",
      "            return encode(key).upper()\n",
      "        data = {}\n",
      "        for key, value in environ.items():\n",
      "            data[encodekey(key)] = value\n",
      "    else:\n",
      "        # Where Env Var Names Can Be Mixed Case\n",
      "        encoding = sys.getfilesystemencoding()\n",
      "        def encode(value):\n",
      "            if not isinstance(value, str):\n",
      "                raise TypeError(\"str expected, not %s\" % type(value).__name__)\n",
      "            return value.encode(encoding, 'surrogateescape')\n",
      "        def decode(value):\n",
      "            return value.decode(encoding, 'surrogateescape')\n",
      "        encodekey = encode\n",
      "        data = environ\n",
      "    return _Environ(data,\n",
      "        encodekey, decode,\n",
      "        encode, decode,\n",
      "        _putenv, _unsetenv)\n",
      "\n",
      "# unicode environ\n",
      "environ = _createenviron()\n",
      "del _createenviron\n",
      "\n",
      "\n",
      "def getenv(key, default=None):\n",
      "    \"\"\"Get an environment variable, return None if it doesn't exist.\n",
      "    The optional second argument can specify an alternate default.\n",
      "    key, default and the result are str.\"\"\"\n",
      "    return environ.get(key, default)\n",
      "\n",
      "supports_bytes_environ = (name != 'nt')\n",
      "__all__.extend((\"getenv\", \"supports_bytes_environ\"))\n",
      "\n",
      "if supports_bytes_environ:\n",
      "    def _check_bytes(value):\n",
      "        if not isinstance(value, bytes):\n",
      "            raise TypeError(\"bytes expected, not %s\" % type(value).__name__)\n",
      "        return value\n",
      "\n",
      "    # bytes environ\n",
      "    environb = _Environ(environ._data,\n",
      "        _check_bytes, bytes,\n",
      "        _check_bytes, bytes,\n",
      "        _putenv, _unsetenv)\n",
      "    del _check_bytes\n",
      "\n",
      "    def getenvb(key, default=None):\n",
      "        \"\"\"Get an environment variable, return None if it doesn't exist.\n",
      "        The optional second argument can specify an alternate default.\n",
      "        key, default and the result are bytes.\"\"\"\n",
      "        return environb.get(key, default)\n",
      "\n",
      "    __all__.extend((\"environb\", \"getenvb\"))\n",
      "\n",
      "def _fscodec():\n",
      "    encoding = sys.getfilesystemencoding()\n",
      "    errors = sys.getfilesystemencodeerrors()\n",
      "\n",
      "    def fsencode(filename):\n",
      "        \"\"\"Encode filename (an os.PathLike, bytes, or str) to the filesystem\n",
      "        encoding with 'surrogateescape' error handler, return bytes unchanged.\n",
      "        On Windows, use 'strict' error handler if the file system encoding is\n",
      "        'mbcs' (which is the default encoding).\n",
      "        \"\"\"\n",
      "        filename = fspath(filename)  # Does type-checking of `filename`.\n",
      "        if isinstance(filename, str):\n",
      "            return filename.encode(encoding, errors)\n",
      "        else:\n",
      "            return filename\n",
      "\n",
      "    def fsdecode(filename):\n",
      "        \"\"\"Decode filename (an os.PathLike, bytes, or str) from the filesystem\n",
      "        encoding with 'surrogateescape' error handler, return str unchanged. On\n",
      "        Windows, use 'strict' error handler if the file system encoding is\n",
      "        'mbcs' (which is the default encoding).\n",
      "        \"\"\"\n",
      "        filename = fspath(filename)  # Does type-checking of `filename`.\n",
      "        if isinstance(filename, bytes):\n",
      "            return filename.decode(encoding, errors)\n",
      "        else:\n",
      "            return filename\n",
      "\n",
      "    return fsencode, fsdecode\n",
      "\n",
      "fsencode, fsdecode = _fscodec()\n",
      "del _fscodec\n",
      "\n",
      "# Supply spawn*() (probably only for Unix)\n",
      "if _exists(\"fork\") and not _exists(\"spawnv\") and _exists(\"execv\"):\n",
      "\n",
      "    P_WAIT = 0\n",
      "    P_NOWAIT = P_NOWAITO = 1\n",
      "\n",
      "    __all__.extend([\"P_WAIT\", \"P_NOWAIT\", \"P_NOWAITO\"])\n",
      "\n",
      "    # XXX Should we support P_DETACH?  I suppose it could fork()**2\n",
      "    # and close the std I/O streams.  Also, P_OVERLAY is the same\n",
      "    # as execv*()?\n",
      "\n",
      "    def _spawnvef(mode, file, args, env, func):\n",
      "        # Internal helper; func is the exec*() function to use\n",
      "        if not isinstance(args, (tuple, list)):\n",
      "            raise TypeError('argv must be a tuple or a list')\n",
      "        if not args or not args[0]:\n",
      "            raise ValueError('argv first element cannot be empty')\n",
      "        pid = fork()\n",
      "        if not pid:\n",
      "            # Child\n",
      "            try:\n",
      "                if env is None:\n",
      "                    func(file, args)\n",
      "                else:\n",
      "                    func(file, args, env)\n",
      "            except:\n",
      "                _exit(127)\n",
      "        else:\n",
      "            # Parent\n",
      "            if mode == P_NOWAIT:\n",
      "                return pid # Caller is responsible for waiting!\n",
      "            while 1:\n",
      "                wpid, sts = waitpid(pid, 0)\n",
      "                if WIFSTOPPED(sts):\n",
      "                    continue\n",
      "                elif WIFSIGNALED(sts):\n",
      "                    return -WTERMSIG(sts)\n",
      "                elif WIFEXITED(sts):\n",
      "                    return WEXITSTATUS(sts)\n",
      "                else:\n",
      "                    raise OSError(\"Not stopped, signaled or exited???\")\n",
      "\n",
      "    def spawnv(mode, file, args):\n",
      "        \"\"\"spawnv(mode, file, args) -> integer\n",
      "\n",
      "Execute file with arguments from args in a subprocess.\n",
      "If mode == P_NOWAIT return the pid of the process.\n",
      "If mode == P_WAIT return the process's exit code if it exits normally;\n",
      "otherwise return -SIG, where SIG is the signal that killed it. \"\"\"\n",
      "        return _spawnvef(mode, file, args, None, execv)\n",
      "\n",
      "    def spawnve(mode, file, args, env):\n",
      "        \"\"\"spawnve(mode, file, args, env) -> integer\n",
      "\n",
      "Execute file with arguments from args in a subprocess with the\n",
      "specified environment.\n",
      "If mode == P_NOWAIT return the pid of the process.\n",
      "If mode == P_WAIT return the process's exit code if it exits normally;\n",
      "otherwise return -SIG, where SIG is the signal that killed it. \"\"\"\n",
      "        return _spawnvef(mode, file, args, env, execve)\n",
      "\n",
      "    # Note: spawnvp[e] isn't currently supported on Windows\n",
      "\n",
      "    def spawnvp(mode, file, args):\n",
      "        \"\"\"spawnvp(mode, file, args) -> integer\n",
      "\n",
      "Execute file (which is looked for along $PATH) with arguments from\n",
      "args in a subprocess.\n",
      "If mode == P_NOWAIT return the pid of the process.\n",
      "If mode == P_WAIT return the process's exit code if it exits normally;\n",
      "otherwise return -SIG, where SIG is the signal that killed it. \"\"\"\n",
      "        return _spawnvef(mode, file, args, None, execvp)\n",
      "\n",
      "    def spawnvpe(mode, file, args, env):\n",
      "        \"\"\"spawnvpe(mode, file, args, env) -> integer\n",
      "\n",
      "Execute file (which is looked for along $PATH) with arguments from\n",
      "args in a subprocess with the supplied environment.\n",
      "If mode == P_NOWAIT return the pid of the process.\n",
      "If mode == P_WAIT return the process's exit code if it exits normally;\n",
      "otherwise return -SIG, where SIG is the signal that killed it. \"\"\"\n",
      "        return _spawnvef(mode, file, args, env, execvpe)\n",
      "\n",
      "\n",
      "    __all__.extend([\"spawnv\", \"spawnve\", \"spawnvp\", \"spawnvpe\"])\n",
      "\n",
      "\n",
      "if _exists(\"spawnv\"):\n",
      "    # These aren't supplied by the basic Windows code\n",
      "    # but can be easily implemented in Python\n",
      "\n",
      "    def spawnl(mode, file, *args):\n",
      "        \"\"\"spawnl(mode, file, *args) -> integer\n",
      "\n",
      "Execute file with arguments from args in a subprocess.\n",
      "If mode == P_NOWAIT return the pid of the process.\n",
      "If mode == P_WAIT return the process's exit code if it exits normally;\n",
      "otherwise return -SIG, where SIG is the signal that killed it. \"\"\"\n",
      "        return spawnv(mode, file, args)\n",
      "\n",
      "    def spawnle(mode, file, *args):\n",
      "        \"\"\"spawnle(mode, file, *args, env) -> integer\n",
      "\n",
      "Execute file with arguments from args in a subprocess with the\n",
      "supplied environment.\n",
      "If mode == P_NOWAIT return the pid of the process.\n",
      "If mode == P_WAIT return the process's exit code if it exits normally;\n",
      "otherwise return -SIG, where SIG is the signal that killed it. \"\"\"\n",
      "        env = args[-1]\n",
      "        return spawnve(mode, file, args[:-1], env)\n",
      "\n",
      "\n",
      "    __all__.extend([\"spawnl\", \"spawnle\"])\n",
      "\n",
      "\n",
      "if _exists(\"spawnvp\"):\n",
      "    # At the moment, Windows doesn't implement spawnvp[e],\n",
      "    # so it won't have spawnlp[e] either.\n",
      "    def spawnlp(mode, file, *args):\n",
      "        \"\"\"spawnlp(mode, file, *args) -> integer\n",
      "\n",
      "Execute file (which is looked for along $PATH) with arguments from\n",
      "args in a subprocess with the supplied environment.\n",
      "If mode == P_NOWAIT return the pid of the process.\n",
      "If mode == P_WAIT return the process's exit code if it exits normally;\n",
      "otherwise return -SIG, where SIG is the signal that killed it. \"\"\"\n",
      "        return spawnvp(mode, file, args)\n",
      "\n",
      "    def spawnlpe(mode, file, *args):\n",
      "        \"\"\"spawnlpe(mode, file, *args, env) -> integer\n",
      "\n",
      "Execute file (which is looked for along $PATH) with arguments from\n",
      "args in a subprocess with the supplied environment.\n",
      "If mode == P_NOWAIT return the pid of the process.\n",
      "If mode == P_WAIT return the process's exit code if it exits normally;\n",
      "otherwise return -SIG, where SIG is the signal that killed it. \"\"\"\n",
      "        env = args[-1]\n",
      "        return spawnvpe(mode, file, args[:-1], env)\n",
      "\n",
      "\n",
      "    __all__.extend([\"spawnlp\", \"spawnlpe\"])\n",
      "\n",
      "\n",
      "# Supply os.popen()\n",
      "def popen(cmd, mode=\"r\", buffering=-1):\n",
      "    if not isinstance(cmd, str):\n",
      "        raise TypeError(\"invalid cmd type (%s, expected string)\" % type(cmd))\n",
      "    if mode not in (\"r\", \"w\"):\n",
      "        raise ValueError(\"invalid mode %r\" % mode)\n",
      "    if buffering == 0 or buffering is None:\n",
      "        raise ValueError(\"popen() does not support unbuffered streams\")\n",
      "    import subprocess, io\n",
      "    if mode == \"r\":\n",
      "        proc = subprocess.Popen(cmd,\n",
      "                                shell=True,\n",
      "                                stdout=subprocess.PIPE,\n",
      "                                bufsize=buffering)\n",
      "        return _wrap_close(io.TextIOWrapper(proc.stdout), proc)\n",
      "    else:\n",
      "        proc = subprocess.Popen(cmd,\n",
      "                                shell=True,\n",
      "                                stdin=subprocess.PIPE,\n",
      "                                bufsize=buffering)\n",
      "        return _wrap_close(io.TextIOWrapper(proc.stdin), proc)\n",
      "\n",
      "# Helper for popen() -- a proxy for a file whose close waits for the process\n",
      "class _wrap_close:\n",
      "    def __init__(self, stream, proc):\n",
      "        self._stream = stream\n",
      "        self._proc = proc\n",
      "    def close(self):\n",
      "        self._stream.close()\n",
      "        returncode = self._proc.wait()\n",
      "        if returncode == 0:\n",
      "            return None\n",
      "        if name == 'nt':\n",
      "            return returncode\n",
      "        else:\n",
      "            return returncode << 8  # Shift left to match old behavior\n",
      "    def __enter__(self):\n",
      "        return self\n",
      "    def __exit__(self, *args):\n",
      "        self.close()\n",
      "    def __getattr__(self, name):\n",
      "        return getattr(self._stream, name)\n",
      "    def __iter__(self):\n",
      "        return iter(self._stream)\n",
      "\n",
      "# Supply os.fdopen()\n",
      "def fdopen(fd, *args, **kwargs):\n",
      "    if not isinstance(fd, int):\n",
      "        raise TypeError(\"invalid fd type (%s, expected integer)\" % type(fd))\n",
      "    import io\n",
      "    return io.open(fd, *args, **kwargs)\n",
      "\n",
      "\n",
      "# For testing purposes, make sure the function is available when the C\n",
      "# implementation exists.\n",
      "def _fspath(path):\n",
      "    \"\"\"Return the path representation of a path-like object.\n",
      "\n",
      "    If str or bytes is passed in, it is returned unchanged. Otherwise the\n",
      "    os.PathLike interface is used to get the path representation. If the\n",
      "    path representation is not str or bytes, TypeError is raised. If the\n",
      "    provided path is not str, bytes, or os.PathLike, TypeError is raised.\n",
      "    \"\"\"\n",
      "    if isinstance(path, (str, bytes)):\n",
      "        return path\n",
      "\n",
      "    # Work from the object's type to match method resolution of other magic\n",
      "    # methods.\n",
      "    path_type = type(path)\n",
      "    try:\n",
      "        path_repr = path_type.__fspath__(path)\n",
      "    except AttributeError:\n",
      "        if hasattr(path_type, '__fspath__'):\n",
      "            raise\n",
      "        else:\n",
      "            raise TypeError(\"expected str, bytes or os.PathLike object, \"\n",
      "                            \"not \" + path_type.__name__)\n",
      "    if isinstance(path_repr, (str, bytes)):\n",
      "        return path_repr\n",
      "    else:\n",
      "        raise TypeError(\"expected {}.__fspath__() to return str or bytes, \"\n",
      "                        \"not {}\".format(path_type.__name__,\n",
      "                                        type(path_repr).__name__))\n",
      "\n",
      "# If there is no C implementation, make the pure Python version the\n",
      "# implementation as transparently as possible.\n",
      "if not _exists('fspath'):\n",
      "    fspath = _fspath\n",
      "    fspath.__name__ = \"fspath\"\n",
      "\n",
      "\n",
      "class PathLike(abc.ABC):\n",
      "\n",
      "    \"\"\"Abstract base class for implementing the file system path protocol.\"\"\"\n",
      "\n",
      "    @abc.abstractmethod\n",
      "    def __fspath__(self):\n",
      "        \"\"\"Return the file system path representation of the object.\"\"\"\n",
      "        raise NotImplementedError\n",
      "\n",
      "    @classmethod\n",
      "    def __subclasshook__(cls, subclass):\n",
      "        return hasattr(subclass, '__fspath__')\n",
      "\n"
     ]
    }
   ],
   "source": [
    "print(os.__file__) # 在终端输出 os 模块的 .py 源码⽂件路径\n",
    "f = open(os.__file__) # 创建⽂件对象，以只读⽂本模式打开 os 模块的源代码\n",
    "text = f.read() # 读取⽂本\n",
    "print(text) # 在终端输出 os 模块的源代码"
   ]
  },
  {
   "cell_type": "markdown",
   "metadata": {},
   "source": [
    "### <font color = red>21.4 简答题\n",
    "如何理解⽂件对象 (file object) 和磁盘⽂件 (disk file) 之间的关系？我们为什么要⼿动关闭⽂件对象？"
   ]
  },
  {
   "cell_type": "markdown",
   "metadata": {},
   "source": [
    "#### 如何理解⽂件对象 (file object) 和磁盘⽂件 (disk file) 之间的关系"
   ]
  },
  {
   "cell_type": "markdown",
   "metadata": {},
   "source": [
    "⽂件 (file) 位于 磁盘 (disk)，Python 需要根据⽂件 (file) 处于⽂件系统 (file system) 的路径 (path)，在\n",
    "内存 中创建出⼀个指向该路径 (path) 的对象 (object)，借此对象 (object) 的 read 和 write ⽅法\n",
    "(method) 来完成对磁盘⽂件的读写 (I/O) 操作 (operation)。这样的对象叫做 ⽂件对象 (file object)，通\n",
    "常通过内置函数 (built-in function) open 来创建"
   ]
  },
  {
   "cell_type": "markdown",
   "metadata": {},
   "source": [
    "#### 个人理解："
   ]
  },
  {
   "cell_type": "markdown",
   "metadata": {},
   "source": [
    "python提供的是环境，归根结底只是进程，数据通常需要保存在计算机或者服务器内，在使用时可以从磁盘或者服务器调用到环境内处理，最终输出保存以完成I/O过程，就像一个人（文件数据）可以出门买东西（python环境下操作），但是最后还是要回家（磁盘）一样"
   ]
  },
  {
   "cell_type": "markdown",
   "metadata": {},
   "source": [
    "#### 为什么要手动关闭文件对象？"
   ]
  },
  {
   "cell_type": "markdown",
   "metadata": {},
   "source": [
    "磁盘⽂件是⼀种资源，Python 进程需要向操作系统申请 ( open ) 并成功才能获得，使⽤完毕之后需要\n",
    "⼿动 释放 ( close )。Python 解释器 (interpreter) 虽然有 垃圾回收 (garbage collection, GC) 功能，但\n",
    "回收的仅限于内存对象 (object)，并不包括像⽂件 (file) 这样的外部资源。Python 解释器 (interpreter)\n",
    "进程 (process) 虽然在退出时会释放所有已申请但尚未释放的资源，但还是建议 Python 程序员⾃⼰，\n",
    "在使⽤完毕后及时释放资源，以免资源被过久占⽤，从⽽影响其他进程 (process) 运⾏。"
   ]
  },
  {
   "cell_type": "markdown",
   "metadata": {},
   "source": [
    "#### 个人理解"
   ]
  },
  {
   "cell_type": "markdown",
   "metadata": {},
   "source": [
    "Python想要实现对文件的操作进程需要提前像系统申请空间资源，这种外部的空间资源不属于内存对象，所以不会被python自动回收，所以为了节约资源（也为了方便完成后的调用）需要及时的、主动的释放这些资源，否则由于系统的资源是有限的，会影响其他进程的运行\n",
    "\n",
    "就像一个学校内，学生想要组织活动的话需要先向学校申请教室，这种教室是外部资源，获得允许后学校并不会主动回收，因为不属于学校日常“检查并回收”的对象，所以需要学生主动的还给学校，避免影响其他校园活动"
   ]
  },
  {
   "cell_type": "markdown",
   "metadata": {},
   "source": [
    "### <font color = red>21.5 简答题\n",
    "请写代码，以写⼊ (write) 为例，演示⽂件缓存 (buffer) 的概念，即演示 “写⼊⽂件” 与 “写⼊磁盘” 的区\n",
    "别。"
   ]
  },
  {
   "cell_type": "code",
   "execution_count": 66,
   "metadata": {},
   "outputs": [],
   "source": [
    "os.chdir(r'C:\\Users\\MY\\python题库整理')"
   ]
  },
  {
   "cell_type": "code",
   "execution_count": 67,
   "metadata": {},
   "outputs": [
    {
     "data": {
      "text/plain": [
       "20"
      ]
     },
     "execution_count": 67,
     "metadata": {},
     "output_type": "execute_result"
    }
   ],
   "source": [
    "f = open('file21.5_1.txt', mode='w') # 创建⽂件对象\n",
    "f.write(\"It's a test for 21.5\")\n",
    "\n"
   ]
  },
  {
   "cell_type": "code",
   "execution_count": 68,
   "metadata": {},
   "outputs": [],
   "source": [
    "%pycat file21.5_1.txt"
   ]
  },
  {
   "cell_type": "markdown",
   "metadata": {},
   "source": [
    "此时并没有写入，或者换用另一个终端，也会是一样的结果"
   ]
  },
  {
   "cell_type": "code",
   "execution_count": 69,
   "metadata": {},
   "outputs": [],
   "source": [
    "f.close()"
   ]
  },
  {
   "cell_type": "markdown",
   "metadata": {},
   "source": [
    "#### 个人总结\n",
    "此时的文件对象的改变还在内存中未写入到磁盘，只有内存不够的情况下才会文件对象的改写才会主动像系统申请写入磁盘并清理缓存中的数据和操作，否则只能手动申请，采用flush方法（close方法其实也是通过默认调用flush保存对象的）"
   ]
  },
  {
   "cell_type": "code",
   "execution_count": 70,
   "metadata": {},
   "outputs": [
    {
     "data": {
      "text/plain": [
       "20"
      ]
     },
     "execution_count": 70,
     "metadata": {},
     "output_type": "execute_result"
    },
    {
     "data": {
      "text/plain": [
       "<function TextIOWrapper.flush()>"
      ]
     },
     "execution_count": 70,
     "metadata": {},
     "output_type": "execute_result"
    }
   ],
   "source": [
    "f = open('file21.5_test2.txt', mode='w') # 创建⽂件对象\n",
    "f.write(\"It's a test for 21.5\")\n",
    "f.flush\n"
   ]
  },
  {
   "cell_type": "code",
   "execution_count": 71,
   "metadata": {},
   "outputs": [],
   "source": [
    "%pycat file21.5_test2.txt\n",
    "f.close()"
   ]
  },
  {
   "cell_type": "markdown",
   "metadata": {},
   "source": [
    "此时有显示“It's a test for 21.5”"
   ]
  },
  {
   "cell_type": "markdown",
   "metadata": {},
   "source": [
    "#### 个人理解"
   ]
  },
  {
   "cell_type": "markdown",
   "metadata": {},
   "source": [
    "只有申请写入磁盘才真正的读取到文件，否则写入的内容会保留在缓存中。\n",
    "\n",
    "打个比方：我（文本文档）想出门买东西（写入数据），我一旦出门了（申请了内存空间）就只能等到装不下了（系统内存满负荷）必须回来的时候（被动）再回来（申请写入磁盘），才算我真正的买回来了东西（写入数据保存到了磁盘），如果我只买了少量的东西就想回家，我就只能主动申请（flush方法）回家才能回来把东西放下"
   ]
  },
  {
   "cell_type": "markdown",
   "metadata": {},
   "source": [
    "### <font color = red>21.6 简答题\n",
    "请写代码，以读取 (read) 为例，演示⽂件位置 (position) 的概念，包括获取当前位置、移动当前位置等\n",
    "操作"
   ]
  },
  {
   "cell_type": "code",
   "execution_count": 72,
   "metadata": {},
   "outputs": [
    {
     "data": {
      "text/plain": [
       "13"
      ]
     },
     "execution_count": 72,
     "metadata": {},
     "output_type": "execute_result"
    }
   ],
   "source": [
    "f = open('file21.6.txt', mode='w',encoding = 'utf-8') # 创建⽂件对象，只写模式\n",
    "f.write('这是第21.6题的test')\n",
    "f.close()\n"
   ]
  },
  {
   "cell_type": "markdown",
   "metadata": {},
   "source": [
    "选用mode = 'a' 是为了使作用为止来到写入内容的结束处"
   ]
  },
  {
   "cell_type": "code",
   "execution_count": 73,
   "metadata": {},
   "outputs": [
    {
     "data": {
      "text/plain": [
       "23"
      ]
     },
     "execution_count": 73,
     "metadata": {},
     "output_type": "execute_result"
    },
    {
     "data": {
      "text/plain": [
       "10"
      ]
     },
     "execution_count": 73,
     "metadata": {},
     "output_type": "execute_result"
    },
    {
     "data": {
      "text/plain": [
       "10"
      ]
     },
     "execution_count": 73,
     "metadata": {},
     "output_type": "execute_result"
    },
    {
     "data": {
      "text/plain": [
       "'1.6题的test'"
      ]
     },
     "execution_count": 73,
     "metadata": {},
     "output_type": "execute_result"
    }
   ],
   "source": [
    "with open('file21.6.txt', mode='a+',encoding = 'utf-8') as f:\n",
    "    f.tell() #tell ⽅法返回的是字节数\n",
    "    f.seek(10)#不通过seek方法将位置移动到写入内容开始处的话f.read()内容为空\n",
    "    f.tell()\n",
    "    f.read()\n",
    "    f.flush() # 将缓存写⼊磁盘\n",
    "    # 切换到另⼀个终端\n",
    "%pycat file21.6.txt"
   ]
  },
  {
   "cell_type": "markdown",
   "metadata": {},
   "source": [
    "### <font color = red>21.7 简答题\n",
    "请写代码，以编码 (encoding) 的概念为基础，演示读/写⽂本 (text) ⽂件与读/写⼆进制 (binary) 的 等价\n",
    "操作。"
   ]
  },
  {
   "cell_type": "markdown",
   "metadata": {},
   "source": [
    "#### 小结"
   ]
  },
  {
   "cell_type": "markdown",
   "metadata": {},
   "source": [
    "- 以字符串（文本）写入后可以用二进制（rb/wb/ab）的模式先读取，再解码出来,就可以得到想要的字符串；同样的，可以现以编码成二进制的字节串写入文本(wb+)，然后以r+的形式读取出来（需要注意解码方式），也可以得到想要的字符串\n",
    "\n",
    " 1.  以⽂本模式写⼊，以⼆进制模式读取\n",
    "\n",
    " 2.  以⼆进制模式写⼊，以⽂本模式读取 "
   ]
  },
  {
   "cell_type": "markdown",
   "metadata": {},
   "source": [
    "#### 以⽂本模式写⼊，以⼆进制模式读取"
   ]
  },
  {
   "cell_type": "code",
   "execution_count": 74,
   "metadata": {},
   "outputs": [
    {
     "data": {
      "text/plain": [
       "23"
      ]
     },
     "execution_count": 74,
     "metadata": {},
     "output_type": "execute_result"
    }
   ],
   "source": [
    "\n",
    "f = open('file21.7.txt', mode='w', encoding='gbk') # 只写⽂本模式\n",
    "s = 'This is a test for 21.7'\n",
    "f.write(s)\n",
    "f.close()\n"
   ]
  },
  {
   "cell_type": "code",
   "execution_count": 75,
   "metadata": {},
   "outputs": [],
   "source": [
    "%pycat file21.7.txt"
   ]
  },
  {
   "cell_type": "code",
   "execution_count": 76,
   "metadata": {
    "scrolled": false
   },
   "outputs": [
    {
     "data": {
      "text/plain": [
       "bytes"
      ]
     },
     "execution_count": 76,
     "metadata": {},
     "output_type": "execute_result"
    },
    {
     "data": {
      "text/plain": [
       "b'This is a test for 21.7'"
      ]
     },
     "execution_count": 76,
     "metadata": {},
     "output_type": "execute_result"
    },
    {
     "data": {
      "text/plain": [
       "True"
      ]
     },
     "execution_count": 76,
     "metadata": {},
     "output_type": "execute_result"
    }
   ],
   "source": [
    "f = open('file21.7.txt', mode='rb') # 只读⼆进制模式\n",
    "content = f.read()\n",
    "f.close()\n",
    "type(content) # 可以看到 content 是 bytes 类型\n",
    "content\n",
    "content.decode('gbk') == s"
   ]
  },
  {
   "cell_type": "markdown",
   "metadata": {},
   "source": [
    "#### 以⼆进制模式写⼊，以⽂本模式读取"
   ]
  },
  {
   "cell_type": "code",
   "execution_count": 77,
   "metadata": {},
   "outputs": [
    {
     "data": {
      "text/plain": [
       "25"
      ]
     },
     "execution_count": 77,
     "metadata": {},
     "output_type": "execute_result"
    }
   ],
   "source": [
    "text = 'This is a test for 21.7.2'\n",
    "content = text.encode('utf-8')\n",
    "f = open('file21.7.2.txt', mode='w+b') # 只写⼆进制模式\n",
    "f.write(content)\n",
    "f.close()\n",
    "%pycat file21.7.txt"
   ]
  },
  {
   "cell_type": "code",
   "execution_count": 78,
   "metadata": {},
   "outputs": [
    {
     "data": {
      "text/plain": [
       "True"
      ]
     },
     "execution_count": 78,
     "metadata": {},
     "output_type": "execute_result"
    }
   ],
   "source": [
    "f = open('file21.7.2.txt', mode='r+') \n",
    "text2 = f.read()\n",
    "text2 == text\n",
    "f.close()"
   ]
  },
  {
   "cell_type": "markdown",
   "metadata": {},
   "source": [
    "### <font color = red>21.8 简答题\n",
    "请写代码，演示通⽤换⾏符 (universal newline) 的概念，包括打开和关闭该功能，以及读写之间的差\n",
    "异。先演示写⼊，再演示读取。"
   ]
  },
  {
   "cell_type": "markdown",
   "metadata": {},
   "source": [
    "#### 换行符功能是python默认的，想要关闭只需要将open的newline参数改写为newline = \"\"即可"
   ]
  },
  {
   "cell_type": "code",
   "execution_count": 79,
   "metadata": {},
   "outputs": [
    {
     "data": {
      "text/plain": [
       "8"
      ]
     },
     "execution_count": 79,
     "metadata": {},
     "output_type": "execute_result"
    }
   ],
   "source": [
    "f = open('file21.8.txt', mode='w', newline='') # 只写模式，关闭通⽤换⾏符功能\n",
    "f.write('a\\r\\nb\\rc\\nd')\n",
    "f.close()\n",
    "%pycat file21.8.txt"
   ]
  },
  {
   "cell_type": "markdown",
   "metadata": {},
   "source": [
    "在file21.8.txt之下，所有的\\r\\n,\\r,\\n都被成功转义为\\n进行了转行\n"
   ]
  },
  {
   "cell_type": "markdown",
   "metadata": {},
   "source": [
    "#### 只读r模式下"
   ]
  },
  {
   "cell_type": "markdown",
   "metadata": {},
   "source": [
    "打开换行符功能时以\\n换行，关闭换行符功能时以\\r、\\r\\n、\\n都能换行"
   ]
  },
  {
   "cell_type": "code",
   "execution_count": 80,
   "metadata": {
    "scrolled": true
   },
   "outputs": [
    {
     "data": {
      "text/plain": [
       "'a\\nb\\nc\\nd'"
      ]
     },
     "execution_count": 80,
     "metadata": {},
     "output_type": "execute_result"
    },
    {
     "data": {
      "text/plain": [
       "'a\\r\\n'"
      ]
     },
     "execution_count": 80,
     "metadata": {},
     "output_type": "execute_result"
    },
    {
     "data": {
      "text/plain": [
       "'b\\r'"
      ]
     },
     "execution_count": 80,
     "metadata": {},
     "output_type": "execute_result"
    },
    {
     "data": {
      "text/plain": [
       "'c\\n'"
      ]
     },
     "execution_count": 80,
     "metadata": {},
     "output_type": "execute_result"
    },
    {
     "data": {
      "text/plain": [
       "'d'"
      ]
     },
     "execution_count": 80,
     "metadata": {},
     "output_type": "execute_result"
    },
    {
     "data": {
      "text/plain": [
       "0"
      ]
     },
     "execution_count": 80,
     "metadata": {},
     "output_type": "execute_result"
    },
    {
     "data": {
      "text/plain": [
       "'a\\r\\nb\\rc\\nd'"
      ]
     },
     "execution_count": 80,
     "metadata": {},
     "output_type": "execute_result"
    }
   ],
   "source": [
    "f = open('file21.8.txt', mode='r') # 只读模式，默认开启通⽤换⾏符功能\n",
    "f.read() # 换⾏符在读取时被⾃动转换\n",
    "f.close()\n",
    "f = open('file21.8.txt', mode='r', newline='') # 只读模式，关闭通⽤换⾏符功能\n",
    "for i in range(4):\n",
    "    f.readline() # 注意以哪个字符换⾏\n",
    "f.seek(0)\n",
    "f.read() # 换⾏符现在不被⾃动转换\n",
    "f.close()"
   ]
  },
  {
   "cell_type": "markdown",
   "metadata": {},
   "source": [
    "#### 只写w模式下"
   ]
  },
  {
   "cell_type": "code",
   "execution_count": 81,
   "metadata": {},
   "outputs": [
    {
     "data": {
      "text/plain": [
       "8"
      ]
     },
     "execution_count": 81,
     "metadata": {},
     "output_type": "execute_result"
    },
    {
     "data": {
      "text/plain": [
       "'a\\r'"
      ]
     },
     "execution_count": 81,
     "metadata": {},
     "output_type": "execute_result"
    },
    {
     "data": {
      "text/plain": [
       "'\\r\\n'"
      ]
     },
     "execution_count": 81,
     "metadata": {},
     "output_type": "execute_result"
    },
    {
     "data": {
      "text/plain": [
       "'b\\r'"
      ]
     },
     "execution_count": 81,
     "metadata": {},
     "output_type": "execute_result"
    },
    {
     "data": {
      "text/plain": [
       "'c\\r\\n'"
      ]
     },
     "execution_count": 81,
     "metadata": {},
     "output_type": "execute_result"
    },
    {
     "data": {
      "text/plain": [
       "0"
      ]
     },
     "execution_count": 81,
     "metadata": {},
     "output_type": "execute_result"
    },
    {
     "data": {
      "text/plain": [
       "'a\\r\\r\\nb\\rc\\r\\nd'"
      ]
     },
     "execution_count": 81,
     "metadata": {},
     "output_type": "execute_result"
    }
   ],
   "source": [
    "f = open('file21.8.2.txt', mode='w', newline='\\r\\n') # 只写模式，以 \\r 为换⾏符\n",
    "f.write('a\\r\\nb\\rc\\nd')\n",
    "f.close()\n",
    "f = open('file21.8.2.txt', newline='') # 遇到三种换行符都换行\n",
    "for i in range(4):\n",
    "    f.readline() # 注意以哪个字符换⾏\n",
    "f.seek(0)\n",
    "f.read() # 注意现在读取出的是刚才实际写⼊的⽂本\n",
    "f.close()"
   ]
  },
  {
   "cell_type": "markdown",
   "metadata": {},
   "source": [
    "实际写入的文本是将字符串中的所有得\\n换行符转换成所给的newline的换行符参数"
   ]
  },
  {
   "cell_type": "markdown",
   "metadata": {},
   "source": [
    "### <font color = red>21.9 简答题\n",
    "请写 Python 代码，获取当前⼯作⽬录，再把当前⼯作⽬录切换⾄⽂件系统根⽬录，再把当前⽬录切换\n",
    "⾄⽤户根⽬录"
   ]
  },
  {
   "cell_type": "code",
   "execution_count": 82,
   "metadata": {},
   "outputs": [
    {
     "data": {
      "text/plain": [
       "'C:\\\\Users\\\\MY\\\\pystudy'"
      ]
     },
     "execution_count": 82,
     "metadata": {},
     "output_type": "execute_result"
    },
    {
     "data": {
      "text/plain": [
       "'C:\\\\'"
      ]
     },
     "execution_count": 82,
     "metadata": {},
     "output_type": "execute_result"
    },
    {
     "data": {
      "text/plain": [
       "'C:\\\\Users'"
      ]
     },
     "execution_count": 82,
     "metadata": {},
     "output_type": "execute_result"
    }
   ],
   "source": [
    "import os\n",
    "os.chdir(r'C:\\Users\\MY\\pystudy')#为了演示效果，线设定一个当前目录\n",
    "os.getcwd()\n",
    "os.chdir(r\"C:/\")\n",
    "os.getcwd()\n",
    "os.chdir(r'C:/Users')\n",
    "os.getcwd()"
   ]
  },
  {
   "cell_type": "markdown",
   "metadata": {},
   "source": [
    "### 21.10 简答题\n",
    "请写 Python 代码，展示 /etc ⽬录下的内容 (⽬录和⽂件)，并判断该⽬录下的 profile 名称是⽬录\n",
    "还是⽂件。"
   ]
  },
  {
   "cell_type": "code",
   "execution_count": 83,
   "metadata": {},
   "outputs": [
    {
     "data": {
      "text/plain": [
       "'C:\\\\Users\\\\MY\\\\etc'"
      ]
     },
     "execution_count": 83,
     "metadata": {},
     "output_type": "execute_result"
    },
    {
     "data": {
      "text/plain": [
       "['profile']"
      ]
     },
     "execution_count": 83,
     "metadata": {},
     "output_type": "execute_result"
    },
    {
     "data": {
      "text/plain": [
       "True"
      ]
     },
     "execution_count": 83,
     "metadata": {},
     "output_type": "execute_result"
    },
    {
     "data": {
      "text/plain": [
       "False"
      ]
     },
     "execution_count": 83,
     "metadata": {},
     "output_type": "execute_result"
    }
   ],
   "source": [
    "import os \n",
    "os.chdir(r'C:\\Users\\MY\\etc')#目录是自己创建的\n",
    "os.getcwd()\n",
    "os.listdir(r'C:\\Users\\MY\\etc')\n",
    "#type(os.listdir(r'C:\\Users\\MY\\etc'))\n",
    "os.path.isdir(r\"C:\\Users\\MY\\etc\\profile\")\n",
    "os.path.isfile(r\"C:\\Users\\MY\\etc\\profile\")"
   ]
  },
  {
   "cell_type": "markdown",
   "metadata": {},
   "source": [
    "### <font color = red> 21.11 简答题(字符串helloworld不可改，route变量名可以改)\n",
    "请写 Python 代码，在当前⽬录下新建⼀个 week15 ⽬录，在 week015 ⽬录下新建⼀个名为\n",
    "temp.py 的⽂本⽂件，向其中写⼊⽂本 print('Hello World!') ，然后将其删除。"
   ]
  },
  {
   "cell_type": "code",
   "execution_count": 84,
   "metadata": {},
   "outputs": [
    {
     "data": {
      "text/plain": [
       "WindowsPath('week15')"
      ]
     },
     "execution_count": 84,
     "metadata": {},
     "output_type": "execute_result"
    },
    {
     "name": "stdout",
     "output_type": "stream",
     "text": [
      "----------------------\n"
     ]
    },
    {
     "data": {
      "text/plain": [
       "WindowsPath('week15/temp.py')"
      ]
     },
     "execution_count": 84,
     "metadata": {},
     "output_type": "execute_result"
    },
    {
     "name": "stdout",
     "output_type": "stream",
     "text": [
      "----------------------\n"
     ]
    },
    {
     "data": {
      "text/plain": [
       "21"
      ]
     },
     "execution_count": 84,
     "metadata": {},
     "output_type": "execute_result"
    },
    {
     "name": "stdout",
     "output_type": "stream",
     "text": [
      "----------------------\n"
     ]
    },
    {
     "data": {
      "text/plain": [
       "False"
      ]
     },
     "execution_count": 84,
     "metadata": {},
     "output_type": "execute_result"
    }
   ],
   "source": [
    "import pathlib\n",
    "import os\n",
    "os.chdir(r'C:\\Users\\MY\\python题库整理')\n",
    "route = pathlib.Path('week15')#也可以给定绝对路径,目前还只是对象，没有实际的文件目录\n",
    "route.mkdir()\n",
    "#route.absolute()\n",
    "route\n",
    "print('----------------------')\n",
    "file_route = route / \"temp.py\"\n",
    "file_route\n",
    "print('----------------------')\n",
    "file = file_route.open(mode='w',encoding='GBK',newline = '\\r\\n')\n",
    "file.write('print(\\'Hello World!\\')')\n",
    "file.close()\n",
    "print('----------------------')\n",
    "#route.rmdir()\n",
    "file_route.rename('delete3.txt')\n",
    "file_route.exists()"
   ]
  },
  {
   "cell_type": "markdown",
   "metadata": {},
   "source": [
    "### 21.12 简答题\n",
    "请写 Python 代码，计算` datetime `模块的源代码的⽬录名、⽂件名和扩展名，并在此基础上获取其所\n",
    "在⽬录下的其他⽬录名和⽂件名。"
   ]
  },
  {
   "cell_type": "code",
   "execution_count": 85,
   "metadata": {},
   "outputs": [
    {
     "data": {
      "text/plain": [
       "'C:\\\\Users\\\\MY\\\\python题库整理'"
      ]
     },
     "execution_count": 85,
     "metadata": {},
     "output_type": "execute_result"
    },
    {
     "data": {
      "text/plain": [
       "'D:\\\\Anaconda3.7\\\\lib'"
      ]
     },
     "execution_count": 85,
     "metadata": {},
     "output_type": "execute_result"
    },
    {
     "data": {
      "text/plain": [
       "'datetime.py'"
      ]
     },
     "execution_count": 85,
     "metadata": {},
     "output_type": "execute_result"
    },
    {
     "data": {
      "text/plain": [
       "'.py'"
      ]
     },
     "execution_count": 85,
     "metadata": {},
     "output_type": "execute_result"
    }
   ],
   "source": [
    "import os\n",
    "import datetime\n",
    "os.getcwd()\n",
    "path = datetime.__file__\n",
    "#path\n",
    "os.path.dirname(path)# 计算路径 p 的 ⽬录名 部分\n",
    "os.path.basename(path) # 计算路径 p 的 ⽂件名 部分\n",
    "os.path.splitext(os.path.basename(path))[1]#扩展名部分"
   ]
  },
  {
   "cell_type": "markdown",
   "metadata": {},
   "source": [
    "### 21.13 简答题\n",
    "请写 Python 代码，使⽤路径对象 (path object)，⽤⼀条语句创建出⽬录\n",
    "./week06/lecture01/trash ，并在其下创建 greeting.exe ⽂件，在其内部写⼊字符串 '⽆效命\n",
    "令' ⽤ 'utf-16' 编码得出的⼆进制字节串。"
   ]
  },
  {
   "cell_type": "code",
   "execution_count": 86,
   "metadata": {
    "scrolled": true
   },
   "outputs": [
    {
     "data": {
      "text/plain": [
       "\"b'\\\\xff\\\\xfeF/He}T\\\\xe4N'\""
      ]
     },
     "execution_count": 86,
     "metadata": {},
     "output_type": "execute_result"
    },
    {
     "data": {
      "text/plain": [
       "'C:\\\\Users\\\\MY\\\\python题库整理'"
      ]
     },
     "execution_count": 86,
     "metadata": {},
     "output_type": "execute_result"
    }
   ],
   "source": [
    "str('⽆效命令'.encode('utf-16'))\n",
    "import os\n",
    "os.getcwd()"
   ]
  },
  {
   "cell_type": "markdown",
   "metadata": {},
   "source": [
    "只能做到一条语句创建./week06/lecture01/trash，然后创建greeting.exe文件，打开并写入(用txt文件格式检查过)"
   ]
  },
  {
   "cell_type": "code",
   "execution_count": 89,
   "metadata": {},
   "outputs": [
    {
     "data": {
      "text/plain": [
       "22"
      ]
     },
     "execution_count": 89,
     "metadata": {},
     "output_type": "execute_result"
    }
   ],
   "source": [
    "import os\n",
    "import pathlib\n",
    "os.makedirs(pathlib.Path('./week6/lecture01/trash'))\n",
    "#p = pathlib.Path(r'C:\\Users\\MY\\python题库整理\\week06\\lecture01\\trash')\n",
    "file = pathlib.Path('./week6/lecture01/trash') / 'greeting.txt'\n",
    "f = file.open(mode='w', encoding='utf-8', newline='\\r\\n')\n",
    "f.write(str('⽆效命令'.encode('utf-16')))\n",
    "f.close()"
   ]
  },
  {
   "cell_type": "code",
   "execution_count": null,
   "metadata": {},
   "outputs": [],
   "source": []
  }
 ],
 "metadata": {
  "kernelspec": {
   "display_name": "Python 3",
   "language": "python",
   "name": "python3"
  },
  "language_info": {
   "codemirror_mode": {
    "name": "ipython",
    "version": 3
   },
   "file_extension": ".py",
   "mimetype": "text/x-python",
   "name": "python",
   "nbconvert_exporter": "python",
   "pygments_lexer": "ipython3",
   "version": "3.7.7"
  }
 },
 "nbformat": 4,
 "nbformat_minor": 4
}
