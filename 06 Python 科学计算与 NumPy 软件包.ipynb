{
 "cells": [
  {
   "cell_type": "markdown",
   "metadata": {},
   "source": [
    "# 第 6 课 Python 科学计算与 NumPy 软件包"
   ]
  },
  {
   "cell_type": "markdown",
   "metadata": {},
   "source": [
    "## 学习任务\n",
    "本周是第 8 周。请⼀边阅读教材⼀边完成课程测验任务，同时⼀边阅读⼀边完成以下⾮上机题任务。课\n",
    "程测验得分将构成平时成绩 (占期末总评 40%)；所有⾮上机题将构成期末闭卷考试 (占期末总评 60%)\n",
    "的题库。所以请务必认真对待学习任务，不能按时完成任务者后果⾃负。"
   ]
  },
  {
   "cell_type": "code",
   "execution_count": null,
   "metadata": {},
   "outputs": [],
   "source": [
    "from IPython.core.interactiveshell import InteractiveShell\n",
    "InteractiveShell.ast_node_interactivity = 'all'"
   ]
  },
  {
   "cell_type": "markdown",
   "metadata": {},
   "source": [
    "### 1 阅读\n",
    "阅读教材[ “The Scientific Libraries: Python for Scientific Computing”](https://python-programming.quantecon.org/need_for_speed.html) ⼀节，学习有关 Python 科学计\n",
    "算的基础知识。\n"
   ]
  },
  {
   "cell_type": "markdown",
   "metadata": {},
   "source": [
    "### <font color = red>2 简答题\n",
    "请简述我们使⽤各种 Python 科学计算⽅⾯的软件包 (package) ⽽不是纯 Python 的两个原因"
   ]
  },
  {
   "cell_type": "markdown",
   "metadata": {},
   "source": [
    "原因\n",
    "- 1.各种各样的开源python库（et...scientific libraries）可以满足我们很多的需求，比让我们自己根据需求从底层开始编程要方便快捷的多，可以大幅度的提升效率（和社区用户共同提高，体现了计算机语言世界的自由平等、开放共享精神）\n",
    "\n",
    "- 2.纯 Python 虽然灵活而快捷，但python作为高级语言在速度上远不如某些语言（如C语言等），同样是为了提高效率"
   ]
  },
  {
   "cell_type": "markdown",
   "metadata": {},
   "source": [
    "### 3 简答题\n",
    "请简要介绍 Python 五⼤科学计算软件包各⾃的⽤途。"
   ]
  },
  {
   "cell_type": "markdown",
   "metadata": {},
   "source": [
    "科学 Python 库中的五大类是\n",
    "\n",
    "- NumPy\n",
    "- SciPy\n",
    "- Matplotlib\n",
    "- Pandas \n",
    "- Numba"
   ]
  },
  {
   "cell_type": "markdown",
   "metadata": {},
   "source": [
    "1. NumPy的本质基础是提供基本的数组数据类型(想想向量和矩阵)和作用于这些数组的函数(例如，矩阵乘法)\n",
    " \n",
    "2. Scipy 基于 NumPy，添加了科学中常用的各种数学方法(插值、优化、求根等)\n",
    "\n",
    "3. Matplotlib 用于生成图形，重点是绘制存储在 NumPy 数组中的数据\n",
    "\n",
    "4. Pandas 为实验等实操工作提供格式类型处理和功能(例如操作数据)\n",
    "\n",
    "5. Numba 通过 JIT 编译加速执行"
   ]
  },
  {
   "cell_type": "markdown",
   "metadata": {},
   "source": [
    "###  <font color = red>4 简答题\n",
    "Python 作为⼀种对⼈类友好的 (optimized for human) ⾼层语⾔ (high-level language)，相⽐于对机器\n",
    "友好的 (optimized for machine) 底层语⾔ (low-level language) (如 C、Fortran)，在运⾏时 (runtime)\n",
    "能够替程序员完成哪两类繁重⼯作？"
   ]
  },
  {
   "cell_type": "markdown",
   "metadata": {},
   "source": [
    "#### 答\n",
    "1. 使用前先指定变量的类型\n",
    "2. 分配和释放内存\n"
   ]
  },
  {
   "cell_type": "markdown",
   "metadata": {},
   "source": [
    "###  <font color = red>5 简答题\n",
    "像 Python 这样的⾼层语⾔ (high-level language)，相⽐于像 C、Fortran 这样的底层语⾔ (low-level\n",
    "language)，优势和劣势分别是什么？"
   ]
  },
  {
   "cell_type": "markdown",
   "metadata": {},
   "source": [
    "#### 答"
   ]
  },
  {
   "cell_type": "markdown",
   "metadata": {},
   "source": [
    "1. 优势\n",
    "    - 与低级语言相比，Python 通常编写得更快，更不容易出错，更容易调试。\n",
    "    \n",
    "2. 劣势\n",
    "    - Python 比 c 或 Fortran 等语言更难优化（更难转化成快速的机械语言），Python 的标准实现(称为 CPython)不能与 c 或 Fortran 等编译语言的速度相匹配。"
   ]
  },
  {
   "cell_type": "markdown",
   "metadata": {},
   "source": [
    "### 6 简答题\n",
    "科研⼈员应该使⽤ Python ⽽不是 C、Fortan 进⾏编程的两个重要原因是什么？"
   ]
  },
  {
   "cell_type": "markdown",
   "metadata": {},
   "source": [
    "### 答\n",
    "原因：\n",
    "1. 对于任何给定的程序来说，只有相对较少的代码行对运行时间有需求，也就是说一般情况下python的运行效率足够了，在这些情况下用 Python 这样的高效语言编写效率更高\n",
    "\n",
    "\n",
    "2. 即使有代码对运行时间（速度）有需求，也可以用python库来协助提速，很多情况下都可以使用 Python 的科学库实现与 c 或 Fortran 相同的速度。"
   ]
  },
  {
   "cell_type": "markdown",
   "metadata": {},
   "source": [
    "### <font color = red>7 简答题\n",
    "像 `a + b` 这样的简单 Python 代码都需要 Python 运⾏时 (runtime) 执⾏⼤量的⼯作，为什么？"
   ]
  },
  {
   "cell_type": "markdown",
   "metadata": {},
   "source": [
    "### 答\n",
    "在这个语句中，解释器必须先知道要调用哪个操作，如果` a` 和` b `是字符串，那么` a + b `需要字符串连接；如果 `a `和` b `是列表，那么` a + b` 需要列表连接；Python 必须检查对象的类型，然后调用正确的操作，这都需要执行大量的工作"
   ]
  },
  {
   "cell_type": "markdown",
   "metadata": {},
   "source": [
    "### <font color = red>8 简答题\n",
    "Python 列表 (list) 不同于 C 数组 (array) 的地⽅在于，Python 列表 (list) ⾥的元素 (element) 保存的不\n",
    "是实际的数据，⽽是什么？"
   ]
  },
  {
   "cell_type": "markdown",
   "metadata": {},
   "source": [
    "### 答\n",
    "- 在标准的 Python 实现(CPython)中，列表元素被放置在某种意义上是连续的内存位置中\n",
    "然而，这些列表元素更像是指向数据的指针（调用时指向数据内存地址），而不是实际的数据。\n"
   ]
  },
  {
   "cell_type": "markdown",
   "metadata": {},
   "source": [
    "### <font color = red>9 简答题\n",
    "使⾼层语⾔ (high-level language) 的数值计算⼯作⼤⼤提速的⼀种办法叫做向量化 (vectorization)，始\n",
    "于 Matlab。请简要介绍向量化 (vectorize) ⽅法的核⼼思想。"
   ]
  },
  {
   "cell_type": "markdown",
   "metadata": {},
   "source": [
    "### 答\n",
    "其核心思想是将数组的处理操作批量发送到预编译好的、高效的保存在本地的本机代码中"
   ]
  },
  {
   "cell_type": "markdown",
   "metadata": {},
   "source": [
    "### 10 简答题\n",
    "假设已进⾏过如下 import 。"
   ]
  },
  {
   "cell_type": "code",
   "execution_count": null,
   "metadata": {},
   "outputs": [],
   "source": [
    "import random\n",
    "import numpy as np"
   ]
  },
  {
   "cell_type": "markdown",
   "metadata": {},
   "source": [
    "以下⼀段 Python 代码在运⾏时 (runtime) 将⽐较低效。请写出能够达到同样效果的更加⾼效的向量化\n",
    "(vectorized) 代码，借助于 numpy 。"
   ]
  },
  {
   "cell_type": "code",
   "execution_count": null,
   "metadata": {},
   "outputs": [],
   "source": [
    "n=1_000_000"
   ]
  },
  {
   "cell_type": "code",
   "execution_count": 4,
   "metadata": {},
   "outputs": [
    {
     "name": "stdout",
     "output_type": "stream",
     "text": [
      "Wall time: 648 ms\n"
     ]
    }
   ],
   "source": [
    "%%time\n",
    "y = 0\n",
    "for i in range(1_000_000):\n",
    "    x = random.uniform(0, 1)\n",
    "    y += x**2"
   ]
  },
  {
   "cell_type": "code",
   "execution_count": 11,
   "metadata": {},
   "outputs": [
    {
     "name": "stdout",
     "output_type": "stream",
     "text": [
      "Wall time: 27.3 ms\n"
     ]
    }
   ],
   "source": [
    "%%time\n",
    "n=1_000_000\n",
    "x = np.random.uniform(0, 1, n)\n",
    "y = np.sum(x**2)\n",
    "#y = sum(x**2) 120ms"
   ]
  },
  {
   "cell_type": "markdown",
   "metadata": {},
   "source": [
    "### 11 简答题\n",
    "如下 Python 代码使⽤了 numpy 的向量化 (vectorization) 技术来计算 y 。"
   ]
  },
  {
   "cell_type": "code",
   "execution_count": 15,
   "metadata": {},
   "outputs": [
    {
     "name": "stdout",
     "output_type": "stream",
     "text": [
      "Wall time: 20.9 ms\n"
     ]
    },
    {
     "data": {
      "text/plain": [
       "333970.3828678028"
      ]
     },
     "execution_count": 15,
     "metadata": {},
     "output_type": "execute_result"
    }
   ],
   "source": [
    "%%time\n",
    "import numpy as np\n",
    "n = 1_000_000\n",
    "x = np.random.uniform(0, 1, n)\n",
    "y = np.sum(x**2)\n",
    "y"
   ]
  },
  {
   "cell_type": "markdown",
   "metadata": {},
   "source": [
    "在计算过程中，将发⽣哪三次向量化的批量操作 (batch operation)？"
   ]
  },
  {
   "cell_type": "markdown",
   "metadata": {},
   "source": [
    "#### 三个基本操作\n",
    "\n",
    "1. 计算出n个uniform随机数\n",
    "2. 将每个随机数平方\n",
    "3. 求这些随机数平方后的和"
   ]
  },
  {
   "cell_type": "markdown",
   "metadata": {},
   "source": [
    "### <font color = red>12 简答题\n",
    "寻找⼀个函数 在⼀个定义域 上的最⼤值，有许多数值优化 (numerical optimization) ⽅法可选择，\n",
    "其中最基本、最⽆知 (naive) 的⼀种⽅法叫做⽹格搜索 (grid search)。请简要介绍⽹格搜索 (grid\n",
    "search) ⽅法的基本思想。"
   ]
  },
  {
   "cell_type": "markdown",
   "metadata": {},
   "source": [
    "#### 答\n",
    "将定义域按照一定的精确度用网格划分为大量的小区间，并求网格格点的函数值，通过穷举搜索：在所有候选的参数（格点）选择中循环遍历，尝试每一种可能，最终得到逼近定义域最值得一个估计最值"
   ]
  },
  {
   "cell_type": "markdown",
   "metadata": {},
   "source": [
    "### 13 简答题\n",
    "假设已经进⾏过如下`import `和 `def `。"
   ]
  },
  {
   "cell_type": "code",
   "execution_count": 17,
   "metadata": {},
   "outputs": [],
   "source": [
    "import numpy as np\n",
    "def f(x, y):\n",
    "    return np.cos(x**2 + y**2) / (1 + x**2 + y**2)"
   ]
  },
  {
   "cell_type": "markdown",
   "metadata": {},
   "source": [
    "以下⼀段 Python 代码在运⾏时 (runtime) 将⽐较低效。请写出能够达到同样效果的更加⾼效的向量化\n",
    "(vectorized) 代码，借助于` numpy` 。"
   ]
  },
  {
   "cell_type": "code",
   "execution_count": 21,
   "metadata": {
    "scrolled": true
   },
   "outputs": [
    {
     "name": "stdout",
     "output_type": "stream",
     "text": [
      "Wall time: 3.32 s\n"
     ]
    }
   ],
   "source": [
    "%%time\n",
    "grid = np.linspace(-3, 3, 1000)\n",
    "m = -np.inf\n",
    "for x in grid:\n",
    "    for y in grid:\n",
    "        z = f(x, y)\n",
    "        if z > m:\n",
    "            m = z"
   ]
  },
  {
   "cell_type": "markdown",
   "metadata": {},
   "source": [
    "### 答"
   ]
  },
  {
   "cell_type": "code",
   "execution_count": 22,
   "metadata": {},
   "outputs": [
    {
     "name": "stdout",
     "output_type": "stream",
     "text": [
      "Wall time: 49.2 ms\n"
     ]
    },
    {
     "data": {
      "text/plain": [
       "0.9999819641085747"
      ]
     },
     "execution_count": 22,
     "metadata": {},
     "output_type": "execute_result"
    }
   ],
   "source": [
    "%%time\n",
    "\n",
    "x, y = np.meshgrid(grid, grid)\n",
    "np.max(f(x, y))"
   ]
  },
  {
   "cell_type": "markdown",
   "metadata": {},
   "source": [
    "### 14 简答题\n",
    "使⽤ `numpy `进⾏向量化 (vectorized) 计算固然能够提⾼计算速度，但有哪两处缺点？为什么会有这些\n",
    "缺点？"
   ]
  },
  {
   "cell_type": "markdown",
   "metadata": {},
   "source": [
    "### 答\n",
    "##### 缺点\n",
    "1. 它可能是高度内存密集型的（短时间内对内存和计算机资源有大量需求）\n",
    "2. 不是所有的算法都可以向量化，所以有时候使用时需要回到loops过程\n",
    "\n",
    "##### 原因\n",
    "1. 向量化计算倾向于创建许多中间数组直到计算完成，需要持续消耗大量的资源\n",
    "\n",
    "2. numpy库可用的函数有限，不能满足我们无上限的需求"
   ]
  },
  {
   "cell_type": "markdown",
   "metadata": {},
   "source": [
    "### 15 阅读\n",
    "阅读教材 [“The Scientific Libraries: NumPy”](https://python-programming.quantecon.org/numpy.html) ⼀节，学习有关 numpy 软件包 (package) 的基础知识。"
   ]
  },
  {
   "cell_type": "markdown",
   "metadata": {},
   "source": [
    "### <font color = red>16 简答题\n",
    "numpy 软件包 (package) 的主要⽬的是解决什么问题？其提供的最重要的⼀个数据类型 (data type) 是\n",
    "什么？"
   ]
  },
  {
   "cell_type": "markdown",
   "metadata": {},
   "source": [
    "#### 答：\n",
    "1. 主要解决的问题是python对数组的处理的效率不足的问题，它可以帮助我们进行大量的、快速的数组处理\n",
    "\n",
    "2. Numpy 定义的最重要的结构是一个数组数据类型，正式名称为 NumPy.ndarray。"
   ]
  },
  {
   "cell_type": "markdown",
   "metadata": {},
   "source": [
    "### <font color = red>17 简答题\n",
    "`numpy`数组 (array) 与 Python 列表 (list) ⽐较相似，但有两处重要的不同，分别是什么？"
   ]
  },
  {
   "cell_type": "markdown",
   "metadata": {},
   "source": [
    "#### 两处重要的不同\n",
    "\n",
    "1. 数据必须是同质的（它所含有的元素的类型相同）\n",
    "\n",
    "\n",
    "2. 数据类型有限制，必须是numpy提供的dtypes，这些类型中最重要、常用的是:\n",
    "\n",
    "    - 64位浮点数\n",
    "    - 64位整数\n",
    "    - 布尔值（8位，True或者False）\n",
    "\n",
    "还有 dtype 来表示复数、无符号整数等。\n",
    "\n"
   ]
  },
  {
   "cell_type": "markdown",
   "metadata": {},
   "source": [
    "### 18 简答题\n",
    "#### 以下代码运⾏后最后⼀个表达式将计算出什么结果？"
   ]
  },
  {
   "cell_type": "code",
   "execution_count": 28,
   "metadata": {},
   "outputs": [
    {
     "data": {
      "text/plain": [
       "(6,)"
      ]
     },
     "execution_count": 28,
     "metadata": {},
     "output_type": "execute_result"
    }
   ],
   "source": [
    "import numpy as np\n",
    "z = np.zeros(6)\n",
    "\n",
    "z.shape"
   ]
  },
  {
   "cell_type": "markdown",
   "metadata": {},
   "source": [
    "#### 以下代码运⾏后最后⼀个表达式将计算出什么结果？"
   ]
  },
  {
   "cell_type": "code",
   "execution_count": 29,
   "metadata": {},
   "outputs": [
    {
     "data": {
      "text/plain": [
       "array([[0., 0., 0.],\n",
       "       [0., 0., 0.]])"
      ]
     },
     "execution_count": 29,
     "metadata": {},
     "output_type": "execute_result"
    },
    {
     "data": {
      "text/plain": [
       "(2, 3)"
      ]
     },
     "execution_count": 29,
     "metadata": {},
     "output_type": "execute_result"
    }
   ],
   "source": [
    "import numpy as np\n",
    "z = np.zeros((2, 3))\n",
    "z\n",
    "z.shape"
   ]
  },
  {
   "cell_type": "markdown",
   "metadata": {},
   "source": [
    "#### 以下代码运⾏后最后⼀个表达式将计算出什么结果？"
   ]
  },
  {
   "cell_type": "code",
   "execution_count": 33,
   "metadata": {},
   "outputs": [],
   "source": [
    "import numpy as np\n",
    "#z = np.zeros(2, 3)\n",
    "#z.shape\n",
    "# data type not understood"
   ]
  },
  {
   "cell_type": "markdown",
   "metadata": {},
   "source": [
    "    #与题目无关\n",
    "    ###z = np.zeros(10)\n",
    "    z.shape\n",
    "    z\n",
    "    z.shape = (10, 1)\n",
    "    z"
   ]
  },
  {
   "cell_type": "markdown",
   "metadata": {},
   "source": [
    "### 19 简答题\n",
    "要⽣成⼀个 的 numpy 数组 (array)，数组 (array) ⾥所有元素 (element) 的值都为1 ，应该键⼊\n",
    "什么代码"
   ]
  },
  {
   "cell_type": "code",
   "execution_count": 38,
   "metadata": {},
   "outputs": [
    {
     "data": {
      "text/plain": [
       "array([[1., 1., 1., 1., 1.],\n",
       "       [1., 1., 1., 1., 1.],\n",
       "       [1., 1., 1., 1., 1.],\n",
       "       [1., 1., 1., 1., 1.],\n",
       "       [1., 1., 1., 1., 1.]])"
      ]
     },
     "execution_count": 38,
     "metadata": {},
     "output_type": "execute_result"
    }
   ],
   "source": [
    "np.ones((5,5))"
   ]
  },
  {
   "cell_type": "markdown",
   "metadata": {},
   "source": [
    "### 20 简答题\n",
    "请简要介绍` np.linspace` 函数的⽤途，并回答` np.linspace(-1, 1, 5)` 将返回什么结果。"
   ]
  },
  {
   "cell_type": "markdown",
   "metadata": {},
   "source": [
    "#### 用途：生成等间距的数字网格"
   ]
  },
  {
   "cell_type": "code",
   "execution_count": 42,
   "metadata": {},
   "outputs": [
    {
     "data": {
      "text/plain": [
       "array([-1. , -0.5,  0. ,  0.5,  1. ])"
      ]
     },
     "execution_count": 42,
     "metadata": {},
     "output_type": "execute_result"
    }
   ],
   "source": [
    "np.linspace(-1, 1, 5)#从-1到1，等间距生成五个值"
   ]
  },
  {
   "cell_type": "markdown",
   "metadata": {},
   "source": [
    "### 21 简答题\n",
    "要⽤ numpy ⽣成⼀个$3*3$ 的单位矩阵\n",
    "\n",
    "\\begin{bmatrix} 1&0&0 \\\\0&1&0\\\\ 0&0&1 \\end{bmatrix}\n"
   ]
  },
  {
   "cell_type": "markdown",
   "metadata": {},
   "source": [
    "应该键⼊什么代码？"
   ]
  },
  {
   "cell_type": "code",
   "execution_count": 44,
   "metadata": {},
   "outputs": [
    {
     "data": {
      "text/plain": [
       "array([[1., 0., 0.],\n",
       "       [0., 1., 0.],\n",
       "       [0., 0., 1.]])"
      ]
     },
     "execution_count": 44,
     "metadata": {},
     "output_type": "execute_result"
    },
    {
     "data": {
      "text/plain": [
       "array([[1., 0., 0.],\n",
       "       [0., 1., 0.],\n",
       "       [0., 0., 1.]])"
      ]
     },
     "execution_count": 44,
     "metadata": {},
     "output_type": "execute_result"
    }
   ],
   "source": [
    "np.identity(3)\n",
    "np.eye(3)"
   ]
  },
  {
   "cell_type": "markdown",
   "metadata": {},
   "source": [
    "### 22 简答题\n",
    "要⽤ numpy ⽣成如下矩阵"
   ]
  },
  {
   "cell_type": "markdown",
   "metadata": {},
   "source": [
    "应该键⼊什么代码？"
   ]
  },
  {
   "cell_type": "markdown",
   "metadata": {},
   "source": [
    "\\begin{bmatrix} 3&1&2 \\\\ 1&4&2 \\end{bmatrix}"
   ]
  },
  {
   "cell_type": "code",
   "execution_count": 46,
   "metadata": {},
   "outputs": [
    {
     "data": {
      "text/plain": [
       "array([[3, 1, 2],\n",
       "       [1, 4, 2]])"
      ]
     },
     "execution_count": 46,
     "metadata": {},
     "output_type": "execute_result"
    }
   ],
   "source": [
    "np.array([[3,1,2],[1,4,2]])"
   ]
  },
  {
   "cell_type": "markdown",
   "metadata": {},
   "source": [
    "### 23 简答题\n",
    "已知"
   ]
  },
  {
   "cell_type": "code",
   "execution_count": 49,
   "metadata": {},
   "outputs": [
    {
     "data": {
      "text/plain": [
       "array([[2, 1, 3],\n",
       "       [2, 1, 4]])"
      ]
     },
     "execution_count": 49,
     "metadata": {},
     "output_type": "execute_result"
    }
   ],
   "source": [
    "m = np.array([[2, 1, 3], [2, 1, 4]]); m\n",
    "#array([[2, 1, 3],\n",
    "#[2, 1, 4]])"
   ]
  },
  {
   "cell_type": "markdown",
   "metadata": {},
   "source": [
    "要从` m `中切取出矩阵"
   ]
  },
  {
   "cell_type": "markdown",
   "metadata": {},
   "source": [
    "\\begin{bmatrix} 1&3 \\\\ 1&4 \\end{bmatrix}"
   ]
  },
  {
   "cell_type": "markdown",
   "metadata": {},
   "source": [
    "#### 应该键⼊什么代码？\n"
   ]
  },
  {
   "cell_type": "code",
   "execution_count": 53,
   "metadata": {},
   "outputs": [
    {
     "data": {
      "text/plain": [
       "array([[1, 3],\n",
       "       [1, 4]])"
      ]
     },
     "execution_count": 53,
     "metadata": {},
     "output_type": "execute_result"
    }
   ],
   "source": [
    "m[:,1:]"
   ]
  },
  {
   "cell_type": "markdown",
   "metadata": {},
   "source": [
    "### 25 简答题\n",
    "以下代码运⾏后最后⼀个表达式将计算出什么结果？"
   ]
  },
  {
   "cell_type": "code",
   "execution_count": 59,
   "metadata": {},
   "outputs": [
    {
     "data": {
      "text/plain": [
       "array([2.5, 3.5])"
      ]
     },
     "execution_count": 59,
     "metadata": {},
     "output_type": "execute_result"
    }
   ],
   "source": [
    "import numpy as np\n",
    "z = np.linspace(2, 4, 5)\n",
    "d = np.array([0, 1, 0, 10, 0], dtype=bool)\n",
    "z[d]"
   ]
  },
  {
   "cell_type": "markdown",
   "metadata": {},
   "source": [
    "### 26 简答题\n",
    "以下代码运⾏后最后⼀个表达式将计算出什么结果？"
   ]
  },
  {
   "cell_type": "markdown",
   "metadata": {},
   "source": [
    "另一个值得了解的方法是 searchsorted ()。\n",
    "\n",
    "如果 z 是一个非递减数组，那么 z.searchsorted (a)返回的第一个>=a的z里面元素的索引\n",
    "\n"
   ]
  },
  {
   "cell_type": "code",
   "execution_count": 62,
   "metadata": {},
   "outputs": [
    {
     "data": {
      "text/plain": [
       "2"
      ]
     },
     "execution_count": 62,
     "metadata": {},
     "output_type": "execute_result"
    }
   ],
   "source": [
    "import numpy as np\n",
    "z = np.array([1.1, 2.2, 3.3, 4.4, 5.5])\n",
    "z.searchsorted(3)"
   ]
  },
  {
   "cell_type": "markdown",
   "metadata": {},
   "source": [
    "### 27 简答题\n",
    "以下代码运⾏后最后⼀个表达式将计算出什么结果？"
   ]
  },
  {
   "cell_type": "code",
   "execution_count": 63,
   "metadata": {},
   "outputs": [
    {
     "data": {
      "text/plain": [
       "array([8, 9, 8, 5])"
      ]
     },
     "execution_count": 63,
     "metadata": {},
     "output_type": "execute_result"
    }
   ],
   "source": [
    "import numpy as np\n",
    "a = np.array([4, 3, 2, 1])\n",
    "b = np.array([2, 3, 4, 5])\n",
    "a * b"
   ]
  },
  {
   "cell_type": "markdown",
   "metadata": {},
   "source": [
    "### 28 简答题\n",
    "以下代码运⾏后最后⼀个表达式将计算出什么结果？"
   ]
  },
  {
   "cell_type": "code",
   "execution_count": 64,
   "metadata": {},
   "outputs": [
    {
     "data": {
      "text/plain": [
       "array([[3., 2., 2.],\n",
       "       [2., 3., 2.],\n",
       "       [2., 2., 3.]])"
      ]
     },
     "execution_count": 64,
     "metadata": {},
     "output_type": "execute_result"
    }
   ],
   "source": [
    "import numpy as np\n",
    "a = np.eye(3)\n",
    "a + 2"
   ]
  },
  {
   "cell_type": "markdown",
   "metadata": {},
   "source": [
    "### 29 简答题\n",
    "以下代码运⾏后最后⼀个表达式将计算出什么结果？"
   ]
  },
  {
   "cell_type": "code",
   "execution_count": 65,
   "metadata": {},
   "outputs": [
    {
     "data": {
      "text/plain": [
       "array([[2, 0],\n",
       "       [0, 2]])"
      ]
     },
     "execution_count": 65,
     "metadata": {},
     "output_type": "execute_result"
    }
   ],
   "source": [
    "import numpy as np\n",
    "a = np.array([[1, 0], [0, 1]])\n",
    "b = np.array([[2, 2], [2, 2]])\n",
    "a * b"
   ]
  },
  {
   "cell_type": "markdown",
   "metadata": {},
   "source": [
    "### 30 简答题\n",
    "已知"
   ]
  },
  {
   "cell_type": "code",
   "execution_count": 66,
   "metadata": {},
   "outputs": [],
   "source": [
    "import numpy as np\n",
    "a = np.array([[1, 0], [0, 1]])\n",
    "b = np.array([[2, 2], [2, 2]])"
   ]
  },
  {
   "cell_type": "markdown",
   "metadata": {},
   "source": [
    "要计算 `a` 、`b `两矩阵的矩阵乘积 (matrix multiplication)，应该键⼊什么代码？"
   ]
  },
  {
   "cell_type": "code",
   "execution_count": 68,
   "metadata": {},
   "outputs": [
    {
     "data": {
      "text/plain": [
       "array([[2, 2],\n",
       "       [2, 2]])"
      ]
     },
     "execution_count": 68,
     "metadata": {},
     "output_type": "execute_result"
    }
   ],
   "source": [
    "a@b"
   ]
  },
  {
   "cell_type": "markdown",
   "metadata": {},
   "source": [
    "### 31 简答题\n",
    "以下代码运⾏后最后⼀个表达式将计算出什么结果？"
   ]
  },
  {
   "cell_type": "code",
   "execution_count": 74,
   "metadata": {},
   "outputs": [
    {
     "data": {
      "text/plain": [
       "array([1, 2, 3])"
      ]
     },
     "execution_count": 74,
     "metadata": {},
     "output_type": "execute_result"
    }
   ],
   "source": [
    "import numpy as np\n",
    "a = np.array([4, 2, 3])\n",
    "b = a#只传递指针\n",
    "b[0] = 1\n",
    "a"
   ]
  },
  {
   "cell_type": "markdown",
   "metadata": {},
   "source": [
    "### 32 简答题\n",
    "以下代码运⾏后最后⼀个表达式将计算出什么结果？"
   ]
  },
  {
   "cell_type": "code",
   "execution_count": 75,
   "metadata": {},
   "outputs": [
    {
     "data": {
      "text/plain": [
       "array([4, 2, 3])"
      ]
     },
     "execution_count": 75,
     "metadata": {},
     "output_type": "execute_result"
    }
   ],
   "source": [
    "import numpy as np\n",
    "a = np.array([4, 2, 3])\n",
    "b = a.copy()\n",
    "b[0] = 1\n",
    "a"
   ]
  },
  {
   "cell_type": "markdown",
   "metadata": {},
   "source": [
    "### 33 简答题\n",
    "以下代码运⾏后最后⼀个表达式将计算出什么结果？"
   ]
  },
  {
   "cell_type": "code",
   "execution_count": 77,
   "metadata": {},
   "outputs": [
    {
     "data": {
      "text/plain": [
       "array([4., 1., 9.])"
      ]
     },
     "execution_count": 77,
     "metadata": {},
     "output_type": "execute_result"
    }
   ],
   "source": [
    "import numpy as np\n",
    "a = np.array([9, 4, 16])\n",
    "(np.sqrt(a) - 1)**2"
   ]
  },
  {
   "cell_type": "markdown",
   "metadata": {},
   "source": [
    "### 34 简答题\n",
    "以下代码运⾏后最后⼀个表达式将计算出什么结果？"
   ]
  },
  {
   "cell_type": "code",
   "execution_count": 78,
   "metadata": {},
   "outputs": [
    {
     "data": {
      "text/plain": [
       "array([1, 1, 0])"
      ]
     },
     "execution_count": 78,
     "metadata": {},
     "output_type": "execute_result"
    }
   ],
   "source": [
    "import numpy as np\n",
    "a = np.array([9, 4, 16])\n",
    "np.where(a < 10, 1, 0)"
   ]
  },
  {
   "cell_type": "markdown",
   "metadata": {},
   "source": [
    "### 35 简答题\n",
    "以下定义的函数 `f `只能作⽤于单个浮点数` x` ，"
   ]
  },
  {
   "cell_type": "code",
   "execution_count": 80,
   "metadata": {},
   "outputs": [],
   "source": [
    "def f(x):\n",
    "    return 1 if x < 10 else 0"
   ]
  },
  {
   "cell_type": "markdown",
   "metadata": {},
   "source": [
    "键⼊什么代码可以使`f`能够同样作⽤于浮点数所构成的数组 (array)？"
   ]
  },
  {
   "cell_type": "markdown",
   "metadata": {},
   "source": [
    "#### 答"
   ]
  },
  {
   "cell_type": "markdown",
   "metadata": {},
   "source": [
    "#### 第一种方法"
   ]
  },
  {
   "cell_type": "code",
   "execution_count": 90,
   "metadata": {},
   "outputs": [
    {
     "data": {
      "text/plain": [
       "array([[1, 0],\n",
       "       [3, 4]])"
      ]
     },
     "execution_count": 90,
     "metadata": {},
     "output_type": "execute_result"
    }
   ],
   "source": [
    "x = np.array([[1,0],[3,4]])\n",
    "x"
   ]
  },
  {
   "cell_type": "code",
   "execution_count": 91,
   "metadata": {},
   "outputs": [
    {
     "data": {
      "text/plain": [
       "array([[1, 0],\n",
       "       [1, 1]])"
      ]
     },
     "execution_count": 91,
     "metadata": {},
     "output_type": "execute_result"
    }
   ],
   "source": [
    "def f(x):\n",
    "    return np.where(x > 0, 1, 0)  # Insert 1 if x > 0 true, otherwise 0\n",
    "f(x)"
   ]
  },
  {
   "cell_type": "markdown",
   "metadata": {},
   "source": [
    "#### 第二种方法"
   ]
  },
  {
   "cell_type": "code",
   "execution_count": null,
   "metadata": {},
   "outputs": [],
   "source": [
    "def f(x):\n",
    "    return 1 if x < 10 else 0"
   ]
  },
  {
   "cell_type": "code",
   "execution_count": 92,
   "metadata": {},
   "outputs": [
    {
     "data": {
      "text/plain": [
       "array([[1, 0],\n",
       "       [3, 4]])"
      ]
     },
     "execution_count": 92,
     "metadata": {},
     "output_type": "execute_result"
    },
    {
     "data": {
      "text/plain": [
       "array([[1, 0],\n",
       "       [1, 1]])"
      ]
     },
     "execution_count": 92,
     "metadata": {},
     "output_type": "execute_result"
    }
   ],
   "source": [
    "f = np.vectorize(f)\n",
    "x = np.array([[1,0],[3,4]])\n",
    "x\n",
    "f(x)"
   ]
  },
  {
   "cell_type": "markdown",
   "metadata": {},
   "source": [
    "### 36 简答题\n",
    "以下代码运⾏后最后⼀个表达式将计算出什么结果？"
   ]
  },
  {
   "cell_type": "code",
   "execution_count": 93,
   "metadata": {},
   "outputs": [
    {
     "data": {
      "text/plain": [
       "array([ True,  True, False])"
      ]
     },
     "execution_count": 93,
     "metadata": {},
     "output_type": "execute_result"
    }
   ],
   "source": [
    "import numpy as np\n",
    "a = np.array([1, 2, 3])\n",
    "b = np.array([1, 2, 0])\n",
    "a == b"
   ]
  },
  {
   "cell_type": "markdown",
   "metadata": {},
   "source": [
    "### 37 简答题\n",
    "以下代码运⾏后最后⼀个表达式将计算出什么结果？"
   ]
  },
  {
   "cell_type": "code",
   "execution_count": 94,
   "metadata": {},
   "outputs": [
    {
     "data": {
      "text/plain": [
       "array([False, False,  True])"
      ]
     },
     "execution_count": 94,
     "metadata": {},
     "output_type": "execute_result"
    }
   ],
   "source": [
    "import numpy as np\n",
    "a = np.array([1, 2, 3])\n",
    "b = np.array([1, 2, 0])\n",
    "a > b"
   ]
  },
  {
   "cell_type": "markdown",
   "metadata": {},
   "source": [
    "### 38 简答题\n",
    "以下代码运⾏后最后⼀个表达式将计算出什么结果？"
   ]
  },
  {
   "cell_type": "code",
   "execution_count": 95,
   "metadata": {},
   "outputs": [
    {
     "data": {
      "text/plain": [
       "array([ 5. ,  7.5, 10. ])"
      ]
     },
     "execution_count": 95,
     "metadata": {},
     "output_type": "execute_result"
    }
   ],
   "source": [
    "import numpy as np\n",
    "z = np.array([ 0. , 2.5, 5. , 7.5, 10. ])\n",
    "z[z > 3]"
   ]
  },
  {
   "cell_type": "markdown",
   "metadata": {},
   "source": [
    "### 39 简答题\n",
    "运⾏过以下代码之后，"
   ]
  },
  {
   "cell_type": "code",
   "execution_count": 96,
   "metadata": {},
   "outputs": [],
   "source": [
    "import numpy as np\n",
    "a = np.array([[1, 2], [3, 4]])"
   ]
  },
  {
   "cell_type": "markdown",
   "metadata": {},
   "source": [
    "键⼊什么代码可以计算⽅阵 a 的⾏列式 (determinant)？"
   ]
  },
  {
   "cell_type": "code",
   "execution_count": 98,
   "metadata": {},
   "outputs": [
    {
     "data": {
      "text/plain": [
       "-2.0000000000000004"
      ]
     },
     "execution_count": 98,
     "metadata": {},
     "output_type": "execute_result"
    }
   ],
   "source": [
    "np.linalg.det(a)"
   ]
  },
  {
   "cell_type": "markdown",
   "metadata": {},
   "source": [
    "### 40 简答题\n",
    "运⾏过以下代码之后"
   ]
  },
  {
   "cell_type": "code",
   "execution_count": 101,
   "metadata": {},
   "outputs": [],
   "source": [
    "import numpy as np\n",
    "a = np.array([[1, 2], [3, 4]])"
   ]
  },
  {
   "cell_type": "markdown",
   "metadata": {},
   "source": [
    "#### 键⼊什么代码可以计算⽅阵 a 的逆矩阵 (inverse matrix)？"
   ]
  },
  {
   "cell_type": "code",
   "execution_count": 103,
   "metadata": {
    "scrolled": true
   },
   "outputs": [
    {
     "data": {
      "text/plain": [
       "array([[-2. ,  1. ],\n",
       "       [ 1.5, -0.5]])"
      ]
     },
     "execution_count": 103,
     "metadata": {},
     "output_type": "execute_result"
    }
   ],
   "source": [
    "np.linalg.inv(a) "
   ]
  },
  {
   "cell_type": "markdown",
   "metadata": {},
   "source": [
    "<font color = red>\n",
    "####  这一章有一个小技巧看一个定义的函数是不是矢量化函数：有没有逐个元素的显式循环"
   ]
  },
  {
   "cell_type": "code",
   "execution_count": null,
   "metadata": {},
   "outputs": [],
   "source": []
  }
 ],
 "metadata": {
  "kernelspec": {
   "display_name": "Python 3",
   "language": "python",
   "name": "python3"
  },
  "language_info": {
   "codemirror_mode": {
    "name": "ipython",
    "version": 3
   },
   "file_extension": ".py",
   "mimetype": "text/x-python",
   "name": "python",
   "nbconvert_exporter": "python",
   "pygments_lexer": "ipython3",
   "version": "3.7.7"
  }
 },
 "nbformat": 4,
 "nbformat_minor": 4
}
