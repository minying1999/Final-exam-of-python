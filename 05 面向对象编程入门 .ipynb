{
 "cells": [
  {
   "cell_type": "markdown",
   "metadata": {},
   "source": [
    "# ⾦融计算机语⾔讲义"
   ]
  },
  {
   "cell_type": "markdown",
   "metadata": {},
   "source": [
    "## 第 5 课 ⾯向对象编程⼊⻔"
   ]
  },
  {
   "cell_type": "markdown",
   "metadata": {},
   "source": [
    "### 1 阅读\n",
    "阅读教材 [“Introduction to Python / OOP I: Introduction to Object Oriented Programming”](https://python-programming.quantecon.org/oop_intro.html) ⼀节，学\n",
    "习有关⾯向对象编程 (OOP) 的基础知识。"
   ]
  },
  {
   "cell_type": "markdown",
   "metadata": {},
   "source": [
    "###  <font color = red>2. 简答题 （根据内容和搜索殷勤自己攒）\n",
    "Python 既⽀持函数式编程，⼜⽀持⾯向对象编程，请简要介绍两者的关键区别。\n"
   ]
  },
  {
   "cell_type": "markdown",
   "metadata": {},
   "source": [
    "#### 答1"
   ]
  },
  {
   "cell_type": "markdown",
   "metadata": {},
   "source": [
    "函数式编程（面向过程编程）"
   ]
  },
  {
   "cell_type": "markdown",
   "metadata": {},
   "source": [
    "1. 是什么：\n",
    "- 函数式编程，顾名思义，这种编程是以函数思维做为核心，在这种思维的角度去思考问题。这种编程最重要的基础是λ演算，接受函数当作输入和输出。\n",
    "- 面向对象编程，这种编程是把问题看作由对象的属性与对象所进行的行为组成。基于对象的概念，以类作为对象的模板，把类和继承作为构造机制，以对象为中心，来思考并解决问题。\n",
    "\n",
    "优点\n",
    "函数式编程：支持闭包和高阶函数，闭包是一种可以起函数的作用并可以如对象般操作的对象；而高阶函数是可以以另一个函数作为输入值来进行编程。支持惰性计算，这就可以在求值需要表达式的值得时候进行计算，而不是固定在变量时计算。还有就是可以用递归作为控制流程。函数式编程所编程出来的代码相对而言少很多，而且更加简洁明了。\n",
    "面向对象编程：面向对象有三个主要特征，分别是封装性、继承性和多态性。类的说明展现了封装性，类作为对象的模板，含有私有数据和公有数据，封装性能使数据更加安全依赖的就是类的特性，使得用户只能看到对象的外在特性，不能看到对象的内在属性，用户只能访问公有数据不能直接访问到私有数据。类的派生功能展现了继承性，继承性是子类共享父类的机制，但是由于封装性，继承性也只限于公有数据的继承（还有保护数据的继承），子类在继承的同时还可以进行派生。而多态性是指对象根据接收的信息作出的行为的多态，不同对象接收同一信息会形成多种行为。\n",
    "\n",
    "缺点\n",
    "函数式编程：所有的数据都是不可以改变的，严重占据运行资源，导致运行速度也不够快。\n",
    "面向对象编程：为了编写可以重用的代码导致许多无用代码的产生，并且许多人为了面向对象而面向对象导致代码给后期维护带来很多麻烦。\n"
   ]
  },
  {
   "cell_type": "markdown",
   "metadata": {},
   "source": [
    "总结：\n",
    "\n",
    "区别：\n",
    "1. 面向对象编程具有封装性、继承性和多态性,函数式编程则没有这些特征\n",
    "2. 面向对象编程使得数据和函数“捆绑在一起”成为“对象”\n",
    "2. 函数式编程所有的数据不可变，对资源占用较高；面向对象会产生许多无用的代码，难以维护\n",
    "3. 函数式编程更适合“变量”多变的需求，面向对象编程更适合“状态”多变的需求"
   ]
  },
  {
   "cell_type": "markdown",
   "metadata": {},
   "source": [
    "[函数式编程与面向对象编程的比较](https://www.cnblogs.com/zhenw/p/6160931.html)\n",
    "\n",
    "\n",
    "\n",
    "[函数式编程和面向对象编程的区别和优劣](函数式编程和面向对象编程的区别和优劣)"
   ]
  },
  {
   "cell_type": "markdown",
   "metadata": {},
   "source": [
    "#### 答2"
   ]
  },
  {
   "cell_type": "markdown",
   "metadata": {},
   "source": [
    "\"函数式编程\"是一种\"编程范式\"（programming paradigm），也就是如何编写程序的方法论。它属于\"结构化编程\"的一种，主要思想是把运算过程尽量写成一系列嵌套的函数调用。\n",
    "\n",
    "\n",
    "面向对象程序设计(Object Oriented Programming)作为一种新方法，其本质是以建立模型体现出来的抽象思维过程和面向对象的方法"
   ]
  },
  {
   "cell_type": "markdown",
   "metadata": {},
   "source": [
    "#### 答3：建议带一丢丢3"
   ]
  },
  {
   "cell_type": "markdown",
   "metadata": {},
   "source": [
    "#### 面向对象编程是编程中的主要范例之一。\n",
    "\n",
    "传统的编程范型程序(比如 Fortran，c，MATLAB 等等)被称为过程式。\n",
    "1. 程序具有与其变量值对应的状态\n",
    "2. 函数被调用来处理这些数据\n",
    "3. 数据通过函数调用来回传递\n",
    "\n",
    "\n",
    "相比之下，在 OOP 范例中\n",
    "- 数据和函数“捆绑在一起”成为“对象”"
   ]
  },
  {
   "cell_type": "markdown",
   "metadata": {},
   "source": [
    "### <font color  = red>3 简答题\n",
    "Python 语⾔将运⾏时 (runtime) 的内存 (memory) 数据以对象 (object) 为单位进⾏管理。请简要介绍\n",
    "对象 (object) 所包含的四个基本要素。"
   ]
  },
  {
   "cell_type": "markdown",
   "metadata": {},
   "source": [
    "### 答"
   ]
  },
  {
   "cell_type": "markdown",
   "metadata": {},
   "source": [
    "#### 在 Python 中，对象是保存在计算机内存中的数据和指令的集合，具体包括以下四个基本要素："
   ]
  },
  {
   "cell_type": "markdown",
   "metadata": {},
   "source": [
    "1. a type 一个类型\n",
    "2. a unique identity 一个独特的身份（识别号，数据标识符）\n",
    "3. data (i.e., content) 数据(即内容)\n",
    "4. methods 方法\n"
   ]
  },
  {
   "cell_type": "markdown",
   "metadata": {},
   "source": [
    "### 4 简答题\n",
    "请问执⾏以下 Python 代码会不会报错？"
   ]
  },
  {
   "cell_type": "code",
   "execution_count": 1,
   "metadata": {},
   "outputs": [],
   "source": [
    "def add(x, y):\n",
    "    return x + y"
   ]
  },
  {
   "cell_type": "markdown",
   "metadata": {},
   "source": [
    "#### 答：不会"
   ]
  },
  {
   "cell_type": "markdown",
   "metadata": {},
   "source": [
    " 接着执⾏以下代码会不会报错？"
   ]
  },
  {
   "cell_type": "code",
   "execution_count": 2,
   "metadata": {},
   "outputs": [
    {
     "data": {
      "text/plain": [
       "700"
      ]
     },
     "execution_count": 2,
     "metadata": {},
     "output_type": "execute_result"
    }
   ],
   "source": [
    "add(300, 400)"
   ]
  },
  {
   "cell_type": "markdown",
   "metadata": {},
   "source": [
    "接着执⾏以下代码会不会报错？"
   ]
  },
  {
   "cell_type": "code",
   "execution_count": 3,
   "metadata": {
    "scrolled": true
   },
   "outputs": [],
   "source": [
    "#add('300', 400)\n"
   ]
  },
  {
   "cell_type": "markdown",
   "metadata": {},
   "source": [
    "#### 答：会（TypeError: can only concatenate str (not \"int\") to str）"
   ]
  },
  {
   "cell_type": "markdown",
   "metadata": {},
   "source": [
    "若以上步骤中会有报错，出错的原因分别是什么？请重新定义⼀个 “正确” 的 add 函数，使以上代码不出现报错。"
   ]
  },
  {
   "cell_type": "markdown",
   "metadata": {},
   "source": [
    "#### 答：因为’300’是str类型，400是int类型不能相加，这两类对象都只能同类型之间使用“+”"
   ]
  },
  {
   "cell_type": "code",
   "execution_count": 4,
   "metadata": {},
   "outputs": [],
   "source": [
    "def add(x, y):\n",
    "    return x + y"
   ]
  },
  {
   "cell_type": "markdown",
   "metadata": {},
   "source": [
    "#### 改为"
   ]
  },
  {
   "cell_type": "code",
   "execution_count": 5,
   "metadata": {},
   "outputs": [],
   "source": [
    "def add(x, y):\n",
    "    return str(x) + str(y)#对大部分对象试用，比如非数字字符串"
   ]
  },
  {
   "cell_type": "markdown",
   "metadata": {},
   "source": [
    "#### 如果只想计算值得话"
   ]
  },
  {
   "cell_type": "code",
   "execution_count": 6,
   "metadata": {},
   "outputs": [],
   "source": [
    "def add(x, y):\n",
    "    return float(x) + float(y)#或int"
   ]
  },
  {
   "cell_type": "markdown",
   "metadata": {},
   "source": [
    "### <font color = red>5 简答题"
   ]
  },
  {
   "cell_type": "code",
   "execution_count": 7,
   "metadata": {},
   "outputs": [],
   "source": [
    "x = [3, 1, 2]\n",
    "y = [3, 1, 2]\n",
    "z = x"
   ]
  },
  {
   "cell_type": "markdown",
   "metadata": {},
   "source": [
    "以上代码运⾏后， x 、 y 、 z 哪些指向的是同⼀个对象？为什么？\n"
   ]
  },
  {
   "cell_type": "markdown",
   "metadata": {},
   "source": [
    "1. x和z是同一对象，x和y碰巧有相同的值，但不是同一对象，对象的标识(id)实际上就是对象在内存中的地址。\n",
    "2. 原因是z是直接=x（用x赋值）的，相当于将z指向x而不失重新开辟z的空间；y是独立于x的有另开辟的空间"
   ]
  },
  {
   "cell_type": "code",
   "execution_count": 8,
   "metadata": {},
   "outputs": [
    {
     "data": {
      "text/plain": [
       "3022828480264"
      ]
     },
     "execution_count": 8,
     "metadata": {},
     "output_type": "execute_result"
    },
    {
     "data": {
      "text/plain": [
       "False"
      ]
     },
     "execution_count": 8,
     "metadata": {},
     "output_type": "execute_result"
    },
    {
     "data": {
      "text/plain": [
       "True"
      ]
     },
     "execution_count": 8,
     "metadata": {},
     "output_type": "execute_result"
    }
   ],
   "source": [
    "id(x)\n",
    "id(y)==id(x)\n",
    "id(z)==id(x)"
   ]
  },
  {
   "cell_type": "markdown",
   "metadata": {},
   "source": [
    "### 6 简答题\n",
    "什么是对象 (object) 的属性 (attribute)？如果有⼀个名称 x 指向着对象 (object) 整数 (int) 42 ，如何通过 x 访问到 42 这个对象的 imag 属性？"
   ]
  },
  {
   "cell_type": "markdown",
   "metadata": {},
   "source": [
    "1. 属性就是在创建对象时，它与其一起存储各种辅助信息，如虚部和类型。\n",
    "\n",
    "\n",
    "2. 通过对象.属性的方式访问，本例中为：x.imag"
   ]
  },
  {
   "cell_type": "markdown",
   "metadata": {},
   "source": [
    "### <font color = red>7 简答题 （自己攒）\n",
    "Python 对象 (object) 的⽅法 (method) 与 Python 函数 (function) 之间有什么联系和区别？\n"
   ]
  },
  {
   "cell_type": "markdown",
   "metadata": {},
   "source": [
    "联系：\n",
    "1. 方法就是与对象捆绑在一起的函数\n",
    "2. 方法在形式上是可调用对象的属性，函数调用相对方法较独立\n",
    "3. 方法通常作用于它们所属的对象中包含的数据，或者将该数据与对象外其他数据组合在一起，大量的 Python 功能都是是围绕方法调用组织的。\n",
    "\n",
    "区别：\n",
    "1. 函数与类和实例没有绑定关系；方法与类和实例有绑定关系；⽅法作⽤域属于类，所以即便和普通函数重名，也不会被覆盖\n",
    "2. method是类内部定义的，function属于独立定义的。\n",
    "3. ⽅法必须通过对象调⽤，⽽函数不需要\n",
    "4.  ⽅法的第⼀个参数必须是self，但函数不要求\n",
    "           "
   ]
  },
  {
   "cell_type": "markdown",
   "metadata": {},
   "source": [
    "https://www.zhihu.com/question/299219511\n",
    "\n"
   ]
  },
  {
   "cell_type": "markdown",
   "metadata": {},
   "source": [
    "### 8 简答题\n",
    "运⾏代码\n"
   ]
  },
  {
   "cell_type": "code",
   "execution_count": 9,
   "metadata": {},
   "outputs": [],
   "source": [
    "x = ['foo', 'bar']"
   ]
  },
  {
   "cell_type": "markdown",
   "metadata": {},
   "source": [
    "之后， x.append 所指向的对象 (object) 是否可调⽤ (callable)？\n"
   ]
  },
  {
   "cell_type": "code",
   "execution_count": 10,
   "metadata": {},
   "outputs": [
    {
     "data": {
      "text/plain": [
       "False"
      ]
     },
     "execution_count": 10,
     "metadata": {},
     "output_type": "execute_result"
    },
    {
     "data": {
      "text/plain": [
       "True"
      ]
     },
     "execution_count": 10,
     "metadata": {},
     "output_type": "execute_result"
    }
   ],
   "source": [
    "callable(x)\n",
    "callable(x.append)"
   ]
  },
  {
   "cell_type": "markdown",
   "metadata": {},
   "source": [
    "#### 答：可调用\n"
   ]
  },
  {
   "cell_type": "markdown",
   "metadata": {},
   "source": [
    "`x.__doc__ `是否可调⽤(callable)？\n"
   ]
  },
  {
   "cell_type": "code",
   "execution_count": 11,
   "metadata": {},
   "outputs": [
    {
     "data": {
      "text/plain": [
       "False"
      ]
     },
     "execution_count": 11,
     "metadata": {},
     "output_type": "execute_result"
    }
   ],
   "source": [
    "callable(x.__doc__)"
   ]
  },
  {
   "cell_type": "markdown",
   "metadata": {},
   "source": [
    "#### 答：不可调用\n"
   ]
  },
  {
   "cell_type": "markdown",
   "metadata": {},
   "source": [
    "`x.__class__ `是否可调⽤ (callable)？\n"
   ]
  },
  {
   "cell_type": "code",
   "execution_count": 12,
   "metadata": {},
   "outputs": [
    {
     "data": {
      "text/plain": [
       "True"
      ]
     },
     "execution_count": 12,
     "metadata": {},
     "output_type": "execute_result"
    }
   ],
   "source": [
    "callable(x.__class__)"
   ]
  },
  {
   "cell_type": "markdown",
   "metadata": {},
   "source": [
    "#### 答：可调用\n"
   ]
  },
  {
   "cell_type": "markdown",
   "metadata": {},
   "source": [
    "通过什么 Python 代码可以判断他们是否可调⽤(callable)？\n"
   ]
  },
  {
   "cell_type": "markdown",
   "metadata": {},
   "source": [
    "#### callable（obeject）"
   ]
  },
  {
   "cell_type": "markdown",
   "metadata": {},
   "source": [
    "### 9 简答题\n",
    "运⾏以下代码之后， q 会等于什么值？\n"
   ]
  },
  {
   "cell_type": "code",
   "execution_count": 13,
   "metadata": {},
   "outputs": [],
   "source": [
    "q = [7, 9, 8]\n",
    "q.remove(9)\n"
   ]
  },
  {
   "cell_type": "code",
   "execution_count": 14,
   "metadata": {},
   "outputs": [
    {
     "data": {
      "text/plain": [
       "[7, 8]"
      ]
     },
     "execution_count": 14,
     "metadata": {},
     "output_type": "execute_result"
    }
   ],
   "source": [
    "q# q 会等于"
   ]
  },
  {
   "cell_type": "markdown",
   "metadata": {},
   "source": [
    "运⾏以下代码之后， s 会等于什么值？"
   ]
  },
  {
   "cell_type": "code",
   "execution_count": 15,
   "metadata": {},
   "outputs": [
    {
     "data": {
      "text/plain": [
       "'That is a string'"
      ]
     },
     "execution_count": 15,
     "metadata": {},
     "output_type": "execute_result"
    }
   ],
   "source": [
    "s = 'This is a string'\n",
    "s.replace('This', 'That')"
   ]
  },
  {
   "cell_type": "code",
   "execution_count": 16,
   "metadata": {
    "scrolled": true
   },
   "outputs": [
    {
     "data": {
      "text/plain": [
       "'This is a string'"
      ]
     },
     "execution_count": 16,
     "metadata": {},
     "output_type": "execute_result"
    }
   ],
   "source": [
    "s#s 会等于"
   ]
  },
  {
   "cell_type": "markdown",
   "metadata": {},
   "source": [
    "这能说明什么问题？\n"
   ]
  },
  {
   "cell_type": "markdown",
   "metadata": {},
   "source": [
    "#### 答：说明用replace不会改变原string的内容，remove会改变列表"
   ]
  },
  {
   "cell_type": "markdown",
   "metadata": {},
   "source": [
    "### <font color = red>10 简答题 \n",
    "运⾏以下代码"
   ]
  },
  {
   "cell_type": "code",
   "execution_count": 17,
   "metadata": {},
   "outputs": [],
   "source": [
    "q = [7, 9, 8] "
   ]
  },
  {
   "cell_type": "markdown",
   "metadata": {},
   "source": [
    "之后，可以说名称 `q `现在指向着⼀个列表 (list) 对象 (object)。那么，` q` 所捆绑 (bind) 的⽅法(method)` q.append`，其所指向的还是不是对象 (object)？为什么？通过什么可以看出来？"
   ]
  },
  {
   "cell_type": "markdown",
   "metadata": {},
   "source": [
    "#### 答：是，因为其所指向的是方法,属于对象\n",
    "\n",
    "通过type（object）可以看出来，或者id和`q.appennd.__call__`等"
   ]
  },
  {
   "cell_type": "code",
   "execution_count": 18,
   "metadata": {},
   "outputs": [
    {
     "data": {
      "text/plain": [
       "builtin_function_or_method"
      ]
     },
     "execution_count": 18,
     "metadata": {},
     "output_type": "execute_result"
    },
    {
     "data": {
      "text/plain": [
       "list"
      ]
     },
     "execution_count": 18,
     "metadata": {},
     "output_type": "execute_result"
    },
    {
     "data": {
      "text/plain": [
       "[7, 9, 8, 5]"
      ]
     },
     "execution_count": 18,
     "metadata": {},
     "output_type": "execute_result"
    },
    {
     "data": {
      "text/plain": [
       "<function builtin_function_or_method.__dir__()>"
      ]
     },
     "execution_count": 18,
     "metadata": {},
     "output_type": "execute_result"
    },
    {
     "data": {
      "text/plain": [
       "3022802264936"
      ]
     },
     "execution_count": 18,
     "metadata": {},
     "output_type": "execute_result"
    }
   ],
   "source": [
    "type(q.append)\n",
    "type(q)\n",
    "q.append.__call__(5)\n",
    "q\n",
    "qa = q.append.__dir__.__dir__.__dir__.__dir__\n",
    "qa.__dir__\n",
    "id(q.append)"
   ]
  },
  {
   "cell_type": "markdown",
   "metadata": {},
   "source": [
    "### 11 简答题\n",
    "Python 对象 (object) 普遍捆绑 (bind) 有⼤量 “双下划线⽅法” (double-underscore methods，简称\n",
    "dunder methods)，⽤于各种 Python 语法的内部实现 (implementation)。例如，表达式 x + y 在\n",
    "Python 内部其实是调⽤了 x.__add__(y) 实现的。请列举任意 三个 你所了解的某种类型 (type) 的双\n",
    "下划线⽅法 (dunder methods)，及其等价的 Python 语法"
   ]
  },
  {
   "cell_type": "code",
   "execution_count": 19,
   "metadata": {},
   "outputs": [
    {
     "data": {
      "text/plain": [
       "['b', 'c']"
      ]
     },
     "execution_count": 19,
     "metadata": {},
     "output_type": "execute_result"
    },
    {
     "data": {
      "text/plain": [
       "False"
      ]
     },
     "execution_count": 19,
     "metadata": {},
     "output_type": "execute_result"
    },
    {
     "data": {
      "text/plain": [
       "-1"
      ]
     },
     "execution_count": 19,
     "metadata": {},
     "output_type": "execute_result"
    },
    {
     "data": {
      "text/plain": [
       "2"
      ]
     },
     "execution_count": 19,
     "metadata": {},
     "output_type": "execute_result"
    }
   ],
   "source": [
    "l = ['a','c']\n",
    "x = 1\n",
    "y=2\n",
    "l.__setitem__(0,\"b\")#等价于str[0] = 'aa'\n",
    "l\n",
    "x.__eq__(y)#等价于x<y\n",
    "x.__sub__(y)#等价于x-y\n",
    "x.__mul__(y)#等价于x*y\n"
   ]
  },
  {
   "attachments": {
    "image.png": {
     "image/png": "[encoded data removed]"
    }
   },
   "cell_type": "markdown",
   "metadata": {},
   "source": [
    "![image.png](attachment:image.png)"
   ]
  },
  {
   "cell_type": "code",
   "execution_count": 20,
   "metadata": {
    "scrolled": true
   },
   "outputs": [
    {
     "data": {
      "text/plain": [
       "['__abs__',\n",
       " '__add__',\n",
       " '__and__',\n",
       " '__bool__',\n",
       " '__ceil__',\n",
       " '__class__',\n",
       " '__delattr__',\n",
       " '__dir__',\n",
       " '__divmod__',\n",
       " '__doc__',\n",
       " '__eq__',\n",
       " '__float__',\n",
       " '__floor__',\n",
       " '__floordiv__',\n",
       " '__format__',\n",
       " '__ge__',\n",
       " '__getattribute__',\n",
       " '__getnewargs__',\n",
       " '__gt__',\n",
       " '__hash__',\n",
       " '__index__',\n",
       " '__init__',\n",
       " '__init_subclass__',\n",
       " '__int__',\n",
       " '__invert__',\n",
       " '__le__',\n",
       " '__lshift__',\n",
       " '__lt__',\n",
       " '__mod__',\n",
       " '__mul__',\n",
       " '__ne__',\n",
       " '__neg__',\n",
       " '__new__',\n",
       " '__or__',\n",
       " '__pos__',\n",
       " '__pow__',\n",
       " '__radd__',\n",
       " '__rand__',\n",
       " '__rdivmod__',\n",
       " '__reduce__',\n",
       " '__reduce_ex__',\n",
       " '__repr__',\n",
       " '__rfloordiv__',\n",
       " '__rlshift__',\n",
       " '__rmod__',\n",
       " '__rmul__',\n",
       " '__ror__',\n",
       " '__round__',\n",
       " '__rpow__',\n",
       " '__rrshift__',\n",
       " '__rshift__',\n",
       " '__rsub__',\n",
       " '__rtruediv__',\n",
       " '__rxor__',\n",
       " '__setattr__',\n",
       " '__sizeof__',\n",
       " '__str__',\n",
       " '__sub__',\n",
       " '__subclasshook__',\n",
       " '__truediv__',\n",
       " '__trunc__',\n",
       " '__xor__',\n",
       " 'bit_length',\n",
       " 'conjugate',\n",
       " 'denominator',\n",
       " 'from_bytes',\n",
       " 'imag',\n",
       " 'numerator',\n",
       " 'real',\n",
       " 'to_bytes']"
      ]
     },
     "execution_count": 20,
     "metadata": {},
     "output_type": "execute_result"
    }
   ],
   "source": [
    "dir(int)\n",
    "#dir(str)"
   ]
  },
  {
   "cell_type": "markdown",
   "metadata": {},
   "source": [
    "### <font color = red>13 简答题\n",
    "请列举⾄少 10 个 Python 内置类型 (built-in class) 的名称 (name)。"
   ]
  },
  {
   "cell_type": "markdown",
   "metadata": {},
   "source": [
    "- 数值型：int, float, complex\n",
    "- 序列：(iterable) str, tuple, list, bytes,bytearray, buffer, xrange\n",
    "- 集合：set, fronzeset\n",
    "- 映射：dict\n",
    "- 文件：file"
   ]
  },
  {
   "cell_type": "markdown",
   "metadata": {},
   "source": [
    "1. 数值类型：int float complex bool\n",
    "2. 迭代类型\n",
    "3. 序列类型list bytes bytearray meneoryview（二进制序列）range tuple str array\n",
    "4. 映射类型dict\n",
    "5. 集合set frozenset\n",
    "6. 上下文管理类型with statement\n",
    "7. 其他模块类型:类和实例 函数类型 方法类型 代码类型 object对象 type 类型 ellipsis 类型notimnotimpleted\n",
    "8. None (全局只有一个): 在 Python 解释器中存在且只存在唯一的一个 None 对象"
   ]
  },
  {
   "cell_type": "markdown",
   "metadata": {},
   "source": [
    "### <font color = red>14 探索\n",
    "请使⽤ dir 和 help ⾃⾏探索 Python 所有内置类型 (built-in class) 所附带的⽅法，尤其是浏览并了\n",
    "解 str 、 list 、 dict 、 set 等类型的所有⽅法。"
   ]
  },
  {
   "cell_type": "code",
   "execution_count": 21,
   "metadata": {},
   "outputs": [
    {
     "name": "stdout",
     "output_type": "stream",
     "text": [
      "<class 'str'>的所有方法是['__add__', '__class__', '__contains__', '__delattr__', '__dir__', '__doc__', '__eq__', '__format__', '__ge__', '__getattribute__', '__getitem__', '__getnewargs__', '__gt__', '__hash__', '__init__', '__init_subclass__', '__iter__', '__le__', '__len__', '__lt__', '__mod__', '__mul__', '__ne__', '__new__', '__reduce__', '__reduce_ex__', '__repr__', '__rmod__', '__rmul__', '__setattr__', '__sizeof__', '__str__', '__subclasshook__', 'capitalize', 'casefold', 'center', 'count', 'encode', 'endswith', 'expandtabs', 'find', 'format', 'format_map', 'index', 'isalnum', 'isalpha', 'isascii', 'isdecimal', 'isdigit', 'isidentifier', 'islower', 'isnumeric', 'isprintable', 'isspace', 'istitle', 'isupper', 'join', 'ljust', 'lower', 'lstrip', 'maketrans', 'partition', 'replace', 'rfind', 'rindex', 'rjust', 'rpartition', 'rsplit', 'rstrip', 'split', 'splitlines', 'startswith', 'strip', 'swapcase', 'title', 'translate', 'upper', 'zfill']\n",
      "\n",
      "\n",
      "\n",
      "<class 'list'>的所有方法是['__add__', '__class__', '__contains__', '__delattr__', '__delitem__', '__dir__', '__doc__', '__eq__', '__format__', '__ge__', '__getattribute__', '__getitem__', '__gt__', '__hash__', '__iadd__', '__imul__', '__init__', '__init_subclass__', '__iter__', '__le__', '__len__', '__lt__', '__mul__', '__ne__', '__new__', '__reduce__', '__reduce_ex__', '__repr__', '__reversed__', '__rmul__', '__setattr__', '__setitem__', '__sizeof__', '__str__', '__subclasshook__', 'append', 'clear', 'copy', 'count', 'extend', 'index', 'insert', 'pop', 'remove', 'reverse', 'sort']\n",
      "\n",
      "\n",
      "\n",
      "<class 'dict'>的所有方法是['__class__', '__contains__', '__delattr__', '__delitem__', '__dir__', '__doc__', '__eq__', '__format__', '__ge__', '__getattribute__', '__getitem__', '__gt__', '__hash__', '__init__', '__init_subclass__', '__iter__', '__le__', '__len__', '__lt__', '__ne__', '__new__', '__reduce__', '__reduce_ex__', '__repr__', '__setattr__', '__setitem__', '__sizeof__', '__str__', '__subclasshook__', 'clear', 'copy', 'fromkeys', 'get', 'items', 'keys', 'pop', 'popitem', 'setdefault', 'update', 'values']\n",
      "\n",
      "\n",
      "\n",
      "<class 'set'>的所有方法是['__and__', '__class__', '__contains__', '__delattr__', '__dir__', '__doc__', '__eq__', '__format__', '__ge__', '__getattribute__', '__gt__', '__hash__', '__iand__', '__init__', '__init_subclass__', '__ior__', '__isub__', '__iter__', '__ixor__', '__le__', '__len__', '__lt__', '__ne__', '__new__', '__or__', '__rand__', '__reduce__', '__reduce_ex__', '__repr__', '__ror__', '__rsub__', '__rxor__', '__setattr__', '__sizeof__', '__str__', '__sub__', '__subclasshook__', '__xor__', 'add', 'clear', 'copy', 'difference', 'difference_update', 'discard', 'intersection', 'intersection_update', 'isdisjoint', 'issubset', 'issuperset', 'pop', 'remove', 'symmetric_difference', 'symmetric_difference_update', 'union', 'update']\n",
      "\n",
      "\n",
      "\n"
     ]
    }
   ],
   "source": [
    "\n",
    "for i in (str,list,dict,set):\n",
    "    print(f'{i}的所有方法是{dir(i)}\\n\\n\\n')"
   ]
  },
  {
   "cell_type": "markdown",
   "metadata": {},
   "source": [
    "### <font color = red>15 简答题\n",
    "在 str 类型 (class) 的各种⽅法 (method) 中，请列举你认为最常⽤的五个，并举例说明其⽤途、⽤\n",
    "法"
   ]
  },
  {
   "cell_type": "code",
   "execution_count": 22,
   "metadata": {},
   "outputs": [
    {
     "data": {
      "text/plain": [
       "'Ming'"
      ]
     },
     "execution_count": 22,
     "metadata": {},
     "output_type": "execute_result"
    },
    {
     "data": {
      "text/plain": [
       "'MMMMMMMMMingMMMMMMMM'"
      ]
     },
     "execution_count": 22,
     "metadata": {},
     "output_type": "execute_result"
    },
    {
     "data": {
      "text/plain": [
       "1"
      ]
     },
     "execution_count": 22,
     "metadata": {},
     "output_type": "execute_result"
    },
    {
     "data": {
      "text/plain": [
       "b'Ming'"
      ]
     },
     "execution_count": 22,
     "metadata": {},
     "output_type": "execute_result"
    },
    {
     "data": {
      "text/plain": [
       "True"
      ]
     },
     "execution_count": 22,
     "metadata": {},
     "output_type": "execute_result"
    }
   ],
   "source": [
    "s = 'Ming'\n",
    "s.capitalize()#字符串首字母大写\n",
    "s.center(20,'M')#将字符串放在中间；在制定长度下，首尾以指定字符填充\n",
    "s.count(\"M\") #计算某字符在字符串中的数量\n",
    "s.encode('utf-8')#编码\n",
    "s.endswith('g') #判断是否以某字符结尾 s.find(self, sub, start=None, end=None) #在字符串中寻找指定字符的位置"
   ]
  },
  {
   "cell_type": "markdown",
   "metadata": {},
   "source": [
    "### <font color = red>16 简答题\n",
    "在 `list` 类型 (class) 的各种⽅法 (method) 中，请列举你认为最常⽤的五个，并举例说明其⽤途、⽤法。"
   ]
  },
  {
   "cell_type": "code",
   "execution_count": 23,
   "metadata": {},
   "outputs": [
    {
     "data": {
      "text/plain": [
       "0"
      ]
     },
     "execution_count": 23,
     "metadata": {},
     "output_type": "execute_result"
    },
    {
     "data": {
      "text/plain": [
       "1"
      ]
     },
     "execution_count": 23,
     "metadata": {},
     "output_type": "execute_result"
    },
    {
     "data": {
      "text/plain": [
       "'d'"
      ]
     },
     "execution_count": 23,
     "metadata": {},
     "output_type": "execute_result"
    },
    {
     "data": {
      "text/plain": [
       "['b', 'a']"
      ]
     },
     "execution_count": 23,
     "metadata": {},
     "output_type": "execute_result"
    }
   ],
   "source": [
    "l = ['a','b']\n",
    "l.append('c') #向列表添加元素（无返回值）\n",
    "l.clear() #移除列表所有的元素\n",
    "l.count('a') #返回value在列表中出现的次数\n",
    "l.extend(('a','b','c')) #拓展列表（无返回值）\n",
    "l.index('b') #返回value在列表中第一个的索引，如果值不在列表中就会报错\n",
    "l.insert(3,'d') #根据索引值向列表中插入元素\n",
    "l.pop(3) #根据索引值（默认是最后一位）移除元素 并且返回这个元素\n",
    "l.remove('c') #根据value值删除列表的元素；如果value不在列表中那么就会报错（无返回值）\n",
    "l.reverse() #将列表的元素倒过来\n",
    "l"
   ]
  },
  {
   "cell_type": "markdown",
   "metadata": {},
   "source": [
    "### <font color = red>17 简答题\n",
    "在 dict 类型 (class) 的各种⽅法 (method) 中，请列举你认为最常⽤的五个，并举例说明其⽤途、⽤法。"
   ]
  },
  {
   "cell_type": "code",
   "execution_count": 24,
   "metadata": {},
   "outputs": [
    {
     "data": {
      "text/plain": [
       "{'a,': 'b', ('c',): ['d'], 'e': {'f'}}"
      ]
     },
     "execution_count": 24,
     "metadata": {},
     "output_type": "execute_result"
    },
    {
     "data": {
      "text/plain": [
       "['d']"
      ]
     },
     "execution_count": 24,
     "metadata": {},
     "output_type": "execute_result"
    },
    {
     "data": {
      "text/plain": [
       "dict_values(['b', {'f'}])"
      ]
     },
     "execution_count": 24,
     "metadata": {},
     "output_type": "execute_result"
    },
    {
     "data": {
      "text/plain": [
       "{'a,': 'b', 'e': {'f'}}"
      ]
     },
     "execution_count": 24,
     "metadata": {},
     "output_type": "execute_result"
    },
    {
     "data": {
      "text/plain": [
       "{'a,': 'g', 'e': {'f'}, 'h': 'i', 'five': '5', 'six': 6}"
      ]
     },
     "execution_count": 24,
     "metadata": {},
     "output_type": "execute_result"
    }
   ],
   "source": [
    "d ={\"a,\":\"b\",(\"c\",):['d'],\"e\":{'f'}}\n",
    "d.get('a') #根据key获取对应的值,key不存在默认取None \n",
    "d\n",
    "d.pop((\"c\",)) #必须要传值，因为字典是无序的(删除) \n",
    "d.values()#获取所有的value 值\n",
    "d\n",
    "d.update({(\"a,\"):\"g\"})# 更新字典中的值\n",
    "d.update(h = \"i\")#容易有歧义，不可以是表达式（'h' = \"i\"）\n",
    "d.update(five='5', six=6)\n",
    "d\n",
    "d.clear() #清空字典 .keys()#获取所有的key 值 "
   ]
  },
  {
   "cell_type": "markdown",
   "metadata": {},
   "source": [
    "[Python 字典 update() 方法](https://www.cnblogs.com/wushuaishuai/p/7739441.html)"
   ]
  },
  {
   "cell_type": "markdown",
   "metadata": {},
   "source": [
    "### <font color = red>18 简答题\n",
    "在 set 类型 (class) 的各种⽅法 (method) 中，请列举你认为最常⽤的五个，并举例说明其⽤途、⽤法。\n"
   ]
  },
  {
   "cell_type": "code",
   "execution_count": 25,
   "metadata": {},
   "outputs": [
    {
     "name": "stdout",
     "output_type": "stream",
     "text": [
      "这是se:{'c', 37, 'b', 10, 42, 'e'},这是t:{'b', 'c', 'd', 'a'}\n"
     ]
    },
    {
     "data": {
      "text/plain": [
       "{10, 37, 42, 'a', 'b', 'c', 'd', 'e'}"
      ]
     },
     "execution_count": 25,
     "metadata": {},
     "output_type": "execute_result"
    },
    {
     "data": {
      "text/plain": [
       "{'b', 'c'}"
      ]
     },
     "execution_count": 25,
     "metadata": {},
     "output_type": "execute_result"
    },
    {
     "data": {
      "text/plain": [
       "{10, 37, 42, 'e'}"
      ]
     },
     "execution_count": 25,
     "metadata": {},
     "output_type": "execute_result"
    },
    {
     "data": {
      "text/plain": [
       "{10, 37, 42, 'a', 'd', 'e'}"
      ]
     },
     "execution_count": 25,
     "metadata": {},
     "output_type": "execute_result"
    },
    {
     "data": {
      "text/plain": [
       "{10, 37, 42, 'b', 'c', 'e'}"
      ]
     },
     "execution_count": 25,
     "metadata": {},
     "output_type": "execute_result"
    }
   ],
   "source": [
    "se = {'a','b',\"c\"}\n",
    "t = {'a','b',\"c\",\"d\"}\n",
    "se.add('e') # 添加一项\n",
    "se.update([10,37,42]) #添加多项\n",
    "se.remove('a') #删除一项\n",
    "print(f'这是se:{se},这是t:{t}')\n",
    "se.union(t) #s | t返回一个新的 set 包含 s 和 t 中的每一个元素\n",
    "se.intersection(t)#s & t返回一个新的 set 包含 s 和 t 中的公共元素\n",
    "se.difference(t)#s - t返回一个新的 set 包含 s 中有但是 t 中没有的元素\n",
    "se.symmetric_difference(t)#s ^ t返回一个新的 set 包含 s 和 t 中不重复的元素\n",
    "se.copy()#返回 set “s”的一个浅复制"
   ]
  },
  {
   "cell_type": "markdown",
   "metadata": {},
   "source": [
    "### 19 探索\n",
    "在运⾏时 (runtime) 通过 import 语句 (statement) 所导⼊的模块 (module) 也是对象 (object)。与普\n",
    "通对象 (object) 的属性 (attributes) 多为绑定的 (binded) ⽅法 (method) 不同，模块 (module) 对象的\n",
    "属性 (attributes) 多为⼦模块 (sub-module)、函数 (function) 和类 (class)。模块 (module) 是完成⼀类\n",
    "专业 (specialized) ⼯作所需的各种预先定义 (编程) 好的函数 (function) 和类 (class) (及其⽅法\n",
    "(method)) 的⼀种组织整理⽅式。例如 Python 标准库 (standard library) 中所⾃带的 datetime 模块\n",
    "(module)，组织整理了各种处理⽇期时间有关的函数 (function) 和类 (class)。执⾏ import datetime\n",
    "之后，执⾏ help(datetime) 就可以在终端 (terminal) ⾥查看到 datetime 模块的⽂档。执⾏\n",
    "dir(datetime) 就可以看到 datetime 模块⾥的内容，其中重要的有\n",
    "datetime.date 、 datetime.time 、 datetime.datetime 三个类 (class)，分别⽤于处理⽇期、时\n",
    "间、⽇期-时间等类型的数据及其有关计算。\n",
    "\n",
    "在包罗万象的 Python 标准库 (standard library) ⾥，特别常⽤的⼏个模块有：\n",
    "1. datetime ，\n",
    "2. random ，\n",
    "3. os ，\n",
    "4. re ，\n",
    "5. pathlib ，\n",
    "6. json ，\n",
    "7. sqlite3 \n",
    "\n",
    "等。\n",
    "请⾃⾏阅读他们的⽂档有个⼤概\n",
    "的了解"
   ]
  },
  {
   "cell_type": "markdown",
   "metadata": {},
   "source": [
    "### <font color = red>20 简答题\n",
    "请分别⽤⼀句话介绍以下⼏个 Python 标准库 (standard library) 中的常⽤模块 (module) 的主要⽤途："
   ]
  },
  {
   "cell_type": "markdown",
   "metadata": {},
   "source": [
    "1. datetime \n",
    "\n",
    "#datetime 模块提供用于处理日期和时间的类。\n",
    "2. random \n",
    "\n",
    "#random() 方法返回随机生成的一个实数#它在`[0,1)`范围内。\n",
    "3. os \n",
    "\n",
    "#os 模块提供了非常丰富的方法用来处理文件和目录。\n",
    "4. re \n",
    "\n",
    "#re 模块使 Python 语言拥有全部的正则表达式功能（正则表达式是一个特殊的字符序列，它能帮助你方便的检查一个字符串是否与某种模式匹配）\n",
    "5. pathlib \n",
    "\n",
    "#该模块提供了一些使用语义表达来表示文件系统路径的类\n",
    "\n",
    "    - 这些类适合多种操作系统。路径类被划分为纯路径（该路径提供了不带I/O的纯粹计算操作）\n",
    "    - 以及具体路径（从纯路径中继承而来#但提供了I/O操作）。\n",
    "\n",
    "6. json \n",
    "\n",
    "#JSON (JavaScript Object Notation) 是一种轻量级的数据交换格式,Python3 中可以使用 json 模块来对 JSON 数据进行编解码\n",
    "    - 爬虫必备哦，基础解析库bs4的使用基础\n",
    "7. sqlite3 \n",
    "\n",
    "#可以满足在 Python 程序中使用 SQLite 数据库的需求。"
   ]
  },
  {
   "cell_type": "markdown",
   "metadata": {},
   "source": [
    "### 21 阅读\n",
    "阅读教材 “Introduction to Python / OOP II: Building Classes” ⼀节，学习有关⾃定义类 (class) 的基础\n",
    "知识。"
   ]
  },
  {
   "cell_type": "markdown",
   "metadata": {},
   "source": [
    "### <font color = red>22 简答题\n",
    "请简要介绍类定义 (class definition) 及其实例 (instance) 的概念，以及它们之间的关系。"
   ]
  },
  {
   "cell_type": "markdown",
   "metadata": {},
   "source": [
    "类定义是特定对象类(例如列表、字符串或复数)的模板。（A class definition is a blueprint for a particular class of objects）\n",
    "\n",
    "它描述了：（类和方法）\n",
    "- 类存储什么类型的数据\n",
    "- 它有什么方法来处理这些数据\n",
    "\n",
    "实例是以模板创建的类的实现\n",
    "- 每个实例都有自己唯一的数据\n",
    "- 类定义中设置的方法对这个(和其他)数据起作用"
   ]
  },
  {
   "cell_type": "markdown",
   "metadata": {},
   "source": [
    "#### 个人理解："
   ]
  },
  {
   "cell_type": "markdown",
   "metadata": {},
   "source": [
    "类是一类具有相似特征属性的对象的“模板”，经过实例化后可以创建实例化对象，\n",
    "就像“人类”是一个“类”，这一类有很多共同的属性比如：身高，体重，血压...\n",
    "而具体到某一个人，就是从“人类”的“类”中抽象出来的一个实例化的“对象”，但是对象\n",
    "所包含的属性是有差的，比如正常“人类”的“挨打后反应”的“处理方式”可能是“生气”，\n",
    "而有的人“实例”可以改为“害怕”，每个人（“实例”）都有自己的唯一数据。\n",
    "\n",
    "如果“人类”这个类变化了，比如人类多了“第三只眼睛”这个属性，那么随后的每个实例化“人”\n",
    "都会有这个属性，只不过仍可能有差而已。"
   ]
  },
  {
   "cell_type": "markdown",
   "metadata": {},
   "source": [
    "### 23 探索\n",
    "严格来说，Python 运⾏时 (runtime) 的内存 (memory) ⾥⼀切都是对象 (object)。实例 (instance)、函\n",
    "数定义 (function definition)、类定义 (class definition)、模块定义 (module definition)、甚⾄函数\n",
    "(function) 或⽅法 (method) 被调⽤ (called) ⽽运⾏ (run) 时所产⽣的层层堆栈 (stack frame) 等，都是\n",
    "对象 (object)。但通常我们说对象 (object) 也简单地指的是实例 (instance)，因为实例 (instance) 是最\n",
    "多地被我们使⽤的对象 (object)。\n",
    "\n",
    "\n",
    "所有的对象 (object) 都有⼀个在内存中创建它时所依循的 “模板” 或 “蓝图”，被称为 “类型” (type)。内置\n",
    "函数 (built-in function) `type `可以被⽤来获得任意⼀个对象 (object) 的类型 (type)。例如执⾏代码"
   ]
  },
  {
   "cell_type": "code",
   "execution_count": 26,
   "metadata": {},
   "outputs": [
    {
     "data": {
      "text/plain": [
       "True"
      ]
     },
     "execution_count": 26,
     "metadata": {},
     "output_type": "execute_result"
    }
   ],
   "source": [
    "type(42) is int"
   ]
  },
  {
   "cell_type": "markdown",
   "metadata": {},
   "source": [
    "返回的会是` True `，其中 `is `是⽤来判断左右两边所指向的是否为同⼀对象 (object) 的运算符\n",
    "(operator)。可以看到，整数 (int) 42 的类型是类 (class)` int `。那么，“模板” 或 “蓝图” 本身，还有没\n",
    "有模板的 “模板”、蓝图的 “蓝图” 呢？执⾏代码"
   ]
  },
  {
   "cell_type": "code",
   "execution_count": 27,
   "metadata": {},
   "outputs": [
    {
     "data": {
      "text/plain": [
       "True"
      ]
     },
     "execution_count": 27,
     "metadata": {},
     "output_type": "execute_result"
    }
   ],
   "source": [
    "type(int) is type"
   ]
  },
  {
   "cell_type": "markdown",
   "metadata": {},
   "source": [
    "返回的会是 `True` ，说明内置类型 (built-in class) `int` 的类型 (type) 是内置类型 (built-in class)\n",
    "`type` 。那么， `type` 本身，还有没有` type` 的` type` 呢？执⾏代码"
   ]
  },
  {
   "cell_type": "code",
   "execution_count": 28,
   "metadata": {
    "scrolled": true
   },
   "outputs": [
    {
     "data": {
      "text/plain": [
       "True"
      ]
     },
     "execution_count": 28,
     "metadata": {},
     "output_type": "execute_result"
    }
   ],
   "source": [
    "type(type) is type"
   ]
  },
  {
   "cell_type": "markdown",
   "metadata": {},
   "source": [
    "返回的会是` True` 。这说明，终极 “模板” 就是` type` 。从这个意义上来讲，因为所有的对象 (object) 都\n",
    "可以找到 “模板” 或 “蓝图”，所以任何⼀个对象 (object) 确实都是实例 (instance)。\n",
    "\n",
    "我们说 “实例” (instance)，主要是相对于它的 “模板” 或 “蓝图” ⽽⾔的。执⾏代码"
   ]
  },
  {
   "cell_type": "code",
   "execution_count": 29,
   "metadata": {},
   "outputs": [
    {
     "data": {
      "text/plain": [
       "True"
      ]
     },
     "execution_count": 29,
     "metadata": {},
     "output_type": "execute_result"
    },
    {
     "data": {
      "text/plain": [
       "True"
      ]
     },
     "execution_count": 29,
     "metadata": {},
     "output_type": "execute_result"
    },
    {
     "data": {
      "text/plain": [
       "True"
      ]
     },
     "execution_count": 29,
     "metadata": {},
     "output_type": "execute_result"
    }
   ],
   "source": [
    "isinstance(42, int)\n",
    "isinstance(int, type)\n",
    "isinstance(type, type)"
   ]
  },
  {
   "cell_type": "markdown",
   "metadata": {},
   "source": [
    "返回的都会是` True` ，其中` isinstance` 是内置函数 (built-in function)，⽤来判断第⼀个参数\n",
    "(argument) 是否是第⼆个参数 (argument) 的实例 (instance)，或者说，是判断第⼆个参数 (argument)\n",
    "是否是第⼀个参数 (argument) 的类型 (type)。所以，以下代码永远都会返回` True` ，"
   ]
  },
  {
   "cell_type": "code",
   "execution_count": 30,
   "metadata": {},
   "outputs": [
    {
     "data": {
      "text/plain": [
       "True"
      ]
     },
     "execution_count": 30,
     "metadata": {},
     "output_type": "execute_result"
    }
   ],
   "source": [
    "isinstance(x, type(x))"
   ]
  },
  {
   "cell_type": "markdown",
   "metadata": {},
   "source": [
    "⽆论名称 (name)` x `指向什么对象 (object)。\n",
    "\n",
    "类 (class) 和类 (class) 之间还可以有⼀种继承 (inheritance) 关系。如果类 `SecureConnection` 继承了\n",
    "类 `Connection` ，例如"
   ]
  },
  {
   "cell_type": "code",
   "execution_count": 31,
   "metadata": {},
   "outputs": [
    {
     "data": {
      "text/plain": [
       "\"I won't tell you that my secret is 42.\""
      ]
     },
     "execution_count": 31,
     "metadata": {},
     "output_type": "execute_result"
    },
    {
     "data": {
      "text/plain": [
       "\"I won't tell you that my secret is .\""
      ]
     },
     "execution_count": 31,
     "metadata": {},
     "output_type": "execute_result"
    }
   ],
   "source": [
    "class Connection:\n",
    "    secret = 42\n",
    "    def tell(self):\n",
    "        return f'My secret is {self.secret}.'\n",
    "\n",
    "class SecureConnection(Connection):\n",
    "    def tell(self):\n",
    "        return f\"I won't tell you that my secret is {self.secret}.\"\n",
    "    def clear(self):\n",
    "        self.secret = ''\n",
    "\n",
    "conn = SecureConnection()\n",
    "conn.tell()\n",
    "#\"I won't tell you that my secret is 42.\"\n",
    "conn.clear()\n",
    "conn.tell()\n",
    "#\"I won't tell you that my secret is .\""
   ]
  },
  {
   "cell_type": "markdown",
   "metadata": {},
   "source": [
    "那么` SecureConnection `被称为是 `Connection `的⼦类 (subclass)，将继承 Connection 的所有属\n",
    "性 ( `secret 和 tell` )，并在其基础上可以重新定义属性 (` tell `)，也可以定义新属性 ( `clear` )。"
   ]
  },
  {
   "cell_type": "markdown",
   "metadata": {},
   "source": [
    "内置函数 (built-in function)` issubclass `可以⽤来判断⼀个类 (class) 是不是另⼀个类 (class) 的⼦类\n",
    "(subclass)。例如，"
   ]
  },
  {
   "cell_type": "code",
   "execution_count": 32,
   "metadata": {
    "scrolled": true
   },
   "outputs": [
    {
     "data": {
      "text/plain": [
       "True"
      ]
     },
     "execution_count": 32,
     "metadata": {},
     "output_type": "execute_result"
    },
    {
     "data": {
      "text/plain": [
       "True"
      ]
     },
     "execution_count": 32,
     "metadata": {},
     "output_type": "execute_result"
    },
    {
     "data": {
      "text/plain": [
       "True"
      ]
     },
     "execution_count": 32,
     "metadata": {},
     "output_type": "execute_result"
    }
   ],
   "source": [
    "issubclass(SecureConnection, Connection)\n",
    "issubclass(bool, int)\n",
    "issubclass(ValueError, Exception)"
   ]
  },
  {
   "cell_type": "markdown",
   "metadata": {},
   "source": [
    "返回的都会是` True` 。\n",
    "\n",
    "Python 下所有的类 (class) 都是内置类型 (built-in class)` object `的⼦类。例如，"
   ]
  },
  {
   "cell_type": "code",
   "execution_count": 33,
   "metadata": {},
   "outputs": [
    {
     "data": {
      "text/plain": [
       "True"
      ]
     },
     "execution_count": 33,
     "metadata": {},
     "output_type": "execute_result"
    },
    {
     "data": {
      "text/plain": [
       "True"
      ]
     },
     "execution_count": 33,
     "metadata": {},
     "output_type": "execute_result"
    },
    {
     "data": {
      "text/plain": [
       "True"
      ]
     },
     "execution_count": 33,
     "metadata": {},
     "output_type": "execute_result"
    },
    {
     "data": {
      "text/plain": [
       "True"
      ]
     },
     "execution_count": 33,
     "metadata": {},
     "output_type": "execute_result"
    }
   ],
   "source": [
    "issubclass(SecureConnection, object)\n",
    "issubclass(str, object)\n",
    "issubclass(dict, object)\n",
    "issubclass(KeyError, object)"
   ]
  },
  {
   "cell_type": "markdown",
   "metadata": {},
   "source": [
    "返回的都会是 `True `。\n",
    "虽然 `object `和 `type` 都有 “万物之⺟” 的意味，但要注意 object 是所有类 (class) 的基类 (base\n",
    "class)，⽽ `type `是所有类 (class) 的 “类”，` object `是` type `的⼀个实例 (instance)，⽽不是⼦类\n",
    "(subclass)。例如，"
   ]
  },
  {
   "cell_type": "code",
   "execution_count": 34,
   "metadata": {},
   "outputs": [
    {
     "data": {
      "text/plain": [
       "True"
      ]
     },
     "execution_count": 34,
     "metadata": {},
     "output_type": "execute_result"
    },
    {
     "data": {
      "text/plain": [
       "False"
      ]
     },
     "execution_count": 34,
     "metadata": {},
     "output_type": "execute_result"
    },
    {
     "data": {
      "text/plain": [
       "type"
      ]
     },
     "execution_count": 34,
     "metadata": {},
     "output_type": "execute_result"
    }
   ],
   "source": [
    "isinstance(object, type) # 返回 True\n",
    "issubclass(object, type) # 返回 False\n",
    "type(type)"
   ]
  },
  {
   "cell_type": "markdown",
   "metadata": {},
   "source": [
    "综上，从 “实例” (instance) 的⻆度来理解，Python 对象 (object) 可以分为三个层次。最顶层是\n",
    "`type` ， `type` 是 `type` ⾃⼰的实例 (instance)。\n",
    "\n",
    "第⼆层是所有的类 (class)，所有的类 (class) 都是\n",
    "type 的实例 (instance)。在第⼆层，类 (class) 和类 (class) 之间可以有各种复杂的继承 (inheritance)\n",
    "关系，像族谱那样。` object `处于第⼆层，是所有其他类 (class) 的基类 (base class)。\n",
    "\n",
    "第三层才是第⼆\n",
    "层中各种类 (class) 的 “实例” (instance)。我们最常接触和操作的字符串 (str)` 'hello' `、整数 (int)\n",
    "`42 `、浮点数 (float)`2.5 `、布尔值 (bool)`True `和` False` 、列表 (list)` [7, 9, 8] `、元组 (tuple)\n",
    "`('a', 2, True) `、字典 (dict) `{'a': 8, 'b': 3}` 等等都是处于第三层的 “实例” (instance)。\n",
    "\n",
    "我们所\n",
    "使⽤的内置函数 (built-in functions)、从模块 (module) 中导⼊的现有函数 (function)、以及我们⾃⼰⽤\n",
    "def 语句定义的函数 (function)，也都是处于第三层中的 “实例” (instance)。\n",
    "\n",
    "\n",
    "\n",
    "第三层之下再没有了，因\n",
    "为在第三层中的任何对象 (object) 都不可能作为 “模板” 或 “蓝图” 去⽣成更加具体的实例 (instance)。所\n",
    "以第三层就是底层。"
   ]
  },
  {
   "cell_type": "markdown",
   "metadata": {},
   "source": [
    "在学⽤ Python 的初级阶段，只在第三层 “实例层” 中⼯作就已经⾜够了。我们可以定义函数、编写脚\n",
    "本，借助 Python 完成我们的具体现实⼯作。在学⽤ Python 的中、⾼级阶段，我们可以进⼊第⼆层编\n",
    "写各种类 (class)，把常⻅的各类专业⼯作的逻辑进⾏抽象，编写成可供他⼈使⽤的软件包 (package) 发\n",
    "表在 [Python Package Index](https://pypi.org/)。在 Python 的⾮常⾼级的阶段，在有最灵活的编程需要的时候，才会进⼊\n",
    "最顶层去编写类 (class) 的 “类”，这叫做 Python 元编程 (meta programming)。"
   ]
  },
  {
   "cell_type": "markdown",
   "metadata": {},
   "source": [
    "### <font color = red>24 简答题\n",
    "对象 (object) 和实例 (instance) 这两个概念之间究竟是什么关系？\n"
   ]
  },
  {
   "cell_type": "markdown",
   "metadata": {},
   "source": [
    "#### 答1： \n",
    "严格来说，Python 运⾏时 (runtime) 的内存 (memory) ⾥⼀切都是对象 (object)。实例 (instance)、函 数定义 (function definition)、类定义 (class definition)、模块定义 (module definition)、甚⾄函数 (function) 或⽅法 (method) 被调⽤ (called) ⽽运⾏ (run) 时所产⽣的层层堆栈 (stack frame) 等，都是 对象 (object)。但通常我们说对象 (object) 也简单地指的是实例 (instance)，因为实例 (instance) 是最 多地被我们使⽤的对象 (object)。\n",
    "\n",
    "实例其实应该称为“实例对象”，它也是一个对象，是我们最常用的对象；是我们以类定义为模板“复刻”出来的对象，自身具有唯一性（受到类定义的影响但自身可以改变）；这个角度来看实例是对象的子集\n",
    "\n",
    "在抽象定义上，python的对象层范围三层，而实例一般指的就是第三层的实例对象，实例对象的原模板都是第二层的类，都是type的实例，而这一层的所有类都是object的子类，object又是type的实例这个角度来看，实例是obeject的子类的实例。这个角度来看实例和对象是有交集\n",
    "\n",
    "\n",
    "不建议考虑太深\n"
   ]
  },
  {
   "cell_type": "markdown",
   "metadata": {},
   "source": [
    "#### 答2：（没看懂~~）\n",
    "\n",
    "对象：通过类定义的数据结构实例。对象包括两个数据成员(类变量和实例变量)和方法。\n",
    "实例变量通常是要跟着self， 在定义类的代码中定义的方法应将self其作为第一个参数，类中引用的任何方法都应称为 self.method_name\n",
    "对象则包括了类变量、实例变量和方法"
   ]
  },
  {
   "cell_type": "markdown",
   "metadata": {},
   "source": [
    "### <font color = red>25 简答题\n",
    "Python 对象 (object) 可以分为哪三个层次？简要介绍你对三个层次的理解。\n",
    "\n",
    "第一层是元编程级别的，目前只有type对象，type自己是自己的实例（道生一，一生二的感觉，有待开辟新的世界）\n",
    "\n",
    "第二层包含所有的类，有基类object，其他类都是object的继承子类，由于object也是type的实例，所以也能说所有的类都是type类的实例，有点（有点二生三，不断继承、发展的过程的感觉）。我们使用的各种模块/库都是这一层次的，各个对象之间以object为基础互相协调、提高\n",
    "\n",
    "第三层是我们最常使用的所有从第二层（所有的第二层类的实例都在第三层）的类通过实例化得到的实例，实例包含了他所属的类的所有方法再加以变化，作为我们的实例对象（有种三生万物的感觉），包括字符串等基本数据雷幸福，还有基本容器等都是实例\n",
    "\n",
    "\n"
   ]
  },
  {
   "cell_type": "markdown",
   "metadata": {},
   "source": [
    "### <font color = red>26 简答题\n",
    "⾯向对象编程 (OOP) 的思维⽅式有什么⽤？"
   ]
  },
  {
   "cell_type": "markdown",
   "metadata": {},
   "source": [
    "#### 答"
   ]
  },
  {
   "cell_type": "markdown",
   "metadata": {},
   "source": [
    "这种思维方式因为抽象有用，即用来识别和利用通用结构，将相同类型的对象收集在一起，认识到通用结构可以使我们采用通用工具。"
   ]
  },
  {
   "cell_type": "markdown",
   "metadata": {},
   "source": [
    "具体："
   ]
  },
  {
   "cell_type": "markdown",
   "metadata": {},
   "source": [
    "OOP有用之处在于: 用于识别和利用公共结构。\n",
    "\n",
    "例如\n",
    "1. 包括一组状态，初始状态概率分布，以及跨状态移动概率的集合\n",
    "2. 商品空间、偏好、技术和均衡定义组成的一般均衡理论\n",
    "3. 包括一个玩家列表，每个玩家可用的行动列表，每个玩家的收益作为所有其他玩家行动的函数，和一个时间协议\n",
    "\n",
    "都是将同一“类型”的“对象”收集在一起的抽象，认识到共同的结构使我们能够使用共同的工具，方便我们“站在巨人的肩膀上”"
   ]
  },
  {
   "cell_type": "markdown",
   "metadata": {},
   "source": [
    "### <font color = red>27 简答题\n",
    "在定义类 (class) 时， `__init__` ⽅法 (method) 有什么⽤处？这个⽅法在什么时候会被调⽤ (called)？\n"
   ]
  },
  {
   "cell_type": "markdown",
   "metadata": {},
   "source": [
    "#### 答1"
   ]
  },
  {
   "cell_type": "markdown",
   "metadata": {},
   "source": [
    "“初始化函数”是一个很实用的类方法，当我们创建一个实例的时候，这个函数就会被调用。\n",
    "代码在执行实例 instance= 类()class的语句时，就自动调用了`init(self)函数`,调用 init 会设置一个“名称空间”来保存实例数。（初始化函数的写法是固定的格式：中间是“init”，然后前后都要有`__`，然后init()的括号中，第一个参数一定要写上self，不然会报错）\n",
    "\n",
    "\n",
    "有了初始化函数后，我们可以直接把需要录入的信息作为参数传递,利用初始化函数def init(self)，为每个新创建的实例自动创建了实例属性"
   ]
  },
  {
   "cell_type": "markdown",
   "metadata": {},
   "source": [
    "#### 答2"
   ]
  },
  {
   "cell_type": "markdown",
   "metadata": {},
   "source": [
    "`__init__()`方法是一种特殊的方法，被称为类的构造函数或初始化方法，当创建了这个类的实例时就会调用该方法，调用__init__会建立一个“命名空间”来保存实例数据"
   ]
  },
  {
   "cell_type": "markdown",
   "metadata": {},
   "source": [
    "### <font color = red>28 简答题\n",
    "Python 所有⾃定义类 (class) 的实例 (instance) 都附带着⼀个 __dict__ 属性 (继承⾃ object )，对于这个属性的类型 (class) 和⽤途你有什么认识？"
   ]
  },
  {
   "cell_type": "markdown",
   "metadata": {},
   "source": [
    "#### 答：\n",
    "\n",
    "`__dict__` : 类的属性（包含一个字典，由类的数据属性组成），类型是mappingproxy，用途是调用类中包含的所有属性,我们可以利用这个函数查看我们想要了解的类属性（变量，函数名）等信息。第五次作业中的Connection类案例如下"
   ]
  },
  {
   "cell_type": "code",
   "execution_count": 35,
   "metadata": {},
   "outputs": [
    {
     "data": {
      "text/plain": [
       "\"I won't tell you that my secret is 42.\""
      ]
     },
     "execution_count": 35,
     "metadata": {},
     "output_type": "execute_result"
    },
    {
     "data": {
      "text/plain": [
       "\"I won't tell you that my secret is .\""
      ]
     },
     "execution_count": 35,
     "metadata": {},
     "output_type": "execute_result"
    },
    {
     "data": {
      "text/plain": [
       "mappingproxy({'__module__': '__main__',\n",
       "              'secret': 42,\n",
       "              'tell': <function __main__.SecureConnection.tell(who)>,\n",
       "              'clear': <function __main__.SecureConnection.clear(who)>,\n",
       "              '__doc__': None})"
      ]
     },
     "execution_count": 35,
     "metadata": {},
     "output_type": "execute_result"
    }
   ],
   "source": [
    "class Connection:\n",
    "    secret = 42\n",
    "    def tell(who):\n",
    "        return f'My secret is {who.secret}.'\n",
    "\n",
    "class SecureConnection(Connection):\n",
    "    secret = 42\n",
    "    def tell(who):\n",
    "        return f\"I won't tell you that my secret is {who.secret}.\"\n",
    "    def clear(who):\n",
    "        who.secret = ''\n",
    "\n",
    "conn = SecureConnection()\n",
    "conn.tell()\n",
    "#\"I won't tell you that my secret is 42.\"\n",
    "conn.clear()\n",
    "conn.tell()\n",
    "#\"I won't tell you that my secret is .\"\n",
    "\n",
    "SecureConnection.__dict__"
   ]
  },
  {
   "cell_type": "markdown",
   "metadata": {},
   "source": [
    "### <font color = red>29 简答题\n",
    "在⾃定义类 (class) 的实例⽅法 (instance method) 的时候，第⼀个形参 (parameter) 必须是 self 。这个 self 是什么意思？有什么⽤？"
   ]
  },
  {
   "cell_type": "markdown",
   "metadata": {},
   "source": [
    "#### 答"
   ]
  },
  {
   "cell_type": "markdown",
   "metadata": {},
   "source": [
    "self代表类的实例，类的方法与普通的函数只有一个特别的区别——它们必须有一个额外的第一个参数名称（可以用其他字符代替，但是一般约定为self）\n",
    "\n",
    "\n",
    "\n",
    "self是用来定义实例方法的时候需要用到的一个参数，在类中引用方法应称为self.method_name，\n",
    "成员⽅法其实就是函数，作⽤域在类内，成员⽅法的第⼀个参数必须是self（或其替代）， self代表当前对象，也就是调⽤这个⽅法的对象，这个参数由系统传递,表明在当前对象内作用"
   ]
  },
  {
   "cell_type": "markdown",
   "metadata": {},
   "source": [
    "[类和对象](https://blog.csdn.net/u014586651/article/details/104571678)"
   ]
  }
 ],
 "metadata": {
  "kernelspec": {
   "display_name": "Python 3",
   "language": "python",
   "name": "python3"
  },
  "language_info": {
   "codemirror_mode": {
    "name": "ipython",
    "version": 3
   },
   "file_extension": ".py",
   "mimetype": "text/x-python",
   "name": "python",
   "nbconvert_exporter": "python",
   "pygments_lexer": "ipython3",
   "version": "3.7.7"
  }
 },
 "nbformat": 4,
 "nbformat_minor": 4
}
