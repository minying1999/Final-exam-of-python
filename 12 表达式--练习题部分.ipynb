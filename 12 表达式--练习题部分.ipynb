{
 "cells": [
  {
   "cell_type": "markdown",
   "metadata": {},
   "source": [
    "# 第 12 课 表达式 (expression)"
   ]
  },
  {
   "cell_type": "code",
   "execution_count": 1,
   "metadata": {},
   "outputs": [],
   "source": [
    "from IPython.core.interactiveshell import InteractiveShell\n",
    "InteractiveShell.ast_node_interactivity = 'all'"
   ]
  },
  {
   "cell_type": "markdown",
   "metadata": {},
   "source": [
    "## 学习任务\n",
    "本周是第 14 周。请⼀边阅读以下讲义，⼀边输⼊代码练习。本讲义特意将 Python 输出全部隐去，就\n",
    "是希望同学们亲⼿输⼊代码，亲眼观看程序输出，这样才能收获经验。本讲义中的练习题将构成期末闭\n",
    "卷考试 (占期末总评 60%) 的题库，所以请务必认真对待学习任务，不能按时完成任务者后果⾃负。\n",
    "\n",
    "\n",
    "这⼀周我们开始全⾯学习 Python 的表达式和运算符。`表达式 (expression)` 由字⾯值 (literal)、变量名\n",
    "(variable name, or identifier) 和运算符 (operator) 依据 `语法 (syntax)`排列组合⽽成，可以 完成某个\n",
    "`操作 (operation)`，必然 `计算 (evaluate)` 为某个值 (object) (可以为 None)。\n",
    "\n",
    "在 Python 交互\n",
    "(interactive) 模式下，每键⼊⼀个表达式 (expression)，解释器 (interpreter) 就会进⾏相应的操作\n",
    "(operation)，并返回计算 (evaluate) 出的值 (object)，最后将其所 `表现 `(representation) 的字符串 (str)\n",
    "显示在终端 (terminal) 上。这种循环性的交互过程 (interaction) 被称为` REPL (read-eval-print-loop)。`\n",
    "例如："
   ]
  },
  {
   "cell_type": "markdown",
   "metadata": {},
   "source": [
    "# 目录"
   ]
  },
  {
   "cell_type": "markdown",
   "metadata": {},
   "source": [
    "[1.原⼦级 (atoms) 表达式](#1.原⼦级(atoms)表达式)    \n",
    "\n",
    "[2.基础级(primaries)表达式](#2.基础级(primaries)表达式)\n",
    "\n",
    "[3.运算符(operators)表达式](#3.运算符(operators)表达式)\n",
    "\n",
    "[4.三元条件表达式](#4.三元条件表达式)\n",
    "\n",
    "[5.Lambda表达式](#5.Lambda表达式)\n",
    "\n",
    "## [6.自测题](6.⾃测题)"
   ]
  },
  {
   "cell_type": "markdown",
   "metadata": {},
   "source": [
    "[高级函数](#高阶函数)\n",
    "\n",
    "[逻辑⽐较运算符](#逻辑⽐较运算符)\n",
    "\n",
    "[图：几个常用内置数据类型所属的抽象基类](#几个常用内置数据类型所属的抽象基类)"
   ]
  },
  {
   "cell_type": "markdown",
   "metadata": {},
   "source": [
    "#### 总结\n",
    "\n",
    "[python 并集union, 交集intersection, 差集difference](https://blog.csdn.net/lanyang123456/article/details/77596349)\n",
    "\n",
    "\n",
    "[nb内python并集交集差集](#python并集交集差集)\n",
    "\n",
    "[python中chr()函数和ord()函数的用法](https://www.cnblogs.com/chaojiyingxiong/p/9169458.html)\n",
    "\n",
    "[Python_isinstance()函数](#Python_isinstance()函数)\n",
    "\n",
    "[整数，实数，复数](#整数，实数，复数)\n",
    "\n",
    "[Python字典:pop()方法](#Python字典:pop()方法)\n",
    "\n",
    "[python3排序,sorted,key=lambda](#python3排序,sorted,key=lambda)"
   ]
  },
  {
   "cell_type": "markdown",
   "metadata": {},
   "source": [
    "[List基本用法](https://www.cnblogs.com/testxiang/p/9537158.html)"
   ]
  },
  {
   "cell_type": "markdown",
   "metadata": {},
   "source": [
    "## 6.⾃测题\n",
    "### 6.1 简答题"
   ]
  },
  {
   "cell_type": "markdown",
   "metadata": {},
   "source": [
    "#### 请写代码演示：\n",
    "\n",
    "1. ⼀个没有操作，但有⾮空返回值的表达式；\n",
    "\n",
    "2. ⼀个有操作，但返回空值的表达式；\n",
    "\n",
    "3. ⼀个既有操作，⼜返回⾮空值的表达式。"
   ]
  },
  {
   "cell_type": "code",
   "execution_count": 2,
   "metadata": {},
   "outputs": [
    {
     "data": {
      "text/plain": [
       "'Hello'"
      ]
     },
     "execution_count": 2,
     "metadata": {},
     "output_type": "execute_result"
    },
    {
     "data": {
      "text/plain": [
       "12"
      ]
     },
     "execution_count": 2,
     "metadata": {},
     "output_type": "execute_result"
    }
   ],
   "source": [
    "'hello'.title()\n",
    "\n",
    "open('file.txt', 'w+').flush()\n",
    "#print(open('file.txt', 'w+').flush()) >>> 会返回None\n",
    "\n",
    "open('file.txt', 'w+').write('Hello World!')"
   ]
  },
  {
   "cell_type": "markdown",
   "metadata": {},
   "source": [
    "### 6.2 简答题\n",
    "请解释列表 (list) 对象的概念、特点和⽤法，并写出相应的代码举例。"
   ]
  },
  {
   "cell_type": "markdown",
   "metadata": {},
   "source": [
    "⽅括号 (brackets) 围场 (enclosure) 就是⽤⽅括号符号 [] 包围起来的原⼦级 (atomic) 表达式(expression)，⽤来创建⼀个 列表 (list) 对象。\n",
    "\n",
    "概念：\n",
    "\n",
    "列表 (list) 对象 (object) 的类型 (type) 是内置类型 (built-in type) list ，是 四个 最基本的内置 (built-in) 容器 (container) 类型——列表 (list)、字典 (dict)、集\n",
    "合 (set)、元组 (tuple) 其中之⼀。\n",
    "\n",
    "特点：\n",
    "\n",
    "列表 (list) 是⼀种 序列 (sequence)，可以容纳多个 计算出的(evaluated) 对象 (object)，可以 解包 (unpack)、提取 (subscription)、切⽚ (slicing) 或 迭代 (iterate)。列表是 可变的 (mutable)，可以插⼊ (insert) 和删除 (remove) 元素，尤其可以⾼效地 (efficiently) 在尾部追加 (append) 或弹出 (pop) 元素。\n",
    "\n",
    "\n",
    "\n",
    "用法：\n",
    "\n",
    "其主要⽤途是被⽤作可变的 (mutable) 序列 (sequence)，也是一种可迭代容器，尤其是作为 堆栈 (stack)，即⼀种 后进先出 (last in first out, LIFO) 的数据结构。利用增删插弹查等操作满足所要求的序列变化性，以及保存多个互相独立对象的数据集合。还可以用来转换、切片等操作。"
   ]
  },
  {
   "cell_type": "markdown",
   "metadata": {},
   "source": [
    "[List基本用法](https://www.cnblogs.com/testxiang/p/9537158.html)"
   ]
  },
  {
   "cell_type": "code",
   "execution_count": 3,
   "metadata": {},
   "outputs": [
    {
     "data": {
      "text/plain": [
       "'c'"
      ]
     },
     "execution_count": 3,
     "metadata": {},
     "output_type": "execute_result"
    },
    {
     "data": {
      "text/plain": [
       "['a', 'b']"
      ]
     },
     "execution_count": 3,
     "metadata": {},
     "output_type": "execute_result"
    },
    {
     "name": "stdout",
     "output_type": "stream",
     "text": [
      "aaaaa\n",
      "bbbbb\n",
      "ccccc\n"
     ]
    },
    {
     "data": {
      "text/plain": [
       "['a', 'x', 'b', 'c']"
      ]
     },
     "execution_count": 3,
     "metadata": {},
     "output_type": "execute_result"
    },
    {
     "data": {
      "text/plain": [
       "['a', 'x', 'c']"
      ]
     },
     "execution_count": 3,
     "metadata": {},
     "output_type": "execute_result"
    },
    {
     "data": {
      "text/plain": [
       "9"
      ]
     },
     "execution_count": 3,
     "metadata": {},
     "output_type": "execute_result"
    },
    {
     "data": {
      "text/plain": [
       "1"
      ]
     },
     "execution_count": 3,
     "metadata": {},
     "output_type": "execute_result"
    },
    {
     "data": {
      "text/plain": [
       "2"
      ]
     },
     "execution_count": 3,
     "metadata": {},
     "output_type": "execute_result"
    }
   ],
   "source": [
    "l = ['a', 'b', 'c'] # 列表陈列式\n",
    "x, y, z = l # 解包\n",
    "l[-1] # 提取\n",
    "l[:2] # 切⽚\n",
    "for c in l: # 迭代\n",
    "    print(c*5)\n",
    "l.insert(1, 'x') # 插⼊，有操作，返回 None\n",
    "l # 查看在指定位置插⼊指定元素之后的列表对象\n",
    "l.remove('b') # 删除，有操作，返回 None\n",
    "l # 查看删除指定元素之后的列表对象\n",
    "l.append(9) # 追加，有操作，返回 None\n",
    "l.pop() # 弹出，有操作，返回被弹出的尾部元素\n",
    "l.count('a')\n",
    "l.index('c')"
   ]
  },
  {
   "cell_type": "markdown",
   "metadata": {},
   "source": [
    "### 6.3 简答题\n",
    "列表 (list) 与元组 (tuple) 的相同点与不同点有那些？请写相应的代码举例"
   ]
  },
  {
   "cell_type": "markdown",
   "metadata": {},
   "source": [
    "#### 一、列表和元组的相同点\n",
    "- 都是序列\n",
    "- 都可以存储任何数据类型\n",
    "- 可以通过索引访问\n",
    "\n",
    "#### 二、列表和元组的区别\n",
    "- 列表是动态数组，可以重设长度（改变其内部元素的个数）。\n",
    "- 元组是静态数组，且其内部数据一旦创建便无法改变。\n",
    "- 即元组可散列，列表不可散列\n",
    "- 元组缓存于Python运行时环境，这意味着我们每次使用元组时无须访问内核去分配内存。\n",
    "    (于长度为1~20的元组)\n",
    "\n",
    "\n",
    "列表可被用于保存多个互相独立对象的数据集合\n",
    "\n",
    "元组用于描述一个不会改变的事务的多个属性\n",
    "\n"
   ]
  },
  {
   "cell_type": "markdown",
   "metadata": {},
   "source": [
    "##### 举例"
   ]
  },
  {
   "cell_type": "code",
   "execution_count": 4,
   "metadata": {},
   "outputs": [],
   "source": [
    "from IPython.core.interactiveshell import InteractiveShell\n",
    "InteractiveShell.ast_node_interactivity = 'all'"
   ]
  },
  {
   "cell_type": "code",
   "execution_count": 5,
   "metadata": {},
   "outputs": [],
   "source": [
    "l = ['a', 'b', 'c','{}','()']\n",
    "t = ('a', 'b', 'c','{}','()')"
   ]
  },
  {
   "cell_type": "markdown",
   "metadata": {},
   "source": [
    "#### 都是序列"
   ]
  },
  {
   "cell_type": "code",
   "execution_count": 6,
   "metadata": {
    "scrolled": true
   },
   "outputs": [
    {
     "data": {
      "text/plain": [
       "True"
      ]
     },
     "execution_count": 6,
     "metadata": {},
     "output_type": "execute_result"
    },
    {
     "data": {
      "text/plain": [
       "True"
      ]
     },
     "execution_count": 6,
     "metadata": {},
     "output_type": "execute_result"
    }
   ],
   "source": [
    "import collections.abc as coll\n",
    "isinstance(l,coll.Sequence)\n",
    "isinstance(t,coll.Sequence)"
   ]
  },
  {
   "cell_type": "markdown",
   "metadata": {},
   "source": [
    "#### 都可以通过索引访问"
   ]
  },
  {
   "cell_type": "code",
   "execution_count": 7,
   "metadata": {},
   "outputs": [
    {
     "data": {
      "text/plain": [
       "'a'"
      ]
     },
     "execution_count": 7,
     "metadata": {},
     "output_type": "execute_result"
    },
    {
     "data": {
      "text/plain": [
       "'b'"
      ]
     },
     "execution_count": 7,
     "metadata": {},
     "output_type": "execute_result"
    }
   ],
   "source": [
    "l[0]\n",
    "t[1]"
   ]
  },
  {
   "cell_type": "markdown",
   "metadata": {},
   "source": [
    "#### 不同点：List可以再不改变内存地址的情况下变化长度"
   ]
  },
  {
   "cell_type": "code",
   "execution_count": 8,
   "metadata": {
    "scrolled": true
   },
   "outputs": [
    {
     "data": {
      "text/plain": [
       "['a', 'b', 'c', '{}', '()']"
      ]
     },
     "execution_count": 8,
     "metadata": {},
     "output_type": "execute_result"
    },
    {
     "data": {
      "text/plain": [
       "2009250222472"
      ]
     },
     "execution_count": 8,
     "metadata": {},
     "output_type": "execute_result"
    },
    {
     "data": {
      "text/plain": [
       "['a', 'b', 'c', '{}', '()', 'a']"
      ]
     },
     "execution_count": 8,
     "metadata": {},
     "output_type": "execute_result"
    },
    {
     "data": {
      "text/plain": [
       "2009250222472"
      ]
     },
     "execution_count": 8,
     "metadata": {},
     "output_type": "execute_result"
    },
    {
     "data": {
      "text/plain": [
       "['A', 'b', 'c', '{}', '()', 'a']"
      ]
     },
     "execution_count": 8,
     "metadata": {},
     "output_type": "execute_result"
    }
   ],
   "source": [
    "l\n",
    "id(l)\n",
    "l.append('a')\n",
    "l\n",
    "id(l)\n",
    "l[0] = 'A'\n",
    "l"
   ]
  },
  {
   "cell_type": "markdown",
   "metadata": {},
   "source": [
    "#### tuple可以通过连接而非索引改变值"
   ]
  },
  {
   "cell_type": "code",
   "execution_count": 9,
   "metadata": {},
   "outputs": [
    {
     "data": {
      "text/plain": [
       "('a', 'b', 'c', '{}', '()', 'D')"
      ]
     },
     "execution_count": 9,
     "metadata": {},
     "output_type": "execute_result"
    }
   ],
   "source": [
    "#t[0]=\"A\" >>>报错\n",
    "t + (\"D\",)"
   ]
  },
  {
   "cell_type": "markdown",
   "metadata": {},
   "source": [
    "#### 初始化时间差距很大"
   ]
  },
  {
   "cell_type": "code",
   "execution_count": 10,
   "metadata": {},
   "outputs": [
    {
     "name": "stdout",
     "output_type": "stream",
     "text": [
      "62.2 ns ± 3.22 ns per loop (mean ± std. dev. of 7 runs, 10000000 loops each)\n",
      "11.5 ns ± 1.01 ns per loop (mean ± std. dev. of 7 runs, 100000000 loops each)\n"
     ]
    }
   ],
   "source": [
    "t1 = %timeit l = [0, 1, 2, 3, 4, 5, 6, 7, 8, 9]\n",
    "\n",
    "t2 = %timeit t = (0, 1, 2, 3, 4, 5, 6, 7, 8, 9)"
   ]
  },
  {
   "cell_type": "markdown",
   "metadata": {},
   "source": [
    "### 6.4 简答题\n",
    "请介绍推导式 (comprehension) 语法中各组成部分的概念，可以举若⼲列表推导式为例进⾏说明。"
   ]
  },
  {
   "cell_type": "code",
   "execution_count": 11,
   "metadata": {},
   "outputs": [],
   "source": [
    "l = [i**2 for i in range(5)]"
   ]
  },
  {
   "cell_type": "markdown",
   "metadata": {},
   "source": [
    "#### 在推导式 (comprehension)内：\n",
    "\n",
    "\n",
    "\n",
    "关键词 for 之前的 i * * 2 部分是 可以任意表达 的 元素表达式(element expression)，通常会使⽤到后⾯的 旧的 迭代变量 (iteration variable) (这⾥的 i )，⽤来计算新的 元素 (element) (这⾥的 i * * 2 )；\n",
    "\n",
    "\n",
    "关键词 for 和 in 中间的 i 部分是 可以任意选取 的 迭代变量名 (iteration variable name)，在每⼀步迭代 (iterate) 中，该变量 (variable) 都引⽤ (reference) 着当前被取出的元素 (element)；\n",
    "\n",
    "关键词 in 后⾯的 range() 部分是 迭代表达式 (iterable expression)，必须可计算 (evaluate)为⼀个可迭代的 (iterable) 对象 (object)；\n",
    "\n",
    "for...in... 结构被称为 迭代⼦句\n",
    "\n",
    "迭代⼦句 (for-clause) 之后还可以跟 条件⼦句 (if-clause)，⽤来对每⼀次迭代进⾏过滤 (filter)：若条件判断为真 (True)，则保留该次迭代；若条件判断为假 (False)，则忽略该次迭代。\n",
    "\n",
    "关键词 if 之后 部分是 的 条件表达式 (conditional expression)可以任意表达\n",
    "\n",
    "##### 列表推导式 (list comprehension) 计算 (evaluate) 得出的列表(list) 就是由这些新元素所组成的。\n",
    "\n"
   ]
  },
  {
   "cell_type": "code",
   "execution_count": 12,
   "metadata": {
    "scrolled": true
   },
   "outputs": [
    {
     "data": {
      "text/plain": [
       "['h', 'e', 'l', 'l', 'o']"
      ]
     },
     "execution_count": 12,
     "metadata": {},
     "output_type": "execute_result"
    },
    {
     "data": {
      "text/plain": [
       "[-3, -1, 1, 3, 5]"
      ]
     },
     "execution_count": 12,
     "metadata": {},
     "output_type": "execute_result"
    },
    {
     "data": {
      "text/plain": [
       "[5, 9, 2, 6]"
      ]
     },
     "execution_count": 12,
     "metadata": {},
     "output_type": "execute_result"
    },
    {
     "data": {
      "text/plain": [
       "['a', 'b', 'c']"
      ]
     },
     "execution_count": 12,
     "metadata": {},
     "output_type": "execute_result"
    },
    {
     "data": {
      "text/plain": [
       "['a', 'b', 'c']"
      ]
     },
     "execution_count": 12,
     "metadata": {},
     "output_type": "execute_result"
    },
    {
     "data": {
      "text/plain": [
       "[1.0, 1.03, 1.0609, 1.092727, 1.1255088100000001]"
      ]
     },
     "execution_count": 12,
     "metadata": {},
     "output_type": "execute_result"
    },
    {
     "data": {
      "text/plain": [
       "[('l', 'l'), ('l', 'l'), ('o', 'o')]"
      ]
     },
     "execution_count": 12,
     "metadata": {},
     "output_type": "execute_result"
    },
    {
     "data": {
      "text/plain": [
       "[0.4638580582609665]"
      ]
     },
     "execution_count": 12,
     "metadata": {},
     "output_type": "execute_result"
    }
   ],
   "source": [
    "import random\n",
    "#[i for i in 5] # 整数不可迭代\n",
    "[i for i in 'hello'] # 字符串可迭代\n",
    "[i for i in range(-3, 7, 2)] # range 类型可以迭代\n",
    "[i for i in [5, 9, 2, 6]] # 列表可迭代\n",
    "[i for i in ('a', 'b', 'c')] # 元组可迭代\n",
    "[c for c in ('a', 'b', 'c')] # 可任意选取迭代变量名，结果完全相同\n",
    "[1.03**i for i in range(5)] # 可任意表达元素表达式\n",
    "[(c, c) for c in 'hello' if c>'h'] # 可任意表达元素表达式\n",
    "[random.uniform(0, 1) for c in 'hello' if c >'l'] # 元素表达式可以不使⽤迭代变量名"
   ]
  },
  {
   "cell_type": "code",
   "execution_count": 13,
   "metadata": {},
   "outputs": [
    {
     "data": {
      "text/plain": [
       "['f3$']"
      ]
     },
     "execution_count": 13,
     "metadata": {},
     "output_type": "execute_result"
    }
   ],
   "source": [
    "[i + j+ k for i in 'abcdef' for j in '0123' if j >'2' for k in \"$#%\" if k in \"$!@\" if i > 'e' ] # 双重迭代"
   ]
  },
  {
   "cell_type": "markdown",
   "metadata": {},
   "source": [
    "### 6.5 简答题\n",
    "请总结推导式 (comprehension) 的⼀般语法要求，并对每⼀条语法要求举例说明。"
   ]
  },
  {
   "cell_type": "markdown",
   "metadata": {},
   "source": [
    "推导式 (comprehension) 的 语法 (syntax) 要求：\n",
    "\n",
    "- 1.只能写 ⼀个 元素表达式 (elementexpression)；\n",
    "\n",
    "- 2.元素表达式 (element expression) 后⾯ 必须 跟着 for...in... 迭代⼦句for-clause)；\n",
    "\n",
    "- 3.for...in... 迭代⼦句 (for-clause) 之后可以继续跟 for...in... 迭代⼦句 (for-clause)，也可以跟 if... 条件字句 (if-clause)。例如："
   ]
  },
  {
   "cell_type": "markdown",
   "metadata": {},
   "source": [
    "#### 第一条："
   ]
  },
  {
   "cell_type": "code",
   "execution_count": 14,
   "metadata": {},
   "outputs": [
    {
     "data": {
      "text/plain": [
       "[(0, 0), (1, 1), (4, 2), (9, 3), (16, 4)]"
      ]
     },
     "execution_count": 14,
     "metadata": {},
     "output_type": "execute_result"
    }
   ],
   "source": [
    "#[i**2 i for i in range(5)] # 两个元素表达式是语法错误\n",
    "#[i**2, i for i in range(5)] # ⽤逗号隔开也不⾏，因为有歧义\n",
    "[(i**2, i) for i in range(5)] # 把多个表达式打包成⼀个元组表达式就可以"
   ]
  },
  {
   "cell_type": "markdown",
   "metadata": {},
   "source": [
    "#### 第二条"
   ]
  },
  {
   "cell_type": "code",
   "execution_count": 15,
   "metadata": {},
   "outputs": [
    {
     "data": {
      "text/plain": [
       "[3, 4]"
      ]
     },
     "execution_count": 15,
     "metadata": {},
     "output_type": "execute_result"
    }
   ],
   "source": [
    "## [i if i > 2 for i in range(5)] # 元素表达式后⾯必须跟迭代⼦句，不可以是条件字句\n",
    "[i  for i in range(5) if i > 2]"
   ]
  },
  {
   "cell_type": "code",
   "execution_count": 16,
   "metadata": {},
   "outputs": [
    {
     "data": {
      "text/plain": [
       "[3, 4, 5, 6, 7]"
      ]
     },
     "execution_count": 16,
     "metadata": {},
     "output_type": "execute_result"
    },
    {
     "data": {
      "text/plain": [
       "['cdc', 'cfc']"
      ]
     },
     "execution_count": 16,
     "metadata": {},
     "output_type": "execute_result"
    }
   ],
   "source": [
    "# 注意观察以上多重迭代的先后顺序\n",
    "[i for i in range(10) if i > 2 if i < 8] # 迭代⼦句后⾯可跟多个条件⼦句\n",
    "\n",
    "[z + y + x for x in 'c' for y in 'df'  if x > 'a'] # 迭代⼦句后⾯跟条件⼦句和迭代⼦句"
   ]
  },
  {
   "cell_type": "markdown",
   "metadata": {},
   "source": [
    "可⻅，推导式 (comprehension) 的 根本作⽤ 就是从⼀个或多个现有的 可迭代 (iterable) 对象 有选择地\n",
    "推导衍⽣出⼀个与之有联系但可以完全不同的新的 可迭代 (iterable) 对象。"
   ]
  },
  {
   "cell_type": "markdown",
   "metadata": {},
   "source": [
    "#### 6.6 简答题\n",
    "推导式 (comprehension) 中所使⽤的迭代变量 (iteration variable) 会不会覆盖掉现有的变量？为什\n",
    "么？请举例说明"
   ]
  },
  {
   "cell_type": "markdown",
   "metadata": {},
   "source": [
    "#### 推导式 (comprehension) 在计算 (evaluate) 时会建⽴⾃⼰的 命名空间 (namespace)\n",
    "并不\n",
    "影响所处表达式 (expression) 所在的命名空间 (namespace)，所以不⽤担⼼所选择的 迭代变量名\n",
    "(iteration variable name) 会覆盖掉当前命名空间 (namespace) 中已有的变量。例如"
   ]
  },
  {
   "cell_type": "markdown",
   "metadata": {},
   "source": [
    "该推导式中i是独立在[]围场内的，不影响全局变量"
   ]
  },
  {
   "cell_type": "code",
   "execution_count": 17,
   "metadata": {},
   "outputs": [
    {
     "data": {
      "text/plain": [
       "[0, 1, 2, 3, 4]"
      ]
     },
     "execution_count": 17,
     "metadata": {},
     "output_type": "execute_result"
    },
    {
     "data": {
      "text/plain": [
       "100"
      ]
     },
     "execution_count": 17,
     "metadata": {},
     "output_type": "execute_result"
    }
   ],
   "source": [
    "i = 100\n",
    "l = [i for i in range(5)] # 迭代过程使⽤了迭代变量 i\n",
    "l\n",
    "i # i 的值仍然是 100，并没有被覆盖指向别处"
   ]
  },
  {
   "cell_type": "markdown",
   "metadata": {},
   "source": [
    "### 6.7 简答题\n",
    "请解释字典 (dict) 对象的概念、特点和⽤法，并写出相应的代码举例。"
   ]
  },
  {
   "cell_type": "markdown",
   "metadata": {},
   "source": [
    "字典是另一种可变容器模型\n",
    "\n",
    "字典的每个键值(key=>value)对用冒号(:)分割，每个对之间用逗号(,)分割，整个字典包括在花括号({})中\n",
    "\n",
    "键必须是唯一的，但值则不必"
   ]
  },
  {
   "cell_type": "markdown",
   "metadata": {},
   "source": [
    "字典 (dict) 是⼀种 映射 (mapping)，可以容纳多个 键值对 (key-value pair)。提供 键 (key)，就可以⾮常\n",
    "⾼效地 (efficiently) 从字典 (dict) 中 提取 (subscription) 出相应的值\n",
    "\n",
    "键值对 (key-value pair) 的\n",
    "增加、删除和修改等操作 (operation) 也都⾮常⾼效 (efficient)。\n",
    "\n",
    "变量 (variable) 作为⼀种从名称\n",
    "(name) 到对象 (object) 的映射 (mapping)，其所处的 命名空间 (namespace)，其实就是字典 (dict)。\n",
    "\n",
    "\n",
    "字典 (dict) 在 Python 的内部⼏乎⽆处不在，花括号 (braces) 围场 (enclosure) 只是创建字典 (dict) 的⼀\n",
    "种⽅式。"
   ]
  },
  {
   "cell_type": "markdown",
   "metadata": {},
   "source": [
    "- 有陈列式和推导式\n",
    "\n",
    "\n",
    "- 字典是容器\n",
    "\n",
    "- 字典不是序列\n",
    "\n",
    "- 提供键，就可以提取对应的值\n",
    "\n",
    "- 根据键提取值不改变字典内容\n",
    "\n",
    "- 增加键值对 'x' -> 100\n",
    "\n",
    "- 提供键 'b'，删除相应的键值对 'b' -> 2\n",
    "\n",
    "- 修改键 'c' 让其改指向\n",
    "\n",
    "- 元组等可散列对象可以作为键（不建议浮点数），不可以是不可散列的对象\n",
    "\n",
    "- 字典本身不可散列\n",
    "\n",
    "- 字典也可以用推导式"
   ]
  },
  {
   "cell_type": "code",
   "execution_count": 18,
   "metadata": {},
   "outputs": [
    {
     "data": {
      "text/plain": [
       "{'a': 1, 'b': 2, 'c': 3}"
      ]
     },
     "execution_count": 18,
     "metadata": {},
     "output_type": "execute_result"
    },
    {
     "data": {
      "text/plain": [
       "True"
      ]
     },
     "execution_count": 18,
     "metadata": {},
     "output_type": "execute_result"
    },
    {
     "data": {
      "text/plain": [
       "False"
      ]
     },
     "execution_count": 18,
     "metadata": {},
     "output_type": "execute_result"
    },
    {
     "data": {
      "text/plain": [
       "1"
      ]
     },
     "execution_count": 18,
     "metadata": {},
     "output_type": "execute_result"
    },
    {
     "data": {
      "text/plain": [
       "{'a': 1, 'b': 2, 'c': 3}"
      ]
     },
     "execution_count": 18,
     "metadata": {},
     "output_type": "execute_result"
    },
    {
     "data": {
      "text/plain": [
       "{'a': 1, 'b': 2, 'c': 3, 'x': 100}"
      ]
     },
     "execution_count": 18,
     "metadata": {},
     "output_type": "execute_result"
    },
    {
     "data": {
      "text/plain": [
       "{'a': 1, 'c': 3, 'x': 100}"
      ]
     },
     "execution_count": 18,
     "metadata": {},
     "output_type": "execute_result"
    },
    {
     "data": {
      "text/plain": [
       "{'a': 1, 'c': 42, 'x': 100}"
      ]
     },
     "execution_count": 18,
     "metadata": {},
     "output_type": "execute_result"
    },
    {
     "data": {
      "text/plain": [
       "False"
      ]
     },
     "execution_count": 18,
     "metadata": {},
     "output_type": "execute_result"
    }
   ],
   "source": [
    "d = {'a': 1, 'b': 2, 'c': 3} # 字典陈列式\n",
    "d # 查看字典的表现 (representation)\n",
    "import collections.abc\n",
    "isinstance(d, collections.abc.Container) # 字典是容器\n",
    "isinstance(d, collections.abc.Sequence) # 字典不是序列\n",
    "d['a'] # 提供键 'a'，就可以提取对应的值 1\n",
    "\n",
    "d # 根据键提取值不改变字典内容\n",
    "d['x'] = 100 # 增加键值对 'x' -> 100\n",
    "d\n",
    "del d['b'] # 提供键 'b'，删除相应的键值对 'b' -> 2\n",
    "d\n",
    "d['c'] = 42 # 修改键 'c' 让其改指向 42\n",
    "d\n",
    "\n",
    "isinstance(d, collections.abc.Hashable) # 字典本身不可散列"
   ]
  },
  {
   "cell_type": "markdown",
   "metadata": {},
   "source": [
    "#### 字典也可以用推导式"
   ]
  },
  {
   "cell_type": "code",
   "execution_count": 19,
   "metadata": {},
   "outputs": [
    {
     "data": {
      "text/plain": [
       "{97: 'a', 98: 'b', 99: 'c', 100: 'd', 101: 'e', 102: 'f', 103: 'g'}"
      ]
     },
     "execution_count": 19,
     "metadata": {},
     "output_type": "execute_result"
    },
    {
     "data": {
      "text/plain": [
       "{'a': 97, 'b': 98, 'c': 99, 'd': 100, 'e': 101, 'f': 102, 'g': 103}"
      ]
     },
     "execution_count": 19,
     "metadata": {},
     "output_type": "execute_result"
    }
   ],
   "source": [
    "{i: chr(i) for i in range(97, 104)} # 字典推导式，请 help ⾃学内置函数 chr\n",
    "{c: ord(c) for c in 'abcdefg'} # 字典推导式，请 help ⾃学内置函数 ord"
   ]
  },
  {
   "cell_type": "markdown",
   "metadata": {},
   "source": [
    "### 6.8 简答题\n",
    "请解释集合 (set) 对象的概念、特点和⽤法，并写出相应的代码举例。"
   ]
  },
  {
   "cell_type": "markdown",
   "metadata": {},
   "source": [
    "#### 概念"
   ]
  },
  {
   "cell_type": "markdown",
   "metadata": {},
   "source": [
    "`集合 (set)` 本质上是只有`键 (key)` 但没有 `值 (value)` 的特殊的字典 (dict)。集合⾥的键 (key) 被称为` 元素`\n",
    "(element)。`集合` (set) 对象 (object) 就像数学中的集合的概念那样：\n",
    "\n",
    "\n"
   ]
  },
  {
   "cell_type": "markdown",
   "metadata": {},
   "source": [
    "#### 特点和用法："
   ]
  },
  {
   "cell_type": "markdown",
   "metadata": {},
   "source": [
    "- 有陈列式和推导式\n",
    "\n",
    "- 某元素 (element) 要么在集合内，要么不在；\n",
    "\n",
    "- ##### 只有 可散列 (hashable) 的对象才可以作为元素 (element)。\n",
    "\n",
    "\n",
    "- 集合 (set) 本身 不可散列 (unhashable)\n",
    "\n",
    "- 集合是容器\n",
    "\n",
    "- 集合不是序列，元素 (element) 在集合 (set) 内没有位置\n",
    "\n",
    "- 整数可散列\n",
    "\n",
    "- 集合不⽀持提取操作(无序)\n",
    "\n",
    "- 可以自由增加/删除(内部)元素\n",
    "\n",
    "- 有求并、求交、求差、求对称差等操作。"
   ]
  },
  {
   "cell_type": "code",
   "execution_count": 20,
   "metadata": {},
   "outputs": [
    {
     "data": {
      "text/plain": [
       "{42, 'a', 'b'}"
      ]
     },
     "execution_count": 20,
     "metadata": {},
     "output_type": "execute_result"
    },
    {
     "data": {
      "text/plain": [
       "True"
      ]
     },
     "execution_count": 20,
     "metadata": {},
     "output_type": "execute_result"
    },
    {
     "data": {
      "text/plain": [
       "False"
      ]
     },
     "execution_count": 20,
     "metadata": {},
     "output_type": "execute_result"
    }
   ],
   "source": [
    "s = {'a', 'b', 42} # 集合陈列式\n",
    "s # 表现为 {'b', 'a', 42} (有可能是其他)，因为集合是⽆所谓顺序的\n",
    "import collections.abc as coll\n",
    "isinstance(s, coll.Container) # 集合是容器\n",
    "isinstance(s, coll.Sequence) # 集合不是序列"
   ]
  },
  {
   "cell_type": "code",
   "execution_count": 21,
   "metadata": {},
   "outputs": [
    {
     "data": {
      "text/plain": [
       "True"
      ]
     },
     "execution_count": 21,
     "metadata": {},
     "output_type": "execute_result"
    },
    {
     "data": {
      "text/plain": [
       "{42, 'a', 'x', 'y'}"
      ]
     },
     "execution_count": 21,
     "metadata": {},
     "output_type": "execute_result"
    },
    {
     "data": {
      "text/plain": [
       "{42, 'a', 'x'}"
      ]
     },
     "execution_count": 21,
     "metadata": {},
     "output_type": "execute_result"
    },
    {
     "data": {
      "text/plain": [
       "{42, 'x'}"
      ]
     },
     "execution_count": 21,
     "metadata": {},
     "output_type": "execute_result"
    },
    {
     "data": {
      "text/plain": [
       "{42, 'a', 'x'}"
      ]
     },
     "execution_count": 21,
     "metadata": {},
     "output_type": "execute_result"
    },
    {
     "data": {
      "text/plain": [
       "{'a'}"
      ]
     },
     "execution_count": 21,
     "metadata": {},
     "output_type": "execute_result"
    },
    {
     "data": {
      "text/plain": [
       "{42, 'a', 'x'}"
      ]
     },
     "execution_count": 21,
     "metadata": {},
     "output_type": "execute_result"
    },
    {
     "data": {
      "text/plain": [
       "{'a', 'y'}"
      ]
     },
     "execution_count": 21,
     "metadata": {},
     "output_type": "execute_result"
    },
    {
     "data": {
      "text/plain": [
       "{42, 'a', 'x'}"
      ]
     },
     "execution_count": 21,
     "metadata": {},
     "output_type": "execute_result"
    }
   ],
   "source": [
    "42 in s # 判断某可散列的对象是否属于集合\n",
    "#s[0] # 集合不⽀持提取操作\n",
    "s.add('x') # 增加⼀个元素\n",
    "s.remove('b') # 删除⼀个元素\n",
    "s.union(['x', 'y', 42]) # 求并，计算出⼀个新的集合\n",
    "s # 原 s 集合并没有被改变\n",
    "s.intersection(['x', 'y', 42]) # 求交，计算出⼀个新的集合\n",
    "s # 原 s 集合并没有被改变\n",
    "s.difference(['x', 'y', 42]) # 求差，计算出⼀个新的集合\n",
    "s # 原 s 集合并没有被改变\n",
    "s.symmetric_difference(['x', 'y', 42]) # 求对称差，计算出⼀个新的集合\n",
    "s # 原 s 集合并没有被改变\n",
    "#s.add([3, 9]) # 列表不可散列"
   ]
  },
  {
   "cell_type": "markdown",
   "metadata": {},
   "source": [
    "#### 集合推导式\n",
    "集合推导式 (set comprehension) 的语法 (syntax) 就是在花括号 (braces) 内写推导式\n",
    "(comprehension)。例如："
   ]
  },
  {
   "cell_type": "code",
   "execution_count": 22,
   "metadata": {},
   "outputs": [
    {
     "data": {
      "text/plain": [
       "{4, 5, 6, 7, 8, 9, 10}"
      ]
     },
     "execution_count": 22,
     "metadata": {},
     "output_type": "execute_result"
    },
    {
     "data": {
      "text/plain": [
       "{'y', 'z'}"
      ]
     },
     "execution_count": 22,
     "metadata": {},
     "output_type": "execute_result"
    }
   ],
   "source": [
    "{i for i in range(10, 3, -1)} # 集合推导式，请 help ⾃学内置函数 range\n",
    "{chr(i) for i in range(97, 123) if i > 120} # 集合推导式，注意 26 个英⽂字⺟如何被散列"
   ]
  },
  {
   "cell_type": "markdown",
   "metadata": {},
   "source": [
    "### 6.9 简答题\n",
    "请⽤字典推导式 (dict comprehension) 计算 A、B、C 三个字⺟的 ASCII 编码的⼋进制和⼗六进制表\n",
    "示，要求字典的键 (key) 为字⺟，值 (tuple) 为⼋进制和⼗六进制 ASCII 编码所组成的元组"
   ]
  },
  {
   "cell_type": "code",
   "execution_count": 23,
   "metadata": {},
   "outputs": [
    {
     "data": {
      "text/plain": [
       "{'A': ('八进制：101', '十六进制:41'),\n",
       " 'B': ('八进制：102', '十六进制:42'),\n",
       " 'C': ('八进制：103', '十六进制:43')}"
      ]
     },
     "execution_count": 23,
     "metadata": {},
     "output_type": "execute_result"
    },
    {
     "data": {
      "text/plain": [
       "{'A': ('八进制：101', '十六进制： 41'),\n",
       " 'B': ('八进制：102', '十六进制： 42'),\n",
       " 'C': ('八进制：103', '十六进制： 43')}"
      ]
     },
     "execution_count": 23,
     "metadata": {},
     "output_type": "execute_result"
    }
   ],
   "source": [
    "{c:('八进制：'+ oct(ord(c))[2:],\"十六进制:\"+hex(ord(c))[2:]) for c in 'ABC'}\n",
    "\n",
    "{c:( '八进制：'+format(ord(c), 'o'),'十六进制：'+format(ord(c), ' x')) for c in 'ABC'}"
   ]
  },
  {
   "cell_type": "markdown",
   "metadata": {},
   "source": [
    "### 6.10 简答题\n",
    "请写代码举例说明，对于字典 (dict) 的键 (key)，有哪些特点或者要求？"
   ]
  },
  {
   "cell_type": "markdown",
   "metadata": {},
   "source": [
    "- 在字典 (dict) 或集合 (set) 中，`要求`键 (key) 必须是唯⼀的\n",
    "\n",
    " 即不可能有两个键值对\n",
    "(key-value pair) 或者元素 (element)，具有相同的键 (key)；在使⽤圆括号 (braces) 围场 (enclosure) 语\n",
    "法 (syntax) 创建字典 (dict) 或集合 (set) 时\n",
    "\n",
    "\n",
    "- 如果提供了重复的键 (key)，那么后出现的键 (key) 将替换\n",
    "先出现的键 (key)。例如："
   ]
  },
  {
   "cell_type": "code",
   "execution_count": 24,
   "metadata": {
    "scrolled": true
   },
   "outputs": [
    {
     "data": {
      "text/plain": [
       "{'a': 3, 'b': 2}"
      ]
     },
     "execution_count": 24,
     "metadata": {},
     "output_type": "execute_result"
    },
    {
     "data": {
      "text/plain": [
       "3"
      ]
     },
     "execution_count": 24,
     "metadata": {},
     "output_type": "execute_result"
    },
    {
     "data": {
      "text/plain": [
       "{'h': '68', 'e': '65', 'l': '6c', 'o': '6f'}"
      ]
     },
     "execution_count": 24,
     "metadata": {},
     "output_type": "execute_result"
    },
    {
     "name": "stdout",
     "output_type": "stream",
     "text": [
      "h的长度是4\n"
     ]
    },
    {
     "data": {
      "text/plain": [
       "{'a', 'b'}"
      ]
     },
     "execution_count": 24,
     "metadata": {},
     "output_type": "execute_result"
    },
    {
     "data": {
      "text/plain": [
       "2"
      ]
     },
     "execution_count": 24,
     "metadata": {},
     "output_type": "execute_result"
    },
    {
     "data": {
      "text/plain": [
       "19"
      ]
     },
     "execution_count": 24,
     "metadata": {},
     "output_type": "execute_result"
    },
    {
     "data": {
      "text/plain": [
       "4"
      ]
     },
     "execution_count": 24,
     "metadata": {},
     "output_type": "execute_result"
    }
   ],
   "source": [
    "d = {'a': 1, 'b': 2, 'a': 3} # 字典陈列式\n",
    "d # 查看 d 的表现\n",
    "d['a'] # 提供键 'a' 提取出的值是 3，⽽不是 1\n",
    "h = {c: format(ord(c), 'x') for c in 'hello'} # 字典推导式，没有语法错误(format 根据格式 'x' 把⼗进制整数转换为⼗六进制整数字符串)\n",
    "h\n",
    "print('h的长度是'+str(len(h))) # 注意 h 的⻓度是 4 ⽽不是 5\n",
    "s = {'a', 'b', 'a'} # 集合陈列式，没有语法错误\n",
    "s # 查看 s 的表现\n",
    "len(s) # 注意 s 的⻓度是 2 ⽽不是 3\n",
    "t = 'abaa bbbc caca cbba'\n",
    "len(t)\n",
    "s = {c for c in t} # 集合推导式，没有语法错误\n",
    "len(s) # 注意 s 的⻓度是 4 ⽽不是 19"
   ]
  },
  {
   "cell_type": "markdown",
   "metadata": {},
   "source": [
    "<font size  = 1 >\n",
    "利⽤键 (key) 的这种唯⼀性特点，集合 (set) 的⼀个重要⽤途就是从可迭代 (iterable) 对象中过滤出唯⼀\n",
    "值，也就是过滤掉重复值，当然，要在不要求保持顺序的前提下，因为集合 (set) 内的元素 (element)\n",
    "会被散列 (hashed)。"
   ]
  },
  {
   "cell_type": "markdown",
   "metadata": {},
   "source": [
    "#### 6.11 简答题\n",
    "请写代码介绍两个解包运算符 (unpacking operator) 的概念和⽤法，并以字典为例，介绍如何利⽤解包\n",
    "运算符 (unpacking operator) 对现有的字典 (dict) 进⾏更新"
   ]
  },
  {
   "cell_type": "markdown",
   "metadata": {},
   "source": [
    "#### 概念和用法"
   ]
  },
  {
   "cell_type": "markdown",
   "metadata": {},
   "source": [
    "在围场 (enclosure) 的内部，在书写⽤逗号 (comma) 分隔的陈列 (display) 的时候，还有两种 解包运算\n",
    "符 (unpacking operator) 可以使⽤，分别是：\n",
    "\n",
    "- 1. 迭代 (iterable) 解包运算符 * ，\n",
    "- 2. 映射 (mapping) 解\n",
    "包运算符 ** 。\n",
    "\n",
    "他们的作⽤是分别可以把可迭代的 (iterable) 对象和映射 (mapping) 暗含地 (implicitly)\n",
    "解包 (unpack) 为陈列 (display)，拼接到所在的陈列 (display) 中。\n",
    "\n",
    "- 陈列好像只能放在容器内显示，否则会报错can't use starred expression here"
   ]
  },
  {
   "cell_type": "code",
   "execution_count": 25,
   "metadata": {
    "scrolled": true
   },
   "outputs": [
    {
     "data": {
      "text/plain": [
       "(1, 2, 3, 'x', 'y', 'z', 'a', 'b', 'c', 'cat', 'dog')"
      ]
     },
     "execution_count": 25,
     "metadata": {},
     "output_type": "execute_result"
    },
    {
     "data": {
      "text/plain": [
       "['cat', 'dog', 0, 'a', 'b', 'c', 1, 'cat', 'dog']"
      ]
     },
     "execution_count": 25,
     "metadata": {},
     "output_type": "execute_result"
    },
    {
     "data": {
      "text/plain": [
       "{'c', 'x', 'y', 'z'}"
      ]
     },
     "execution_count": 25,
     "metadata": {},
     "output_type": "execute_result"
    },
    {
     "data": {
      "text/plain": [
       "{'a': 97, 'cat': 'sleep', 'dog': 'run', 'd': 100}"
      ]
     },
     "execution_count": 25,
     "metadata": {},
     "output_type": "execute_result"
    },
    {
     "data": {
      "text/plain": [
       "{'cat': 'meow', 'dog': 'run', 'cow': 'moo'}"
      ]
     },
     "execution_count": 25,
     "metadata": {},
     "output_type": "execute_result"
    }
   ],
   "source": [
    "a = ('x', 'y', 'z') # 元组可迭代\n",
    "b = ['a', 'b', 'c'] # 列表可迭代\n",
    "c = {'cat': 'sleep', 'dog': 'run'} # 字典可迭代，但迭代取出的只是键\n",
    "(1, 2, 3, *a, *b, *c) # 迭代解包出的值被添加进元组陈列中\n",
    "[*c, 0, *b, 1, *c] # 迭代解包出的值被添加进列表陈列中\n",
    "{*a, 'x', 'y', 'c'} # 迭代解包出的值被添加进集合陈列中\n",
    "{'a': 97, **c, 'd': 100} # 迭代解包出的键值对被添加进字典陈列中\n",
    "d = {'cat': 'meow', 'cow': 'moo'}\n",
    "{**c, **d} # 后⾯的值覆盖前⾯的值，产⽣更新字典的效果"
   ]
  },
  {
   "cell_type": "markdown",
   "metadata": {},
   "source": [
    "##### 字典可解包迭代，但迭代取出的只是键"
   ]
  },
  {
   "cell_type": "code",
   "execution_count": 26,
   "metadata": {},
   "outputs": [
    {
     "data": {
      "text/plain": [
       "('cat', 'dog')"
      ]
     },
     "execution_count": 26,
     "metadata": {},
     "output_type": "execute_result"
    },
    {
     "data": {
      "text/plain": [
       "['cat', 'dog']"
      ]
     },
     "execution_count": 26,
     "metadata": {},
     "output_type": "execute_result"
    }
   ],
   "source": [
    "c = {'cat': 'sleep', 'dog': 'run'}\n",
    "(*c,)\n",
    "[*c]"
   ]
  },
  {
   "cell_type": "markdown",
   "metadata": {},
   "source": [
    "#### 对现有的字典 (dict) 进⾏更新"
   ]
  },
  {
   "cell_type": "markdown",
   "metadata": {},
   "source": [
    "只要将想要的新的键值对放在新的字典里（d），并且和想更新的字典一起放在容器内（要注意新字典在后），就可以更新字典了"
   ]
  },
  {
   "cell_type": "code",
   "execution_count": 27,
   "metadata": {},
   "outputs": [
    {
     "data": {
      "text/plain": [
       "{'cat': 'meow', 'dog': 'run', 'cow': 'moo'}"
      ]
     },
     "execution_count": 27,
     "metadata": {},
     "output_type": "execute_result"
    }
   ],
   "source": [
    "c = {'cat': 'sleep', 'dog': 'run'}\n",
    "d = {'cat': 'meow', 'cow': 'moo'}\n",
    "{**c, **d} # 后⾯的值覆盖前⾯的值，产⽣更新字典的效果"
   ]
  },
  {
   "cell_type": "markdown",
   "metadata": {},
   "source": [
    "### 6.12 简答题\n",
    "圆括号 (parenthesis) 围场 (enclosure) 可以表示哪三种不同的概念？请分别写代码举例并作出解释。"
   ]
  },
  {
   "cell_type": "markdown",
   "metadata": {},
   "source": [
    "#### 圆括号 (parenthesis) 围场\n",
    "圆括号 (parenthesis) 围场 (enclosure) 是⽤圆括号符号 () 包围起来的原⼦级 (atomic) 表达式\n",
    "(expression)。这种语法依括号内的语法不同，可以表示三种不同概念：\n",
    "\n",
    "- 1. 计算优先级 (priority)，\n",
    "- 2. 元\n",
    "组 (tuple)，\n",
    "- 3. ⽣成器 (generator)\n",
    "\n",
    "下⾯分别进⾏介绍·"
   ]
  },
  {
   "cell_type": "markdown",
   "metadata": {},
   "source": [
    "1. 表示计算优先级 (priority)\n",
    "圆括号 (parenthesis) 的此种⽤法是⽤来⾃定义 (customize) 表达式计算 (evaluate) 的优先级\n",
    "(priority)，其计算结果就是圆括号内的表达式 (expression)。例如"
   ]
  },
  {
   "cell_type": "code",
   "execution_count": 28,
   "metadata": {},
   "outputs": [
    {
     "data": {
      "text/plain": [
       "9"
      ]
     },
     "execution_count": 28,
     "metadata": {},
     "output_type": "execute_result"
    }
   ],
   "source": [
    "(1 + 2) * 3 # ⽤圆括号改变优先级，先计算 1 + 2，再计算 * ，计算结果为 9"
   ]
  },
  {
   "cell_type": "code",
   "execution_count": 29,
   "metadata": {},
   "outputs": [
    {
     "data": {
      "text/plain": [
       "7"
      ]
     },
     "execution_count": 29,
     "metadata": {},
     "output_type": "execute_result"
    }
   ],
   "source": [
    "1 + (2 * 3) # 圆括号围场⾥的内容被当作⼀个整体的原⼦级表达式"
   ]
  },
  {
   "cell_type": "markdown",
   "metadata": {},
   "source": [
    "2. 创建元组 (tuple) 对象\n",
    "\n",
    "<font size = 2>\n",
    "⽤逗号 (comma) 把多个表达式 (expression) 隔开，并⽤圆括号 (parenthesis) 包围起来 (在没有歧义的\n",
    "情况下圆括号可以省略)，将得到由各个内部表达式 (expression) 计算得出的对象 (object) 的引⽤\n",
    "(reference) 所构成的 元组 (tuple)。元组 (tuple) 对象 (object) 的类型 (type) 是内置类型 (built-in type)\n",
    "tuple ，是四个最基本的内置 (built-in) 容器 (container) 类型之⼀。元组 (tuple) 对象的主要⽤途是将\n",
    "计算出的 (evaluated) 对象 (object) 打包 (pack) 为 不可变的 (immutable) 序列 (sequence)，\n",
    "⽅便将来的 解包 (unpack)、提取 (subscription)、切⽚ (slicing) 或 迭代 (iterate)。例如：\n",
    "若⼲ ⼀个"
   ]
  },
  {
   "cell_type": "code",
   "execution_count": 30,
   "metadata": {},
   "outputs": [
    {
     "data": {
      "text/plain": [
       "True"
      ]
     },
     "execution_count": 30,
     "metadata": {},
     "output_type": "execute_result"
    },
    {
     "data": {
      "text/plain": [
       "tuple"
      ]
     },
     "execution_count": 30,
     "metadata": {},
     "output_type": "execute_result"
    },
    {
     "data": {
      "text/plain": [
       "False"
      ]
     },
     "execution_count": 30,
     "metadata": {},
     "output_type": "execute_result"
    },
    {
     "data": {
      "text/plain": [
       "True"
      ]
     },
     "execution_count": 30,
     "metadata": {},
     "output_type": "execute_result"
    },
    {
     "data": {
      "text/plain": [
       "True"
      ]
     },
     "execution_count": 30,
     "metadata": {},
     "output_type": "execute_result"
    }
   ],
   "source": [
    "t = ('a', 'b', 'c') # 创建元组并命名为 t\n",
    "type(t) is tuple # 类型是元组\n",
    "t2 = 'a', 'b', 'c' # 创建元组并命名为 t2，省略圆括号不引起歧义\n",
    "type(t2)\n",
    "t is t2 # 不同的对象\n",
    "t == t2 # 两元组的值相等\n",
    "isinstance(t, tuple) # 元组是元组类型的实例"
   ]
  },
  {
   "cell_type": "code",
   "execution_count": 31,
   "metadata": {},
   "outputs": [
    {
     "data": {
      "text/plain": [
       "True"
      ]
     },
     "execution_count": 31,
     "metadata": {},
     "output_type": "execute_result"
    },
    {
     "data": {
      "text/plain": [
       "True"
      ]
     },
     "execution_count": 31,
     "metadata": {},
     "output_type": "execute_result"
    },
    {
     "data": {
      "text/plain": [
       "False"
      ]
     },
     "execution_count": 31,
     "metadata": {},
     "output_type": "execute_result"
    },
    {
     "data": {
      "text/plain": [
       "True"
      ]
     },
     "execution_count": 31,
     "metadata": {},
     "output_type": "execute_result"
    }
   ],
   "source": [
    "import collections.abc as coll # 导⼊抽象基类 (abstract base class) 模块\n",
    "isinstance(t, coll.Container) # 元组也是⼀种容器\n",
    "isinstance(t, coll.Sequence) # 元组也是⼀种序列\n",
    "isinstance(t, coll.MutableSequence) # 但元组不是可变序列\n",
    "isinstance(t, coll.Iterable) # 元组可迭代"
   ]
  },
  {
   "cell_type": "code",
   "execution_count": 32,
   "metadata": {},
   "outputs": [
    {
     "data": {
      "text/plain": [
       "'a'"
      ]
     },
     "execution_count": 32,
     "metadata": {},
     "output_type": "execute_result"
    },
    {
     "data": {
      "text/plain": [
       "('b', 'c')"
      ]
     },
     "execution_count": 32,
     "metadata": {},
     "output_type": "execute_result"
    },
    {
     "name": "stdout",
     "output_type": "stream",
     "text": [
      "a\n",
      "b\n",
      "c\n"
     ]
    }
   ],
   "source": [
    "x, y, z = t # 解包 unpack\n",
    "t[0] # 提取 subscription\n",
    "t[-2:] # 切⽚ slicing\n",
    "for c in t: # 迭代 iterate\n",
    "    print(c) # print 前必须有四个空格c"
   ]
  },
  {
   "cell_type": "markdown",
   "metadata": {},
   "source": [
    "需要注意，因为圆括号 (parenthesis) 也被⽤来表示计算优先级 (priority)，在⽆歧义的情况下可以省\n",
    "略，所以元组 (tuple) 的语法 (syntax) 主要取决于逗号 (comma)，⽽不是圆括号 (parenthesis)。只有在\n",
    "创建空⽩元组的时候，才只使⽤⼀对紧连的圆括号 (parenthesis)，⽽不使⽤逗号 (comma)。例如："
   ]
  },
  {
   "cell_type": "code",
   "execution_count": 33,
   "metadata": {},
   "outputs": [
    {
     "data": {
      "text/plain": [
       "True"
      ]
     },
     "execution_count": 33,
     "metadata": {},
     "output_type": "execute_result"
    }
   ],
   "source": [
    "t = (1, ) # 只有⼀个元素的元组\n",
    "t2 = 1, # 省略圆括号\n",
    "t2 == t # 值相等"
   ]
  },
  {
   "cell_type": "markdown",
   "metadata": {},
   "source": [
    "#### 创建⽣成器 (generator) 对象\n",
    "圆括号 (parenthesis) 围场 (enclosure) 内也⽀持 `推导式` (comprehension) 语法 (syntax)，将创建出⼀\n",
    "个 `⽣成器 `(generator) 对象，⽽不是`元组` (tuple) 对象。\n",
    "\n",
    "⽣成器 (generator) 对象并不是 容器\n",
    "(container)，更不是 序列 (sequence)，⽽是⼀种轻便 (light-weight) ⾼效 (efficient) 的 可迭代\n",
    "(iterable) 对象。⽣成器 (generator) 的最⼤特点是在创建时并不计算 (evaluate) 内部表达式\n",
    "(expression) 的值，只有在被 迭代 (iterate) 时才逐个计算，计算出的结果并不保留在⽣成器(generator) 中，能极⼤地减少内存浪费和⽆谓计算。"
   ]
  },
  {
   "cell_type": "code",
   "execution_count": 34,
   "metadata": {},
   "outputs": [
    {
     "data": {
      "text/plain": [
       "<generator object <genexpr> at 0x000001D3D0AB6148>"
      ]
     },
     "execution_count": 34,
     "metadata": {},
     "output_type": "execute_result"
    },
    {
     "data": {
      "text/plain": [
       "generator"
      ]
     },
     "execution_count": 34,
     "metadata": {},
     "output_type": "execute_result"
    },
    {
     "data": {
      "text/plain": [
       "False"
      ]
     },
     "execution_count": 34,
     "metadata": {},
     "output_type": "execute_result"
    },
    {
     "data": {
      "text/plain": [
       "True"
      ]
     },
     "execution_count": 34,
     "metadata": {},
     "output_type": "execute_result"
    },
    {
     "data": {
      "text/plain": [
       "False"
      ]
     },
     "execution_count": 34,
     "metadata": {},
     "output_type": "execute_result"
    },
    {
     "data": {
      "text/plain": [
       "False"
      ]
     },
     "execution_count": 34,
     "metadata": {},
     "output_type": "execute_result"
    },
    {
     "data": {
      "text/plain": [
       "True"
      ]
     },
     "execution_count": 34,
     "metadata": {},
     "output_type": "execute_result"
    },
    {
     "data": {
      "text/plain": [
       "'h'"
      ]
     },
     "execution_count": 34,
     "metadata": {},
     "output_type": "execute_result"
    },
    {
     "data": {
      "text/plain": [
       "'e'"
      ]
     },
     "execution_count": 34,
     "metadata": {},
     "output_type": "execute_result"
    },
    {
     "data": {
      "text/plain": [
       "('l', 'l', 'o')"
      ]
     },
     "execution_count": 34,
     "metadata": {},
     "output_type": "execute_result"
    },
    {
     "data": {
      "text/plain": [
       "()"
      ]
     },
     "execution_count": 34,
     "metadata": {},
     "output_type": "execute_result"
    },
    {
     "name": "stdout",
     "output_type": "stream",
     "text": [
      "h\n"
     ]
    },
    {
     "data": {
      "text/plain": [
       "True"
      ]
     },
     "execution_count": 34,
     "metadata": {},
     "output_type": "execute_result"
    },
    {
     "name": "stdout",
     "output_type": "stream",
     "text": [
      "e\n",
      "l\n",
      "l\n",
      "o\n"
     ]
    },
    {
     "data": {
      "text/plain": [
       "4"
      ]
     },
     "execution_count": 34,
     "metadata": {},
     "output_type": "execute_result"
    },
    {
     "data": {
      "text/plain": [
       "(None, None, None, None)"
      ]
     },
     "execution_count": 34,
     "metadata": {},
     "output_type": "execute_result"
    }
   ],
   "source": [
    "g = (c for c in 'hello') # ⼀个最简单的推导式例⼦\n",
    "g # 是⽣成器对象，⽽不是元组\n",
    "type(g) # 获取类型\n",
    "import collections.abc  as coll# 导⼊抽象基类 (abstract base class) 模块\n",
    "isinstance(g, tuple) # 不是元组\n",
    "isinstance(g, coll.Generator) # 是⽣成器\n",
    "isinstance(g, coll.Container) # 不是容器\n",
    "isinstance(g, coll.Sequence) # 不是序列\n",
    "isinstance(g, coll.Iterable) # 可迭代\n",
    "next(g) # 取出下⼀个值，'h'\n",
    "next(g) # 取出下⼀个值，'e'\n",
    "tuple(g) # 取出所有剩下的值，创建元组\n",
    "tuple(g) # 已没有剩下的值，得到空⽩元组\n",
    "g = (print(c) for c in 'hello') # 注意并不⽴即 print\n",
    "s = next(g) # 取出下⼀个值，开始计算⼀个 print\n",
    "s is None # 取出的为空值，因为 print 函数返回空值\n",
    "t = tuple(g) # 取出所有剩下的值，计算剩余的 print，将结果打包为元组\n",
    "len(t) # ⻓度是 4 ⽽不是 5\n",
    "t # 被打包的四个值都是 None(print是操作)"
   ]
  },
  {
   "cell_type": "code",
   "execution_count": 35,
   "metadata": {},
   "outputs": [],
   "source": [
    "#len(g) # 不能获取⻓度\n",
    "#g[-1] # 不能提取\n",
    "#g[:3] # 不能切⽚\n",
    "#object of type 'generator' has no len()\n"
   ]
  },
  {
   "cell_type": "markdown",
   "metadata": {},
   "source": [
    "### 6.13 简答题\n",
    "请解释元组 (tuple) 对象的概念、特点和⽤法，并写出相应的代码举例。"
   ]
  },
  {
   "cell_type": "markdown",
   "metadata": {},
   "source": [
    "2. 创建元组 (tuple) 对象\n",
    "\n",
    "<font size = 2>\n",
    "⽤逗号 (comma) 把多个表达式 (expression) 隔开，并⽤圆括号 (parenthesis) 包围起来 (在没有歧义的\n",
    "情况下圆括号可以省略)，将得到由各个内部表达式 (expression) 计算得出的对象 (object) 的引⽤\n",
    "(reference) 所构成的 元组 (tuple)。元组 (tuple) 对象 (object) 的类型 (type) 是内置类型 (built-in type)\n",
    "tuple ，是四个最基本的内置 (built-in) 容器 (container) 类型之⼀。元组 (tuple) 对象的主要⽤途是将\n",
    "计算出的 (evaluated) 对象 (object) 打包 (pack) 为 不可变的 (immutable) 序列 (sequence)，\n",
    "⽅便将来的 解包 (unpack)、提取 (subscription)、切⽚ (slicing) 或 迭代 (iterate)。"
   ]
  },
  {
   "cell_type": "code",
   "execution_count": 36,
   "metadata": {},
   "outputs": [
    {
     "data": {
      "text/plain": [
       "True"
      ]
     },
     "execution_count": 36,
     "metadata": {},
     "output_type": "execute_result"
    },
    {
     "data": {
      "text/plain": [
       "tuple"
      ]
     },
     "execution_count": 36,
     "metadata": {},
     "output_type": "execute_result"
    },
    {
     "data": {
      "text/plain": [
       "False"
      ]
     },
     "execution_count": 36,
     "metadata": {},
     "output_type": "execute_result"
    },
    {
     "data": {
      "text/plain": [
       "True"
      ]
     },
     "execution_count": 36,
     "metadata": {},
     "output_type": "execute_result"
    },
    {
     "data": {
      "text/plain": [
       "True"
      ]
     },
     "execution_count": 36,
     "metadata": {},
     "output_type": "execute_result"
    }
   ],
   "source": [
    "t = ('a', 'b', 'c') # 创建元组并命名为 t\n",
    "type(t) is tuple # 类型是元组\n",
    "t2 = 'a', 'b', 'c' # 创建元组并命名为 t2，省略圆括号不引起歧义\n",
    "type(t2)\n",
    "t is t2 # 不同的对象\n",
    "t == t2 # 两元组的值相等\n",
    "isinstance(t, tuple) # 元组是元组类型的实例"
   ]
  },
  {
   "cell_type": "code",
   "execution_count": 37,
   "metadata": {},
   "outputs": [
    {
     "data": {
      "text/plain": [
       "True"
      ]
     },
     "execution_count": 37,
     "metadata": {},
     "output_type": "execute_result"
    },
    {
     "data": {
      "text/plain": [
       "True"
      ]
     },
     "execution_count": 37,
     "metadata": {},
     "output_type": "execute_result"
    },
    {
     "data": {
      "text/plain": [
       "False"
      ]
     },
     "execution_count": 37,
     "metadata": {},
     "output_type": "execute_result"
    },
    {
     "data": {
      "text/plain": [
       "True"
      ]
     },
     "execution_count": 37,
     "metadata": {},
     "output_type": "execute_result"
    }
   ],
   "source": [
    "import collections.abc as coll # 导⼊抽象基类 (abstract base class) 模块\n",
    "isinstance(t, coll.Container) # 元组也是⼀种容器\n",
    "isinstance(t, coll.Sequence) # 元组也是⼀种序列\n",
    "isinstance(t, coll.MutableSequence) # 但元组不是可变序列\n",
    "isinstance(t, coll.Iterable) # 元组可迭代"
   ]
  },
  {
   "cell_type": "code",
   "execution_count": 38,
   "metadata": {},
   "outputs": [
    {
     "data": {
      "text/plain": [
       "'a'"
      ]
     },
     "execution_count": 38,
     "metadata": {},
     "output_type": "execute_result"
    },
    {
     "data": {
      "text/plain": [
       "('b', 'c')"
      ]
     },
     "execution_count": 38,
     "metadata": {},
     "output_type": "execute_result"
    },
    {
     "name": "stdout",
     "output_type": "stream",
     "text": [
      "a\n",
      "b\n",
      "c\n"
     ]
    }
   ],
   "source": [
    "x, y, z = t # 解包 unpack\n",
    "t[0] # 提取 subscription\n",
    "t[-2:] # 切⽚ slicing\n",
    "for c in t: # 迭代 iterate\n",
    "    print(c) # print 前必须有四个空格c"
   ]
  },
  {
   "cell_type": "markdown",
   "metadata": {},
   "source": [
    "需要注意，因为圆括号 (parenthesis) 也被⽤来表示计算优先级 (priority)，在⽆歧义的情况下可以省\n",
    "略，所以元组 (tuple) 的语法 (syntax) 主要取决于逗号 (comma)，⽽不是圆括号 (parenthesis)。只有在\n",
    "创建空⽩元组的时候，才只使⽤⼀对紧连的圆括号 (parenthesis)，⽽不使⽤逗号 (comma)。例如："
   ]
  },
  {
   "cell_type": "code",
   "execution_count": 39,
   "metadata": {},
   "outputs": [
    {
     "data": {
      "text/plain": [
       "True"
      ]
     },
     "execution_count": 39,
     "metadata": {},
     "output_type": "execute_result"
    }
   ],
   "source": [
    "t = (1, ) # 只有⼀个元素的元组\n",
    "t2 = 1, # 省略圆括号\n",
    "t2 == t # 值相等"
   ]
  },
  {
   "cell_type": "markdown",
   "metadata": {},
   "source": [
    "### 6.14 简答题\n",
    "请解释⽣成器 (generator) 对象的概念、特点和⽤法，并写出相应的代码举例。"
   ]
  },
  {
   "cell_type": "markdown",
   "metadata": {},
   "source": [
    "#### 创建⽣成器 (generator) 对象\n",
    "圆括号 (parenthesis) 围场 (enclosure) 内也⽀持 `推导式` (comprehension) 语法 (syntax)，将创建出⼀\n",
    "个 `⽣成器 `(generator) 对象，⽽不是`元组` (tuple) 对象。\n",
    "\n",
    "⽣成器 (generator) 对象并不是 容器\n",
    "(container)，更不是 序列 (sequence)，⽽是⼀种轻便 (light-weight) ⾼效 (efficient) 的 `可迭代(iterable) 对象`。\n",
    "\n",
    "\n",
    "⽣成器 (generator) 的`最⼤特点`是在创建时并不计算 (evaluate) 内部表达式\n",
    "(expression) 的值，只有在被 迭代 (iterate) 时才逐个计算，计算出的结果并不保留在⽣成器(generator) 中，能极⼤地减少内存浪费和⽆谓计算。"
   ]
  },
  {
   "cell_type": "code",
   "execution_count": 40,
   "metadata": {},
   "outputs": [
    {
     "data": {
      "text/plain": [
       "<generator object <genexpr> at 0x000001D3D0AAE648>"
      ]
     },
     "execution_count": 40,
     "metadata": {},
     "output_type": "execute_result"
    },
    {
     "data": {
      "text/plain": [
       "generator"
      ]
     },
     "execution_count": 40,
     "metadata": {},
     "output_type": "execute_result"
    },
    {
     "data": {
      "text/plain": [
       "False"
      ]
     },
     "execution_count": 40,
     "metadata": {},
     "output_type": "execute_result"
    },
    {
     "data": {
      "text/plain": [
       "True"
      ]
     },
     "execution_count": 40,
     "metadata": {},
     "output_type": "execute_result"
    },
    {
     "data": {
      "text/plain": [
       "False"
      ]
     },
     "execution_count": 40,
     "metadata": {},
     "output_type": "execute_result"
    },
    {
     "data": {
      "text/plain": [
       "False"
      ]
     },
     "execution_count": 40,
     "metadata": {},
     "output_type": "execute_result"
    },
    {
     "data": {
      "text/plain": [
       "True"
      ]
     },
     "execution_count": 40,
     "metadata": {},
     "output_type": "execute_result"
    },
    {
     "data": {
      "text/plain": [
       "'h'"
      ]
     },
     "execution_count": 40,
     "metadata": {},
     "output_type": "execute_result"
    },
    {
     "data": {
      "text/plain": [
       "'e'"
      ]
     },
     "execution_count": 40,
     "metadata": {},
     "output_type": "execute_result"
    },
    {
     "data": {
      "text/plain": [
       "('l', 'l', 'o')"
      ]
     },
     "execution_count": 40,
     "metadata": {},
     "output_type": "execute_result"
    },
    {
     "data": {
      "text/plain": [
       "()"
      ]
     },
     "execution_count": 40,
     "metadata": {},
     "output_type": "execute_result"
    },
    {
     "name": "stdout",
     "output_type": "stream",
     "text": [
      "h\n"
     ]
    },
    {
     "data": {
      "text/plain": [
       "True"
      ]
     },
     "execution_count": 40,
     "metadata": {},
     "output_type": "execute_result"
    },
    {
     "name": "stdout",
     "output_type": "stream",
     "text": [
      "e\n",
      "l\n",
      "l\n",
      "o\n"
     ]
    },
    {
     "data": {
      "text/plain": [
       "4"
      ]
     },
     "execution_count": 40,
     "metadata": {},
     "output_type": "execute_result"
    },
    {
     "data": {
      "text/plain": [
       "(None, None, None, None)"
      ]
     },
     "execution_count": 40,
     "metadata": {},
     "output_type": "execute_result"
    }
   ],
   "source": [
    "g = (c for c in 'hello') # ⼀个最简单的推导式例⼦\n",
    "g # 是⽣成器对象，⽽不是元组\n",
    "type(g) # 获取类型\n",
    "import collections.abc  as coll# 导⼊抽象基类 (abstract base class) 模块\n",
    "isinstance(g, tuple) # 不是元组\n",
    "isinstance(g, coll.Generator) # 是⽣成器\n",
    "isinstance(g, coll.Container) # 不是容器\n",
    "isinstance(g, coll.Sequence) # 不是序列\n",
    "isinstance(g, coll.Iterable) # 可迭代\n",
    "next(g) # 取出下⼀个值，'h'\n",
    "next(g) # 取出下⼀个值，'e'\n",
    "tuple(g) # 取出所有剩下的值，创建元组\n",
    "tuple(g) # 已没有剩下的值，得到空⽩元组\n",
    "g = (print(c) for c in 'hello') # 注意并不⽴即 print\n",
    "s = next(g) # 取出下⼀个值，开始计算⼀个 print\n",
    "s is None # 取出的为空值，因为 print 函数返回空值\n",
    "t = tuple(g) # 取出所有剩下的值，计算剩余的 print，将结果打包为元组\n",
    "len(t) # ⻓度是 4 ⽽不是 5\n",
    "t # 被打包的四个值都是 None(print是操作)"
   ]
  },
  {
   "cell_type": "markdown",
   "metadata": {},
   "source": [
    "### 6.15 简答题\n",
    "属性访问的硬编码 (hard-coded) ⽅式和软编码 (soft-coded) ⽅式分别是什么？请写代码举例说明。"
   ]
  },
  {
   "cell_type": "markdown",
   "metadata": {},
   "source": [
    "硬编码 (hard-coded)把属性名称直接写在了代码⾥，⽽软编码 (soft-coded)一般以函数型数存在，函数包含“属性”实参，且实参处可以改写成其他任意表达\n",
    "式。"
   ]
  },
  {
   "cell_type": "markdown",
   "metadata": {},
   "source": [
    "#### 例如："
   ]
  },
  {
   "cell_type": "code",
   "execution_count": 41,
   "metadata": {},
   "outputs": [
    {
     "data": {
      "text/plain": [
       "<function str.upper()>"
      ]
     },
     "execution_count": 41,
     "metadata": {},
     "output_type": "execute_result"
    },
    {
     "data": {
      "text/plain": [
       "<function str.upper()>"
      ]
     },
     "execution_count": 41,
     "metadata": {},
     "output_type": "execute_result"
    }
   ],
   "source": [
    "s = 'hello'\n",
    "s.upper # 使⽤属性访问符\n",
    "getattr(s, 'upper') # 调⽤内置函数"
   ]
  },
  {
   "cell_type": "markdown",
   "metadata": {},
   "source": [
    "s.upper 是 硬编码 (hard-coded)，即把名称 upper 直接写在了代码⾥，⽽\n",
    "getattr(s, 'upper') 则是 软编码 (soft-coded)，因为实参 'upper' 处可以改写成其他任意表达\n",
    "式。例如："
   ]
  },
  {
   "cell_type": "code",
   "execution_count": 42,
   "metadata": {},
   "outputs": [
    {
     "data": {
      "text/plain": [
       "'HELLO'"
      ]
     },
     "execution_count": 42,
     "metadata": {},
     "output_type": "execute_result"
    },
    {
     "data": {
      "text/plain": [
       "<function str.upper()>"
      ]
     },
     "execution_count": 42,
     "metadata": {},
     "output_type": "execute_result"
    }
   ],
   "source": [
    "s = 'hello'\n",
    "attr = 'upper'\n",
    "s.upper()\n",
    "#s.attr # 报错，s 对象没有名为 attr 的属性\n",
    "#s.'upper' # 语法错误\n",
    "getattr(s, attr) # 根据 attr 变量所指的名称从 s 对象取得相应属性"
   ]
  },
  {
   "cell_type": "markdown",
   "metadata": {},
   "source": [
    "#### 个人总结：\n",
    "硬编码代码简洁明快，但是相对条件要求较高，可变化性较差（譬如本例中不能将属性访问名赋值后使用）\n",
    "而软编码虽然代码可能不够直接，但是胜在灵活和稳定"
   ]
  },
  {
   "cell_type": "markdown",
   "metadata": {},
   "source": [
    "### 6.16 简答题\n",
    "请总结有哪些类型的对象可以进⾏提取 (subscription)，以及不同类型对象的提取表达式 (subscripting\n",
    "expression) 的要求是什么，并写相应的代码举例"
   ]
  },
  {
   "cell_type": "markdown",
   "metadata": {},
   "source": [
    "- 对于 序列 (sequence) 或者 映射 (mapping) 对象 (object)，可以使⽤ 提取 (subscription) 语法 (syntax)\n",
    "提取出指定的元素。既⾮序列 (sequence) ⼜⾮映射 (mapping) 的对象 (object)，除⾮在其类 (class) 中\n",
    "另有定义，否则不可以进⾏提取 (subscription)。"
   ]
  },
  {
   "cell_type": "markdown",
   "metadata": {},
   "source": [
    "取决于被提取的对象 (object) 是序列 (sequence) 还是映射 (mapping)，提取表达式 (expression) 的要\n",
    "求不尽相同。"
   ]
  },
  {
   "cell_type": "markdown",
   "metadata": {},
   "source": [
    "- 序列提取\n",
    "\n",
    "\n",
    "对序列 (sequence) 对象 (object) 进⾏提取 (subscription) 时，提取表达式 (subscripting expression)\n",
    "必须计算 (evaluate) 为 `整数`。序列内的每⼀个元素 (element) 都有⼀个从 0 开始的 索引值 (index)，⻓\n",
    "度 (length) 为 的序列 (sequence) 的最后⼀个元素 (element) 的索引值 (index) 为 。提取表达式\n",
    "(subscripting expression) 也可以计算 (evaluate) 为负整数。\n",
    "\n",
    "Python 的内置 (built-in) 序列 (sequence)\n",
    "对象 (object) 在处理负的提取表达式 (subscripting expression) 的时候，会⾃动加上 来计算索引号\n",
    "(index)。因此，提取表达式 (subscripting expression) 也可以提取出序列 (sequence) 的最后⼀个\n",
    "元素 (element)，⽽且更直观易懂。"
   ]
  },
  {
   "cell_type": "code",
   "execution_count": 43,
   "metadata": {},
   "outputs": [
    {
     "data": {
      "text/plain": [
       "'b'"
      ]
     },
     "execution_count": 43,
     "metadata": {},
     "output_type": "execute_result"
    },
    {
     "data": {
      "text/plain": [
       "'h'"
      ]
     },
     "execution_count": 43,
     "metadata": {},
     "output_type": "execute_result"
    },
    {
     "data": {
      "text/plain": [
       "'a'"
      ]
     },
     "execution_count": 43,
     "metadata": {},
     "output_type": "execute_result"
    },
    {
     "data": {
      "text/plain": [
       "'h'"
      ]
     },
     "execution_count": 43,
     "metadata": {},
     "output_type": "execute_result"
    },
    {
     "data": {
      "text/plain": [
       "'h'"
      ]
     },
     "execution_count": 43,
     "metadata": {},
     "output_type": "execute_result"
    },
    {
     "data": {
      "text/plain": [
       "4"
      ]
     },
     "execution_count": 43,
     "metadata": {},
     "output_type": "execute_result"
    }
   ],
   "source": [
    "l = ['b', 'l', 'a', 'h'] # 列表是典型的序列，以列表为例\n",
    "l[0]\n",
    "l[-1] # 更直观易懂\n",
    "#l['b'] # 提取表达式必须计算为整数\n",
    "l[1 + 1] # 1 + 1 计算为整数 2，是有效的提取表达式\n",
    "n = len(l) # 计算列表的⻓度并命名为 n\n",
    "l[n - 1]\n",
    "l[len(l) - 1]\n",
    "matrix = [[3, 6, 9], [2, 8, 4], [5, 1, 0]] # 列表内的元素仍是列表\n",
    "matrix[1][2] # 提取之后继续提取，matrix[1] 计算出了⼀个可提取的对象"
   ]
  },
  {
   "cell_type": "markdown",
   "metadata": {},
   "source": [
    "- 映射提取\n",
    "\n",
    "\n",
    "对映射 (mapping) 对象 (object) 进⾏提取 (subscription) 时，`提取表达式 `(subscripting expression) 必\n",
    "须计算 (evaluate) 为 `可散列 (hashable) 对象。`\n",
    "\n",
    "这其实就是前⾯讲过的对键 (key) 的要求。\n",
    "\n",
    "通常⽽⾔，不\n",
    "可变 (immutable) 内置类型 (built-in types) 都 可散列 (hashable)，可变 (mutable) 内置类型 (built-in\n",
    "types) 都 不可散列 (unhashable)，程序员定义的类 (class) 的实例 (instance) 以 id() 为基础 可散列\n",
    "(hashable)。⼏个常⽤的内置数据类型 (built-in data types) 是否可变 (mutable) 或可散列 (hashable)\n",
    "参⻅表 "
   ]
  },
  {
   "cell_type": "markdown",
   "metadata": {},
   "source": [
    "![image.png](attachment:image.png)"
   ]
  },
  {
   "cell_type": "code",
   "execution_count": 44,
   "metadata": {},
   "outputs": [
    {
     "data": {
      "text/plain": [
       "123"
      ]
     },
     "execution_count": 44,
     "metadata": {},
     "output_type": "execute_result"
    },
    {
     "data": {
      "text/plain": [
       "'a'"
      ]
     },
     "execution_count": 44,
     "metadata": {},
     "output_type": "execute_result"
    },
    {
     "data": {
      "text/plain": [
       "5.0"
      ]
     },
     "execution_count": 44,
     "metadata": {},
     "output_type": "execute_result"
    },
    {
     "data": {
      "text/plain": [
       "5.0"
      ]
     },
     "execution_count": 44,
     "metadata": {},
     "output_type": "execute_result"
    },
    {
     "data": {
      "text/plain": [
       "{1, 3, 4}"
      ]
     },
     "execution_count": 44,
     "metadata": {},
     "output_type": "execute_result"
    }
   ],
   "source": [
    "d = {'a': 123, 98: 'a', (3, 4): 5., (0, 'a'): {3, 1, 4}} # 字典的 key 并不必须是相同类型\n",
    "d['a']\n",
    "d[98]\n",
    "d[(3, 4)]\n",
    "d[3, 4] # 因为没有歧义，所以这⾥元组的圆括号可以省略，⽽且建议省略\n",
    "d[0, 'a'] # 键所对应的值可以可变或不可散列"
   ]
  },
  {
   "cell_type": "markdown",
   "metadata": {},
   "source": [
    "- 虽然 浮点数 (float) 是可散列 (hashable) 的，但由于其在内存中使⽤有限的若⼲⼆进制字节\n",
    "(bytes) 进⾏保存，其计算有时不能完全精确，被称为 舍⼊误差 (round-off error)，所以 ⾮常不建议 使\n",
    "⽤浮点数 (float) 作为字典 (dict) 中的键 (key)，否则很容易在提取 (subscription) 时出现意外错误。例\n",
    "如："
   ]
  },
  {
   "cell_type": "code",
   "execution_count": 45,
   "metadata": {},
   "outputs": [
    {
     "data": {
      "text/plain": [
       "'not recommended'"
      ]
     },
     "execution_count": 45,
     "metadata": {},
     "output_type": "execute_result"
    }
   ],
   "source": [
    "d = {3.3: 'not recommended'} # 不建议⽤浮点数作为 key\n",
    "d[3.3] # 可以正常提取\n",
    "#d[1.1 + 2.2] # 不能正常提取"
   ]
  },
  {
   "cell_type": "markdown",
   "metadata": {},
   "source": [
    "### 6.17 简答题\n",
    "请总结有哪些类型的对象可以作为字典的键 (key)？哪些不可以？为什么不推荐⽤浮点数 (float) 作为字\n",
    "典的键？请写相应的代码举例"
   ]
  },
  {
   "cell_type": "markdown",
   "metadata": {},
   "source": [
    "- 只有 可散列 (hashable) 的对象才可以作为键 (key)，值 (value) 则可以是任何对\n",
    "象。字典 (dict) 本身 不可散列 (unhashable)。\n",
    "\n",
    "根据图例等总结\n",
    "\n",
    "- 字符串\n",
    "\n",
    "- 整数和浮点数（不推荐）\n",
    "\n",
    "- 生成器\n",
    "\n",
    "- 元组\n",
    "\n",
    "- 比特（字节）"
   ]
  },
  {
   "cell_type": "code",
   "execution_count": 46,
   "metadata": {},
   "outputs": [
    {
     "data": {
      "text/plain": [
       "1"
      ]
     },
     "execution_count": 46,
     "metadata": {},
     "output_type": "execute_result"
    }
   ],
   "source": [
    "d = {b'a': 1, 'b': 2, 'c': 3}\n",
    "d[b'a']"
   ]
  },
  {
   "cell_type": "markdown",
   "metadata": {},
   "source": [
    "- 虽然` 浮点数 (float)` 是`可散列` (hashable) 的，但由于其在内存中使⽤有限的若⼲⼆进制字节\n",
    "(bytes) 进⾏保存，其计算有时`不能完全精确`，被称为 `舍⼊误差` (round-off error)，所以 ⾮常不建议 使\n",
    "⽤浮点数 (float) 作为字典 (dict) 中的键 (key)，否则很容易在提取 (subscription) 时出现意外错误。例\n",
    "如："
   ]
  },
  {
   "cell_type": "code",
   "execution_count": 47,
   "metadata": {},
   "outputs": [
    {
     "data": {
      "text/plain": [
       "'not recommended'"
      ]
     },
     "execution_count": 47,
     "metadata": {},
     "output_type": "execute_result"
    }
   ],
   "source": [
    "d = {3.3: 'not recommended'} # 不建议⽤浮点数作为 key\n",
    "d[3.3] # 可以正常提取\n",
    "#d[1.1 + 2.2] # 不能正常提取"
   ]
  },
  {
   "cell_type": "markdown",
   "metadata": {},
   "source": [
    "### 6.18 简答题\n",
    "对于以下对象"
   ]
  },
  {
   "cell_type": "code",
   "execution_count": 48,
   "metadata": {},
   "outputs": [],
   "source": [
    ">>> person = {\n",
    "... 'name': ('Adam', 'Smith'),\n",
    "... 'birth': (1723, 6, 5),\n",
    "... 'publications': [\n",
    "... {'year': 1759, 'title': 'The Theory of Moral Sentiments'},\n",
    "... {'year': 1776, 'title': 'The Wealth of Nations'},\n",
    "... ],\n",
    "... }"
   ]
  },
  {
   "cell_type": "markdown",
   "metadata": {},
   "source": [
    "#### 请写代码从中提取出 'The Wealth of Nations' 。"
   ]
  },
  {
   "cell_type": "code",
   "execution_count": 49,
   "metadata": {},
   "outputs": [
    {
     "data": {
      "text/plain": [
       "'The Wealth of Nations'"
      ]
     },
     "execution_count": 49,
     "metadata": {},
     "output_type": "execute_result"
    }
   ],
   "source": [
    "person['publications'][1]['title']"
   ]
  },
  {
   "cell_type": "markdown",
   "metadata": {},
   "source": [
    "### 6.19 简答题\n",
    "请简述切⽚ (slicing) 语法的规则，并对你所列举的每⼀个规则，相应地举例进⾏说明。"
   ]
  },
  {
   "cell_type": "markdown",
   "metadata": {},
   "source": [
    "#### 切⽚\n",
    "序列 (sequence) 对象 (object) 还⽀持 切⽚ (slicing) 语法 (syntax)，⽤于 有规律地 从现有序列\n",
    "(sequence) 切取得到⼀个 新的 序列 (sequence) 对象 (object)。下⾯先给出⼀些例⼦："
   ]
  },
  {
   "cell_type": "markdown",
   "metadata": {},
   "source": [
    "- 切⽚ (slicing) 语法 (syntax) \n",
    "\n",
    "在提取符 [] 内使⽤⼀个或两个冒号 (colon)，⽤来分隔三\n",
    "个可省略的表达式 (expression)，分别为切⽚的 起始 (start)、终⽌ (stop) 和 步⻓ (step)。\n",
    "\n",
    "⼀个冒号\n",
    "(colon) ⽤来分隔起始 (start) 和终⽌ (stop)，第⼆个冒号 (colon) 后⾯写步⻓ (step)。省略起始 (start) 或\n",
    "终⽌ (stop) 意味着从最开始切⽚或切⽚⾄最末尾。\n",
    "\n",
    "省略步⻓ (step) 意味着步⻓为 1。\n",
    "\n",
    "- 切⽚要注意:（前闭后开）\n",
    "\n",
    "若指定起始 (start) 索引值 (index)，则其必然要被包含 (inclusive)；若指定终⽌ (stop) 索引值\n",
    "(index)，则其必然不被包含 (exclusive)。\n",
    "\n"
   ]
  },
  {
   "cell_type": "code",
   "execution_count": 50,
   "metadata": {},
   "outputs": [
    {
     "data": {
      "text/plain": [
       "['b', 'c', 'd', 'e']"
      ]
     },
     "execution_count": 50,
     "metadata": {},
     "output_type": "execute_result"
    },
    {
     "data": {
      "text/plain": [
       "['a', 'b', 'c']"
      ]
     },
     "execution_count": 50,
     "metadata": {},
     "output_type": "execute_result"
    },
    {
     "data": {
      "text/plain": [
       "['c', 'd', 'e']"
      ]
     },
     "execution_count": 50,
     "metadata": {},
     "output_type": "execute_result"
    },
    {
     "data": {
      "text/plain": [
       "['a', 'b', 'c', 'd']"
      ]
     },
     "execution_count": 50,
     "metadata": {},
     "output_type": "execute_result"
    },
    {
     "data": {
      "text/plain": [
       "['b', 'c', 'd']"
      ]
     },
     "execution_count": 50,
     "metadata": {},
     "output_type": "execute_result"
    },
    {
     "data": {
      "text/plain": [
       "['a', 'b', 'c', 'd', 'e']"
      ]
     },
     "execution_count": 50,
     "metadata": {},
     "output_type": "execute_result"
    }
   ],
   "source": [
    "l = ['a', 'b', 'c', 'd', 'e'] # 列表是个典型的序列\n",
    "l[1:] # 从索引值 1 开始 (包括 1) 切到最末尾\n",
    "l[:3] # 从最开始切到索引值 3 (不包括 3)\n",
    "l[-3:] # 从索引值 -3 (也就是索引值 5-3=2) 开始 (包括 -3)，切到最末尾\n",
    "l[:-1] # 从最开始切到索引值 -1 (也就是索引值 5-1=4) (不包括 -1)\n",
    "l[1:-1] # 从索引值 1 开始 (包括 1) 切到索引值 -1 (不包括 -1)\n",
    "l[:] # 从最开始切到最末尾\n",
    "#使⽤ [:] 切⽚是⼀个⽐较⽅便的复制序列对象的办法"
   ]
  },
  {
   "cell_type": "code",
   "execution_count": 51,
   "metadata": {},
   "outputs": [
    {
     "data": {
      "text/plain": [
       "['a', 'b', 'c', 'd', 'e']"
      ]
     },
     "execution_count": 51,
     "metadata": {},
     "output_type": "execute_result"
    },
    {
     "data": {
      "text/plain": [
       "['a', 'c', 'e']"
      ]
     },
     "execution_count": 51,
     "metadata": {},
     "output_type": "execute_result"
    },
    {
     "data": {
      "text/plain": [
       "['a', 'b', 'c', 'd', 'e']"
      ]
     },
     "execution_count": 51,
     "metadata": {},
     "output_type": "execute_result"
    },
    {
     "data": {
      "text/plain": [
       "['a', 'b', 'c', 'd', 'e']"
      ]
     },
     "execution_count": 51,
     "metadata": {},
     "output_type": "execute_result"
    },
    {
     "data": {
      "text/plain": [
       "['b', 'd']"
      ]
     },
     "execution_count": 51,
     "metadata": {},
     "output_type": "execute_result"
    },
    {
     "data": {
      "text/plain": [
       "[]"
      ]
     },
     "execution_count": 51,
     "metadata": {},
     "output_type": "execute_result"
    },
    {
     "data": {
      "text/plain": [
       "['e', 'd', 'c']"
      ]
     },
     "execution_count": 51,
     "metadata": {},
     "output_type": "execute_result"
    },
    {
     "data": {
      "text/plain": [
       "['e', 'd', 'c', 'b', 'a']"
      ]
     },
     "execution_count": 51,
     "metadata": {},
     "output_type": "execute_result"
    },
    {
     "data": {
      "text/plain": [
       "['a', 'b', 'c', 'd', 'e']"
      ]
     },
     "execution_count": 51,
     "metadata": {},
     "output_type": "execute_result"
    },
    {
     "data": {
      "text/plain": [
       "['e', 'd', 'c', 'b', 'a']"
      ]
     },
     "execution_count": 51,
     "metadata": {},
     "output_type": "execute_result"
    }
   ],
   "source": [
    "l.copy() # 列表对象的 copy ⽅法也可以⽤于复制列表，视觉上可能更直观\n",
    "l[::2] # 切⽚步⻓为 2\n",
    "l[::] # 与 l[:] 效果完全相同\n",
    "l[::1] # 切⽚步⻓为 1，与 l[:] 效果完全相同\n",
    "l[1:-1:2] # 从索引值1 开始 (包括 1)，到索引值 -1 结束 (不包括 -1)，步⻓为 2\n",
    "l[-1:1] # 切出空列表，因为起始的索引值 -1 (也就是索引值 5-1=4) ⼤于等于终⽌的索引值 1\n",
    "l[-1:1:-1] # 步⻓为 -1，就不再切出空列表，注意起始的索引值 -1 是包括的，终⽌的索引值 1 是不包括的\n",
    "l[::-1] # 步⻓为 -1，从最末尾切到最开始\n",
    "# 使⽤ [::-1] 切⽚是⼀个⽐较⽅便的得到反转的序列对象的办法\n",
    "l # 注意 l 列表并没有被反转，因为切⽚是⽣成⼀个新序列\n",
    "l.reverse() # 返回值为 None，发⽣的操作是反转 l 序列本身\n",
    "l # 注意 l 列表被反转"
   ]
  },
  {
   "cell_type": "markdown",
   "metadata": {},
   "source": [
    "### 6.20 简答题\n",
    "请简述调⽤ (call) 函数时传递实参 (argument) 的规则，并对你所列举的每⼀个规则，相应地举例进⾏说\n",
    "明。"
   ]
  },
  {
   "cell_type": "markdown",
   "metadata": {},
   "source": [
    "#### 符合下面几个规则\n",
    "- 在调⽤ (call) 时，`必须 `给`定位形参`(positional parameter) `传递实参` (argument)，`可以` 给`命名形参`\n",
    "(named parameter)` 传递实参` (argument)。\n",
    "\n",
    "\n",
    "- 未接受实参 (argument) 的命名形参 (named parameter)\n",
    "将取其默认值 (default value)。\n",
    "\n",
    "- 实参 (argument) 可以按定位 (positional) ⽅式传递，也可以按命名\n",
    "(named) ⽅式传递，但 定位实参 (positional argument) ⼀定要排在 命名实参 (named argument) 之\n",
    "前。\n",
    "\n",
    "- 签名 (signature) 中的 / 符号之前的形参 (parameters) 只 接受定位实参 (positional\n",
    "argument)， * 符号之后的形参 (parameters) 只 接受命名实参 (named argument)。"
   ]
  },
  {
   "cell_type": "code",
   "execution_count": 52,
   "metadata": {},
   "outputs": [
    {
     "data": {
      "text/plain": [
       "<Signature (iterable, start=0, /)>"
      ]
     },
     "execution_count": 52,
     "metadata": {},
     "output_type": "execute_result"
    }
   ],
   "source": [
    "import inspect\n",
    "inspect.signature(sum) # 注意观察 sum 的签名"
   ]
  },
  {
   "cell_type": "markdown",
   "metadata": {},
   "source": [
    "#### 有命名形参只接受定位实参（/之前）\n",
    "\n",
    "- #### 在调⽤ (call) 时，必须给定位形参(positional parameter) 传递实参 (argument)，可以 给命名形参 (named parameter)传递实参 (argument)。\n",
    "\n",
    "- #### 未接受实参 (argument) 的命名形参 (named parameter) 将取其默认值 (default value)。"
   ]
  },
  {
   "cell_type": "markdown",
   "metadata": {},
   "source": [
    "- sum([2, 1, 3, 4]) # start 参数取默认值,也就是可以不给命名形参传递实参\n",
    "- sum(,20)    定位形参必须传递实参"
   ]
  },
  {
   "cell_type": "code",
   "execution_count": 53,
   "metadata": {
    "scrolled": true
   },
   "outputs": [
    {
     "data": {
      "text/plain": [
       "10"
      ]
     },
     "execution_count": 53,
     "metadata": {},
     "output_type": "execute_result"
    },
    {
     "data": {
      "text/plain": [
       "30"
      ]
     },
     "execution_count": 53,
     "metadata": {},
     "output_type": "execute_result"
    }
   ],
   "source": [
    "sum([2, 1, 3, 4]) # start 参数取默认值,也就是可以不给命名形参传递实参\n",
    "\n",
    "#sum(iterable = [2, 1, 3, 4]) # 定位形参只接受定位实参\n",
    "#sum([2, 1, 3, 4], start=20) # start在/之前    start 是命名形参，但只接受定位实参\n",
    "sum([2, 1, 3, 4], 20)\n",
    "\n",
    "#sum([2, 1, 3, 4]) # start 参数取默认值,也就是可以不给命名形参传递实参\n",
    "#sum(,20)    定位形参必须传递实参"
   ]
  },
  {
   "cell_type": "markdown",
   "metadata": {},
   "source": [
    "- #### 实参 (positional argument) ⼀定要排在 命名实参 (named argument) 之 前"
   ]
  },
  {
   "cell_type": "markdown",
   "metadata": {},
   "source": [
    "- open(mode='w', 'file3.txt') # 定位实参必须在命名实参之前"
   ]
  },
  {
   "cell_type": "code",
   "execution_count": 54,
   "metadata": {},
   "outputs": [
    {
     "data": {
      "text/plain": [
       "<Signature (file, mode='r', buffering=-1, encoding=None, errors=None, newline=None, closefd=True, opener=None)>"
      ]
     },
     "execution_count": 54,
     "metadata": {},
     "output_type": "execute_result"
    },
    {
     "data": {
      "text/plain": [
       "<_io.TextIOWrapper name='file1.txt' mode='w' encoding='cp936'>"
      ]
     },
     "execution_count": 54,
     "metadata": {},
     "output_type": "execute_result"
    },
    {
     "data": {
      "text/plain": [
       "<_io.TextIOWrapper name='file2.txt' mode='w' encoding='cp936'>"
      ]
     },
     "execution_count": 54,
     "metadata": {},
     "output_type": "execute_result"
    }
   ],
   "source": [
    "#open定位和命名形参不固定，没有/*\n",
    "inspect.signature(open) # 注意观察 open 的签名\n",
    "open('file1.txt', 'w') # 定位实参 'w' 传给了命名形参 mode\n",
    "open(mode='w', file='file2.txt') # 两个命名实参颠倒了顺序传给定位形参 file和命名形参 mode\n",
    "\n",
    "\n",
    "#open(mode='w', 'file3.txt') # 定位实参必须在命名实参之前"
   ]
  },
  {
   "cell_type": "markdown",
   "metadata": {},
   "source": [
    "- #### 签名 (signature) 中的 / 符号之前的形参 (parameters) 只 接受定位实参 (positional argument)， * 符号之后的形参 (parameters) 只 接受命名实参 (named argument)。"
   ]
  },
  {
   "cell_type": "markdown",
   "metadata": {},
   "source": [
    "- sorted(iterable=l，len)\n",
    "\n",
    "- sorted(iterable=l) # iterable 形参只接受定位实参，不接受命名实参\n",
    "\n",
    "- sorted(l, len) # 命名形参 key 只接受命名实参"
   ]
  },
  {
   "cell_type": "code",
   "execution_count": 55,
   "metadata": {},
   "outputs": [
    {
     "data": {
      "text/plain": [
       "<Signature (iterable, /, *, key=None, reverse=False)>"
      ]
     },
     "execution_count": 55,
     "metadata": {},
     "output_type": "execute_result"
    },
    {
     "data": {
      "text/plain": [
       "['aaaa', 'b', 'ccc', 'dd']"
      ]
     },
     "execution_count": 55,
     "metadata": {},
     "output_type": "execute_result"
    },
    {
     "data": {
      "text/plain": [
       "['b', 'dd', 'ccc', 'aaaa']"
      ]
     },
     "execution_count": 55,
     "metadata": {},
     "output_type": "execute_result"
    }
   ],
   "source": [
    "inspect.signature(sorted) # 注意观察 sorted 的签名\n",
    "l = ['dd', 'aaaa', 'ccc', 'b']\n",
    "sorted(l) # 按字符串的默认⽐较规则排序\n",
    "#sorted(iterable=l) # iterable 形参只接受定位实参，不接受命名实参\n",
    "sorted(l, key=len) # 把字符串传递给 len 函数，计算出字符串的⻓度，按⻓度排序\n",
    "#sorted(l, len) # 命名形参 key 只接受命名实参\n",
    "\n",
    "#sorted(iterable=l，len)"
   ]
  },
  {
   "cell_type": "markdown",
   "metadata": {},
   "source": [
    "### 6.21 简答题\n",
    "请按优先级 (priority) 由⾼到低的顺序列举你所知道的各种 Python 运算符，并简述每个运算符的名称或\n",
    "作⽤。"
   ]
  },
  {
   "cell_type": "markdown",
   "metadata": {},
   "source": [
    "#### 1.指数运算符(**)\n",
    "[指数运算符 (**)](#指数运算符(**))\n",
    "- 当 x 、 y 为整数 (int) 或浮点数 (float) 时， x**y 计算数学上的 幂 (exponentiation) 。\n",
    "- 当 x 为其他对象 (object) 时， x**y 将调⽤ (call) x.__pow__(y) 。"
   ]
  },
  {
   "cell_type": "markdown",
   "metadata": {},
   "source": [
    "#### 2.正、负、⽐特⾮运算符 ( + , - , ~ )\n",
    "-  当 x 为整数 (int) 或浮点数 (float) 时， +x 计算数学上的 正 (positive) ； -x 计算数学上的 负(negative) ；当 x 为整数 (int) 时， ~x 计算该整数的⼆进制表示 (binary representation)的 ⽐特⾮ (bitwise NOT)\n",
    "- 当 x 为其他对象 (object) 时， +x 、 -x 、 ~x 将分别调⽤ (call)    `x.__pos__() `、`x.__neg__() `、 `x.__invert__() `。"
   ]
  },
  {
   "cell_type": "markdown",
   "metadata": {},
   "source": [
    "#### 3.乘、除、取余运算符 ( * , / , @ , // , % )\n",
    "- 当 x 、 y 为整数 (int) 或浮点数 (float) 时， x*y 、 x/y 分别计算数学上的 乘 (multiplication) \n",
    "和 除 (division) ；即使 x 和 y 都是整数 (int)， x/y 计算出的也是浮点数 (float)； x//y 计算\n",
    "数学上的 整除 (floor division)，即相除的结果向下 (floor) 取整； x%y 计算数学上的 余数\n",
    "(remainder)；使⽤内置函数 divmod(x, y) 可以同时计算整除 (floor division) 和余数\n",
    "(remainder)。例如：\n",
    "\n",
    "\n",
    "- 当 x 为序列 (sequence) 时， x*y 将把 x 重复 (repeat) y 次， y 必须为整数 (int)。例如：\n",
    "\n",
    "- 当 x 为字符串 (str) 或字节串 (bytes) 时， x % y 将把 x 根据 y 进⾏ 格式化 (format)。字符串格式化 (string formatting) 的概念后⾯会专⻔介绍。例如：\n",
    "\n",
    "- 当 x 为矩阵 (matrix) 时， x@y 将计算数学上的 矩阵乘法 (matrix multiplication)。Python 并没\n",
    "有内置矩阵类型，著名的第三⽅软件包 Numpy 提供了数组 (ndarray) 对象，⽀持 @ 运算符。例\n",
    "如：\n",
    "\n",
    "- 当 x 为其他对象 (object) 时， x*y 、 x/y 、 x@y 、 x//y 、 x%y 将分别调⽤ (call)\n",
    "`x.__mul__(y)` 、` x.__truediv__(y)` 、` x.__matmul__(y)` 、` x.__floordiv__(y) `、 `x.__mo\n",
    "d__(y)` 。"
   ]
  },
  {
   "cell_type": "markdown",
   "metadata": {},
   "source": [
    "#### 4.加减运算符 ( + , - )\n",
    "- $$当 x 、 y 为整数 (int) 或浮点数 (float) 时， x + y 和 x - y 将计算数学上的 $$\n",
    "$$加法 (addition) x + y 和 减法 (subtraction) x - y 。例如：$$\n",
    "\n",
    "- 当 x 和 y 为相同类型的序列 (sequence) 时， x + y 将计算序列的 拼接 (concatenation)。\n",
    "\n",
    "- 当 x 和 y 均为集合 (set) 时， x - y 将计算两集合 (set) 的 差集 (difference set)\n",
    "\n",
    "- 当 x 为其他对象 (object) 时， x + y 和 x - y 将分别调⽤ (call) x.__add__(y) 和\n",
    "x.__sub__(y) 。"
   ]
  },
  {
   "cell_type": "markdown",
   "metadata": {},
   "source": [
    "#### 5.⽐特移位运算符 ( << , >> )\n",
    "\n",
    "- 当` x` 、 `y `为整数 (int) 时，` x << y` 和 `x >> y` 将分别计算 左右⽐特移位 (left or right bitwise\n",
    "shift)。对于⼗进制整数来说其效果相当于连乘 `y `个 2 或连除 `y `个 2 (向下取整)。例如：\n",
    "\n",
    "- 当 x 为其他对象 (object) 时，` x << y `和` x >> y` 将分别调⽤ (call) `x.__lshift__(y)` 和\n",
    "`x.__rshift__(y)`"
   ]
  },
  {
   "cell_type": "markdown",
   "metadata": {},
   "source": [
    "#### 6.⽐特与运算符 (&)\n",
    "[⽐特与运算符 (&)](#⽐特与运算符(&))\n",
    "- x 、 y 为整数 (int) 时， x & y 将计算 x 与 y 的 ⽐特与 (bitwise AND)。\n",
    "- 当 x 和 y 均为集合 (set) 时， x & y 将计算 x 与 y 的 交集 (intersection)。例如：\n",
    "- 当 x 为其他对象 (object) 时， x & y 将调⽤ (call) x.__and__(y) 。"
   ]
  },
  {
   "cell_type": "markdown",
   "metadata": {},
   "source": [
    "#### 7.⽐特异或运算符 ( ^ )\n",
    "- 当 x 、 y 为整数 (int) 时，`x ^ y `将计算 x 与 y 的` ⽐特异或` (bitwise XOR)。\n",
    "\n",
    "- 当 x 和 y 均为集合 (set) 时，` x ^ y `将计算 x 与 y 的 `对称差` (symmetric difference)\n",
    "\n",
    "- 当` x` 为其他对象 (object) 时，` x ^ y `将调⽤` (call) x.__xor__(y)`。"
   ]
  },
  {
   "cell_type": "markdown",
   "metadata": {},
   "source": [
    "#### 8.⽐特或运算符 ( | )\n",
    "- 当 x 、 y 为整数 (int) 时， `x | y` 将计算 `x` 与` y` 的 ⽐特或 (bitwise OR)。\n",
    "- 当 x 和 y 均为集合 (set) 时，` x & y `将计算 `x` 与` y `的 并集 (union)\n",
    "\n",
    "- 当 x 为其他对象 (object) 时，` x | y` 将调⽤ `(call) x.__or__(y)` 。\n"
   ]
  },
  {
   "cell_type": "markdown",
   "metadata": {},
   "source": [
    "#### 9.逻辑⽐较运算符 ( in , not in , is , is not , < , <= , > , >= , != , == )"
   ]
  },
  {
   "cell_type": "markdown",
   "metadata": {},
   "source": [
    "[逻辑⽐较运算符](#逻辑⽐较运算符)"
   ]
  },
  {
   "cell_type": "markdown",
   "metadata": {},
   "source": [
    "#### 10.逻辑⾮运算符 ( not )"
   ]
  },
  {
   "cell_type": "markdown",
   "metadata": {},
   "source": [
    "#### 11.逻辑与运算符 ( and )"
   ]
  },
  {
   "cell_type": "markdown",
   "metadata": {},
   "source": [
    "#### 12.逻辑或运算符 ( or )"
   ]
  },
  {
   "cell_type": "markdown",
   "metadata": {},
   "source": [
    "- 11.12 有短路规则"
   ]
  },
  {
   "cell_type": "markdown",
   "metadata": {},
   "source": [
    "### 6.22 简答题\n",
    "请写代码举例说明整数 (int) 或浮点数 (float) 所⽀持的各种运算符 (逻辑运算除外) 及其作⽤。"
   ]
  },
  {
   "cell_type": "markdown",
   "metadata": {},
   "source": [
    "#### 1.指数运算符 ( ** )\n",
    "- 当 x 、 y 为整数 (int) 或浮点数 (float) 时， x**y 计算数学上的 幂 (exponentiation) 。"
   ]
  },
  {
   "cell_type": "code",
   "execution_count": 56,
   "metadata": {},
   "outputs": [
    {
     "data": {
      "text/plain": [
       "0.3"
      ]
     },
     "execution_count": 56,
     "metadata": {},
     "output_type": "execute_result"
    }
   ],
   "source": [
    "0.09**0.5"
   ]
  },
  {
   "cell_type": "markdown",
   "metadata": {},
   "source": [
    "#### 2.正、负、⽐特⾮运算符 ( + , - , ~ )\n",
    "-  当 x 为整数 (int) 或浮点数 (float) 时， +x 计算数学上的 正 (positive) ； -x 计算数学上的 负(negative) ；当 x 为整数 (int) 时， ~x 计算该整数的⼆进制表示 (binary representation)的 ⽐特⾮ (bitwise NOT)"
   ]
  },
  {
   "cell_type": "code",
   "execution_count": 57,
   "metadata": {},
   "outputs": [
    {
     "data": {
      "text/plain": [
       "-4"
      ]
     },
     "execution_count": 57,
     "metadata": {},
     "output_type": "execute_result"
    },
    {
     "data": {
      "text/plain": [
       "'-0b10'"
      ]
     },
     "execution_count": 57,
     "metadata": {},
     "output_type": "execute_result"
    },
    {
     "data": {
      "text/plain": [
       "'-0o2'"
      ]
     },
     "execution_count": 57,
     "metadata": {},
     "output_type": "execute_result"
    },
    {
     "data": {
      "text/plain": [
       "0.00390625"
      ]
     },
     "execution_count": 57,
     "metadata": {},
     "output_type": "execute_result"
    }
   ],
   "source": [
    "x  =  -2\n",
    "-x**2\n",
    "bin(x)\n",
    "oct(x)\n",
    "2**-8"
   ]
  },
  {
   "cell_type": "markdown",
   "metadata": {},
   "source": [
    "#### 3.乘、除、取余运算符 ( * , / , @ , // , % )\n",
    "- 当 x 、 y 为整数 (int) 或浮点数 (float) 时， x*y 、 x/y 分别计算数学上的 乘 (multiplication) \n",
    "和 除 (division) ；即使 x 和 y 都是整数 (int)， x/y 计算出的也是浮点数 (float)； x//y 计算\n",
    "数学上的 整除 (floor division)，即相除的结果向下 (floor) 取整； x%y 计算数学上的 余数\n",
    "(remainder)；使⽤内置函数 divmod(x, y) 可以同时计算整除 (floor division) 和余数\n",
    "(remainder)。例如："
   ]
  },
  {
   "cell_type": "code",
   "execution_count": 58,
   "metadata": {},
   "outputs": [
    {
     "data": {
      "text/plain": [
       "25.12"
      ]
     },
     "execution_count": 58,
     "metadata": {},
     "output_type": "execute_result"
    },
    {
     "data": {
      "text/plain": [
       "3.3333333333333335"
      ]
     },
     "execution_count": 58,
     "metadata": {},
     "output_type": "execute_result"
    },
    {
     "data": {
      "text/plain": [
       "-3"
      ]
     },
     "execution_count": 58,
     "metadata": {},
     "output_type": "execute_result"
    },
    {
     "data": {
      "text/plain": [
       "1"
      ]
     },
     "execution_count": 58,
     "metadata": {},
     "output_type": "execute_result"
    },
    {
     "data": {
      "text/plain": [
       "(2, 3)"
      ]
     },
     "execution_count": 58,
     "metadata": {},
     "output_type": "execute_result"
    }
   ],
   "source": [
    "3.14*8\n",
    "10/3 # 注意最后⼀位并不精确，round-off error\n",
    "-5//2 # 向下取整\n",
    "-11%4\n",
    "divmod(11, 4) # ⽐分别计算 11//4 和 11%4 更⾼效些"
   ]
  },
  {
   "cell_type": "markdown",
   "metadata": {},
   "source": [
    "#### 4.加减运算符 ( + , - )\n",
    "- $$当 x 、 y 为整数 (int) 或浮点数 (float) 时， x + y 和 x - y 将计算数学上的 $$\n",
    "$$加法 (addition) x + y 和 减法 (subtraction) x - y 。$$\n",
    "\n"
   ]
  },
  {
   "cell_type": "code",
   "execution_count": 59,
   "metadata": {},
   "outputs": [
    {
     "data": {
      "text/plain": [
       "10"
      ]
     },
     "execution_count": 59,
     "metadata": {},
     "output_type": "execute_result"
    },
    {
     "data": {
      "text/plain": [
       "7"
      ]
     },
     "execution_count": 59,
     "metadata": {},
     "output_type": "execute_result"
    }
   ],
   "source": [
    "2+8\n",
    "2+8-3"
   ]
  },
  {
   "cell_type": "markdown",
   "metadata": {},
   "source": [
    "#### 5.⽐特移位运算符 ( << , >> )\n",
    "- 当 x 、 y 为`整数` (int) 时， x << y 和 x >> y 将分别计算 左右⽐特移位 (left or right bitwise\n",
    "shift)。对于⼗进制整数来说其效果相当于连乘 y 个 2 或连除 y 个 2 (向下取整)。例如"
   ]
  },
  {
   "cell_type": "code",
   "execution_count": 60,
   "metadata": {},
   "outputs": [
    {
     "data": {
      "text/plain": [
       "12"
      ]
     },
     "execution_count": 60,
     "metadata": {},
     "output_type": "execute_result"
    },
    {
     "data": {
      "text/plain": [
       "'0b11'"
      ]
     },
     "execution_count": 60,
     "metadata": {},
     "output_type": "execute_result"
    },
    {
     "data": {
      "text/plain": [
       "'00000011'"
      ]
     },
     "execution_count": 60,
     "metadata": {},
     "output_type": "execute_result"
    },
    {
     "data": {
      "text/plain": [
       "'00001100'"
      ]
     },
     "execution_count": 60,
     "metadata": {},
     "output_type": "execute_result"
    }
   ],
   "source": [
    "x = 3\n",
    "x << 2\n",
    "bin(x)[:]\n",
    "format(x, '08b')\n",
    "format(x << 2, '08b')"
   ]
  },
  {
   "cell_type": "code",
   "execution_count": 61,
   "metadata": {},
   "outputs": [
    {
     "data": {
      "text/plain": [
       "43"
      ]
     },
     "execution_count": 61,
     "metadata": {},
     "output_type": "execute_result"
    },
    {
     "data": {
      "text/plain": [
       "10"
      ]
     },
     "execution_count": 61,
     "metadata": {},
     "output_type": "execute_result"
    },
    {
     "data": {
      "text/plain": [
       "'00101011'"
      ]
     },
     "execution_count": 61,
     "metadata": {},
     "output_type": "execute_result"
    },
    {
     "data": {
      "text/plain": [
       "'2b'"
      ]
     },
     "execution_count": 61,
     "metadata": {},
     "output_type": "execute_result"
    },
    {
     "data": {
      "text/plain": [
       "'053'"
      ]
     },
     "execution_count": 61,
     "metadata": {},
     "output_type": "execute_result"
    },
    {
     "data": {
      "text/plain": [
       "'00001010'"
      ]
     },
     "execution_count": 61,
     "metadata": {},
     "output_type": "execute_result"
    }
   ],
   "source": [
    "x = 0b101011\n",
    "x\n",
    "x >> 2\n",
    "format(x, '08b')\n",
    "format(x, '02x')\n",
    "format(x, '03o')\n",
    "format(x >> 2, '08b')"
   ]
  },
  {
   "cell_type": "markdown",
   "metadata": {},
   "source": [
    "#### 6.⽐特与运算符 ( & )\n",
    "- 当 x 、 y 为`整数` (int) 时， x & y 将计算 x 与 y 的 ⽐特与 (bitwise AND)。"
   ]
  },
  {
   "cell_type": "code",
   "execution_count": 62,
   "metadata": {},
   "outputs": [
    {
     "data": {
      "text/plain": [
       "'00001001'"
      ]
     },
     "execution_count": 62,
     "metadata": {},
     "output_type": "execute_result"
    },
    {
     "data": {
      "text/plain": [
       "'00001100'"
      ]
     },
     "execution_count": 62,
     "metadata": {},
     "output_type": "execute_result"
    },
    {
     "data": {
      "text/plain": [
       "'00001000'"
      ]
     },
     "execution_count": 62,
     "metadata": {},
     "output_type": "execute_result"
    },
    {
     "data": {
      "text/plain": [
       "'00001000'"
      ]
     },
     "execution_count": 62,
     "metadata": {},
     "output_type": "execute_result"
    }
   ],
   "source": [
    "x = 0b1001\n",
    "y = 0b1100\n",
    "format(x, '08b')\n",
    "format(y, '08b')\n",
    "format(x & y, '08b')\n",
    "format(y & x, '08b')\n",
    "#只有共同部分"
   ]
  },
  {
   "cell_type": "markdown",
   "metadata": {},
   "source": [
    "#### 7.⽐特异或运算符 ( ^ )\n",
    "- 当 x 、 y 为`整数` (int) 时， x ^ y 将计算 x 与 y 的 ⽐特异或 (bitwise XOR)。"
   ]
  },
  {
   "cell_type": "code",
   "execution_count": 63,
   "metadata": {},
   "outputs": [
    {
     "data": {
      "text/plain": [
       "'00001001'"
      ]
     },
     "execution_count": 63,
     "metadata": {},
     "output_type": "execute_result"
    },
    {
     "data": {
      "text/plain": [
       "'00001100'"
      ]
     },
     "execution_count": 63,
     "metadata": {},
     "output_type": "execute_result"
    },
    {
     "data": {
      "text/plain": [
       "'00000101'"
      ]
     },
     "execution_count": 63,
     "metadata": {},
     "output_type": "execute_result"
    },
    {
     "data": {
      "text/plain": [
       "'00000101'"
      ]
     },
     "execution_count": 63,
     "metadata": {},
     "output_type": "execute_result"
    },
    {
     "data": {
      "text/plain": [
       "(9, 12, 5)"
      ]
     },
     "execution_count": 63,
     "metadata": {},
     "output_type": "execute_result"
    }
   ],
   "source": [
    "x = 0b1001\n",
    "y = 0b1100\n",
    "format(x, '08b')\n",
    "format(y, '08b')\n",
    "format(x ^ y, '08b')\n",
    "format(y ^ x, '08b')\n",
    "x , y , x ^ y"
   ]
  },
  {
   "cell_type": "markdown",
   "metadata": {},
   "source": [
    "#### 8.⽐特或运算符 ( | )\n",
    "- 当 x 、 y 为`整数` (int) 时， x | y 将计算 x 与 y 的 ⽐特或 (bitwise OR)。"
   ]
  },
  {
   "cell_type": "code",
   "execution_count": 64,
   "metadata": {},
   "outputs": [
    {
     "data": {
      "text/plain": [
       "'00001001'"
      ]
     },
     "execution_count": 64,
     "metadata": {},
     "output_type": "execute_result"
    },
    {
     "data": {
      "text/plain": [
       "'00001100'"
      ]
     },
     "execution_count": 64,
     "metadata": {},
     "output_type": "execute_result"
    },
    {
     "data": {
      "text/plain": [
       "'00001101'"
      ]
     },
     "execution_count": 64,
     "metadata": {},
     "output_type": "execute_result"
    },
    {
     "data": {
      "text/plain": [
       "'00001101'"
      ]
     },
     "execution_count": 64,
     "metadata": {},
     "output_type": "execute_result"
    },
    {
     "data": {
      "text/plain": [
       "'00001101'"
      ]
     },
     "execution_count": 64,
     "metadata": {},
     "output_type": "execute_result"
    }
   ],
   "source": [
    "x = 0b1001\n",
    "y = 0b1100\n",
    "format(x, '08b')\n",
    "format(y, '08b')\n",
    "format(x | y, '08b')\n",
    "format(y | x, '08b')\n",
    "format(y&x^y | x, '08b')"
   ]
  },
  {
   "cell_type": "markdown",
   "metadata": {},
   "source": [
    "#### 除逻辑运算符之外：\n",
    "- 整数 (int) ⽀持的各种运算符是1-8\n",
    "- 浮点数 (float)支持的运算符是1-4 "
   ]
  },
  {
   "cell_type": "markdown",
   "metadata": {},
   "source": [
    "### 6.23 简答题"
   ]
  },
  {
   "cell_type": "markdown",
   "metadata": {},
   "source": [
    "请写代码举例说明字符串 (str) 或字节流 (bytes) 所⽀持的各种运算符 (逻辑运算除外) 及其作⽤。"
   ]
  },
  {
   "cell_type": "markdown",
   "metadata": {},
   "source": [
    "#### 1 .乘、除运算符 ( * , % )"
   ]
  },
  {
   "cell_type": "markdown",
   "metadata": {},
   "source": [
    "字符串和字节串都是序列，所以x * y 时只要y是整数，就可以将x重复y次（负数不报错）"
   ]
  },
  {
   "cell_type": "code",
   "execution_count": 65,
   "metadata": {},
   "outputs": [
    {
     "data": {
      "text/plain": [
       "'abcabcabcabc'"
      ]
     },
     "execution_count": 65,
     "metadata": {},
     "output_type": "execute_result"
    },
    {
     "data": {
      "text/plain": [
       "''"
      ]
     },
     "execution_count": 65,
     "metadata": {},
     "output_type": "execute_result"
    },
    {
     "data": {
      "text/plain": [
       "b''"
      ]
     },
     "execution_count": 65,
     "metadata": {},
     "output_type": "execute_result"
    }
   ],
   "source": [
    "2 *'abc' * 2\n",
    "'abc' * -1\n",
    "b'abc' * -1"
   ]
  },
  {
   "cell_type": "markdown",
   "metadata": {},
   "source": [
    "当 x 为字符串 (str) 或字节串 (bytes) 时， x % y 将把 x 根据 y 进⾏ 格式化 (format)。字符串\n"
   ]
  },
  {
   "cell_type": "code",
   "execution_count": 66,
   "metadata": {},
   "outputs": [
    {
     "data": {
      "text/plain": [
       "\"Jackson and b'Jones' are neighbors\""
      ]
     },
     "execution_count": 66,
     "metadata": {},
     "output_type": "execute_result"
    }
   ],
   "source": [
    "'%s and %s are neighbors' % ('Jack'+'son', b'Jones') # 注意要加括号，不会优先计算元组"
   ]
  },
  {
   "cell_type": "markdown",
   "metadata": {},
   "source": [
    "%和.format有关系,用法相似"
   ]
  },
  {
   "cell_type": "code",
   "execution_count": 67,
   "metadata": {},
   "outputs": [
    {
     "data": {
      "text/plain": [
       "'Jones and Jack are neighbors'"
      ]
     },
     "execution_count": 67,
     "metadata": {},
     "output_type": "execute_result"
    }
   ],
   "source": [
    "'{1} and {0} are neighbors' .format('Jack', 'Jones')"
   ]
  },
  {
   "cell_type": "markdown",
   "metadata": {},
   "source": [
    "#### 2.加运算符 ( +  )"
   ]
  },
  {
   "cell_type": "markdown",
   "metadata": {},
   "source": [
    "当 x 和 y 为相同类型的序列 (sequence) 时， x + y 将计算序列的 拼接 (concatenation)。例\n"
   ]
  },
  {
   "cell_type": "code",
   "execution_count": 68,
   "metadata": {},
   "outputs": [
    {
     "data": {
      "text/plain": [
       "' abc  abc '"
      ]
     },
     "execution_count": 68,
     "metadata": {},
     "output_type": "execute_result"
    },
    {
     "data": {
      "text/plain": [
       "b' efg  efg '"
      ]
     },
     "execution_count": 68,
     "metadata": {},
     "output_type": "execute_result"
    },
    {
     "data": {
      "text/plain": [
       "\" abc  abc b' efg '\""
      ]
     },
     "execution_count": 68,
     "metadata": {},
     "output_type": "execute_result"
    }
   ],
   "source": [
    "a = ' abc '\n",
    "b = b' efg '\n",
    "a+a\n",
    "b+b\n",
    "2*a+str(b)"
   ]
  },
  {
   "cell_type": "markdown",
   "metadata": {},
   "source": [
    "当且仅当加减运算符两边是同类型序列式才可以拼接"
   ]
  },
  {
   "cell_type": "markdown",
   "metadata": {},
   "source": [
    "### 6.24 简答题\n",
    "请写代码举例说明列表 (list) 或元组 (tuple) 所⽀持的各种运算符 (逻辑运算除外) 及其作⽤。"
   ]
  },
  {
   "cell_type": "markdown",
   "metadata": {},
   "source": [
    "#### 乘运算符 ( *)"
   ]
  },
  {
   "cell_type": "markdown",
   "metadata": {},
   "source": [
    "列表和元组都是序列，所以接受x * y 格式的运算符，y是整数，x是序列，将x重复y 次"
   ]
  },
  {
   "cell_type": "code",
   "execution_count": 69,
   "metadata": {},
   "outputs": [
    {
     "data": {
      "text/plain": [
       "('a', 'a')"
      ]
     },
     "execution_count": 69,
     "metadata": {},
     "output_type": "execute_result"
    },
    {
     "data": {
      "text/plain": [
       "[b'b', b'b', b'b']"
      ]
     },
     "execution_count": 69,
     "metadata": {},
     "output_type": "execute_result"
    }
   ],
   "source": [
    "a = ('a',)\n",
    "b = [b'b']\n",
    "a*2\n",
    "b*3"
   ]
  },
  {
   "cell_type": "markdown",
   "metadata": {},
   "source": [
    "#### 加运算符 ( + )"
   ]
  },
  {
   "cell_type": "markdown",
   "metadata": {},
   "source": [
    "- 当 x 和 y 为相同类型的序列 (sequence) 时， x + y 将计算序列的 拼接 (concatenation)。例\n",
    "如"
   ]
  },
  {
   "cell_type": "code",
   "execution_count": 70,
   "metadata": {},
   "outputs": [
    {
     "data": {
      "text/plain": [
       "'abcdef'"
      ]
     },
     "execution_count": 70,
     "metadata": {},
     "output_type": "execute_result"
    },
    {
     "data": {
      "text/plain": [
       "b'az'"
      ]
     },
     "execution_count": 70,
     "metadata": {},
     "output_type": "execute_result"
    },
    {
     "data": {
      "text/plain": [
       "('a', 1, 2)"
      ]
     },
     "execution_count": 70,
     "metadata": {},
     "output_type": "execute_result"
    },
    {
     "data": {
      "text/plain": [
       "['x', 'y']"
      ]
     },
     "execution_count": 70,
     "metadata": {},
     "output_type": "execute_result"
    }
   ],
   "source": [
    "'abc' + 'def'\n",
    "b'a' + b'z'\n",
    "('a', ) + (1, 2)\n",
    "['x'] + ['y']"
   ]
  },
  {
   "cell_type": "code",
   "execution_count": 71,
   "metadata": {},
   "outputs": [
    {
     "name": "stdout",
     "output_type": "stream",
     "text": [
      "None\n"
     ]
    },
    {
     "data": {
      "text/plain": [
       "[b'b', 'a', 'a']"
      ]
     },
     "execution_count": 71,
     "metadata": {},
     "output_type": "execute_result"
    }
   ],
   "source": [
    "print(b.append('a'))\n",
    "b.append('a')\n",
    "b"
   ]
  },
  {
   "cell_type": "markdown",
   "metadata": {},
   "source": [
    "### 6.25 简答题\n",
    "请写代码举例说明集合 (set) 所⽀持的各种运算符 (逻辑运算除外) 及其作⽤。"
   ]
  },
  {
   "cell_type": "markdown",
   "metadata": {},
   "source": [
    "#### 减运算符 (  - )"
   ]
  },
  {
   "cell_type": "markdown",
   "metadata": {},
   "source": [
    "- 当 x 和 y 均为集合 (set) 时， x - y 将计算两集合 (set) 的 差集 (difference set)。例如："
   ]
  },
  {
   "cell_type": "code",
   "execution_count": 72,
   "metadata": {},
   "outputs": [
    {
     "data": {
      "text/plain": [
       "({('a',), ('b',), 'c'}, {('b',), 'a'})"
      ]
     },
     "execution_count": 72,
     "metadata": {},
     "output_type": "execute_result"
    },
    {
     "data": {
      "text/plain": [
       "{('a',), 'c'}"
      ]
     },
     "execution_count": 72,
     "metadata": {},
     "output_type": "execute_result"
    },
    {
     "data": {
      "text/plain": [
       "{('a',), 'a', 'c'}"
      ]
     },
     "execution_count": 72,
     "metadata": {},
     "output_type": "execute_result"
    }
   ],
   "source": [
    "a = {('a',),(\"b\",),'c'}\n",
    "b = {(\"b\",),\"a\"}\n",
    "a,b\n",
    "#a+b\n",
    "#a\n",
    "a-b\n",
    "a^b#对称差"
   ]
  },
  {
   "cell_type": "markdown",
   "metadata": {},
   "source": [
    "#### ⽐特与运算符 ( & )"
   ]
  },
  {
   "cell_type": "markdown",
   "metadata": {},
   "source": [
    "-  x 和 y 均为集合 (set) 时， x & y 将计算 x 与 y 的 交集 (intersection)。例如："
   ]
  },
  {
   "cell_type": "code",
   "execution_count": 73,
   "metadata": {},
   "outputs": [
    {
     "data": {
      "text/plain": [
       "{('b',)}"
      ]
     },
     "execution_count": 73,
     "metadata": {},
     "output_type": "execute_result"
    }
   ],
   "source": [
    "a&b"
   ]
  },
  {
   "cell_type": "markdown",
   "metadata": {},
   "source": [
    "#### ⽐特或运算符 ( | )"
   ]
  },
  {
   "cell_type": "markdown",
   "metadata": {},
   "source": [
    "- 当 x 和 y 均为集合 (set) 时， x & y 将计算 x 与 y 的 并集 (union)。例如："
   ]
  },
  {
   "cell_type": "code",
   "execution_count": 74,
   "metadata": {
    "scrolled": true
   },
   "outputs": [
    {
     "data": {
      "text/plain": [
       "{('a',), ('b',), 'a', 'c'}"
      ]
     },
     "execution_count": 74,
     "metadata": {},
     "output_type": "execute_result"
    }
   ],
   "source": [
    "a|b"
   ]
  },
  {
   "cell_type": "markdown",
   "metadata": {},
   "source": [
    "#### ⽐特异或运算符 ( ^ )"
   ]
  },
  {
   "cell_type": "markdown",
   "metadata": {},
   "source": [
    "- 当 x 和 y 均为集合 (set) 时， x ^ y 将计算 x 与 y 的 对称差 (symmetric difference)\n",
    "- 本质是取并集后删除交集部分"
   ]
  },
  {
   "cell_type": "code",
   "execution_count": 75,
   "metadata": {},
   "outputs": [
    {
     "data": {
      "text/plain": [
       "True"
      ]
     },
     "execution_count": 75,
     "metadata": {},
     "output_type": "execute_result"
    },
    {
     "data": {
      "text/plain": [
       "False"
      ]
     },
     "execution_count": 75,
     "metadata": {},
     "output_type": "execute_result"
    }
   ],
   "source": [
    "a^b ==  (a|b)-(a&b) \n",
    "a^b is  (a|b)-(a&b)"
   ]
  },
  {
   "cell_type": "markdown",
   "metadata": {},
   "source": [
    "### 6.26 简答题\n",
    "有哪些类型 (type) 的对象⽀持通过运算符 < ⽐较出他们的序关系？进⾏⽐较的规则分别是什么？请分\n",
    "别举例。"
   ]
  },
  {
   "cell_type": "markdown",
   "metadata": {},
   "source": [
    "- 当 x 与 y 是整数 (int) 或浮点数 (float) 时， x < y 计算数学上的 ⼩于 (less than)、⼩于等于 (less than or equal to),返回布尔值True 或者False"
   ]
  },
  {
   "cell_type": "code",
   "execution_count": 76,
   "metadata": {},
   "outputs": [
    {
     "data": {
      "text/plain": [
       "True"
      ]
     },
     "execution_count": 76,
     "metadata": {},
     "output_type": "execute_result"
    },
    {
     "data": {
      "text/plain": [
       "False"
      ]
     },
     "execution_count": 76,
     "metadata": {},
     "output_type": "execute_result"
    }
   ],
   "source": [
    "1<2\n",
    "1 < 0"
   ]
  },
  {
   "cell_type": "markdown",
   "metadata": {},
   "source": [
    "- 当 x 与 y 是 单个字符 构成的字符串 (str) 时，<⽐较的是字符的 Unicode 编码。例如："
   ]
  },
  {
   "cell_type": "code",
   "execution_count": 77,
   "metadata": {},
   "outputs": [
    {
     "data": {
      "text/plain": [
       "True"
      ]
     },
     "execution_count": 77,
     "metadata": {},
     "output_type": "execute_result"
    },
    {
     "data": {
      "text/plain": [
       "'7f16'"
      ]
     },
     "execution_count": 77,
     "metadata": {},
     "output_type": "execute_result"
    },
    {
     "data": {
      "text/plain": [
       "'7801'"
      ]
     },
     "execution_count": 77,
     "metadata": {},
     "output_type": "execute_result"
    },
    {
     "data": {
      "text/plain": [
       "False"
      ]
     },
     "execution_count": 77,
     "metadata": {},
     "output_type": "execute_result"
    },
    {
     "data": {
      "text/plain": [
       "'a'"
      ]
     },
     "execution_count": 77,
     "metadata": {},
     "output_type": "execute_result"
    },
    {
     "data": {
      "text/plain": [
       "12040"
      ]
     },
     "execution_count": 77,
     "metadata": {},
     "output_type": "execute_result"
    },
    {
     "data": {
      "text/plain": [
       "28909"
      ]
     },
     "execution_count": 77,
     "metadata": {},
     "output_type": "execute_result"
    },
    {
     "data": {
      "text/plain": [
       "True"
      ]
     },
     "execution_count": 77,
     "metadata": {},
     "output_type": "execute_result"
    }
   ],
   "source": [
    "'a' < 'z'\n",
    "format(ord('编'),\"x\")\n",
    "format(ord('码'),\"x\")\n",
    "'编'< '码' # 注意不是按拼⾳排序\n",
    "\n",
    "chr(97)\n",
    "ord('⼈')\n",
    "ord('热')\n",
    "'⼈' < '三' # 注意不是按笔画数排序"
   ]
  },
  {
   "cell_type": "markdown",
   "metadata": {},
   "source": [
    "- 当 x 与 y 是字符串 (str)、字节串 (bytes)、元组 (tuple)、列表 (list) 等序列 (sequence) 时，<⽐较\n",
    "按 字典序 (lexicographical order) 规则进⾏，即先只⽐较第⼀个元素，若相等才再⽐较第⼆个元\n",
    "素，若再相等才⽐较第三个元素……依此类推。例如："
   ]
  },
  {
   "cell_type": "code",
   "execution_count": 78,
   "metadata": {},
   "outputs": [
    {
     "data": {
      "text/plain": [
       "True"
      ]
     },
     "execution_count": 78,
     "metadata": {},
     "output_type": "execute_result"
    },
    {
     "data": {
      "text/plain": [
       "True"
      ]
     },
     "execution_count": 78,
     "metadata": {},
     "output_type": "execute_result"
    },
    {
     "data": {
      "text/plain": [
       "False"
      ]
     },
     "execution_count": 78,
     "metadata": {},
     "output_type": "execute_result"
    },
    {
     "data": {
      "text/plain": [
       "False"
      ]
     },
     "execution_count": 78,
     "metadata": {},
     "output_type": "execute_result"
    },
    {
     "data": {
      "text/plain": [
       "True"
      ]
     },
     "execution_count": 78,
     "metadata": {},
     "output_type": "execute_result"
    },
    {
     "data": {
      "text/plain": [
       "False"
      ]
     },
     "execution_count": 78,
     "metadata": {},
     "output_type": "execute_result"
    },
    {
     "data": {
      "text/plain": [
       "True"
      ]
     },
     "execution_count": 78,
     "metadata": {},
     "output_type": "execute_result"
    }
   ],
   "source": [
    "'azzz' < 'baaa'\n",
    "'hat' < 'hot'\n",
    "'~abc' < 'Z' # 元素数量可以不同\n",
    "'aaaa' < 'aaa'\n",
    "b'azzz' < b'baaa'\n",
    "#b'azzz' < 'baaa' # 字节流与字符串不可⽐较\n",
    "('a', 5) < ('a', 3)\n",
    "#('a', 5) < ('a', 'b') # 注意⽐较到第⼆个元素时报错\n",
    "[1, 2, 'a'] < [1, 2, 'b']\n",
    "#{'a': 1} < {'a': 1, 'b': 2} # 字典不是序列，不能⽐较⼤⼩"
   ]
  },
  {
   "cell_type": "code",
   "execution_count": 79,
   "metadata": {},
   "outputs": [
    {
     "data": {
      "text/plain": [
       "True"
      ]
     },
     "execution_count": 79,
     "metadata": {},
     "output_type": "execute_result"
    },
    {
     "data": {
      "text/plain": [
       "True"
      ]
     },
     "execution_count": 79,
     "metadata": {},
     "output_type": "execute_result"
    }
   ],
   "source": [
    "\"人们\"<\"人类\"\n",
    "ord('人')+ord('们')<ord('人')+ord('类')"
   ]
  },
  {
   "cell_type": "markdown",
   "metadata": {},
   "source": [
    "- 当 x 与 y 是集合 (set) 时， x < y 定义为 x 是 y 的 真⼦集 (proper subset)。例如"
   ]
  },
  {
   "cell_type": "code",
   "execution_count": 80,
   "metadata": {
    "scrolled": true
   },
   "outputs": [
    {
     "data": {
      "text/plain": [
       "False"
      ]
     },
     "execution_count": 80,
     "metadata": {},
     "output_type": "execute_result"
    },
    {
     "data": {
      "text/plain": [
       "True"
      ]
     },
     "execution_count": 80,
     "metadata": {},
     "output_type": "execute_result"
    }
   ],
   "source": [
    "{1, 2} < {3, 4} # 集合不是序列，不按字典序\n",
    "{1, 2} < {1, 2, 3}"
   ]
  },
  {
   "cell_type": "markdown",
   "metadata": {},
   "source": [
    "### 6.27 简答题\n",
    "任意对象都可以进⾏逻辑判断 (truth value testing)，那么被判断为逻辑否 (False) 的对象有哪些？请举\n",
    "例。"
   ]
  },
  {
   "cell_type": "markdown",
   "metadata": {},
   "source": [
    "#### 判断为逻辑否 (False) 的对象 (object) 包括：\n",
    "- 1. None 和 False\n",
    "- 2. 任意数值 (numeric) 类型的 零值，如 0 、 0.0 、 0j\n",
    "- 3. ⻓度为零 的容器 (container)，如空字符串 (empty str) '' 、空元组 (empty tuple) () 、空列\n",
    "表 [] 、空字典 {} 、空集合 set() ，即 len(x) == 0\n",
    "- 4. 满⾜ `x.__bool__()` == False 的任何对象\n",
    "\n",
    "\n",
    "不满⾜以上条件的任何对象 (object) 都将被判断为逻辑真 (True)。例如："
   ]
  },
  {
   "cell_type": "code",
   "execution_count": 81,
   "metadata": {},
   "outputs": [
    {
     "name": "stdout",
     "output_type": "stream",
     "text": [
      "hello\n"
     ]
    },
    {
     "data": {
      "text/plain": [
       "True"
      ]
     },
     "execution_count": 81,
     "metadata": {},
     "output_type": "execute_result"
    },
    {
     "data": {
      "text/plain": [
       "True"
      ]
     },
     "execution_count": 81,
     "metadata": {},
     "output_type": "execute_result"
    },
    {
     "data": {
      "text/plain": [
       "True"
      ]
     },
     "execution_count": 81,
     "metadata": {},
     "output_type": "execute_result"
    },
    {
     "data": {
      "text/plain": [
       "False"
      ]
     },
     "execution_count": 81,
     "metadata": {},
     "output_type": "execute_result"
    },
    {
     "data": {
      "text/plain": [
       "True"
      ]
     },
     "execution_count": 81,
     "metadata": {},
     "output_type": "execute_result"
    },
    {
     "data": {
      "text/plain": [
       "True"
      ]
     },
     "execution_count": 81,
     "metadata": {},
     "output_type": "execute_result"
    }
   ],
   "source": [
    "not print('hello') # None\n",
    "not 9//10 # 0\n",
    "not 3.0 - 2.0 - 1.0 # 0.0\n",
    "not 3.3 - 2.2 - 1.1 # 注意 round-off error 的可能性\n",
    "c = 3-2j\n",
    "not (c + c.conjugate()).imag # 0j\n",
    "not 'hello'[5:] # ''"
   ]
  },
  {
   "cell_type": "code",
   "execution_count": 82,
   "metadata": {},
   "outputs": [
    {
     "data": {
      "text/plain": [
       "True"
      ]
     },
     "execution_count": 82,
     "metadata": {},
     "output_type": "execute_result"
    },
    {
     "data": {
      "text/plain": [
       "True"
      ]
     },
     "execution_count": 82,
     "metadata": {},
     "output_type": "execute_result"
    },
    {
     "data": {
      "text/plain": [
       "1"
      ]
     },
     "execution_count": 82,
     "metadata": {},
     "output_type": "execute_result"
    },
    {
     "data": {
      "text/plain": [
       "True"
      ]
     },
     "execution_count": 82,
     "metadata": {},
     "output_type": "execute_result"
    },
    {
     "data": {
      "text/plain": [
       "True"
      ]
     },
     "execution_count": 82,
     "metadata": {},
     "output_type": "execute_result"
    },
    {
     "data": {
      "text/plain": [
       "False"
      ]
     },
     "execution_count": 82,
     "metadata": {},
     "output_type": "execute_result"
    }
   ],
   "source": [
    "not ('a', 'b', 'c')[-1:0] # ()\n",
    "not [c.upper() for c in 'abc' if ord(c) > 99] # []\n",
    "d = {'a': 1}\n",
    "d.pop('a')\n",
    "not d # {}\n",
    "not {4, 2} - {1, 2, 3, 4} # set()\n",
    "not '0'"
   ]
  },
  {
   "cell_type": "markdown",
   "metadata": {},
   "source": [
    "### 6.28 简答题\n",
    "逻辑与 and 和逻辑或 or 运算符并不必然计算 (evaluate) 所涉及的每⼀个表达式，他们不计算\n",
    "(evaluate) 某表达式的情况分别是什么？他们的返回值并不必然是 True 或 False，⽽是什么？请举例。"
   ]
  },
  {
   "cell_type": "markdown",
   "metadata": {},
   "source": [
    "- 1.逻辑与的短路规则（and前为假则不计算and后的表达式）"
   ]
  },
  {
   "cell_type": "markdown",
   "metadata": {},
   "source": [
    "需要注意， `x`and `y `逻辑与 (logical AND) 运算并⾮计算出 True 或 False，⽽是根据 x 的逻辑判断\n",
    "(truth value testing) 返回` x` 或` y `：只有当表达式 (expression) x 判断为逻辑真 (True) 时，` x` and`y`\n",
    "才进⼀步计算 (evaluate) 并返回`y` ；否则，只要` x` 为`逻辑假` (False)，就`直接`返回 `x` ，根本不计算\n",
    "`y `，这种有可能不计算表达式` y` 的规则被称为 `短路规则` (short-circuit rule)。例如："
   ]
  },
  {
   "cell_type": "code",
   "execution_count": 83,
   "metadata": {},
   "outputs": [
    {
     "data": {
      "text/plain": [
       "''"
      ]
     },
     "execution_count": 83,
     "metadata": {},
     "output_type": "execute_result"
    },
    {
     "data": {
      "text/plain": [
       "'False'"
      ]
     },
     "execution_count": 83,
     "metadata": {},
     "output_type": "execute_result"
    },
    {
     "data": {
      "text/plain": [
       "'False'"
      ]
     },
     "execution_count": 83,
     "metadata": {},
     "output_type": "execute_result"
    }
   ],
   "source": [
    "A = \"\"\n",
    "B = \"False\"\n",
    "A and B\n",
    "A or B\n",
    "B or A"
   ]
  },
  {
   "cell_type": "markdown",
   "metadata": {},
   "source": [
    "- 2.逻辑或的短路规则（若and前为真则不计算and后的表达式）"
   ]
  },
  {
   "cell_type": "code",
   "execution_count": 84,
   "metadata": {},
   "outputs": [
    {
     "data": {
      "text/plain": [
       "'a'"
      ]
     },
     "execution_count": 84,
     "metadata": {},
     "output_type": "execute_result"
    },
    {
     "data": {
      "text/plain": [
       "3"
      ]
     },
     "execution_count": 84,
     "metadata": {},
     "output_type": "execute_result"
    },
    {
     "data": {
      "text/plain": [
       "[5]"
      ]
     },
     "execution_count": 84,
     "metadata": {},
     "output_type": "execute_result"
    },
    {
     "name": "stdout",
     "output_type": "stream",
     "text": [
      "ok\n"
     ]
    },
    {
     "data": {
      "text/plain": [
       "{'a': 1}"
      ]
     },
     "execution_count": 84,
     "metadata": {},
     "output_type": "execute_result"
    },
    {
     "data": {
      "text/plain": [
       "1"
      ]
     },
     "execution_count": 84,
     "metadata": {},
     "output_type": "execute_result"
    },
    {
     "data": {
      "text/plain": [
       "{}"
      ]
     },
     "execution_count": 84,
     "metadata": {},
     "output_type": "execute_result"
    },
    {
     "data": {
      "text/plain": [
       "{'a': 2}"
      ]
     },
     "execution_count": 84,
     "metadata": {},
     "output_type": "execute_result"
    }
   ],
   "source": [
    "'a' or 'b'\n",
    "len([1, 2, 3] or [])\n",
    "[5] or print('ok') # 注意 print('ok') 不被运⾏\n",
    "{} or print('ok') # 注意返回的是 None ⽽不是 ok，ok 是被 print 的\n",
    "d = {}\n",
    "d.update({'a': 1})\n",
    "d\n",
    "d.pop('a')\n",
    "d\n",
    "d or d.update({'a': 2})\n",
    "d"
   ]
  },
  {
   "cell_type": "markdown",
   "metadata": {},
   "source": [
    "#### 小结：and要假or要真"
   ]
  },
  {
   "cell_type": "markdown",
   "metadata": {},
   "source": [
    "- 3.三元表达式的短路规则（判断短路））（暂不说明）"
   ]
  },
  {
   "cell_type": "markdown",
   "metadata": {},
   "source": [
    "### 6.29 简答题\n",
    "请简述你对三元条件表达式 (ternary conditional expression) 的理解并举例说明。"
   ]
  },
  {
   "cell_type": "markdown",
   "metadata": {},
   "source": [
    "- 三元条件表达式 (ternary conditional expression) x if b else y 会先对表达式 b 进⾏逻辑判断\n",
    "(truth value testing)，为逻辑真 (True) 则计算 (evaluate) 并返回 x ，根本不计算 (evaluate) y ，为逻\n",
    "辑假 (False) 则计算 (evaluate) 并返回 y ，根本不计算 (evaluate) x 。也就是说，在三元条件表达式\n",
    "(ternary conditonal expression) ⾥，表达式 (expression) x 和 y 中只有⼀个会被计算 (evaluate)，\n",
    "也遵循` 短路规则` (short-circuit rule)。例如："
   ]
  },
  {
   "cell_type": "code",
   "execution_count": 85,
   "metadata": {},
   "outputs": [
    {
     "data": {
      "text/plain": [
       "'ok'"
      ]
     },
     "execution_count": 85,
     "metadata": {},
     "output_type": "execute_result"
    },
    {
     "data": {
      "text/plain": [
       "'ok'"
      ]
     },
     "execution_count": 85,
     "metadata": {},
     "output_type": "execute_result"
    }
   ],
   "source": [
    "'ok' if [1, 2, 3].pop() else print('miss') # 注意列表的 pop ⽅法有返回值\n",
    "print('miss')  if [1, 2, 3].append(4) else 'ok' # 注意列表的 append ⽅法返回 None"
   ]
  },
  {
   "cell_type": "markdown",
   "metadata": {},
   "source": [
    "#### 个人简述"
   ]
  },
  {
   "cell_type": "markdown",
   "metadata": {},
   "source": [
    "三元表达式有点类似将if...else...判断语句以推导式的形式表示（推导式其实也类似for循环和if判断语句的综合），也即将if...else..y语句的判断执行这个过程直接写在一行，能简化界面、高效写作"
   ]
  },
  {
   "cell_type": "markdown",
   "metadata": {},
   "source": [
    "要注意的是，三元表达式判断的语句一般是if后面紧跟的表达式的逻辑真假“ True or False ”,也即如果该表达式是True，则计算并输出if前的基础语句，否则会计算并输出else后的补充语句\n",
    "\n",
    "和容器推导式相似但有明显区别"
   ]
  },
  {
   "cell_type": "code",
   "execution_count": 86,
   "metadata": {
    "scrolled": true
   },
   "outputs": [
    {
     "name": "stdout",
     "output_type": "stream",
     "text": [
      "a\n"
     ]
    },
    {
     "data": {
      "text/plain": [
       "[None]"
      ]
     },
     "execution_count": 86,
     "metadata": {},
     "output_type": "execute_result"
    },
    {
     "name": "stdout",
     "output_type": "stream",
     "text": [
      "我是字符串，代表True,if后面紧跟的\"\"是空字符串，代表False\n",
      "57\n"
     ]
    }
   ],
   "source": [
    "[print(\"a\") for i in range(5) if i>3]\n",
    "print('Hello World') if \"\" else  print(\"我是字符串，代表True,if后面紧跟的\\\"\\\"是空字符串，代表False\")\n",
    "import numpy as np\n",
    "k = 0\n",
    "for i in range(100):\n",
    "    k =k+ (1   if np.random.randn() > 0 else  0)\n",
    "print(k)"
   ]
  },
  {
   "cell_type": "markdown",
   "metadata": {},
   "source": [
    "### 6.30 简答题\n",
    "请简述 lambda 表达式 (lambda expression) 的签名 (signature) 的设定⽅式，并举例说明。"
   ]
  },
  {
   "cell_type": "markdown",
   "metadata": {},
   "source": [
    "####  Lambda 表达式\n",
    "Lambda 表达式 (lambda expression) 是运算优先级 (priority) 最低的⼀种表达式 (expression) 语法\n",
    "(syntax)，⽤于定义 匿名函数 (anonymous function)。"
   ]
  },
  {
   "cell_type": "markdown",
   "metadata": {},
   "source": [
    "- 某些程度上来说他已经不是表达式了，而是函数以表达式形式的匿名展现"
   ]
  },
  {
   "cell_type": "code",
   "execution_count": 87,
   "metadata": {},
   "outputs": [],
   "source": [
    "import inspect\n",
    "##inspect.signature(open)"
   ]
  },
  {
   "cell_type": "markdown",
   "metadata": {},
   "source": [
    "#### Lamdba表达式签名的设定方式："
   ]
  },
  {
   "cell_type": "code",
   "execution_count": 88,
   "metadata": {},
   "outputs": [
    {
     "data": {
      "text/plain": [
       "<Signature (x, y, *, remainder=True)>"
      ]
     },
     "execution_count": 88,
     "metadata": {},
     "output_type": "execute_result"
    }
   ],
   "source": [
    "f = lambda x, y, *, remainder=True: divmod(x, y) if remainder else x/y # 匿名函数命名为 divide\n",
    "inspect.signature(f)"
   ]
  },
  {
   "cell_type": "markdown",
   "metadata": {},
   "source": [
    "以上面这个函数为例:\n",
    "想要设定表达式f的签名的话，在lambda之后冒号之前就要设定\n",
    "\n",
    "具体的设定方式是在lambda之后：之前给定所需要的变量名称，`*`之后的变量名需要设定其默认值且只能作为命名形参接收传递的命名实参,`*`之前的变量可以作为命名或者定位形参来接收实参（都可以接受），但是如果只有两个定位形参的话要么全部接收定位实参要么全部接收命名实参"
   ]
  },
  {
   "cell_type": "markdown",
   "metadata": {},
   "source": [
    "*之前的参数为止既可以接受定位实参也可以接受命名实参"
   ]
  },
  {
   "cell_type": "code",
   "execution_count": 89,
   "metadata": {
    "scrolled": true
   },
   "outputs": [
    {
     "data": {
      "text/plain": [
       "(3, 1)"
      ]
     },
     "execution_count": 89,
     "metadata": {},
     "output_type": "execute_result"
    },
    {
     "data": {
      "text/plain": [
       "(3, 1)"
      ]
     },
     "execution_count": 89,
     "metadata": {},
     "output_type": "execute_result"
    }
   ],
   "source": [
    "f(10,3)\n",
    "f(x=10,y=3)\n",
    "#f(x = 10, 3)"
   ]
  },
  {
   "cell_type": "markdown",
   "metadata": {},
   "source": [
    "*之后的参数位置都是命名形参位，只接受传递的命名实参"
   ]
  },
  {
   "cell_type": "code",
   "execution_count": 90,
   "metadata": {},
   "outputs": [
    {
     "data": {
      "text/plain": [
       "3.3333333333333335"
      ]
     },
     "execution_count": 90,
     "metadata": {},
     "output_type": "execute_result"
    }
   ],
   "source": [
    "f(x=10,y=3,remainder = False)\n",
    "#f(x=10,y=3, False)"
   ]
  },
  {
   "cell_type": "code",
   "execution_count": 91,
   "metadata": {},
   "outputs": [],
   "source": [
    "f1 = lambda x, y,z,*, remainder=True: divmod(x, y)+(z,) if remainder else x/y*z # 匿名函数命名为 divide"
   ]
  },
  {
   "cell_type": "code",
   "execution_count": 92,
   "metadata": {},
   "outputs": [
    {
     "data": {
      "text/plain": [
       "(3, 1, 1)"
      ]
     },
     "execution_count": 92,
     "metadata": {},
     "output_type": "execute_result"
    },
    {
     "data": {
      "text/plain": [
       "(3, 1, 1)"
      ]
     },
     "execution_count": 92,
     "metadata": {},
     "output_type": "execute_result"
    }
   ],
   "source": [
    "f1(10,3,1)\n",
    "f1(10 ,3, z=1)"
   ]
  },
  {
   "cell_type": "markdown",
   "metadata": {},
   "source": [
    "### 6.31 简答题\n",
    "请简述你对⾼阶函数 (higher order function) 的理解，并对⾼阶函数 (higher order function) 使⽤\n",
    "lambda 表达式 (lambda expression) 进⾏举例说明。"
   ]
  },
  {
   "cell_type": "markdown",
   "metadata": {},
   "source": [
    "- 可以接受可调⽤ (callable) 对象 (object) 作为实参 (argument) 的函数 (function)，被称为 ⾼阶函数 (higher-order function)\n",
    "\n",
    "- 即一个函数就可以接收另一个函数作为参数，就称之为高阶函数"
   ]
  },
  {
   "cell_type": "markdown",
   "metadata": {},
   "source": [
    "#### 教程举例"
   ]
  },
  {
   "cell_type": "code",
   "execution_count": 93,
   "metadata": {},
   "outputs": [
    {
     "data": {
      "text/plain": [
       "['Drivers', 'User', 'bin', 'etc', 'local']"
      ]
     },
     "execution_count": 93,
     "metadata": {},
     "output_type": "execute_result"
    },
    {
     "data": {
      "text/plain": [
       "['bin', 'Drivers', 'etc', 'local', 'User']"
      ]
     },
     "execution_count": 93,
     "metadata": {},
     "output_type": "execute_result"
    },
    {
     "data": {
      "text/plain": [
       "['etc', 'local', 'bin', 'User', 'Drivers']"
      ]
     },
     "execution_count": 93,
     "metadata": {},
     "output_type": "execute_result"
    },
    {
     "data": {
      "text/plain": [
       "['Drivers', 'User', 'bin', 'local', 'etc']"
      ]
     },
     "execution_count": 93,
     "metadata": {},
     "output_type": "execute_result"
    }
   ],
   "source": [
    "l = ['bin', 'User', 'etc', 'local', 'Drivers']\n",
    "sorted(l) # 排序区分⼤⼩写\n",
    "\n",
    "sorted(l, key=lambda k: k.lower()) # 排序不区分⼤⼩写\n",
    "sorted(l, key=lambda s: s[::-1]) # 从字符串末尾字符开始⽐较排序\n",
    "\n",
    "sorted(l, key=lambda s: s[::-1],reverse = True)"
   ]
  },
  {
   "cell_type": "markdown",
   "metadata": {},
   "source": [
    "sorted就是一个高级函数"
   ]
  },
  {
   "cell_type": "markdown",
   "metadata": {},
   "source": [
    "在这之中，内部计算过程中每个s或者k都依次代表l里面的一个元素"
   ]
  },
  {
   "cell_type": "code",
   "execution_count": 94,
   "metadata": {},
   "outputs": [
    {
     "data": {
      "text/plain": [
       "[('a', 4), ('b', 5), ('c', 6), ('e', 1)]"
      ]
     },
     "execution_count": 94,
     "metadata": {},
     "output_type": "execute_result"
    }
   ],
   "source": [
    "a = [('a',4),('b',5),('e',1),('c',6)]\n",
    "sorted(a, key = lambda x : x[0])"
   ]
  },
  {
   "cell_type": "markdown",
   "metadata": {},
   "source": [
    "[python3排序,sorted,key=lambda](https://www.cnblogs.com/zle1992/p/6271105.html)"
   ]
  },
  {
   "cell_type": "markdown",
   "metadata": {},
   "source": [
    "#### 根据个人理解举例："
   ]
  },
  {
   "cell_type": "code",
   "execution_count": 95,
   "metadata": {},
   "outputs": [
    {
     "data": {
      "text/plain": [
       "5"
      ]
     },
     "execution_count": 95,
     "metadata": {},
     "output_type": "execute_result"
    }
   ],
   "source": [
    "def f(k):\n",
    "    return k + 1\n",
    "def add(x, y, f):\n",
    "    return f(x) + f(y);\n",
    "add(1,2,f)"
   ]
  },
  {
   "cell_type": "code",
   "execution_count": null,
   "metadata": {},
   "outputs": [],
   "source": []
  },
  {
   "cell_type": "markdown",
   "metadata": {},
   "source": [
    "例中add函数可以接受f函数作为参数（变量），add函数就是一个高级函数"
   ]
  }
 ],
 "metadata": {
  "kernelspec": {
   "display_name": "Python 3",
   "language": "python",
   "name": "python3"
  },
  "language_info": {
   "codemirror_mode": {
    "name": "ipython",
    "version": 3
   },
   "file_extension": ".py",
   "mimetype": "text/x-python",
   "name": "python",
   "nbconvert_exporter": "python",
   "pygments_lexer": "ipython3",
   "version": "3.7.7"
  }
 },
 "nbformat": 4,
 "nbformat_minor": 1
}
